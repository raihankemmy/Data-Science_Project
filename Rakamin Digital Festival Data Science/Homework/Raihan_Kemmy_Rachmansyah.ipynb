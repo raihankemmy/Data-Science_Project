{
 "cells": [
  {
   "attachments": {},
   "cell_type": "markdown",
   "id": "553dbe77",
   "metadata": {},
   "source": [
    "Author: Raihan Kemmy Rachmansyah\n"
   ]
  },
  {
   "attachments": {},
   "cell_type": "markdown",
   "id": "abf05cad",
   "metadata": {},
   "source": [
    "# Import Libraries\n"
   ]
  },
  {
   "cell_type": "code",
   "execution_count": 1,
   "id": "895f458c",
   "metadata": {},
   "outputs": [],
   "source": [
    "import pandas as pd\n",
    "import seaborn as sns\n",
    "import matplotlib.pyplot as plt\n",
    "from datetime import date\n"
   ]
  },
  {
   "attachments": {},
   "cell_type": "markdown",
   "id": "baa49998",
   "metadata": {},
   "source": [
    "# Load Dataset\n"
   ]
  },
  {
   "cell_type": "code",
   "execution_count": 2,
   "id": "bc091ff6",
   "metadata": {},
   "outputs": [
    {
     "data": {
      "text/html": [
       "<div>\n",
       "<style scoped>\n",
       "    .dataframe tbody tr th:only-of-type {\n",
       "        vertical-align: middle;\n",
       "    }\n",
       "\n",
       "    .dataframe tbody tr th {\n",
       "        vertical-align: top;\n",
       "    }\n",
       "\n",
       "    .dataframe thead th {\n",
       "        text-align: right;\n",
       "    }\n",
       "</style>\n",
       "<table border=\"1\" class=\"dataframe\">\n",
       "  <thead>\n",
       "    <tr style=\"text-align: right;\">\n",
       "      <th></th>\n",
       "      <th>loan_id</th>\n",
       "      <th>birth_date</th>\n",
       "      <th>phone_number</th>\n",
       "      <th>gender</th>\n",
       "      <th>married</th>\n",
       "      <th>dependents</th>\n",
       "      <th>education</th>\n",
       "      <th>self_employed</th>\n",
       "      <th>applicant_income</th>\n",
       "      <th>coapplicant_income</th>\n",
       "      <th>loan_amount</th>\n",
       "      <th>loan_term_month</th>\n",
       "      <th>loan_term_year</th>\n",
       "      <th>credit_history</th>\n",
       "      <th>has_credit_card</th>\n",
       "      <th>property_type</th>\n",
       "      <th>loan_status</th>\n",
       "    </tr>\n",
       "  </thead>\n",
       "  <tbody>\n",
       "    <tr>\n",
       "      <th>215</th>\n",
       "      <td>LP001716</td>\n",
       "      <td>1985-09-25</td>\n",
       "      <td>6.287748e+11</td>\n",
       "      <td>Male</td>\n",
       "      <td>Yes</td>\n",
       "      <td>0</td>\n",
       "      <td>Graduate</td>\n",
       "      <td>No</td>\n",
       "      <td>3173.0</td>\n",
       "      <td>3021.0</td>\n",
       "      <td>137000</td>\n",
       "      <td>360</td>\n",
       "      <td>30</td>\n",
       "      <td>1.0</td>\n",
       "      <td>NaN</td>\n",
       "      <td>house</td>\n",
       "      <td>APPROVE</td>\n",
       "    </tr>\n",
       "    <tr>\n",
       "      <th>356</th>\n",
       "      <td>LP002142</td>\n",
       "      <td>1991-08-22</td>\n",
       "      <td>6.287746e+11</td>\n",
       "      <td>Female</td>\n",
       "      <td>Yes</td>\n",
       "      <td>0</td>\n",
       "      <td>Graduate</td>\n",
       "      <td>Yes</td>\n",
       "      <td>5500.0</td>\n",
       "      <td>0.0</td>\n",
       "      <td>105000</td>\n",
       "      <td>360</td>\n",
       "      <td>30</td>\n",
       "      <td>0.0</td>\n",
       "      <td>NaN</td>\n",
       "      <td>studio</td>\n",
       "      <td>REJECT</td>\n",
       "    </tr>\n",
       "    <tr>\n",
       "      <th>69</th>\n",
       "      <td>LP001241</td>\n",
       "      <td>1978-01-31</td>\n",
       "      <td>6.285741e+11</td>\n",
       "      <td>Female</td>\n",
       "      <td>No</td>\n",
       "      <td>0</td>\n",
       "      <td>Graduate</td>\n",
       "      <td>No</td>\n",
       "      <td>4300.0</td>\n",
       "      <td>0.0</td>\n",
       "      <td>136000</td>\n",
       "      <td>360</td>\n",
       "      <td>30</td>\n",
       "      <td>0.0</td>\n",
       "      <td>NaN</td>\n",
       "      <td>apartment</td>\n",
       "      <td>REJECT</td>\n",
       "    </tr>\n",
       "    <tr>\n",
       "      <th>594</th>\n",
       "      <td>LP002926</td>\n",
       "      <td>1979-06-10</td>\n",
       "      <td>NaN</td>\n",
       "      <td>Male</td>\n",
       "      <td>Yes</td>\n",
       "      <td>2</td>\n",
       "      <td>Graduate</td>\n",
       "      <td>Yes</td>\n",
       "      <td>2726.0</td>\n",
       "      <td>0.0</td>\n",
       "      <td>106000</td>\n",
       "      <td>360</td>\n",
       "      <td>30</td>\n",
       "      <td>0.0</td>\n",
       "      <td>NaN</td>\n",
       "      <td>apartment</td>\n",
       "      <td>REJECT</td>\n",
       "    </tr>\n",
       "    <tr>\n",
       "      <th>196</th>\n",
       "      <td>LP001665</td>\n",
       "      <td>1978-06-08</td>\n",
       "      <td>6.281387e+10</td>\n",
       "      <td>Male</td>\n",
       "      <td>Yes</td>\n",
       "      <td>1</td>\n",
       "      <td>Graduate</td>\n",
       "      <td>No</td>\n",
       "      <td>3125.0</td>\n",
       "      <td>2583.0</td>\n",
       "      <td>170000</td>\n",
       "      <td>360</td>\n",
       "      <td>30</td>\n",
       "      <td>1.0</td>\n",
       "      <td>NaN</td>\n",
       "      <td>apartment</td>\n",
       "      <td>REJECT</td>\n",
       "    </tr>\n",
       "  </tbody>\n",
       "</table>\n",
       "</div>"
      ],
      "text/plain": [
       "      loan_id  birth_date  phone_number  gender married dependents education  \\\n",
       "215  LP001716  1985-09-25  6.287748e+11    Male     Yes          0  Graduate   \n",
       "356  LP002142  1991-08-22  6.287746e+11  Female     Yes          0  Graduate   \n",
       "69   LP001241  1978-01-31  6.285741e+11  Female      No          0  Graduate   \n",
       "594  LP002926  1979-06-10           NaN    Male     Yes          2  Graduate   \n",
       "196  LP001665  1978-06-08  6.281387e+10    Male     Yes          1  Graduate   \n",
       "\n",
       "    self_employed  applicant_income  coapplicant_income  loan_amount  \\\n",
       "215            No            3173.0              3021.0       137000   \n",
       "356           Yes            5500.0                 0.0       105000   \n",
       "69             No            4300.0                 0.0       136000   \n",
       "594           Yes            2726.0                 0.0       106000   \n",
       "196            No            3125.0              2583.0       170000   \n",
       "\n",
       "     loan_term_month  loan_term_year  credit_history has_credit_card  \\\n",
       "215              360              30             1.0             NaN   \n",
       "356              360              30             0.0             NaN   \n",
       "69               360              30             0.0             NaN   \n",
       "594              360              30             0.0             NaN   \n",
       "196              360              30             1.0             NaN   \n",
       "\n",
       "    property_type loan_status  \n",
       "215         house     APPROVE  \n",
       "356        studio      REJECT  \n",
       "69      apartment      REJECT  \n",
       "594     apartment      REJECT  \n",
       "196     apartment      REJECT  "
      ]
     },
     "execution_count": 2,
     "metadata": {},
     "output_type": "execute_result"
    }
   ],
   "source": [
    "data = pd.read_csv('loan_customer.csv')\n",
    "data.sample(5)"
   ]
  },
  {
   "attachments": {},
   "cell_type": "markdown",
   "id": "7c0e3893",
   "metadata": {},
   "source": [
    "# Data Cleansing\n"
   ]
  },
  {
   "attachments": {},
   "cell_type": "markdown",
   "id": "dc4032a4",
   "metadata": {},
   "source": [
    "## Handling missing values\n"
   ]
  },
  {
   "cell_type": "code",
   "execution_count": 3,
   "id": "9dd164d8",
   "metadata": {},
   "outputs": [
    {
     "name": "stdout",
     "output_type": "stream",
     "text": [
      "<class 'pandas.core.frame.DataFrame'>\n",
      "RangeIndex: 621 entries, 0 to 620\n",
      "Data columns (total 17 columns):\n",
      " #   Column              Non-Null Count  Dtype  \n",
      "---  ------              --------------  -----  \n",
      " 0   loan_id             621 non-null    object \n",
      " 1   birth_date          572 non-null    object \n",
      " 2   phone_number        569 non-null    float64\n",
      " 3   gender              608 non-null    object \n",
      " 4   married             618 non-null    object \n",
      " 5   dependents          605 non-null    object \n",
      " 6   education           620 non-null    object \n",
      " 7   self_employed       588 non-null    object \n",
      " 8   applicant_income    612 non-null    float64\n",
      " 9   coapplicant_income  621 non-null    float64\n",
      " 10  loan_amount         621 non-null    int64  \n",
      " 11  loan_term_month     621 non-null    int64  \n",
      " 12  loan_term_year      621 non-null    int64  \n",
      " 13  credit_history      570 non-null    float64\n",
      " 14  has_credit_card     88 non-null     object \n",
      " 15  property_type       620 non-null    object \n",
      " 16  loan_status         621 non-null    object \n",
      "dtypes: float64(4), int64(3), object(10)\n",
      "memory usage: 82.6+ KB\n"
     ]
    }
   ],
   "source": [
    "data.info()"
   ]
  },
  {
   "cell_type": "code",
   "execution_count": 4,
   "id": "b2b5755e",
   "metadata": {},
   "outputs": [
    {
     "data": {
      "text/plain": [
       "loan_id                 0\n",
       "birth_date             49\n",
       "phone_number           52\n",
       "gender                 13\n",
       "married                 3\n",
       "dependents             16\n",
       "education               1\n",
       "self_employed          33\n",
       "applicant_income        9\n",
       "coapplicant_income      0\n",
       "loan_amount             0\n",
       "loan_term_month         0\n",
       "loan_term_year          0\n",
       "credit_history         51\n",
       "has_credit_card       533\n",
       "property_type           1\n",
       "loan_status             0\n",
       "dtype: int64"
      ]
     },
     "execution_count": 4,
     "metadata": {},
     "output_type": "execute_result"
    }
   ],
   "source": [
    "data.isnull().sum()"
   ]
  },
  {
   "cell_type": "code",
   "execution_count": 5,
   "id": "bff01cb4",
   "metadata": {},
   "outputs": [
    {
     "data": {
      "text/html": [
       "<div>\n",
       "<style scoped>\n",
       "    .dataframe tbody tr th:only-of-type {\n",
       "        vertical-align: middle;\n",
       "    }\n",
       "\n",
       "    .dataframe tbody tr th {\n",
       "        vertical-align: top;\n",
       "    }\n",
       "\n",
       "    .dataframe thead th {\n",
       "        text-align: right;\n",
       "    }\n",
       "</style>\n",
       "<table border=\"1\" class=\"dataframe\">\n",
       "  <thead>\n",
       "    <tr style=\"text-align: right;\">\n",
       "      <th></th>\n",
       "      <th>birth_date</th>\n",
       "      <th>gender</th>\n",
       "      <th>married</th>\n",
       "      <th>dependents</th>\n",
       "      <th>education</th>\n",
       "      <th>self_employed</th>\n",
       "      <th>has_credit_card</th>\n",
       "      <th>property_type</th>\n",
       "    </tr>\n",
       "  </thead>\n",
       "  <tbody>\n",
       "    <tr>\n",
       "      <th>count</th>\n",
       "      <td>572</td>\n",
       "      <td>608</td>\n",
       "      <td>618</td>\n",
       "      <td>605</td>\n",
       "      <td>620</td>\n",
       "      <td>588</td>\n",
       "      <td>88</td>\n",
       "      <td>620</td>\n",
       "    </tr>\n",
       "    <tr>\n",
       "      <th>unique</th>\n",
       "      <td>541</td>\n",
       "      <td>2</td>\n",
       "      <td>2</td>\n",
       "      <td>4</td>\n",
       "      <td>2</td>\n",
       "      <td>2</td>\n",
       "      <td>2</td>\n",
       "      <td>3</td>\n",
       "    </tr>\n",
       "    <tr>\n",
       "      <th>top</th>\n",
       "      <td>1987-10-18</td>\n",
       "      <td>Male</td>\n",
       "      <td>Yes</td>\n",
       "      <td>0</td>\n",
       "      <td>Graduate</td>\n",
       "      <td>No</td>\n",
       "      <td>no</td>\n",
       "      <td>apartment</td>\n",
       "    </tr>\n",
       "    <tr>\n",
       "      <th>freq</th>\n",
       "      <td>2</td>\n",
       "      <td>495</td>\n",
       "      <td>403</td>\n",
       "      <td>349</td>\n",
       "      <td>485</td>\n",
       "      <td>506</td>\n",
       "      <td>52</td>\n",
       "      <td>235</td>\n",
       "    </tr>\n",
       "  </tbody>\n",
       "</table>\n",
       "</div>"
      ],
      "text/plain": [
       "        birth_date gender married dependents education self_employed  \\\n",
       "count          572    608     618        605       620           588   \n",
       "unique         541      2       2          4         2             2   \n",
       "top     1987-10-18   Male     Yes          0  Graduate            No   \n",
       "freq             2    495     403        349       485           506   \n",
       "\n",
       "       has_credit_card property_type  \n",
       "count               88           620  \n",
       "unique               2             3  \n",
       "top                 no     apartment  \n",
       "freq                52           235  "
      ]
     },
     "execution_count": 5,
     "metadata": {},
     "output_type": "execute_result"
    }
   ],
   "source": [
    "kolom = data.columns[data.isnull().sum() > 0]\n",
    "data[kolom].select_dtypes(include='object').describe()"
   ]
  },
  {
   "cell_type": "code",
   "execution_count": 6,
   "id": "4642d9cc",
   "metadata": {},
   "outputs": [
    {
     "data": {
      "text/html": [
       "<div>\n",
       "<style scoped>\n",
       "    .dataframe tbody tr th:only-of-type {\n",
       "        vertical-align: middle;\n",
       "    }\n",
       "\n",
       "    .dataframe tbody tr th {\n",
       "        vertical-align: top;\n",
       "    }\n",
       "\n",
       "    .dataframe thead th {\n",
       "        text-align: right;\n",
       "    }\n",
       "</style>\n",
       "<table border=\"1\" class=\"dataframe\">\n",
       "  <thead>\n",
       "    <tr style=\"text-align: right;\">\n",
       "      <th></th>\n",
       "      <th>phone_number</th>\n",
       "      <th>applicant_income</th>\n",
       "      <th>credit_history</th>\n",
       "    </tr>\n",
       "  </thead>\n",
       "  <tbody>\n",
       "    <tr>\n",
       "      <th>count</th>\n",
       "      <td>5.690000e+02</td>\n",
       "      <td>612.000000</td>\n",
       "      <td>570.000000</td>\n",
       "    </tr>\n",
       "    <tr>\n",
       "      <th>mean</th>\n",
       "      <td>5.468552e+11</td>\n",
       "      <td>5681.549020</td>\n",
       "      <td>0.842105</td>\n",
       "    </tr>\n",
       "    <tr>\n",
       "      <th>std</th>\n",
       "      <td>1.987860e+11</td>\n",
       "      <td>9056.454103</td>\n",
       "      <td>0.364963</td>\n",
       "    </tr>\n",
       "    <tr>\n",
       "      <th>min</th>\n",
       "      <td>6.281101e+10</td>\n",
       "      <td>150.000000</td>\n",
       "      <td>0.000000</td>\n",
       "    </tr>\n",
       "    <tr>\n",
       "      <th>25%</th>\n",
       "      <td>6.281140e+11</td>\n",
       "      <td>2874.500000</td>\n",
       "      <td>1.000000</td>\n",
       "    </tr>\n",
       "    <tr>\n",
       "      <th>50%</th>\n",
       "      <td>6.281343e+11</td>\n",
       "      <td>3812.500000</td>\n",
       "      <td>1.000000</td>\n",
       "    </tr>\n",
       "    <tr>\n",
       "      <th>75%</th>\n",
       "      <td>6.285665e+11</td>\n",
       "      <td>5815.750000</td>\n",
       "      <td>1.000000</td>\n",
       "    </tr>\n",
       "    <tr>\n",
       "      <th>max</th>\n",
       "      <td>6.287799e+11</td>\n",
       "      <td>170578.000000</td>\n",
       "      <td>1.000000</td>\n",
       "    </tr>\n",
       "  </tbody>\n",
       "</table>\n",
       "</div>"
      ],
      "text/plain": [
       "       phone_number  applicant_income  credit_history\n",
       "count  5.690000e+02        612.000000      570.000000\n",
       "mean   5.468552e+11       5681.549020        0.842105\n",
       "std    1.987860e+11       9056.454103        0.364963\n",
       "min    6.281101e+10        150.000000        0.000000\n",
       "25%    6.281140e+11       2874.500000        1.000000\n",
       "50%    6.281343e+11       3812.500000        1.000000\n",
       "75%    6.285665e+11       5815.750000        1.000000\n",
       "max    6.287799e+11     170578.000000        1.000000"
      ]
     },
     "execution_count": 6,
     "metadata": {},
     "output_type": "execute_result"
    }
   ],
   "source": [
    "data[kolom].select_dtypes(exclude='object').describe()"
   ]
  },
  {
   "cell_type": "code",
   "execution_count": 7,
   "id": "cb428569",
   "metadata": {},
   "outputs": [
    {
     "name": "stdout",
     "output_type": "stream",
     "text": [
      "Total Data 621\n",
      "5% Dari Total Data 62.1\n"
     ]
    }
   ],
   "source": [
    "print(f'Total Data {data.shape[0]}')\n",
    "print(f'5% Dari Total Data {(data.shape[0]*10)/100}')"
   ]
  },
  {
   "cell_type": "code",
   "execution_count": 8,
   "id": "c2a9be23",
   "metadata": {},
   "outputs": [
    {
     "data": {
      "text/plain": [
       "Index(['birth_date', 'phone_number', 'credit_history', 'has_credit_card'], dtype='object')"
      ]
     },
     "execution_count": 8,
     "metadata": {},
     "output_type": "execute_result"
    }
   ],
   "source": [
    "data.columns[data.isnull().sum() > 40]"
   ]
  },
  {
   "attachments": {},
   "cell_type": "markdown",
   "id": "37099632",
   "metadata": {},
   "source": [
    "<b>Mengisi Data</b> pada kolom yang memiliki jumlah missing value lebih dari 10% dari total data<br>\n",
    "<b>Membuang Data</b> pada kolom yang memiliki jumlah missing value kurang dari 10% dari total data\n"
   ]
  },
  {
   "cell_type": "code",
   "execution_count": 9,
   "id": "7e919459",
   "metadata": {},
   "outputs": [
    {
     "data": {
      "text/plain": [
       "loan_id               0\n",
       "birth_date            0\n",
       "phone_number          0\n",
       "gender                0\n",
       "married               0\n",
       "dependents            0\n",
       "education             0\n",
       "self_employed         0\n",
       "applicant_income      0\n",
       "coapplicant_income    0\n",
       "loan_amount           0\n",
       "loan_term_month       0\n",
       "loan_term_year        0\n",
       "credit_history        0\n",
       "has_credit_card       0\n",
       "property_type         0\n",
       "loan_status           0\n",
       "dtype: int64"
      ]
     },
     "execution_count": 9,
     "metadata": {},
     "output_type": "execute_result"
    }
   ],
   "source": [
    "data[['has_credit_card', 'birth_date', 'phone_number']] = data[['has_credit_card', 'birth_date', 'phone_number']].fillna('Unknown')\n",
    "data['credit_history'].fillna(0.0, inplace=True)\n",
    "data.dropna(inplace=True)\n",
    "\n",
    "data.isnull().sum()"
   ]
  },
  {
   "cell_type": "code",
   "execution_count": 10,
   "id": "f2b8640c",
   "metadata": {},
   "outputs": [
    {
     "name": "stdout",
     "output_type": "stream",
     "text": [
      "Total Data Setelah Handling Missing Value 552 Data\n"
     ]
    }
   ],
   "source": [
    "print(f'Total Data Setelah Handling Missing Value {data.shape[0]} Data')"
   ]
  },
  {
   "attachments": {},
   "cell_type": "markdown",
   "id": "d75d760e",
   "metadata": {},
   "source": [
    "## Handling duplicated data\n"
   ]
  },
  {
   "cell_type": "code",
   "execution_count": 11,
   "id": "f040795a",
   "metadata": {},
   "outputs": [
    {
     "data": {
      "text/plain": [
       "5"
      ]
     },
     "execution_count": 11,
     "metadata": {},
     "output_type": "execute_result"
    }
   ],
   "source": [
    "data['loan_id'].duplicated().sum()"
   ]
  },
  {
   "cell_type": "code",
   "execution_count": 12,
   "id": "30671af0",
   "metadata": {},
   "outputs": [
    {
     "data": {
      "text/html": [
       "<div>\n",
       "<style scoped>\n",
       "    .dataframe tbody tr th:only-of-type {\n",
       "        vertical-align: middle;\n",
       "    }\n",
       "\n",
       "    .dataframe tbody tr th {\n",
       "        vertical-align: top;\n",
       "    }\n",
       "\n",
       "    .dataframe thead th {\n",
       "        text-align: right;\n",
       "    }\n",
       "</style>\n",
       "<table border=\"1\" class=\"dataframe\">\n",
       "  <thead>\n",
       "    <tr style=\"text-align: right;\">\n",
       "      <th></th>\n",
       "      <th>loan_id</th>\n",
       "      <th>birth_date</th>\n",
       "      <th>phone_number</th>\n",
       "      <th>gender</th>\n",
       "      <th>married</th>\n",
       "      <th>dependents</th>\n",
       "      <th>education</th>\n",
       "      <th>self_employed</th>\n",
       "      <th>applicant_income</th>\n",
       "      <th>coapplicant_income</th>\n",
       "      <th>loan_amount</th>\n",
       "      <th>loan_term_month</th>\n",
       "      <th>loan_term_year</th>\n",
       "      <th>credit_history</th>\n",
       "      <th>has_credit_card</th>\n",
       "      <th>property_type</th>\n",
       "      <th>loan_status</th>\n",
       "    </tr>\n",
       "  </thead>\n",
       "  <tbody>\n",
       "    <tr>\n",
       "      <th>89</th>\n",
       "      <td>LP001310</td>\n",
       "      <td>1987-10-18</td>\n",
       "      <td>628131021360.0</td>\n",
       "      <td>Male</td>\n",
       "      <td>Yes</td>\n",
       "      <td>0</td>\n",
       "      <td>Graduate</td>\n",
       "      <td>No</td>\n",
       "      <td>5695.0</td>\n",
       "      <td>4167.0</td>\n",
       "      <td>175000</td>\n",
       "      <td>360</td>\n",
       "      <td>30</td>\n",
       "      <td>1.0</td>\n",
       "      <td>Unknown</td>\n",
       "      <td>apartment</td>\n",
       "      <td>APPROVE</td>\n",
       "    </tr>\n",
       "    <tr>\n",
       "      <th>90</th>\n",
       "      <td>LP001310</td>\n",
       "      <td>1987-10-18</td>\n",
       "      <td>628131021360.0</td>\n",
       "      <td>Male</td>\n",
       "      <td>Yes</td>\n",
       "      <td>0</td>\n",
       "      <td>Graduate</td>\n",
       "      <td>No</td>\n",
       "      <td>5695.0</td>\n",
       "      <td>4167.0</td>\n",
       "      <td>175000</td>\n",
       "      <td>360</td>\n",
       "      <td>30</td>\n",
       "      <td>1.0</td>\n",
       "      <td>no</td>\n",
       "      <td>apartment</td>\n",
       "      <td>APPROVE</td>\n",
       "    </tr>\n",
       "    <tr>\n",
       "      <th>278</th>\n",
       "      <td>LP001904</td>\n",
       "      <td>1986-01-30</td>\n",
       "      <td>62811520563.0</td>\n",
       "      <td>Male</td>\n",
       "      <td>Yes</td>\n",
       "      <td>0</td>\n",
       "      <td>Graduate</td>\n",
       "      <td>No</td>\n",
       "      <td>3103.0</td>\n",
       "      <td>1300.0</td>\n",
       "      <td>80000</td>\n",
       "      <td>360</td>\n",
       "      <td>30</td>\n",
       "      <td>1.0</td>\n",
       "      <td>Unknown</td>\n",
       "      <td>house</td>\n",
       "      <td>APPROVE</td>\n",
       "    </tr>\n",
       "    <tr>\n",
       "      <th>279</th>\n",
       "      <td>LP001904</td>\n",
       "      <td>1986-01-30</td>\n",
       "      <td>62811520563.0</td>\n",
       "      <td>Male</td>\n",
       "      <td>Yes</td>\n",
       "      <td>0</td>\n",
       "      <td>Graduate</td>\n",
       "      <td>No</td>\n",
       "      <td>3103.0</td>\n",
       "      <td>1300.0</td>\n",
       "      <td>80000</td>\n",
       "      <td>360</td>\n",
       "      <td>30</td>\n",
       "      <td>1.0</td>\n",
       "      <td>Unknown</td>\n",
       "      <td>house</td>\n",
       "      <td>APPROVE</td>\n",
       "    </tr>\n",
       "    <tr>\n",
       "      <th>307</th>\n",
       "      <td>LP001990</td>\n",
       "      <td>1980-08-03</td>\n",
       "      <td>628527921833.0</td>\n",
       "      <td>Male</td>\n",
       "      <td>No</td>\n",
       "      <td>0</td>\n",
       "      <td>Not Graduate</td>\n",
       "      <td>No</td>\n",
       "      <td>2000.0</td>\n",
       "      <td>0.0</td>\n",
       "      <td>119000</td>\n",
       "      <td>360</td>\n",
       "      <td>30</td>\n",
       "      <td>1.0</td>\n",
       "      <td>Unknown</td>\n",
       "      <td>house</td>\n",
       "      <td>REJECT</td>\n",
       "    </tr>\n",
       "    <tr>\n",
       "      <th>308</th>\n",
       "      <td>LP001990</td>\n",
       "      <td>1980-08-03</td>\n",
       "      <td>628527921833.0</td>\n",
       "      <td>Male</td>\n",
       "      <td>No</td>\n",
       "      <td>0</td>\n",
       "      <td>Not Graduate</td>\n",
       "      <td>No</td>\n",
       "      <td>2000.0</td>\n",
       "      <td>0.0</td>\n",
       "      <td>119000</td>\n",
       "      <td>360</td>\n",
       "      <td>30</td>\n",
       "      <td>1.0</td>\n",
       "      <td>yes</td>\n",
       "      <td>house</td>\n",
       "      <td>REJECT</td>\n",
       "    </tr>\n",
       "    <tr>\n",
       "      <th>363</th>\n",
       "      <td>LP002160</td>\n",
       "      <td>1990-11-27</td>\n",
       "      <td>628115255742.0</td>\n",
       "      <td>Male</td>\n",
       "      <td>Yes</td>\n",
       "      <td>3+</td>\n",
       "      <td>Graduate</td>\n",
       "      <td>No</td>\n",
       "      <td>5167.0</td>\n",
       "      <td>3167.0</td>\n",
       "      <td>200000</td>\n",
       "      <td>360</td>\n",
       "      <td>30</td>\n",
       "      <td>1.0</td>\n",
       "      <td>Unknown</td>\n",
       "      <td>apartment</td>\n",
       "      <td>APPROVE</td>\n",
       "    </tr>\n",
       "    <tr>\n",
       "      <th>362</th>\n",
       "      <td>LP002160</td>\n",
       "      <td>1990-11-27</td>\n",
       "      <td>628115255742.0</td>\n",
       "      <td>Male</td>\n",
       "      <td>Yes</td>\n",
       "      <td>3+</td>\n",
       "      <td>Graduate</td>\n",
       "      <td>No</td>\n",
       "      <td>5167.0</td>\n",
       "      <td>3167.0</td>\n",
       "      <td>200000</td>\n",
       "      <td>360</td>\n",
       "      <td>30</td>\n",
       "      <td>1.0</td>\n",
       "      <td>yes</td>\n",
       "      <td>apartment</td>\n",
       "      <td>APPROVE</td>\n",
       "    </tr>\n",
       "    <tr>\n",
       "      <th>401</th>\n",
       "      <td>LP002277</td>\n",
       "      <td>1972-06-12</td>\n",
       "      <td>628138392877.0</td>\n",
       "      <td>Female</td>\n",
       "      <td>No</td>\n",
       "      <td>0</td>\n",
       "      <td>Graduate</td>\n",
       "      <td>No</td>\n",
       "      <td>3180.0</td>\n",
       "      <td>0.0</td>\n",
       "      <td>71000</td>\n",
       "      <td>360</td>\n",
       "      <td>30</td>\n",
       "      <td>0.0</td>\n",
       "      <td>Unknown</td>\n",
       "      <td>house</td>\n",
       "      <td>REJECT</td>\n",
       "    </tr>\n",
       "    <tr>\n",
       "      <th>400</th>\n",
       "      <td>LP002277</td>\n",
       "      <td>1972-06-12</td>\n",
       "      <td>628138392877.0</td>\n",
       "      <td>Female</td>\n",
       "      <td>No</td>\n",
       "      <td>0</td>\n",
       "      <td>Graduate</td>\n",
       "      <td>No</td>\n",
       "      <td>3180.0</td>\n",
       "      <td>0.0</td>\n",
       "      <td>71000</td>\n",
       "      <td>360</td>\n",
       "      <td>30</td>\n",
       "      <td>0.0</td>\n",
       "      <td>yes</td>\n",
       "      <td>house</td>\n",
       "      <td>REJECT</td>\n",
       "    </tr>\n",
       "  </tbody>\n",
       "</table>\n",
       "</div>"
      ],
      "text/plain": [
       "      loan_id  birth_date    phone_number  gender married dependents  \\\n",
       "89   LP001310  1987-10-18  628131021360.0    Male     Yes          0   \n",
       "90   LP001310  1987-10-18  628131021360.0    Male     Yes          0   \n",
       "278  LP001904  1986-01-30   62811520563.0    Male     Yes          0   \n",
       "279  LP001904  1986-01-30   62811520563.0    Male     Yes          0   \n",
       "307  LP001990  1980-08-03  628527921833.0    Male      No          0   \n",
       "308  LP001990  1980-08-03  628527921833.0    Male      No          0   \n",
       "363  LP002160  1990-11-27  628115255742.0    Male     Yes         3+   \n",
       "362  LP002160  1990-11-27  628115255742.0    Male     Yes         3+   \n",
       "401  LP002277  1972-06-12  628138392877.0  Female      No          0   \n",
       "400  LP002277  1972-06-12  628138392877.0  Female      No          0   \n",
       "\n",
       "        education self_employed  applicant_income  coapplicant_income  \\\n",
       "89       Graduate            No            5695.0              4167.0   \n",
       "90       Graduate            No            5695.0              4167.0   \n",
       "278      Graduate            No            3103.0              1300.0   \n",
       "279      Graduate            No            3103.0              1300.0   \n",
       "307  Not Graduate            No            2000.0                 0.0   \n",
       "308  Not Graduate            No            2000.0                 0.0   \n",
       "363      Graduate            No            5167.0              3167.0   \n",
       "362      Graduate            No            5167.0              3167.0   \n",
       "401      Graduate            No            3180.0                 0.0   \n",
       "400      Graduate            No            3180.0                 0.0   \n",
       "\n",
       "     loan_amount  loan_term_month  loan_term_year  credit_history  \\\n",
       "89        175000              360              30             1.0   \n",
       "90        175000              360              30             1.0   \n",
       "278        80000              360              30             1.0   \n",
       "279        80000              360              30             1.0   \n",
       "307       119000              360              30             1.0   \n",
       "308       119000              360              30             1.0   \n",
       "363       200000              360              30             1.0   \n",
       "362       200000              360              30             1.0   \n",
       "401        71000              360              30             0.0   \n",
       "400        71000              360              30             0.0   \n",
       "\n",
       "    has_credit_card property_type loan_status  \n",
       "89          Unknown     apartment     APPROVE  \n",
       "90               no     apartment     APPROVE  \n",
       "278         Unknown         house     APPROVE  \n",
       "279         Unknown         house     APPROVE  \n",
       "307         Unknown         house      REJECT  \n",
       "308             yes         house      REJECT  \n",
       "363         Unknown     apartment     APPROVE  \n",
       "362             yes     apartment     APPROVE  \n",
       "401         Unknown         house      REJECT  \n",
       "400             yes         house      REJECT  "
      ]
     },
     "execution_count": 12,
     "metadata": {},
     "output_type": "execute_result"
    }
   ],
   "source": [
    "data[data['loan_id'].duplicated(keep=False)].sort_values(by=['loan_id', 'has_credit_card'])"
   ]
  },
  {
   "cell_type": "code",
   "execution_count": 13,
   "id": "9ced146b",
   "metadata": {},
   "outputs": [
    {
     "name": "stdout",
     "output_type": "stream",
     "text": [
      "Total Data Setelah Handling Duplicated Data 547 Data\n"
     ]
    }
   ],
   "source": [
    "filter = data[data['loan_id'].duplicated(keep=False)].sort_values(by=['loan_id', 'has_credit_card'])\n",
    "data_filtered = filter.drop_duplicates(subset=['loan_id'], keep='first')\n",
    "\n",
    "data.drop(index=data_filtered.index, inplace=True)\n",
    "print(f'Total Data Setelah Handling Duplicated Data {data.shape[0]} Data')"
   ]
  },
  {
   "cell_type": "code",
   "execution_count": 14,
   "id": "ce4d253a",
   "metadata": {},
   "outputs": [
    {
     "data": {
      "text/plain": [
       "0"
      ]
     },
     "execution_count": 14,
     "metadata": {},
     "output_type": "execute_result"
    }
   ],
   "source": [
    "data['loan_id'].duplicated(keep=False).sum()"
   ]
  },
  {
   "attachments": {},
   "cell_type": "markdown",
   "id": "a73632f3",
   "metadata": {},
   "source": [
    "## Handling Outlier\n"
   ]
  },
  {
   "cell_type": "code",
   "execution_count": 15,
   "id": "4bbd9f55",
   "metadata": {},
   "outputs": [
    {
     "name": "stdout",
     "output_type": "stream",
     "text": [
      "Kolom Numerik\n",
      "Index(['applicant_income', 'coapplicant_income', 'loan_amount',\n",
      "       'loan_term_month', 'loan_term_year', 'credit_history'],\n",
      "      dtype='object')\n",
      "\n",
      "\n",
      "Kolom Kategorik\n",
      "Index(['loan_id', 'birth_date', 'phone_number', 'gender', 'married',\n",
      "       'dependents', 'education', 'self_employed', 'has_credit_card',\n",
      "       'property_type', 'loan_status'],\n",
      "      dtype='object')\n"
     ]
    }
   ],
   "source": [
    "numerik = data.select_dtypes(exclude='object').columns\n",
    "kategorik = data.select_dtypes(include='object').columns\n",
    "\n",
    "print(f'Kolom Numerik\\n{numerik}\\n\\n')\n",
    "print(f'Kolom Kategorik\\n{kategorik}')"
   ]
  },
  {
   "cell_type": "code",
   "execution_count": 16,
   "id": "dfbec136",
   "metadata": {},
   "outputs": [
    {
     "data": {
      "image/png": "[encoded data removed]",
      "text/plain": [
       "<Figure size 1440x576 with 6 Axes>"
      ]
     },
     "metadata": {
      "needs_background": "light"
     },
     "output_type": "display_data"
    }
   ],
   "source": [
    "fig, axes = plt.subplots(nrows=2, ncols=3, figsize=(20, 8))\n",
    "\n",
    "c = 0\n",
    "for a in range(0, 2):\n",
    "    for b in range(0, 3):\n",
    "        if c < len(numerik):\n",
    "            sns.boxplot(x=data[numerik[c]], data=data, orient='h', ax=axes[a, b])\n",
    "            axes[a, b].set_xticks([data[numerik[c]].min(), data[numerik[c]].median(), data[numerik[c]].max()])\n",
    "            c += 1\n",
    "        else:\n",
    "            # Menghapus subplot yang tidak digunakan\n",
    "            fig.delaxes(axes[a, b])"
   ]
  },
  {
   "attachments": {},
   "cell_type": "markdown",
   "id": "c0edce59",
   "metadata": {},
   "source": [
    "<b>Menghapus Outliers\n"
   ]
  },
  {
   "cell_type": "code",
   "execution_count": 17,
   "id": "fd2a6382",
   "metadata": {},
   "outputs": [
    {
     "data": {
      "text/plain": [
       "Index(['applicant_income', 'coapplicant_income', 'loan_amount'], dtype='object')"
      ]
     },
     "execution_count": 17,
     "metadata": {},
     "output_type": "execute_result"
    }
   ],
   "source": [
    "numerik = data.select_dtypes(exclude='object').drop(columns=['credit_history', 'loan_term_month', 'loan_term_year']).columns\n",
    "numerik"
   ]
  },
  {
   "cell_type": "code",
   "execution_count": 18,
   "id": "d52bd193",
   "metadata": {},
   "outputs": [
    {
     "name": "stdout",
     "output_type": "stream",
     "text": [
      "Total Data Setelah Handling Missing Value 476 Data\n"
     ]
    }
   ],
   "source": [
    "# Menghitung Q1 (kuartil pertama) dan Q3 (kuartil ketiga)\n",
    "Q1 = data[numerik].quantile(0.25)\n",
    "Q3 = data[numerik].quantile(0.75)\n",
    "\n",
    "# Menghitung IQR (Interquartile Range)\n",
    "IQR = Q3 - Q1\n",
    "\n",
    "# Menentukan batas bawah dan batas atas\n",
    "lower_bound = Q1 - (1.5 * IQR)\n",
    "upper_bound = Q3 + (1.5 * IQR)\n",
    "\n",
    "# Mendeteksi outliers\n",
    "outliers = ((data[numerik] < lower_bound) | (data[numerik] > upper_bound))\n",
    "\n",
    "# Menghapus data outliers\n",
    "data = data[~outliers.any(axis=1)]\n",
    "\n",
    "print(f'Total Data Setelah Handling Missing Value {data.shape[0]} Data')"
   ]
  },
  {
   "cell_type": "code",
   "execution_count": 19,
   "id": "843f0d26",
   "metadata": {},
   "outputs": [
    {
     "data": {
      "image/png": "[encoded data removed]",
      "text/plain": [
       "<Figure size 1440x576 with 3 Axes>"
      ]
     },
     "metadata": {
      "needs_background": "light"
     },
     "output_type": "display_data"
    }
   ],
   "source": [
    "fig, axes = plt.subplots(nrows=2, ncols=3, figsize=(20, 8))\n",
    "\n",
    "c = 0\n",
    "for a in range(0, 2):\n",
    "    for b in range(0, 3):\n",
    "        if c < len(numerik):\n",
    "            sns.boxplot(x=data[numerik[c]], data=data, orient='h', ax=axes[a, b])\n",
    "            axes[a, b].set_xticks([data[numerik[c]].min(), data[numerik[c]].median(), data[numerik[c]].max()])\n",
    "            c += 1\n",
    "        else:\n",
    "            # Menghapus subplot yang tidak digunakan\n",
    "            fig.delaxes(axes[a, b])"
   ]
  },
  {
   "attachments": {},
   "cell_type": "markdown",
   "id": "9b012342",
   "metadata": {},
   "source": [
    "Data menjadi lebih bersih dari Outliers\n"
   ]
  },
  {
   "attachments": {},
   "cell_type": "markdown",
   "id": "659efbd3",
   "metadata": {},
   "source": [
    "## Feature Encoding\n"
   ]
  },
  {
   "cell_type": "code",
   "execution_count": 20,
   "id": "20e217a2",
   "metadata": {},
   "outputs": [
    {
     "name": "stdout",
     "output_type": "stream",
     "text": [
      "Kolom Numerik\n",
      "Index(['applicant_income', 'coapplicant_income', 'loan_amount',\n",
      "       'loan_term_month', 'loan_term_year', 'credit_history'],\n",
      "      dtype='object')\n",
      "\n",
      "\n",
      "Kolom Kategorik\n",
      "Index(['birth_date', 'gender', 'married', 'dependents', 'education',\n",
      "       'self_employed', 'has_credit_card', 'property_type', 'loan_status'],\n",
      "      dtype='object')\n"
     ]
    }
   ],
   "source": [
    "numerik = data.select_dtypes(exclude='object').columns\n",
    "kategorik = data.select_dtypes(include='object').drop(columns=['phone_number', 'loan_id']).columns\n",
    "\n",
    "print(f'Kolom Numerik\\n{numerik}\\n\\n')\n",
    "print(f'Kolom Kategorik\\n{kategorik}')"
   ]
  },
  {
   "cell_type": "code",
   "execution_count": 21,
   "id": "06fcaf8d",
   "metadata": {},
   "outputs": [
    {
     "data": {
      "text/plain": [
       "birth_date         425\n",
       "gender               2\n",
       "married              2\n",
       "dependents           4\n",
       "education            2\n",
       "self_employed        2\n",
       "has_credit_card      3\n",
       "property_type        3\n",
       "loan_status          2\n",
       "dtype: int64"
      ]
     },
     "execution_count": 21,
     "metadata": {},
     "output_type": "execute_result"
    }
   ],
   "source": [
    "data[kategorik].nunique()"
   ]
  },
  {
   "cell_type": "code",
   "execution_count": 22,
   "id": "c2c5ec41",
   "metadata": {},
   "outputs": [
    {
     "data": {
      "text/html": [
       "<div>\n",
       "<style scoped>\n",
       "    .dataframe tbody tr th:only-of-type {\n",
       "        vertical-align: middle;\n",
       "    }\n",
       "\n",
       "    .dataframe tbody tr th {\n",
       "        vertical-align: top;\n",
       "    }\n",
       "\n",
       "    .dataframe thead th {\n",
       "        text-align: right;\n",
       "    }\n",
       "</style>\n",
       "<table border=\"1\" class=\"dataframe\">\n",
       "  <thead>\n",
       "    <tr style=\"text-align: right;\">\n",
       "      <th></th>\n",
       "      <th>birth_date</th>\n",
       "      <th>gender</th>\n",
       "      <th>married</th>\n",
       "      <th>dependents</th>\n",
       "      <th>education</th>\n",
       "      <th>self_employed</th>\n",
       "      <th>has_credit_card</th>\n",
       "      <th>property_type</th>\n",
       "      <th>loan_status</th>\n",
       "    </tr>\n",
       "  </thead>\n",
       "  <tbody>\n",
       "    <tr>\n",
       "      <th>count</th>\n",
       "      <td>476</td>\n",
       "      <td>476</td>\n",
       "      <td>476</td>\n",
       "      <td>476</td>\n",
       "      <td>476</td>\n",
       "      <td>476</td>\n",
       "      <td>476</td>\n",
       "      <td>476</td>\n",
       "      <td>476</td>\n",
       "    </tr>\n",
       "    <tr>\n",
       "      <th>unique</th>\n",
       "      <td>425</td>\n",
       "      <td>2</td>\n",
       "      <td>2</td>\n",
       "      <td>4</td>\n",
       "      <td>2</td>\n",
       "      <td>2</td>\n",
       "      <td>3</td>\n",
       "      <td>3</td>\n",
       "      <td>2</td>\n",
       "    </tr>\n",
       "    <tr>\n",
       "      <th>top</th>\n",
       "      <td>Unknown</td>\n",
       "      <td>Male</td>\n",
       "      <td>Yes</td>\n",
       "      <td>0</td>\n",
       "      <td>Graduate</td>\n",
       "      <td>No</td>\n",
       "      <td>Unknown</td>\n",
       "      <td>apartment</td>\n",
       "      <td>APPROVE</td>\n",
       "    </tr>\n",
       "    <tr>\n",
       "      <th>freq</th>\n",
       "      <td>37</td>\n",
       "      <td>386</td>\n",
       "      <td>310</td>\n",
       "      <td>279</td>\n",
       "      <td>356</td>\n",
       "      <td>420</td>\n",
       "      <td>407</td>\n",
       "      <td>185</td>\n",
       "      <td>334</td>\n",
       "    </tr>\n",
       "  </tbody>\n",
       "</table>\n",
       "</div>"
      ],
      "text/plain": [
       "       birth_date gender married dependents education self_employed  \\\n",
       "count         476    476     476        476       476           476   \n",
       "unique        425      2       2          4         2             2   \n",
       "top       Unknown   Male     Yes          0  Graduate            No   \n",
       "freq           37    386     310        279       356           420   \n",
       "\n",
       "       has_credit_card property_type loan_status  \n",
       "count              476           476         476  \n",
       "unique               3             3           2  \n",
       "top            Unknown     apartment     APPROVE  \n",
       "freq               407           185         334  "
      ]
     },
     "execution_count": 22,
     "metadata": {},
     "output_type": "execute_result"
    }
   ],
   "source": [
    "data[kategorik].describe()"
   ]
  },
  {
   "attachments": {},
   "cell_type": "markdown",
   "id": "dd929cd4",
   "metadata": {},
   "source": [
    "Melakukan <b>Get Dummies</b> untuk Kolom dengan jumlah data unik < 4 <br>\n",
    "Melakukan <b>Mapping dengan fungsi Map()</b> untuk Kolom dengan jumlah Data Unik >= 4\n"
   ]
  },
  {
   "cell_type": "code",
   "execution_count": 23,
   "id": "84b28bd4",
   "metadata": {},
   "outputs": [
    {
     "name": "stdout",
     "output_type": "stream",
     "text": [
      "Kolom One-Hot\n",
      "Index(['gender', 'married', 'education', 'self_employed', 'has_credit_card',\n",
      "       'property_type', 'loan_status'],\n",
      "      dtype='object')\n",
      "\n",
      "\n",
      "Kolom Label\n",
      "Index(['birth_date', 'dependents'], dtype='object')\n"
     ]
    }
   ],
   "source": [
    "kolom_onehot = data[kategorik].columns[data[kategorik].nunique() < 4]\n",
    "kolom_label = data[kategorik].columns[data[kategorik].nunique() >= 4]\n",
    "\n",
    "print(f'Kolom One-Hot\\n{kolom_onehot}\\n\\n')\n",
    "print(f'Kolom Label\\n{kolom_label}')"
   ]
  },
  {
   "attachments": {},
   "cell_type": "markdown",
   "id": "5757ac3a",
   "metadata": {},
   "source": [
    "<b>Duplikat Dataframe 'data'\n"
   ]
  },
  {
   "cell_type": "code",
   "execution_count": 24,
   "id": "dfc9e03f",
   "metadata": {},
   "outputs": [],
   "source": [
    "data_encode = data.copy"
   ]
  },
  {
   "cell_type": "code",
   "execution_count": 25,
   "id": "7e2b6c96",
   "metadata": {},
   "outputs": [
    {
     "data": {
      "text/html": [
       "<div>\n",
       "<style scoped>\n",
       "    .dataframe tbody tr th:only-of-type {\n",
       "        vertical-align: middle;\n",
       "    }\n",
       "\n",
       "    .dataframe tbody tr th {\n",
       "        vertical-align: top;\n",
       "    }\n",
       "\n",
       "    .dataframe thead th {\n",
       "        text-align: right;\n",
       "    }\n",
       "</style>\n",
       "<table border=\"1\" class=\"dataframe\">\n",
       "  <thead>\n",
       "    <tr style=\"text-align: right;\">\n",
       "      <th></th>\n",
       "      <th>loan_id</th>\n",
       "      <th>birth_date</th>\n",
       "      <th>phone_number</th>\n",
       "      <th>dependents</th>\n",
       "      <th>applicant_income</th>\n",
       "      <th>coapplicant_income</th>\n",
       "      <th>loan_amount</th>\n",
       "      <th>loan_term_month</th>\n",
       "      <th>loan_term_year</th>\n",
       "      <th>credit_history</th>\n",
       "      <th>...</th>\n",
       "      <th>self_employed_No</th>\n",
       "      <th>self_employed_Yes</th>\n",
       "      <th>has_credit_card_Unknown</th>\n",
       "      <th>has_credit_card_no</th>\n",
       "      <th>has_credit_card_yes</th>\n",
       "      <th>property_type_apartment</th>\n",
       "      <th>property_type_house</th>\n",
       "      <th>property_type_studio</th>\n",
       "      <th>loan_status_APPROVE</th>\n",
       "      <th>loan_status_REJECT</th>\n",
       "    </tr>\n",
       "  </thead>\n",
       "  <tbody>\n",
       "    <tr>\n",
       "      <th>348</th>\n",
       "      <td>LP002129</td>\n",
       "      <td>1981-05-10</td>\n",
       "      <td>628116140712.0</td>\n",
       "      <td>0</td>\n",
       "      <td>2499.0</td>\n",
       "      <td>2458.0</td>\n",
       "      <td>160000</td>\n",
       "      <td>360</td>\n",
       "      <td>30</td>\n",
       "      <td>1.0</td>\n",
       "      <td>...</td>\n",
       "      <td>1</td>\n",
       "      <td>0</td>\n",
       "      <td>1</td>\n",
       "      <td>0</td>\n",
       "      <td>0</td>\n",
       "      <td>1</td>\n",
       "      <td>0</td>\n",
       "      <td>0</td>\n",
       "      <td>1</td>\n",
       "      <td>0</td>\n",
       "    </tr>\n",
       "    <tr>\n",
       "      <th>7</th>\n",
       "      <td>LP001014</td>\n",
       "      <td>1999-05-21</td>\n",
       "      <td>628567566695.0</td>\n",
       "      <td>3+</td>\n",
       "      <td>3036.0</td>\n",
       "      <td>2504.0</td>\n",
       "      <td>158000</td>\n",
       "      <td>360</td>\n",
       "      <td>30</td>\n",
       "      <td>0.0</td>\n",
       "      <td>...</td>\n",
       "      <td>1</td>\n",
       "      <td>0</td>\n",
       "      <td>1</td>\n",
       "      <td>0</td>\n",
       "      <td>0</td>\n",
       "      <td>1</td>\n",
       "      <td>0</td>\n",
       "      <td>0</td>\n",
       "      <td>0</td>\n",
       "      <td>1</td>\n",
       "    </tr>\n",
       "    <tr>\n",
       "      <th>41</th>\n",
       "      <td>LP001120</td>\n",
       "      <td>1978-02-07</td>\n",
       "      <td>628111748544.0</td>\n",
       "      <td>0</td>\n",
       "      <td>1800.0</td>\n",
       "      <td>1213.0</td>\n",
       "      <td>47000</td>\n",
       "      <td>360</td>\n",
       "      <td>30</td>\n",
       "      <td>1.0</td>\n",
       "      <td>...</td>\n",
       "      <td>1</td>\n",
       "      <td>0</td>\n",
       "      <td>1</td>\n",
       "      <td>0</td>\n",
       "      <td>0</td>\n",
       "      <td>0</td>\n",
       "      <td>1</td>\n",
       "      <td>0</td>\n",
       "      <td>1</td>\n",
       "      <td>0</td>\n",
       "    </tr>\n",
       "    <tr>\n",
       "      <th>542</th>\n",
       "      <td>LP002738</td>\n",
       "      <td>1980-08-07</td>\n",
       "      <td>62857050185.0</td>\n",
       "      <td>2</td>\n",
       "      <td>3617.0</td>\n",
       "      <td>0.0</td>\n",
       "      <td>107000</td>\n",
       "      <td>360</td>\n",
       "      <td>30</td>\n",
       "      <td>1.0</td>\n",
       "      <td>...</td>\n",
       "      <td>1</td>\n",
       "      <td>0</td>\n",
       "      <td>1</td>\n",
       "      <td>0</td>\n",
       "      <td>0</td>\n",
       "      <td>1</td>\n",
       "      <td>0</td>\n",
       "      <td>0</td>\n",
       "      <td>1</td>\n",
       "      <td>0</td>\n",
       "    </tr>\n",
       "    <tr>\n",
       "      <th>387</th>\n",
       "      <td>LP002234</td>\n",
       "      <td>1978-02-25</td>\n",
       "      <td>62811372926.0</td>\n",
       "      <td>0</td>\n",
       "      <td>7167.0</td>\n",
       "      <td>0.0</td>\n",
       "      <td>128000</td>\n",
       "      <td>360</td>\n",
       "      <td>30</td>\n",
       "      <td>1.0</td>\n",
       "      <td>...</td>\n",
       "      <td>0</td>\n",
       "      <td>1</td>\n",
       "      <td>1</td>\n",
       "      <td>0</td>\n",
       "      <td>0</td>\n",
       "      <td>0</td>\n",
       "      <td>1</td>\n",
       "      <td>0</td>\n",
       "      <td>1</td>\n",
       "      <td>0</td>\n",
       "    </tr>\n",
       "  </tbody>\n",
       "</table>\n",
       "<p>5 rows × 26 columns</p>\n",
       "</div>"
      ],
      "text/plain": [
       "      loan_id  birth_date    phone_number dependents  applicant_income  \\\n",
       "348  LP002129  1981-05-10  628116140712.0          0            2499.0   \n",
       "7    LP001014  1999-05-21  628567566695.0         3+            3036.0   \n",
       "41   LP001120  1978-02-07  628111748544.0          0            1800.0   \n",
       "542  LP002738  1980-08-07   62857050185.0          2            3617.0   \n",
       "387  LP002234  1978-02-25   62811372926.0          0            7167.0   \n",
       "\n",
       "     coapplicant_income  loan_amount  loan_term_month  loan_term_year  \\\n",
       "348              2458.0       160000              360              30   \n",
       "7                2504.0       158000              360              30   \n",
       "41               1213.0        47000              360              30   \n",
       "542                 0.0       107000              360              30   \n",
       "387                 0.0       128000              360              30   \n",
       "\n",
       "     credit_history  ...  self_employed_No  self_employed_Yes  \\\n",
       "348             1.0  ...                 1                  0   \n",
       "7               0.0  ...                 1                  0   \n",
       "41              1.0  ...                 1                  0   \n",
       "542             1.0  ...                 1                  0   \n",
       "387             1.0  ...                 0                  1   \n",
       "\n",
       "     has_credit_card_Unknown  has_credit_card_no  has_credit_card_yes  \\\n",
       "348                        1                   0                    0   \n",
       "7                          1                   0                    0   \n",
       "41                         1                   0                    0   \n",
       "542                        1                   0                    0   \n",
       "387                        1                   0                    0   \n",
       "\n",
       "     property_type_apartment  property_type_house  property_type_studio  \\\n",
       "348                        1                    0                     0   \n",
       "7                          1                    0                     0   \n",
       "41                         0                    1                     0   \n",
       "542                        1                    0                     0   \n",
       "387                        0                    1                     0   \n",
       "\n",
       "     loan_status_APPROVE  loan_status_REJECT  \n",
       "348                    1                   0  \n",
       "7                      0                   1  \n",
       "41                     1                   0  \n",
       "542                    1                   0  \n",
       "387                    1                   0  \n",
       "\n",
       "[5 rows x 26 columns]"
      ]
     },
     "execution_count": 25,
     "metadata": {},
     "output_type": "execute_result"
    }
   ],
   "source": [
    "data_encode = pd.get_dummies(data, columns=kolom_onehot, dtype=int)\n",
    "data_encode.sample(5)"
   ]
  },
  {
   "cell_type": "code",
   "execution_count": 26,
   "id": "baea56d1",
   "metadata": {},
   "outputs": [
    {
     "data": {
      "text/plain": [
       "0     279\n",
       "2      82\n",
       "1      76\n",
       "3+     39\n",
       "Name: dependents, dtype: int64"
      ]
     },
     "execution_count": 26,
     "metadata": {},
     "output_type": "execute_result"
    }
   ],
   "source": [
    "data['dependents'].value_counts()"
   ]
  },
  {
   "cell_type": "code",
   "execution_count": 27,
   "id": "1c1252ad",
   "metadata": {},
   "outputs": [
    {
     "data": {
      "text/plain": [
       "1    279\n",
       "3     82\n",
       "2     76\n",
       "4     39\n",
       "Name: dependents, dtype: int64"
      ]
     },
     "execution_count": 27,
     "metadata": {},
     "output_type": "execute_result"
    }
   ],
   "source": [
    "kategori_dependents = sorted(data['dependents'].unique())\n",
    "\n",
    "# Membuat dictionary mapping\n",
    "mapping = {kategori_dependents[i]: i+1 for i in range(len(kategori_dependents))}\n",
    "\n",
    "# Melakukan mapping data menggunakan fungsi map()\n",
    "data_encode['dependents'] = data['dependents'].map(mapping)\n",
    "\n",
    "data_encode['dependents'].value_counts()"
   ]
  },
  {
   "attachments": {},
   "cell_type": "markdown",
   "id": "a7228757",
   "metadata": {},
   "source": [
    "# Business Insight\n"
   ]
  },
  {
   "cell_type": "code",
   "execution_count": 28,
   "id": "b33e9bfd",
   "metadata": {},
   "outputs": [
    {
     "data": {
      "text/html": [
       "<div>\n",
       "<style scoped>\n",
       "    .dataframe tbody tr th:only-of-type {\n",
       "        vertical-align: middle;\n",
       "    }\n",
       "\n",
       "    .dataframe tbody tr th {\n",
       "        vertical-align: top;\n",
       "    }\n",
       "\n",
       "    .dataframe thead th {\n",
       "        text-align: right;\n",
       "    }\n",
       "</style>\n",
       "<table border=\"1\" class=\"dataframe\">\n",
       "  <thead>\n",
       "    <tr style=\"text-align: right;\">\n",
       "      <th></th>\n",
       "      <th>loan_id</th>\n",
       "      <th>birth_date</th>\n",
       "      <th>phone_number</th>\n",
       "      <th>gender</th>\n",
       "      <th>married</th>\n",
       "      <th>dependents</th>\n",
       "      <th>education</th>\n",
       "      <th>self_employed</th>\n",
       "      <th>applicant_income</th>\n",
       "      <th>coapplicant_income</th>\n",
       "      <th>loan_amount</th>\n",
       "      <th>loan_term_month</th>\n",
       "      <th>loan_term_year</th>\n",
       "      <th>credit_history</th>\n",
       "      <th>has_credit_card</th>\n",
       "      <th>property_type</th>\n",
       "      <th>loan_status</th>\n",
       "    </tr>\n",
       "  </thead>\n",
       "  <tbody>\n",
       "    <tr>\n",
       "      <th>0</th>\n",
       "      <td>LP001002</td>\n",
       "      <td>1977-05-15</td>\n",
       "      <td>628114203187.0</td>\n",
       "      <td>Male</td>\n",
       "      <td>No</td>\n",
       "      <td>0</td>\n",
       "      <td>Graduate</td>\n",
       "      <td>No</td>\n",
       "      <td>5849.0</td>\n",
       "      <td>0.0</td>\n",
       "      <td>100000</td>\n",
       "      <td>360</td>\n",
       "      <td>30</td>\n",
       "      <td>1.0</td>\n",
       "      <td>Unknown</td>\n",
       "      <td>house</td>\n",
       "      <td>APPROVE</td>\n",
       "    </tr>\n",
       "    <tr>\n",
       "      <th>1</th>\n",
       "      <td>LP001003</td>\n",
       "      <td>1979-08-24</td>\n",
       "      <td>628776449212.0</td>\n",
       "      <td>Male</td>\n",
       "      <td>Yes</td>\n",
       "      <td>1</td>\n",
       "      <td>Graduate</td>\n",
       "      <td>No</td>\n",
       "      <td>4583.0</td>\n",
       "      <td>1508.0</td>\n",
       "      <td>128000</td>\n",
       "      <td>360</td>\n",
       "      <td>30</td>\n",
       "      <td>1.0</td>\n",
       "      <td>Unknown</td>\n",
       "      <td>studio</td>\n",
       "      <td>REJECT</td>\n",
       "    </tr>\n",
       "    <tr>\n",
       "      <th>2</th>\n",
       "      <td>LP001005</td>\n",
       "      <td>1991-03-28</td>\n",
       "      <td>628119240537.0</td>\n",
       "      <td>Male</td>\n",
       "      <td>Yes</td>\n",
       "      <td>0</td>\n",
       "      <td>Graduate</td>\n",
       "      <td>Yes</td>\n",
       "      <td>3000.0</td>\n",
       "      <td>0.0</td>\n",
       "      <td>66000</td>\n",
       "      <td>360</td>\n",
       "      <td>30</td>\n",
       "      <td>1.0</td>\n",
       "      <td>Unknown</td>\n",
       "      <td>house</td>\n",
       "      <td>APPROVE</td>\n",
       "    </tr>\n",
       "    <tr>\n",
       "      <th>3</th>\n",
       "      <td>LP001006</td>\n",
       "      <td>1980-06-02</td>\n",
       "      <td>62856343702.0</td>\n",
       "      <td>Male</td>\n",
       "      <td>Yes</td>\n",
       "      <td>0</td>\n",
       "      <td>Not Graduate</td>\n",
       "      <td>No</td>\n",
       "      <td>2583.0</td>\n",
       "      <td>2358.0</td>\n",
       "      <td>120000</td>\n",
       "      <td>360</td>\n",
       "      <td>30</td>\n",
       "      <td>1.0</td>\n",
       "      <td>Unknown</td>\n",
       "      <td>house</td>\n",
       "      <td>APPROVE</td>\n",
       "    </tr>\n",
       "    <tr>\n",
       "      <th>4</th>\n",
       "      <td>LP001008</td>\n",
       "      <td>1989-05-19</td>\n",
       "      <td>628113008687.0</td>\n",
       "      <td>Male</td>\n",
       "      <td>No</td>\n",
       "      <td>0</td>\n",
       "      <td>Graduate</td>\n",
       "      <td>No</td>\n",
       "      <td>6000.0</td>\n",
       "      <td>0.0</td>\n",
       "      <td>141000</td>\n",
       "      <td>360</td>\n",
       "      <td>30</td>\n",
       "      <td>1.0</td>\n",
       "      <td>Unknown</td>\n",
       "      <td>house</td>\n",
       "      <td>APPROVE</td>\n",
       "    </tr>\n",
       "  </tbody>\n",
       "</table>\n",
       "</div>"
      ],
      "text/plain": [
       "    loan_id  birth_date    phone_number gender married dependents  \\\n",
       "0  LP001002  1977-05-15  628114203187.0   Male      No          0   \n",
       "1  LP001003  1979-08-24  628776449212.0   Male     Yes          1   \n",
       "2  LP001005  1991-03-28  628119240537.0   Male     Yes          0   \n",
       "3  LP001006  1980-06-02   62856343702.0   Male     Yes          0   \n",
       "4  LP001008  1989-05-19  628113008687.0   Male      No          0   \n",
       "\n",
       "      education self_employed  applicant_income  coapplicant_income  \\\n",
       "0      Graduate            No            5849.0                 0.0   \n",
       "1      Graduate            No            4583.0              1508.0   \n",
       "2      Graduate           Yes            3000.0                 0.0   \n",
       "3  Not Graduate            No            2583.0              2358.0   \n",
       "4      Graduate            No            6000.0                 0.0   \n",
       "\n",
       "   loan_amount  loan_term_month  loan_term_year  credit_history  \\\n",
       "0       100000              360              30             1.0   \n",
       "1       128000              360              30             1.0   \n",
       "2        66000              360              30             1.0   \n",
       "3       120000              360              30             1.0   \n",
       "4       141000              360              30             1.0   \n",
       "\n",
       "  has_credit_card property_type loan_status  \n",
       "0         Unknown         house     APPROVE  \n",
       "1         Unknown        studio      REJECT  \n",
       "2         Unknown         house     APPROVE  \n",
       "3         Unknown         house     APPROVE  \n",
       "4         Unknown         house     APPROVE  "
      ]
     },
     "execution_count": 28,
     "metadata": {},
     "output_type": "execute_result"
    }
   ],
   "source": [
    "data.head()"
   ]
  },
  {
   "attachments": {},
   "cell_type": "markdown",
   "id": "b890d514",
   "metadata": {},
   "source": [
    "## Analisis minat pelanggan berdasarkan pada tipe properti\n"
   ]
  },
  {
   "attachments": {},
   "cell_type": "markdown",
   "id": "3f19f941",
   "metadata": {},
   "source": [
    "#### <b>Berdasarkan Gender\n"
   ]
  },
  {
   "cell_type": "code",
   "execution_count": 29,
   "id": "86d1cecb",
   "metadata": {},
   "outputs": [
    {
     "data": {
      "text/html": [
       "<div>\n",
       "<style scoped>\n",
       "    .dataframe tbody tr th:only-of-type {\n",
       "        vertical-align: middle;\n",
       "    }\n",
       "\n",
       "    .dataframe tbody tr th {\n",
       "        vertical-align: top;\n",
       "    }\n",
       "\n",
       "    .dataframe thead th {\n",
       "        text-align: right;\n",
       "    }\n",
       "</style>\n",
       "<table border=\"1\" class=\"dataframe\">\n",
       "  <thead>\n",
       "    <tr style=\"text-align: right;\">\n",
       "      <th>gender</th>\n",
       "      <th>Female</th>\n",
       "      <th>Male</th>\n",
       "    </tr>\n",
       "    <tr>\n",
       "      <th>property_type</th>\n",
       "      <th></th>\n",
       "      <th></th>\n",
       "    </tr>\n",
       "  </thead>\n",
       "  <tbody>\n",
       "    <tr>\n",
       "      <th>apartment</th>\n",
       "      <td>42</td>\n",
       "      <td>143</td>\n",
       "    </tr>\n",
       "    <tr>\n",
       "      <th>house</th>\n",
       "      <td>25</td>\n",
       "      <td>124</td>\n",
       "    </tr>\n",
       "    <tr>\n",
       "      <th>studio</th>\n",
       "      <td>23</td>\n",
       "      <td>119</td>\n",
       "    </tr>\n",
       "  </tbody>\n",
       "</table>\n",
       "</div>"
      ],
      "text/plain": [
       "gender         Female  Male\n",
       "property_type              \n",
       "apartment          42   143\n",
       "house              25   124\n",
       "studio             23   119"
      ]
     },
     "execution_count": 29,
     "metadata": {},
     "output_type": "execute_result"
    }
   ],
   "source": [
    "data.groupby(['property_type', 'gender']).size().unstack()"
   ]
  },
  {
   "cell_type": "code",
   "execution_count": 30,
   "id": "6278077b",
   "metadata": {},
   "outputs": [
    {
     "data": {
      "image/png": "[encoded data removed]",
      "text/plain": [
       "<Figure size 720x360 with 1 Axes>"
      ]
     },
     "metadata": {
      "needs_background": "light"
     },
     "output_type": "display_data"
    }
   ],
   "source": [
    "data.groupby(['gender','property_type']).size().unstack().plot(kind='bar', stacked=True, figsize=(10,5))\n",
    "plt.xticks(rotation=0);"
   ]
  },
  {
   "attachments": {},
   "cell_type": "markdown",
   "id": "29fa9eac",
   "metadata": {},
   "source": [
    "Berdasarkan Hasil analisis tersebut, didapatkan bahwa : <br>\n",
    "Peminjam Kredit di dominasi oleh <b>Laki-Laki</b> dan<br>\n",
    "Tipe Properti dari Laki-Laki dan Perempuan lebih banyak menggunakan <b>Apartment</b>\n"
   ]
  },
  {
   "cell_type": "code",
   "execution_count": 31,
   "id": "978f98a1",
   "metadata": {},
   "outputs": [
    {
     "data": {
      "text/html": [
       "<div>\n",
       "<style scoped>\n",
       "    .dataframe tbody tr th:only-of-type {\n",
       "        vertical-align: middle;\n",
       "    }\n",
       "\n",
       "    .dataframe tbody tr th {\n",
       "        vertical-align: top;\n",
       "    }\n",
       "\n",
       "    .dataframe thead th {\n",
       "        text-align: right;\n",
       "    }\n",
       "</style>\n",
       "<table border=\"1\" class=\"dataframe\">\n",
       "  <thead>\n",
       "    <tr style=\"text-align: right;\">\n",
       "      <th>gender</th>\n",
       "      <th>Female</th>\n",
       "      <th>Male</th>\n",
       "    </tr>\n",
       "    <tr>\n",
       "      <th>property_type</th>\n",
       "      <th></th>\n",
       "      <th></th>\n",
       "    </tr>\n",
       "  </thead>\n",
       "  <tbody>\n",
       "    <tr>\n",
       "      <th>apartment</th>\n",
       "      <td>4773000</td>\n",
       "      <td>19441000</td>\n",
       "    </tr>\n",
       "    <tr>\n",
       "      <th>house</th>\n",
       "      <td>2583000</td>\n",
       "      <td>14544000</td>\n",
       "    </tr>\n",
       "    <tr>\n",
       "      <th>studio</th>\n",
       "      <td>2794000</td>\n",
       "      <td>15779000</td>\n",
       "    </tr>\n",
       "  </tbody>\n",
       "</table>\n",
       "</div>"
      ],
      "text/plain": [
       "gender          Female      Male\n",
       "property_type                   \n",
       "apartment      4773000  19441000\n",
       "house          2583000  14544000\n",
       "studio         2794000  15779000"
      ]
     },
     "execution_count": 31,
     "metadata": {},
     "output_type": "execute_result"
    }
   ],
   "source": [
    "data.groupby(['property_type', 'gender'])['loan_amount'].sum().unstack()"
   ]
  },
  {
   "cell_type": "code",
   "execution_count": 32,
   "id": "7046b03e",
   "metadata": {},
   "outputs": [
    {
     "data": {
      "image/png": "[encoded data removed]",
      "text/plain": [
       "<Figure size 720x360 with 1 Axes>"
      ]
     },
     "metadata": {
      "needs_background": "light"
     },
     "output_type": "display_data"
    }
   ],
   "source": [
    "data.groupby(['property_type', 'gender'])['loan_amount'].sum().unstack().plot(kind='bar', stacked=True, figsize=(10,5))\n",
    "plt.xticks(rotation=0);"
   ]
  },
  {
   "attachments": {},
   "cell_type": "markdown",
   "id": "e1724b23",
   "metadata": {},
   "source": [
    "Berdasarkan Hasil analisis tersebut, didapatkan bahwa : <br><br>\n",
    "Peminjam Kredit di dominasi oleh <b>Laki-Laki</b> dan<br>\n",
    "Peminjam Kredit di dominasi oleh Properti <b>Apartment</b> yang mencapai total kredit:\n",
    "\n",
    "- Laki-Laki = 19441000\n",
    "- Perempuan = 4773000\n"
   ]
  },
  {
   "attachments": {},
   "cell_type": "markdown",
   "id": "aad74378",
   "metadata": {},
   "source": [
    "#### <b>Berdasarkan Total Property\n"
   ]
  },
  {
   "cell_type": "code",
   "execution_count": 33,
   "id": "85d24290",
   "metadata": {},
   "outputs": [
    {
     "data": {
      "text/html": [
       "<div>\n",
       "<style scoped>\n",
       "    .dataframe tbody tr th:only-of-type {\n",
       "        vertical-align: middle;\n",
       "    }\n",
       "\n",
       "    .dataframe tbody tr th {\n",
       "        vertical-align: top;\n",
       "    }\n",
       "\n",
       "    .dataframe thead th {\n",
       "        text-align: right;\n",
       "    }\n",
       "</style>\n",
       "<table border=\"1\" class=\"dataframe\">\n",
       "  <thead>\n",
       "    <tr style=\"text-align: right;\">\n",
       "      <th></th>\n",
       "      <th>Jumlah Data</th>\n",
       "    </tr>\n",
       "    <tr>\n",
       "      <th>property_type</th>\n",
       "      <th></th>\n",
       "    </tr>\n",
       "  </thead>\n",
       "  <tbody>\n",
       "    <tr>\n",
       "      <th>apartment</th>\n",
       "      <td>185</td>\n",
       "    </tr>\n",
       "    <tr>\n",
       "      <th>house</th>\n",
       "      <td>149</td>\n",
       "    </tr>\n",
       "    <tr>\n",
       "      <th>studio</th>\n",
       "      <td>142</td>\n",
       "    </tr>\n",
       "  </tbody>\n",
       "</table>\n",
       "</div>"
      ],
      "text/plain": [
       "               Jumlah Data\n",
       "property_type             \n",
       "apartment              185\n",
       "house                  149\n",
       "studio                 142"
      ]
     },
     "execution_count": 33,
     "metadata": {},
     "output_type": "execute_result"
    }
   ],
   "source": [
    "pd.DataFrame(data.groupby(['property_type']).size(), columns=['Jumlah Data'])"
   ]
  },
  {
   "cell_type": "code",
   "execution_count": 34,
   "id": "a6d02321",
   "metadata": {},
   "outputs": [
    {
     "data": {
      "image/png": "[encoded data removed]",
      "text/plain": [
       "<Figure size 720x360 with 1 Axes>"
      ]
     },
     "metadata": {
      "needs_background": "light"
     },
     "output_type": "display_data"
    }
   ],
   "source": [
    "data.groupby(['property_type']).size().plot(kind='bar', figsize=(10, 5))\n",
    "plt.xticks(rotation=0);\n",
    "\n",
    "plt.xlabel('Property Type')\n",
    "plt.ylabel('Count')\n",
    "plt.show();"
   ]
  },
  {
   "attachments": {},
   "cell_type": "markdown",
   "id": "c43363d1",
   "metadata": {},
   "source": [
    "## Analisis pengaruh status perkawinan terhadap jangka waktu meminjam\n"
   ]
  },
  {
   "attachments": {},
   "cell_type": "markdown",
   "id": "57f1d151",
   "metadata": {},
   "source": [
    "#### <b>Dalam Bulan\n"
   ]
  },
  {
   "cell_type": "code",
   "execution_count": 35,
   "id": "6f206911",
   "metadata": {},
   "outputs": [
    {
     "data": {
      "text/html": [
       "<div>\n",
       "<style scoped>\n",
       "    .dataframe tbody tr th:only-of-type {\n",
       "        vertical-align: middle;\n",
       "    }\n",
       "\n",
       "    .dataframe tbody tr th {\n",
       "        vertical-align: top;\n",
       "    }\n",
       "\n",
       "    .dataframe thead th {\n",
       "        text-align: right;\n",
       "    }\n",
       "</style>\n",
       "<table border=\"1\" class=\"dataframe\">\n",
       "  <thead>\n",
       "    <tr style=\"text-align: right;\">\n",
       "      <th>loan_term_month</th>\n",
       "      <th>12</th>\n",
       "      <th>36</th>\n",
       "      <th>60</th>\n",
       "      <th>84</th>\n",
       "      <th>120</th>\n",
       "      <th>180</th>\n",
       "      <th>240</th>\n",
       "      <th>300</th>\n",
       "      <th>360</th>\n",
       "      <th>480</th>\n",
       "    </tr>\n",
       "    <tr>\n",
       "      <th>married</th>\n",
       "      <th></th>\n",
       "      <th></th>\n",
       "      <th></th>\n",
       "      <th></th>\n",
       "      <th></th>\n",
       "      <th></th>\n",
       "      <th></th>\n",
       "      <th></th>\n",
       "      <th></th>\n",
       "      <th></th>\n",
       "    </tr>\n",
       "  </thead>\n",
       "  <tbody>\n",
       "    <tr>\n",
       "      <th>No</th>\n",
       "      <td>0</td>\n",
       "      <td>2</td>\n",
       "      <td>0</td>\n",
       "      <td>0</td>\n",
       "      <td>1</td>\n",
       "      <td>5</td>\n",
       "      <td>1</td>\n",
       "      <td>3</td>\n",
       "      <td>147</td>\n",
       "      <td>7</td>\n",
       "    </tr>\n",
       "    <tr>\n",
       "      <th>Yes</th>\n",
       "      <td>1</td>\n",
       "      <td>0</td>\n",
       "      <td>1</td>\n",
       "      <td>4</td>\n",
       "      <td>2</td>\n",
       "      <td>27</td>\n",
       "      <td>2</td>\n",
       "      <td>7</td>\n",
       "      <td>261</td>\n",
       "      <td>5</td>\n",
       "    </tr>\n",
       "  </tbody>\n",
       "</table>\n",
       "</div>"
      ],
      "text/plain": [
       "loan_term_month  12   36   60   84   120  180  240  300  360  480\n",
       "married                                                          \n",
       "No                 0    2    0    0    1    5    1    3  147    7\n",
       "Yes                1    0    1    4    2   27    2    7  261    5"
      ]
     },
     "execution_count": 35,
     "metadata": {},
     "output_type": "execute_result"
    }
   ],
   "source": [
    "data.groupby(['married', 'loan_term_month']).size().unstack().fillna(0.0).astype(int)"
   ]
  },
  {
   "cell_type": "code",
   "execution_count": 36,
   "id": "bdc7b9a5",
   "metadata": {},
   "outputs": [
    {
     "data": {
      "image/png": "[encoded data removed]",
      "text/plain": [
       "<Figure size 720x576 with 1 Axes>"
      ]
     },
     "metadata": {
      "needs_background": "light"
     },
     "output_type": "display_data"
    }
   ],
   "source": [
    "data.groupby(['married', 'loan_term_month']).size().unstack().fillna(0.0).astype(int).plot(kind='bar', stacked=True, figsize=(10,8))\n",
    "plt.xticks(rotation=0);"
   ]
  },
  {
   "attachments": {},
   "cell_type": "markdown",
   "id": "1b07e9d6",
   "metadata": {},
   "source": [
    "#### <b>Dalam Tahun\n"
   ]
  },
  {
   "cell_type": "code",
   "execution_count": 37,
   "id": "90128266",
   "metadata": {},
   "outputs": [
    {
     "data": {
      "text/html": [
       "<div>\n",
       "<style scoped>\n",
       "    .dataframe tbody tr th:only-of-type {\n",
       "        vertical-align: middle;\n",
       "    }\n",
       "\n",
       "    .dataframe tbody tr th {\n",
       "        vertical-align: top;\n",
       "    }\n",
       "\n",
       "    .dataframe thead th {\n",
       "        text-align: right;\n",
       "    }\n",
       "</style>\n",
       "<table border=\"1\" class=\"dataframe\">\n",
       "  <thead>\n",
       "    <tr style=\"text-align: right;\">\n",
       "      <th>loan_term_year</th>\n",
       "      <th>1</th>\n",
       "      <th>3</th>\n",
       "      <th>5</th>\n",
       "      <th>7</th>\n",
       "      <th>10</th>\n",
       "      <th>15</th>\n",
       "      <th>20</th>\n",
       "      <th>25</th>\n",
       "      <th>30</th>\n",
       "      <th>40</th>\n",
       "    </tr>\n",
       "    <tr>\n",
       "      <th>married</th>\n",
       "      <th></th>\n",
       "      <th></th>\n",
       "      <th></th>\n",
       "      <th></th>\n",
       "      <th></th>\n",
       "      <th></th>\n",
       "      <th></th>\n",
       "      <th></th>\n",
       "      <th></th>\n",
       "      <th></th>\n",
       "    </tr>\n",
       "  </thead>\n",
       "  <tbody>\n",
       "    <tr>\n",
       "      <th>No</th>\n",
       "      <td>0</td>\n",
       "      <td>2</td>\n",
       "      <td>0</td>\n",
       "      <td>0</td>\n",
       "      <td>1</td>\n",
       "      <td>5</td>\n",
       "      <td>1</td>\n",
       "      <td>3</td>\n",
       "      <td>147</td>\n",
       "      <td>7</td>\n",
       "    </tr>\n",
       "    <tr>\n",
       "      <th>Yes</th>\n",
       "      <td>1</td>\n",
       "      <td>0</td>\n",
       "      <td>1</td>\n",
       "      <td>4</td>\n",
       "      <td>2</td>\n",
       "      <td>27</td>\n",
       "      <td>2</td>\n",
       "      <td>7</td>\n",
       "      <td>261</td>\n",
       "      <td>5</td>\n",
       "    </tr>\n",
       "  </tbody>\n",
       "</table>\n",
       "</div>"
      ],
      "text/plain": [
       "loan_term_year  1   3   5   7   10  15  20  25   30  40\n",
       "married                                                \n",
       "No               0   2   0   0   1   5   1   3  147   7\n",
       "Yes              1   0   1   4   2  27   2   7  261   5"
      ]
     },
     "execution_count": 37,
     "metadata": {},
     "output_type": "execute_result"
    }
   ],
   "source": [
    "data.groupby(['married', 'loan_term_year']).size().unstack().fillna(0.0).astype(int)"
   ]
  },
  {
   "cell_type": "code",
   "execution_count": 38,
   "id": "55414954",
   "metadata": {},
   "outputs": [
    {
     "data": {
      "image/png": "[encoded data removed]",
      "text/plain": [
       "<Figure size 720x576 with 1 Axes>"
      ]
     },
     "metadata": {
      "needs_background": "light"
     },
     "output_type": "display_data"
    }
   ],
   "source": [
    "data.groupby(['married', 'loan_term_year']).size().unstack().fillna(0.0).astype(int).plot(kind='bar', stacked=True, figsize=(10,8))\n",
    "plt.xticks(rotation=0);"
   ]
  },
  {
   "attachments": {},
   "cell_type": "markdown",
   "id": "44b2f3a0",
   "metadata": {},
   "source": [
    "Berdasarkan Hasil analisis tersebut, didapatkan bahwa : <br>\n",
    "Peminjam Kredit di dominasi oleh <b>Pasangan yang Sudah Menikah</b> dan<br>\n",
    "Paling banyak mengajukan Kredit selama <b>30 Tahun atau 360 Bulan</b>\n"
   ]
  },
  {
   "attachments": {},
   "cell_type": "markdown",
   "id": "4ca1d0cf",
   "metadata": {},
   "source": [
    "# Kesimpulan\n"
   ]
  },
  {
   "attachments": {},
   "cell_type": "markdown",
   "id": "5412fa70",
   "metadata": {},
   "source": [
    "- Gender Laki-Laki Lebih banyak melakukan Pinjaman Kredit daripada Perempuan\n",
    "- Kebanyakan orang yang melakukan Pinjaman Kredit sudah menikah\n",
    "- Kebanyakan orang memilih waktu peminjaman selama 30 Tahun\n",
    "- Property yang dilakukan peminjaman kebanyakan adalah Apartment\n"
   ]
  },
  {
   "attachments": {},
   "cell_type": "markdown",
   "id": "a770ccaf",
   "metadata": {},
   "source": [
    "# Insight Lainnya\n"
   ]
  },
  {
   "attachments": {},
   "cell_type": "markdown",
   "id": "c0fd3ce4",
   "metadata": {},
   "source": [
    "## Analisis Rata-Rata Usia Peminjam Kredit\n"
   ]
  },
  {
   "cell_type": "code",
   "execution_count": 39,
   "id": "8c87f597",
   "metadata": {},
   "outputs": [],
   "source": [
    "data['birth_date'] = pd.to_datetime(data['birth_date'], errors='coerce')\n",
    "data['umur'] = date.today().year - data['birth_date'].dt.year"
   ]
  },
  {
   "cell_type": "code",
   "execution_count": 40,
   "id": "28bc8314",
   "metadata": {},
   "outputs": [
    {
     "data": {
      "text/html": [
       "<div>\n",
       "<style scoped>\n",
       "    .dataframe tbody tr th:only-of-type {\n",
       "        vertical-align: middle;\n",
       "    }\n",
       "\n",
       "    .dataframe tbody tr th {\n",
       "        vertical-align: top;\n",
       "    }\n",
       "\n",
       "    .dataframe thead th {\n",
       "        text-align: right;\n",
       "    }\n",
       "</style>\n",
       "<table border=\"1\" class=\"dataframe\">\n",
       "  <thead>\n",
       "    <tr style=\"text-align: right;\">\n",
       "      <th>gender</th>\n",
       "      <th>Female</th>\n",
       "      <th>Male</th>\n",
       "    </tr>\n",
       "    <tr>\n",
       "      <th>umur</th>\n",
       "      <th></th>\n",
       "      <th></th>\n",
       "    </tr>\n",
       "  </thead>\n",
       "  <tbody>\n",
       "    <tr>\n",
       "      <th>23.0</th>\n",
       "      <td>0.0</td>\n",
       "      <td>1.0</td>\n",
       "    </tr>\n",
       "    <tr>\n",
       "      <th>24.0</th>\n",
       "      <td>0.0</td>\n",
       "      <td>2.0</td>\n",
       "    </tr>\n",
       "    <tr>\n",
       "      <th>26.0</th>\n",
       "      <td>0.0</td>\n",
       "      <td>1.0</td>\n",
       "    </tr>\n",
       "    <tr>\n",
       "      <th>27.0</th>\n",
       "      <td>1.0</td>\n",
       "      <td>1.0</td>\n",
       "    </tr>\n",
       "    <tr>\n",
       "      <th>28.0</th>\n",
       "      <td>0.0</td>\n",
       "      <td>5.0</td>\n",
       "    </tr>\n",
       "    <tr>\n",
       "      <th>29.0</th>\n",
       "      <td>2.0</td>\n",
       "      <td>5.0</td>\n",
       "    </tr>\n",
       "    <tr>\n",
       "      <th>30.0</th>\n",
       "      <td>0.0</td>\n",
       "      <td>6.0</td>\n",
       "    </tr>\n",
       "    <tr>\n",
       "      <th>31.0</th>\n",
       "      <td>2.0</td>\n",
       "      <td>6.0</td>\n",
       "    </tr>\n",
       "    <tr>\n",
       "      <th>32.0</th>\n",
       "      <td>8.0</td>\n",
       "      <td>18.0</td>\n",
       "    </tr>\n",
       "    <tr>\n",
       "      <th>33.0</th>\n",
       "      <td>6.0</td>\n",
       "      <td>20.0</td>\n",
       "    </tr>\n",
       "    <tr>\n",
       "      <th>34.0</th>\n",
       "      <td>3.0</td>\n",
       "      <td>21.0</td>\n",
       "    </tr>\n",
       "    <tr>\n",
       "      <th>35.0</th>\n",
       "      <td>8.0</td>\n",
       "      <td>29.0</td>\n",
       "    </tr>\n",
       "    <tr>\n",
       "      <th>36.0</th>\n",
       "      <td>2.0</td>\n",
       "      <td>25.0</td>\n",
       "    </tr>\n",
       "    <tr>\n",
       "      <th>37.0</th>\n",
       "      <td>7.0</td>\n",
       "      <td>35.0</td>\n",
       "    </tr>\n",
       "    <tr>\n",
       "      <th>38.0</th>\n",
       "      <td>8.0</td>\n",
       "      <td>31.0</td>\n",
       "    </tr>\n",
       "    <tr>\n",
       "      <th>39.0</th>\n",
       "      <td>6.0</td>\n",
       "      <td>25.0</td>\n",
       "    </tr>\n",
       "    <tr>\n",
       "      <th>40.0</th>\n",
       "      <td>2.0</td>\n",
       "      <td>28.0</td>\n",
       "    </tr>\n",
       "    <tr>\n",
       "      <th>41.0</th>\n",
       "      <td>4.0</td>\n",
       "      <td>21.0</td>\n",
       "    </tr>\n",
       "    <tr>\n",
       "      <th>42.0</th>\n",
       "      <td>5.0</td>\n",
       "      <td>11.0</td>\n",
       "    </tr>\n",
       "    <tr>\n",
       "      <th>43.0</th>\n",
       "      <td>5.0</td>\n",
       "      <td>15.0</td>\n",
       "    </tr>\n",
       "    <tr>\n",
       "      <th>44.0</th>\n",
       "      <td>1.0</td>\n",
       "      <td>16.0</td>\n",
       "    </tr>\n",
       "    <tr>\n",
       "      <th>45.0</th>\n",
       "      <td>2.0</td>\n",
       "      <td>11.0</td>\n",
       "    </tr>\n",
       "    <tr>\n",
       "      <th>46.0</th>\n",
       "      <td>1.0</td>\n",
       "      <td>7.0</td>\n",
       "    </tr>\n",
       "    <tr>\n",
       "      <th>47.0</th>\n",
       "      <td>2.0</td>\n",
       "      <td>5.0</td>\n",
       "    </tr>\n",
       "    <tr>\n",
       "      <th>48.0</th>\n",
       "      <td>1.0</td>\n",
       "      <td>1.0</td>\n",
       "    </tr>\n",
       "    <tr>\n",
       "      <th>49.0</th>\n",
       "      <td>0.0</td>\n",
       "      <td>1.0</td>\n",
       "    </tr>\n",
       "    <tr>\n",
       "      <th>50.0</th>\n",
       "      <td>2.0</td>\n",
       "      <td>0.0</td>\n",
       "    </tr>\n",
       "    <tr>\n",
       "      <th>51.0</th>\n",
       "      <td>1.0</td>\n",
       "      <td>3.0</td>\n",
       "    </tr>\n",
       "    <tr>\n",
       "      <th>52.0</th>\n",
       "      <td>1.0</td>\n",
       "      <td>0.0</td>\n",
       "    </tr>\n",
       "    <tr>\n",
       "      <th>53.0</th>\n",
       "      <td>0.0</td>\n",
       "      <td>3.0</td>\n",
       "    </tr>\n",
       "    <tr>\n",
       "      <th>54.0</th>\n",
       "      <td>1.0</td>\n",
       "      <td>2.0</td>\n",
       "    </tr>\n",
       "    <tr>\n",
       "      <th>55.0</th>\n",
       "      <td>0.0</td>\n",
       "      <td>1.0</td>\n",
       "    </tr>\n",
       "    <tr>\n",
       "      <th>56.0</th>\n",
       "      <td>0.0</td>\n",
       "      <td>2.0</td>\n",
       "    </tr>\n",
       "  </tbody>\n",
       "</table>\n",
       "</div>"
      ],
      "text/plain": [
       "gender  Female  Male\n",
       "umur                \n",
       "23.0       0.0   1.0\n",
       "24.0       0.0   2.0\n",
       "26.0       0.0   1.0\n",
       "27.0       1.0   1.0\n",
       "28.0       0.0   5.0\n",
       "29.0       2.0   5.0\n",
       "30.0       0.0   6.0\n",
       "31.0       2.0   6.0\n",
       "32.0       8.0  18.0\n",
       "33.0       6.0  20.0\n",
       "34.0       3.0  21.0\n",
       "35.0       8.0  29.0\n",
       "36.0       2.0  25.0\n",
       "37.0       7.0  35.0\n",
       "38.0       8.0  31.0\n",
       "39.0       6.0  25.0\n",
       "40.0       2.0  28.0\n",
       "41.0       4.0  21.0\n",
       "42.0       5.0  11.0\n",
       "43.0       5.0  15.0\n",
       "44.0       1.0  16.0\n",
       "45.0       2.0  11.0\n",
       "46.0       1.0   7.0\n",
       "47.0       2.0   5.0\n",
       "48.0       1.0   1.0\n",
       "49.0       0.0   1.0\n",
       "50.0       2.0   0.0\n",
       "51.0       1.0   3.0\n",
       "52.0       1.0   0.0\n",
       "53.0       0.0   3.0\n",
       "54.0       1.0   2.0\n",
       "55.0       0.0   1.0\n",
       "56.0       0.0   2.0"
      ]
     },
     "execution_count": 40,
     "metadata": {},
     "output_type": "execute_result"
    }
   ],
   "source": [
    "data.groupby(['umur', 'gender']).size().unstack().fillna(0.0)"
   ]
  },
  {
   "cell_type": "code",
   "execution_count": 41,
   "id": "e3ab4158",
   "metadata": {},
   "outputs": [
    {
     "data": {
      "image/png": "[encoded data removed]",
      "text/plain": [
       "<Figure size 1224x576 with 1 Axes>"
      ]
     },
     "metadata": {
      "needs_background": "light"
     },
     "output_type": "display_data"
    }
   ],
   "source": [
    "data.groupby(['umur', 'gender']).size().unstack().fillna(0.0).plot(kind='bar', stacked=True, figsize=(17,8))\n",
    "plt.xticks(rotation=0);"
   ]
  },
  {
   "attachments": {},
   "cell_type": "markdown",
   "id": "561fb351",
   "metadata": {},
   "source": [
    "<b>Rata-Rata Umur\n"
   ]
  },
  {
   "cell_type": "code",
   "execution_count": 42,
   "id": "ac1c2c5e",
   "metadata": {},
   "outputs": [
    {
     "data": {
      "text/html": [
       "<div>\n",
       "<style scoped>\n",
       "    .dataframe tbody tr th:only-of-type {\n",
       "        vertical-align: middle;\n",
       "    }\n",
       "\n",
       "    .dataframe tbody tr th {\n",
       "        vertical-align: top;\n",
       "    }\n",
       "\n",
       "    .dataframe thead th {\n",
       "        text-align: right;\n",
       "    }\n",
       "</style>\n",
       "<table border=\"1\" class=\"dataframe\">\n",
       "  <thead>\n",
       "    <tr style=\"text-align: right;\">\n",
       "      <th></th>\n",
       "      <th>umur</th>\n",
       "    </tr>\n",
       "    <tr>\n",
       "      <th>gender</th>\n",
       "      <th></th>\n",
       "    </tr>\n",
       "  </thead>\n",
       "  <tbody>\n",
       "    <tr>\n",
       "      <th>Female</th>\n",
       "      <td>38.271605</td>\n",
       "    </tr>\n",
       "    <tr>\n",
       "      <th>Male</th>\n",
       "      <td>38.033520</td>\n",
       "    </tr>\n",
       "  </tbody>\n",
       "</table>\n",
       "</div>"
      ],
      "text/plain": [
       "             umur\n",
       "gender           \n",
       "Female  38.271605\n",
       "Male    38.033520"
      ]
     },
     "execution_count": 42,
     "metadata": {},
     "output_type": "execute_result"
    }
   ],
   "source": [
    "pd.DataFrame(data.groupby('gender')['umur'].mean().fillna(0.0))"
   ]
  },
  {
   "attachments": {},
   "cell_type": "markdown",
   "id": "6741e2e1",
   "metadata": {},
   "source": [
    "Rata-rata berumur 38 tahun untuk Laki-Laki maupun Perempuan\n"
   ]
  },
  {
   "attachments": {},
   "cell_type": "markdown",
   "id": "5826e2e4",
   "metadata": {},
   "source": [
    "## Analisis Tingkat Pendidikan Berdasarkan Gender dan Status Pernikahan Peminjam Kredit\n"
   ]
  },
  {
   "cell_type": "code",
   "execution_count": 43,
   "id": "006d783a",
   "metadata": {},
   "outputs": [
    {
     "data": {
      "text/html": [
       "<div>\n",
       "<style scoped>\n",
       "    .dataframe tbody tr th:only-of-type {\n",
       "        vertical-align: middle;\n",
       "    }\n",
       "\n",
       "    .dataframe tbody tr th {\n",
       "        vertical-align: top;\n",
       "    }\n",
       "\n",
       "    .dataframe thead th {\n",
       "        text-align: right;\n",
       "    }\n",
       "</style>\n",
       "<table border=\"1\" class=\"dataframe\">\n",
       "  <thead>\n",
       "    <tr style=\"text-align: right;\">\n",
       "      <th></th>\n",
       "      <th>married</th>\n",
       "      <th>No</th>\n",
       "      <th>Yes</th>\n",
       "    </tr>\n",
       "    <tr>\n",
       "      <th>gender</th>\n",
       "      <th>education</th>\n",
       "      <th></th>\n",
       "      <th></th>\n",
       "    </tr>\n",
       "  </thead>\n",
       "  <tbody>\n",
       "    <tr>\n",
       "      <th rowspan=\"2\" valign=\"top\">Female</th>\n",
       "      <th>Graduate</th>\n",
       "      <td>54</td>\n",
       "      <td>20</td>\n",
       "    </tr>\n",
       "    <tr>\n",
       "      <th>Not Graduate</th>\n",
       "      <td>11</td>\n",
       "      <td>5</td>\n",
       "    </tr>\n",
       "    <tr>\n",
       "      <th rowspan=\"2\" valign=\"top\">Male</th>\n",
       "      <th>Graduate</th>\n",
       "      <td>72</td>\n",
       "      <td>210</td>\n",
       "    </tr>\n",
       "    <tr>\n",
       "      <th>Not Graduate</th>\n",
       "      <td>29</td>\n",
       "      <td>75</td>\n",
       "    </tr>\n",
       "  </tbody>\n",
       "</table>\n",
       "</div>"
      ],
      "text/plain": [
       "married              No  Yes\n",
       "gender education            \n",
       "Female Graduate      54   20\n",
       "       Not Graduate  11    5\n",
       "Male   Graduate      72  210\n",
       "       Not Graduate  29   75"
      ]
     },
     "execution_count": 43,
     "metadata": {},
     "output_type": "execute_result"
    }
   ],
   "source": [
    "data.groupby(['gender', 'education', 'married']).size().unstack()"
   ]
  },
  {
   "cell_type": "code",
   "execution_count": 44,
   "id": "ca76c609",
   "metadata": {},
   "outputs": [
    {
     "data": {
      "image/png": "[encoded data removed]",
      "text/plain": [
       "<Figure size 720x576 with 1 Axes>"
      ]
     },
     "metadata": {
      "needs_background": "light"
     },
     "output_type": "display_data"
    }
   ],
   "source": [
    "data.groupby(['gender', 'education', 'married']).size().unstack().plot(kind='bar', stacked=True, figsize=(10,8))\n",
    "plt.xticks(rotation=0);"
   ]
  }
 ],
 "metadata": {
  "kernelspec": {
   "display_name": "Python 3 (ipykernel)",
   "language": "python",
   "name": "python3"
  },
  "language_info": {
   "codemirror_mode": {
    "name": "ipython",
    "version": 3
   },
   "file_extension": ".py",
   "mimetype": "text/x-python",
   "name": "python",
   "nbconvert_exporter": "python",
   "pygments_lexer": "ipython3",
   "version": "3.10.1"
  }
 },
 "nbformat": 4,
 "nbformat_minor": 5
}
