{
 "cells": [
  {
   "cell_type": "code",
   "execution_count": 8,
   "metadata": {},
   "outputs": [],
   "source": [
    "import pandas as pd\n",
    "import warnings\n",
    "\n",
    "from nltk.tokenize import word_tokenize\n",
    "from nltk.corpus import stopwords\n",
    "from string import punctuation\n",
    "\n",
    "from sklearn.feature_extraction.text import TfidfVectorizer\n",
    "\n",
    "sw_indo = stopwords.words('indonesian') + list(punctuation)\n",
    "warnings.filterwarnings('ignore')\n",
    "pd.set_option('display.max_colwidth', -1)"
   ]
  },
  {
   "cell_type": "markdown",
   "metadata": {},
   "source": [
    "# Import Data"
   ]
  },
  {
   "cell_type": "code",
   "execution_count": 7,
   "metadata": {},
   "outputs": [
    {
     "data": {
      "text/html": [
       "<div>\n",
       "<style scoped>\n",
       "    .dataframe tbody tr th:only-of-type {\n",
       "        vertical-align: middle;\n",
       "    }\n",
       "\n",
       "    .dataframe tbody tr th {\n",
       "        vertical-align: top;\n",
       "    }\n",
       "\n",
       "    .dataframe thead th {\n",
       "        text-align: right;\n",
       "    }\n",
       "</style>\n",
       "<table border=\"1\" class=\"dataframe\">\n",
       "  <thead>\n",
       "    <tr style=\"text-align: right;\">\n",
       "      <th></th>\n",
       "      <th>teks</th>\n",
       "    </tr>\n",
       "  </thead>\n",
       "  <tbody>\n",
       "    <tr>\n",
       "      <th>1463</th>\n",
       "      <td>Farallon Siap Publikasikan Rencana Bisnisnya untuk BCA\\n\\nPermintaan agar Konsorsium Farallon sebagai pemenang tender penjualan 51 persen saham BCA mengemukakan secara terbuka-di DPR misalnya-rencana bisnis dan perjanjian jual-belinya (sales and purchase agreement-SPA) dengan pemerintah ditanggapi dengan senang hati. Sebab, konsorsium ini sejak semula dalam proses tender memang menekankan aspek transparansi dan fairness. \\n\\n\"Kami belum dihubungi secara resmi mengenai hal itu. Tetapi, kami akan dengan senang hati menjawab pertanyaan dan menjelaskan bagaimana niat kami terhadap bank ini,\" ujar juru bicara Farindo Investment Tameem Ebrahim di Jakarta, Minggu (17/3). \\n\\nSebelumnya, anggota Komisi IX DPR Hamka Yandhu mengatakan, tidak tertutup kemungkinan DPR akan meminta pemerintah dan Farallon membuka rencana bisnisnya terhadap BCA dalam rapat dengan Komisi IX DPR. Hal senada dikemukakan pengamat perbankan Elvyn G Masassya. \\n\\nMenurut Elvyn, dengan diketahuinya rencana ke depan pemilik baru BCA ini, semua pihak termasuk DPR dan pers dapat menagih janji jika ternyata pada saat yang telah ditentukan nanti ternyata Farallon tidak dapat memenuhi janjinya. \\n\\nPengamat perbankan ini juga mengusulkan agar pemerintah masih memiliki hak untuk mengambil kembali saham dan menjual kembali ke pihak lain jika ternyata Farallon tidak dapat memenuhi janjinya. Adanya nilai tambah (added value) yang diberikan pemilik baru sangat dinantikan oleh berbagai pihak. \\n\\nSetelah pengumuman pemenang tender Kamis pekan lalu, harga saham BCA terkoreksi Rp 75 per lembar saham, menjadi Rp 1.900. Menanggapi hal ini, Elvyn mengatakan tidak mempercayai sepenuhnya reaksi pasar yang banyak kejanggalannya dan tidak dapat dianggap sebagai reaksi yang sesungguhnya dari pasar. \"Dapat saja itu akibat kroni-kroni tertentu yang membuang sahamnya,\" ujar Elvyn. \\n\\nObligasi \\n\\nPihak Farallon menyatakan hendak membicarakan dengan pemerintah bagaimana mekanisme mengurangi jumlah obligasi pemerintah yang ada di BCA. Pengurangan ini akan dilakukan secara bertahap, tetapi hingga kini belum ada target dan jadwal waktu yang pasti berapa dan kapan obligasi itu akan dikurangi dari BCA.  \\n\\n\"Kami baru memenangi tender ini beberapa hari lalu. Masih terlalu awal membicarakannya secara rinci. Kami tetap berkomitmen untuk mengurangi obligasi dan akan terus bekerja sama dengan pemerintah,\" ujar Ebrahim.  \\n\\nPengurangan obligasi ini juga akan dilakukan secara hati-hati. Karena jika tidak, akan membahayakan rasio kecukupan modal (CAR) BCA. \"Jika pengurangan obligasi ini nantinya mengganggu CAR, tentunya tidak akan membantu BCA, tidak akan membantu pemerintah, dan tidak membantu siapa pun. Kami mengerti kepentingan pemerintah dalam mengurangi obligasi ini untuk mengurangi beban. Dari pandangan kami, menguranginya dari obligor tunggal juga baik untuk BCA,\" ujar Ebrahim. \\n\\nDemikian juga dengan rencana untuk menjadikan BCA dalam menjalankan fungsi intermediasinya. Seberapa besar kredit yang nanti akan disalurkan untuk meningkatkan loan to deposit ratio, menurut Ebrahim, masih akan dibicarakan dengan manajemen. Konsorsium Farallon sebagai pemilik baru masih akan membicarakan target-target spesifik dengan manajemen. \\n\\nEbrahim juga mengatakan hingga kini belum ada pertemuan antara Farindo dengan Salim yang masih menguasai sekitar tujuh persen saham BCA. Ia juga tidak mau berkomentar mengenai kepemilikan Djarum sebesar 14 persen yang didapatkan dari pasar. \\n\\nDitambahkannya, konsorsium tersebut terdiri dari Farindo Investment yang merupakan bidding company dan memiliki 51 saham BCA. Di atasnya ada Farindo Holding yang memiliki 90 persen Farindo Invesment. Farindo Holding dimiliki Farallon Fund. Pihak lain adalah Alaerka Invesment yang dimiliki para pemegang saham Djarum. Alaerka memiliki sekitar 10 persen dari Farindo Investment. \\n\\nSecara terpisah, Bibit Gunawan dari Serikat Pekerja NISBA mengatakan para karyawan BCA masih mempertanyakan siapa sebenarnya Farallon. Mereka juga menyatakan belum mempercayai sepenuhnya janji Farallon yang menyatakan tidak akan merasionalisasikan karyawannya. \"Pernyataan itu masih retorika dan menjadi pertanyaan besar karena belum ada dasar hukumnya,\" ujar Bibit.  \\n\\nIa juga berharap, dengan masuknya pemilik baru BCA, segera diadakan perubahan, yaitu persamaan perlakuan di antara karyawan BCA. Menurut Bibit, selama ini telah terjadi diskriminasi di antara karyawan BCA. \\n\\nDitanya mengenai kelanjutan aksi karyawan, Bibit mengatakan karyawan masih akan berkonsolidasi lagi dan memikirkan langkah selanjutnya. \\n\\n</td>\n",
       "    </tr>\n",
       "    <tr>\n",
       "      <th>1049</th>\n",
       "      <td>Tokoh RMS Alexander Manuputty Ditangkap\\n\\nTim Penyelidik Gabungan yang dipimpin Kepala Direktorat Reserse Kepolisian Daerah Maluku Komisaris Besar Jhonny Tangkudung, Rabu (17/4), menangkap Ketua Front Kedaulatan Maluku (FKM) Alexander (Alex) H Manuputty. Tokoh yang bersikeras menuntut kedaulatan Republik Maluku Selatan (RMS) itu dijemput paksa dari kediamannya yang terletak di kawasan Kudamati, Kelurahan Benteng, Kota Ambon, untuk dimintai keterangan sehubungan dengan rencana penaikan bendera RMS pada 25 April 2002 mendatang.\\n\\nLebih kurang empat truk pasukan TNI diterjunkan dalam operasi penangkapan itu. Seluruhnya dipersenjatai lengkap dan dilapisi rompi antipeluru, sedangkan polisi berpakaian preman yang diterjunkan mencapai seratus personel.\\n\\nOperasi penangkapan tersebut sempat membuat suasana di kawasan Kudamati menjadi mencekam. Setiba di lokasi, sejumlah personel pasukan langsung memblokade jalan. Dengan cepat, mereka juga langsung merangsek dan mengepung rumah kediaman Alex Manuputty. \\n\\nSeluruh personel pasukan tampak siap siaga mengantisipasi terjadinya perlawanan dari para pendukung FKM. Sementara warga sendiri, sambil menonton dari kejauhan, dipenuhi perasaan cemas. Mereka khawatir kontak senjata terjadi dan memorakporandakan rumah mereka.\\n\\nKontak fisik antara aparat keamanan dan warga pendukung FKM sesungguhnya nyaris terjadi saat Alex Manuputty akan dibawa ke Markas Polda. Begitu melihat Alex Manuputty dibawa aparat keamanan, para pendukung fanatik FKM langsung merangsek dan menjabat tangan Alex Manuputty, memberikan dukungan. Mereka tidak peduli dengan pengawalan ketat aparat keamanan.\\n\\n\"Mena Moria,\" pekik para pendukung itu memberi semangat kepada Alex Manuputty. Seorang ibu pun menangis histeris begitu melihat Alex Manuputty dibawa petugas. Namun, karena pihak aparat dan tokoh keamanan dapat segera menenangkan massa dan bertindak persuasif, penangkapan Alex Manuputty berjalan lancar dan damai. Sebelum meninggalkan rumahnya, Jhonny Tangkudung pun memberikan kesempatan kepada Alex Manuputty untuk berkemas dan berdoa.\\n\\nSeparatisme\\n\\nSaat ditemui pers di Markas Polda, Jhonny Tangkudung menjelaskan bahwa pengambilan paksa Alex Manuputty dilakukan dalam rangka untuk memintai keterangan sehubungan dengan kegiatan yang akan dilakukannya pada 25 April mendatang. Hal tersebut juga merupakan perintah dari Penguasa Darurat Sipil Daerah Maluku Gubernur Muhammad Saleh Latuconsina. \\n\\n\"Setelah pemeriksaan selama 24 jam, kalau tidak terbukti, Alex akan dikembalikan. Tapi bila hasil pemeriksaan ditemukan bukti kuat, akan dilanjutkan dengan penahanan,\" jelasnya.\\n\\nJhonny Tangkudung mengimbau masyarakat Kota Ambon agar tenang dan membantu pemeriksaan yang dilakukan PDSD. Ia juga menjamin bahwa selama dalam pemeriksaan, Alex Manuputty akan mendapatkan perlakuan baik sesuai dengan hukum yang berlaku.\\n\\nSementara itu, saat ditemui pers di Markas Polda, Alexander Manuputty yang mengenakan jas putih dan kemeja hijau mempertanyakan penangkapan dirinya. Ia menilai penangkapan itu tidak sah, melanggar hak asasi manusia, dan teror. \"Ini otoriter,\" tegasnya. \"Saya tidak melakukan kesalahan. Kesalahan apa yang kami lakukan. Kami belum berbuat makar. \" \\n\\nBerdasarkan pemantauan Kompas di lapangan sebelum penangkapan, sejumlah warga di Kudamati sendiri mengharapkan agar pemerintah segera menangkap Alex Manuputty sebelum tanggal 25 April 2002, bila terbukti bersalah melakukan gerakan separatisme. Mereka khawatir bila itu tidak segera dilakukan, banyak warga yang tidak terlibat dalam FKM menjadi korban.\\n\\nSementara itu, hingga berita ini diturunkan, sekitar 50 warga pendukung FKM berdemonstrasi di depan Markas Polda Maluku. Mereka mendesak pihak kepolisian untuk bertindak adil dan jujur. Mereka juga mendesak pihak kepolisian segera membebaskan Alex Manuputty. \\n\\nDukung Malino\\n\\nSementara itu, sejumlah tokoh agama nasional yang tergabung dalam Gerakan Moral Lintas Agama hari Rabu mendukung sepenuhnya Perjanjian Malino dalam rangka menciptakan perdamaian di Maluku. Namun, mereka juga mengharapkan kepada berbagai pihak untuk tidak meninggalkan pihak-pihak yang selama ini belum mendukung Malino. \\n\\nHal itu dikemukakan salah satu Ketua Pengurus Besar Nahdlatul Ulama (PBNU) Salahudin Wahid kepada pers saat mengakhiri kunjungan kerja selama tiga hari di Ambon. Selain Wahid, tokoh lintas agama yang berkunjung ke Ambon di antaranya adalah Ketua Umum PBNU Hasyim Muzadi, Sekretaris PP Muhammadiyah Goodwill Zubir, salah satu Ketua Persekutuan Gereja-gereja Indonesia (PGI) Andreas Yewangoe, dan perwakilan Konferensi Waligereja In-donesia, I Ismartono SJ.\\n\\n</td>\n",
       "    </tr>\n",
       "  </tbody>\n",
       "</table>\n",
       "</div>"
      ],
      "text/plain": [
       "                                                                                                                                                                                                                                                                                                                                                                                                                                                                                                                                                                                                                                                                                                                                                                                                                                                                                                                                                                                                                                                                                                                                                                                                                                                                                                                                                                                                                                                                                                                                                                                                                                                                                                                                                                                                                                                                                                                                                                                                                                                                                                                                                                                                                                                                                                                                                                                                                                                                                                                                                                                                                                                                                                                                                                                                                                                                                                                                                                                                                                                                                                                                                                                                                                                                                                                                                                                                                                                                                                                                                                                                                                                                                                                                                                                                                                                                                                                                                                                                                                                                                                                                                                                                                                                                                                                                                                                                                                                                                                                                                                                                                                                                                                                                                                                                                            teks\n",
       "1463  Farallon Siap Publikasikan Rencana Bisnisnya untuk BCA\\n\\nPermintaan agar Konsorsium Farallon sebagai pemenang tender penjualan 51 persen saham BCA mengemukakan secara terbuka-di DPR misalnya-rencana bisnis dan perjanjian jual-belinya (sales and purchase agreement-SPA) dengan pemerintah ditanggapi dengan senang hati. Sebab, konsorsium ini sejak semula dalam proses tender memang menekankan aspek transparansi dan fairness. \\n\\n\"Kami belum dihubungi secara resmi mengenai hal itu. Tetapi, kami akan dengan senang hati menjawab pertanyaan dan menjelaskan bagaimana niat kami terhadap bank ini,\" ujar juru bicara Farindo Investment Tameem Ebrahim di Jakarta, Minggu (17/3). \\n\\nSebelumnya, anggota Komisi IX DPR Hamka Yandhu mengatakan, tidak tertutup kemungkinan DPR akan meminta pemerintah dan Farallon membuka rencana bisnisnya terhadap BCA dalam rapat dengan Komisi IX DPR. Hal senada dikemukakan pengamat perbankan Elvyn G Masassya. \\n\\nMenurut Elvyn, dengan diketahuinya rencana ke depan pemilik baru BCA ini, semua pihak termasuk DPR dan pers dapat menagih janji jika ternyata pada saat yang telah ditentukan nanti ternyata Farallon tidak dapat memenuhi janjinya. \\n\\nPengamat perbankan ini juga mengusulkan agar pemerintah masih memiliki hak untuk mengambil kembali saham dan menjual kembali ke pihak lain jika ternyata Farallon tidak dapat memenuhi janjinya. Adanya nilai tambah (added value) yang diberikan pemilik baru sangat dinantikan oleh berbagai pihak. \\n\\nSetelah pengumuman pemenang tender Kamis pekan lalu, harga saham BCA terkoreksi Rp 75 per lembar saham, menjadi Rp 1.900. Menanggapi hal ini, Elvyn mengatakan tidak mempercayai sepenuhnya reaksi pasar yang banyak kejanggalannya dan tidak dapat dianggap sebagai reaksi yang sesungguhnya dari pasar. \"Dapat saja itu akibat kroni-kroni tertentu yang membuang sahamnya,\" ujar Elvyn. \\n\\nObligasi \\n\\nPihak Farallon menyatakan hendak membicarakan dengan pemerintah bagaimana mekanisme mengurangi jumlah obligasi pemerintah yang ada di BCA. Pengurangan ini akan dilakukan secara bertahap, tetapi hingga kini belum ada target dan jadwal waktu yang pasti berapa dan kapan obligasi itu akan dikurangi dari BCA.  \\n\\n\"Kami baru memenangi tender ini beberapa hari lalu. Masih terlalu awal membicarakannya secara rinci. Kami tetap berkomitmen untuk mengurangi obligasi dan akan terus bekerja sama dengan pemerintah,\" ujar Ebrahim.  \\n\\nPengurangan obligasi ini juga akan dilakukan secara hati-hati. Karena jika tidak, akan membahayakan rasio kecukupan modal (CAR) BCA. \"Jika pengurangan obligasi ini nantinya mengganggu CAR, tentunya tidak akan membantu BCA, tidak akan membantu pemerintah, dan tidak membantu siapa pun. Kami mengerti kepentingan pemerintah dalam mengurangi obligasi ini untuk mengurangi beban. Dari pandangan kami, menguranginya dari obligor tunggal juga baik untuk BCA,\" ujar Ebrahim. \\n\\nDemikian juga dengan rencana untuk menjadikan BCA dalam menjalankan fungsi intermediasinya. Seberapa besar kredit yang nanti akan disalurkan untuk meningkatkan loan to deposit ratio, menurut Ebrahim, masih akan dibicarakan dengan manajemen. Konsorsium Farallon sebagai pemilik baru masih akan membicarakan target-target spesifik dengan manajemen. \\n\\nEbrahim juga mengatakan hingga kini belum ada pertemuan antara Farindo dengan Salim yang masih menguasai sekitar tujuh persen saham BCA. Ia juga tidak mau berkomentar mengenai kepemilikan Djarum sebesar 14 persen yang didapatkan dari pasar. \\n\\nDitambahkannya, konsorsium tersebut terdiri dari Farindo Investment yang merupakan bidding company dan memiliki 51 saham BCA. Di atasnya ada Farindo Holding yang memiliki 90 persen Farindo Invesment. Farindo Holding dimiliki Farallon Fund. Pihak lain adalah Alaerka Invesment yang dimiliki para pemegang saham Djarum. Alaerka memiliki sekitar 10 persen dari Farindo Investment. \\n\\nSecara terpisah, Bibit Gunawan dari Serikat Pekerja NISBA mengatakan para karyawan BCA masih mempertanyakan siapa sebenarnya Farallon. Mereka juga menyatakan belum mempercayai sepenuhnya janji Farallon yang menyatakan tidak akan merasionalisasikan karyawannya. \"Pernyataan itu masih retorika dan menjadi pertanyaan besar karena belum ada dasar hukumnya,\" ujar Bibit.  \\n\\nIa juga berharap, dengan masuknya pemilik baru BCA, segera diadakan perubahan, yaitu persamaan perlakuan di antara karyawan BCA. Menurut Bibit, selama ini telah terjadi diskriminasi di antara karyawan BCA. \\n\\nDitanya mengenai kelanjutan aksi karyawan, Bibit mengatakan karyawan masih akan berkonsolidasi lagi dan memikirkan langkah selanjutnya. \\n\\n                                                                  \n",
       "1049  Tokoh RMS Alexander Manuputty Ditangkap\\n\\nTim Penyelidik Gabungan yang dipimpin Kepala Direktorat Reserse Kepolisian Daerah Maluku Komisaris Besar Jhonny Tangkudung, Rabu (17/4), menangkap Ketua Front Kedaulatan Maluku (FKM) Alexander (Alex) H Manuputty. Tokoh yang bersikeras menuntut kedaulatan Republik Maluku Selatan (RMS) itu dijemput paksa dari kediamannya yang terletak di kawasan Kudamati, Kelurahan Benteng, Kota Ambon, untuk dimintai keterangan sehubungan dengan rencana penaikan bendera RMS pada 25 April 2002 mendatang.\\n\\nLebih kurang empat truk pasukan TNI diterjunkan dalam operasi penangkapan itu. Seluruhnya dipersenjatai lengkap dan dilapisi rompi antipeluru, sedangkan polisi berpakaian preman yang diterjunkan mencapai seratus personel.\\n\\nOperasi penangkapan tersebut sempat membuat suasana di kawasan Kudamati menjadi mencekam. Setiba di lokasi, sejumlah personel pasukan langsung memblokade jalan. Dengan cepat, mereka juga langsung merangsek dan mengepung rumah kediaman Alex Manuputty. \\n\\nSeluruh personel pasukan tampak siap siaga mengantisipasi terjadinya perlawanan dari para pendukung FKM. Sementara warga sendiri, sambil menonton dari kejauhan, dipenuhi perasaan cemas. Mereka khawatir kontak senjata terjadi dan memorakporandakan rumah mereka.\\n\\nKontak fisik antara aparat keamanan dan warga pendukung FKM sesungguhnya nyaris terjadi saat Alex Manuputty akan dibawa ke Markas Polda. Begitu melihat Alex Manuputty dibawa aparat keamanan, para pendukung fanatik FKM langsung merangsek dan menjabat tangan Alex Manuputty, memberikan dukungan. Mereka tidak peduli dengan pengawalan ketat aparat keamanan.\\n\\n\"Mena Moria,\" pekik para pendukung itu memberi semangat kepada Alex Manuputty. Seorang ibu pun menangis histeris begitu melihat Alex Manuputty dibawa petugas. Namun, karena pihak aparat dan tokoh keamanan dapat segera menenangkan massa dan bertindak persuasif, penangkapan Alex Manuputty berjalan lancar dan damai. Sebelum meninggalkan rumahnya, Jhonny Tangkudung pun memberikan kesempatan kepada Alex Manuputty untuk berkemas dan berdoa.\\n\\nSeparatisme\\n\\nSaat ditemui pers di Markas Polda, Jhonny Tangkudung menjelaskan bahwa pengambilan paksa Alex Manuputty dilakukan dalam rangka untuk memintai keterangan sehubungan dengan kegiatan yang akan dilakukannya pada 25 April mendatang. Hal tersebut juga merupakan perintah dari Penguasa Darurat Sipil Daerah Maluku Gubernur Muhammad Saleh Latuconsina. \\n\\n\"Setelah pemeriksaan selama 24 jam, kalau tidak terbukti, Alex akan dikembalikan. Tapi bila hasil pemeriksaan ditemukan bukti kuat, akan dilanjutkan dengan penahanan,\" jelasnya.\\n\\nJhonny Tangkudung mengimbau masyarakat Kota Ambon agar tenang dan membantu pemeriksaan yang dilakukan PDSD. Ia juga menjamin bahwa selama dalam pemeriksaan, Alex Manuputty akan mendapatkan perlakuan baik sesuai dengan hukum yang berlaku.\\n\\nSementara itu, saat ditemui pers di Markas Polda, Alexander Manuputty yang mengenakan jas putih dan kemeja hijau mempertanyakan penangkapan dirinya. Ia menilai penangkapan itu tidak sah, melanggar hak asasi manusia, dan teror. \"Ini otoriter,\" tegasnya. \"Saya tidak melakukan kesalahan. Kesalahan apa yang kami lakukan. Kami belum berbuat makar. \" \\n\\nBerdasarkan pemantauan Kompas di lapangan sebelum penangkapan, sejumlah warga di Kudamati sendiri mengharapkan agar pemerintah segera menangkap Alex Manuputty sebelum tanggal 25 April 2002, bila terbukti bersalah melakukan gerakan separatisme. Mereka khawatir bila itu tidak segera dilakukan, banyak warga yang tidak terlibat dalam FKM menjadi korban.\\n\\nSementara itu, hingga berita ini diturunkan, sekitar 50 warga pendukung FKM berdemonstrasi di depan Markas Polda Maluku. Mereka mendesak pihak kepolisian untuk bertindak adil dan jujur. Mereka juga mendesak pihak kepolisian segera membebaskan Alex Manuputty. \\n\\nDukung Malino\\n\\nSementara itu, sejumlah tokoh agama nasional yang tergabung dalam Gerakan Moral Lintas Agama hari Rabu mendukung sepenuhnya Perjanjian Malino dalam rangka menciptakan perdamaian di Maluku. Namun, mereka juga mengharapkan kepada berbagai pihak untuk tidak meninggalkan pihak-pihak yang selama ini belum mendukung Malino. \\n\\nHal itu dikemukakan salah satu Ketua Pengurus Besar Nahdlatul Ulama (PBNU) Salahudin Wahid kepada pers saat mengakhiri kunjungan kerja selama tiga hari di Ambon. Selain Wahid, tokoh lintas agama yang berkunjung ke Ambon di antaranya adalah Ketua Umum PBNU Hasyim Muzadi, Sekretaris PP Muhammadiyah Goodwill Zubir, salah satu Ketua Persekutuan Gereja-gereja Indonesia (PGI) Andreas Yewangoe, dan perwakilan Konferensi Waligereja In-donesia, I Ismartono SJ.\\n\\n"
      ]
     },
     "execution_count": 7,
     "metadata": {},
     "output_type": "execute_result"
    }
   ],
   "source": [
    "df = pd.read_csv('../Wira - Github/data/kompas.csv')\n",
    "df.sample(2)"
   ]
  },
  {
   "cell_type": "markdown",
   "metadata": {},
   "source": [
    "# Extract TFIDF"
   ]
  },
  {
   "cell_type": "code",
   "execution_count": 11,
   "metadata": {},
   "outputs": [],
   "source": [
    "tfidf = TfidfVectorizer(ngram_range=(1,2), tokenizer=word_tokenize, stop_words=sw_indo)\n",
    "tfidf_matrix = tfidf.fit_transform(df['teks'])"
   ]
  },
  {
   "cell_type": "markdown",
   "metadata": {},
   "source": [
    "# TFIDF Similarity => Document Similarity"
   ]
  },
  {
   "cell_type": "code",
   "execution_count": 12,
   "metadata": {},
   "outputs": [],
   "source": [
    "from sklearn.metrics.pairwise import cosine_similarity"
   ]
  },
  {
   "cell_type": "markdown",
   "metadata": {},
   "source": [
    "`contoh teknik lainnya : seperti KNN menghitung distance paling dekat`"
   ]
  },
  {
   "cell_type": "code",
   "execution_count": 13,
   "metadata": {},
   "outputs": [
    {
     "data": {
      "text/plain": [
       "array([[1.        , 0.00858328, 0.01060043, ..., 0.00856287, 0.00677808,\n",
       "        0.01513341]])"
      ]
     },
     "execution_count": 13,
     "metadata": {},
     "output_type": "execute_result"
    }
   ],
   "source": [
    "sim = cosine_similarity(tfidf_matrix[0], tfidf_matrix)\n",
    "sim"
   ]
  },
  {
   "cell_type": "markdown",
   "metadata": {},
   "source": [
    "penjelasan : apakah dokumen ke 0 mirip dengan dokumen ke 0, dst"
   ]
  },
  {
   "cell_type": "code",
   "execution_count": 14,
   "metadata": {},
   "outputs": [
    {
     "data": {
      "text/plain": [
       "array([[ 932, 1131, 1593, ...,  215,  144,    0]], dtype=int64)"
      ]
     },
     "execution_count": 14,
     "metadata": {},
     "output_type": "execute_result"
    }
   ],
   "source": [
    "sim.argsort()"
   ]
  },
  {
   "cell_type": "markdown",
   "metadata": {},
   "source": [
    "**Dokumen ke-0 `mirip` dengan dokumen ke-144, 215 dst**"
   ]
  },
  {
   "cell_type": "code",
   "execution_count": 16,
   "metadata": {},
   "outputs": [
    {
     "name": "stdout",
     "output_type": "stream",
     "text": [
      "Ginandjar Tetap Ditahan. Jaksa Agung Dilaporkan ke Polri\n",
      "Kejaksaan Agung memutuskan untuk tetap menahan tersangka kasus korupsi, Ginandjar Kartasasmita, sampai batas waktu yang ditentukan KUHAP. Sedan\n"
     ]
    }
   ],
   "source": [
    "print(df.teks[0][:200])"
   ]
  },
  {
   "cell_type": "code",
   "execution_count": 17,
   "metadata": {},
   "outputs": [
    {
     "name": "stdout",
     "output_type": "stream",
     "text": [
      "Kejaksaan Agung Terbitkan Surat Penahanan Baru\n",
      "Kejaksaan Agung (Kejagung) akhirnya menerbitkan surat perintah penahanan yang baru terhadap mantan Menteri Pertambangan dan Energi Ginandjar Kartasasmita\n"
     ]
    }
   ],
   "source": [
    "print(df.teks[144][:200])"
   ]
  },
  {
   "cell_type": "code",
   "execution_count": 18,
   "metadata": {},
   "outputs": [
    {
     "name": "stdout",
     "output_type": "stream",
     "text": [
      "Kuasa Hukum Ginandjar Bertahan di Rutan\n",
      "Sejumlah kuasa hukum Ginandjar Kartasasmita hingga hari Selasa (17/4) pukul 22.00 masih bertahan di ruang tahanan (rutan) Kejaksaan Agung (Kejagung). Selasa pag\n"
     ]
    }
   ],
   "source": [
    "print(df.teks[215][:200])"
   ]
  },
  {
   "cell_type": "markdown",
   "metadata": {},
   "source": [
    "**Dokumen ke-0 `tidak mirip` dengan dokumen ke-932 dst**"
   ]
  },
  {
   "cell_type": "code",
   "execution_count": 19,
   "metadata": {},
   "outputs": [
    {
     "name": "stdout",
     "output_type": "stream",
     "text": [
      "Pusat Pengolahan Ikan Asin Lhokseumawe Terbakar\n",
      "Pusat pengolahan ikan asin di kawasan Pasar Ikan Lhokseumawe (Aceh) terbakar bersama berton-ton stok ikan asin Sabtu (13/1) siang. Sedikitnya 25 gudang \n"
     ]
    }
   ],
   "source": [
    "print(df.teks[932][:200])"
   ]
  },
  {
   "cell_type": "markdown",
   "metadata": {},
   "source": [
    "# Keyword Extraction"
   ]
  },
  {
   "cell_type": "code",
   "execution_count": 20,
   "metadata": {},
   "outputs": [
    {
     "data": {
      "text/plain": [
       "['zuniga memilih',\n",
       " 'zunnatul',\n",
       " 'zunnatul mafruhah',\n",
       " 'zurich',\n",
       " 'zurich northholt',\n",
       " 'zw',\n",
       " 'zw suparman',\n",
       " 'zw tim',\n",
       " 'zx',\n",
       " 'zx diserbu']"
      ]
     },
     "execution_count": 20,
     "metadata": {},
     "output_type": "execute_result"
    }
   ],
   "source": [
    "vocab = tfidf.get_feature_names()\n",
    "vocab[-10:]"
   ]
  },
  {
   "cell_type": "code",
   "execution_count": 26,
   "metadata": {},
   "outputs": [
    {
     "data": {
      "text/plain": [
       "array([0.02115058, 0.        , 0.        , ..., 0.        , 0.        ,\n",
       "       0.        ])"
      ]
     },
     "execution_count": 26,
     "metadata": {},
     "output_type": "execute_result"
    }
   ],
   "source": [
    "tfidf_matrix[0].toarray()[0]"
   ]
  },
  {
   "cell_type": "code",
   "execution_count": 22,
   "metadata": {},
   "outputs": [
    {
     "data": {
      "text/plain": [
       "array([274212, 365469, 365468, ..., 386379, 436652, 169219], dtype=int64)"
      ]
     },
     "execution_count": 22,
     "metadata": {},
     "output_type": "execute_result"
    }
   ],
   "source": [
    "sorted_tfidf = tfidf_matrix[0].toarray()[0].argsort()\n",
    "sorted_tfidf"
   ]
  },
  {
   "cell_type": "code",
   "execution_count": 23,
   "metadata": {},
   "outputs": [
    {
     "data": {
      "text/plain": [
       "'ginandjar'"
      ]
     },
     "execution_count": 23,
     "metadata": {},
     "output_type": "execute_result"
    }
   ],
   "source": [
    "vocab[169219]"
   ]
  },
  {
   "cell_type": "code",
   "execution_count": 24,
   "metadata": {},
   "outputs": [
    {
     "data": {
      "text/plain": [
       "'putusan'"
      ]
     },
     "execution_count": 24,
     "metadata": {},
     "output_type": "execute_result"
    }
   ],
   "source": [
    "vocab[436652]"
   ]
  },
  {
   "cell_type": "code",
   "execution_count": 25,
   "metadata": {},
   "outputs": [
    {
     "data": {
      "text/plain": [
       "['9 april',\n",
       " 'kuasa',\n",
       " 'hakim rusman',\n",
       " 'kejaksaan',\n",
       " 'rusman',\n",
       " 'kuasa hukum',\n",
       " 'hukum ginandjar',\n",
       " 'penahanan',\n",
       " 'putusan',\n",
       " 'ginandjar']"
      ]
     },
     "execution_count": 25,
     "metadata": {},
     "output_type": "execute_result"
    }
   ],
   "source": [
    "[vocab[idx] for idx in sorted_tfidf[-10:]]"
   ]
  },
  {
   "cell_type": "markdown",
   "metadata": {},
   "source": [
    "### Function to Extract Keywords"
   ]
  },
  {
   "cell_type": "markdown",
   "metadata": {},
   "source": [
    "`Mengambil top 10 keywords dari setiap dokumen`"
   ]
  },
  {
   "cell_type": "code",
   "execution_count": 27,
   "metadata": {},
   "outputs": [],
   "source": [
    "def extract_keywords_tfidf(text, tfidf, topk=10):\n",
    "    matrix = tfidf.transform([text])\n",
    "    vocab = tfidf.get_feature_names()\n",
    "    sorted_tfidf = matrix[0].toarray()[0].argsort()\n",
    "\n",
    "    return [vocab[idx] for idx in reversed(sorted_tfidf[-topk:])]"
   ]
  },
  {
   "cell_type": "code",
   "execution_count": 31,
   "metadata": {},
   "outputs": [
    {
     "data": {
      "text/plain": [
       "['vaksinasi',\n",
       " 'pendaftaran',\n",
       " 'usia',\n",
       " 'penularan',\n",
       " 'resmi',\n",
       " 'kelompok usia',\n",
       " 'langkah upaya',\n",
       " 'terbukti efektif',\n",
       " 'membuka pendaftaran',\n",
       " 'dihimbau']"
      ]
     },
     "execution_count": 31,
     "metadata": {},
     "output_type": "execute_result"
    }
   ],
   "source": [
    "contoh_teks = \"\"\"\n",
    "Pemerintah Resmi Buka Pendaftaran Vaksinasi COVID-19 untuk Usia 12-17 Tahun\n",
    "\n",
    "Jakarta - Pemerintah Indonesia telah resmi membuka pendaftaran vaksinasi COVID-19 untuk anak usia 12-17 tahun. Langkah ini dilakukan sebagai upaya untuk memperluas cakupan vaksinasi dan meningkatkan kekebalan kelompok usia muda terhadap virus yang menyebabkan pandemi global ini.\n",
    "\n",
    "Pemerintah berharap dengan inklusi usia remaja dalam program vaksinasi ini, akan membantu mengurangi risiko penularan dan melindungi mereka dari potensi komplikasi serius akibat COVID-19. Selain itu, langkah ini juga diambil untuk mendukung rencana pembukaan kembali sekolah secara fisik dengan protokol kesehatan yang ketat.\n",
    "\n",
    "Masyarakat dihimbau untuk segera mendaftarkan anak-anak mereka melalui platform pendaftaran resmi yang telah disediakan. Proses vaksinasi akan dilakukan dengan mematuhi pedoman dan penanganan khusus sesuai standar kesehatan yang berlaku.\n",
    "\n",
    "Selain pendaftaran, pemerintah juga terus melakukan edukasi kepada masyarakat terkait manfaat vaksinasi dan pentingnya partisipasi aktif dalam program ini. Vaksin COVID-19 telah terbukti efektif dalam mengurangi tingkat keparahan penyakit dan membantu memutus rantai penularan.\n",
    "\n",
    "Mari bersama-sama kita berkontribusi dalam memerangi pandemi ini dengan menerima vaksinasi COVID-19 sesuai dengan jadwal yang telah ditentukan.\n",
    "\"\"\"\n",
    "extract_keywords_tfidf(contoh_teks, tfidf)"
   ]
  },
  {
   "cell_type": "code",
   "execution_count": 32,
   "metadata": {},
   "outputs": [
    {
     "data": {
      "text/plain": [
       "['kebakaran hutan',\n",
       " 'kebakaran',\n",
       " 'hutan',\n",
       " 'pemadaman',\n",
       " 'upaya pemadaman',\n",
       " 'api',\n",
       " 'memicu',\n",
       " 'aktivitas',\n",
       " 'masyarakat dampak',\n",
       " 'bahaya kebakaran']"
      ]
     },
     "execution_count": 32,
     "metadata": {},
     "output_type": "execute_result"
    }
   ],
   "source": [
    "contoh_teks = \"\"\"\n",
    "Kebakaran Hutan Meluas di Berbagai Daerah: Upaya Pemadaman Terus Dilakukan\n",
    "\n",
    "Beberapa wilayah di Indonesia mengalami peningkatan kejadian kebakaran hutan dalam beberapa minggu terakhir. Kondisi cuaca yang kering dan angin kencang menjadi faktor utama yang memicu meluasnya kebakaran hutan, mengancam ekosistem dan kesehatan masyarakat.\n",
    "\n",
    "Pemerintah dan tim pemadam kebakaran terus berupaya keras untuk memadamkan api yang menjalar di berbagai lokasi. Upaya pemadaman meliputi penggunaan helikopter untuk menjatuhkan air di titik-titik api, tim lapangan yang melakukan pemadaman secara langsung, serta penegakan hukum terhadap aktivitas pembakaran hutan ilegal.\n",
    "\n",
    "Masyarakat diminta untuk berhati-hati dan tidak melakukan aktivitas yang dapat memicu kebakaran, seperti membakar sampah sembarangan atau meninggalkan api terbuka tanpa pengawasan. Edukasi mengenai bahaya kebakaran hutan juga ditingkatkan untuk meningkatkan kesadaran masyarakat akan dampak buruk yang diakibatkan oleh kebakaran hutan.\n",
    "\n",
    "Pemerintah bersama lembaga terkait terus berkoordinasi dan berusaha keras untuk mengatasi bencana ini. Semoga situasi segera terkendali dan kerusakan lingkungan dapat diminimalisir.\n",
    "\"\"\"\n",
    "extract_keywords_tfidf(contoh_teks, tfidf)"
   ]
  },
  {
   "cell_type": "markdown",
   "metadata": {},
   "source": [
    "# Melihat IDF"
   ]
  },
  {
   "cell_type": "code",
   "execution_count": 33,
   "metadata": {},
   "outputs": [
    {
     "data": {
      "text/plain": [
       "array([ 28068,      0, 200992, ..., 199885, 199916, 548425], dtype=int64)"
      ]
     },
     "execution_count": 33,
     "metadata": {},
     "output_type": "execute_result"
    }
   ],
   "source": [
    "tfidf.idf_.argsort()"
   ]
  },
  {
   "cell_type": "code",
   "execution_count": 34,
   "metadata": {},
   "outputs": [
    {
     "data": {
      "text/plain": [
       "'zx diserbu'"
      ]
     },
     "execution_count": 34,
     "metadata": {},
     "output_type": "execute_result"
    }
   ],
   "source": [
    "vocab[548425]"
   ]
  },
  {
   "cell_type": "code",
   "execution_count": 35,
   "metadata": {},
   "outputs": [
    {
     "data": {
      "text/plain": [
       "'``'"
      ]
     },
     "execution_count": 35,
     "metadata": {},
     "output_type": "execute_result"
    }
   ],
   "source": [
    "vocab[28068]"
   ]
  },
  {
   "cell_type": "code",
   "execution_count": 36,
   "metadata": {},
   "outputs": [
    {
     "data": {
      "text/plain": [
       "\"''\""
      ]
     },
     "execution_count": 36,
     "metadata": {},
     "output_type": "execute_result"
    }
   ],
   "source": [
    "vocab[0]"
   ]
  },
  {
   "cell_type": "code",
   "execution_count": 37,
   "metadata": {},
   "outputs": [
    {
     "data": {
      "text/plain": [
       "'jakarta'"
      ]
     },
     "execution_count": 37,
     "metadata": {},
     "output_type": "execute_result"
    }
   ],
   "source": [
    "vocab[200992]"
   ]
  }
 ],
 "metadata": {
  "kernelspec": {
   "display_name": "Python 3",
   "language": "python",
   "name": "python3"
  },
  "language_info": {
   "codemirror_mode": {
    "name": "ipython",
    "version": 3
   },
   "file_extension": ".py",
   "mimetype": "text/x-python",
   "name": "python",
   "nbconvert_exporter": "python",
   "pygments_lexer": "ipython3",
   "version": "3.10.1"
  },
  "orig_nbformat": 4
 },
 "nbformat": 4,
 "nbformat_minor": 2
}
