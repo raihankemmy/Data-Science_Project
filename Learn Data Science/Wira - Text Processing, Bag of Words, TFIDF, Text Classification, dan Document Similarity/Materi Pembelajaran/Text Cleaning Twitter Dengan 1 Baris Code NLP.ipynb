{
 "cells": [
  {
   "cell_type": "code",
   "execution_count": 1,
   "metadata": {},
   "outputs": [],
   "source": [
    "import preprocessor as p"
   ]
  },
  {
   "cell_type": "code",
   "execution_count": 5,
   "metadata": {},
   "outputs": [],
   "source": [
    "SAMPLE_TEXT = \"\"\"\n",
    "Yuk belajar Text Cleaning    \n",
    " [EMOJI] 😙😙🙏🙏👍👍\n",
    " [ASCII] ☺♣☻☼♥\n",
    " [ESC_CHAR] \\n \\t\n",
    " [HASHTAG] #BelajarPython #BelajarNLP\n",
    " [MENTION] @raihankemmy\n",
    " [NUMBER_1] 081234567890 Rp 25.000 -3.14 1.500.000,00\n",
    " [CURRENCY] Rp25.000 $5\n",
    " [RESERVED_WORD] RT @raihankemmy: #BelajarPython #BelajarNLP FAV Tweet ini ya\n",
    " [SMILEY_1] :) :( :D :P :S :O ;) :* :3\n",
    " [SMILEY_2] ^_^ -_- -__- -___- -____- -_____- XD :$ (: ):\n",
    " [URL] https://www.youtube.com/\n",
    "\"\"\""
   ]
  },
  {
   "cell_type": "markdown",
   "metadata": {},
   "source": [
    "# Basic Cleaning"
   ]
  },
  {
   "cell_type": "code",
   "execution_count": 6,
   "metadata": {},
   "outputs": [
    {
     "name": "stdout",
     "output_type": "stream",
     "text": [
      "Yuk belajar Text Cleaning [EMOJI] [ASCII] [ESC_CHAR] [HASHTAG] [MENTION] [NUMBER_1] Rp [CURRENCY] Rp25.000 $5 [RESERVED_WORD] RT : FAV Tweet ini ya [SMILEY_1] :* :3 [SMILEY_2] ^_^ -_- -__- -___- -____- -_____- XD :$ [URL]\n"
     ]
    }
   ],
   "source": [
    "print(p.clean(SAMPLE_TEXT))"
   ]
  },
  {
   "cell_type": "markdown",
   "metadata": {},
   "source": [
    "# Tokenize"
   ]
  },
  {
   "cell_type": "code",
   "execution_count": 8,
   "metadata": {},
   "outputs": [
    {
     "name": "stdout",
     "output_type": "stream",
     "text": [
      "Yuk belajar Text Cleaning [EMOJI] $EMOJI$$EMOJI$$EMOJI$$EMOJI$$EMOJI$$EMOJI$ [ASCII] $EMOJI$$EMOJI$$EMOJI$$EMOJI$$EMOJI$ [ESC_CHAR] [HASHTAG] $HASHTAG$ $HASHTAG$ [MENTION] $MENTION$ [NUMBER_1] $NUMBER$ Rp $NUMBER$ $NUMBER$ $NUMBER$ [CURRENCY] Rp25.000 $5 [RESERVED_WORD] RT $MENTION$: $HASHTAG$ $HASHTAG$ FAV Tweet ini ya [SMILEY_1] $SMILEY$ $SMILEY$ $SMILEY$ $SMILEY$ $SMILEY$ $SMILEY$ $SMILEY$ :* :3 [SMILEY_2] ^_^ -_- -__- -___- -____- -_____- XD :$ [URL] $URL$\n"
     ]
    }
   ],
   "source": [
    "print(p.tokenize(SAMPLE_TEXT))"
   ]
  },
  {
   "cell_type": "markdown",
   "metadata": {},
   "source": [
    "# Configurable"
   ]
  },
  {
   "cell_type": "code",
   "execution_count": 9,
   "metadata": {},
   "outputs": [
    {
     "name": "stdout",
     "output_type": "stream",
     "text": [
      "Yuk belajar Text Cleaning [EMOJI] 😙😙🙏🙏👍👍 [ASCII] ☺♣☻☼♥ [ESC_CHAR] [HASHTAG] #BelajarPython #BelajarNLP [MENTION] @raihankemmy [NUMBER_1] Rp [CURRENCY] Rp25.000 $5 [RESERVED_WORD] RT @raihankemmy: #BelajarPython #BelajarNLP FAV Tweet ini ya [SMILEY_1] :) :( :D :P :S :O ;) :* :3 [SMILEY_2] ^_^ -_- -__- -___- -____- -_____- XD :$ [URL]\n"
     ]
    }
   ],
   "source": [
    "p.set_options(p.OPT.URL, p.OPT.NUMBER)\n",
    "print(p.clean(SAMPLE_TEXT))"
   ]
  }
 ],
 "metadata": {
  "kernelspec": {
   "display_name": "Python 3",
   "language": "python",
   "name": "python3"
  },
  "language_info": {
   "codemirror_mode": {
    "name": "ipython",
    "version": 3
   },
   "file_extension": ".py",
   "mimetype": "text/x-python",
   "name": "python",
   "nbconvert_exporter": "python",
   "pygments_lexer": "ipython3",
   "version": "3.10.1"
  },
  "orig_nbformat": 4
 },
 "nbformat": 4,
 "nbformat_minor": 2
}
