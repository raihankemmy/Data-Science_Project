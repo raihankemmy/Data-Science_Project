{
  "cells": [
    {
      "cell_type": "markdown",
      "metadata": {
        "id": "view-in-github",
        "colab_type": "text"
      },
      "source": [
        "<a href=\"https://colab.research.google.com/github/raihankemmy/CreditLoanRisk/blob/main/CreditLoanPrediction.ipynb\" target=\"_parent\"><img src=\"https://colab.research.google.com/assets/colab-badge.svg\" alt=\"Open In Colab\"/></a>"
      ]
    },
    {
      "cell_type": "markdown",
      "metadata": {
        "id": "IDZRzutoHr-I"
      },
      "source": [
        "# Credit Risk Loan Prediction"
      ]
    },
    {
      "cell_type": "markdown",
      "metadata": {
        "id": "KPYPQwmxHr-M"
      },
      "source": [
        "ID/X Partners Data Scientist Virtual Internship Program\n",
        "<br>Raihan Kemmy Rachmansyah"
      ]
    },
    {
      "cell_type": "markdown",
      "metadata": {
        "id": "BNSzb59ow8fN"
      },
      "source": [
        "### Install Imbalanced Learn Package"
      ]
    },
    {
      "cell_type": "code",
      "execution_count": 2,
      "metadata": {
        "colab": {
          "base_uri": "https://localhost:8080/"
        },
        "id": "9qksth-qON9C",
        "outputId": "c32b1929-4762-4857-cddd-7399d8d12c47"
      },
      "outputs": [
        {
          "output_type": "stream",
          "name": "stdout",
          "text": [
            "Looking in indexes: https://pypi.org/simple, https://us-python.pkg.dev/colab-wheels/public/simple/\n",
            "Requirement already satisfied: imbalanced-learn in /usr/local/lib/python3.7/dist-packages (0.8.1)\n",
            "Requirement already satisfied: scipy>=0.19.1 in /usr/local/lib/python3.7/dist-packages (from imbalanced-learn) (1.7.3)\n",
            "Requirement already satisfied: joblib>=0.11 in /usr/local/lib/python3.7/dist-packages (from imbalanced-learn) (1.2.0)\n",
            "Requirement already satisfied: scikit-learn>=0.24 in /usr/local/lib/python3.7/dist-packages (from imbalanced-learn) (1.0.2)\n",
            "Requirement already satisfied: numpy>=1.13.3 in /usr/local/lib/python3.7/dist-packages (from imbalanced-learn) (1.21.6)\n",
            "Requirement already satisfied: threadpoolctl>=2.0.0 in /usr/local/lib/python3.7/dist-packages (from scikit-learn>=0.24->imbalanced-learn) (3.1.0)\n"
          ]
        }
      ],
      "source": [
        "!pip install imbalanced-learn"
      ]
    },
    {
      "cell_type": "markdown",
      "metadata": {
        "id": "-x-T0sIjw_qJ"
      },
      "source": [
        "### Menyambungkan ke Akun Google "
      ]
    },
    {
      "cell_type": "code",
      "execution_count": 3,
      "metadata": {
        "colab": {
          "base_uri": "https://localhost:8080/"
        },
        "id": "O1sE72imILA1",
        "outputId": "d88caf60-a4f2-4a9b-fcbf-5119e1e10d25"
      },
      "outputs": [
        {
          "output_type": "stream",
          "name": "stdout",
          "text": [
            "Mounted at /content/drive\n"
          ]
        }
      ],
      "source": [
        "from google.colab import drive\n",
        "drive.mount('/content/drive')"
      ]
    },
    {
      "cell_type": "markdown",
      "metadata": {
        "id": "eU1hdjRxxB11"
      },
      "source": [
        "### Import Package yang akan Digunakan"
      ]
    },
    {
      "cell_type": "code",
      "execution_count": 4,
      "metadata": {
        "id": "xZz4YTa_Hr-N"
      },
      "outputs": [],
      "source": [
        "import numpy as np\n",
        "import pandas as pd\n",
        "\n",
        "import matplotlib.pyplot as plt\n",
        "import seaborn as sns\n",
        "\n",
        "from sklearn.model_selection import train_test_split\n",
        "from sklearn.pipeline import Pipeline\n",
        "from sklearn.compose import ColumnTransformer\n",
        "from sklearn.preprocessing import StandardScaler\n",
        "from sklearn.preprocessing import OneHotEncoder\n",
        "from imblearn.under_sampling import RandomUnderSampler\n",
        "from imblearn.pipeline import Pipeline as ImbPipeline"
      ]
    },
    {
      "cell_type": "markdown",
      "metadata": {
        "id": "SD2HBa1kxLm0"
      },
      "source": []
    },
    {
      "cell_type": "code",
      "execution_count": 5,
      "metadata": {
        "id": "nK3CwY5eHr-O"
      },
      "outputs": [],
      "source": [
        "pd.set_option('display.max_columns', None)\n",
        "pd.set_option('display.max_rows', None)"
      ]
    },
    {
      "cell_type": "markdown",
      "metadata": {
        "id": "wtr3dwbExMQz"
      },
      "source": [
        "Set jumlah maksimal Display pada kolom dan baris menjadi tidak terhingga atau tidak ada batasan maksimal"
      ]
    },
    {
      "cell_type": "markdown",
      "metadata": {
        "id": "3fVOBJ3AxUDD"
      },
      "source": [
        "### Import Data"
      ]
    },
    {
      "cell_type": "code",
      "execution_count": 6,
      "metadata": {
        "colab": {
          "base_uri": "https://localhost:8080/"
        },
        "id": "C3B2Jq6_Hr-O",
        "outputId": "22a62486-331b-4168-f5dc-f023a9b8559e"
      },
      "outputs": [
        {
          "output_type": "stream",
          "name": "stderr",
          "text": [
            "/usr/local/lib/python3.7/dist-packages/IPython/core/interactiveshell.py:3326: DtypeWarning: Columns (20) have mixed types.Specify dtype option on import or set low_memory=False.\n",
            "  exec(code_obj, self.user_global_ns, self.user_ns)\n"
          ]
        }
      ],
      "source": [
        "data_raw = pd.read_csv(\"/content/drive/MyDrive/Colab Notebooks/dataset/loan_data_2007_2014.csv\", index_col='Unnamed: 0')"
      ]
    },
    {
      "cell_type": "markdown",
      "metadata": {
        "id": "GypjfChZxcQv"
      },
      "source": [
        "menjadikan kolom 0 atau unnamed: 0 menjadi kolom index pada data"
      ]
    },
    {
      "cell_type": "markdown",
      "metadata": {
        "id": "F3JWJauGHr-P"
      },
      "source": [
        "# Cleaning Data"
      ]
    },
    {
      "cell_type": "markdown",
      "metadata": {
        "id": "ds24ahPnxhz_"
      },
      "source": [
        "### Melihat Jumlah Baris dan Kolom pada data"
      ]
    },
    {
      "cell_type": "code",
      "execution_count": 7,
      "metadata": {
        "colab": {
          "base_uri": "https://localhost:8080/"
        },
        "id": "-dIvAadlHr-P",
        "outputId": "dbf0c914-6bb6-4d40-e8fd-4c04b6f14cd4"
      },
      "outputs": [
        {
          "output_type": "execute_result",
          "data": {
            "text/plain": [
              "(466285, 74)"
            ]
          },
          "metadata": {},
          "execution_count": 7
        }
      ],
      "source": [
        "data_raw.shape"
      ]
    },
    {
      "cell_type": "markdown",
      "metadata": {
        "id": "KdoqCkB_xkzr"
      },
      "source": [
        "### Melihat Data yang terdapat Missing Value atau Data yang Kosong"
      ]
    },
    {
      "cell_type": "code",
      "execution_count": 8,
      "metadata": {
        "colab": {
          "base_uri": "https://localhost:8080/"
        },
        "id": "rh73Joe_Hr-Q",
        "outputId": "a9b53132-d166-4a9d-ab27-1795fabf4825"
      },
      "outputs": [
        {
          "output_type": "execute_result",
          "data": {
            "text/plain": [
              "id                                  0\n",
              "member_id                           0\n",
              "loan_amnt                           0\n",
              "funded_amnt                         0\n",
              "funded_amnt_inv                     0\n",
              "term                                0\n",
              "int_rate                            0\n",
              "installment                         0\n",
              "grade                               0\n",
              "sub_grade                           0\n",
              "emp_title                       27588\n",
              "emp_length                      21008\n",
              "home_ownership                      0\n",
              "annual_inc                          4\n",
              "verification_status                 0\n",
              "issue_d                             0\n",
              "loan_status                         0\n",
              "pymnt_plan                          0\n",
              "url                                 0\n",
              "desc                           340302\n",
              "purpose                             0\n",
              "title                              20\n",
              "zip_code                            0\n",
              "addr_state                          0\n",
              "dti                                 0\n",
              "delinq_2yrs                        29\n",
              "earliest_cr_line                   29\n",
              "inq_last_6mths                     29\n",
              "mths_since_last_delinq         250351\n",
              "mths_since_last_record         403647\n",
              "open_acc                           29\n",
              "pub_rec                            29\n",
              "revol_bal                           0\n",
              "revol_util                        340\n",
              "total_acc                          29\n",
              "initial_list_status                 0\n",
              "out_prncp                           0\n",
              "out_prncp_inv                       0\n",
              "total_pymnt                         0\n",
              "total_pymnt_inv                     0\n",
              "total_rec_prncp                     0\n",
              "total_rec_int                       0\n",
              "total_rec_late_fee                  0\n",
              "recoveries                          0\n",
              "collection_recovery_fee             0\n",
              "last_pymnt_d                      376\n",
              "last_pymnt_amnt                     0\n",
              "next_pymnt_d                   227214\n",
              "last_credit_pull_d                 42\n",
              "collections_12_mths_ex_med        145\n",
              "mths_since_last_major_derog    367311\n",
              "policy_code                         0\n",
              "application_type                    0\n",
              "annual_inc_joint               466285\n",
              "dti_joint                      466285\n",
              "verification_status_joint      466285\n",
              "acc_now_delinq                     29\n",
              "tot_coll_amt                    70276\n",
              "tot_cur_bal                     70276\n",
              "open_acc_6m                    466285\n",
              "open_il_6m                     466285\n",
              "open_il_12m                    466285\n",
              "open_il_24m                    466285\n",
              "mths_since_rcnt_il             466285\n",
              "total_bal_il                   466285\n",
              "il_util                        466285\n",
              "open_rv_12m                    466285\n",
              "open_rv_24m                    466285\n",
              "max_bal_bc                     466285\n",
              "all_util                       466285\n",
              "total_rev_hi_lim                70276\n",
              "inq_fi                         466285\n",
              "total_cu_tl                    466285\n",
              "inq_last_12m                   466285\n",
              "dtype: int64"
            ]
          },
          "metadata": {},
          "execution_count": 8
        }
      ],
      "source": [
        "data_raw.isna().sum()"
      ]
    },
    {
      "cell_type": "code",
      "execution_count": 9,
      "metadata": {
        "id": "gTAxmlswHr-R"
      },
      "outputs": [],
      "source": [
        "missing_value = data_raw[data_raw.columns[(data_raw.isna().sum() == data_raw.shape[0])]]\n",
        "data_raw.drop(columns=missing_value.columns, inplace=True)"
      ]
    },
    {
      "cell_type": "markdown",
      "metadata": {
        "id": "LM4m4xMexrYe"
      },
      "source": [
        "menghapus kolom yang memiliki jumlah data yang kosong sebanyak dengan jumlah data keseluruhan"
      ]
    },
    {
      "cell_type": "code",
      "execution_count": 10,
      "metadata": {
        "colab": {
          "base_uri": "https://localhost:8080/"
        },
        "id": "leggiGTaHr-R",
        "outputId": "efe68ba0-1585-44eb-9abf-d03f5d407ce2"
      },
      "outputs": [
        {
          "output_type": "execute_result",
          "data": {
            "text/plain": [
              "emp_title                       27588\n",
              "emp_length                      21008\n",
              "annual_inc                          4\n",
              "desc                           340302\n",
              "title                              20\n",
              "delinq_2yrs                        29\n",
              "earliest_cr_line                   29\n",
              "inq_last_6mths                     29\n",
              "mths_since_last_delinq         250351\n",
              "mths_since_last_record         403647\n",
              "open_acc                           29\n",
              "pub_rec                            29\n",
              "revol_util                        340\n",
              "total_acc                          29\n",
              "last_pymnt_d                      376\n",
              "next_pymnt_d                   227214\n",
              "last_credit_pull_d                 42\n",
              "collections_12_mths_ex_med        145\n",
              "mths_since_last_major_derog    367311\n",
              "acc_now_delinq                     29\n",
              "tot_coll_amt                    70276\n",
              "tot_cur_bal                     70276\n",
              "total_rev_hi_lim                70276\n",
              "dtype: int64"
            ]
          },
          "metadata": {},
          "execution_count": 10
        }
      ],
      "source": [
        "missing_data = data_raw[data_raw.columns[(data_raw.isna().sum() > 0)]]\n",
        "missing_data.isnull().sum()"
      ]
    },
    {
      "cell_type": "markdown",
      "metadata": {
        "id": "xwuL-NOex1NS"
      },
      "source": [
        "melihat kembali jumlah kolom yang terdapat data yang kosong"
      ]
    },
    {
      "cell_type": "markdown",
      "metadata": {
        "id": "0vjlOaWbHr-R"
      },
      "source": [
        "## Mengatasi Kolom Kategorikal"
      ]
    },
    {
      "cell_type": "code",
      "execution_count": 11,
      "metadata": {
        "colab": {
          "base_uri": "https://localhost:8080/"
        },
        "id": "T2yTXEU3Hr-S",
        "outputId": "7ceba91d-f500-4fa8-b45a-a3ca6a12a7b7"
      },
      "outputs": [
        {
          "output_type": "execute_result",
          "data": {
            "text/plain": [
              "emp_title              27588\n",
              "emp_length             21008\n",
              "desc                  340302\n",
              "title                     20\n",
              "earliest_cr_line          29\n",
              "last_pymnt_d             376\n",
              "next_pymnt_d          227214\n",
              "last_credit_pull_d        42\n",
              "dtype: int64"
            ]
          },
          "metadata": {},
          "execution_count": 11
        }
      ],
      "source": [
        "missing_value = data_raw[data_raw.columns[(data_raw.isna().sum() >  0) & (data_raw.dtypes == 'object')]]\n",
        "missing_value.isna().sum()"
      ]
    },
    {
      "cell_type": "code",
      "execution_count": 12,
      "metadata": {
        "colab": {
          "base_uri": "https://localhost:8080/",
          "height": 175
        },
        "id": "VjkLomIcHr-S",
        "outputId": "4c44442c-aa93-46cb-a88d-4af31d37b039"
      },
      "outputs": [
        {
          "output_type": "execute_result",
          "data": {
            "text/plain": [
              "       emp_title emp_length    desc               title earliest_cr_line  \\\n",
              "count     438697     445277  125983              466265           466256   \n",
              "unique    205475         11  124436               63099              664   \n",
              "top      Teacher  10+ years          Debt consolidation           Oct-00   \n",
              "freq        5399     150049     234              164075             3674   \n",
              "\n",
              "       last_pymnt_d next_pymnt_d last_credit_pull_d  \n",
              "count        465909       239071             466243  \n",
              "unique           98          100                103  \n",
              "top          Jan-16       Feb-16             Jan-16  \n",
              "freq         179620       208393             327699  "
            ],
            "text/html": [
              "\n",
              "  <div id=\"df-7d0999b1-bf86-4675-ab59-26aa664de44b\">\n",
              "    <div class=\"colab-df-container\">\n",
              "      <div>\n",
              "<style scoped>\n",
              "    .dataframe tbody tr th:only-of-type {\n",
              "        vertical-align: middle;\n",
              "    }\n",
              "\n",
              "    .dataframe tbody tr th {\n",
              "        vertical-align: top;\n",
              "    }\n",
              "\n",
              "    .dataframe thead th {\n",
              "        text-align: right;\n",
              "    }\n",
              "</style>\n",
              "<table border=\"1\" class=\"dataframe\">\n",
              "  <thead>\n",
              "    <tr style=\"text-align: right;\">\n",
              "      <th></th>\n",
              "      <th>emp_title</th>\n",
              "      <th>emp_length</th>\n",
              "      <th>desc</th>\n",
              "      <th>title</th>\n",
              "      <th>earliest_cr_line</th>\n",
              "      <th>last_pymnt_d</th>\n",
              "      <th>next_pymnt_d</th>\n",
              "      <th>last_credit_pull_d</th>\n",
              "    </tr>\n",
              "  </thead>\n",
              "  <tbody>\n",
              "    <tr>\n",
              "      <th>count</th>\n",
              "      <td>438697</td>\n",
              "      <td>445277</td>\n",
              "      <td>125983</td>\n",
              "      <td>466265</td>\n",
              "      <td>466256</td>\n",
              "      <td>465909</td>\n",
              "      <td>239071</td>\n",
              "      <td>466243</td>\n",
              "    </tr>\n",
              "    <tr>\n",
              "      <th>unique</th>\n",
              "      <td>205475</td>\n",
              "      <td>11</td>\n",
              "      <td>124436</td>\n",
              "      <td>63099</td>\n",
              "      <td>664</td>\n",
              "      <td>98</td>\n",
              "      <td>100</td>\n",
              "      <td>103</td>\n",
              "    </tr>\n",
              "    <tr>\n",
              "      <th>top</th>\n",
              "      <td>Teacher</td>\n",
              "      <td>10+ years</td>\n",
              "      <td></td>\n",
              "      <td>Debt consolidation</td>\n",
              "      <td>Oct-00</td>\n",
              "      <td>Jan-16</td>\n",
              "      <td>Feb-16</td>\n",
              "      <td>Jan-16</td>\n",
              "    </tr>\n",
              "    <tr>\n",
              "      <th>freq</th>\n",
              "      <td>5399</td>\n",
              "      <td>150049</td>\n",
              "      <td>234</td>\n",
              "      <td>164075</td>\n",
              "      <td>3674</td>\n",
              "      <td>179620</td>\n",
              "      <td>208393</td>\n",
              "      <td>327699</td>\n",
              "    </tr>\n",
              "  </tbody>\n",
              "</table>\n",
              "</div>\n",
              "      <button class=\"colab-df-convert\" onclick=\"convertToInteractive('df-7d0999b1-bf86-4675-ab59-26aa664de44b')\"\n",
              "              title=\"Convert this dataframe to an interactive table.\"\n",
              "              style=\"display:none;\">\n",
              "        \n",
              "  <svg xmlns=\"http://www.w3.org/2000/svg\" height=\"24px\"viewBox=\"0 0 24 24\"\n",
              "       width=\"24px\">\n",
              "    <path d=\"M0 0h24v24H0V0z\" fill=\"none\"/>\n",
              "    <path d=\"M18.56 5.44l.94 2.06.94-2.06 2.06-.94-2.06-.94-.94-2.06-.94 2.06-2.06.94zm-11 1L8.5 8.5l.94-2.06 2.06-.94-2.06-.94L8.5 2.5l-.94 2.06-2.06.94zm10 10l.94 2.06.94-2.06 2.06-.94-2.06-.94-.94-2.06-.94 2.06-2.06.94z\"/><path d=\"M17.41 7.96l-1.37-1.37c-.4-.4-.92-.59-1.43-.59-.52 0-1.04.2-1.43.59L10.3 9.45l-7.72 7.72c-.78.78-.78 2.05 0 2.83L4 21.41c.39.39.9.59 1.41.59.51 0 1.02-.2 1.41-.59l7.78-7.78 2.81-2.81c.8-.78.8-2.07 0-2.86zM5.41 20L4 18.59l7.72-7.72 1.47 1.35L5.41 20z\"/>\n",
              "  </svg>\n",
              "      </button>\n",
              "      \n",
              "  <style>\n",
              "    .colab-df-container {\n",
              "      display:flex;\n",
              "      flex-wrap:wrap;\n",
              "      gap: 12px;\n",
              "    }\n",
              "\n",
              "    .colab-df-convert {\n",
              "      background-color: #E8F0FE;\n",
              "      border: none;\n",
              "      border-radius: 50%;\n",
              "      cursor: pointer;\n",
              "      display: none;\n",
              "      fill: #1967D2;\n",
              "      height: 32px;\n",
              "      padding: 0 0 0 0;\n",
              "      width: 32px;\n",
              "    }\n",
              "\n",
              "    .colab-df-convert:hover {\n",
              "      background-color: #E2EBFA;\n",
              "      box-shadow: 0px 1px 2px rgba(60, 64, 67, 0.3), 0px 1px 3px 1px rgba(60, 64, 67, 0.15);\n",
              "      fill: #174EA6;\n",
              "    }\n",
              "\n",
              "    [theme=dark] .colab-df-convert {\n",
              "      background-color: #3B4455;\n",
              "      fill: #D2E3FC;\n",
              "    }\n",
              "\n",
              "    [theme=dark] .colab-df-convert:hover {\n",
              "      background-color: #434B5C;\n",
              "      box-shadow: 0px 1px 3px 1px rgba(0, 0, 0, 0.15);\n",
              "      filter: drop-shadow(0px 1px 2px rgba(0, 0, 0, 0.3));\n",
              "      fill: #FFFFFF;\n",
              "    }\n",
              "  </style>\n",
              "\n",
              "      <script>\n",
              "        const buttonEl =\n",
              "          document.querySelector('#df-7d0999b1-bf86-4675-ab59-26aa664de44b button.colab-df-convert');\n",
              "        buttonEl.style.display =\n",
              "          google.colab.kernel.accessAllowed ? 'block' : 'none';\n",
              "\n",
              "        async function convertToInteractive(key) {\n",
              "          const element = document.querySelector('#df-7d0999b1-bf86-4675-ab59-26aa664de44b');\n",
              "          const dataTable =\n",
              "            await google.colab.kernel.invokeFunction('convertToInteractive',\n",
              "                                                     [key], {});\n",
              "          if (!dataTable) return;\n",
              "\n",
              "          const docLinkHtml = 'Like what you see? Visit the ' +\n",
              "            '<a target=\"_blank\" href=https://colab.research.google.com/notebooks/data_table.ipynb>data table notebook</a>'\n",
              "            + ' to learn more about interactive tables.';\n",
              "          element.innerHTML = '';\n",
              "          dataTable['output_type'] = 'display_data';\n",
              "          await google.colab.output.renderOutput(dataTable, element);\n",
              "          const docLink = document.createElement('div');\n",
              "          docLink.innerHTML = docLinkHtml;\n",
              "          element.appendChild(docLink);\n",
              "        }\n",
              "      </script>\n",
              "    </div>\n",
              "  </div>\n",
              "  "
            ]
          },
          "metadata": {},
          "execution_count": 12
        }
      ],
      "source": [
        "cat_value = ['emp_title', 'emp_length', 'desc', 'title', 'earliest_cr_line', 'last_pymnt_d', 'next_pymnt_d', 'last_credit_pull_d']\n",
        "data_raw[cat_value].describe()"
      ]
    },
    {
      "cell_type": "markdown",
      "metadata": {
        "id": "_ndoKinfHr-S"
      },
      "source": [
        "### Kolom emp_title"
      ]
    },
    {
      "cell_type": "markdown",
      "metadata": {
        "id": "1oWJhtOfHr-S"
      },
      "source": [
        "The job title supplied by the Borrower when applying for the loan.*"
      ]
    },
    {
      "cell_type": "code",
      "execution_count": 13,
      "metadata": {
        "colab": {
          "base_uri": "https://localhost:8080/"
        },
        "id": "BDnLf2hqHr-T",
        "outputId": "0352e2d1-7ab2-4372-e0b9-20caeac84626"
      },
      "outputs": [
        {
          "output_type": "execute_result",
          "data": {
            "text/plain": [
              "array([nan, 'Ryder', 'AIR RESOURCES BOARD', ..., 'MecÃ¡nica',\n",
              "       'Chief of Interpretation (Park Ranger)', 'Server Engineer Lead'],\n",
              "      dtype=object)"
            ]
          },
          "metadata": {},
          "execution_count": 13
        }
      ],
      "source": [
        "data_raw['emp_title'].unique()"
      ]
    },
    {
      "cell_type": "code",
      "execution_count": 14,
      "metadata": {
        "id": "bcCapRWcHr-T"
      },
      "outputs": [],
      "source": [
        "df = data_raw.drop(columns=['emp_title'], axis=1)"
      ]
    },
    {
      "cell_type": "code",
      "execution_count": 15,
      "metadata": {
        "colab": {
          "base_uri": "https://localhost:8080/"
        },
        "id": "gpy-RRe_Hr-T",
        "outputId": "505cf4f2-6cd3-4947-a607-266b36f588f6"
      },
      "outputs": [
        {
          "output_type": "execute_result",
          "data": {
            "text/plain": [
              "emp_length             21008\n",
              "desc                  340302\n",
              "title                     20\n",
              "earliest_cr_line          29\n",
              "last_pymnt_d             376\n",
              "next_pymnt_d          227214\n",
              "last_credit_pull_d        42\n",
              "dtype: int64"
            ]
          },
          "metadata": {},
          "execution_count": 15
        }
      ],
      "source": [
        "missing_value = df[df.columns[(df.isna().sum() >  0) & (df.dtypes == 'object')]]\n",
        "missing_value.isna().sum()"
      ]
    },
    {
      "cell_type": "markdown",
      "metadata": {
        "id": "obrS7IBlHr-T"
      },
      "source": [
        "### Kolom emp_length"
      ]
    },
    {
      "cell_type": "markdown",
      "metadata": {
        "id": "AJeWtNPlHr-U"
      },
      "source": [
        "Employment length in years. Possible values are between 0 and 10 where 0 means less than one year and 10 means ten or more years. "
      ]
    },
    {
      "cell_type": "code",
      "execution_count": 16,
      "metadata": {
        "colab": {
          "base_uri": "https://localhost:8080/"
        },
        "id": "fmlf8reXHr-U",
        "outputId": "5b3201af-d313-4f82-a8c2-d9c8ab9bb3ef"
      },
      "outputs": [
        {
          "output_type": "execute_result",
          "data": {
            "text/plain": [
              "array(['10+ years', '< 1 year', '1 year', '3 years', '8 years', '9 years',\n",
              "       '4 years', '5 years', '6 years', '2 years', '7 years', nan],\n",
              "      dtype=object)"
            ]
          },
          "metadata": {},
          "execution_count": 16
        }
      ],
      "source": [
        "data_raw['emp_length'].unique()"
      ]
    },
    {
      "cell_type": "code",
      "execution_count": 17,
      "metadata": {
        "id": "2hgSCKYjHr-V"
      },
      "outputs": [],
      "source": [
        "df['emp_length'].fillna('10+ years', inplace=True)"
      ]
    },
    {
      "cell_type": "code",
      "source": [
        "mapping_loan_status = {\n",
        "    '10+ years': 10,\n",
        "    '< 1 year': 0,\n",
        "    '1 year': 1,\n",
        "    '3 years': 3,\n",
        "    '8 years': 8,\n",
        "    '9 years': 9,\n",
        "    '4 years': 4,\n",
        "    '5 years': 5,\n",
        "    '6 years': 6,\n",
        "    '2 years': 2,\n",
        "    '7 years': 7\n",
        "}\n",
        "\n",
        "df['emp_length'] = df['emp_length'].map(mapping_loan_status)"
      ],
      "metadata": {
        "id": "HxL6mC6Dz8Wr"
      },
      "execution_count": 18,
      "outputs": []
    },
    {
      "cell_type": "code",
      "source": [
        "df['emp_length'].unique()"
      ],
      "metadata": {
        "colab": {
          "base_uri": "https://localhost:8080/"
        },
        "id": "6-OZNgECy3D_",
        "outputId": "83ec28e5-8b14-4fec-917d-491ab2858594"
      },
      "execution_count": 19,
      "outputs": [
        {
          "output_type": "execute_result",
          "data": {
            "text/plain": [
              "array([10,  0,  1,  3,  8,  9,  4,  5,  6,  2,  7])"
            ]
          },
          "metadata": {},
          "execution_count": 19
        }
      ]
    },
    {
      "cell_type": "code",
      "source": [
        "df['emp_length'] = df['emp_length'].astype(float)"
      ],
      "metadata": {
        "id": "-SYK21d_0nJg"
      },
      "execution_count": 20,
      "outputs": []
    },
    {
      "cell_type": "code",
      "execution_count": 21,
      "metadata": {
        "colab": {
          "base_uri": "https://localhost:8080/"
        },
        "id": "EKULPZssHr-V",
        "outputId": "04557c6a-594f-4110-b5bb-badbf95f9e46"
      },
      "outputs": [
        {
          "output_type": "execute_result",
          "data": {
            "text/plain": [
              "desc                  340302\n",
              "title                     20\n",
              "earliest_cr_line          29\n",
              "last_pymnt_d             376\n",
              "next_pymnt_d          227214\n",
              "last_credit_pull_d        42\n",
              "dtype: int64"
            ]
          },
          "metadata": {},
          "execution_count": 21
        }
      ],
      "source": [
        "missing_value = df[df.columns[(df.isna().sum() >  0) & (df.dtypes == 'object')]]\n",
        "missing_value.isna().sum()"
      ]
    },
    {
      "cell_type": "markdown",
      "metadata": {
        "id": "g4sQdluhHr-V"
      },
      "source": [
        "### Kolom desc"
      ]
    },
    {
      "cell_type": "code",
      "execution_count": 22,
      "metadata": {
        "id": "_P4-b0EVHr-V",
        "colab": {
          "base_uri": "https://localhost:8080/"
        },
        "outputId": "2473f32b-5af0-430c-be77-7f3ebd582f19"
      },
      "outputs": [
        {
          "output_type": "execute_result",
          "data": {
            "text/plain": [
              "array(['  Borrower added on 12/22/11 > I need to upgrade my business technologies.<br>',\n",
              "       '  Borrower added on 12/22/11 > I plan to use this money to finance the motorcycle i am looking at. I plan to have it paid off as soon as possible/when i sell my old bike. I only need this money because the deal im looking at is to good to pass up.<br><br>  Borrower added on 12/22/11 > I plan to use this money to finance the motorcycle i am looking at. I plan to have it paid off as soon as possible/when i sell my old bike.I only need this money because the deal im looking at is to good to pass up. I have finished college with an associates degree in business and its takingmeplaces<br>',\n",
              "       nan, ...,\n",
              "       '  Borrower added on 12/09/13 > consolidate all credit accounts<br>',\n",
              "       '  Borrower added on 12/06/13 > I am going to consolidate a credit card debt from medical and moving expenses with a loan I already have. I have paid everything on time for years, I just need to eliminate this high interest credit card.<br>',\n",
              "       '  Borrower added on 12/04/13 > I will like a loan to fix  our cars and paid our house property tax<br>'],\n",
              "      dtype=object)"
            ]
          },
          "metadata": {},
          "execution_count": 22
        }
      ],
      "source": [
        "data_raw['desc'].unique()"
      ]
    },
    {
      "cell_type": "code",
      "execution_count": 23,
      "metadata": {
        "id": "aHjxqH1FHr-V"
      },
      "outputs": [],
      "source": [
        "df.drop(columns='desc', inplace=True)"
      ]
    },
    {
      "cell_type": "code",
      "execution_count": 24,
      "metadata": {
        "id": "HWzAuxsoHr-V",
        "colab": {
          "base_uri": "https://localhost:8080/"
        },
        "outputId": "f523a531-84ba-4f42-adc9-eb4ab7f8d223"
      },
      "outputs": [
        {
          "output_type": "execute_result",
          "data": {
            "text/plain": [
              "title                     20\n",
              "earliest_cr_line          29\n",
              "last_pymnt_d             376\n",
              "next_pymnt_d          227214\n",
              "last_credit_pull_d        42\n",
              "dtype: int64"
            ]
          },
          "metadata": {},
          "execution_count": 24
        }
      ],
      "source": [
        "missing_value = df[df.columns[(df.isna().sum() >  0) & (df.dtypes == 'object')]]\n",
        "missing_value.isna().sum()"
      ]
    },
    {
      "cell_type": "markdown",
      "metadata": {
        "id": "vh-6n5igHr-W"
      },
      "source": [
        "### Kolom title"
      ]
    },
    {
      "cell_type": "code",
      "execution_count": 25,
      "metadata": {
        "id": "pq-fxoKGHr-W",
        "colab": {
          "base_uri": "https://localhost:8080/"
        },
        "outputId": "6f188028-3a78-4e0c-d2b3-5a7f5d473302"
      },
      "outputs": [
        {
          "output_type": "execute_result",
          "data": {
            "text/plain": [
              "array(['Computer', 'bike', 'real estate business', ..., 'LoanGetter',\n",
              "       'Consolidation 01', 'Paying off the car and some bills'],\n",
              "      dtype=object)"
            ]
          },
          "metadata": {},
          "execution_count": 25
        }
      ],
      "source": [
        "df['title'].unique()"
      ]
    },
    {
      "cell_type": "code",
      "execution_count": 26,
      "metadata": {
        "id": "e728AVI3Hr-W"
      },
      "outputs": [],
      "source": [
        "df.drop(columns=['title'], inplace=True)"
      ]
    },
    {
      "cell_type": "code",
      "execution_count": 27,
      "metadata": {
        "id": "_A7oZzf7Hr-W",
        "colab": {
          "base_uri": "https://localhost:8080/"
        },
        "outputId": "06ad1e74-21f7-4cd2-d794-0c718c98ceb9"
      },
      "outputs": [
        {
          "output_type": "execute_result",
          "data": {
            "text/plain": [
              "earliest_cr_line          29\n",
              "last_pymnt_d             376\n",
              "next_pymnt_d          227214\n",
              "last_credit_pull_d        42\n",
              "dtype: int64"
            ]
          },
          "metadata": {},
          "execution_count": 27
        }
      ],
      "source": [
        "missing_value = df[df.columns[(df.isna().sum() >  0) & (df.dtypes == 'object')]]\n",
        "missing_value.isna().sum()"
      ]
    },
    {
      "cell_type": "markdown",
      "metadata": {
        "id": "Y6FVkfW8Hr-W"
      },
      "source": [
        "### Kolom earliest_cr_line, last_pymnt_d, next_pymnt_d, last_credit_pull_d"
      ]
    },
    {
      "cell_type": "code",
      "execution_count": 28,
      "metadata": {
        "id": "NEmjtKHWHr-W",
        "colab": {
          "base_uri": "https://localhost:8080/",
          "height": 175
        },
        "outputId": "b279458f-650d-44d7-973b-b7682543a25c"
      },
      "outputs": [
        {
          "output_type": "execute_result",
          "data": {
            "text/plain": [
              "       earliest_cr_line last_pymnt_d next_pymnt_d last_credit_pull_d\n",
              "count            466256       465909       239071             466243\n",
              "unique              664           98          100                103\n",
              "top              Oct-00       Jan-16       Feb-16             Jan-16\n",
              "freq               3674       179620       208393             327699"
            ],
            "text/html": [
              "\n",
              "  <div id=\"df-41bafc56-c6a6-481b-ae90-7ab471e95d3b\">\n",
              "    <div class=\"colab-df-container\">\n",
              "      <div>\n",
              "<style scoped>\n",
              "    .dataframe tbody tr th:only-of-type {\n",
              "        vertical-align: middle;\n",
              "    }\n",
              "\n",
              "    .dataframe tbody tr th {\n",
              "        vertical-align: top;\n",
              "    }\n",
              "\n",
              "    .dataframe thead th {\n",
              "        text-align: right;\n",
              "    }\n",
              "</style>\n",
              "<table border=\"1\" class=\"dataframe\">\n",
              "  <thead>\n",
              "    <tr style=\"text-align: right;\">\n",
              "      <th></th>\n",
              "      <th>earliest_cr_line</th>\n",
              "      <th>last_pymnt_d</th>\n",
              "      <th>next_pymnt_d</th>\n",
              "      <th>last_credit_pull_d</th>\n",
              "    </tr>\n",
              "  </thead>\n",
              "  <tbody>\n",
              "    <tr>\n",
              "      <th>count</th>\n",
              "      <td>466256</td>\n",
              "      <td>465909</td>\n",
              "      <td>239071</td>\n",
              "      <td>466243</td>\n",
              "    </tr>\n",
              "    <tr>\n",
              "      <th>unique</th>\n",
              "      <td>664</td>\n",
              "      <td>98</td>\n",
              "      <td>100</td>\n",
              "      <td>103</td>\n",
              "    </tr>\n",
              "    <tr>\n",
              "      <th>top</th>\n",
              "      <td>Oct-00</td>\n",
              "      <td>Jan-16</td>\n",
              "      <td>Feb-16</td>\n",
              "      <td>Jan-16</td>\n",
              "    </tr>\n",
              "    <tr>\n",
              "      <th>freq</th>\n",
              "      <td>3674</td>\n",
              "      <td>179620</td>\n",
              "      <td>208393</td>\n",
              "      <td>327699</td>\n",
              "    </tr>\n",
              "  </tbody>\n",
              "</table>\n",
              "</div>\n",
              "      <button class=\"colab-df-convert\" onclick=\"convertToInteractive('df-41bafc56-c6a6-481b-ae90-7ab471e95d3b')\"\n",
              "              title=\"Convert this dataframe to an interactive table.\"\n",
              "              style=\"display:none;\">\n",
              "        \n",
              "  <svg xmlns=\"http://www.w3.org/2000/svg\" height=\"24px\"viewBox=\"0 0 24 24\"\n",
              "       width=\"24px\">\n",
              "    <path d=\"M0 0h24v24H0V0z\" fill=\"none\"/>\n",
              "    <path d=\"M18.56 5.44l.94 2.06.94-2.06 2.06-.94-2.06-.94-.94-2.06-.94 2.06-2.06.94zm-11 1L8.5 8.5l.94-2.06 2.06-.94-2.06-.94L8.5 2.5l-.94 2.06-2.06.94zm10 10l.94 2.06.94-2.06 2.06-.94-2.06-.94-.94-2.06-.94 2.06-2.06.94z\"/><path d=\"M17.41 7.96l-1.37-1.37c-.4-.4-.92-.59-1.43-.59-.52 0-1.04.2-1.43.59L10.3 9.45l-7.72 7.72c-.78.78-.78 2.05 0 2.83L4 21.41c.39.39.9.59 1.41.59.51 0 1.02-.2 1.41-.59l7.78-7.78 2.81-2.81c.8-.78.8-2.07 0-2.86zM5.41 20L4 18.59l7.72-7.72 1.47 1.35L5.41 20z\"/>\n",
              "  </svg>\n",
              "      </button>\n",
              "      \n",
              "  <style>\n",
              "    .colab-df-container {\n",
              "      display:flex;\n",
              "      flex-wrap:wrap;\n",
              "      gap: 12px;\n",
              "    }\n",
              "\n",
              "    .colab-df-convert {\n",
              "      background-color: #E8F0FE;\n",
              "      border: none;\n",
              "      border-radius: 50%;\n",
              "      cursor: pointer;\n",
              "      display: none;\n",
              "      fill: #1967D2;\n",
              "      height: 32px;\n",
              "      padding: 0 0 0 0;\n",
              "      width: 32px;\n",
              "    }\n",
              "\n",
              "    .colab-df-convert:hover {\n",
              "      background-color: #E2EBFA;\n",
              "      box-shadow: 0px 1px 2px rgba(60, 64, 67, 0.3), 0px 1px 3px 1px rgba(60, 64, 67, 0.15);\n",
              "      fill: #174EA6;\n",
              "    }\n",
              "\n",
              "    [theme=dark] .colab-df-convert {\n",
              "      background-color: #3B4455;\n",
              "      fill: #D2E3FC;\n",
              "    }\n",
              "\n",
              "    [theme=dark] .colab-df-convert:hover {\n",
              "      background-color: #434B5C;\n",
              "      box-shadow: 0px 1px 3px 1px rgba(0, 0, 0, 0.15);\n",
              "      filter: drop-shadow(0px 1px 2px rgba(0, 0, 0, 0.3));\n",
              "      fill: #FFFFFF;\n",
              "    }\n",
              "  </style>\n",
              "\n",
              "      <script>\n",
              "        const buttonEl =\n",
              "          document.querySelector('#df-41bafc56-c6a6-481b-ae90-7ab471e95d3b button.colab-df-convert');\n",
              "        buttonEl.style.display =\n",
              "          google.colab.kernel.accessAllowed ? 'block' : 'none';\n",
              "\n",
              "        async function convertToInteractive(key) {\n",
              "          const element = document.querySelector('#df-41bafc56-c6a6-481b-ae90-7ab471e95d3b');\n",
              "          const dataTable =\n",
              "            await google.colab.kernel.invokeFunction('convertToInteractive',\n",
              "                                                     [key], {});\n",
              "          if (!dataTable) return;\n",
              "\n",
              "          const docLinkHtml = 'Like what you see? Visit the ' +\n",
              "            '<a target=\"_blank\" href=https://colab.research.google.com/notebooks/data_table.ipynb>data table notebook</a>'\n",
              "            + ' to learn more about interactive tables.';\n",
              "          element.innerHTML = '';\n",
              "          dataTable['output_type'] = 'display_data';\n",
              "          await google.colab.output.renderOutput(dataTable, element);\n",
              "          const docLink = document.createElement('div');\n",
              "          docLink.innerHTML = docLinkHtml;\n",
              "          element.appendChild(docLink);\n",
              "        }\n",
              "      </script>\n",
              "    </div>\n",
              "  </div>\n",
              "  "
            ]
          },
          "metadata": {},
          "execution_count": 28
        }
      ],
      "source": [
        "kolom = ['earliest_cr_line', 'last_pymnt_d', 'next_pymnt_d', 'last_credit_pull_d']\n",
        "df[kolom].describe()"
      ]
    },
    {
      "cell_type": "markdown",
      "source": [
        "Memodifikasi earliest_cr_line, last_payment_d, next_payment_d, last_credit_pull_d dari format bulan-tahun menjadi perhitungan berapa lama waktu berlalu sejak waktu tersebut. Untuk melakukan hal ini, umumnya digunakan reference date = hari ini. Namun, karena dataset ini merupakan dataset tahun 1900an-2016, maka akan lebih relevan jika menggunakan reference date di sekitar tahun 2016 akhir yaitu pada bulan Desember. Dalam contoh ini, saya menggunakan tanggal 2016-12-01 sebagai reference date."
      ],
      "metadata": {
        "id": "RKvu02lHLpi-"
      }
    },
    {
      "cell_type": "markdown",
      "source": [
        "#### earliest_cr_line dan mths_since_earliest_cr"
      ],
      "metadata": {
        "id": "4yd5ro809FWO"
      }
    },
    {
      "cell_type": "code",
      "execution_count": 29,
      "metadata": {
        "id": "t6qmrgNGHr-X",
        "colab": {
          "base_uri": "https://localhost:8080/"
        },
        "outputId": "78f3083e-9d7f-4623-bc7b-a4b9273d03bc"
      },
      "outputs": [
        {
          "output_type": "execute_result",
          "data": {
            "text/plain": [
              "0   1985-01-01\n",
              "1   1999-04-01\n",
              "2   2001-11-01\n",
              "3   1996-02-01\n",
              "4   1996-01-01\n",
              "Name: earliest_cr_line_date, dtype: datetime64[ns]"
            ]
          },
          "metadata": {},
          "execution_count": 29
        }
      ],
      "source": [
        "df['earliest_cr_line_date'] = pd.to_datetime(df['earliest_cr_line'], format='%b-%y')\n",
        "df['earliest_cr_line_date'].head()"
      ]
    },
    {
      "cell_type": "code",
      "source": [
        "df['earliest_cr_line_date'].describe()"
      ],
      "metadata": {
        "colab": {
          "base_uri": "https://localhost:8080/"
        },
        "id": "rtVPalNTvx3q",
        "outputId": "f58b6fff-04d5-48f6-e154-1287f71e286c"
      },
      "execution_count": 30,
      "outputs": [
        {
          "output_type": "stream",
          "name": "stderr",
          "text": [
            "/usr/local/lib/python3.7/dist-packages/ipykernel_launcher.py:1: FutureWarning: Treating datetime data as categorical rather than numeric in `.describe` is deprecated and will be removed in a future version of pandas. Specify `datetime_is_numeric=True` to silence this warning and adopt the future behavior now.\n",
            "  \"\"\"Entry point for launching an IPython kernel.\n"
          ]
        },
        {
          "output_type": "execute_result",
          "data": {
            "text/plain": [
              "count                  466256\n",
              "unique                    664\n",
              "top       2000-10-01 00:00:00\n",
              "freq                     3674\n",
              "first     1969-01-01 00:00:00\n",
              "last      2068-12-01 00:00:00\n",
              "Name: earliest_cr_line_date, dtype: object"
            ]
          },
          "metadata": {},
          "execution_count": 30
        }
      ]
    },
    {
      "cell_type": "code",
      "source": [
        "df['mths_since_earliest_cr_line'] = round(pd.to_numeric((pd.to_datetime('2016-07-01') - df['earliest_cr_line_date']) / np.timedelta64(1, 'M')))\n",
        "df['mths_since_earliest_cr_line'].head()"
      ],
      "metadata": {
        "colab": {
          "base_uri": "https://localhost:8080/"
        },
        "id": "gJN0NSXc9e3t",
        "outputId": "5327d140-fe83-4600-c1cc-c5b65df2de6c"
      },
      "execution_count": 31,
      "outputs": [
        {
          "output_type": "execute_result",
          "data": {
            "text/plain": [
              "0    378.0\n",
              "1    207.0\n",
              "2    176.0\n",
              "3    245.0\n",
              "4    246.0\n",
              "Name: mths_since_earliest_cr_line, dtype: float64"
            ]
          },
          "metadata": {},
          "execution_count": 31
        }
      ]
    },
    {
      "cell_type": "code",
      "source": [
        "df['mths_since_earliest_cr_line'].describe()"
      ],
      "metadata": {
        "colab": {
          "base_uri": "https://localhost:8080/"
        },
        "id": "zxKUEESs90zf",
        "outputId": "88e43279-26cc-4065-bb45-755b6ce52821"
      },
      "execution_count": 32,
      "outputs": [
        {
          "output_type": "execute_result",
          "data": {
            "text/plain": [
              "count    466256.000000\n",
              "mean        222.482430\n",
              "std          93.974829\n",
              "min        -629.000000\n",
              "25%         166.000000\n",
              "50%         208.000000\n",
              "75%         268.000000\n",
              "max         570.000000\n",
              "Name: mths_since_earliest_cr_line, dtype: float64"
            ]
          },
          "metadata": {},
          "execution_count": 32
        }
      ]
    },
    {
      "cell_type": "code",
      "source": [
        "len(df[df['earliest_cr_line_date'].dt.year > 2014]['earliest_cr_line_date'].dt.year)"
      ],
      "metadata": {
        "colab": {
          "base_uri": "https://localhost:8080/"
        },
        "id": "rmhWuSktD9Vx",
        "outputId": "cb49aa97-22e3-4acd-c4a4-4e95198a504a"
      },
      "execution_count": 33,
      "outputs": [
        {
          "output_type": "execute_result",
          "data": {
            "text/plain": [
              "1169"
            ]
          },
          "metadata": {},
          "execution_count": 33
        }
      ]
    },
    {
      "cell_type": "code",
      "source": [
        "earliest_year = df[df['earliest_cr_line_date'].dt.year > 2014]\n",
        "earliest_year['earliest_cr_line_date'].min()"
      ],
      "metadata": {
        "colab": {
          "base_uri": "https://localhost:8080/"
        },
        "id": "50GjabB0ALfg",
        "outputId": "02f6ef6c-ffcf-46ca-9864-d35c3b61e123"
      },
      "execution_count": 34,
      "outputs": [
        {
          "output_type": "execute_result",
          "data": {
            "text/plain": [
              "Timestamp('2044-01-01 00:00:00')"
            ]
          },
          "metadata": {},
          "execution_count": 34
        }
      ]
    },
    {
      "cell_type": "code",
      "source": [
        "data_drop = df[df['earliest_cr_line_date'].dt.year > 2014]['earliest_cr_line_date'].dt.year\n",
        "df.drop(data_drop.index, inplace=True)"
      ],
      "metadata": {
        "id": "F_75oUZZFSze"
      },
      "execution_count": 35,
      "outputs": []
    },
    {
      "cell_type": "code",
      "source": [
        "df['earliest_cr_line_date'].describe()"
      ],
      "metadata": {
        "colab": {
          "base_uri": "https://localhost:8080/"
        },
        "id": "ChcjLXhYwL9Q",
        "outputId": "19770f12-817c-4bd8-af94-75d5dec00a4f"
      },
      "execution_count": 36,
      "outputs": [
        {
          "output_type": "stream",
          "name": "stderr",
          "text": [
            "/usr/local/lib/python3.7/dist-packages/ipykernel_launcher.py:1: FutureWarning: Treating datetime data as categorical rather than numeric in `.describe` is deprecated and will be removed in a future version of pandas. Specify `datetime_is_numeric=True` to silence this warning and adopt the future behavior now.\n",
            "  \"\"\"Entry point for launching an IPython kernel.\n"
          ]
        },
        {
          "output_type": "execute_result",
          "data": {
            "text/plain": [
              "count                  465087\n",
              "unique                    515\n",
              "top       2000-10-01 00:00:00\n",
              "freq                     3674\n",
              "first     1969-01-01 00:00:00\n",
              "last      2011-11-01 00:00:00\n",
              "Name: earliest_cr_line_date, dtype: object"
            ]
          },
          "metadata": {},
          "execution_count": 36
        }
      ]
    },
    {
      "cell_type": "code",
      "source": [
        "df.drop(columns=['earliest_cr_line', 'earliest_cr_line_date'], inplace=True)"
      ],
      "metadata": {
        "id": "1-PN8HJu0sqG"
      },
      "execution_count": 37,
      "outputs": []
    },
    {
      "cell_type": "code",
      "source": [
        "df['mths_since_earliest_cr_line'].fillna(0, inplace=True)"
      ],
      "metadata": {
        "id": "4Zt5-jKJoMoB"
      },
      "execution_count": 38,
      "outputs": []
    },
    {
      "cell_type": "markdown",
      "source": [
        "#### last_payment_d dan mths_since_last_payment_d"
      ],
      "metadata": {
        "id": "Ukz7C6QfFlfI"
      }
    },
    {
      "cell_type": "code",
      "source": [
        "df['last_pymnt_d_date'] = pd.to_datetime(df['last_pymnt_d'], format='%b-%y')\n",
        "df['mths_since_last_pymnt_d'] = round(pd.to_numeric((pd.to_datetime('2016-12-01') - df['last_pymnt_d_date']) / np.timedelta64(1, 'M')))"
      ],
      "metadata": {
        "id": "-G-0_G5V0gyC"
      },
      "execution_count": 39,
      "outputs": []
    },
    {
      "cell_type": "code",
      "source": [
        "df['last_pymnt_d_date'].describe()"
      ],
      "metadata": {
        "colab": {
          "base_uri": "https://localhost:8080/"
        },
        "id": "7Vv5UNwk1X1R",
        "outputId": "b3ae39e1-d697-4e8d-eaeb-ba59b9efdf91"
      },
      "execution_count": 40,
      "outputs": [
        {
          "output_type": "stream",
          "name": "stderr",
          "text": [
            "/usr/local/lib/python3.7/dist-packages/ipykernel_launcher.py:1: FutureWarning: Treating datetime data as categorical rather than numeric in `.describe` is deprecated and will be removed in a future version of pandas. Specify `datetime_is_numeric=True` to silence this warning and adopt the future behavior now.\n",
            "  \"\"\"Entry point for launching an IPython kernel.\n"
          ]
        },
        {
          "output_type": "execute_result",
          "data": {
            "text/plain": [
              "count                  464741\n",
              "unique                     98\n",
              "top       2016-01-01 00:00:00\n",
              "freq                   179104\n",
              "first     2007-12-01 00:00:00\n",
              "last      2016-01-01 00:00:00\n",
              "Name: last_pymnt_d_date, dtype: object"
            ]
          },
          "metadata": {},
          "execution_count": 40
        }
      ]
    },
    {
      "cell_type": "code",
      "source": [
        "df['mths_since_last_pymnt_d'].describe()"
      ],
      "metadata": {
        "colab": {
          "base_uri": "https://localhost:8080/"
        },
        "id": "a3fr0ILG3Xu4",
        "outputId": "7a2c79d2-3594-47dc-9492-8f695f34424b"
      },
      "execution_count": 41,
      "outputs": [
        {
          "output_type": "execute_result",
          "data": {
            "text/plain": [
              "count    464741.000000\n",
              "mean         19.298151\n",
              "std          12.812808\n",
              "min          11.000000\n",
              "25%          11.000000\n",
              "50%          12.000000\n",
              "75%          23.000000\n",
              "max         108.000000\n",
              "Name: mths_since_last_pymnt_d, dtype: float64"
            ]
          },
          "metadata": {},
          "execution_count": 41
        }
      ]
    },
    {
      "cell_type": "code",
      "source": [
        "df.drop(columns=['last_pymnt_d', 'last_pymnt_d_date'], inplace=True)"
      ],
      "metadata": {
        "id": "JD2PQOw81qCZ"
      },
      "execution_count": 42,
      "outputs": []
    },
    {
      "cell_type": "code",
      "source": [
        "df['mths_since_last_pymnt_d'].fillna(0, inplace=True)"
      ],
      "metadata": {
        "id": "NbW1mnjKoyfW"
      },
      "execution_count": 43,
      "outputs": []
    },
    {
      "cell_type": "markdown",
      "source": [
        "#### next_payment_d dan mths_since_next_payment_d"
      ],
      "metadata": {
        "id": "q1Yckkki3B1W"
      }
    },
    {
      "cell_type": "code",
      "source": [
        "df['next_pymnt_d_date'] = pd.to_datetime(df['next_pymnt_d'], format='%b-%y')\n",
        "df['mths_since_next_pymnt_d'] = round(pd.to_numeric((pd.to_datetime('2016-12-01') - df['next_pymnt_d_date']) / np.timedelta64(1, 'M')))"
      ],
      "metadata": {
        "id": "4FgewhSu3G4u"
      },
      "execution_count": 44,
      "outputs": []
    },
    {
      "cell_type": "code",
      "source": [
        "df['next_pymnt_d_date'].describe()"
      ],
      "metadata": {
        "colab": {
          "base_uri": "https://localhost:8080/"
        },
        "id": "o2Ms30Ni3Psm",
        "outputId": "25e083ce-a372-4c26-e018-c54f5e5e47c6"
      },
      "execution_count": 45,
      "outputs": [
        {
          "output_type": "stream",
          "name": "stderr",
          "text": [
            "/usr/local/lib/python3.7/dist-packages/ipykernel_launcher.py:1: FutureWarning: Treating datetime data as categorical rather than numeric in `.describe` is deprecated and will be removed in a future version of pandas. Specify `datetime_is_numeric=True` to silence this warning and adopt the future behavior now.\n",
            "  \"\"\"Entry point for launching an IPython kernel.\n"
          ]
        },
        {
          "output_type": "execute_result",
          "data": {
            "text/plain": [
              "count                  238390\n",
              "unique                    100\n",
              "top       2016-02-01 00:00:00\n",
              "freq                   207784\n",
              "first     2007-12-01 00:00:00\n",
              "last      2016-03-01 00:00:00\n",
              "Name: next_pymnt_d_date, dtype: object"
            ]
          },
          "metadata": {},
          "execution_count": 45
        }
      ]
    },
    {
      "cell_type": "code",
      "source": [
        "df['mths_since_next_pymnt_d'].describe()"
      ],
      "metadata": {
        "colab": {
          "base_uri": "https://localhost:8080/"
        },
        "id": "DVWRsNM93UH4",
        "outputId": "3bf95909-974d-4c28-804b-d33f59ce40a3"
      },
      "execution_count": 46,
      "outputs": [
        {
          "output_type": "execute_result",
          "data": {
            "text/plain": [
              "count    238390.000000\n",
              "mean         10.738521\n",
              "std           6.083252\n",
              "min           9.000000\n",
              "25%          10.000000\n",
              "50%          10.000000\n",
              "75%          10.000000\n",
              "max         108.000000\n",
              "Name: mths_since_next_pymnt_d, dtype: float64"
            ]
          },
          "metadata": {},
          "execution_count": 46
        }
      ]
    },
    {
      "cell_type": "code",
      "source": [
        "df.drop(columns=['next_pymnt_d', 'next_pymnt_d_date'], inplace=True)"
      ],
      "metadata": {
        "id": "uz6iZAG3-oXX"
      },
      "execution_count": 47,
      "outputs": []
    },
    {
      "cell_type": "code",
      "source": [
        "df['mths_since_next_pymnt_d'].fillna(0, inplace=True)"
      ],
      "metadata": {
        "id": "jwQVTqiUyW31"
      },
      "execution_count": 48,
      "outputs": []
    },
    {
      "cell_type": "markdown",
      "source": [
        "#### last_credit_pull_d dan mths_since_last_credit_pull_d"
      ],
      "metadata": {
        "id": "uAtDQI-h-xjv"
      }
    },
    {
      "cell_type": "code",
      "source": [
        "df['last_credit_pull_d_date'] = pd.to_datetime(df['last_credit_pull_d'], format='%b-%y')\n",
        "df['mths_since_last_credit_pull_d'] = round(pd.to_numeric((pd.to_datetime('2016-12-01') - df['last_credit_pull_d_date']) / np.timedelta64(1, 'M')))"
      ],
      "metadata": {
        "id": "P_ltFDUD-4kX"
      },
      "execution_count": 49,
      "outputs": []
    },
    {
      "cell_type": "code",
      "source": [
        "df['last_credit_pull_d_date'].describe()"
      ],
      "metadata": {
        "colab": {
          "base_uri": "https://localhost:8080/"
        },
        "id": "Y2qoiNRD_q3e",
        "outputId": "293c3be3-fed0-46c5-9778-5c618ffca3ca"
      },
      "execution_count": 50,
      "outputs": [
        {
          "output_type": "stream",
          "name": "stderr",
          "text": [
            "/usr/local/lib/python3.7/dist-packages/ipykernel_launcher.py:1: FutureWarning: Treating datetime data as categorical rather than numeric in `.describe` is deprecated and will be removed in a future version of pandas. Specify `datetime_is_numeric=True` to silence this warning and adopt the future behavior now.\n",
            "  \"\"\"Entry point for launching an IPython kernel.\n"
          ]
        },
        {
          "output_type": "execute_result",
          "data": {
            "text/plain": [
              "count                  465075\n",
              "unique                    103\n",
              "top       2016-01-01 00:00:00\n",
              "freq                   326849\n",
              "first     2007-05-01 00:00:00\n",
              "last      2016-01-01 00:00:00\n",
              "Name: last_credit_pull_d_date, dtype: object"
            ]
          },
          "metadata": {},
          "execution_count": 50
        }
      ]
    },
    {
      "cell_type": "code",
      "source": [
        "df['mths_since_last_credit_pull_d'].describe()"
      ],
      "metadata": {
        "colab": {
          "base_uri": "https://localhost:8080/"
        },
        "id": "E8HOVrr2_sp5",
        "outputId": "77c38ee0-a1e8-4c2f-a440-bdcef7ce779c"
      },
      "execution_count": 51,
      "outputs": [
        {
          "output_type": "execute_result",
          "data": {
            "text/plain": [
              "count    465075.000000\n",
              "mean         15.045969\n",
              "std           9.636585\n",
              "min          11.000000\n",
              "25%          11.000000\n",
              "50%          11.000000\n",
              "75%          13.000000\n",
              "max         115.000000\n",
              "Name: mths_since_last_credit_pull_d, dtype: float64"
            ]
          },
          "metadata": {},
          "execution_count": 51
        }
      ]
    },
    {
      "cell_type": "code",
      "source": [
        "df.drop(columns=['last_credit_pull_d_date', 'last_credit_pull_d'], inplace=True)"
      ],
      "metadata": {
        "id": "ox6PCGmL_zBA"
      },
      "execution_count": 52,
      "outputs": []
    },
    {
      "cell_type": "code",
      "source": [
        "df['mths_since_last_credit_pull_d'].fillna(0, inplace=True)"
      ],
      "metadata": {
        "id": "5Ai83y_r0bKX"
      },
      "execution_count": 53,
      "outputs": []
    },
    {
      "cell_type": "markdown",
      "metadata": {
        "id": "wkDICJnfHr-X"
      },
      "source": [
        "## Mengatasi Kolom Numerikal"
      ]
    },
    {
      "cell_type": "code",
      "execution_count": 54,
      "metadata": {
        "id": "MOgseSGUHr-X",
        "colab": {
          "base_uri": "https://localhost:8080/"
        },
        "outputId": "b9104dc0-0877-438a-aed4-2712f954f08a"
      },
      "outputs": [
        {
          "output_type": "execute_result",
          "data": {
            "text/plain": [
              "annual_inc                          4\n",
              "delinq_2yrs                        29\n",
              "inq_last_6mths                     29\n",
              "mths_since_last_delinq         250351\n",
              "mths_since_last_record         403647\n",
              "open_acc                           29\n",
              "pub_rec                            29\n",
              "revol_util                        340\n",
              "total_acc                          29\n",
              "collections_12_mths_ex_med        145\n",
              "mths_since_last_major_derog    367311\n",
              "acc_now_delinq                     29\n",
              "tot_coll_amt                    70276\n",
              "tot_cur_bal                     70276\n",
              "total_rev_hi_lim                70276\n",
              "dtype: int64"
            ]
          },
          "metadata": {},
          "execution_count": 54
        }
      ],
      "source": [
        "missing_value = data_raw[data_raw.columns[(data_raw.isna().sum() >  0) & (data_raw.dtypes != 'object')]]\n",
        "missing_value.isna().sum()"
      ]
    },
    {
      "cell_type": "code",
      "execution_count": 55,
      "metadata": {
        "id": "F_dGsmgAHr-X",
        "colab": {
          "base_uri": "https://localhost:8080/",
          "height": 364
        },
        "outputId": "0f92bfe4-d6ba-44f0-b32f-4592c038370c"
      },
      "outputs": [
        {
          "output_type": "execute_result",
          "data": {
            "text/plain": [
              "         annual_inc    delinq_2yrs  inq_last_6mths  mths_since_last_delinq  \\\n",
              "count  4.662810e+05  466256.000000   466256.000000           215934.000000   \n",
              "mean   7.327738e+04       0.284678        0.804745               34.104430   \n",
              "std    5.496357e+04       0.797365        1.091598               21.778487   \n",
              "min    1.896000e+03       0.000000        0.000000                0.000000   \n",
              "25%    4.500000e+04       0.000000        0.000000               16.000000   \n",
              "50%    6.300000e+04       0.000000        0.000000               31.000000   \n",
              "75%    8.896000e+04       0.000000        1.000000               49.000000   \n",
              "max    7.500000e+06      29.000000       33.000000              188.000000   \n",
              "\n",
              "       mths_since_last_record       open_acc        pub_rec     revol_util  \\\n",
              "count            62638.000000  466256.000000  466256.000000  465945.000000   \n",
              "mean                74.306012      11.187069       0.160564      56.176947   \n",
              "std                 30.357653       4.987526       0.510863      23.732628   \n",
              "min                  0.000000       0.000000       0.000000       0.000000   \n",
              "25%                 53.000000       8.000000       0.000000      39.200000   \n",
              "50%                 76.000000      10.000000       0.000000      57.600000   \n",
              "75%                102.000000      14.000000       0.000000      74.700000   \n",
              "max                129.000000      84.000000      63.000000     892.300000   \n",
              "\n",
              "           total_acc  collections_12_mths_ex_med  mths_since_last_major_derog  \\\n",
              "count  466256.000000               466140.000000                 98974.000000   \n",
              "mean       25.064430                    0.009085                    42.852547   \n",
              "std        11.600141                    0.108648                    21.662591   \n",
              "min         1.000000                    0.000000                     0.000000   \n",
              "25%        17.000000                    0.000000                    26.000000   \n",
              "50%        23.000000                    0.000000                    42.000000   \n",
              "75%        32.000000                    0.000000                    59.000000   \n",
              "max       156.000000                   20.000000                   188.000000   \n",
              "\n",
              "       acc_now_delinq  tot_coll_amt   tot_cur_bal  total_rev_hi_lim  \n",
              "count   466256.000000  3.960090e+05  3.960090e+05      3.960090e+05  \n",
              "mean         0.004002  1.919135e+02  1.388017e+05      3.037909e+04  \n",
              "std          0.068637  1.463021e+04  1.521147e+05      3.724713e+04  \n",
              "min          0.000000  0.000000e+00  0.000000e+00      0.000000e+00  \n",
              "25%          0.000000  0.000000e+00  2.861800e+04      1.350000e+04  \n",
              "50%          0.000000  0.000000e+00  8.153900e+04      2.280000e+04  \n",
              "75%          0.000000  0.000000e+00  2.089530e+05      3.790000e+04  \n",
              "max          5.000000  9.152545e+06  8.000078e+06      9.999999e+06  "
            ],
            "text/html": [
              "\n",
              "  <div id=\"df-3bb616f9-1129-4358-b5d3-fb4cb7bc089a\">\n",
              "    <div class=\"colab-df-container\">\n",
              "      <div>\n",
              "<style scoped>\n",
              "    .dataframe tbody tr th:only-of-type {\n",
              "        vertical-align: middle;\n",
              "    }\n",
              "\n",
              "    .dataframe tbody tr th {\n",
              "        vertical-align: top;\n",
              "    }\n",
              "\n",
              "    .dataframe thead th {\n",
              "        text-align: right;\n",
              "    }\n",
              "</style>\n",
              "<table border=\"1\" class=\"dataframe\">\n",
              "  <thead>\n",
              "    <tr style=\"text-align: right;\">\n",
              "      <th></th>\n",
              "      <th>annual_inc</th>\n",
              "      <th>delinq_2yrs</th>\n",
              "      <th>inq_last_6mths</th>\n",
              "      <th>mths_since_last_delinq</th>\n",
              "      <th>mths_since_last_record</th>\n",
              "      <th>open_acc</th>\n",
              "      <th>pub_rec</th>\n",
              "      <th>revol_util</th>\n",
              "      <th>total_acc</th>\n",
              "      <th>collections_12_mths_ex_med</th>\n",
              "      <th>mths_since_last_major_derog</th>\n",
              "      <th>acc_now_delinq</th>\n",
              "      <th>tot_coll_amt</th>\n",
              "      <th>tot_cur_bal</th>\n",
              "      <th>total_rev_hi_lim</th>\n",
              "    </tr>\n",
              "  </thead>\n",
              "  <tbody>\n",
              "    <tr>\n",
              "      <th>count</th>\n",
              "      <td>4.662810e+05</td>\n",
              "      <td>466256.000000</td>\n",
              "      <td>466256.000000</td>\n",
              "      <td>215934.000000</td>\n",
              "      <td>62638.000000</td>\n",
              "      <td>466256.000000</td>\n",
              "      <td>466256.000000</td>\n",
              "      <td>465945.000000</td>\n",
              "      <td>466256.000000</td>\n",
              "      <td>466140.000000</td>\n",
              "      <td>98974.000000</td>\n",
              "      <td>466256.000000</td>\n",
              "      <td>3.960090e+05</td>\n",
              "      <td>3.960090e+05</td>\n",
              "      <td>3.960090e+05</td>\n",
              "    </tr>\n",
              "    <tr>\n",
              "      <th>mean</th>\n",
              "      <td>7.327738e+04</td>\n",
              "      <td>0.284678</td>\n",
              "      <td>0.804745</td>\n",
              "      <td>34.104430</td>\n",
              "      <td>74.306012</td>\n",
              "      <td>11.187069</td>\n",
              "      <td>0.160564</td>\n",
              "      <td>56.176947</td>\n",
              "      <td>25.064430</td>\n",
              "      <td>0.009085</td>\n",
              "      <td>42.852547</td>\n",
              "      <td>0.004002</td>\n",
              "      <td>1.919135e+02</td>\n",
              "      <td>1.388017e+05</td>\n",
              "      <td>3.037909e+04</td>\n",
              "    </tr>\n",
              "    <tr>\n",
              "      <th>std</th>\n",
              "      <td>5.496357e+04</td>\n",
              "      <td>0.797365</td>\n",
              "      <td>1.091598</td>\n",
              "      <td>21.778487</td>\n",
              "      <td>30.357653</td>\n",
              "      <td>4.987526</td>\n",
              "      <td>0.510863</td>\n",
              "      <td>23.732628</td>\n",
              "      <td>11.600141</td>\n",
              "      <td>0.108648</td>\n",
              "      <td>21.662591</td>\n",
              "      <td>0.068637</td>\n",
              "      <td>1.463021e+04</td>\n",
              "      <td>1.521147e+05</td>\n",
              "      <td>3.724713e+04</td>\n",
              "    </tr>\n",
              "    <tr>\n",
              "      <th>min</th>\n",
              "      <td>1.896000e+03</td>\n",
              "      <td>0.000000</td>\n",
              "      <td>0.000000</td>\n",
              "      <td>0.000000</td>\n",
              "      <td>0.000000</td>\n",
              "      <td>0.000000</td>\n",
              "      <td>0.000000</td>\n",
              "      <td>0.000000</td>\n",
              "      <td>1.000000</td>\n",
              "      <td>0.000000</td>\n",
              "      <td>0.000000</td>\n",
              "      <td>0.000000</td>\n",
              "      <td>0.000000e+00</td>\n",
              "      <td>0.000000e+00</td>\n",
              "      <td>0.000000e+00</td>\n",
              "    </tr>\n",
              "    <tr>\n",
              "      <th>25%</th>\n",
              "      <td>4.500000e+04</td>\n",
              "      <td>0.000000</td>\n",
              "      <td>0.000000</td>\n",
              "      <td>16.000000</td>\n",
              "      <td>53.000000</td>\n",
              "      <td>8.000000</td>\n",
              "      <td>0.000000</td>\n",
              "      <td>39.200000</td>\n",
              "      <td>17.000000</td>\n",
              "      <td>0.000000</td>\n",
              "      <td>26.000000</td>\n",
              "      <td>0.000000</td>\n",
              "      <td>0.000000e+00</td>\n",
              "      <td>2.861800e+04</td>\n",
              "      <td>1.350000e+04</td>\n",
              "    </tr>\n",
              "    <tr>\n",
              "      <th>50%</th>\n",
              "      <td>6.300000e+04</td>\n",
              "      <td>0.000000</td>\n",
              "      <td>0.000000</td>\n",
              "      <td>31.000000</td>\n",
              "      <td>76.000000</td>\n",
              "      <td>10.000000</td>\n",
              "      <td>0.000000</td>\n",
              "      <td>57.600000</td>\n",
              "      <td>23.000000</td>\n",
              "      <td>0.000000</td>\n",
              "      <td>42.000000</td>\n",
              "      <td>0.000000</td>\n",
              "      <td>0.000000e+00</td>\n",
              "      <td>8.153900e+04</td>\n",
              "      <td>2.280000e+04</td>\n",
              "    </tr>\n",
              "    <tr>\n",
              "      <th>75%</th>\n",
              "      <td>8.896000e+04</td>\n",
              "      <td>0.000000</td>\n",
              "      <td>1.000000</td>\n",
              "      <td>49.000000</td>\n",
              "      <td>102.000000</td>\n",
              "      <td>14.000000</td>\n",
              "      <td>0.000000</td>\n",
              "      <td>74.700000</td>\n",
              "      <td>32.000000</td>\n",
              "      <td>0.000000</td>\n",
              "      <td>59.000000</td>\n",
              "      <td>0.000000</td>\n",
              "      <td>0.000000e+00</td>\n",
              "      <td>2.089530e+05</td>\n",
              "      <td>3.790000e+04</td>\n",
              "    </tr>\n",
              "    <tr>\n",
              "      <th>max</th>\n",
              "      <td>7.500000e+06</td>\n",
              "      <td>29.000000</td>\n",
              "      <td>33.000000</td>\n",
              "      <td>188.000000</td>\n",
              "      <td>129.000000</td>\n",
              "      <td>84.000000</td>\n",
              "      <td>63.000000</td>\n",
              "      <td>892.300000</td>\n",
              "      <td>156.000000</td>\n",
              "      <td>20.000000</td>\n",
              "      <td>188.000000</td>\n",
              "      <td>5.000000</td>\n",
              "      <td>9.152545e+06</td>\n",
              "      <td>8.000078e+06</td>\n",
              "      <td>9.999999e+06</td>\n",
              "    </tr>\n",
              "  </tbody>\n",
              "</table>\n",
              "</div>\n",
              "      <button class=\"colab-df-convert\" onclick=\"convertToInteractive('df-3bb616f9-1129-4358-b5d3-fb4cb7bc089a')\"\n",
              "              title=\"Convert this dataframe to an interactive table.\"\n",
              "              style=\"display:none;\">\n",
              "        \n",
              "  <svg xmlns=\"http://www.w3.org/2000/svg\" height=\"24px\"viewBox=\"0 0 24 24\"\n",
              "       width=\"24px\">\n",
              "    <path d=\"M0 0h24v24H0V0z\" fill=\"none\"/>\n",
              "    <path d=\"M18.56 5.44l.94 2.06.94-2.06 2.06-.94-2.06-.94-.94-2.06-.94 2.06-2.06.94zm-11 1L8.5 8.5l.94-2.06 2.06-.94-2.06-.94L8.5 2.5l-.94 2.06-2.06.94zm10 10l.94 2.06.94-2.06 2.06-.94-2.06-.94-.94-2.06-.94 2.06-2.06.94z\"/><path d=\"M17.41 7.96l-1.37-1.37c-.4-.4-.92-.59-1.43-.59-.52 0-1.04.2-1.43.59L10.3 9.45l-7.72 7.72c-.78.78-.78 2.05 0 2.83L4 21.41c.39.39.9.59 1.41.59.51 0 1.02-.2 1.41-.59l7.78-7.78 2.81-2.81c.8-.78.8-2.07 0-2.86zM5.41 20L4 18.59l7.72-7.72 1.47 1.35L5.41 20z\"/>\n",
              "  </svg>\n",
              "      </button>\n",
              "      \n",
              "  <style>\n",
              "    .colab-df-container {\n",
              "      display:flex;\n",
              "      flex-wrap:wrap;\n",
              "      gap: 12px;\n",
              "    }\n",
              "\n",
              "    .colab-df-convert {\n",
              "      background-color: #E8F0FE;\n",
              "      border: none;\n",
              "      border-radius: 50%;\n",
              "      cursor: pointer;\n",
              "      display: none;\n",
              "      fill: #1967D2;\n",
              "      height: 32px;\n",
              "      padding: 0 0 0 0;\n",
              "      width: 32px;\n",
              "    }\n",
              "\n",
              "    .colab-df-convert:hover {\n",
              "      background-color: #E2EBFA;\n",
              "      box-shadow: 0px 1px 2px rgba(60, 64, 67, 0.3), 0px 1px 3px 1px rgba(60, 64, 67, 0.15);\n",
              "      fill: #174EA6;\n",
              "    }\n",
              "\n",
              "    [theme=dark] .colab-df-convert {\n",
              "      background-color: #3B4455;\n",
              "      fill: #D2E3FC;\n",
              "    }\n",
              "\n",
              "    [theme=dark] .colab-df-convert:hover {\n",
              "      background-color: #434B5C;\n",
              "      box-shadow: 0px 1px 3px 1px rgba(0, 0, 0, 0.15);\n",
              "      filter: drop-shadow(0px 1px 2px rgba(0, 0, 0, 0.3));\n",
              "      fill: #FFFFFF;\n",
              "    }\n",
              "  </style>\n",
              "\n",
              "      <script>\n",
              "        const buttonEl =\n",
              "          document.querySelector('#df-3bb616f9-1129-4358-b5d3-fb4cb7bc089a button.colab-df-convert');\n",
              "        buttonEl.style.display =\n",
              "          google.colab.kernel.accessAllowed ? 'block' : 'none';\n",
              "\n",
              "        async function convertToInteractive(key) {\n",
              "          const element = document.querySelector('#df-3bb616f9-1129-4358-b5d3-fb4cb7bc089a');\n",
              "          const dataTable =\n",
              "            await google.colab.kernel.invokeFunction('convertToInteractive',\n",
              "                                                     [key], {});\n",
              "          if (!dataTable) return;\n",
              "\n",
              "          const docLinkHtml = 'Like what you see? Visit the ' +\n",
              "            '<a target=\"_blank\" href=https://colab.research.google.com/notebooks/data_table.ipynb>data table notebook</a>'\n",
              "            + ' to learn more about interactive tables.';\n",
              "          element.innerHTML = '';\n",
              "          dataTable['output_type'] = 'display_data';\n",
              "          await google.colab.output.renderOutput(dataTable, element);\n",
              "          const docLink = document.createElement('div');\n",
              "          docLink.innerHTML = docLinkHtml;\n",
              "          element.appendChild(docLink);\n",
              "        }\n",
              "      </script>\n",
              "    </div>\n",
              "  </div>\n",
              "  "
            ]
          },
          "metadata": {},
          "execution_count": 55
        }
      ],
      "source": [
        "missing_value.describe()"
      ]
    },
    {
      "cell_type": "markdown",
      "source": [
        "### kolom annual_inc"
      ],
      "metadata": {
        "id": "1wzEwCuw0Q6b"
      }
    },
    {
      "cell_type": "code",
      "source": [
        "df['annual_inc'].mean()"
      ],
      "metadata": {
        "colab": {
          "base_uri": "https://localhost:8080/"
        },
        "id": "OQIn5SWs0P7L",
        "outputId": "216e4461-b752-4190-a7a6-6b23793fa423"
      },
      "execution_count": 56,
      "outputs": [
        {
          "output_type": "execute_result",
          "data": {
            "text/plain": [
              "73263.61380542752"
            ]
          },
          "metadata": {},
          "execution_count": 56
        }
      ]
    },
    {
      "cell_type": "code",
      "source": [
        "df['annual_inc'].fillna(df['annual_inc'].mean(), inplace=True)"
      ],
      "metadata": {
        "id": "KD7uQRYzkWcI"
      },
      "execution_count": 57,
      "outputs": []
    },
    {
      "cell_type": "code",
      "source": [
        "missing_value = df[df.columns[(df.isna().sum() >  0) & (df.dtypes != 'object')]]\n",
        "missing_value.isna().sum()"
      ],
      "metadata": {
        "colab": {
          "base_uri": "https://localhost:8080/"
        },
        "id": "khQpny2LkghC",
        "outputId": "c862bece-3350-4828-8fc5-b6d2d0ea3a9a"
      },
      "execution_count": 58,
      "outputs": [
        {
          "output_type": "execute_result",
          "data": {
            "text/plain": [
              "delinq_2yrs                        29\n",
              "inq_last_6mths                     29\n",
              "mths_since_last_delinq         249827\n",
              "mths_since_last_record         402767\n",
              "open_acc                           29\n",
              "pub_rec                            29\n",
              "revol_util                        340\n",
              "total_acc                          29\n",
              "collections_12_mths_ex_med        145\n",
              "mths_since_last_major_derog    366485\n",
              "acc_now_delinq                     29\n",
              "tot_coll_amt                    70144\n",
              "tot_cur_bal                     70144\n",
              "total_rev_hi_lim                70144\n",
              "dtype: int64"
            ]
          },
          "metadata": {},
          "execution_count": 58
        }
      ]
    },
    {
      "cell_type": "markdown",
      "source": [
        "### Check Missing Value yg diatas 75% di drop"
      ],
      "metadata": {
        "id": "CJ98YDZN1n3U"
      }
    },
    {
      "cell_type": "code",
      "source": [
        "check_missing = df.isnull().sum() * 100 / df.shape[0]\n",
        "check_missing[check_missing > 0].sort_values(ascending=False)"
      ],
      "metadata": {
        "colab": {
          "base_uri": "https://localhost:8080/"
        },
        "id": "QJCFRxvo1iWH",
        "outputId": "7386f86d-1bd2-44d0-9ecd-12619882ad75"
      },
      "execution_count": 59,
      "outputs": [
        {
          "output_type": "execute_result",
          "data": {
            "text/plain": [
              "mths_since_last_record         86.594957\n",
              "mths_since_last_major_derog    78.794322\n",
              "mths_since_last_delinq         53.712837\n",
              "tot_coll_amt                   15.080969\n",
              "tot_cur_bal                    15.080969\n",
              "total_rev_hi_lim               15.080969\n",
              "revol_util                      0.073100\n",
              "collections_12_mths_ex_med      0.031175\n",
              "delinq_2yrs                     0.006235\n",
              "inq_last_6mths                  0.006235\n",
              "open_acc                        0.006235\n",
              "pub_rec                         0.006235\n",
              "total_acc                       0.006235\n",
              "acc_now_delinq                  0.006235\n",
              "dtype: float64"
            ]
          },
          "metadata": {},
          "execution_count": 59
        }
      ]
    },
    {
      "cell_type": "code",
      "source": [
        "df.drop(columns=['mths_since_last_record', 'mths_since_last_major_derog'], inplace=True)"
      ],
      "metadata": {
        "id": "lyvTwC3T31g8"
      },
      "execution_count": 60,
      "outputs": []
    },
    {
      "cell_type": "markdown",
      "metadata": {
        "id": "yXMhvCmrHr-Y"
      },
      "source": [
        "### kolom sisanya dilakukan fillna 0"
      ]
    },
    {
      "cell_type": "code",
      "source": [
        "df['tot_coll_amt'].fillna(0, inplace=True)\n",
        "df['tot_cur_bal'].fillna(0, inplace=True)\n",
        "df['total_acc'].fillna(0, inplace=True)\n",
        "df['total_rev_hi_lim'].fillna(0, inplace=True)\n",
        "df['revol_util'].fillna(0, inplace=True)\n",
        "df['collections_12_mths_ex_med'].fillna(0, inplace=True)\n",
        "df['delinq_2yrs'].fillna(0, inplace=True)\n",
        "df['inq_last_6mths'].fillna(0, inplace=True)\n",
        "df['open_acc'].fillna(0, inplace=True)\n",
        "df['pub_rec'].fillna(0, inplace=True)\n",
        "df['total_acc'].fillna(0, inplace=True)\n",
        "df['acc_now_delinq'].fillna(0, inplace=True)\n",
        "df['mths_since_last_delinq'].fillna(-1, inplace=True)"
      ],
      "metadata": {
        "id": "G6rV9_pm4YSN"
      },
      "execution_count": 61,
      "outputs": []
    },
    {
      "cell_type": "code",
      "execution_count": 62,
      "metadata": {
        "id": "cpMb-Yr_Hr-Z",
        "colab": {
          "base_uri": "https://localhost:8080/"
        },
        "outputId": "1db450e7-88e3-4401-c60b-c7ed5cdff671"
      },
      "outputs": [
        {
          "output_type": "execute_result",
          "data": {
            "text/plain": [
              "Series([], dtype: float64)"
            ]
          },
          "metadata": {},
          "execution_count": 62
        }
      ],
      "source": [
        "missing_value = df[df.columns[(df.isna().sum() >  0) & (df.dtypes != 'object')]]\n",
        "missing_value.isna().sum()"
      ]
    },
    {
      "cell_type": "markdown",
      "metadata": {
        "id": "nUFZyWUXHr-d"
      },
      "source": [
        "## Melihat kembali Missing Value"
      ]
    },
    {
      "cell_type": "code",
      "source": [
        "sorted(df.isna().sum(), reverse=True)"
      ],
      "metadata": {
        "colab": {
          "base_uri": "https://localhost:8080/"
        },
        "id": "1s0IefCUvVl2",
        "outputId": "26b8682a-53f7-4d50-aad3-ff00c334be28"
      },
      "execution_count": 63,
      "outputs": [
        {
          "output_type": "execute_result",
          "data": {
            "text/plain": [
              "[0,\n",
              " 0,\n",
              " 0,\n",
              " 0,\n",
              " 0,\n",
              " 0,\n",
              " 0,\n",
              " 0,\n",
              " 0,\n",
              " 0,\n",
              " 0,\n",
              " 0,\n",
              " 0,\n",
              " 0,\n",
              " 0,\n",
              " 0,\n",
              " 0,\n",
              " 0,\n",
              " 0,\n",
              " 0,\n",
              " 0,\n",
              " 0,\n",
              " 0,\n",
              " 0,\n",
              " 0,\n",
              " 0,\n",
              " 0,\n",
              " 0,\n",
              " 0,\n",
              " 0,\n",
              " 0,\n",
              " 0,\n",
              " 0,\n",
              " 0,\n",
              " 0,\n",
              " 0,\n",
              " 0,\n",
              " 0,\n",
              " 0,\n",
              " 0,\n",
              " 0,\n",
              " 0,\n",
              " 0,\n",
              " 0,\n",
              " 0,\n",
              " 0,\n",
              " 0,\n",
              " 0,\n",
              " 0,\n",
              " 0,\n",
              " 0,\n",
              " 0]"
            ]
          },
          "metadata": {},
          "execution_count": 63
        }
      ]
    },
    {
      "cell_type": "code",
      "source": [
        "df.columns"
      ],
      "metadata": {
        "colab": {
          "base_uri": "https://localhost:8080/"
        },
        "id": "FSuda8MAvugr",
        "outputId": "54948e45-9e7e-459d-ad2f-1a96e823a711"
      },
      "execution_count": 64,
      "outputs": [
        {
          "output_type": "execute_result",
          "data": {
            "text/plain": [
              "Index(['id', 'member_id', 'loan_amnt', 'funded_amnt', 'funded_amnt_inv',\n",
              "       'term', 'int_rate', 'installment', 'grade', 'sub_grade', 'emp_length',\n",
              "       'home_ownership', 'annual_inc', 'verification_status', 'issue_d',\n",
              "       'loan_status', 'pymnt_plan', 'url', 'purpose', 'zip_code', 'addr_state',\n",
              "       'dti', 'delinq_2yrs', 'inq_last_6mths', 'mths_since_last_delinq',\n",
              "       'open_acc', 'pub_rec', 'revol_bal', 'revol_util', 'total_acc',\n",
              "       'initial_list_status', 'out_prncp', 'out_prncp_inv', 'total_pymnt',\n",
              "       'total_pymnt_inv', 'total_rec_prncp', 'total_rec_int',\n",
              "       'total_rec_late_fee', 'recoveries', 'collection_recovery_fee',\n",
              "       'last_pymnt_amnt', 'collections_12_mths_ex_med', 'policy_code',\n",
              "       'application_type', 'acc_now_delinq', 'tot_coll_amt', 'tot_cur_bal',\n",
              "       'total_rev_hi_lim', 'mths_since_earliest_cr_line',\n",
              "       'mths_since_last_pymnt_d', 'mths_since_next_pymnt_d',\n",
              "       'mths_since_last_credit_pull_d'],\n",
              "      dtype='object')"
            ]
          },
          "metadata": {},
          "execution_count": 64
        }
      ]
    },
    {
      "cell_type": "code",
      "execution_count": 65,
      "metadata": {
        "id": "BgPHAbREHr-d"
      },
      "outputs": [],
      "source": [
        "df.drop(columns=['url', 'id', 'member_id', 'sub_grade', 'zip_code'], inplace=True)"
      ]
    },
    {
      "cell_type": "code",
      "execution_count": 66,
      "metadata": {
        "id": "deh0j0kQHr-d",
        "colab": {
          "base_uri": "https://localhost:8080/",
          "height": 0
        },
        "outputId": "64f845ae-9854-42f9-cc4e-287a9f199cd1"
      },
      "outputs": [
        {
          "output_type": "execute_result",
          "data": {
            "text/plain": [
              "   loan_amnt  funded_amnt  funded_amnt_inv        term  int_rate  installment  \\\n",
              "0       5000         5000           4975.0   36 months     10.65       162.87   \n",
              "1       2500         2500           2500.0   60 months     15.27        59.83   \n",
              "2       2400         2400           2400.0   36 months     15.96        84.33   \n",
              "3      10000        10000          10000.0   36 months     13.49       339.31   \n",
              "4       3000         3000           3000.0   60 months     12.69        67.79   \n",
              "\n",
              "  grade  emp_length home_ownership  annual_inc verification_status issue_d  \\\n",
              "0     B        10.0           RENT     24000.0            Verified  Dec-11   \n",
              "1     C         0.0           RENT     30000.0     Source Verified  Dec-11   \n",
              "2     C        10.0           RENT     12252.0        Not Verified  Dec-11   \n",
              "3     C        10.0           RENT     49200.0     Source Verified  Dec-11   \n",
              "4     B         1.0           RENT     80000.0     Source Verified  Dec-11   \n",
              "\n",
              "   loan_status pymnt_plan         purpose addr_state    dti  delinq_2yrs  \\\n",
              "0   Fully Paid          n     credit_card         AZ  27.65          0.0   \n",
              "1  Charged Off          n             car         GA   1.00          0.0   \n",
              "2   Fully Paid          n  small_business         IL   8.72          0.0   \n",
              "3   Fully Paid          n           other         CA  20.00          0.0   \n",
              "4      Current          n           other         OR  17.94          0.0   \n",
              "\n",
              "   inq_last_6mths  mths_since_last_delinq  open_acc  pub_rec  revol_bal  \\\n",
              "0             1.0                    -1.0       3.0      0.0      13648   \n",
              "1             5.0                    -1.0       3.0      0.0       1687   \n",
              "2             2.0                    -1.0       2.0      0.0       2956   \n",
              "3             1.0                    35.0      10.0      0.0       5598   \n",
              "4             0.0                    38.0      15.0      0.0      27783   \n",
              "\n",
              "   revol_util  total_acc initial_list_status  out_prncp  out_prncp_inv  \\\n",
              "0        83.7        9.0                   f        0.0            0.0   \n",
              "1         9.4        4.0                   f        0.0            0.0   \n",
              "2        98.5       10.0                   f        0.0            0.0   \n",
              "3        21.0       37.0                   f        0.0            0.0   \n",
              "4        53.9       38.0                   f      766.9          766.9   \n",
              "\n",
              "    total_pymnt  total_pymnt_inv  total_rec_prncp  total_rec_int  \\\n",
              "0   5861.071414          5831.78          5000.00         861.07   \n",
              "1   1008.710000          1008.71           456.46         435.17   \n",
              "2   3003.653644          3003.65          2400.00         603.65   \n",
              "3  12226.302210         12226.30         10000.00        2209.33   \n",
              "4   3242.170000          3242.17          2233.10        1009.07   \n",
              "\n",
              "   total_rec_late_fee  recoveries  collection_recovery_fee  last_pymnt_amnt  \\\n",
              "0                0.00        0.00                     0.00           171.62   \n",
              "1                0.00      117.08                     1.11           119.66   \n",
              "2                0.00        0.00                     0.00           649.91   \n",
              "3               16.97        0.00                     0.00           357.48   \n",
              "4                0.00        0.00                     0.00            67.79   \n",
              "\n",
              "   collections_12_mths_ex_med  policy_code application_type  acc_now_delinq  \\\n",
              "0                         0.0            1       INDIVIDUAL             0.0   \n",
              "1                         0.0            1       INDIVIDUAL             0.0   \n",
              "2                         0.0            1       INDIVIDUAL             0.0   \n",
              "3                         0.0            1       INDIVIDUAL             0.0   \n",
              "4                         0.0            1       INDIVIDUAL             0.0   \n",
              "\n",
              "   tot_coll_amt  tot_cur_bal  total_rev_hi_lim  mths_since_earliest_cr_line  \\\n",
              "0           0.0          0.0               0.0                        378.0   \n",
              "1           0.0          0.0               0.0                        207.0   \n",
              "2           0.0          0.0               0.0                        176.0   \n",
              "3           0.0          0.0               0.0                        245.0   \n",
              "4           0.0          0.0               0.0                        246.0   \n",
              "\n",
              "   mths_since_last_pymnt_d  mths_since_next_pymnt_d  \\\n",
              "0                     23.0                      0.0   \n",
              "1                     44.0                      0.0   \n",
              "2                     30.0                      0.0   \n",
              "3                     23.0                      0.0   \n",
              "4                     11.0                     10.0   \n",
              "\n",
              "   mths_since_last_credit_pull_d  \n",
              "0                           11.0  \n",
              "1                           39.0  \n",
              "2                           11.0  \n",
              "3                           23.0  \n",
              "4                           11.0  "
            ],
            "text/html": [
              "\n",
              "  <div id=\"df-15470800-6abc-4684-b73d-a191cc3a7fc7\">\n",
              "    <div class=\"colab-df-container\">\n",
              "      <div>\n",
              "<style scoped>\n",
              "    .dataframe tbody tr th:only-of-type {\n",
              "        vertical-align: middle;\n",
              "    }\n",
              "\n",
              "    .dataframe tbody tr th {\n",
              "        vertical-align: top;\n",
              "    }\n",
              "\n",
              "    .dataframe thead th {\n",
              "        text-align: right;\n",
              "    }\n",
              "</style>\n",
              "<table border=\"1\" class=\"dataframe\">\n",
              "  <thead>\n",
              "    <tr style=\"text-align: right;\">\n",
              "      <th></th>\n",
              "      <th>loan_amnt</th>\n",
              "      <th>funded_amnt</th>\n",
              "      <th>funded_amnt_inv</th>\n",
              "      <th>term</th>\n",
              "      <th>int_rate</th>\n",
              "      <th>installment</th>\n",
              "      <th>grade</th>\n",
              "      <th>emp_length</th>\n",
              "      <th>home_ownership</th>\n",
              "      <th>annual_inc</th>\n",
              "      <th>verification_status</th>\n",
              "      <th>issue_d</th>\n",
              "      <th>loan_status</th>\n",
              "      <th>pymnt_plan</th>\n",
              "      <th>purpose</th>\n",
              "      <th>addr_state</th>\n",
              "      <th>dti</th>\n",
              "      <th>delinq_2yrs</th>\n",
              "      <th>inq_last_6mths</th>\n",
              "      <th>mths_since_last_delinq</th>\n",
              "      <th>open_acc</th>\n",
              "      <th>pub_rec</th>\n",
              "      <th>revol_bal</th>\n",
              "      <th>revol_util</th>\n",
              "      <th>total_acc</th>\n",
              "      <th>initial_list_status</th>\n",
              "      <th>out_prncp</th>\n",
              "      <th>out_prncp_inv</th>\n",
              "      <th>total_pymnt</th>\n",
              "      <th>total_pymnt_inv</th>\n",
              "      <th>total_rec_prncp</th>\n",
              "      <th>total_rec_int</th>\n",
              "      <th>total_rec_late_fee</th>\n",
              "      <th>recoveries</th>\n",
              "      <th>collection_recovery_fee</th>\n",
              "      <th>last_pymnt_amnt</th>\n",
              "      <th>collections_12_mths_ex_med</th>\n",
              "      <th>policy_code</th>\n",
              "      <th>application_type</th>\n",
              "      <th>acc_now_delinq</th>\n",
              "      <th>tot_coll_amt</th>\n",
              "      <th>tot_cur_bal</th>\n",
              "      <th>total_rev_hi_lim</th>\n",
              "      <th>mths_since_earliest_cr_line</th>\n",
              "      <th>mths_since_last_pymnt_d</th>\n",
              "      <th>mths_since_next_pymnt_d</th>\n",
              "      <th>mths_since_last_credit_pull_d</th>\n",
              "    </tr>\n",
              "  </thead>\n",
              "  <tbody>\n",
              "    <tr>\n",
              "      <th>0</th>\n",
              "      <td>5000</td>\n",
              "      <td>5000</td>\n",
              "      <td>4975.0</td>\n",
              "      <td>36 months</td>\n",
              "      <td>10.65</td>\n",
              "      <td>162.87</td>\n",
              "      <td>B</td>\n",
              "      <td>10.0</td>\n",
              "      <td>RENT</td>\n",
              "      <td>24000.0</td>\n",
              "      <td>Verified</td>\n",
              "      <td>Dec-11</td>\n",
              "      <td>Fully Paid</td>\n",
              "      <td>n</td>\n",
              "      <td>credit_card</td>\n",
              "      <td>AZ</td>\n",
              "      <td>27.65</td>\n",
              "      <td>0.0</td>\n",
              "      <td>1.0</td>\n",
              "      <td>-1.0</td>\n",
              "      <td>3.0</td>\n",
              "      <td>0.0</td>\n",
              "      <td>13648</td>\n",
              "      <td>83.7</td>\n",
              "      <td>9.0</td>\n",
              "      <td>f</td>\n",
              "      <td>0.0</td>\n",
              "      <td>0.0</td>\n",
              "      <td>5861.071414</td>\n",
              "      <td>5831.78</td>\n",
              "      <td>5000.00</td>\n",
              "      <td>861.07</td>\n",
              "      <td>0.00</td>\n",
              "      <td>0.00</td>\n",
              "      <td>0.00</td>\n",
              "      <td>171.62</td>\n",
              "      <td>0.0</td>\n",
              "      <td>1</td>\n",
              "      <td>INDIVIDUAL</td>\n",
              "      <td>0.0</td>\n",
              "      <td>0.0</td>\n",
              "      <td>0.0</td>\n",
              "      <td>0.0</td>\n",
              "      <td>378.0</td>\n",
              "      <td>23.0</td>\n",
              "      <td>0.0</td>\n",
              "      <td>11.0</td>\n",
              "    </tr>\n",
              "    <tr>\n",
              "      <th>1</th>\n",
              "      <td>2500</td>\n",
              "      <td>2500</td>\n",
              "      <td>2500.0</td>\n",
              "      <td>60 months</td>\n",
              "      <td>15.27</td>\n",
              "      <td>59.83</td>\n",
              "      <td>C</td>\n",
              "      <td>0.0</td>\n",
              "      <td>RENT</td>\n",
              "      <td>30000.0</td>\n",
              "      <td>Source Verified</td>\n",
              "      <td>Dec-11</td>\n",
              "      <td>Charged Off</td>\n",
              "      <td>n</td>\n",
              "      <td>car</td>\n",
              "      <td>GA</td>\n",
              "      <td>1.00</td>\n",
              "      <td>0.0</td>\n",
              "      <td>5.0</td>\n",
              "      <td>-1.0</td>\n",
              "      <td>3.0</td>\n",
              "      <td>0.0</td>\n",
              "      <td>1687</td>\n",
              "      <td>9.4</td>\n",
              "      <td>4.0</td>\n",
              "      <td>f</td>\n",
              "      <td>0.0</td>\n",
              "      <td>0.0</td>\n",
              "      <td>1008.710000</td>\n",
              "      <td>1008.71</td>\n",
              "      <td>456.46</td>\n",
              "      <td>435.17</td>\n",
              "      <td>0.00</td>\n",
              "      <td>117.08</td>\n",
              "      <td>1.11</td>\n",
              "      <td>119.66</td>\n",
              "      <td>0.0</td>\n",
              "      <td>1</td>\n",
              "      <td>INDIVIDUAL</td>\n",
              "      <td>0.0</td>\n",
              "      <td>0.0</td>\n",
              "      <td>0.0</td>\n",
              "      <td>0.0</td>\n",
              "      <td>207.0</td>\n",
              "      <td>44.0</td>\n",
              "      <td>0.0</td>\n",
              "      <td>39.0</td>\n",
              "    </tr>\n",
              "    <tr>\n",
              "      <th>2</th>\n",
              "      <td>2400</td>\n",
              "      <td>2400</td>\n",
              "      <td>2400.0</td>\n",
              "      <td>36 months</td>\n",
              "      <td>15.96</td>\n",
              "      <td>84.33</td>\n",
              "      <td>C</td>\n",
              "      <td>10.0</td>\n",
              "      <td>RENT</td>\n",
              "      <td>12252.0</td>\n",
              "      <td>Not Verified</td>\n",
              "      <td>Dec-11</td>\n",
              "      <td>Fully Paid</td>\n",
              "      <td>n</td>\n",
              "      <td>small_business</td>\n",
              "      <td>IL</td>\n",
              "      <td>8.72</td>\n",
              "      <td>0.0</td>\n",
              "      <td>2.0</td>\n",
              "      <td>-1.0</td>\n",
              "      <td>2.0</td>\n",
              "      <td>0.0</td>\n",
              "      <td>2956</td>\n",
              "      <td>98.5</td>\n",
              "      <td>10.0</td>\n",
              "      <td>f</td>\n",
              "      <td>0.0</td>\n",
              "      <td>0.0</td>\n",
              "      <td>3003.653644</td>\n",
              "      <td>3003.65</td>\n",
              "      <td>2400.00</td>\n",
              "      <td>603.65</td>\n",
              "      <td>0.00</td>\n",
              "      <td>0.00</td>\n",
              "      <td>0.00</td>\n",
              "      <td>649.91</td>\n",
              "      <td>0.0</td>\n",
              "      <td>1</td>\n",
              "      <td>INDIVIDUAL</td>\n",
              "      <td>0.0</td>\n",
              "      <td>0.0</td>\n",
              "      <td>0.0</td>\n",
              "      <td>0.0</td>\n",
              "      <td>176.0</td>\n",
              "      <td>30.0</td>\n",
              "      <td>0.0</td>\n",
              "      <td>11.0</td>\n",
              "    </tr>\n",
              "    <tr>\n",
              "      <th>3</th>\n",
              "      <td>10000</td>\n",
              "      <td>10000</td>\n",
              "      <td>10000.0</td>\n",
              "      <td>36 months</td>\n",
              "      <td>13.49</td>\n",
              "      <td>339.31</td>\n",
              "      <td>C</td>\n",
              "      <td>10.0</td>\n",
              "      <td>RENT</td>\n",
              "      <td>49200.0</td>\n",
              "      <td>Source Verified</td>\n",
              "      <td>Dec-11</td>\n",
              "      <td>Fully Paid</td>\n",
              "      <td>n</td>\n",
              "      <td>other</td>\n",
              "      <td>CA</td>\n",
              "      <td>20.00</td>\n",
              "      <td>0.0</td>\n",
              "      <td>1.0</td>\n",
              "      <td>35.0</td>\n",
              "      <td>10.0</td>\n",
              "      <td>0.0</td>\n",
              "      <td>5598</td>\n",
              "      <td>21.0</td>\n",
              "      <td>37.0</td>\n",
              "      <td>f</td>\n",
              "      <td>0.0</td>\n",
              "      <td>0.0</td>\n",
              "      <td>12226.302210</td>\n",
              "      <td>12226.30</td>\n",
              "      <td>10000.00</td>\n",
              "      <td>2209.33</td>\n",
              "      <td>16.97</td>\n",
              "      <td>0.00</td>\n",
              "      <td>0.00</td>\n",
              "      <td>357.48</td>\n",
              "      <td>0.0</td>\n",
              "      <td>1</td>\n",
              "      <td>INDIVIDUAL</td>\n",
              "      <td>0.0</td>\n",
              "      <td>0.0</td>\n",
              "      <td>0.0</td>\n",
              "      <td>0.0</td>\n",
              "      <td>245.0</td>\n",
              "      <td>23.0</td>\n",
              "      <td>0.0</td>\n",
              "      <td>23.0</td>\n",
              "    </tr>\n",
              "    <tr>\n",
              "      <th>4</th>\n",
              "      <td>3000</td>\n",
              "      <td>3000</td>\n",
              "      <td>3000.0</td>\n",
              "      <td>60 months</td>\n",
              "      <td>12.69</td>\n",
              "      <td>67.79</td>\n",
              "      <td>B</td>\n",
              "      <td>1.0</td>\n",
              "      <td>RENT</td>\n",
              "      <td>80000.0</td>\n",
              "      <td>Source Verified</td>\n",
              "      <td>Dec-11</td>\n",
              "      <td>Current</td>\n",
              "      <td>n</td>\n",
              "      <td>other</td>\n",
              "      <td>OR</td>\n",
              "      <td>17.94</td>\n",
              "      <td>0.0</td>\n",
              "      <td>0.0</td>\n",
              "      <td>38.0</td>\n",
              "      <td>15.0</td>\n",
              "      <td>0.0</td>\n",
              "      <td>27783</td>\n",
              "      <td>53.9</td>\n",
              "      <td>38.0</td>\n",
              "      <td>f</td>\n",
              "      <td>766.9</td>\n",
              "      <td>766.9</td>\n",
              "      <td>3242.170000</td>\n",
              "      <td>3242.17</td>\n",
              "      <td>2233.10</td>\n",
              "      <td>1009.07</td>\n",
              "      <td>0.00</td>\n",
              "      <td>0.00</td>\n",
              "      <td>0.00</td>\n",
              "      <td>67.79</td>\n",
              "      <td>0.0</td>\n",
              "      <td>1</td>\n",
              "      <td>INDIVIDUAL</td>\n",
              "      <td>0.0</td>\n",
              "      <td>0.0</td>\n",
              "      <td>0.0</td>\n",
              "      <td>0.0</td>\n",
              "      <td>246.0</td>\n",
              "      <td>11.0</td>\n",
              "      <td>10.0</td>\n",
              "      <td>11.0</td>\n",
              "    </tr>\n",
              "  </tbody>\n",
              "</table>\n",
              "</div>\n",
              "      <button class=\"colab-df-convert\" onclick=\"convertToInteractive('df-15470800-6abc-4684-b73d-a191cc3a7fc7')\"\n",
              "              title=\"Convert this dataframe to an interactive table.\"\n",
              "              style=\"display:none;\">\n",
              "        \n",
              "  <svg xmlns=\"http://www.w3.org/2000/svg\" height=\"24px\"viewBox=\"0 0 24 24\"\n",
              "       width=\"24px\">\n",
              "    <path d=\"M0 0h24v24H0V0z\" fill=\"none\"/>\n",
              "    <path d=\"M18.56 5.44l.94 2.06.94-2.06 2.06-.94-2.06-.94-.94-2.06-.94 2.06-2.06.94zm-11 1L8.5 8.5l.94-2.06 2.06-.94-2.06-.94L8.5 2.5l-.94 2.06-2.06.94zm10 10l.94 2.06.94-2.06 2.06-.94-2.06-.94-.94-2.06-.94 2.06-2.06.94z\"/><path d=\"M17.41 7.96l-1.37-1.37c-.4-.4-.92-.59-1.43-.59-.52 0-1.04.2-1.43.59L10.3 9.45l-7.72 7.72c-.78.78-.78 2.05 0 2.83L4 21.41c.39.39.9.59 1.41.59.51 0 1.02-.2 1.41-.59l7.78-7.78 2.81-2.81c.8-.78.8-2.07 0-2.86zM5.41 20L4 18.59l7.72-7.72 1.47 1.35L5.41 20z\"/>\n",
              "  </svg>\n",
              "      </button>\n",
              "      \n",
              "  <style>\n",
              "    .colab-df-container {\n",
              "      display:flex;\n",
              "      flex-wrap:wrap;\n",
              "      gap: 12px;\n",
              "    }\n",
              "\n",
              "    .colab-df-convert {\n",
              "      background-color: #E8F0FE;\n",
              "      border: none;\n",
              "      border-radius: 50%;\n",
              "      cursor: pointer;\n",
              "      display: none;\n",
              "      fill: #1967D2;\n",
              "      height: 32px;\n",
              "      padding: 0 0 0 0;\n",
              "      width: 32px;\n",
              "    }\n",
              "\n",
              "    .colab-df-convert:hover {\n",
              "      background-color: #E2EBFA;\n",
              "      box-shadow: 0px 1px 2px rgba(60, 64, 67, 0.3), 0px 1px 3px 1px rgba(60, 64, 67, 0.15);\n",
              "      fill: #174EA6;\n",
              "    }\n",
              "\n",
              "    [theme=dark] .colab-df-convert {\n",
              "      background-color: #3B4455;\n",
              "      fill: #D2E3FC;\n",
              "    }\n",
              "\n",
              "    [theme=dark] .colab-df-convert:hover {\n",
              "      background-color: #434B5C;\n",
              "      box-shadow: 0px 1px 3px 1px rgba(0, 0, 0, 0.15);\n",
              "      filter: drop-shadow(0px 1px 2px rgba(0, 0, 0, 0.3));\n",
              "      fill: #FFFFFF;\n",
              "    }\n",
              "  </style>\n",
              "\n",
              "      <script>\n",
              "        const buttonEl =\n",
              "          document.querySelector('#df-15470800-6abc-4684-b73d-a191cc3a7fc7 button.colab-df-convert');\n",
              "        buttonEl.style.display =\n",
              "          google.colab.kernel.accessAllowed ? 'block' : 'none';\n",
              "\n",
              "        async function convertToInteractive(key) {\n",
              "          const element = document.querySelector('#df-15470800-6abc-4684-b73d-a191cc3a7fc7');\n",
              "          const dataTable =\n",
              "            await google.colab.kernel.invokeFunction('convertToInteractive',\n",
              "                                                     [key], {});\n",
              "          if (!dataTable) return;\n",
              "\n",
              "          const docLinkHtml = 'Like what you see? Visit the ' +\n",
              "            '<a target=\"_blank\" href=https://colab.research.google.com/notebooks/data_table.ipynb>data table notebook</a>'\n",
              "            + ' to learn more about interactive tables.';\n",
              "          element.innerHTML = '';\n",
              "          dataTable['output_type'] = 'display_data';\n",
              "          await google.colab.output.renderOutput(dataTable, element);\n",
              "          const docLink = document.createElement('div');\n",
              "          docLink.innerHTML = docLinkHtml;\n",
              "          element.appendChild(docLink);\n",
              "        }\n",
              "      </script>\n",
              "    </div>\n",
              "  </div>\n",
              "  "
            ]
          },
          "metadata": {},
          "execution_count": 66
        }
      ],
      "source": [
        "df.reset_index(drop=True, inplace=True)\n",
        "df.head()"
      ]
    },
    {
      "cell_type": "markdown",
      "metadata": {
        "id": "KYRQc1goHr-d"
      },
      "source": [
        "# Information About Data"
      ]
    },
    {
      "cell_type": "code",
      "execution_count": 67,
      "metadata": {
        "id": "5nYOYSEJHr-e",
        "colab": {
          "base_uri": "https://localhost:8080/",
          "height": 357
        },
        "outputId": "01711c85-6c60-4f8a-e97a-35e21ff55af5"
      },
      "outputs": [
        {
          "output_type": "execute_result",
          "data": {
            "text/plain": [
              "   loan_amnt  funded_amnt  funded_amnt_inv        term  int_rate  installment  \\\n",
              "0       5000         5000           4975.0   36 months     10.65       162.87   \n",
              "1       2500         2500           2500.0   60 months     15.27        59.83   \n",
              "2       2400         2400           2400.0   36 months     15.96        84.33   \n",
              "3      10000        10000          10000.0   36 months     13.49       339.31   \n",
              "4       3000         3000           3000.0   60 months     12.69        67.79   \n",
              "\n",
              "  grade  emp_length home_ownership  annual_inc verification_status issue_d  \\\n",
              "0     B        10.0           RENT     24000.0            Verified  Dec-11   \n",
              "1     C         0.0           RENT     30000.0     Source Verified  Dec-11   \n",
              "2     C        10.0           RENT     12252.0        Not Verified  Dec-11   \n",
              "3     C        10.0           RENT     49200.0     Source Verified  Dec-11   \n",
              "4     B         1.0           RENT     80000.0     Source Verified  Dec-11   \n",
              "\n",
              "   loan_status pymnt_plan         purpose addr_state    dti  delinq_2yrs  \\\n",
              "0   Fully Paid          n     credit_card         AZ  27.65          0.0   \n",
              "1  Charged Off          n             car         GA   1.00          0.0   \n",
              "2   Fully Paid          n  small_business         IL   8.72          0.0   \n",
              "3   Fully Paid          n           other         CA  20.00          0.0   \n",
              "4      Current          n           other         OR  17.94          0.0   \n",
              "\n",
              "   inq_last_6mths  mths_since_last_delinq  open_acc  pub_rec  revol_bal  \\\n",
              "0             1.0                    -1.0       3.0      0.0      13648   \n",
              "1             5.0                    -1.0       3.0      0.0       1687   \n",
              "2             2.0                    -1.0       2.0      0.0       2956   \n",
              "3             1.0                    35.0      10.0      0.0       5598   \n",
              "4             0.0                    38.0      15.0      0.0      27783   \n",
              "\n",
              "   revol_util  total_acc initial_list_status  out_prncp  out_prncp_inv  \\\n",
              "0        83.7        9.0                   f        0.0            0.0   \n",
              "1         9.4        4.0                   f        0.0            0.0   \n",
              "2        98.5       10.0                   f        0.0            0.0   \n",
              "3        21.0       37.0                   f        0.0            0.0   \n",
              "4        53.9       38.0                   f      766.9          766.9   \n",
              "\n",
              "    total_pymnt  total_pymnt_inv  total_rec_prncp  total_rec_int  \\\n",
              "0   5861.071414          5831.78          5000.00         861.07   \n",
              "1   1008.710000          1008.71           456.46         435.17   \n",
              "2   3003.653644          3003.65          2400.00         603.65   \n",
              "3  12226.302210         12226.30         10000.00        2209.33   \n",
              "4   3242.170000          3242.17          2233.10        1009.07   \n",
              "\n",
              "   total_rec_late_fee  recoveries  collection_recovery_fee  last_pymnt_amnt  \\\n",
              "0                0.00        0.00                     0.00           171.62   \n",
              "1                0.00      117.08                     1.11           119.66   \n",
              "2                0.00        0.00                     0.00           649.91   \n",
              "3               16.97        0.00                     0.00           357.48   \n",
              "4                0.00        0.00                     0.00            67.79   \n",
              "\n",
              "   collections_12_mths_ex_med  policy_code application_type  acc_now_delinq  \\\n",
              "0                         0.0            1       INDIVIDUAL             0.0   \n",
              "1                         0.0            1       INDIVIDUAL             0.0   \n",
              "2                         0.0            1       INDIVIDUAL             0.0   \n",
              "3                         0.0            1       INDIVIDUAL             0.0   \n",
              "4                         0.0            1       INDIVIDUAL             0.0   \n",
              "\n",
              "   tot_coll_amt  tot_cur_bal  total_rev_hi_lim  mths_since_earliest_cr_line  \\\n",
              "0           0.0          0.0               0.0                        378.0   \n",
              "1           0.0          0.0               0.0                        207.0   \n",
              "2           0.0          0.0               0.0                        176.0   \n",
              "3           0.0          0.0               0.0                        245.0   \n",
              "4           0.0          0.0               0.0                        246.0   \n",
              "\n",
              "   mths_since_last_pymnt_d  mths_since_next_pymnt_d  \\\n",
              "0                     23.0                      0.0   \n",
              "1                     44.0                      0.0   \n",
              "2                     30.0                      0.0   \n",
              "3                     23.0                      0.0   \n",
              "4                     11.0                     10.0   \n",
              "\n",
              "   mths_since_last_credit_pull_d  \n",
              "0                           11.0  \n",
              "1                           39.0  \n",
              "2                           11.0  \n",
              "3                           23.0  \n",
              "4                           11.0  "
            ],
            "text/html": [
              "\n",
              "  <div id=\"df-0b125d51-8c15-4711-adc0-eb7c636bcea0\">\n",
              "    <div class=\"colab-df-container\">\n",
              "      <div>\n",
              "<style scoped>\n",
              "    .dataframe tbody tr th:only-of-type {\n",
              "        vertical-align: middle;\n",
              "    }\n",
              "\n",
              "    .dataframe tbody tr th {\n",
              "        vertical-align: top;\n",
              "    }\n",
              "\n",
              "    .dataframe thead th {\n",
              "        text-align: right;\n",
              "    }\n",
              "</style>\n",
              "<table border=\"1\" class=\"dataframe\">\n",
              "  <thead>\n",
              "    <tr style=\"text-align: right;\">\n",
              "      <th></th>\n",
              "      <th>loan_amnt</th>\n",
              "      <th>funded_amnt</th>\n",
              "      <th>funded_amnt_inv</th>\n",
              "      <th>term</th>\n",
              "      <th>int_rate</th>\n",
              "      <th>installment</th>\n",
              "      <th>grade</th>\n",
              "      <th>emp_length</th>\n",
              "      <th>home_ownership</th>\n",
              "      <th>annual_inc</th>\n",
              "      <th>verification_status</th>\n",
              "      <th>issue_d</th>\n",
              "      <th>loan_status</th>\n",
              "      <th>pymnt_plan</th>\n",
              "      <th>purpose</th>\n",
              "      <th>addr_state</th>\n",
              "      <th>dti</th>\n",
              "      <th>delinq_2yrs</th>\n",
              "      <th>inq_last_6mths</th>\n",
              "      <th>mths_since_last_delinq</th>\n",
              "      <th>open_acc</th>\n",
              "      <th>pub_rec</th>\n",
              "      <th>revol_bal</th>\n",
              "      <th>revol_util</th>\n",
              "      <th>total_acc</th>\n",
              "      <th>initial_list_status</th>\n",
              "      <th>out_prncp</th>\n",
              "      <th>out_prncp_inv</th>\n",
              "      <th>total_pymnt</th>\n",
              "      <th>total_pymnt_inv</th>\n",
              "      <th>total_rec_prncp</th>\n",
              "      <th>total_rec_int</th>\n",
              "      <th>total_rec_late_fee</th>\n",
              "      <th>recoveries</th>\n",
              "      <th>collection_recovery_fee</th>\n",
              "      <th>last_pymnt_amnt</th>\n",
              "      <th>collections_12_mths_ex_med</th>\n",
              "      <th>policy_code</th>\n",
              "      <th>application_type</th>\n",
              "      <th>acc_now_delinq</th>\n",
              "      <th>tot_coll_amt</th>\n",
              "      <th>tot_cur_bal</th>\n",
              "      <th>total_rev_hi_lim</th>\n",
              "      <th>mths_since_earliest_cr_line</th>\n",
              "      <th>mths_since_last_pymnt_d</th>\n",
              "      <th>mths_since_next_pymnt_d</th>\n",
              "      <th>mths_since_last_credit_pull_d</th>\n",
              "    </tr>\n",
              "  </thead>\n",
              "  <tbody>\n",
              "    <tr>\n",
              "      <th>0</th>\n",
              "      <td>5000</td>\n",
              "      <td>5000</td>\n",
              "      <td>4975.0</td>\n",
              "      <td>36 months</td>\n",
              "      <td>10.65</td>\n",
              "      <td>162.87</td>\n",
              "      <td>B</td>\n",
              "      <td>10.0</td>\n",
              "      <td>RENT</td>\n",
              "      <td>24000.0</td>\n",
              "      <td>Verified</td>\n",
              "      <td>Dec-11</td>\n",
              "      <td>Fully Paid</td>\n",
              "      <td>n</td>\n",
              "      <td>credit_card</td>\n",
              "      <td>AZ</td>\n",
              "      <td>27.65</td>\n",
              "      <td>0.0</td>\n",
              "      <td>1.0</td>\n",
              "      <td>-1.0</td>\n",
              "      <td>3.0</td>\n",
              "      <td>0.0</td>\n",
              "      <td>13648</td>\n",
              "      <td>83.7</td>\n",
              "      <td>9.0</td>\n",
              "      <td>f</td>\n",
              "      <td>0.0</td>\n",
              "      <td>0.0</td>\n",
              "      <td>5861.071414</td>\n",
              "      <td>5831.78</td>\n",
              "      <td>5000.00</td>\n",
              "      <td>861.07</td>\n",
              "      <td>0.00</td>\n",
              "      <td>0.00</td>\n",
              "      <td>0.00</td>\n",
              "      <td>171.62</td>\n",
              "      <td>0.0</td>\n",
              "      <td>1</td>\n",
              "      <td>INDIVIDUAL</td>\n",
              "      <td>0.0</td>\n",
              "      <td>0.0</td>\n",
              "      <td>0.0</td>\n",
              "      <td>0.0</td>\n",
              "      <td>378.0</td>\n",
              "      <td>23.0</td>\n",
              "      <td>0.0</td>\n",
              "      <td>11.0</td>\n",
              "    </tr>\n",
              "    <tr>\n",
              "      <th>1</th>\n",
              "      <td>2500</td>\n",
              "      <td>2500</td>\n",
              "      <td>2500.0</td>\n",
              "      <td>60 months</td>\n",
              "      <td>15.27</td>\n",
              "      <td>59.83</td>\n",
              "      <td>C</td>\n",
              "      <td>0.0</td>\n",
              "      <td>RENT</td>\n",
              "      <td>30000.0</td>\n",
              "      <td>Source Verified</td>\n",
              "      <td>Dec-11</td>\n",
              "      <td>Charged Off</td>\n",
              "      <td>n</td>\n",
              "      <td>car</td>\n",
              "      <td>GA</td>\n",
              "      <td>1.00</td>\n",
              "      <td>0.0</td>\n",
              "      <td>5.0</td>\n",
              "      <td>-1.0</td>\n",
              "      <td>3.0</td>\n",
              "      <td>0.0</td>\n",
              "      <td>1687</td>\n",
              "      <td>9.4</td>\n",
              "      <td>4.0</td>\n",
              "      <td>f</td>\n",
              "      <td>0.0</td>\n",
              "      <td>0.0</td>\n",
              "      <td>1008.710000</td>\n",
              "      <td>1008.71</td>\n",
              "      <td>456.46</td>\n",
              "      <td>435.17</td>\n",
              "      <td>0.00</td>\n",
              "      <td>117.08</td>\n",
              "      <td>1.11</td>\n",
              "      <td>119.66</td>\n",
              "      <td>0.0</td>\n",
              "      <td>1</td>\n",
              "      <td>INDIVIDUAL</td>\n",
              "      <td>0.0</td>\n",
              "      <td>0.0</td>\n",
              "      <td>0.0</td>\n",
              "      <td>0.0</td>\n",
              "      <td>207.0</td>\n",
              "      <td>44.0</td>\n",
              "      <td>0.0</td>\n",
              "      <td>39.0</td>\n",
              "    </tr>\n",
              "    <tr>\n",
              "      <th>2</th>\n",
              "      <td>2400</td>\n",
              "      <td>2400</td>\n",
              "      <td>2400.0</td>\n",
              "      <td>36 months</td>\n",
              "      <td>15.96</td>\n",
              "      <td>84.33</td>\n",
              "      <td>C</td>\n",
              "      <td>10.0</td>\n",
              "      <td>RENT</td>\n",
              "      <td>12252.0</td>\n",
              "      <td>Not Verified</td>\n",
              "      <td>Dec-11</td>\n",
              "      <td>Fully Paid</td>\n",
              "      <td>n</td>\n",
              "      <td>small_business</td>\n",
              "      <td>IL</td>\n",
              "      <td>8.72</td>\n",
              "      <td>0.0</td>\n",
              "      <td>2.0</td>\n",
              "      <td>-1.0</td>\n",
              "      <td>2.0</td>\n",
              "      <td>0.0</td>\n",
              "      <td>2956</td>\n",
              "      <td>98.5</td>\n",
              "      <td>10.0</td>\n",
              "      <td>f</td>\n",
              "      <td>0.0</td>\n",
              "      <td>0.0</td>\n",
              "      <td>3003.653644</td>\n",
              "      <td>3003.65</td>\n",
              "      <td>2400.00</td>\n",
              "      <td>603.65</td>\n",
              "      <td>0.00</td>\n",
              "      <td>0.00</td>\n",
              "      <td>0.00</td>\n",
              "      <td>649.91</td>\n",
              "      <td>0.0</td>\n",
              "      <td>1</td>\n",
              "      <td>INDIVIDUAL</td>\n",
              "      <td>0.0</td>\n",
              "      <td>0.0</td>\n",
              "      <td>0.0</td>\n",
              "      <td>0.0</td>\n",
              "      <td>176.0</td>\n",
              "      <td>30.0</td>\n",
              "      <td>0.0</td>\n",
              "      <td>11.0</td>\n",
              "    </tr>\n",
              "    <tr>\n",
              "      <th>3</th>\n",
              "      <td>10000</td>\n",
              "      <td>10000</td>\n",
              "      <td>10000.0</td>\n",
              "      <td>36 months</td>\n",
              "      <td>13.49</td>\n",
              "      <td>339.31</td>\n",
              "      <td>C</td>\n",
              "      <td>10.0</td>\n",
              "      <td>RENT</td>\n",
              "      <td>49200.0</td>\n",
              "      <td>Source Verified</td>\n",
              "      <td>Dec-11</td>\n",
              "      <td>Fully Paid</td>\n",
              "      <td>n</td>\n",
              "      <td>other</td>\n",
              "      <td>CA</td>\n",
              "      <td>20.00</td>\n",
              "      <td>0.0</td>\n",
              "      <td>1.0</td>\n",
              "      <td>35.0</td>\n",
              "      <td>10.0</td>\n",
              "      <td>0.0</td>\n",
              "      <td>5598</td>\n",
              "      <td>21.0</td>\n",
              "      <td>37.0</td>\n",
              "      <td>f</td>\n",
              "      <td>0.0</td>\n",
              "      <td>0.0</td>\n",
              "      <td>12226.302210</td>\n",
              "      <td>12226.30</td>\n",
              "      <td>10000.00</td>\n",
              "      <td>2209.33</td>\n",
              "      <td>16.97</td>\n",
              "      <td>0.00</td>\n",
              "      <td>0.00</td>\n",
              "      <td>357.48</td>\n",
              "      <td>0.0</td>\n",
              "      <td>1</td>\n",
              "      <td>INDIVIDUAL</td>\n",
              "      <td>0.0</td>\n",
              "      <td>0.0</td>\n",
              "      <td>0.0</td>\n",
              "      <td>0.0</td>\n",
              "      <td>245.0</td>\n",
              "      <td>23.0</td>\n",
              "      <td>0.0</td>\n",
              "      <td>23.0</td>\n",
              "    </tr>\n",
              "    <tr>\n",
              "      <th>4</th>\n",
              "      <td>3000</td>\n",
              "      <td>3000</td>\n",
              "      <td>3000.0</td>\n",
              "      <td>60 months</td>\n",
              "      <td>12.69</td>\n",
              "      <td>67.79</td>\n",
              "      <td>B</td>\n",
              "      <td>1.0</td>\n",
              "      <td>RENT</td>\n",
              "      <td>80000.0</td>\n",
              "      <td>Source Verified</td>\n",
              "      <td>Dec-11</td>\n",
              "      <td>Current</td>\n",
              "      <td>n</td>\n",
              "      <td>other</td>\n",
              "      <td>OR</td>\n",
              "      <td>17.94</td>\n",
              "      <td>0.0</td>\n",
              "      <td>0.0</td>\n",
              "      <td>38.0</td>\n",
              "      <td>15.0</td>\n",
              "      <td>0.0</td>\n",
              "      <td>27783</td>\n",
              "      <td>53.9</td>\n",
              "      <td>38.0</td>\n",
              "      <td>f</td>\n",
              "      <td>766.9</td>\n",
              "      <td>766.9</td>\n",
              "      <td>3242.170000</td>\n",
              "      <td>3242.17</td>\n",
              "      <td>2233.10</td>\n",
              "      <td>1009.07</td>\n",
              "      <td>0.00</td>\n",
              "      <td>0.00</td>\n",
              "      <td>0.00</td>\n",
              "      <td>67.79</td>\n",
              "      <td>0.0</td>\n",
              "      <td>1</td>\n",
              "      <td>INDIVIDUAL</td>\n",
              "      <td>0.0</td>\n",
              "      <td>0.0</td>\n",
              "      <td>0.0</td>\n",
              "      <td>0.0</td>\n",
              "      <td>246.0</td>\n",
              "      <td>11.0</td>\n",
              "      <td>10.0</td>\n",
              "      <td>11.0</td>\n",
              "    </tr>\n",
              "  </tbody>\n",
              "</table>\n",
              "</div>\n",
              "      <button class=\"colab-df-convert\" onclick=\"convertToInteractive('df-0b125d51-8c15-4711-adc0-eb7c636bcea0')\"\n",
              "              title=\"Convert this dataframe to an interactive table.\"\n",
              "              style=\"display:none;\">\n",
              "        \n",
              "  <svg xmlns=\"http://www.w3.org/2000/svg\" height=\"24px\"viewBox=\"0 0 24 24\"\n",
              "       width=\"24px\">\n",
              "    <path d=\"M0 0h24v24H0V0z\" fill=\"none\"/>\n",
              "    <path d=\"M18.56 5.44l.94 2.06.94-2.06 2.06-.94-2.06-.94-.94-2.06-.94 2.06-2.06.94zm-11 1L8.5 8.5l.94-2.06 2.06-.94-2.06-.94L8.5 2.5l-.94 2.06-2.06.94zm10 10l.94 2.06.94-2.06 2.06-.94-2.06-.94-.94-2.06-.94 2.06-2.06.94z\"/><path d=\"M17.41 7.96l-1.37-1.37c-.4-.4-.92-.59-1.43-.59-.52 0-1.04.2-1.43.59L10.3 9.45l-7.72 7.72c-.78.78-.78 2.05 0 2.83L4 21.41c.39.39.9.59 1.41.59.51 0 1.02-.2 1.41-.59l7.78-7.78 2.81-2.81c.8-.78.8-2.07 0-2.86zM5.41 20L4 18.59l7.72-7.72 1.47 1.35L5.41 20z\"/>\n",
              "  </svg>\n",
              "      </button>\n",
              "      \n",
              "  <style>\n",
              "    .colab-df-container {\n",
              "      display:flex;\n",
              "      flex-wrap:wrap;\n",
              "      gap: 12px;\n",
              "    }\n",
              "\n",
              "    .colab-df-convert {\n",
              "      background-color: #E8F0FE;\n",
              "      border: none;\n",
              "      border-radius: 50%;\n",
              "      cursor: pointer;\n",
              "      display: none;\n",
              "      fill: #1967D2;\n",
              "      height: 32px;\n",
              "      padding: 0 0 0 0;\n",
              "      width: 32px;\n",
              "    }\n",
              "\n",
              "    .colab-df-convert:hover {\n",
              "      background-color: #E2EBFA;\n",
              "      box-shadow: 0px 1px 2px rgba(60, 64, 67, 0.3), 0px 1px 3px 1px rgba(60, 64, 67, 0.15);\n",
              "      fill: #174EA6;\n",
              "    }\n",
              "\n",
              "    [theme=dark] .colab-df-convert {\n",
              "      background-color: #3B4455;\n",
              "      fill: #D2E3FC;\n",
              "    }\n",
              "\n",
              "    [theme=dark] .colab-df-convert:hover {\n",
              "      background-color: #434B5C;\n",
              "      box-shadow: 0px 1px 3px 1px rgba(0, 0, 0, 0.15);\n",
              "      filter: drop-shadow(0px 1px 2px rgba(0, 0, 0, 0.3));\n",
              "      fill: #FFFFFF;\n",
              "    }\n",
              "  </style>\n",
              "\n",
              "      <script>\n",
              "        const buttonEl =\n",
              "          document.querySelector('#df-0b125d51-8c15-4711-adc0-eb7c636bcea0 button.colab-df-convert');\n",
              "        buttonEl.style.display =\n",
              "          google.colab.kernel.accessAllowed ? 'block' : 'none';\n",
              "\n",
              "        async function convertToInteractive(key) {\n",
              "          const element = document.querySelector('#df-0b125d51-8c15-4711-adc0-eb7c636bcea0');\n",
              "          const dataTable =\n",
              "            await google.colab.kernel.invokeFunction('convertToInteractive',\n",
              "                                                     [key], {});\n",
              "          if (!dataTable) return;\n",
              "\n",
              "          const docLinkHtml = 'Like what you see? Visit the ' +\n",
              "            '<a target=\"_blank\" href=https://colab.research.google.com/notebooks/data_table.ipynb>data table notebook</a>'\n",
              "            + ' to learn more about interactive tables.';\n",
              "          element.innerHTML = '';\n",
              "          dataTable['output_type'] = 'display_data';\n",
              "          await google.colab.output.renderOutput(dataTable, element);\n",
              "          const docLink = document.createElement('div');\n",
              "          docLink.innerHTML = docLinkHtml;\n",
              "          element.appendChild(docLink);\n",
              "        }\n",
              "      </script>\n",
              "    </div>\n",
              "  </div>\n",
              "  "
            ]
          },
          "metadata": {},
          "execution_count": 67
        }
      ],
      "source": [
        "df.head()"
      ]
    },
    {
      "cell_type": "code",
      "execution_count": 68,
      "metadata": {
        "id": "HrFWBXD_Hr-e",
        "colab": {
          "base_uri": "https://localhost:8080/",
          "height": 1000
        },
        "outputId": "cc95c3aa-7ea2-463f-9f8f-cacb2572bd3d"
      },
      "outputs": [
        {
          "output_type": "execute_result",
          "data": {
            "text/plain": [
              "<matplotlib.axes._subplots.AxesSubplot at 0x7fe7f790c510>"
            ]
          },
          "metadata": {},
          "execution_count": 68
        },
        {
          "output_type": "display_data",
          "data": {
            "text/plain": [
              "<Figure size 1440x1440 with 2 Axes>"
            ],
            "image/png": "[encoded data removed]"
          },
          "metadata": {
            "needs_background": "light"
          }
        }
      ],
      "source": [
        "plt.figure(figsize=(20,20))\n",
        "sns.heatmap(df.corr())"
      ]
    },
    {
      "cell_type": "markdown",
      "source": [
        "### Check data Kategorikal"
      ],
      "metadata": {
        "id": "q1dlmahjw246"
      }
    },
    {
      "cell_type": "code",
      "source": [
        "df.select_dtypes(include='object').nunique()"
      ],
      "metadata": {
        "colab": {
          "base_uri": "https://localhost:8080/"
        },
        "id": "AVgEZGaxw4WS",
        "outputId": "28ca2b68-0b5b-44c5-db2b-8194f64380a6"
      },
      "execution_count": 69,
      "outputs": [
        {
          "output_type": "execute_result",
          "data": {
            "text/plain": [
              "term                    2\n",
              "grade                   7\n",
              "home_ownership          6\n",
              "verification_status     3\n",
              "issue_d                91\n",
              "loan_status             9\n",
              "pymnt_plan              2\n",
              "purpose                14\n",
              "addr_state             50\n",
              "initial_list_status     2\n",
              "application_type        1\n",
              "dtype: int64"
            ]
          },
          "metadata": {},
          "execution_count": 69
        }
      ]
    },
    {
      "cell_type": "code",
      "execution_count": 70,
      "metadata": {
        "id": "6XTxRuUGHr-e",
        "colab": {
          "base_uri": "https://localhost:8080/"
        },
        "outputId": "5007fc41-8002-4a7b-d189-35b4b9eb590a"
      },
      "outputs": [
        {
          "output_type": "execute_result",
          "data": {
            "text/plain": [
              "loan_amnt                          1352\n",
              "funded_amnt                        1353\n",
              "funded_amnt_inv                    9831\n",
              "int_rate                            506\n",
              "installment                       55565\n",
              "emp_length                           11\n",
              "annual_inc                        31787\n",
              "dti                                3997\n",
              "delinq_2yrs                          24\n",
              "inq_last_6mths                       28\n",
              "mths_since_last_delinq              146\n",
              "open_acc                             62\n",
              "pub_rec                              26\n",
              "revol_bal                         58050\n",
              "revol_util                         1268\n",
              "total_acc                           113\n",
              "out_prncp                        135366\n",
              "out_prncp_inv                    140864\n",
              "total_pymnt                      350888\n",
              "total_pymnt_inv                  346944\n",
              "total_rec_prncp                  172313\n",
              "total_rec_int                    269852\n",
              "total_rec_late_fee                 5793\n",
              "recoveries                        22725\n",
              "collection_recovery_fee           20230\n",
              "last_pymnt_amnt                  197887\n",
              "collections_12_mths_ex_med            9\n",
              "policy_code                           1\n",
              "acc_now_delinq                        6\n",
              "tot_coll_amt                       6303\n",
              "tot_cur_bal                      220334\n",
              "total_rev_hi_lim                  14568\n",
              "mths_since_earliest_cr_line         516\n",
              "mths_since_last_pymnt_d              99\n",
              "mths_since_next_pymnt_d             101\n",
              "mths_since_last_credit_pull_d       104\n",
              "dtype: int64"
            ]
          },
          "metadata": {},
          "execution_count": 70
        }
      ],
      "source": [
        "df.select_dtypes(exclude='object').nunique()"
      ]
    },
    {
      "cell_type": "markdown",
      "source": [
        "Pada tahap ini dilakukan pembuangan fitur yang memiliki nilai unik yang sangat tinggi (high cardinality) dan fitur yang hanya memiliki satu nilai unik saja."
      ],
      "metadata": {
        "id": "tklCltUGxVja"
      }
    },
    {
      "cell_type": "code",
      "execution_count": 71,
      "metadata": {
        "id": "7HFsP2Y_Hr-e"
      },
      "outputs": [],
      "source": [
        "df.drop(columns=['policy_code', 'application_type'], inplace=True)"
      ]
    },
    {
      "cell_type": "markdown",
      "source": [
        "### Memproses Kolom loan_status sebagai kolom target atau kolom label"
      ],
      "metadata": {
        "id": "shcFpDarxnEO"
      }
    },
    {
      "cell_type": "code",
      "execution_count": 72,
      "metadata": {
        "id": "WzNHQabAHr-e",
        "colab": {
          "base_uri": "https://localhost:8080/"
        },
        "outputId": "ebe41016-2d78-4119-ce97-402bb8e44a91"
      },
      "outputs": [
        {
          "output_type": "execute_result",
          "data": {
            "text/plain": [
              "Current                                                223577\n",
              "Fully Paid                                             184379\n",
              "Charged Off                                             42347\n",
              "Late (31-120 days)                                       6885\n",
              "In Grace Period                                          3144\n",
              "Does not meet the credit policy. Status:Fully Paid       1983\n",
              "Late (16-30 days)                                        1213\n",
              "Default                                                   828\n",
              "Does not meet the credit policy. Status:Charged Off       760\n",
              "Name: loan_status, dtype: int64"
            ]
          },
          "metadata": {},
          "execution_count": 72
        }
      ],
      "source": [
        "df['loan_status'].value_counts()"
      ]
    },
    {
      "cell_type": "markdown",
      "source": [
        "`Current` artinya pembayaran lancar; `Charged Off` artinya pembayaran macet sehingga dihapusbukukan; `Late` artinya pembayaran telat dilakukan; `In Grace Period` artinya dalam masa tenggang; `Fully Paid` artinya pembayaran lunas; `Default` artinya pembayaran macet"
      ],
      "metadata": {
        "id": "lLjG9bJAK-c9"
      }
    },
    {
      "cell_type": "markdown",
      "source": [
        "Dari definisi-definisi tersebut, masing-masing individu dapat ditandai apakah mereka merupakan `bad loan` (peminjam yang buruk) atau `good loan` (peminjam yang baik)"
      ],
      "metadata": {
        "id": "nJ30maB-K_qk"
      }
    },
    {
      "cell_type": "markdown",
      "source": [
        "Definisi bad dan good loan terkadang bisa berbeda tergantung dari kebutuhan bisnis. Pada contoh ini, saya menggunakan keterlambatan pembayaran di atas 30 hari dan yang lebih buruk dari itu sebagai penanda bad loan."
      ],
      "metadata": {
        "id": "cuPvI-UGLA0h"
      }
    },
    {
      "cell_type": "code",
      "execution_count": 73,
      "metadata": {
        "id": "Jc6CBwlBHr-e",
        "colab": {
          "base_uri": "https://localhost:8080/",
          "height": 357
        },
        "outputId": "7e8f0e01-f6ea-45ba-abc1-3baa116f6c42"
      },
      "outputs": [
        {
          "output_type": "execute_result",
          "data": {
            "text/plain": [
              "   loan_amnt  funded_amnt  funded_amnt_inv        term  int_rate  installment  \\\n",
              "0       5000         5000           4975.0   36 months     10.65       162.87   \n",
              "1       2500         2500           2500.0   60 months     15.27        59.83   \n",
              "2       2400         2400           2400.0   36 months     15.96        84.33   \n",
              "3      10000        10000          10000.0   36 months     13.49       339.31   \n",
              "4       3000         3000           3000.0   60 months     12.69        67.79   \n",
              "\n",
              "  grade  emp_length home_ownership  annual_inc verification_status issue_d  \\\n",
              "0     B        10.0           RENT     24000.0            Verified  Dec-11   \n",
              "1     C         0.0           RENT     30000.0     Source Verified  Dec-11   \n",
              "2     C        10.0           RENT     12252.0        Not Verified  Dec-11   \n",
              "3     C        10.0           RENT     49200.0     Source Verified  Dec-11   \n",
              "4     B         1.0           RENT     80000.0     Source Verified  Dec-11   \n",
              "\n",
              "   loan_status pymnt_plan         purpose addr_state    dti  delinq_2yrs  \\\n",
              "0   Fully Paid          n     credit_card         AZ  27.65          0.0   \n",
              "1  Charged Off          n             car         GA   1.00          0.0   \n",
              "2   Fully Paid          n  small_business         IL   8.72          0.0   \n",
              "3   Fully Paid          n           other         CA  20.00          0.0   \n",
              "4      Current          n           other         OR  17.94          0.0   \n",
              "\n",
              "   inq_last_6mths  mths_since_last_delinq  open_acc  pub_rec  revol_bal  \\\n",
              "0             1.0                    -1.0       3.0      0.0      13648   \n",
              "1             5.0                    -1.0       3.0      0.0       1687   \n",
              "2             2.0                    -1.0       2.0      0.0       2956   \n",
              "3             1.0                    35.0      10.0      0.0       5598   \n",
              "4             0.0                    38.0      15.0      0.0      27783   \n",
              "\n",
              "   revol_util  total_acc initial_list_status  out_prncp  out_prncp_inv  \\\n",
              "0        83.7        9.0                   f        0.0            0.0   \n",
              "1         9.4        4.0                   f        0.0            0.0   \n",
              "2        98.5       10.0                   f        0.0            0.0   \n",
              "3        21.0       37.0                   f        0.0            0.0   \n",
              "4        53.9       38.0                   f      766.9          766.9   \n",
              "\n",
              "    total_pymnt  total_pymnt_inv  total_rec_prncp  total_rec_int  \\\n",
              "0   5861.071414          5831.78          5000.00         861.07   \n",
              "1   1008.710000          1008.71           456.46         435.17   \n",
              "2   3003.653644          3003.65          2400.00         603.65   \n",
              "3  12226.302210         12226.30         10000.00        2209.33   \n",
              "4   3242.170000          3242.17          2233.10        1009.07   \n",
              "\n",
              "   total_rec_late_fee  recoveries  collection_recovery_fee  last_pymnt_amnt  \\\n",
              "0                0.00        0.00                     0.00           171.62   \n",
              "1                0.00      117.08                     1.11           119.66   \n",
              "2                0.00        0.00                     0.00           649.91   \n",
              "3               16.97        0.00                     0.00           357.48   \n",
              "4                0.00        0.00                     0.00            67.79   \n",
              "\n",
              "   collections_12_mths_ex_med  acc_now_delinq  tot_coll_amt  tot_cur_bal  \\\n",
              "0                         0.0             0.0           0.0          0.0   \n",
              "1                         0.0             0.0           0.0          0.0   \n",
              "2                         0.0             0.0           0.0          0.0   \n",
              "3                         0.0             0.0           0.0          0.0   \n",
              "4                         0.0             0.0           0.0          0.0   \n",
              "\n",
              "   total_rev_hi_lim  mths_since_earliest_cr_line  mths_since_last_pymnt_d  \\\n",
              "0               0.0                        378.0                     23.0   \n",
              "1               0.0                        207.0                     44.0   \n",
              "2               0.0                        176.0                     30.0   \n",
              "3               0.0                        245.0                     23.0   \n",
              "4               0.0                        246.0                     11.0   \n",
              "\n",
              "   mths_since_next_pymnt_d  mths_since_last_credit_pull_d  status_loan  \n",
              "0                      0.0                           11.0            0  \n",
              "1                      0.0                           39.0            1  \n",
              "2                      0.0                           11.0            0  \n",
              "3                      0.0                           23.0            0  \n",
              "4                     10.0                           11.0            0  "
            ],
            "text/html": [
              "\n",
              "  <div id=\"df-9022c591-b2f2-4ff9-89b9-082487ebf212\">\n",
              "    <div class=\"colab-df-container\">\n",
              "      <div>\n",
              "<style scoped>\n",
              "    .dataframe tbody tr th:only-of-type {\n",
              "        vertical-align: middle;\n",
              "    }\n",
              "\n",
              "    .dataframe tbody tr th {\n",
              "        vertical-align: top;\n",
              "    }\n",
              "\n",
              "    .dataframe thead th {\n",
              "        text-align: right;\n",
              "    }\n",
              "</style>\n",
              "<table border=\"1\" class=\"dataframe\">\n",
              "  <thead>\n",
              "    <tr style=\"text-align: right;\">\n",
              "      <th></th>\n",
              "      <th>loan_amnt</th>\n",
              "      <th>funded_amnt</th>\n",
              "      <th>funded_amnt_inv</th>\n",
              "      <th>term</th>\n",
              "      <th>int_rate</th>\n",
              "      <th>installment</th>\n",
              "      <th>grade</th>\n",
              "      <th>emp_length</th>\n",
              "      <th>home_ownership</th>\n",
              "      <th>annual_inc</th>\n",
              "      <th>verification_status</th>\n",
              "      <th>issue_d</th>\n",
              "      <th>loan_status</th>\n",
              "      <th>pymnt_plan</th>\n",
              "      <th>purpose</th>\n",
              "      <th>addr_state</th>\n",
              "      <th>dti</th>\n",
              "      <th>delinq_2yrs</th>\n",
              "      <th>inq_last_6mths</th>\n",
              "      <th>mths_since_last_delinq</th>\n",
              "      <th>open_acc</th>\n",
              "      <th>pub_rec</th>\n",
              "      <th>revol_bal</th>\n",
              "      <th>revol_util</th>\n",
              "      <th>total_acc</th>\n",
              "      <th>initial_list_status</th>\n",
              "      <th>out_prncp</th>\n",
              "      <th>out_prncp_inv</th>\n",
              "      <th>total_pymnt</th>\n",
              "      <th>total_pymnt_inv</th>\n",
              "      <th>total_rec_prncp</th>\n",
              "      <th>total_rec_int</th>\n",
              "      <th>total_rec_late_fee</th>\n",
              "      <th>recoveries</th>\n",
              "      <th>collection_recovery_fee</th>\n",
              "      <th>last_pymnt_amnt</th>\n",
              "      <th>collections_12_mths_ex_med</th>\n",
              "      <th>acc_now_delinq</th>\n",
              "      <th>tot_coll_amt</th>\n",
              "      <th>tot_cur_bal</th>\n",
              "      <th>total_rev_hi_lim</th>\n",
              "      <th>mths_since_earliest_cr_line</th>\n",
              "      <th>mths_since_last_pymnt_d</th>\n",
              "      <th>mths_since_next_pymnt_d</th>\n",
              "      <th>mths_since_last_credit_pull_d</th>\n",
              "      <th>status_loan</th>\n",
              "    </tr>\n",
              "  </thead>\n",
              "  <tbody>\n",
              "    <tr>\n",
              "      <th>0</th>\n",
              "      <td>5000</td>\n",
              "      <td>5000</td>\n",
              "      <td>4975.0</td>\n",
              "      <td>36 months</td>\n",
              "      <td>10.65</td>\n",
              "      <td>162.87</td>\n",
              "      <td>B</td>\n",
              "      <td>10.0</td>\n",
              "      <td>RENT</td>\n",
              "      <td>24000.0</td>\n",
              "      <td>Verified</td>\n",
              "      <td>Dec-11</td>\n",
              "      <td>Fully Paid</td>\n",
              "      <td>n</td>\n",
              "      <td>credit_card</td>\n",
              "      <td>AZ</td>\n",
              "      <td>27.65</td>\n",
              "      <td>0.0</td>\n",
              "      <td>1.0</td>\n",
              "      <td>-1.0</td>\n",
              "      <td>3.0</td>\n",
              "      <td>0.0</td>\n",
              "      <td>13648</td>\n",
              "      <td>83.7</td>\n",
              "      <td>9.0</td>\n",
              "      <td>f</td>\n",
              "      <td>0.0</td>\n",
              "      <td>0.0</td>\n",
              "      <td>5861.071414</td>\n",
              "      <td>5831.78</td>\n",
              "      <td>5000.00</td>\n",
              "      <td>861.07</td>\n",
              "      <td>0.00</td>\n",
              "      <td>0.00</td>\n",
              "      <td>0.00</td>\n",
              "      <td>171.62</td>\n",
              "      <td>0.0</td>\n",
              "      <td>0.0</td>\n",
              "      <td>0.0</td>\n",
              "      <td>0.0</td>\n",
              "      <td>0.0</td>\n",
              "      <td>378.0</td>\n",
              "      <td>23.0</td>\n",
              "      <td>0.0</td>\n",
              "      <td>11.0</td>\n",
              "      <td>0</td>\n",
              "    </tr>\n",
              "    <tr>\n",
              "      <th>1</th>\n",
              "      <td>2500</td>\n",
              "      <td>2500</td>\n",
              "      <td>2500.0</td>\n",
              "      <td>60 months</td>\n",
              "      <td>15.27</td>\n",
              "      <td>59.83</td>\n",
              "      <td>C</td>\n",
              "      <td>0.0</td>\n",
              "      <td>RENT</td>\n",
              "      <td>30000.0</td>\n",
              "      <td>Source Verified</td>\n",
              "      <td>Dec-11</td>\n",
              "      <td>Charged Off</td>\n",
              "      <td>n</td>\n",
              "      <td>car</td>\n",
              "      <td>GA</td>\n",
              "      <td>1.00</td>\n",
              "      <td>0.0</td>\n",
              "      <td>5.0</td>\n",
              "      <td>-1.0</td>\n",
              "      <td>3.0</td>\n",
              "      <td>0.0</td>\n",
              "      <td>1687</td>\n",
              "      <td>9.4</td>\n",
              "      <td>4.0</td>\n",
              "      <td>f</td>\n",
              "      <td>0.0</td>\n",
              "      <td>0.0</td>\n",
              "      <td>1008.710000</td>\n",
              "      <td>1008.71</td>\n",
              "      <td>456.46</td>\n",
              "      <td>435.17</td>\n",
              "      <td>0.00</td>\n",
              "      <td>117.08</td>\n",
              "      <td>1.11</td>\n",
              "      <td>119.66</td>\n",
              "      <td>0.0</td>\n",
              "      <td>0.0</td>\n",
              "      <td>0.0</td>\n",
              "      <td>0.0</td>\n",
              "      <td>0.0</td>\n",
              "      <td>207.0</td>\n",
              "      <td>44.0</td>\n",
              "      <td>0.0</td>\n",
              "      <td>39.0</td>\n",
              "      <td>1</td>\n",
              "    </tr>\n",
              "    <tr>\n",
              "      <th>2</th>\n",
              "      <td>2400</td>\n",
              "      <td>2400</td>\n",
              "      <td>2400.0</td>\n",
              "      <td>36 months</td>\n",
              "      <td>15.96</td>\n",
              "      <td>84.33</td>\n",
              "      <td>C</td>\n",
              "      <td>10.0</td>\n",
              "      <td>RENT</td>\n",
              "      <td>12252.0</td>\n",
              "      <td>Not Verified</td>\n",
              "      <td>Dec-11</td>\n",
              "      <td>Fully Paid</td>\n",
              "      <td>n</td>\n",
              "      <td>small_business</td>\n",
              "      <td>IL</td>\n",
              "      <td>8.72</td>\n",
              "      <td>0.0</td>\n",
              "      <td>2.0</td>\n",
              "      <td>-1.0</td>\n",
              "      <td>2.0</td>\n",
              "      <td>0.0</td>\n",
              "      <td>2956</td>\n",
              "      <td>98.5</td>\n",
              "      <td>10.0</td>\n",
              "      <td>f</td>\n",
              "      <td>0.0</td>\n",
              "      <td>0.0</td>\n",
              "      <td>3003.653644</td>\n",
              "      <td>3003.65</td>\n",
              "      <td>2400.00</td>\n",
              "      <td>603.65</td>\n",
              "      <td>0.00</td>\n",
              "      <td>0.00</td>\n",
              "      <td>0.00</td>\n",
              "      <td>649.91</td>\n",
              "      <td>0.0</td>\n",
              "      <td>0.0</td>\n",
              "      <td>0.0</td>\n",
              "      <td>0.0</td>\n",
              "      <td>0.0</td>\n",
              "      <td>176.0</td>\n",
              "      <td>30.0</td>\n",
              "      <td>0.0</td>\n",
              "      <td>11.0</td>\n",
              "      <td>0</td>\n",
              "    </tr>\n",
              "    <tr>\n",
              "      <th>3</th>\n",
              "      <td>10000</td>\n",
              "      <td>10000</td>\n",
              "      <td>10000.0</td>\n",
              "      <td>36 months</td>\n",
              "      <td>13.49</td>\n",
              "      <td>339.31</td>\n",
              "      <td>C</td>\n",
              "      <td>10.0</td>\n",
              "      <td>RENT</td>\n",
              "      <td>49200.0</td>\n",
              "      <td>Source Verified</td>\n",
              "      <td>Dec-11</td>\n",
              "      <td>Fully Paid</td>\n",
              "      <td>n</td>\n",
              "      <td>other</td>\n",
              "      <td>CA</td>\n",
              "      <td>20.00</td>\n",
              "      <td>0.0</td>\n",
              "      <td>1.0</td>\n",
              "      <td>35.0</td>\n",
              "      <td>10.0</td>\n",
              "      <td>0.0</td>\n",
              "      <td>5598</td>\n",
              "      <td>21.0</td>\n",
              "      <td>37.0</td>\n",
              "      <td>f</td>\n",
              "      <td>0.0</td>\n",
              "      <td>0.0</td>\n",
              "      <td>12226.302210</td>\n",
              "      <td>12226.30</td>\n",
              "      <td>10000.00</td>\n",
              "      <td>2209.33</td>\n",
              "      <td>16.97</td>\n",
              "      <td>0.00</td>\n",
              "      <td>0.00</td>\n",
              "      <td>357.48</td>\n",
              "      <td>0.0</td>\n",
              "      <td>0.0</td>\n",
              "      <td>0.0</td>\n",
              "      <td>0.0</td>\n",
              "      <td>0.0</td>\n",
              "      <td>245.0</td>\n",
              "      <td>23.0</td>\n",
              "      <td>0.0</td>\n",
              "      <td>23.0</td>\n",
              "      <td>0</td>\n",
              "    </tr>\n",
              "    <tr>\n",
              "      <th>4</th>\n",
              "      <td>3000</td>\n",
              "      <td>3000</td>\n",
              "      <td>3000.0</td>\n",
              "      <td>60 months</td>\n",
              "      <td>12.69</td>\n",
              "      <td>67.79</td>\n",
              "      <td>B</td>\n",
              "      <td>1.0</td>\n",
              "      <td>RENT</td>\n",
              "      <td>80000.0</td>\n",
              "      <td>Source Verified</td>\n",
              "      <td>Dec-11</td>\n",
              "      <td>Current</td>\n",
              "      <td>n</td>\n",
              "      <td>other</td>\n",
              "      <td>OR</td>\n",
              "      <td>17.94</td>\n",
              "      <td>0.0</td>\n",
              "      <td>0.0</td>\n",
              "      <td>38.0</td>\n",
              "      <td>15.0</td>\n",
              "      <td>0.0</td>\n",
              "      <td>27783</td>\n",
              "      <td>53.9</td>\n",
              "      <td>38.0</td>\n",
              "      <td>f</td>\n",
              "      <td>766.9</td>\n",
              "      <td>766.9</td>\n",
              "      <td>3242.170000</td>\n",
              "      <td>3242.17</td>\n",
              "      <td>2233.10</td>\n",
              "      <td>1009.07</td>\n",
              "      <td>0.00</td>\n",
              "      <td>0.00</td>\n",
              "      <td>0.00</td>\n",
              "      <td>67.79</td>\n",
              "      <td>0.0</td>\n",
              "      <td>0.0</td>\n",
              "      <td>0.0</td>\n",
              "      <td>0.0</td>\n",
              "      <td>0.0</td>\n",
              "      <td>246.0</td>\n",
              "      <td>11.0</td>\n",
              "      <td>10.0</td>\n",
              "      <td>11.0</td>\n",
              "      <td>0</td>\n",
              "    </tr>\n",
              "  </tbody>\n",
              "</table>\n",
              "</div>\n",
              "      <button class=\"colab-df-convert\" onclick=\"convertToInteractive('df-9022c591-b2f2-4ff9-89b9-082487ebf212')\"\n",
              "              title=\"Convert this dataframe to an interactive table.\"\n",
              "              style=\"display:none;\">\n",
              "        \n",
              "  <svg xmlns=\"http://www.w3.org/2000/svg\" height=\"24px\"viewBox=\"0 0 24 24\"\n",
              "       width=\"24px\">\n",
              "    <path d=\"M0 0h24v24H0V0z\" fill=\"none\"/>\n",
              "    <path d=\"M18.56 5.44l.94 2.06.94-2.06 2.06-.94-2.06-.94-.94-2.06-.94 2.06-2.06.94zm-11 1L8.5 8.5l.94-2.06 2.06-.94-2.06-.94L8.5 2.5l-.94 2.06-2.06.94zm10 10l.94 2.06.94-2.06 2.06-.94-2.06-.94-.94-2.06-.94 2.06-2.06.94z\"/><path d=\"M17.41 7.96l-1.37-1.37c-.4-.4-.92-.59-1.43-.59-.52 0-1.04.2-1.43.59L10.3 9.45l-7.72 7.72c-.78.78-.78 2.05 0 2.83L4 21.41c.39.39.9.59 1.41.59.51 0 1.02-.2 1.41-.59l7.78-7.78 2.81-2.81c.8-.78.8-2.07 0-2.86zM5.41 20L4 18.59l7.72-7.72 1.47 1.35L5.41 20z\"/>\n",
              "  </svg>\n",
              "      </button>\n",
              "      \n",
              "  <style>\n",
              "    .colab-df-container {\n",
              "      display:flex;\n",
              "      flex-wrap:wrap;\n",
              "      gap: 12px;\n",
              "    }\n",
              "\n",
              "    .colab-df-convert {\n",
              "      background-color: #E8F0FE;\n",
              "      border: none;\n",
              "      border-radius: 50%;\n",
              "      cursor: pointer;\n",
              "      display: none;\n",
              "      fill: #1967D2;\n",
              "      height: 32px;\n",
              "      padding: 0 0 0 0;\n",
              "      width: 32px;\n",
              "    }\n",
              "\n",
              "    .colab-df-convert:hover {\n",
              "      background-color: #E2EBFA;\n",
              "      box-shadow: 0px 1px 2px rgba(60, 64, 67, 0.3), 0px 1px 3px 1px rgba(60, 64, 67, 0.15);\n",
              "      fill: #174EA6;\n",
              "    }\n",
              "\n",
              "    [theme=dark] .colab-df-convert {\n",
              "      background-color: #3B4455;\n",
              "      fill: #D2E3FC;\n",
              "    }\n",
              "\n",
              "    [theme=dark] .colab-df-convert:hover {\n",
              "      background-color: #434B5C;\n",
              "      box-shadow: 0px 1px 3px 1px rgba(0, 0, 0, 0.15);\n",
              "      filter: drop-shadow(0px 1px 2px rgba(0, 0, 0, 0.3));\n",
              "      fill: #FFFFFF;\n",
              "    }\n",
              "  </style>\n",
              "\n",
              "      <script>\n",
              "        const buttonEl =\n",
              "          document.querySelector('#df-9022c591-b2f2-4ff9-89b9-082487ebf212 button.colab-df-convert');\n",
              "        buttonEl.style.display =\n",
              "          google.colab.kernel.accessAllowed ? 'block' : 'none';\n",
              "\n",
              "        async function convertToInteractive(key) {\n",
              "          const element = document.querySelector('#df-9022c591-b2f2-4ff9-89b9-082487ebf212');\n",
              "          const dataTable =\n",
              "            await google.colab.kernel.invokeFunction('convertToInteractive',\n",
              "                                                     [key], {});\n",
              "          if (!dataTable) return;\n",
              "\n",
              "          const docLinkHtml = 'Like what you see? Visit the ' +\n",
              "            '<a target=\"_blank\" href=https://colab.research.google.com/notebooks/data_table.ipynb>data table notebook</a>'\n",
              "            + ' to learn more about interactive tables.';\n",
              "          element.innerHTML = '';\n",
              "          dataTable['output_type'] = 'display_data';\n",
              "          await google.colab.output.renderOutput(dataTable, element);\n",
              "          const docLink = document.createElement('div');\n",
              "          docLink.innerHTML = docLinkHtml;\n",
              "          element.appendChild(docLink);\n",
              "        }\n",
              "      </script>\n",
              "    </div>\n",
              "  </div>\n",
              "  "
            ]
          },
          "metadata": {},
          "execution_count": 73
        }
      ],
      "source": [
        "bad_status = [\n",
        "    'Charged Off',\n",
        "    'Default',\n",
        "    'Does not meet the credit policy. Status:Charged Off',\n",
        "    'Late (31-120 days)'\n",
        "]\n",
        "\n",
        "df['status_loan'] = np.where(df['loan_status'].isin(bad_status), 1, 0)\n",
        "\n",
        "df.head()"
      ]
    },
    {
      "cell_type": "code",
      "execution_count": 74,
      "metadata": {
        "id": "c1qEag3oHr-f",
        "colab": {
          "base_uri": "https://localhost:8080/"
        },
        "outputId": "6ca53ff1-7ad3-4882-dabf-fd4bd2db8c3a"
      },
      "outputs": [
        {
          "output_type": "execute_result",
          "data": {
            "text/plain": [
              "0    414296\n",
              "1     50820\n",
              "Name: status_loan, dtype: int64"
            ]
          },
          "metadata": {},
          "execution_count": 74
        }
      ],
      "source": [
        "df['status_loan'].value_counts()"
      ]
    },
    {
      "cell_type": "code",
      "source": [
        "df['status_loan'].value_counts(normalize=True)*100"
      ],
      "metadata": {
        "colab": {
          "base_uri": "https://localhost:8080/"
        },
        "id": "ONQdad2hLxxK",
        "outputId": "7de19dc7-fddb-4025-c0f6-9b4182aeafbf"
      },
      "execution_count": 75,
      "outputs": [
        {
          "output_type": "execute_result",
          "data": {
            "text/plain": [
              "0    89.073693\n",
              "1    10.926307\n",
              "Name: status_loan, dtype: float64"
            ]
          },
          "metadata": {},
          "execution_count": 75
        }
      ]
    },
    {
      "cell_type": "code",
      "source": [
        "df.drop(columns=['loan_status'], inplace=True)"
      ],
      "metadata": {
        "id": "KidtHSWaL12o"
      },
      "execution_count": 76,
      "outputs": []
    },
    {
      "cell_type": "code",
      "execution_count": 77,
      "metadata": {
        "id": "f32DANmMHr-f",
        "colab": {
          "base_uri": "https://localhost:8080/",
          "height": 253
        },
        "outputId": "1d37c7d8-837a-4fd2-e361-5f8f29a4ba6b"
      },
      "outputs": [
        {
          "output_type": "display_data",
          "data": {
            "text/plain": [
              "<Figure size 432x288 with 1 Axes>"
            ],
            "image/png": "[encoded data removed]"
          },
          "metadata": {}
        }
      ],
      "source": [
        "labels = [ 'Good', 'Bad']\n",
        "explode = (0, 0.1)\n",
        "\n",
        "colors = sns.color_palette('bright')[0:6]\n",
        "\n",
        "fig1, ax1 = plt.subplots()\n",
        "ax1.pie(df['status_loan'].value_counts(), explode=explode, labels=labels, autopct='%1.1f%%',\n",
        "        shadow=True, startangle=100, colors=colors)\n",
        "\n",
        "ax1.axis('equal')\n",
        "fig1.patch.set_facecolor('xkcd:white')\n",
        "plt.show()"
      ]
    },
    {
      "cell_type": "code",
      "source": [
        "df.corr()['status_loan'].sort_values(ascending=False)\n",
        "korelasi = df.corr()['status_loan'].sort_values(ascending=False) > 0.09\n",
        "korelasi"
      ],
      "metadata": {
        "colab": {
          "base_uri": "https://localhost:8080/"
        },
        "id": "YwMVRd_nMCoq",
        "outputId": "d7c759b4-a4e8-4206-ba5d-3eba3fd0ae66"
      },
      "execution_count": 78,
      "outputs": [
        {
          "output_type": "execute_result",
          "data": {
            "text/plain": [
              "status_loan                       True\n",
              "recoveries                        True\n",
              "collection_recovery_fee           True\n",
              "mths_since_last_pymnt_d           True\n",
              "int_rate                          True\n",
              "total_rec_late_fee                True\n",
              "mths_since_last_credit_pull_d     True\n",
              "inq_last_6mths                   False\n",
              "revol_util                       False\n",
              "dti                              False\n",
              "installment                      False\n",
              "loan_amnt                        False\n",
              "funded_amnt                      False\n",
              "funded_amnt_inv                  False\n",
              "delinq_2yrs                      False\n",
              "acc_now_delinq                   False\n",
              "tot_coll_amt                     False\n",
              "mths_since_last_delinq           False\n",
              "collections_12_mths_ex_med       False\n",
              "open_acc                         False\n",
              "pub_rec                          False\n",
              "emp_length                       False\n",
              "revol_bal                        False\n",
              "total_acc                        False\n",
              "total_rec_int                    False\n",
              "mths_since_earliest_cr_line      False\n",
              "annual_inc                       False\n",
              "total_rev_hi_lim                 False\n",
              "tot_cur_bal                      False\n",
              "mths_since_next_pymnt_d          False\n",
              "out_prncp_inv                    False\n",
              "out_prncp                        False\n",
              "last_pymnt_amnt                  False\n",
              "total_pymnt                      False\n",
              "total_pymnt_inv                  False\n",
              "total_rec_prncp                  False\n",
              "Name: status_loan, dtype: bool"
            ]
          },
          "metadata": {},
          "execution_count": 78
        }
      ]
    },
    {
      "cell_type": "markdown",
      "source": [
        "# Prepocessing"
      ],
      "metadata": {
        "id": "N0d22oo1SugY"
      }
    },
    {
      "cell_type": "markdown",
      "metadata": {
        "id": "ZU2yf6U9Hr-f"
      },
      "source": [
        "### Membagi Kolom Numerik dan Kategorik"
      ]
    },
    {
      "cell_type": "code",
      "execution_count": 79,
      "metadata": {
        "id": "SdOr7QgWHr-f"
      },
      "outputs": [],
      "source": [
        "cat = df[df.dtypes[df.dtypes == 'object'].index]\n",
        "num = df[df.dtypes[df.dtypes != 'object'].index]"
      ]
    },
    {
      "cell_type": "code",
      "execution_count": 80,
      "metadata": {
        "id": "HX-Hy2kPHr-f",
        "colab": {
          "base_uri": "https://localhost:8080/"
        },
        "outputId": "57a72376-a0ed-45be-e35a-ffc3bc10dd31"
      },
      "outputs": [
        {
          "output_type": "execute_result",
          "data": {
            "text/plain": [
              "Index(['term', 'grade', 'home_ownership', 'verification_status', 'issue_d',\n",
              "       'pymnt_plan', 'purpose', 'addr_state', 'initial_list_status'],\n",
              "      dtype='object')"
            ]
          },
          "metadata": {},
          "execution_count": 80
        }
      ],
      "source": [
        "cat.columns"
      ]
    },
    {
      "cell_type": "code",
      "execution_count": 81,
      "metadata": {
        "id": "SzEKBZ-EHr-g",
        "colab": {
          "base_uri": "https://localhost:8080/"
        },
        "outputId": "d9bc2b55-5447-4190-dce4-cd40bac7d455"
      },
      "outputs": [
        {
          "output_type": "execute_result",
          "data": {
            "text/plain": [
              "Index(['loan_amnt', 'funded_amnt', 'funded_amnt_inv', 'int_rate',\n",
              "       'installment', 'emp_length', 'annual_inc', 'dti', 'delinq_2yrs',\n",
              "       'inq_last_6mths', 'mths_since_last_delinq', 'open_acc', 'pub_rec',\n",
              "       'revol_bal', 'revol_util', 'total_acc', 'out_prncp', 'out_prncp_inv',\n",
              "       'total_pymnt', 'total_pymnt_inv', 'total_rec_prncp', 'total_rec_int',\n",
              "       'total_rec_late_fee', 'recoveries', 'collection_recovery_fee',\n",
              "       'last_pymnt_amnt', 'collections_12_mths_ex_med', 'acc_now_delinq',\n",
              "       'tot_coll_amt', 'tot_cur_bal', 'total_rev_hi_lim',\n",
              "       'mths_since_earliest_cr_line', 'mths_since_last_pymnt_d',\n",
              "       'mths_since_next_pymnt_d', 'mths_since_last_credit_pull_d',\n",
              "       'status_loan'],\n",
              "      dtype='object')"
            ]
          },
          "metadata": {},
          "execution_count": 81
        }
      ],
      "source": [
        "num.columns"
      ]
    },
    {
      "cell_type": "markdown",
      "metadata": {
        "id": "k1R8CEifHr-g"
      },
      "source": [
        "### Memproses Kolom Kategorikal"
      ]
    },
    {
      "cell_type": "code",
      "execution_count": 82,
      "metadata": {
        "id": "0cKM8eEoHr-g",
        "colab": {
          "base_uri": "https://localhost:8080/",
          "height": 206
        },
        "outputId": "00e5d3b3-531e-4c3e-f5dd-1ebae3d6fc0f"
      },
      "outputs": [
        {
          "output_type": "execute_result",
          "data": {
            "text/plain": [
              "         term grade home_ownership verification_status issue_d pymnt_plan  \\\n",
              "0   36 months     B           RENT            Verified  Dec-11          n   \n",
              "1   60 months     C           RENT     Source Verified  Dec-11          n   \n",
              "2   36 months     C           RENT        Not Verified  Dec-11          n   \n",
              "3   36 months     C           RENT     Source Verified  Dec-11          n   \n",
              "4   60 months     B           RENT     Source Verified  Dec-11          n   \n",
              "\n",
              "          purpose addr_state initial_list_status  \n",
              "0     credit_card         AZ                   f  \n",
              "1             car         GA                   f  \n",
              "2  small_business         IL                   f  \n",
              "3           other         CA                   f  \n",
              "4           other         OR                   f  "
            ],
            "text/html": [
              "\n",
              "  <div id=\"df-eb13b307-fcc1-4148-93be-298c51083e4c\">\n",
              "    <div class=\"colab-df-container\">\n",
              "      <div>\n",
              "<style scoped>\n",
              "    .dataframe tbody tr th:only-of-type {\n",
              "        vertical-align: middle;\n",
              "    }\n",
              "\n",
              "    .dataframe tbody tr th {\n",
              "        vertical-align: top;\n",
              "    }\n",
              "\n",
              "    .dataframe thead th {\n",
              "        text-align: right;\n",
              "    }\n",
              "</style>\n",
              "<table border=\"1\" class=\"dataframe\">\n",
              "  <thead>\n",
              "    <tr style=\"text-align: right;\">\n",
              "      <th></th>\n",
              "      <th>term</th>\n",
              "      <th>grade</th>\n",
              "      <th>home_ownership</th>\n",
              "      <th>verification_status</th>\n",
              "      <th>issue_d</th>\n",
              "      <th>pymnt_plan</th>\n",
              "      <th>purpose</th>\n",
              "      <th>addr_state</th>\n",
              "      <th>initial_list_status</th>\n",
              "    </tr>\n",
              "  </thead>\n",
              "  <tbody>\n",
              "    <tr>\n",
              "      <th>0</th>\n",
              "      <td>36 months</td>\n",
              "      <td>B</td>\n",
              "      <td>RENT</td>\n",
              "      <td>Verified</td>\n",
              "      <td>Dec-11</td>\n",
              "      <td>n</td>\n",
              "      <td>credit_card</td>\n",
              "      <td>AZ</td>\n",
              "      <td>f</td>\n",
              "    </tr>\n",
              "    <tr>\n",
              "      <th>1</th>\n",
              "      <td>60 months</td>\n",
              "      <td>C</td>\n",
              "      <td>RENT</td>\n",
              "      <td>Source Verified</td>\n",
              "      <td>Dec-11</td>\n",
              "      <td>n</td>\n",
              "      <td>car</td>\n",
              "      <td>GA</td>\n",
              "      <td>f</td>\n",
              "    </tr>\n",
              "    <tr>\n",
              "      <th>2</th>\n",
              "      <td>36 months</td>\n",
              "      <td>C</td>\n",
              "      <td>RENT</td>\n",
              "      <td>Not Verified</td>\n",
              "      <td>Dec-11</td>\n",
              "      <td>n</td>\n",
              "      <td>small_business</td>\n",
              "      <td>IL</td>\n",
              "      <td>f</td>\n",
              "    </tr>\n",
              "    <tr>\n",
              "      <th>3</th>\n",
              "      <td>36 months</td>\n",
              "      <td>C</td>\n",
              "      <td>RENT</td>\n",
              "      <td>Source Verified</td>\n",
              "      <td>Dec-11</td>\n",
              "      <td>n</td>\n",
              "      <td>other</td>\n",
              "      <td>CA</td>\n",
              "      <td>f</td>\n",
              "    </tr>\n",
              "    <tr>\n",
              "      <th>4</th>\n",
              "      <td>60 months</td>\n",
              "      <td>B</td>\n",
              "      <td>RENT</td>\n",
              "      <td>Source Verified</td>\n",
              "      <td>Dec-11</td>\n",
              "      <td>n</td>\n",
              "      <td>other</td>\n",
              "      <td>OR</td>\n",
              "      <td>f</td>\n",
              "    </tr>\n",
              "  </tbody>\n",
              "</table>\n",
              "</div>\n",
              "      <button class=\"colab-df-convert\" onclick=\"convertToInteractive('df-eb13b307-fcc1-4148-93be-298c51083e4c')\"\n",
              "              title=\"Convert this dataframe to an interactive table.\"\n",
              "              style=\"display:none;\">\n",
              "        \n",
              "  <svg xmlns=\"http://www.w3.org/2000/svg\" height=\"24px\"viewBox=\"0 0 24 24\"\n",
              "       width=\"24px\">\n",
              "    <path d=\"M0 0h24v24H0V0z\" fill=\"none\"/>\n",
              "    <path d=\"M18.56 5.44l.94 2.06.94-2.06 2.06-.94-2.06-.94-.94-2.06-.94 2.06-2.06.94zm-11 1L8.5 8.5l.94-2.06 2.06-.94-2.06-.94L8.5 2.5l-.94 2.06-2.06.94zm10 10l.94 2.06.94-2.06 2.06-.94-2.06-.94-.94-2.06-.94 2.06-2.06.94z\"/><path d=\"M17.41 7.96l-1.37-1.37c-.4-.4-.92-.59-1.43-.59-.52 0-1.04.2-1.43.59L10.3 9.45l-7.72 7.72c-.78.78-.78 2.05 0 2.83L4 21.41c.39.39.9.59 1.41.59.51 0 1.02-.2 1.41-.59l7.78-7.78 2.81-2.81c.8-.78.8-2.07 0-2.86zM5.41 20L4 18.59l7.72-7.72 1.47 1.35L5.41 20z\"/>\n",
              "  </svg>\n",
              "      </button>\n",
              "      \n",
              "  <style>\n",
              "    .colab-df-container {\n",
              "      display:flex;\n",
              "      flex-wrap:wrap;\n",
              "      gap: 12px;\n",
              "    }\n",
              "\n",
              "    .colab-df-convert {\n",
              "      background-color: #E8F0FE;\n",
              "      border: none;\n",
              "      border-radius: 50%;\n",
              "      cursor: pointer;\n",
              "      display: none;\n",
              "      fill: #1967D2;\n",
              "      height: 32px;\n",
              "      padding: 0 0 0 0;\n",
              "      width: 32px;\n",
              "    }\n",
              "\n",
              "    .colab-df-convert:hover {\n",
              "      background-color: #E2EBFA;\n",
              "      box-shadow: 0px 1px 2px rgba(60, 64, 67, 0.3), 0px 1px 3px 1px rgba(60, 64, 67, 0.15);\n",
              "      fill: #174EA6;\n",
              "    }\n",
              "\n",
              "    [theme=dark] .colab-df-convert {\n",
              "      background-color: #3B4455;\n",
              "      fill: #D2E3FC;\n",
              "    }\n",
              "\n",
              "    [theme=dark] .colab-df-convert:hover {\n",
              "      background-color: #434B5C;\n",
              "      box-shadow: 0px 1px 3px 1px rgba(0, 0, 0, 0.15);\n",
              "      filter: drop-shadow(0px 1px 2px rgba(0, 0, 0, 0.3));\n",
              "      fill: #FFFFFF;\n",
              "    }\n",
              "  </style>\n",
              "\n",
              "      <script>\n",
              "        const buttonEl =\n",
              "          document.querySelector('#df-eb13b307-fcc1-4148-93be-298c51083e4c button.colab-df-convert');\n",
              "        buttonEl.style.display =\n",
              "          google.colab.kernel.accessAllowed ? 'block' : 'none';\n",
              "\n",
              "        async function convertToInteractive(key) {\n",
              "          const element = document.querySelector('#df-eb13b307-fcc1-4148-93be-298c51083e4c');\n",
              "          const dataTable =\n",
              "            await google.colab.kernel.invokeFunction('convertToInteractive',\n",
              "                                                     [key], {});\n",
              "          if (!dataTable) return;\n",
              "\n",
              "          const docLinkHtml = 'Like what you see? Visit the ' +\n",
              "            '<a target=\"_blank\" href=https://colab.research.google.com/notebooks/data_table.ipynb>data table notebook</a>'\n",
              "            + ' to learn more about interactive tables.';\n",
              "          element.innerHTML = '';\n",
              "          dataTable['output_type'] = 'display_data';\n",
              "          await google.colab.output.renderOutput(dataTable, element);\n",
              "          const docLink = document.createElement('div');\n",
              "          docLink.innerHTML = docLinkHtml;\n",
              "          element.appendChild(docLink);\n",
              "        }\n",
              "      </script>\n",
              "    </div>\n",
              "  </div>\n",
              "  "
            ]
          },
          "metadata": {},
          "execution_count": 82
        }
      ],
      "source": [
        "cat.head()"
      ]
    },
    {
      "cell_type": "code",
      "execution_count": 83,
      "metadata": {
        "id": "tNjpaNb-Hr-h",
        "colab": {
          "base_uri": "https://localhost:8080/",
          "height": 175
        },
        "outputId": "eccc6f6f-7dcf-438d-d47a-69e112b32dd6"
      },
      "outputs": [
        {
          "output_type": "execute_result",
          "data": {
            "text/plain": [
              "              term   grade home_ownership verification_status issue_d  \\\n",
              "count       465116  465116         465116              465116  465116   \n",
              "unique           2       7              6                   3      91   \n",
              "top      36 months       B       MORTGAGE            Verified  Oct-14   \n",
              "freq        337087  136550         235211              167439   38678   \n",
              "\n",
              "       pymnt_plan             purpose addr_state initial_list_status  \n",
              "count      465116              465116     465116              465116  \n",
              "unique          2                  14         50                   2  \n",
              "top             n  debt_consolidation         CA                   f  \n",
              "freq       465107              273588      71240              302270  "
            ],
            "text/html": [
              "\n",
              "  <div id=\"df-9c6d07ae-e31a-430e-82e8-480d82589f32\">\n",
              "    <div class=\"colab-df-container\">\n",
              "      <div>\n",
              "<style scoped>\n",
              "    .dataframe tbody tr th:only-of-type {\n",
              "        vertical-align: middle;\n",
              "    }\n",
              "\n",
              "    .dataframe tbody tr th {\n",
              "        vertical-align: top;\n",
              "    }\n",
              "\n",
              "    .dataframe thead th {\n",
              "        text-align: right;\n",
              "    }\n",
              "</style>\n",
              "<table border=\"1\" class=\"dataframe\">\n",
              "  <thead>\n",
              "    <tr style=\"text-align: right;\">\n",
              "      <th></th>\n",
              "      <th>term</th>\n",
              "      <th>grade</th>\n",
              "      <th>home_ownership</th>\n",
              "      <th>verification_status</th>\n",
              "      <th>issue_d</th>\n",
              "      <th>pymnt_plan</th>\n",
              "      <th>purpose</th>\n",
              "      <th>addr_state</th>\n",
              "      <th>initial_list_status</th>\n",
              "    </tr>\n",
              "  </thead>\n",
              "  <tbody>\n",
              "    <tr>\n",
              "      <th>count</th>\n",
              "      <td>465116</td>\n",
              "      <td>465116</td>\n",
              "      <td>465116</td>\n",
              "      <td>465116</td>\n",
              "      <td>465116</td>\n",
              "      <td>465116</td>\n",
              "      <td>465116</td>\n",
              "      <td>465116</td>\n",
              "      <td>465116</td>\n",
              "    </tr>\n",
              "    <tr>\n",
              "      <th>unique</th>\n",
              "      <td>2</td>\n",
              "      <td>7</td>\n",
              "      <td>6</td>\n",
              "      <td>3</td>\n",
              "      <td>91</td>\n",
              "      <td>2</td>\n",
              "      <td>14</td>\n",
              "      <td>50</td>\n",
              "      <td>2</td>\n",
              "    </tr>\n",
              "    <tr>\n",
              "      <th>top</th>\n",
              "      <td>36 months</td>\n",
              "      <td>B</td>\n",
              "      <td>MORTGAGE</td>\n",
              "      <td>Verified</td>\n",
              "      <td>Oct-14</td>\n",
              "      <td>n</td>\n",
              "      <td>debt_consolidation</td>\n",
              "      <td>CA</td>\n",
              "      <td>f</td>\n",
              "    </tr>\n",
              "    <tr>\n",
              "      <th>freq</th>\n",
              "      <td>337087</td>\n",
              "      <td>136550</td>\n",
              "      <td>235211</td>\n",
              "      <td>167439</td>\n",
              "      <td>38678</td>\n",
              "      <td>465107</td>\n",
              "      <td>273588</td>\n",
              "      <td>71240</td>\n",
              "      <td>302270</td>\n",
              "    </tr>\n",
              "  </tbody>\n",
              "</table>\n",
              "</div>\n",
              "      <button class=\"colab-df-convert\" onclick=\"convertToInteractive('df-9c6d07ae-e31a-430e-82e8-480d82589f32')\"\n",
              "              title=\"Convert this dataframe to an interactive table.\"\n",
              "              style=\"display:none;\">\n",
              "        \n",
              "  <svg xmlns=\"http://www.w3.org/2000/svg\" height=\"24px\"viewBox=\"0 0 24 24\"\n",
              "       width=\"24px\">\n",
              "    <path d=\"M0 0h24v24H0V0z\" fill=\"none\"/>\n",
              "    <path d=\"M18.56 5.44l.94 2.06.94-2.06 2.06-.94-2.06-.94-.94-2.06-.94 2.06-2.06.94zm-11 1L8.5 8.5l.94-2.06 2.06-.94-2.06-.94L8.5 2.5l-.94 2.06-2.06.94zm10 10l.94 2.06.94-2.06 2.06-.94-2.06-.94-.94-2.06-.94 2.06-2.06.94z\"/><path d=\"M17.41 7.96l-1.37-1.37c-.4-.4-.92-.59-1.43-.59-.52 0-1.04.2-1.43.59L10.3 9.45l-7.72 7.72c-.78.78-.78 2.05 0 2.83L4 21.41c.39.39.9.59 1.41.59.51 0 1.02-.2 1.41-.59l7.78-7.78 2.81-2.81c.8-.78.8-2.07 0-2.86zM5.41 20L4 18.59l7.72-7.72 1.47 1.35L5.41 20z\"/>\n",
              "  </svg>\n",
              "      </button>\n",
              "      \n",
              "  <style>\n",
              "    .colab-df-container {\n",
              "      display:flex;\n",
              "      flex-wrap:wrap;\n",
              "      gap: 12px;\n",
              "    }\n",
              "\n",
              "    .colab-df-convert {\n",
              "      background-color: #E8F0FE;\n",
              "      border: none;\n",
              "      border-radius: 50%;\n",
              "      cursor: pointer;\n",
              "      display: none;\n",
              "      fill: #1967D2;\n",
              "      height: 32px;\n",
              "      padding: 0 0 0 0;\n",
              "      width: 32px;\n",
              "    }\n",
              "\n",
              "    .colab-df-convert:hover {\n",
              "      background-color: #E2EBFA;\n",
              "      box-shadow: 0px 1px 2px rgba(60, 64, 67, 0.3), 0px 1px 3px 1px rgba(60, 64, 67, 0.15);\n",
              "      fill: #174EA6;\n",
              "    }\n",
              "\n",
              "    [theme=dark] .colab-df-convert {\n",
              "      background-color: #3B4455;\n",
              "      fill: #D2E3FC;\n",
              "    }\n",
              "\n",
              "    [theme=dark] .colab-df-convert:hover {\n",
              "      background-color: #434B5C;\n",
              "      box-shadow: 0px 1px 3px 1px rgba(0, 0, 0, 0.15);\n",
              "      filter: drop-shadow(0px 1px 2px rgba(0, 0, 0, 0.3));\n",
              "      fill: #FFFFFF;\n",
              "    }\n",
              "  </style>\n",
              "\n",
              "      <script>\n",
              "        const buttonEl =\n",
              "          document.querySelector('#df-9c6d07ae-e31a-430e-82e8-480d82589f32 button.colab-df-convert');\n",
              "        buttonEl.style.display =\n",
              "          google.colab.kernel.accessAllowed ? 'block' : 'none';\n",
              "\n",
              "        async function convertToInteractive(key) {\n",
              "          const element = document.querySelector('#df-9c6d07ae-e31a-430e-82e8-480d82589f32');\n",
              "          const dataTable =\n",
              "            await google.colab.kernel.invokeFunction('convertToInteractive',\n",
              "                                                     [key], {});\n",
              "          if (!dataTable) return;\n",
              "\n",
              "          const docLinkHtml = 'Like what you see? Visit the ' +\n",
              "            '<a target=\"_blank\" href=https://colab.research.google.com/notebooks/data_table.ipynb>data table notebook</a>'\n",
              "            + ' to learn more about interactive tables.';\n",
              "          element.innerHTML = '';\n",
              "          dataTable['output_type'] = 'display_data';\n",
              "          await google.colab.output.renderOutput(dataTable, element);\n",
              "          const docLink = document.createElement('div');\n",
              "          docLink.innerHTML = docLinkHtml;\n",
              "          element.appendChild(docLink);\n",
              "        }\n",
              "      </script>\n",
              "    </div>\n",
              "  </div>\n",
              "  "
            ]
          },
          "metadata": {},
          "execution_count": 83
        }
      ],
      "source": [
        "cat.describe()"
      ]
    },
    {
      "cell_type": "markdown",
      "source": [
        "#### Memproses Kolom issue_d"
      ],
      "metadata": {
        "id": "Z5bHFFkCTz9h"
      }
    },
    {
      "cell_type": "code",
      "source": [
        "df['issue_d_date'] = pd.to_datetime(df['issue_d'], format='%b-%y')\n",
        "df['mths_since_issue_d'] = round(pd.to_numeric((pd.to_datetime('2016-12-01') - df['issue_d_date']) / np.timedelta64(1, 'M')))"
      ],
      "metadata": {
        "id": "HjFxDtt5Tfz4"
      },
      "execution_count": 84,
      "outputs": []
    },
    {
      "cell_type": "code",
      "source": [
        "df['mths_since_issue_d'].describe()"
      ],
      "metadata": {
        "colab": {
          "base_uri": "https://localhost:8080/"
        },
        "id": "RAHgjYvkTzHW",
        "outputId": "c69367fa-d891-4a6e-9403-0d218f9a2e75"
      },
      "execution_count": 85,
      "outputs": [
        {
          "output_type": "execute_result",
          "data": {
            "text/plain": [
              "count    465116.000000\n",
              "mean         39.259073\n",
              "std          14.342403\n",
              "min          24.000000\n",
              "25%          29.000000\n",
              "50%          35.000000\n",
              "75%          45.000000\n",
              "max         114.000000\n",
              "Name: mths_since_issue_d, dtype: float64"
            ]
          },
          "metadata": {},
          "execution_count": 85
        }
      ]
    },
    {
      "cell_type": "code",
      "source": [
        "df['issue_d_date'].describe()"
      ],
      "metadata": {
        "colab": {
          "base_uri": "https://localhost:8080/"
        },
        "id": "pGnweWeCT4i2",
        "outputId": "05f99cc5-ded6-4afa-dab9-3eb270d281c2"
      },
      "execution_count": 86,
      "outputs": [
        {
          "output_type": "stream",
          "name": "stderr",
          "text": [
            "/usr/local/lib/python3.7/dist-packages/ipykernel_launcher.py:1: FutureWarning: Treating datetime data as categorical rather than numeric in `.describe` is deprecated and will be removed in a future version of pandas. Specify `datetime_is_numeric=True` to silence this warning and adopt the future behavior now.\n",
            "  \"\"\"Entry point for launching an IPython kernel.\n"
          ]
        },
        {
          "output_type": "execute_result",
          "data": {
            "text/plain": [
              "count                  465116\n",
              "unique                     91\n",
              "top       2014-10-01 00:00:00\n",
              "freq                    38678\n",
              "first     2007-06-01 00:00:00\n",
              "last      2014-12-01 00:00:00\n",
              "Name: issue_d_date, dtype: object"
            ]
          },
          "metadata": {},
          "execution_count": 86
        }
      ]
    },
    {
      "cell_type": "code",
      "source": [
        "df.drop(columns=['issue_d', 'issue_d_date'], inplace=True)"
      ],
      "metadata": {
        "id": "ntUfC1pxUACG"
      },
      "execution_count": 87,
      "outputs": []
    },
    {
      "cell_type": "markdown",
      "source": [
        "#### Memproses Kolom term"
      ],
      "metadata": {
        "id": "KGkS5WbvVGeP"
      }
    },
    {
      "cell_type": "markdown",
      "source": [
        "Memodifikasi `term`. Contoh: 36 months -> 36"
      ],
      "metadata": {
        "id": "Q5ZeyWtXVSWn"
      }
    },
    {
      "cell_type": "code",
      "source": [
        "df['term'].unique()"
      ],
      "metadata": {
        "colab": {
          "base_uri": "https://localhost:8080/"
        },
        "id": "mfEP_uoDVPKG",
        "outputId": "a26a1fb1-3680-46b7-f7e4-e7ef68dc67d1"
      },
      "execution_count": 88,
      "outputs": [
        {
          "output_type": "execute_result",
          "data": {
            "text/plain": [
              "array([' 36 months', ' 60 months'], dtype=object)"
            ]
          },
          "metadata": {},
          "execution_count": 88
        }
      ]
    },
    {
      "cell_type": "code",
      "source": [
        "df['term'] = df['term'].str.replace(' months', '')\n",
        "df['term'] = df['term'].astype(int)"
      ],
      "metadata": {
        "id": "eejAsxJmVTIW"
      },
      "execution_count": 89,
      "outputs": []
    },
    {
      "cell_type": "code",
      "source": [
        "df['term'].unique()"
      ],
      "metadata": {
        "colab": {
          "base_uri": "https://localhost:8080/"
        },
        "id": "r0fHP0lrVfVQ",
        "outputId": "83cb056e-3e01-4dec-86dc-a66a133e89ff"
      },
      "execution_count": 90,
      "outputs": [
        {
          "output_type": "execute_result",
          "data": {
            "text/plain": [
              "array([36, 60])"
            ]
          },
          "metadata": {},
          "execution_count": 90
        }
      ]
    },
    {
      "cell_type": "markdown",
      "source": [
        "#### Mengatasi Kolom bertipe kategorikal"
      ],
      "metadata": {
        "id": "0CBiR06uUdff"
      }
    },
    {
      "cell_type": "code",
      "source": [
        "for col in df.select_dtypes(include='object').columns.tolist():\n",
        "    print(df[col].value_counts(normalize=True)*100)\n",
        "    print('\\n')"
      ],
      "metadata": {
        "colab": {
          "base_uri": "https://localhost:8080/"
        },
        "id": "azUeYgNKUguO",
        "outputId": "102bc9e4-fe22-4c1a-ae9d-92b28213b3e0"
      },
      "execution_count": 91,
      "outputs": [
        {
          "output_type": "stream",
          "name": "stdout",
          "text": [
            "B    29.358268\n",
            "C    26.872221\n",
            "D    16.496960\n",
            "A    16.045675\n",
            "E     7.672710\n",
            "F     2.840797\n",
            "G     0.713370\n",
            "Name: grade, dtype: float64\n",
            "\n",
            "\n",
            "MORTGAGE    50.570395\n",
            "RENT        40.453349\n",
            "OWN          8.926375\n",
            "OTHER        0.038915\n",
            "NONE         0.010750\n",
            "ANY          0.000215\n",
            "Name: home_ownership, dtype: float64\n",
            "\n",
            "\n",
            "Verified           35.999407\n",
            "Source Verified    32.174339\n",
            "Not Verified       31.826254\n",
            "Name: verification_status, dtype: float64\n",
            "\n",
            "\n",
            "n    99.998065\n",
            "y     0.001935\n",
            "Name: pymnt_plan, dtype: float64\n",
            "\n",
            "\n",
            "debt_consolidation    58.821455\n",
            "credit_card           22.322603\n",
            "home_improvement       5.688903\n",
            "other                  5.079593\n",
            "major_purchase         2.108506\n",
            "small_business         1.503711\n",
            "car                    1.156701\n",
            "medical                0.985991\n",
            "moving                 0.642205\n",
            "vacation               0.532770\n",
            "wedding                0.503745\n",
            "house                  0.487835\n",
            "educational            0.090730\n",
            "renewable_energy       0.075250\n",
            "Name: purpose, dtype: float64\n",
            "\n",
            "\n",
            "CA    15.316609\n",
            "NY     8.639135\n",
            "TX     7.815900\n",
            "FL     6.782824\n",
            "IL     3.989542\n",
            "NJ     3.875807\n",
            "PA     3.522777\n",
            "OH     3.266927\n",
            "GA     3.211672\n",
            "VA     3.051497\n",
            "NC     2.720612\n",
            "MI     2.475511\n",
            "MA     2.377686\n",
            "MD     2.354251\n",
            "AZ     2.295986\n",
            "WA     2.254276\n",
            "CO     2.088726\n",
            "MN     1.750316\n",
            "MO     1.608846\n",
            "CT     1.546496\n",
            "IN     1.399651\n",
            "NV     1.397501\n",
            "TN     1.282906\n",
            "OR     1.274521\n",
            "WI     1.268501\n",
            "AL     1.255171\n",
            "SC     1.196691\n",
            "LA     1.178416\n",
            "KY     0.950946\n",
            "KS     0.899131\n",
            "OK     0.883006\n",
            "AR     0.746050\n",
            "UT     0.735300\n",
            "NM     0.554485\n",
            "HI     0.532555\n",
            "WV     0.516430\n",
            "NH     0.478805\n",
            "RI     0.439460\n",
            "DC     0.306160\n",
            "MT     0.299065\n",
            "DE     0.273050\n",
            "AK     0.268105\n",
            "MS     0.262730\n",
            "WY     0.241660\n",
            "SD     0.210485\n",
            "VT     0.194360\n",
            "IA     0.003010\n",
            "NE     0.003010\n",
            "ID     0.002580\n",
            "ME     0.000860\n",
            "Name: addr_state, dtype: float64\n",
            "\n",
            "\n",
            "f    64.988089\n",
            "w    35.011911\n",
            "Name: initial_list_status, dtype: float64\n",
            "\n",
            "\n"
          ]
        }
      ]
    },
    {
      "cell_type": "markdown",
      "source": [
        "Fitur yang sangat didominasi oleh salah satu nilai saja akan dibuang pada tahap ini."
      ],
      "metadata": {
        "id": "2eJAS8IZU1Xo"
      }
    },
    {
      "cell_type": "code",
      "source": [
        "df.drop(columns=['pymnt_plan'], inplace=True)"
      ],
      "metadata": {
        "id": "OLwjQFI5UtLp"
      },
      "execution_count": 92,
      "outputs": []
    },
    {
      "cell_type": "code",
      "source": [
        "cat = df[df.dtypes[df.dtypes == 'object'].index]\n",
        "cat.columns"
      ],
      "metadata": {
        "colab": {
          "base_uri": "https://localhost:8080/"
        },
        "id": "fK-f07oaUGP-",
        "outputId": "cd62f76a-32be-4260-9915-517d87dee417"
      },
      "execution_count": 93,
      "outputs": [
        {
          "output_type": "execute_result",
          "data": {
            "text/plain": [
              "Index(['grade', 'home_ownership', 'verification_status', 'purpose',\n",
              "       'addr_state', 'initial_list_status'],\n",
              "      dtype='object')"
            ]
          },
          "metadata": {},
          "execution_count": 93
        }
      ]
    },
    {
      "cell_type": "markdown",
      "metadata": {
        "id": "dfCH-uFyHr-h"
      },
      "source": [
        "### Memproses Kolom Numerikal"
      ]
    },
    {
      "cell_type": "code",
      "source": [
        "num.describe()"
      ],
      "metadata": {
        "colab": {
          "base_uri": "https://localhost:8080/",
          "height": 364
        },
        "id": "303Z4IFeWTzn",
        "outputId": "1545471a-2456-4cca-fd49-aae936374dfd"
      },
      "execution_count": 94,
      "outputs": [
        {
          "output_type": "execute_result",
          "data": {
            "text/plain": [
              "           loan_amnt    funded_amnt  funded_amnt_inv       int_rate  \\\n",
              "count  465116.000000  465116.000000    465116.000000  465116.000000   \n",
              "mean    14315.581221   14290.077422     14220.522408      13.831342   \n",
              "std      8284.919521    8272.768486      8296.094104       4.357879   \n",
              "min       500.000000     500.000000         0.000000       5.420000   \n",
              "25%      8000.000000    8000.000000      8000.000000      10.990000   \n",
              "50%     12000.000000   12000.000000     12000.000000      13.660000   \n",
              "75%     20000.000000   20000.000000     19950.000000      16.490000   \n",
              "max     35000.000000   35000.000000     35000.000000      26.060000   \n",
              "\n",
              "         installment     emp_length    annual_inc            dti  \\\n",
              "count  465116.000000  465116.000000  4.651160e+05  465116.000000   \n",
              "mean      432.019600       6.169375  7.326361e+04      17.218068   \n",
              "std       243.448027       3.640354  5.493597e+04       7.850427   \n",
              "min        15.670000       0.000000  1.896000e+03       0.000000   \n",
              "25%       256.690000       3.000000  4.500000e+04      11.360000   \n",
              "50%       379.845000       7.000000  6.300000e+04      16.870000   \n",
              "75%       566.447500      10.000000  8.882700e+04      22.780000   \n",
              "max      1409.990000      10.000000  7.500000e+06      39.990000   \n",
              "\n",
              "         delinq_2yrs  inq_last_6mths  mths_since_last_delinq       open_acc  \\\n",
              "count  465116.000000    465116.00000           465116.000000  465116.000000   \n",
              "mean        0.284357         0.80469               15.250312      11.185276   \n",
              "std         0.796810         1.09155               22.933201       4.988323   \n",
              "min         0.000000         0.00000               -1.000000       0.000000   \n",
              "25%         0.000000         0.00000               -1.000000       8.000000   \n",
              "50%         0.000000         0.00000               -1.000000      10.000000   \n",
              "75%         0.000000         1.00000               28.000000      14.000000   \n",
              "max        29.000000        33.00000              188.000000      84.000000   \n",
              "\n",
              "             pub_rec     revol_bal     revol_util      total_acc  \\\n",
              "count  465116.000000  4.651160e+05  465116.000000  465116.000000   \n",
              "mean        0.160102  1.621503e+04      56.146677      25.055135   \n",
              "std         0.509206  2.063147e+04      23.770736      11.600888   \n",
              "min         0.000000  0.000000e+00       0.000000       0.000000   \n",
              "25%         0.000000  6.412000e+03      39.200000      17.000000   \n",
              "50%         0.000000  1.175800e+04      57.500000      23.000000   \n",
              "75%         0.000000  2.032000e+04      74.700000      32.000000   \n",
              "max        63.000000  2.568995e+06     892.300000     156.000000   \n",
              "\n",
              "           out_prncp  out_prncp_inv    total_pymnt  total_pymnt_inv  \\\n",
              "count  465116.000000  465116.000000  465116.000000    465116.000000   \n",
              "mean     4408.410351    4406.801774   11541.209988     11470.346866   \n",
              "std      6354.054010    6352.174955    8264.685541      8253.288949   \n",
              "min         0.000000       0.000000       0.000000         0.000000   \n",
              "25%         0.000000       0.000000    5553.217849      5499.480000   \n",
              "50%       432.945000     432.775000    9420.390000      9356.355000   \n",
              "75%      7338.390000    7334.550000   15309.409242     15232.837500   \n",
              "max     32160.380000   32160.380000   57777.579870     57777.580000   \n",
              "\n",
              "       total_rec_prncp  total_rec_int  total_rec_late_fee     recoveries  \\\n",
              "count    465116.000000  465116.000000       465116.000000  465116.000000   \n",
              "mean       8866.545397    2588.691604            0.649548      85.323441   \n",
              "std        7031.213942    2483.616980            5.259163     552.033244   \n",
              "min           0.000000       0.000000            0.000000       0.000000   \n",
              "25%        3709.140000     957.367500            0.000000       0.000000   \n",
              "50%        6819.560000    1818.930000            0.000000       0.000000   \n",
              "75%       12000.000000    3304.690000            0.000000       0.000000   \n",
              "max       35000.030000   24205.620000          358.680000   33520.270000   \n",
              "\n",
              "       collection_recovery_fee  last_pymnt_amnt  collections_12_mths_ex_med  \\\n",
              "count            465116.000000    465116.000000               465116.000000   \n",
              "mean                  8.950257      3124.932443                    0.009090   \n",
              "std                  85.393854      5555.051718                    0.108699   \n",
              "min                   0.000000         0.000000                    0.000000   \n",
              "25%                   0.000000       312.620000                    0.000000   \n",
              "50%                   0.000000       545.970000                    0.000000   \n",
              "75%                   0.000000      3192.852500                    0.000000   \n",
              "max                7002.190000     36234.440000                   20.000000   \n",
              "\n",
              "       acc_now_delinq  tot_coll_amt   tot_cur_bal  total_rev_hi_lim  \\\n",
              "count   465116.000000  4.651160e+05  4.651160e+05      4.651160e+05   \n",
              "mean         0.003993  1.625858e+02  1.178476e+05      2.577023e+04   \n",
              "std          0.068581  1.349928e+04  1.486363e+05      3.595977e+04   \n",
              "min          0.000000  0.000000e+00  0.000000e+00      0.000000e+00   \n",
              "25%          0.000000  0.000000e+00  1.547100e+04      8.900000e+03   \n",
              "50%          0.000000  0.000000e+00  5.248350e+04      1.920000e+04   \n",
              "75%          0.000000  0.000000e+00  1.848970e+05      3.430000e+04   \n",
              "max          5.000000  9.152545e+06  8.000078e+06      9.999999e+06   \n",
              "\n",
              "       mths_since_earliest_cr_line  mths_since_last_pymnt_d  \\\n",
              "count                465116.000000            465116.000000   \n",
              "mean                    224.505184                19.282592   \n",
              "std                      84.838763                12.819349   \n",
              "min                       0.000000                 0.000000   \n",
              "25%                     166.000000                11.000000   \n",
              "50%                     208.000000                12.000000   \n",
              "75%                     268.000000                23.000000   \n",
              "max                     570.000000               108.000000   \n",
              "\n",
              "       mths_since_next_pymnt_d  mths_since_last_credit_pull_d    status_loan  \n",
              "count            465116.000000                  465116.000000  465116.000000  \n",
              "mean                  5.503909                      15.044643       0.109263  \n",
              "std                   6.912152                       9.637195       0.311969  \n",
              "min                   0.000000                       0.000000       0.000000  \n",
              "25%                   0.000000                      11.000000       0.000000  \n",
              "50%                  10.000000                      11.000000       0.000000  \n",
              "75%                  10.000000                      13.000000       0.000000  \n",
              "max                 108.000000                     115.000000       1.000000  "
            ],
            "text/html": [
              "\n",
              "  <div id=\"df-478eae92-7374-4409-8ebd-1387348eb492\">\n",
              "    <div class=\"colab-df-container\">\n",
              "      <div>\n",
              "<style scoped>\n",
              "    .dataframe tbody tr th:only-of-type {\n",
              "        vertical-align: middle;\n",
              "    }\n",
              "\n",
              "    .dataframe tbody tr th {\n",
              "        vertical-align: top;\n",
              "    }\n",
              "\n",
              "    .dataframe thead th {\n",
              "        text-align: right;\n",
              "    }\n",
              "</style>\n",
              "<table border=\"1\" class=\"dataframe\">\n",
              "  <thead>\n",
              "    <tr style=\"text-align: right;\">\n",
              "      <th></th>\n",
              "      <th>loan_amnt</th>\n",
              "      <th>funded_amnt</th>\n",
              "      <th>funded_amnt_inv</th>\n",
              "      <th>int_rate</th>\n",
              "      <th>installment</th>\n",
              "      <th>emp_length</th>\n",
              "      <th>annual_inc</th>\n",
              "      <th>dti</th>\n",
              "      <th>delinq_2yrs</th>\n",
              "      <th>inq_last_6mths</th>\n",
              "      <th>mths_since_last_delinq</th>\n",
              "      <th>open_acc</th>\n",
              "      <th>pub_rec</th>\n",
              "      <th>revol_bal</th>\n",
              "      <th>revol_util</th>\n",
              "      <th>total_acc</th>\n",
              "      <th>out_prncp</th>\n",
              "      <th>out_prncp_inv</th>\n",
              "      <th>total_pymnt</th>\n",
              "      <th>total_pymnt_inv</th>\n",
              "      <th>total_rec_prncp</th>\n",
              "      <th>total_rec_int</th>\n",
              "      <th>total_rec_late_fee</th>\n",
              "      <th>recoveries</th>\n",
              "      <th>collection_recovery_fee</th>\n",
              "      <th>last_pymnt_amnt</th>\n",
              "      <th>collections_12_mths_ex_med</th>\n",
              "      <th>acc_now_delinq</th>\n",
              "      <th>tot_coll_amt</th>\n",
              "      <th>tot_cur_bal</th>\n",
              "      <th>total_rev_hi_lim</th>\n",
              "      <th>mths_since_earliest_cr_line</th>\n",
              "      <th>mths_since_last_pymnt_d</th>\n",
              "      <th>mths_since_next_pymnt_d</th>\n",
              "      <th>mths_since_last_credit_pull_d</th>\n",
              "      <th>status_loan</th>\n",
              "    </tr>\n",
              "  </thead>\n",
              "  <tbody>\n",
              "    <tr>\n",
              "      <th>count</th>\n",
              "      <td>465116.000000</td>\n",
              "      <td>465116.000000</td>\n",
              "      <td>465116.000000</td>\n",
              "      <td>465116.000000</td>\n",
              "      <td>465116.000000</td>\n",
              "      <td>465116.000000</td>\n",
              "      <td>4.651160e+05</td>\n",
              "      <td>465116.000000</td>\n",
              "      <td>465116.000000</td>\n",
              "      <td>465116.00000</td>\n",
              "      <td>465116.000000</td>\n",
              "      <td>465116.000000</td>\n",
              "      <td>465116.000000</td>\n",
              "      <td>4.651160e+05</td>\n",
              "      <td>465116.000000</td>\n",
              "      <td>465116.000000</td>\n",
              "      <td>465116.000000</td>\n",
              "      <td>465116.000000</td>\n",
              "      <td>465116.000000</td>\n",
              "      <td>465116.000000</td>\n",
              "      <td>465116.000000</td>\n",
              "      <td>465116.000000</td>\n",
              "      <td>465116.000000</td>\n",
              "      <td>465116.000000</td>\n",
              "      <td>465116.000000</td>\n",
              "      <td>465116.000000</td>\n",
              "      <td>465116.000000</td>\n",
              "      <td>465116.000000</td>\n",
              "      <td>4.651160e+05</td>\n",
              "      <td>4.651160e+05</td>\n",
              "      <td>4.651160e+05</td>\n",
              "      <td>465116.000000</td>\n",
              "      <td>465116.000000</td>\n",
              "      <td>465116.000000</td>\n",
              "      <td>465116.000000</td>\n",
              "      <td>465116.000000</td>\n",
              "    </tr>\n",
              "    <tr>\n",
              "      <th>mean</th>\n",
              "      <td>14315.581221</td>\n",
              "      <td>14290.077422</td>\n",
              "      <td>14220.522408</td>\n",
              "      <td>13.831342</td>\n",
              "      <td>432.019600</td>\n",
              "      <td>6.169375</td>\n",
              "      <td>7.326361e+04</td>\n",
              "      <td>17.218068</td>\n",
              "      <td>0.284357</td>\n",
              "      <td>0.80469</td>\n",
              "      <td>15.250312</td>\n",
              "      <td>11.185276</td>\n",
              "      <td>0.160102</td>\n",
              "      <td>1.621503e+04</td>\n",
              "      <td>56.146677</td>\n",
              "      <td>25.055135</td>\n",
              "      <td>4408.410351</td>\n",
              "      <td>4406.801774</td>\n",
              "      <td>11541.209988</td>\n",
              "      <td>11470.346866</td>\n",
              "      <td>8866.545397</td>\n",
              "      <td>2588.691604</td>\n",
              "      <td>0.649548</td>\n",
              "      <td>85.323441</td>\n",
              "      <td>8.950257</td>\n",
              "      <td>3124.932443</td>\n",
              "      <td>0.009090</td>\n",
              "      <td>0.003993</td>\n",
              "      <td>1.625858e+02</td>\n",
              "      <td>1.178476e+05</td>\n",
              "      <td>2.577023e+04</td>\n",
              "      <td>224.505184</td>\n",
              "      <td>19.282592</td>\n",
              "      <td>5.503909</td>\n",
              "      <td>15.044643</td>\n",
              "      <td>0.109263</td>\n",
              "    </tr>\n",
              "    <tr>\n",
              "      <th>std</th>\n",
              "      <td>8284.919521</td>\n",
              "      <td>8272.768486</td>\n",
              "      <td>8296.094104</td>\n",
              "      <td>4.357879</td>\n",
              "      <td>243.448027</td>\n",
              "      <td>3.640354</td>\n",
              "      <td>5.493597e+04</td>\n",
              "      <td>7.850427</td>\n",
              "      <td>0.796810</td>\n",
              "      <td>1.09155</td>\n",
              "      <td>22.933201</td>\n",
              "      <td>4.988323</td>\n",
              "      <td>0.509206</td>\n",
              "      <td>2.063147e+04</td>\n",
              "      <td>23.770736</td>\n",
              "      <td>11.600888</td>\n",
              "      <td>6354.054010</td>\n",
              "      <td>6352.174955</td>\n",
              "      <td>8264.685541</td>\n",
              "      <td>8253.288949</td>\n",
              "      <td>7031.213942</td>\n",
              "      <td>2483.616980</td>\n",
              "      <td>5.259163</td>\n",
              "      <td>552.033244</td>\n",
              "      <td>85.393854</td>\n",
              "      <td>5555.051718</td>\n",
              "      <td>0.108699</td>\n",
              "      <td>0.068581</td>\n",
              "      <td>1.349928e+04</td>\n",
              "      <td>1.486363e+05</td>\n",
              "      <td>3.595977e+04</td>\n",
              "      <td>84.838763</td>\n",
              "      <td>12.819349</td>\n",
              "      <td>6.912152</td>\n",
              "      <td>9.637195</td>\n",
              "      <td>0.311969</td>\n",
              "    </tr>\n",
              "    <tr>\n",
              "      <th>min</th>\n",
              "      <td>500.000000</td>\n",
              "      <td>500.000000</td>\n",
              "      <td>0.000000</td>\n",
              "      <td>5.420000</td>\n",
              "      <td>15.670000</td>\n",
              "      <td>0.000000</td>\n",
              "      <td>1.896000e+03</td>\n",
              "      <td>0.000000</td>\n",
              "      <td>0.000000</td>\n",
              "      <td>0.00000</td>\n",
              "      <td>-1.000000</td>\n",
              "      <td>0.000000</td>\n",
              "      <td>0.000000</td>\n",
              "      <td>0.000000e+00</td>\n",
              "      <td>0.000000</td>\n",
              "      <td>0.000000</td>\n",
              "      <td>0.000000</td>\n",
              "      <td>0.000000</td>\n",
              "      <td>0.000000</td>\n",
              "      <td>0.000000</td>\n",
              "      <td>0.000000</td>\n",
              "      <td>0.000000</td>\n",
              "      <td>0.000000</td>\n",
              "      <td>0.000000</td>\n",
              "      <td>0.000000</td>\n",
              "      <td>0.000000</td>\n",
              "      <td>0.000000</td>\n",
              "      <td>0.000000</td>\n",
              "      <td>0.000000e+00</td>\n",
              "      <td>0.000000e+00</td>\n",
              "      <td>0.000000e+00</td>\n",
              "      <td>0.000000</td>\n",
              "      <td>0.000000</td>\n",
              "      <td>0.000000</td>\n",
              "      <td>0.000000</td>\n",
              "      <td>0.000000</td>\n",
              "    </tr>\n",
              "    <tr>\n",
              "      <th>25%</th>\n",
              "      <td>8000.000000</td>\n",
              "      <td>8000.000000</td>\n",
              "      <td>8000.000000</td>\n",
              "      <td>10.990000</td>\n",
              "      <td>256.690000</td>\n",
              "      <td>3.000000</td>\n",
              "      <td>4.500000e+04</td>\n",
              "      <td>11.360000</td>\n",
              "      <td>0.000000</td>\n",
              "      <td>0.00000</td>\n",
              "      <td>-1.000000</td>\n",
              "      <td>8.000000</td>\n",
              "      <td>0.000000</td>\n",
              "      <td>6.412000e+03</td>\n",
              "      <td>39.200000</td>\n",
              "      <td>17.000000</td>\n",
              "      <td>0.000000</td>\n",
              "      <td>0.000000</td>\n",
              "      <td>5553.217849</td>\n",
              "      <td>5499.480000</td>\n",
              "      <td>3709.140000</td>\n",
              "      <td>957.367500</td>\n",
              "      <td>0.000000</td>\n",
              "      <td>0.000000</td>\n",
              "      <td>0.000000</td>\n",
              "      <td>312.620000</td>\n",
              "      <td>0.000000</td>\n",
              "      <td>0.000000</td>\n",
              "      <td>0.000000e+00</td>\n",
              "      <td>1.547100e+04</td>\n",
              "      <td>8.900000e+03</td>\n",
              "      <td>166.000000</td>\n",
              "      <td>11.000000</td>\n",
              "      <td>0.000000</td>\n",
              "      <td>11.000000</td>\n",
              "      <td>0.000000</td>\n",
              "    </tr>\n",
              "    <tr>\n",
              "      <th>50%</th>\n",
              "      <td>12000.000000</td>\n",
              "      <td>12000.000000</td>\n",
              "      <td>12000.000000</td>\n",
              "      <td>13.660000</td>\n",
              "      <td>379.845000</td>\n",
              "      <td>7.000000</td>\n",
              "      <td>6.300000e+04</td>\n",
              "      <td>16.870000</td>\n",
              "      <td>0.000000</td>\n",
              "      <td>0.00000</td>\n",
              "      <td>-1.000000</td>\n",
              "      <td>10.000000</td>\n",
              "      <td>0.000000</td>\n",
              "      <td>1.175800e+04</td>\n",
              "      <td>57.500000</td>\n",
              "      <td>23.000000</td>\n",
              "      <td>432.945000</td>\n",
              "      <td>432.775000</td>\n",
              "      <td>9420.390000</td>\n",
              "      <td>9356.355000</td>\n",
              "      <td>6819.560000</td>\n",
              "      <td>1818.930000</td>\n",
              "      <td>0.000000</td>\n",
              "      <td>0.000000</td>\n",
              "      <td>0.000000</td>\n",
              "      <td>545.970000</td>\n",
              "      <td>0.000000</td>\n",
              "      <td>0.000000</td>\n",
              "      <td>0.000000e+00</td>\n",
              "      <td>5.248350e+04</td>\n",
              "      <td>1.920000e+04</td>\n",
              "      <td>208.000000</td>\n",
              "      <td>12.000000</td>\n",
              "      <td>10.000000</td>\n",
              "      <td>11.000000</td>\n",
              "      <td>0.000000</td>\n",
              "    </tr>\n",
              "    <tr>\n",
              "      <th>75%</th>\n",
              "      <td>20000.000000</td>\n",
              "      <td>20000.000000</td>\n",
              "      <td>19950.000000</td>\n",
              "      <td>16.490000</td>\n",
              "      <td>566.447500</td>\n",
              "      <td>10.000000</td>\n",
              "      <td>8.882700e+04</td>\n",
              "      <td>22.780000</td>\n",
              "      <td>0.000000</td>\n",
              "      <td>1.00000</td>\n",
              "      <td>28.000000</td>\n",
              "      <td>14.000000</td>\n",
              "      <td>0.000000</td>\n",
              "      <td>2.032000e+04</td>\n",
              "      <td>74.700000</td>\n",
              "      <td>32.000000</td>\n",
              "      <td>7338.390000</td>\n",
              "      <td>7334.550000</td>\n",
              "      <td>15309.409242</td>\n",
              "      <td>15232.837500</td>\n",
              "      <td>12000.000000</td>\n",
              "      <td>3304.690000</td>\n",
              "      <td>0.000000</td>\n",
              "      <td>0.000000</td>\n",
              "      <td>0.000000</td>\n",
              "      <td>3192.852500</td>\n",
              "      <td>0.000000</td>\n",
              "      <td>0.000000</td>\n",
              "      <td>0.000000e+00</td>\n",
              "      <td>1.848970e+05</td>\n",
              "      <td>3.430000e+04</td>\n",
              "      <td>268.000000</td>\n",
              "      <td>23.000000</td>\n",
              "      <td>10.000000</td>\n",
              "      <td>13.000000</td>\n",
              "      <td>0.000000</td>\n",
              "    </tr>\n",
              "    <tr>\n",
              "      <th>max</th>\n",
              "      <td>35000.000000</td>\n",
              "      <td>35000.000000</td>\n",
              "      <td>35000.000000</td>\n",
              "      <td>26.060000</td>\n",
              "      <td>1409.990000</td>\n",
              "      <td>10.000000</td>\n",
              "      <td>7.500000e+06</td>\n",
              "      <td>39.990000</td>\n",
              "      <td>29.000000</td>\n",
              "      <td>33.00000</td>\n",
              "      <td>188.000000</td>\n",
              "      <td>84.000000</td>\n",
              "      <td>63.000000</td>\n",
              "      <td>2.568995e+06</td>\n",
              "      <td>892.300000</td>\n",
              "      <td>156.000000</td>\n",
              "      <td>32160.380000</td>\n",
              "      <td>32160.380000</td>\n",
              "      <td>57777.579870</td>\n",
              "      <td>57777.580000</td>\n",
              "      <td>35000.030000</td>\n",
              "      <td>24205.620000</td>\n",
              "      <td>358.680000</td>\n",
              "      <td>33520.270000</td>\n",
              "      <td>7002.190000</td>\n",
              "      <td>36234.440000</td>\n",
              "      <td>20.000000</td>\n",
              "      <td>5.000000</td>\n",
              "      <td>9.152545e+06</td>\n",
              "      <td>8.000078e+06</td>\n",
              "      <td>9.999999e+06</td>\n",
              "      <td>570.000000</td>\n",
              "      <td>108.000000</td>\n",
              "      <td>108.000000</td>\n",
              "      <td>115.000000</td>\n",
              "      <td>1.000000</td>\n",
              "    </tr>\n",
              "  </tbody>\n",
              "</table>\n",
              "</div>\n",
              "      <button class=\"colab-df-convert\" onclick=\"convertToInteractive('df-478eae92-7374-4409-8ebd-1387348eb492')\"\n",
              "              title=\"Convert this dataframe to an interactive table.\"\n",
              "              style=\"display:none;\">\n",
              "        \n",
              "  <svg xmlns=\"http://www.w3.org/2000/svg\" height=\"24px\"viewBox=\"0 0 24 24\"\n",
              "       width=\"24px\">\n",
              "    <path d=\"M0 0h24v24H0V0z\" fill=\"none\"/>\n",
              "    <path d=\"M18.56 5.44l.94 2.06.94-2.06 2.06-.94-2.06-.94-.94-2.06-.94 2.06-2.06.94zm-11 1L8.5 8.5l.94-2.06 2.06-.94-2.06-.94L8.5 2.5l-.94 2.06-2.06.94zm10 10l.94 2.06.94-2.06 2.06-.94-2.06-.94-.94-2.06-.94 2.06-2.06.94z\"/><path d=\"M17.41 7.96l-1.37-1.37c-.4-.4-.92-.59-1.43-.59-.52 0-1.04.2-1.43.59L10.3 9.45l-7.72 7.72c-.78.78-.78 2.05 0 2.83L4 21.41c.39.39.9.59 1.41.59.51 0 1.02-.2 1.41-.59l7.78-7.78 2.81-2.81c.8-.78.8-2.07 0-2.86zM5.41 20L4 18.59l7.72-7.72 1.47 1.35L5.41 20z\"/>\n",
              "  </svg>\n",
              "      </button>\n",
              "      \n",
              "  <style>\n",
              "    .colab-df-container {\n",
              "      display:flex;\n",
              "      flex-wrap:wrap;\n",
              "      gap: 12px;\n",
              "    }\n",
              "\n",
              "    .colab-df-convert {\n",
              "      background-color: #E8F0FE;\n",
              "      border: none;\n",
              "      border-radius: 50%;\n",
              "      cursor: pointer;\n",
              "      display: none;\n",
              "      fill: #1967D2;\n",
              "      height: 32px;\n",
              "      padding: 0 0 0 0;\n",
              "      width: 32px;\n",
              "    }\n",
              "\n",
              "    .colab-df-convert:hover {\n",
              "      background-color: #E2EBFA;\n",
              "      box-shadow: 0px 1px 2px rgba(60, 64, 67, 0.3), 0px 1px 3px 1px rgba(60, 64, 67, 0.15);\n",
              "      fill: #174EA6;\n",
              "    }\n",
              "\n",
              "    [theme=dark] .colab-df-convert {\n",
              "      background-color: #3B4455;\n",
              "      fill: #D2E3FC;\n",
              "    }\n",
              "\n",
              "    [theme=dark] .colab-df-convert:hover {\n",
              "      background-color: #434B5C;\n",
              "      box-shadow: 0px 1px 3px 1px rgba(0, 0, 0, 0.15);\n",
              "      filter: drop-shadow(0px 1px 2px rgba(0, 0, 0, 0.3));\n",
              "      fill: #FFFFFF;\n",
              "    }\n",
              "  </style>\n",
              "\n",
              "      <script>\n",
              "        const buttonEl =\n",
              "          document.querySelector('#df-478eae92-7374-4409-8ebd-1387348eb492 button.colab-df-convert');\n",
              "        buttonEl.style.display =\n",
              "          google.colab.kernel.accessAllowed ? 'block' : 'none';\n",
              "\n",
              "        async function convertToInteractive(key) {\n",
              "          const element = document.querySelector('#df-478eae92-7374-4409-8ebd-1387348eb492');\n",
              "          const dataTable =\n",
              "            await google.colab.kernel.invokeFunction('convertToInteractive',\n",
              "                                                     [key], {});\n",
              "          if (!dataTable) return;\n",
              "\n",
              "          const docLinkHtml = 'Like what you see? Visit the ' +\n",
              "            '<a target=\"_blank\" href=https://colab.research.google.com/notebooks/data_table.ipynb>data table notebook</a>'\n",
              "            + ' to learn more about interactive tables.';\n",
              "          element.innerHTML = '';\n",
              "          dataTable['output_type'] = 'display_data';\n",
              "          await google.colab.output.renderOutput(dataTable, element);\n",
              "          const docLink = document.createElement('div');\n",
              "          docLink.innerHTML = docLinkHtml;\n",
              "          element.appendChild(docLink);\n",
              "        }\n",
              "      </script>\n",
              "    </div>\n",
              "  </div>\n",
              "  "
            ]
          },
          "metadata": {},
          "execution_count": 94
        }
      ]
    },
    {
      "cell_type": "code",
      "execution_count": 95,
      "metadata": {
        "id": "Mm3OBOxkHr-h",
        "colab": {
          "base_uri": "https://localhost:8080/"
        },
        "outputId": "610051d7-be98-4174-831b-3182f0cddff0"
      },
      "outputs": [
        {
          "output_type": "execute_result",
          "data": {
            "text/plain": [
              "0.0     382090\n",
              "1.0      56049\n",
              "2.0      16255\n",
              "3.0       5660\n",
              "4.0       2367\n",
              "5.0       1231\n",
              "6.0        627\n",
              "7.0        345\n",
              "8.0        177\n",
              "9.0        110\n",
              "10.0        63\n",
              "11.0        41\n",
              "12.0        38\n",
              "13.0        25\n",
              "14.0         8\n",
              "15.0         7\n",
              "18.0         6\n",
              "16.0         5\n",
              "17.0         3\n",
              "19.0         3\n",
              "21.0         2\n",
              "22.0         2\n",
              "29.0         1\n",
              "24.0         1\n",
              "Name: delinq_2yrs, dtype: int64"
            ]
          },
          "metadata": {},
          "execution_count": 95
        }
      ],
      "source": [
        "df.delinq_2yrs.value_counts()"
      ]
    },
    {
      "cell_type": "code",
      "source": [
        "df['emp_length'] = df['emp_length'].astype(int)"
      ],
      "metadata": {
        "id": "5a1JIZJ1jNc9"
      },
      "execution_count": 96,
      "outputs": []
    },
    {
      "cell_type": "code",
      "execution_count": 97,
      "metadata": {
        "id": "sYZ5DHz9Hr-j"
      },
      "outputs": [],
      "source": [
        "df.drop(columns=['funded_amnt_inv', 'installment', 'initial_list_status', 'out_prncp_inv', 'total_rec_int', 'collection_recovery_fee', 'last_pymnt_amnt', 'total_rev_hi_lim', 'total_pymnt_inv'], inplace=True)"
      ]
    },
    {
      "cell_type": "markdown",
      "metadata": {
        "id": "YrEfaQRQHr-n"
      },
      "source": [
        "### Outliers"
      ]
    },
    {
      "cell_type": "code",
      "source": [
        "num = df[df.dtypes[df.dtypes != 'object'].index]\n",
        "num.head()"
      ],
      "metadata": {
        "colab": {
          "base_uri": "https://localhost:8080/",
          "height": 270
        },
        "id": "73upftj9d-Vk",
        "outputId": "d23a8917-5608-43d6-8a34-44dc595c660e"
      },
      "execution_count": 98,
      "outputs": [
        {
          "output_type": "execute_result",
          "data": {
            "text/plain": [
              "   loan_amnt  funded_amnt  term  int_rate  emp_length  annual_inc    dti  \\\n",
              "0       5000         5000    36     10.65          10     24000.0  27.65   \n",
              "1       2500         2500    60     15.27           0     30000.0   1.00   \n",
              "2       2400         2400    36     15.96          10     12252.0   8.72   \n",
              "3      10000        10000    36     13.49          10     49200.0  20.00   \n",
              "4       3000         3000    60     12.69           1     80000.0  17.94   \n",
              "\n",
              "   delinq_2yrs  inq_last_6mths  mths_since_last_delinq  open_acc  pub_rec  \\\n",
              "0          0.0             1.0                    -1.0       3.0      0.0   \n",
              "1          0.0             5.0                    -1.0       3.0      0.0   \n",
              "2          0.0             2.0                    -1.0       2.0      0.0   \n",
              "3          0.0             1.0                    35.0      10.0      0.0   \n",
              "4          0.0             0.0                    38.0      15.0      0.0   \n",
              "\n",
              "   revol_bal  revol_util  total_acc  out_prncp   total_pymnt  total_rec_prncp  \\\n",
              "0      13648        83.7        9.0        0.0   5861.071414          5000.00   \n",
              "1       1687         9.4        4.0        0.0   1008.710000           456.46   \n",
              "2       2956        98.5       10.0        0.0   3003.653644          2400.00   \n",
              "3       5598        21.0       37.0        0.0  12226.302210         10000.00   \n",
              "4      27783        53.9       38.0      766.9   3242.170000          2233.10   \n",
              "\n",
              "   total_rec_late_fee  recoveries  collections_12_mths_ex_med  acc_now_delinq  \\\n",
              "0                0.00        0.00                         0.0             0.0   \n",
              "1                0.00      117.08                         0.0             0.0   \n",
              "2                0.00        0.00                         0.0             0.0   \n",
              "3               16.97        0.00                         0.0             0.0   \n",
              "4                0.00        0.00                         0.0             0.0   \n",
              "\n",
              "   tot_coll_amt  tot_cur_bal  mths_since_earliest_cr_line  \\\n",
              "0           0.0          0.0                        378.0   \n",
              "1           0.0          0.0                        207.0   \n",
              "2           0.0          0.0                        176.0   \n",
              "3           0.0          0.0                        245.0   \n",
              "4           0.0          0.0                        246.0   \n",
              "\n",
              "   mths_since_last_pymnt_d  mths_since_next_pymnt_d  \\\n",
              "0                     23.0                      0.0   \n",
              "1                     44.0                      0.0   \n",
              "2                     30.0                      0.0   \n",
              "3                     23.0                      0.0   \n",
              "4                     11.0                     10.0   \n",
              "\n",
              "   mths_since_last_credit_pull_d  status_loan  mths_since_issue_d  \n",
              "0                           11.0            0                60.0  \n",
              "1                           39.0            1                60.0  \n",
              "2                           11.0            0                60.0  \n",
              "3                           23.0            0                60.0  \n",
              "4                           11.0            0                60.0  "
            ],
            "text/html": [
              "\n",
              "  <div id=\"df-d4286932-7d56-4f21-b03b-7e5736b19677\">\n",
              "    <div class=\"colab-df-container\">\n",
              "      <div>\n",
              "<style scoped>\n",
              "    .dataframe tbody tr th:only-of-type {\n",
              "        vertical-align: middle;\n",
              "    }\n",
              "\n",
              "    .dataframe tbody tr th {\n",
              "        vertical-align: top;\n",
              "    }\n",
              "\n",
              "    .dataframe thead th {\n",
              "        text-align: right;\n",
              "    }\n",
              "</style>\n",
              "<table border=\"1\" class=\"dataframe\">\n",
              "  <thead>\n",
              "    <tr style=\"text-align: right;\">\n",
              "      <th></th>\n",
              "      <th>loan_amnt</th>\n",
              "      <th>funded_amnt</th>\n",
              "      <th>term</th>\n",
              "      <th>int_rate</th>\n",
              "      <th>emp_length</th>\n",
              "      <th>annual_inc</th>\n",
              "      <th>dti</th>\n",
              "      <th>delinq_2yrs</th>\n",
              "      <th>inq_last_6mths</th>\n",
              "      <th>mths_since_last_delinq</th>\n",
              "      <th>open_acc</th>\n",
              "      <th>pub_rec</th>\n",
              "      <th>revol_bal</th>\n",
              "      <th>revol_util</th>\n",
              "      <th>total_acc</th>\n",
              "      <th>out_prncp</th>\n",
              "      <th>total_pymnt</th>\n",
              "      <th>total_rec_prncp</th>\n",
              "      <th>total_rec_late_fee</th>\n",
              "      <th>recoveries</th>\n",
              "      <th>collections_12_mths_ex_med</th>\n",
              "      <th>acc_now_delinq</th>\n",
              "      <th>tot_coll_amt</th>\n",
              "      <th>tot_cur_bal</th>\n",
              "      <th>mths_since_earliest_cr_line</th>\n",
              "      <th>mths_since_last_pymnt_d</th>\n",
              "      <th>mths_since_next_pymnt_d</th>\n",
              "      <th>mths_since_last_credit_pull_d</th>\n",
              "      <th>status_loan</th>\n",
              "      <th>mths_since_issue_d</th>\n",
              "    </tr>\n",
              "  </thead>\n",
              "  <tbody>\n",
              "    <tr>\n",
              "      <th>0</th>\n",
              "      <td>5000</td>\n",
              "      <td>5000</td>\n",
              "      <td>36</td>\n",
              "      <td>10.65</td>\n",
              "      <td>10</td>\n",
              "      <td>24000.0</td>\n",
              "      <td>27.65</td>\n",
              "      <td>0.0</td>\n",
              "      <td>1.0</td>\n",
              "      <td>-1.0</td>\n",
              "      <td>3.0</td>\n",
              "      <td>0.0</td>\n",
              "      <td>13648</td>\n",
              "      <td>83.7</td>\n",
              "      <td>9.0</td>\n",
              "      <td>0.0</td>\n",
              "      <td>5861.071414</td>\n",
              "      <td>5000.00</td>\n",
              "      <td>0.00</td>\n",
              "      <td>0.00</td>\n",
              "      <td>0.0</td>\n",
              "      <td>0.0</td>\n",
              "      <td>0.0</td>\n",
              "      <td>0.0</td>\n",
              "      <td>378.0</td>\n",
              "      <td>23.0</td>\n",
              "      <td>0.0</td>\n",
              "      <td>11.0</td>\n",
              "      <td>0</td>\n",
              "      <td>60.0</td>\n",
              "    </tr>\n",
              "    <tr>\n",
              "      <th>1</th>\n",
              "      <td>2500</td>\n",
              "      <td>2500</td>\n",
              "      <td>60</td>\n",
              "      <td>15.27</td>\n",
              "      <td>0</td>\n",
              "      <td>30000.0</td>\n",
              "      <td>1.00</td>\n",
              "      <td>0.0</td>\n",
              "      <td>5.0</td>\n",
              "      <td>-1.0</td>\n",
              "      <td>3.0</td>\n",
              "      <td>0.0</td>\n",
              "      <td>1687</td>\n",
              "      <td>9.4</td>\n",
              "      <td>4.0</td>\n",
              "      <td>0.0</td>\n",
              "      <td>1008.710000</td>\n",
              "      <td>456.46</td>\n",
              "      <td>0.00</td>\n",
              "      <td>117.08</td>\n",
              "      <td>0.0</td>\n",
              "      <td>0.0</td>\n",
              "      <td>0.0</td>\n",
              "      <td>0.0</td>\n",
              "      <td>207.0</td>\n",
              "      <td>44.0</td>\n",
              "      <td>0.0</td>\n",
              "      <td>39.0</td>\n",
              "      <td>1</td>\n",
              "      <td>60.0</td>\n",
              "    </tr>\n",
              "    <tr>\n",
              "      <th>2</th>\n",
              "      <td>2400</td>\n",
              "      <td>2400</td>\n",
              "      <td>36</td>\n",
              "      <td>15.96</td>\n",
              "      <td>10</td>\n",
              "      <td>12252.0</td>\n",
              "      <td>8.72</td>\n",
              "      <td>0.0</td>\n",
              "      <td>2.0</td>\n",
              "      <td>-1.0</td>\n",
              "      <td>2.0</td>\n",
              "      <td>0.0</td>\n",
              "      <td>2956</td>\n",
              "      <td>98.5</td>\n",
              "      <td>10.0</td>\n",
              "      <td>0.0</td>\n",
              "      <td>3003.653644</td>\n",
              "      <td>2400.00</td>\n",
              "      <td>0.00</td>\n",
              "      <td>0.00</td>\n",
              "      <td>0.0</td>\n",
              "      <td>0.0</td>\n",
              "      <td>0.0</td>\n",
              "      <td>0.0</td>\n",
              "      <td>176.0</td>\n",
              "      <td>30.0</td>\n",
              "      <td>0.0</td>\n",
              "      <td>11.0</td>\n",
              "      <td>0</td>\n",
              "      <td>60.0</td>\n",
              "    </tr>\n",
              "    <tr>\n",
              "      <th>3</th>\n",
              "      <td>10000</td>\n",
              "      <td>10000</td>\n",
              "      <td>36</td>\n",
              "      <td>13.49</td>\n",
              "      <td>10</td>\n",
              "      <td>49200.0</td>\n",
              "      <td>20.00</td>\n",
              "      <td>0.0</td>\n",
              "      <td>1.0</td>\n",
              "      <td>35.0</td>\n",
              "      <td>10.0</td>\n",
              "      <td>0.0</td>\n",
              "      <td>5598</td>\n",
              "      <td>21.0</td>\n",
              "      <td>37.0</td>\n",
              "      <td>0.0</td>\n",
              "      <td>12226.302210</td>\n",
              "      <td>10000.00</td>\n",
              "      <td>16.97</td>\n",
              "      <td>0.00</td>\n",
              "      <td>0.0</td>\n",
              "      <td>0.0</td>\n",
              "      <td>0.0</td>\n",
              "      <td>0.0</td>\n",
              "      <td>245.0</td>\n",
              "      <td>23.0</td>\n",
              "      <td>0.0</td>\n",
              "      <td>23.0</td>\n",
              "      <td>0</td>\n",
              "      <td>60.0</td>\n",
              "    </tr>\n",
              "    <tr>\n",
              "      <th>4</th>\n",
              "      <td>3000</td>\n",
              "      <td>3000</td>\n",
              "      <td>60</td>\n",
              "      <td>12.69</td>\n",
              "      <td>1</td>\n",
              "      <td>80000.0</td>\n",
              "      <td>17.94</td>\n",
              "      <td>0.0</td>\n",
              "      <td>0.0</td>\n",
              "      <td>38.0</td>\n",
              "      <td>15.0</td>\n",
              "      <td>0.0</td>\n",
              "      <td>27783</td>\n",
              "      <td>53.9</td>\n",
              "      <td>38.0</td>\n",
              "      <td>766.9</td>\n",
              "      <td>3242.170000</td>\n",
              "      <td>2233.10</td>\n",
              "      <td>0.00</td>\n",
              "      <td>0.00</td>\n",
              "      <td>0.0</td>\n",
              "      <td>0.0</td>\n",
              "      <td>0.0</td>\n",
              "      <td>0.0</td>\n",
              "      <td>246.0</td>\n",
              "      <td>11.0</td>\n",
              "      <td>10.0</td>\n",
              "      <td>11.0</td>\n",
              "      <td>0</td>\n",
              "      <td>60.0</td>\n",
              "    </tr>\n",
              "  </tbody>\n",
              "</table>\n",
              "</div>\n",
              "      <button class=\"colab-df-convert\" onclick=\"convertToInteractive('df-d4286932-7d56-4f21-b03b-7e5736b19677')\"\n",
              "              title=\"Convert this dataframe to an interactive table.\"\n",
              "              style=\"display:none;\">\n",
              "        \n",
              "  <svg xmlns=\"http://www.w3.org/2000/svg\" height=\"24px\"viewBox=\"0 0 24 24\"\n",
              "       width=\"24px\">\n",
              "    <path d=\"M0 0h24v24H0V0z\" fill=\"none\"/>\n",
              "    <path d=\"M18.56 5.44l.94 2.06.94-2.06 2.06-.94-2.06-.94-.94-2.06-.94 2.06-2.06.94zm-11 1L8.5 8.5l.94-2.06 2.06-.94-2.06-.94L8.5 2.5l-.94 2.06-2.06.94zm10 10l.94 2.06.94-2.06 2.06-.94-2.06-.94-.94-2.06-.94 2.06-2.06.94z\"/><path d=\"M17.41 7.96l-1.37-1.37c-.4-.4-.92-.59-1.43-.59-.52 0-1.04.2-1.43.59L10.3 9.45l-7.72 7.72c-.78.78-.78 2.05 0 2.83L4 21.41c.39.39.9.59 1.41.59.51 0 1.02-.2 1.41-.59l7.78-7.78 2.81-2.81c.8-.78.8-2.07 0-2.86zM5.41 20L4 18.59l7.72-7.72 1.47 1.35L5.41 20z\"/>\n",
              "  </svg>\n",
              "      </button>\n",
              "      \n",
              "  <style>\n",
              "    .colab-df-container {\n",
              "      display:flex;\n",
              "      flex-wrap:wrap;\n",
              "      gap: 12px;\n",
              "    }\n",
              "\n",
              "    .colab-df-convert {\n",
              "      background-color: #E8F0FE;\n",
              "      border: none;\n",
              "      border-radius: 50%;\n",
              "      cursor: pointer;\n",
              "      display: none;\n",
              "      fill: #1967D2;\n",
              "      height: 32px;\n",
              "      padding: 0 0 0 0;\n",
              "      width: 32px;\n",
              "    }\n",
              "\n",
              "    .colab-df-convert:hover {\n",
              "      background-color: #E2EBFA;\n",
              "      box-shadow: 0px 1px 2px rgba(60, 64, 67, 0.3), 0px 1px 3px 1px rgba(60, 64, 67, 0.15);\n",
              "      fill: #174EA6;\n",
              "    }\n",
              "\n",
              "    [theme=dark] .colab-df-convert {\n",
              "      background-color: #3B4455;\n",
              "      fill: #D2E3FC;\n",
              "    }\n",
              "\n",
              "    [theme=dark] .colab-df-convert:hover {\n",
              "      background-color: #434B5C;\n",
              "      box-shadow: 0px 1px 3px 1px rgba(0, 0, 0, 0.15);\n",
              "      filter: drop-shadow(0px 1px 2px rgba(0, 0, 0, 0.3));\n",
              "      fill: #FFFFFF;\n",
              "    }\n",
              "  </style>\n",
              "\n",
              "      <script>\n",
              "        const buttonEl =\n",
              "          document.querySelector('#df-d4286932-7d56-4f21-b03b-7e5736b19677 button.colab-df-convert');\n",
              "        buttonEl.style.display =\n",
              "          google.colab.kernel.accessAllowed ? 'block' : 'none';\n",
              "\n",
              "        async function convertToInteractive(key) {\n",
              "          const element = document.querySelector('#df-d4286932-7d56-4f21-b03b-7e5736b19677');\n",
              "          const dataTable =\n",
              "            await google.colab.kernel.invokeFunction('convertToInteractive',\n",
              "                                                     [key], {});\n",
              "          if (!dataTable) return;\n",
              "\n",
              "          const docLinkHtml = 'Like what you see? Visit the ' +\n",
              "            '<a target=\"_blank\" href=https://colab.research.google.com/notebooks/data_table.ipynb>data table notebook</a>'\n",
              "            + ' to learn more about interactive tables.';\n",
              "          element.innerHTML = '';\n",
              "          dataTable['output_type'] = 'display_data';\n",
              "          await google.colab.output.renderOutput(dataTable, element);\n",
              "          const docLink = document.createElement('div');\n",
              "          docLink.innerHTML = docLinkHtml;\n",
              "          element.appendChild(docLink);\n",
              "        }\n",
              "      </script>\n",
              "    </div>\n",
              "  </div>\n",
              "  "
            ]
          },
          "metadata": {},
          "execution_count": 98
        }
      ]
    },
    {
      "cell_type": "code",
      "source": [
        "num.columns"
      ],
      "metadata": {
        "colab": {
          "base_uri": "https://localhost:8080/"
        },
        "id": "N_ejZzQDhCCN",
        "outputId": "d60a5649-f33b-4da7-88c1-83a7295f4cc1"
      },
      "execution_count": 99,
      "outputs": [
        {
          "output_type": "execute_result",
          "data": {
            "text/plain": [
              "Index(['loan_amnt', 'funded_amnt', 'term', 'int_rate', 'emp_length',\n",
              "       'annual_inc', 'dti', 'delinq_2yrs', 'inq_last_6mths',\n",
              "       'mths_since_last_delinq', 'open_acc', 'pub_rec', 'revol_bal',\n",
              "       'revol_util', 'total_acc', 'out_prncp', 'total_pymnt',\n",
              "       'total_rec_prncp', 'total_rec_late_fee', 'recoveries',\n",
              "       'collections_12_mths_ex_med', 'acc_now_delinq', 'tot_coll_amt',\n",
              "       'tot_cur_bal', 'mths_since_earliest_cr_line', 'mths_since_last_pymnt_d',\n",
              "       'mths_since_next_pymnt_d', 'mths_since_last_credit_pull_d',\n",
              "       'status_loan', 'mths_since_issue_d'],\n",
              "      dtype='object')"
            ]
          },
          "metadata": {},
          "execution_count": 99
        }
      ]
    },
    {
      "cell_type": "code",
      "source": [
        "num = ['loan_amnt', 'funded_amnt', 'int_rate',\n",
        "       'annual_inc', 'dti', 'delinq_2yrs', 'inq_last_6mths',\n",
        "       'mths_since_last_delinq', 'open_acc', 'pub_rec', 'revol_bal',\n",
        "       'revol_util', 'total_acc', 'out_prncp', 'total_pymnt',\n",
        "       'total_rec_prncp', 'total_rec_late_fee', 'recoveries',\n",
        "       'collections_12_mths_ex_med', 'acc_now_delinq', 'tot_coll_amt',\n",
        "       'tot_cur_bal', 'mths_since_earliest_cr_line', 'mths_since_last_pymnt_d',\n",
        "       'mths_since_next_pymnt_d', 'mths_since_last_credit_pull_d',\n",
        "       'mths_since_issue_d']"
      ],
      "metadata": {
        "id": "mvtlM8Pkg77B"
      },
      "execution_count": 100,
      "outputs": []
    },
    {
      "cell_type": "code",
      "execution_count": 101,
      "metadata": {
        "id": "9gjlRLtPHr-q",
        "colab": {
          "base_uri": "https://localhost:8080/"
        },
        "outputId": "8926037d-598e-455c-d900-06ef8151e196"
      },
      "outputs": [
        {
          "output_type": "execute_result",
          "data": {
            "text/plain": [
              "(369754, 35)"
            ]
          },
          "metadata": {},
          "execution_count": 101
        }
      ],
      "source": [
        "# menghapus outliers\n",
        "from scipy import stats\n",
        "df = (df[(np.abs(stats.zscore(df[num])) < 3).all(axis=1)])\n",
        "df.shape"
      ]
    },
    {
      "cell_type": "markdown",
      "metadata": {
        "id": "gxOYR7LHPGha"
      },
      "source": [
        "# Modeling"
      ]
    },
    {
      "cell_type": "code",
      "source": [
        "cat = df[df.dtypes[df.dtypes == 'object'].index]\n",
        "cat.columns"
      ],
      "metadata": {
        "colab": {
          "base_uri": "https://localhost:8080/"
        },
        "id": "Qeq4SHtGwYKM",
        "outputId": "06f32872-7cb7-4530-9868-5d9e67b0ba2c"
      },
      "execution_count": 102,
      "outputs": [
        {
          "output_type": "execute_result",
          "data": {
            "text/plain": [
              "Index(['grade', 'home_ownership', 'verification_status', 'purpose',\n",
              "       'addr_state'],\n",
              "      dtype='object')"
            ]
          },
          "metadata": {},
          "execution_count": 102
        }
      ]
    },
    {
      "cell_type": "code",
      "source": [
        "cat = ['grade', 'home_ownership', 'verification_status', 'purpose',\n",
        "       'addr_state', 'emp_length', 'term']"
      ],
      "metadata": {
        "id": "WH2cs0ZcwhnY"
      },
      "execution_count": 103,
      "outputs": []
    },
    {
      "cell_type": "code",
      "source": [
        "from sklearn.preprocessing import StandardScaler\n",
        "from sklearn.preprocessing import OneHotEncoder\n",
        "from sklearn.compose import ColumnTransformer\n",
        "\n",
        "preprocessor = ColumnTransformer([\n",
        "    ('numeric', StandardScaler(), num),\n",
        "    ('categoric', OneHotEncoder(handle_unknown='ignore'), cat ),\n",
        "])"
      ],
      "metadata": {
        "id": "v1YwRt3-lLxm"
      },
      "execution_count": 104,
      "outputs": []
    },
    {
      "cell_type": "code",
      "execution_count": 105,
      "metadata": {
        "id": "EkUC5hRkHr-t",
        "colab": {
          "base_uri": "https://localhost:8080/"
        },
        "outputId": "98b632c8-b1e6-437a-df2d-20f8978ef84d"
      },
      "outputs": [
        {
          "output_type": "execute_result",
          "data": {
            "text/plain": [
              "((295803, 34), (73951, 34), (295803,), (73951,))"
            ]
          },
          "metadata": {},
          "execution_count": 105
        }
      ],
      "source": [
        "X = df.drop(columns=[\"status_loan\"])\n",
        "y = df[\"status_loan\"]\n",
        "\n",
        "X_train, X_test, y_train, y_test = train_test_split(X, y, test_size=0.2, stratify=y, random_state=42)\n",
        "X_train.shape, X_test.shape, y_train.shape, y_test.shape"
      ]
    },
    {
      "cell_type": "code",
      "execution_count": 106,
      "metadata": {
        "id": "ZD9kwaqPmD3u"
      },
      "outputs": [],
      "source": [
        "from sklearn.linear_model import LogisticRegression\n",
        "\n",
        "pipeline = Pipeline([\n",
        "    ('prep', preprocessor),\n",
        "    ('algo', LogisticRegression(n_jobs=-1, random_state=42))\n",
        "])"
      ]
    },
    {
      "cell_type": "code",
      "execution_count": 107,
      "metadata": {
        "id": "W0iN96kQm1Fj"
      },
      "outputs": [],
      "source": [
        "parameter = {\n",
        "    'algo__solver': ['lbfgs'],\n",
        "    'algo__fit_intercept': [True, False],\n",
        "}"
      ]
    },
    {
      "cell_type": "code",
      "execution_count": 108,
      "metadata": {
        "id": "9So1fFGZmaTE",
        "colab": {
          "base_uri": "https://localhost:8080/"
        },
        "outputId": "f2921491-0391-4074-b7c1-c0d38ee353f7"
      },
      "outputs": [
        {
          "output_type": "stream",
          "name": "stdout",
          "text": [
            "Fitting 3 folds for each of 2 candidates, totalling 6 fits\n",
            "{'algo__fit_intercept': True, 'algo__solver': 'lbfgs'}\n",
            "0.98105833950298 0.9809569206532726 0.9820692079890738\n"
          ]
        }
      ],
      "source": [
        "from sklearn.model_selection import GridSearchCV\n",
        "\n",
        "model = GridSearchCV(pipeline, parameter, cv=3, n_jobs=-1, verbose=1)\n",
        "model.fit(X_train, y_train)\n",
        "\n",
        "print(model.best_params_)\n",
        "print(model.score(X_train, y_train), model.best_score_, model.score(X_test, y_test))"
      ]
    },
    {
      "cell_type": "code",
      "execution_count": 118,
      "metadata": {
        "id": "HkyJJVCttcIp",
        "colab": {
          "base_uri": "https://localhost:8080/",
          "height": 920
        },
        "outputId": "8ac37970-dba5-4ef6-cf3b-c7055323fa8b"
      },
      "outputs": [
        {
          "output_type": "display_data",
          "data": {
            "text/plain": [
              "<Figure size 432x288 with 2 Axes>"
            ],
            "image/png": "[encoded data removed]"
          },
          "metadata": {
            "needs_background": "light"
          }
        },
        {
          "output_type": "display_data",
          "data": {
            "text/plain": [
              "<Figure size 432x288 with 2 Axes>"
            ],
            "image/png": "[encoded data removed]"
          },
          "metadata": {
            "needs_background": "light"
          }
        },
        {
          "output_type": "stream",
          "name": "stdout",
          "text": [
            "              precision    recall  f1-score   support\n",
            "\n",
            "           0       0.98      1.00      0.99    269835\n",
            "           1       0.99      0.79      0.88     25968\n",
            "\n",
            "    accuracy                           0.98    295803\n",
            "   macro avg       0.99      0.89      0.93    295803\n",
            "weighted avg       0.98      0.98      0.98    295803\n",
            " \n",
            "\n",
            "              precision    recall  f1-score   support\n",
            "\n",
            "           0       0.98      1.00      0.99     67459\n",
            "           1       0.99      0.80      0.89      6492\n",
            "\n",
            "    accuracy                           0.98     73951\n",
            "   macro avg       0.99      0.90      0.94     73951\n",
            "weighted avg       0.98      0.98      0.98     73951\n",
            " \n",
            "\n"
          ]
        }
      ],
      "source": [
        "from sklearn.metrics import classification_report, confusion_matrix, ConfusionMatrixDisplay\n",
        "\n",
        "y_pred_test = model.predict(X_test)\n",
        "y_pred_train = model.predict(X_train)\n",
        "cm_train = confusion_matrix(y_train, y_pred_train)\n",
        "\n",
        "disp = ConfusionMatrixDisplay(confusion_matrix=cm_train, display_labels=model.classes_)\n",
        "disp.plot(cmap='Blues', include_values=True, values_format='d')\n",
        "plt.title(\"Confusion Matrix - Train\")\n",
        "plt.show()\n",
        "\n",
        "cm_test = confusion_matrix(y_test, y_pred_test)\n",
        "\n",
        "disp = ConfusionMatrixDisplay(confusion_matrix=cm_test, display_labels=model.classes_)\n",
        "disp.plot(cmap='Blues', include_values=True, values_format='d')\n",
        "plt.title(\"Confusion Matrix - Test\")\n",
        "plt.show()\n",
        "\n",
        "print(classification_report(y_train,y_pred_train), \"\\n\")\n",
        "print(classification_report(y_test, y_pred_test), \"\\n\")"
      ]
    },
    {
      "cell_type": "markdown",
      "metadata": {
        "id": "6h8zo9FDQfRA"
      },
      "source": [
        "- <b> Logistic Regression </b>\n",
        "  - akurasi testing 98%, akurasi training 98%\n",
        "  - precision training 97.5%, precision testing 98.5%\n",
        "  - recall training 89.5%, recall testing 90% <br><br>\n"
      ]
    },
    {
      "cell_type": "code",
      "source": [
        "from sklearn.metrics import roc_auc_score, roc_curve\n",
        "\n",
        "#define metrics\n",
        "y_pred = model.predict_proba(X_test)[::,1]\n",
        "fpr, tpr, _ = roc_curve(y_test,  y_pred)\n",
        "auc = roc_auc_score(y_test, y_pred)\n",
        "\n",
        "#create ROC curve\n",
        "plt.plot(fpr,tpr,label=\"AUC=\"+str(auc))\n",
        "plt.ylabel('True Positive Rate')\n",
        "plt.xlabel('False Positive Rate')\n",
        "plt.legend(loc=4)\n",
        "plt.show()"
      ],
      "metadata": {
        "colab": {
          "base_uri": "https://localhost:8080/",
          "height": 279
        },
        "id": "i3S9sXlT0LQT",
        "outputId": "71ec628e-466b-48ff-b13b-eafcda74aed1"
      },
      "execution_count": 117,
      "outputs": [
        {
          "output_type": "display_data",
          "data": {
            "text/plain": [
              "<Figure size 432x288 with 1 Axes>"
            ],
            "image/png": "[encoded data removed]"
          },
          "metadata": {
            "needs_background": "light"
          }
        }
      ]
    }
  ],
  "metadata": {
    "colab": {
      "collapsed_sections": [
        "_ndoKinfHr-S",
        "obrS7IBlHr-T",
        "g4sQdluhHr-V",
        "vh-6n5igHr-W",
        "CJ98YDZN1n3U",
        "yXMhvCmrHr-Y",
        "nUFZyWUXHr-d",
        "9l_QlmniHr-l"
      ],
      "provenance": [],
      "include_colab_link": true
    },
    "kernelspec": {
      "display_name": "Python 3.10.1 64-bit",
      "language": "python",
      "name": "python3"
    },
    "language_info": {
      "codemirror_mode": {
        "name": "ipython",
        "version": 3
      },
      "file_extension": ".py",
      "mimetype": "text/x-python",
      "name": "python",
      "nbconvert_exporter": "python",
      "pygments_lexer": "ipython3",
      "version": "3.10.1"
    },
    "vscode": {
      "interpreter": {
        "hash": "2469a70536e4d2335a2ea8907942d0699c37342a371ac185bdb5b0aa6f073890"
      }
    }
  },
  "nbformat": 4,
  "nbformat_minor": 0
}
