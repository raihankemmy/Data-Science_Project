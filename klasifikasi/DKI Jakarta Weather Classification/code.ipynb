{
  "cells": [
    {
      "cell_type": "markdown",
      "metadata": {
        "id": "view-in-github",
        "colab_type": "text"
      },
      "source": [
        "<a href=\"https://colab.research.google.com/github/raihankemmy/Data_Science-Project/blob/main/code.ipynb\" target=\"_parent\"><img src=\"https://colab.research.google.com/assets/colab-badge.svg\" alt=\"Open In Colab\"/></a>"
      ]
    },
    {
      "cell_type": "markdown",
      "metadata": {
        "id": "dPsGh7xWVy08"
      },
      "source": [
        "# Import Package"
      ]
    },
    {
      "cell_type": "code",
      "source": [
        "!pip install xgboost\n",
        "!pip install imbalanced-learn\n",
        "!pip install catboost"
      ],
      "metadata": {
        "colab": {
          "base_uri": "https://localhost:8080/"
        },
        "id": "HkLwBUnrWp3l",
        "outputId": "5136ee1e-7ac5-4d96-cb1f-ac879d8d26a5"
      },
      "execution_count": null,
      "outputs": [
        {
          "output_type": "stream",
          "name": "stdout",
          "text": [
            "Looking in indexes: https://pypi.org/simple, https://us-python.pkg.dev/colab-wheels/public/simple/\n",
            "Requirement already satisfied: xgboost in /usr/local/lib/python3.10/dist-packages (1.7.5)\n",
            "Requirement already satisfied: numpy in /usr/local/lib/python3.10/dist-packages (from xgboost) (1.22.4)\n",
            "Requirement already satisfied: scipy in /usr/local/lib/python3.10/dist-packages (from xgboost) (1.10.1)\n",
            "Looking in indexes: https://pypi.org/simple, https://us-python.pkg.dev/colab-wheels/public/simple/\n",
            "Requirement already satisfied: imbalanced-learn in /usr/local/lib/python3.10/dist-packages (0.10.1)\n",
            "Requirement already satisfied: numpy>=1.17.3 in /usr/local/lib/python3.10/dist-packages (from imbalanced-learn) (1.22.4)\n",
            "Requirement already satisfied: scipy>=1.3.2 in /usr/local/lib/python3.10/dist-packages (from imbalanced-learn) (1.10.1)\n",
            "Requirement already satisfied: scikit-learn>=1.0.2 in /usr/local/lib/python3.10/dist-packages (from imbalanced-learn) (1.2.2)\n",
            "Requirement already satisfied: joblib>=1.1.1 in /usr/local/lib/python3.10/dist-packages (from imbalanced-learn) (1.2.0)\n",
            "Requirement already satisfied: threadpoolctl>=2.0.0 in /usr/local/lib/python3.10/dist-packages (from imbalanced-learn) (3.1.0)\n",
            "Looking in indexes: https://pypi.org/simple, https://us-python.pkg.dev/colab-wheels/public/simple/\n",
            "Requirement already satisfied: catboost in /usr/local/lib/python3.10/dist-packages (1.2)\n",
            "Requirement already satisfied: graphviz in /usr/local/lib/python3.10/dist-packages (from catboost) (0.20.1)\n",
            "Requirement already satisfied: matplotlib in /usr/local/lib/python3.10/dist-packages (from catboost) (3.7.1)\n",
            "Requirement already satisfied: numpy>=1.16.0 in /usr/local/lib/python3.10/dist-packages (from catboost) (1.22.4)\n",
            "Requirement already satisfied: pandas>=0.24 in /usr/local/lib/python3.10/dist-packages (from catboost) (1.5.3)\n",
            "Requirement already satisfied: scipy in /usr/local/lib/python3.10/dist-packages (from catboost) (1.10.1)\n",
            "Requirement already satisfied: plotly in /usr/local/lib/python3.10/dist-packages (from catboost) (5.13.1)\n",
            "Requirement already satisfied: six in /usr/local/lib/python3.10/dist-packages (from catboost) (1.16.0)\n",
            "Requirement already satisfied: python-dateutil>=2.8.1 in /usr/local/lib/python3.10/dist-packages (from pandas>=0.24->catboost) (2.8.2)\n",
            "Requirement already satisfied: pytz>=2020.1 in /usr/local/lib/python3.10/dist-packages (from pandas>=0.24->catboost) (2022.7.1)\n",
            "Requirement already satisfied: contourpy>=1.0.1 in /usr/local/lib/python3.10/dist-packages (from matplotlib->catboost) (1.0.7)\n",
            "Requirement already satisfied: cycler>=0.10 in /usr/local/lib/python3.10/dist-packages (from matplotlib->catboost) (0.11.0)\n",
            "Requirement already satisfied: fonttools>=4.22.0 in /usr/local/lib/python3.10/dist-packages (from matplotlib->catboost) (4.39.3)\n",
            "Requirement already satisfied: kiwisolver>=1.0.1 in /usr/local/lib/python3.10/dist-packages (from matplotlib->catboost) (1.4.4)\n",
            "Requirement already satisfied: packaging>=20.0 in /usr/local/lib/python3.10/dist-packages (from matplotlib->catboost) (23.1)\n",
            "Requirement already satisfied: pillow>=6.2.0 in /usr/local/lib/python3.10/dist-packages (from matplotlib->catboost) (8.4.0)\n",
            "Requirement already satisfied: pyparsing>=2.3.1 in /usr/local/lib/python3.10/dist-packages (from matplotlib->catboost) (3.0.9)\n",
            "Requirement already satisfied: tenacity>=6.2.0 in /usr/local/lib/python3.10/dist-packages (from plotly->catboost) (8.2.2)\n"
          ]
        }
      ]
    },
    {
      "cell_type": "code",
      "source": [
        "from google.colab import drive\n",
        "drive.mount('/content/drive')"
      ],
      "metadata": {
        "id": "E5uoTJ47V1Jw",
        "colab": {
          "base_uri": "https://localhost:8080/"
        },
        "outputId": "bcebbd12-4fbe-4c0f-8b87-d5a709b40ff7"
      },
      "execution_count": null,
      "outputs": [
        {
          "output_type": "stream",
          "name": "stdout",
          "text": [
            "Drive already mounted at /content/drive; to attempt to forcibly remount, call drive.mount(\"/content/drive\", force_remount=True).\n"
          ]
        }
      ]
    },
    {
      "cell_type": "code",
      "execution_count": null,
      "metadata": {
        "id": "6usr5F1QVy1C"
      },
      "outputs": [],
      "source": [
        "import pandas as pd\n",
        "import matplotlib.pyplot as plt\n",
        "import seaborn as sns\n",
        "from sklearn.model_selection import train_test_split\n",
        "\n",
        "from sklearn.ensemble import RandomForestClassifier"
      ]
    },
    {
      "cell_type": "markdown",
      "metadata": {
        "id": "z8BPXYYKVy1D"
      },
      "source": [
        "# Import Data"
      ]
    },
    {
      "cell_type": "code",
      "execution_count": null,
      "metadata": {
        "colab": {
          "base_uri": "https://localhost:8080/",
          "height": 206
        },
        "id": "LIUA7dqiVy1E",
        "outputId": "f4733485-0728-44c4-c381-acf95e657195"
      },
      "outputs": [
        {
          "output_type": "execute_result",
          "data": {
            "text/plain": [
              "      tanggal           wilayah      waktu         cuaca kelembaban_persen  \\\n",
              "0  2018-12-31  Kepulauan Seribu      Siang   Hujan Lokal           70 - 90   \n",
              "1  2018-12-31  Kepulauan Seribu       Pagi   Hujan Lokal           70 - 90   \n",
              "2  2018-12-31  Kepulauan Seribu      Malam   Hujan Lokal           70 - 90   \n",
              "3  2018-12-31  Kepulauan Seribu  Dini Hari  Hujan Ringan           70 - 90   \n",
              "4  2018-12-31     Jakarta Utara      Siang   Hujan Lokal           70 - 90   \n",
              "\n",
              "  suhu_derajat_celcius  \n",
              "0              24 - 32  \n",
              "1              24 - 32  \n",
              "2              24 - 32  \n",
              "3              24 - 32  \n",
              "4              24 - 32  "
            ],
            "text/html": [
              "\n",
              "  <div id=\"df-e9f7deae-1a44-4f51-8a0b-9bf16dfa5c78\">\n",
              "    <div class=\"colab-df-container\">\n",
              "      <div>\n",
              "<style scoped>\n",
              "    .dataframe tbody tr th:only-of-type {\n",
              "        vertical-align: middle;\n",
              "    }\n",
              "\n",
              "    .dataframe tbody tr th {\n",
              "        vertical-align: top;\n",
              "    }\n",
              "\n",
              "    .dataframe thead th {\n",
              "        text-align: right;\n",
              "    }\n",
              "</style>\n",
              "<table border=\"1\" class=\"dataframe\">\n",
              "  <thead>\n",
              "    <tr style=\"text-align: right;\">\n",
              "      <th></th>\n",
              "      <th>tanggal</th>\n",
              "      <th>wilayah</th>\n",
              "      <th>waktu</th>\n",
              "      <th>cuaca</th>\n",
              "      <th>kelembaban_persen</th>\n",
              "      <th>suhu_derajat_celcius</th>\n",
              "    </tr>\n",
              "  </thead>\n",
              "  <tbody>\n",
              "    <tr>\n",
              "      <th>0</th>\n",
              "      <td>2018-12-31</td>\n",
              "      <td>Kepulauan Seribu</td>\n",
              "      <td>Siang</td>\n",
              "      <td>Hujan Lokal</td>\n",
              "      <td>70 - 90</td>\n",
              "      <td>24 - 32</td>\n",
              "    </tr>\n",
              "    <tr>\n",
              "      <th>1</th>\n",
              "      <td>2018-12-31</td>\n",
              "      <td>Kepulauan Seribu</td>\n",
              "      <td>Pagi</td>\n",
              "      <td>Hujan Lokal</td>\n",
              "      <td>70 - 90</td>\n",
              "      <td>24 - 32</td>\n",
              "    </tr>\n",
              "    <tr>\n",
              "      <th>2</th>\n",
              "      <td>2018-12-31</td>\n",
              "      <td>Kepulauan Seribu</td>\n",
              "      <td>Malam</td>\n",
              "      <td>Hujan Lokal</td>\n",
              "      <td>70 - 90</td>\n",
              "      <td>24 - 32</td>\n",
              "    </tr>\n",
              "    <tr>\n",
              "      <th>3</th>\n",
              "      <td>2018-12-31</td>\n",
              "      <td>Kepulauan Seribu</td>\n",
              "      <td>Dini Hari</td>\n",
              "      <td>Hujan Ringan</td>\n",
              "      <td>70 - 90</td>\n",
              "      <td>24 - 32</td>\n",
              "    </tr>\n",
              "    <tr>\n",
              "      <th>4</th>\n",
              "      <td>2018-12-31</td>\n",
              "      <td>Jakarta Utara</td>\n",
              "      <td>Siang</td>\n",
              "      <td>Hujan Lokal</td>\n",
              "      <td>70 - 90</td>\n",
              "      <td>24 - 32</td>\n",
              "    </tr>\n",
              "  </tbody>\n",
              "</table>\n",
              "</div>\n",
              "      <button class=\"colab-df-convert\" onclick=\"convertToInteractive('df-e9f7deae-1a44-4f51-8a0b-9bf16dfa5c78')\"\n",
              "              title=\"Convert this dataframe to an interactive table.\"\n",
              "              style=\"display:none;\">\n",
              "        \n",
              "  <svg xmlns=\"http://www.w3.org/2000/svg\" height=\"24px\"viewBox=\"0 0 24 24\"\n",
              "       width=\"24px\">\n",
              "    <path d=\"M0 0h24v24H0V0z\" fill=\"none\"/>\n",
              "    <path d=\"M18.56 5.44l.94 2.06.94-2.06 2.06-.94-2.06-.94-.94-2.06-.94 2.06-2.06.94zm-11 1L8.5 8.5l.94-2.06 2.06-.94-2.06-.94L8.5 2.5l-.94 2.06-2.06.94zm10 10l.94 2.06.94-2.06 2.06-.94-2.06-.94-.94-2.06-.94 2.06-2.06.94z\"/><path d=\"M17.41 7.96l-1.37-1.37c-.4-.4-.92-.59-1.43-.59-.52 0-1.04.2-1.43.59L10.3 9.45l-7.72 7.72c-.78.78-.78 2.05 0 2.83L4 21.41c.39.39.9.59 1.41.59.51 0 1.02-.2 1.41-.59l7.78-7.78 2.81-2.81c.8-.78.8-2.07 0-2.86zM5.41 20L4 18.59l7.72-7.72 1.47 1.35L5.41 20z\"/>\n",
              "  </svg>\n",
              "      </button>\n",
              "      \n",
              "  <style>\n",
              "    .colab-df-container {\n",
              "      display:flex;\n",
              "      flex-wrap:wrap;\n",
              "      gap: 12px;\n",
              "    }\n",
              "\n",
              "    .colab-df-convert {\n",
              "      background-color: #E8F0FE;\n",
              "      border: none;\n",
              "      border-radius: 50%;\n",
              "      cursor: pointer;\n",
              "      display: none;\n",
              "      fill: #1967D2;\n",
              "      height: 32px;\n",
              "      padding: 0 0 0 0;\n",
              "      width: 32px;\n",
              "    }\n",
              "\n",
              "    .colab-df-convert:hover {\n",
              "      background-color: #E2EBFA;\n",
              "      box-shadow: 0px 1px 2px rgba(60, 64, 67, 0.3), 0px 1px 3px 1px rgba(60, 64, 67, 0.15);\n",
              "      fill: #174EA6;\n",
              "    }\n",
              "\n",
              "    [theme=dark] .colab-df-convert {\n",
              "      background-color: #3B4455;\n",
              "      fill: #D2E3FC;\n",
              "    }\n",
              "\n",
              "    [theme=dark] .colab-df-convert:hover {\n",
              "      background-color: #434B5C;\n",
              "      box-shadow: 0px 1px 3px 1px rgba(0, 0, 0, 0.15);\n",
              "      filter: drop-shadow(0px 1px 2px rgba(0, 0, 0, 0.3));\n",
              "      fill: #FFFFFF;\n",
              "    }\n",
              "  </style>\n",
              "\n",
              "      <script>\n",
              "        const buttonEl =\n",
              "          document.querySelector('#df-e9f7deae-1a44-4f51-8a0b-9bf16dfa5c78 button.colab-df-convert');\n",
              "        buttonEl.style.display =\n",
              "          google.colab.kernel.accessAllowed ? 'block' : 'none';\n",
              "\n",
              "        async function convertToInteractive(key) {\n",
              "          const element = document.querySelector('#df-e9f7deae-1a44-4f51-8a0b-9bf16dfa5c78');\n",
              "          const dataTable =\n",
              "            await google.colab.kernel.invokeFunction('convertToInteractive',\n",
              "                                                     [key], {});\n",
              "          if (!dataTable) return;\n",
              "\n",
              "          const docLinkHtml = 'Like what you see? Visit the ' +\n",
              "            '<a target=\"_blank\" href=https://colab.research.google.com/notebooks/data_table.ipynb>data table notebook</a>'\n",
              "            + ' to learn more about interactive tables.';\n",
              "          element.innerHTML = '';\n",
              "          dataTable['output_type'] = 'display_data';\n",
              "          await google.colab.output.renderOutput(dataTable, element);\n",
              "          const docLink = document.createElement('div');\n",
              "          docLink.innerHTML = docLinkHtml;\n",
              "          element.appendChild(docLink);\n",
              "        }\n",
              "      </script>\n",
              "    </div>\n",
              "  </div>\n",
              "  "
            ]
          },
          "metadata": {},
          "execution_count": 672
        }
      ],
      "source": [
        "df = pd.read_csv(\"data.csv\")\n",
        "df.head()"
      ]
    },
    {
      "cell_type": "markdown",
      "metadata": {
        "id": "ko5LCRYrVy1F"
      },
      "source": [
        "Mengambil dataset prakiraan cuaca Provinsi DKI Jakarta tahun 2018 dari website <br> https://katalog.data.go.id/dataset/data-prakiraan-cuaca-wilayah-provinsi-dki-jakarta-tahun-2018"
      ]
    },
    {
      "cell_type": "markdown",
      "metadata": {
        "id": "O2g-ymTHVy1F"
      },
      "source": [
        "# Preprocessing"
      ]
    },
    {
      "cell_type": "markdown",
      "metadata": {
        "id": "maTO0bMuVy1G"
      },
      "source": [
        "### Melihat Jumlah Baris dan Kolom"
      ]
    },
    {
      "cell_type": "code",
      "execution_count": null,
      "metadata": {
        "colab": {
          "base_uri": "https://localhost:8080/"
        },
        "id": "lbE21B1_Vy1G",
        "outputId": "095a4e51-cebb-41ba-f0e2-0e858f7b1d4c"
      },
      "outputs": [
        {
          "output_type": "execute_result",
          "data": {
            "text/plain": [
              "(8535, 6)"
            ]
          },
          "metadata": {},
          "execution_count": 673
        }
      ],
      "source": [
        "df.shape"
      ]
    },
    {
      "cell_type": "markdown",
      "metadata": {
        "id": "bg1MvdadVy1H"
      },
      "source": [
        "Dataset terdiri dari 8535 baris dan 6 kolom"
      ]
    },
    {
      "cell_type": "markdown",
      "metadata": {
        "id": "0u1Af4f3Vy1I"
      },
      "source": [
        "### Melihat Missing Value"
      ]
    },
    {
      "cell_type": "code",
      "execution_count": null,
      "metadata": {
        "colab": {
          "base_uri": "https://localhost:8080/"
        },
        "id": "tG_dBVSUVy1J",
        "outputId": "64f21393-bd69-4f92-ea1d-59887f091832"
      },
      "outputs": [
        {
          "output_type": "execute_result",
          "data": {
            "text/plain": [
              "tanggal                 135\n",
              "wilayah                 135\n",
              "waktu                   135\n",
              "cuaca                   135\n",
              "kelembaban_persen       135\n",
              "suhu_derajat_celcius    135\n",
              "dtype: int64"
            ]
          },
          "metadata": {},
          "execution_count": 674
        }
      ],
      "source": [
        "df.isnull().sum()"
      ]
    },
    {
      "cell_type": "code",
      "execution_count": null,
      "metadata": {
        "colab": {
          "base_uri": "https://localhost:8080/"
        },
        "id": "hQmIyNb6Vy1J",
        "outputId": "b359de7c-db3d-4961-e0b5-b08bcd6fc71e"
      },
      "outputs": [
        {
          "output_type": "execute_result",
          "data": {
            "text/plain": [
              "tanggal                 0\n",
              "wilayah                 0\n",
              "waktu                   0\n",
              "cuaca                   0\n",
              "kelembaban_persen       0\n",
              "suhu_derajat_celcius    0\n",
              "dtype: int64"
            ]
          },
          "metadata": {},
          "execution_count": 675
        }
      ],
      "source": [
        "df.dropna(inplace=True)\n",
        "df.isnull().sum()"
      ]
    },
    {
      "cell_type": "markdown",
      "metadata": {
        "id": "yhSuPDB9Vy1K"
      },
      "source": [
        "Membuang data yang kosong atau null"
      ]
    },
    {
      "cell_type": "markdown",
      "metadata": {
        "id": "oysvd0dXVy1K"
      },
      "source": [
        "#### Melihat Kembali Jumlah Baris dan Kolom"
      ]
    },
    {
      "cell_type": "code",
      "execution_count": null,
      "metadata": {
        "colab": {
          "base_uri": "https://localhost:8080/"
        },
        "id": "IwYF7qnGVy1K",
        "outputId": "c7822037-8113-4e4d-d558-bd31fed8e9f8"
      },
      "outputs": [
        {
          "output_type": "execute_result",
          "data": {
            "text/plain": [
              "(8400, 6)"
            ]
          },
          "metadata": {},
          "execution_count": 676
        }
      ],
      "source": [
        "df.shape"
      ]
    },
    {
      "cell_type": "markdown",
      "metadata": {
        "id": "fxoP3QT4Vy1L"
      },
      "source": [
        "Jumlah baris menjadi 8400 dan kolom tetap 6"
      ]
    },
    {
      "cell_type": "markdown",
      "source": [
        "### Informasi setiap Kolom"
      ],
      "metadata": {
        "id": "9SxyixvGKuwp"
      }
    },
    {
      "cell_type": "code",
      "source": [
        "df.info()"
      ],
      "metadata": {
        "colab": {
          "base_uri": "https://localhost:8080/"
        },
        "id": "mEFRDxY-KiDC",
        "outputId": "c62776a6-83e9-431a-8d99-bd85b8542581"
      },
      "execution_count": null,
      "outputs": [
        {
          "output_type": "stream",
          "name": "stdout",
          "text": [
            "<class 'pandas.core.frame.DataFrame'>\n",
            "Int64Index: 8400 entries, 0 to 8399\n",
            "Data columns (total 6 columns):\n",
            " #   Column                Non-Null Count  Dtype \n",
            "---  ------                --------------  ----- \n",
            " 0   tanggal               8400 non-null   object\n",
            " 1   wilayah               8400 non-null   object\n",
            " 2   waktu                 8400 non-null   object\n",
            " 3   cuaca                 8400 non-null   object\n",
            " 4   kelembaban_persen     8400 non-null   object\n",
            " 5   suhu_derajat_celcius  8400 non-null   object\n",
            "dtypes: object(6)\n",
            "memory usage: 459.4+ KB\n"
          ]
        }
      ]
    },
    {
      "cell_type": "code",
      "source": [
        "df['waktu'].value_counts()"
      ],
      "metadata": {
        "colab": {
          "base_uri": "https://localhost:8080/"
        },
        "id": "B_yDMdi-KkkZ",
        "outputId": "4879eeb2-5fa2-42fa-d967-cf0c362a4479"
      },
      "execution_count": null,
      "outputs": [
        {
          "output_type": "execute_result",
          "data": {
            "text/plain": [
              "Siang        1758\n",
              "Pagi         1758\n",
              "Malam        1758\n",
              "Dini Hari    1758\n",
              "siang         342\n",
              "pagi          342\n",
              "malam         342\n",
              "dini hari     342\n",
              "Name: waktu, dtype: int64"
            ]
          },
          "metadata": {},
          "execution_count": 678
        }
      ]
    },
    {
      "cell_type": "code",
      "source": [
        "df['wilayah'].value_counts()"
      ],
      "metadata": {
        "colab": {
          "base_uri": "https://localhost:8080/"
        },
        "id": "Z2pbsfSwKrvp",
        "outputId": "15433aa6-ac72-4ec8-ff33-353c18a23638"
      },
      "execution_count": null,
      "outputs": [
        {
          "output_type": "execute_result",
          "data": {
            "text/plain": [
              "Kepulauan Seribu    1400\n",
              "Jakarta Utara       1400\n",
              "Jakarta Timur       1400\n",
              "Jakarta Selatan     1400\n",
              "Jakarta Pusat       1400\n",
              "Jakarta Barat       1400\n",
              "Name: wilayah, dtype: int64"
            ]
          },
          "metadata": {},
          "execution_count": 679
        }
      ]
    },
    {
      "cell_type": "code",
      "source": [
        "df['cuaca'].value_counts()"
      ],
      "metadata": {
        "colab": {
          "base_uri": "https://localhost:8080/"
        },
        "id": "1NNf-W5sKtXA",
        "outputId": "65596e39-b614-4d69-da2c-daf2600cc058"
      },
      "execution_count": null,
      "outputs": [
        {
          "output_type": "execute_result",
          "data": {
            "text/plain": [
              "Cerah Berawan     3307\n",
              "Berawan           2758\n",
              "Hujan Lokal       1006\n",
              "Hujan Ringan       431\n",
              "Cerah              427\n",
              "Hujan Petir        137\n",
              "Berawan Tebal      115\n",
              "Hujan Sedang       110\n",
              "Cerah Berawan       32\n",
              "Cerah               24\n",
              "Berawan             19\n",
              "Hujan Lokal         13\n",
              " Berawan             3\n",
              "Hujan                2\n",
              "Cerah berawan        2\n",
              "Hujan Ringan         2\n",
              "Cerah Berawah        2\n",
              "Cerah                1\n",
              "Cerah Berawn         1\n",
              "Hujan Petir          1\n",
              "Hujan Sedang         1\n",
              "Cerang Berawan       1\n",
              "Hujan Ringanl        1\n",
              "Berawa               1\n",
              "Hujang Sedang        1\n",
              "Hujan Loka           1\n",
              "Beawan               1\n",
              "Name: cuaca, dtype: int64"
            ]
          },
          "metadata": {},
          "execution_count": 680
        }
      ]
    },
    {
      "cell_type": "markdown",
      "source": [
        "## Data Cleaning"
      ],
      "metadata": {
        "id": "GMEvhLG3K0Lm"
      }
    },
    {
      "cell_type": "markdown",
      "metadata": {
        "id": "pNeCjV8MVy1L"
      },
      "source": [
        "### Menggunakan Mapping untuk mengelompokkan jenis Cuaca"
      ]
    },
    {
      "cell_type": "code",
      "source": [
        "from sklearn.preprocessing import LabelEncoder\n",
        "LE = LabelEncoder()\n",
        "cuaca_kategorik = df.copy()\n",
        "cuaca_kategorik['jenis_cuaca'] = LE.fit_transform(cuaca_kategorik['cuaca'])\n",
        "ax, fig = plt.subplots(figsize=(10, 5))\n",
        "sns.countplot(x='jenis_cuaca', data=cuaca_kategorik)"
      ],
      "metadata": {
        "colab": {
          "base_uri": "https://localhost:8080/",
          "height": 482
        },
        "id": "wwLhwAHS7XHn",
        "outputId": "9060806a-8d18-4a84-c225-cced11d1477e"
      },
      "execution_count": null,
      "outputs": [
        {
          "output_type": "execute_result",
          "data": {
            "text/plain": [
              "<Axes: xlabel='jenis_cuaca', ylabel='count'>"
            ]
          },
          "metadata": {},
          "execution_count": 681
        },
        {
          "output_type": "display_data",
          "data": {
            "text/plain": [
              "<Figure size 1000x500 with 1 Axes>"
            ],
            "image/png": "[encoded data removed]"
          },
          "metadata": {}
        }
      ]
    },
    {
      "cell_type": "markdown",
      "source": [
        "Visualisasi jenis cuaca"
      ],
      "metadata": {
        "id": "ktiNuCny7aD_"
      }
    },
    {
      "cell_type": "code",
      "execution_count": null,
      "metadata": {
        "colab": {
          "base_uri": "https://localhost:8080/"
        },
        "id": "v5aonoVsVy1L",
        "outputId": "a759f149-fe95-48bb-cfb6-6999fbaba64c"
      },
      "outputs": [
        {
          "output_type": "execute_result",
          "data": {
            "text/plain": [
              "array(['Hujan Lokal', 'Hujan Ringan', 'Berawan', 'Cerah Berawan', 'Cerah',\n",
              "       'Berawan Tebal', 'Hujan Sedang', 'Cerah Berawn', 'Cerang Berawan',\n",
              "       'Beawan', 'Berawan ', 'Hujan Petir', 'Hujan Lokal ',\n",
              "       'Cerah Berawan ', 'Cerah ', 'Cerah Berawah', 'Cerah  ', ' Berawan',\n",
              "       'Hujan', 'Hujan Petir ', 'Hujan Sedang ', 'Cerah berawan',\n",
              "       'Hujan Ringanl', 'Berawa', 'Hujang Sedang', 'Hujan Loka',\n",
              "       'Hujan Ringan '], dtype=object)"
            ]
          },
          "metadata": {},
          "execution_count": 682
        }
      ],
      "source": [
        "df[\"cuaca\"].unique()"
      ]
    },
    {
      "cell_type": "markdown",
      "metadata": {
        "id": "LhLh72tkVy1M"
      },
      "source": [
        "Terdapat 27 jenis cuaca sehingga akan dikelompokkan jenis cuaca menjadi 3 yaitu Hujan, Cerah dan Berawan"
      ]
    },
    {
      "cell_type": "code",
      "source": [
        "kategori_cuaca = pd.DataFrame()\n",
        "kategori_cuaca['cuaca'] = df['cuaca'].value_counts()\n",
        "kategori_cuaca[['cuaca']]"
      ],
      "metadata": {
        "colab": {
          "base_uri": "https://localhost:8080/",
          "height": 896
        },
        "id": "tcLIwu4L7lTl",
        "outputId": "4947afcd-7a69-4cda-f647-0a9ec3e94365"
      },
      "execution_count": null,
      "outputs": [
        {
          "output_type": "execute_result",
          "data": {
            "text/plain": [
              "                cuaca\n",
              "Cerah Berawan    3307\n",
              "Berawan          2758\n",
              "Hujan Lokal      1006\n",
              "Hujan Ringan      431\n",
              "Cerah             427\n",
              "Hujan Petir       137\n",
              "Berawan Tebal     115\n",
              "Hujan Sedang      110\n",
              "Cerah Berawan      32\n",
              "Cerah              24\n",
              "Berawan            19\n",
              "Hujan Lokal        13\n",
              " Berawan            3\n",
              "Hujan               2\n",
              "Cerah berawan       2\n",
              "Hujan Ringan        2\n",
              "Cerah Berawah       2\n",
              "Cerah               1\n",
              "Cerah Berawn        1\n",
              "Hujan Petir         1\n",
              "Hujan Sedang        1\n",
              "Cerang Berawan      1\n",
              "Hujan Ringanl       1\n",
              "Berawa              1\n",
              "Hujang Sedang       1\n",
              "Hujan Loka          1\n",
              "Beawan              1"
            ],
            "text/html": [
              "\n",
              "  <div id=\"df-7899215f-54bb-45a2-92bc-73ef4c64c233\">\n",
              "    <div class=\"colab-df-container\">\n",
              "      <div>\n",
              "<style scoped>\n",
              "    .dataframe tbody tr th:only-of-type {\n",
              "        vertical-align: middle;\n",
              "    }\n",
              "\n",
              "    .dataframe tbody tr th {\n",
              "        vertical-align: top;\n",
              "    }\n",
              "\n",
              "    .dataframe thead th {\n",
              "        text-align: right;\n",
              "    }\n",
              "</style>\n",
              "<table border=\"1\" class=\"dataframe\">\n",
              "  <thead>\n",
              "    <tr style=\"text-align: right;\">\n",
              "      <th></th>\n",
              "      <th>cuaca</th>\n",
              "    </tr>\n",
              "  </thead>\n",
              "  <tbody>\n",
              "    <tr>\n",
              "      <th>Cerah Berawan</th>\n",
              "      <td>3307</td>\n",
              "    </tr>\n",
              "    <tr>\n",
              "      <th>Berawan</th>\n",
              "      <td>2758</td>\n",
              "    </tr>\n",
              "    <tr>\n",
              "      <th>Hujan Lokal</th>\n",
              "      <td>1006</td>\n",
              "    </tr>\n",
              "    <tr>\n",
              "      <th>Hujan Ringan</th>\n",
              "      <td>431</td>\n",
              "    </tr>\n",
              "    <tr>\n",
              "      <th>Cerah</th>\n",
              "      <td>427</td>\n",
              "    </tr>\n",
              "    <tr>\n",
              "      <th>Hujan Petir</th>\n",
              "      <td>137</td>\n",
              "    </tr>\n",
              "    <tr>\n",
              "      <th>Berawan Tebal</th>\n",
              "      <td>115</td>\n",
              "    </tr>\n",
              "    <tr>\n",
              "      <th>Hujan Sedang</th>\n",
              "      <td>110</td>\n",
              "    </tr>\n",
              "    <tr>\n",
              "      <th>Cerah Berawan</th>\n",
              "      <td>32</td>\n",
              "    </tr>\n",
              "    <tr>\n",
              "      <th>Cerah</th>\n",
              "      <td>24</td>\n",
              "    </tr>\n",
              "    <tr>\n",
              "      <th>Berawan</th>\n",
              "      <td>19</td>\n",
              "    </tr>\n",
              "    <tr>\n",
              "      <th>Hujan Lokal</th>\n",
              "      <td>13</td>\n",
              "    </tr>\n",
              "    <tr>\n",
              "      <th>Berawan</th>\n",
              "      <td>3</td>\n",
              "    </tr>\n",
              "    <tr>\n",
              "      <th>Hujan</th>\n",
              "      <td>2</td>\n",
              "    </tr>\n",
              "    <tr>\n",
              "      <th>Cerah berawan</th>\n",
              "      <td>2</td>\n",
              "    </tr>\n",
              "    <tr>\n",
              "      <th>Hujan Ringan</th>\n",
              "      <td>2</td>\n",
              "    </tr>\n",
              "    <tr>\n",
              "      <th>Cerah Berawah</th>\n",
              "      <td>2</td>\n",
              "    </tr>\n",
              "    <tr>\n",
              "      <th>Cerah</th>\n",
              "      <td>1</td>\n",
              "    </tr>\n",
              "    <tr>\n",
              "      <th>Cerah Berawn</th>\n",
              "      <td>1</td>\n",
              "    </tr>\n",
              "    <tr>\n",
              "      <th>Hujan Petir</th>\n",
              "      <td>1</td>\n",
              "    </tr>\n",
              "    <tr>\n",
              "      <th>Hujan Sedang</th>\n",
              "      <td>1</td>\n",
              "    </tr>\n",
              "    <tr>\n",
              "      <th>Cerang Berawan</th>\n",
              "      <td>1</td>\n",
              "    </tr>\n",
              "    <tr>\n",
              "      <th>Hujan Ringanl</th>\n",
              "      <td>1</td>\n",
              "    </tr>\n",
              "    <tr>\n",
              "      <th>Berawa</th>\n",
              "      <td>1</td>\n",
              "    </tr>\n",
              "    <tr>\n",
              "      <th>Hujang Sedang</th>\n",
              "      <td>1</td>\n",
              "    </tr>\n",
              "    <tr>\n",
              "      <th>Hujan Loka</th>\n",
              "      <td>1</td>\n",
              "    </tr>\n",
              "    <tr>\n",
              "      <th>Beawan</th>\n",
              "      <td>1</td>\n",
              "    </tr>\n",
              "  </tbody>\n",
              "</table>\n",
              "</div>\n",
              "      <button class=\"colab-df-convert\" onclick=\"convertToInteractive('df-7899215f-54bb-45a2-92bc-73ef4c64c233')\"\n",
              "              title=\"Convert this dataframe to an interactive table.\"\n",
              "              style=\"display:none;\">\n",
              "        \n",
              "  <svg xmlns=\"http://www.w3.org/2000/svg\" height=\"24px\"viewBox=\"0 0 24 24\"\n",
              "       width=\"24px\">\n",
              "    <path d=\"M0 0h24v24H0V0z\" fill=\"none\"/>\n",
              "    <path d=\"M18.56 5.44l.94 2.06.94-2.06 2.06-.94-2.06-.94-.94-2.06-.94 2.06-2.06.94zm-11 1L8.5 8.5l.94-2.06 2.06-.94-2.06-.94L8.5 2.5l-.94 2.06-2.06.94zm10 10l.94 2.06.94-2.06 2.06-.94-2.06-.94-.94-2.06-.94 2.06-2.06.94z\"/><path d=\"M17.41 7.96l-1.37-1.37c-.4-.4-.92-.59-1.43-.59-.52 0-1.04.2-1.43.59L10.3 9.45l-7.72 7.72c-.78.78-.78 2.05 0 2.83L4 21.41c.39.39.9.59 1.41.59.51 0 1.02-.2 1.41-.59l7.78-7.78 2.81-2.81c.8-.78.8-2.07 0-2.86zM5.41 20L4 18.59l7.72-7.72 1.47 1.35L5.41 20z\"/>\n",
              "  </svg>\n",
              "      </button>\n",
              "      \n",
              "  <style>\n",
              "    .colab-df-container {\n",
              "      display:flex;\n",
              "      flex-wrap:wrap;\n",
              "      gap: 12px;\n",
              "    }\n",
              "\n",
              "    .colab-df-convert {\n",
              "      background-color: #E8F0FE;\n",
              "      border: none;\n",
              "      border-radius: 50%;\n",
              "      cursor: pointer;\n",
              "      display: none;\n",
              "      fill: #1967D2;\n",
              "      height: 32px;\n",
              "      padding: 0 0 0 0;\n",
              "      width: 32px;\n",
              "    }\n",
              "\n",
              "    .colab-df-convert:hover {\n",
              "      background-color: #E2EBFA;\n",
              "      box-shadow: 0px 1px 2px rgba(60, 64, 67, 0.3), 0px 1px 3px 1px rgba(60, 64, 67, 0.15);\n",
              "      fill: #174EA6;\n",
              "    }\n",
              "\n",
              "    [theme=dark] .colab-df-convert {\n",
              "      background-color: #3B4455;\n",
              "      fill: #D2E3FC;\n",
              "    }\n",
              "\n",
              "    [theme=dark] .colab-df-convert:hover {\n",
              "      background-color: #434B5C;\n",
              "      box-shadow: 0px 1px 3px 1px rgba(0, 0, 0, 0.15);\n",
              "      filter: drop-shadow(0px 1px 2px rgba(0, 0, 0, 0.3));\n",
              "      fill: #FFFFFF;\n",
              "    }\n",
              "  </style>\n",
              "\n",
              "      <script>\n",
              "        const buttonEl =\n",
              "          document.querySelector('#df-7899215f-54bb-45a2-92bc-73ef4c64c233 button.colab-df-convert');\n",
              "        buttonEl.style.display =\n",
              "          google.colab.kernel.accessAllowed ? 'block' : 'none';\n",
              "\n",
              "        async function convertToInteractive(key) {\n",
              "          const element = document.querySelector('#df-7899215f-54bb-45a2-92bc-73ef4c64c233');\n",
              "          const dataTable =\n",
              "            await google.colab.kernel.invokeFunction('convertToInteractive',\n",
              "                                                     [key], {});\n",
              "          if (!dataTable) return;\n",
              "\n",
              "          const docLinkHtml = 'Like what you see? Visit the ' +\n",
              "            '<a target=\"_blank\" href=https://colab.research.google.com/notebooks/data_table.ipynb>data table notebook</a>'\n",
              "            + ' to learn more about interactive tables.';\n",
              "          element.innerHTML = '';\n",
              "          dataTable['output_type'] = 'display_data';\n",
              "          await google.colab.output.renderOutput(dataTable, element);\n",
              "          const docLink = document.createElement('div');\n",
              "          docLink.innerHTML = docLinkHtml;\n",
              "          element.appendChild(docLink);\n",
              "        }\n",
              "      </script>\n",
              "    </div>\n",
              "  </div>\n",
              "  "
            ]
          },
          "metadata": {},
          "execution_count": 683
        }
      ]
    },
    {
      "cell_type": "markdown",
      "source": [
        "#### Mapping Cuaca"
      ],
      "metadata": {
        "id": "rAXsRAkS7n1Z"
      }
    },
    {
      "cell_type": "code",
      "execution_count": null,
      "metadata": {
        "id": "wh9XPlwqVy1M"
      },
      "outputs": [],
      "source": [
        "cuaca_map = {\n",
        "    'Hujan Ringan': 'Hujan Ringan',\n",
        "    'Hujan Petir': 'Hujan Petir',\n",
        "    'Berawan': 'Berawan',\n",
        "    'Hujan Sedang': 'Hujan Sedang',\n",
        "    'Berawan Tebal': 'Berawan Tebal',\n",
        "    'Hujan Lokal': 'Hujan Lokal',\n",
        "    'Cerah Berawan': 'Cerah Berawan',\n",
        "    'Berawan Tebal ': 'Berawan Tebal',\n",
        "    'Berawan tebal': 'Berawan Tebal',\n",
        "    'Berawan Sedang': 'Berawan',\n",
        "    'Cerah': 'Cerah',\n",
        "    'Berawan ': 'Berawan',\n",
        "    'Cerah Berawan ': 'Cerah Berawan',\n",
        "    'Cerah ': 'Cerah',\n",
        "    'Hujan': 'Hujan Lokal',\n",
        "    'Hujan Ringan ': 'Hujan Ringan',\n",
        "    'Berawan Teba': 'Berawan Tebal',\n",
        "    'Hujan RIngan': 'Hujan Ringan',\n",
        "    ' Berawan': 'Berawan',\n",
        "    'Hujan Lokal ': 'Hujan Lokal',\n",
        "    'Hujan Loka': 'Hujan Lokal',\n",
        "    'Hujang Sedang': 'Hujan Sedang',\n",
        "    'Cerah berawan': 'Cerah Berawan',\n",
        "    'Berawa': 'Berawan',\n",
        "    'Hujan Ringanl': 'Hujan Ringan',\n",
        "    'Hujan Sedang ': 'Hujan Sedang',\n",
        "    'Hujan Petir ': 'Hujan Petir',\n",
        "    'Cerah  ': 'Cerah',\n",
        "    'Cerah Berawah': 'Cerah Berawan',\n",
        "    'Beawan': 'Berawan',\n",
        "    'Cerang Berawan': 'Cerah Berawan',\n",
        "    'Cerah Berawn': 'Cerah Berawan'\n",
        "}\n",
        "\n",
        "df['cuaca'] = df['cuaca'].map(cuaca_map)"
      ]
    },
    {
      "cell_type": "code",
      "source": [
        "kategori_cuaca = pd.DataFrame()\n",
        "kategori_cuaca['cuaca'] = df['cuaca'].value_counts()\n",
        "kategori_cuaca[['cuaca']]"
      ],
      "metadata": {
        "colab": {
          "base_uri": "https://localhost:8080/",
          "height": 300
        },
        "id": "lTAFH52G8HBg",
        "outputId": "57101b8a-2a44-4e06-84ac-446385d48320"
      },
      "execution_count": null,
      "outputs": [
        {
          "output_type": "execute_result",
          "data": {
            "text/plain": [
              "               cuaca\n",
              "Cerah Berawan   3345\n",
              "Berawan         2782\n",
              "Hujan Lokal     1022\n",
              "Cerah            452\n",
              "Hujan Ringan     434\n",
              "Hujan Petir      138\n",
              "Berawan Tebal    115\n",
              "Hujan Sedang     112"
            ],
            "text/html": [
              "\n",
              "  <div id=\"df-78f6e987-d557-44dc-94cd-8d941fb654fc\">\n",
              "    <div class=\"colab-df-container\">\n",
              "      <div>\n",
              "<style scoped>\n",
              "    .dataframe tbody tr th:only-of-type {\n",
              "        vertical-align: middle;\n",
              "    }\n",
              "\n",
              "    .dataframe tbody tr th {\n",
              "        vertical-align: top;\n",
              "    }\n",
              "\n",
              "    .dataframe thead th {\n",
              "        text-align: right;\n",
              "    }\n",
              "</style>\n",
              "<table border=\"1\" class=\"dataframe\">\n",
              "  <thead>\n",
              "    <tr style=\"text-align: right;\">\n",
              "      <th></th>\n",
              "      <th>cuaca</th>\n",
              "    </tr>\n",
              "  </thead>\n",
              "  <tbody>\n",
              "    <tr>\n",
              "      <th>Cerah Berawan</th>\n",
              "      <td>3345</td>\n",
              "    </tr>\n",
              "    <tr>\n",
              "      <th>Berawan</th>\n",
              "      <td>2782</td>\n",
              "    </tr>\n",
              "    <tr>\n",
              "      <th>Hujan Lokal</th>\n",
              "      <td>1022</td>\n",
              "    </tr>\n",
              "    <tr>\n",
              "      <th>Cerah</th>\n",
              "      <td>452</td>\n",
              "    </tr>\n",
              "    <tr>\n",
              "      <th>Hujan Ringan</th>\n",
              "      <td>434</td>\n",
              "    </tr>\n",
              "    <tr>\n",
              "      <th>Hujan Petir</th>\n",
              "      <td>138</td>\n",
              "    </tr>\n",
              "    <tr>\n",
              "      <th>Berawan Tebal</th>\n",
              "      <td>115</td>\n",
              "    </tr>\n",
              "    <tr>\n",
              "      <th>Hujan Sedang</th>\n",
              "      <td>112</td>\n",
              "    </tr>\n",
              "  </tbody>\n",
              "</table>\n",
              "</div>\n",
              "      <button class=\"colab-df-convert\" onclick=\"convertToInteractive('df-78f6e987-d557-44dc-94cd-8d941fb654fc')\"\n",
              "              title=\"Convert this dataframe to an interactive table.\"\n",
              "              style=\"display:none;\">\n",
              "        \n",
              "  <svg xmlns=\"http://www.w3.org/2000/svg\" height=\"24px\"viewBox=\"0 0 24 24\"\n",
              "       width=\"24px\">\n",
              "    <path d=\"M0 0h24v24H0V0z\" fill=\"none\"/>\n",
              "    <path d=\"M18.56 5.44l.94 2.06.94-2.06 2.06-.94-2.06-.94-.94-2.06-.94 2.06-2.06.94zm-11 1L8.5 8.5l.94-2.06 2.06-.94-2.06-.94L8.5 2.5l-.94 2.06-2.06.94zm10 10l.94 2.06.94-2.06 2.06-.94-2.06-.94-.94-2.06-.94 2.06-2.06.94z\"/><path d=\"M17.41 7.96l-1.37-1.37c-.4-.4-.92-.59-1.43-.59-.52 0-1.04.2-1.43.59L10.3 9.45l-7.72 7.72c-.78.78-.78 2.05 0 2.83L4 21.41c.39.39.9.59 1.41.59.51 0 1.02-.2 1.41-.59l7.78-7.78 2.81-2.81c.8-.78.8-2.07 0-2.86zM5.41 20L4 18.59l7.72-7.72 1.47 1.35L5.41 20z\"/>\n",
              "  </svg>\n",
              "      </button>\n",
              "      \n",
              "  <style>\n",
              "    .colab-df-container {\n",
              "      display:flex;\n",
              "      flex-wrap:wrap;\n",
              "      gap: 12px;\n",
              "    }\n",
              "\n",
              "    .colab-df-convert {\n",
              "      background-color: #E8F0FE;\n",
              "      border: none;\n",
              "      border-radius: 50%;\n",
              "      cursor: pointer;\n",
              "      display: none;\n",
              "      fill: #1967D2;\n",
              "      height: 32px;\n",
              "      padding: 0 0 0 0;\n",
              "      width: 32px;\n",
              "    }\n",
              "\n",
              "    .colab-df-convert:hover {\n",
              "      background-color: #E2EBFA;\n",
              "      box-shadow: 0px 1px 2px rgba(60, 64, 67, 0.3), 0px 1px 3px 1px rgba(60, 64, 67, 0.15);\n",
              "      fill: #174EA6;\n",
              "    }\n",
              "\n",
              "    [theme=dark] .colab-df-convert {\n",
              "      background-color: #3B4455;\n",
              "      fill: #D2E3FC;\n",
              "    }\n",
              "\n",
              "    [theme=dark] .colab-df-convert:hover {\n",
              "      background-color: #434B5C;\n",
              "      box-shadow: 0px 1px 3px 1px rgba(0, 0, 0, 0.15);\n",
              "      filter: drop-shadow(0px 1px 2px rgba(0, 0, 0, 0.3));\n",
              "      fill: #FFFFFF;\n",
              "    }\n",
              "  </style>\n",
              "\n",
              "      <script>\n",
              "        const buttonEl =\n",
              "          document.querySelector('#df-78f6e987-d557-44dc-94cd-8d941fb654fc button.colab-df-convert');\n",
              "        buttonEl.style.display =\n",
              "          google.colab.kernel.accessAllowed ? 'block' : 'none';\n",
              "\n",
              "        async function convertToInteractive(key) {\n",
              "          const element = document.querySelector('#df-78f6e987-d557-44dc-94cd-8d941fb654fc');\n",
              "          const dataTable =\n",
              "            await google.colab.kernel.invokeFunction('convertToInteractive',\n",
              "                                                     [key], {});\n",
              "          if (!dataTable) return;\n",
              "\n",
              "          const docLinkHtml = 'Like what you see? Visit the ' +\n",
              "            '<a target=\"_blank\" href=https://colab.research.google.com/notebooks/data_table.ipynb>data table notebook</a>'\n",
              "            + ' to learn more about interactive tables.';\n",
              "          element.innerHTML = '';\n",
              "          dataTable['output_type'] = 'display_data';\n",
              "          await google.colab.output.renderOutput(dataTable, element);\n",
              "          const docLink = document.createElement('div');\n",
              "          docLink.innerHTML = docLinkHtml;\n",
              "          element.appendChild(docLink);\n",
              "        }\n",
              "      </script>\n",
              "    </div>\n",
              "  </div>\n",
              "  "
            ]
          },
          "metadata": {},
          "execution_count": 685
        }
      ]
    },
    {
      "cell_type": "markdown",
      "metadata": {
        "id": "1ys_YAETVy1N"
      },
      "source": [
        "Terdapat 8 jenis kategori cuaca"
      ]
    },
    {
      "cell_type": "code",
      "source": [
        "ax, fig = plt.subplots(figsize=(10, 5))\n",
        "sns.countplot(x='cuaca', data=df)"
      ],
      "metadata": {
        "colab": {
          "base_uri": "https://localhost:8080/",
          "height": 486
        },
        "id": "FBGAf8VmGFZm",
        "outputId": "0cb19287-b22c-4e72-e0df-3fe4dbda29e9"
      },
      "execution_count": null,
      "outputs": [
        {
          "output_type": "execute_result",
          "data": {
            "text/plain": [
              "<Axes: xlabel='cuaca', ylabel='count'>"
            ]
          },
          "metadata": {},
          "execution_count": 686
        },
        {
          "output_type": "display_data",
          "data": {
            "text/plain": [
              "<Figure size 1000x500 with 1 Axes>"
            ],
            "image/png": "[encoded data removed]"
          },
          "metadata": {}
        }
      ]
    },
    {
      "cell_type": "markdown",
      "metadata": {
        "id": "x2X7ZSBWVy1O"
      },
      "source": [
        "### Menggunakan Regular Expression untuk mengelompokkan jenis Waktu"
      ]
    },
    {
      "cell_type": "code",
      "source": [
        "ax, fig = plt.subplots(figsize=(10, 5))\n",
        "sns.countplot(x='waktu', data=df)"
      ],
      "metadata": {
        "colab": {
          "base_uri": "https://localhost:8080/",
          "height": 482
        },
        "id": "DCey9t2KHkMY",
        "outputId": "579be048-d77d-41b9-f7f1-bd618dbbd3d6"
      },
      "execution_count": null,
      "outputs": [
        {
          "output_type": "execute_result",
          "data": {
            "text/plain": [
              "<Axes: xlabel='waktu', ylabel='count'>"
            ]
          },
          "metadata": {},
          "execution_count": 687
        },
        {
          "output_type": "display_data",
          "data": {
            "text/plain": [
              "<Figure size 1000x500 with 1 Axes>"
            ],
            "image/png": "[encoded data removed]"
          },
          "metadata": {}
        }
      ]
    },
    {
      "cell_type": "markdown",
      "source": [
        "Visualisasi jenis waktu"
      ],
      "metadata": {
        "id": "WRs_WHtOHnKw"
      }
    },
    {
      "cell_type": "code",
      "execution_count": null,
      "metadata": {
        "colab": {
          "base_uri": "https://localhost:8080/",
          "height": 300
        },
        "id": "4QdIOJK6Vy1O",
        "outputId": "3cf9b538-b59c-433d-8924-eef2a48f8dd7"
      },
      "outputs": [
        {
          "output_type": "execute_result",
          "data": {
            "text/plain": [
              "           waktu\n",
              "Siang       1758\n",
              "Pagi        1758\n",
              "Malam       1758\n",
              "Dini Hari   1758\n",
              "siang        342\n",
              "pagi         342\n",
              "malam        342\n",
              "dini hari    342"
            ],
            "text/html": [
              "\n",
              "  <div id=\"df-e0578e2d-2c27-4e6b-b7ef-9999efcfc8b2\">\n",
              "    <div class=\"colab-df-container\">\n",
              "      <div>\n",
              "<style scoped>\n",
              "    .dataframe tbody tr th:only-of-type {\n",
              "        vertical-align: middle;\n",
              "    }\n",
              "\n",
              "    .dataframe tbody tr th {\n",
              "        vertical-align: top;\n",
              "    }\n",
              "\n",
              "    .dataframe thead th {\n",
              "        text-align: right;\n",
              "    }\n",
              "</style>\n",
              "<table border=\"1\" class=\"dataframe\">\n",
              "  <thead>\n",
              "    <tr style=\"text-align: right;\">\n",
              "      <th></th>\n",
              "      <th>waktu</th>\n",
              "    </tr>\n",
              "  </thead>\n",
              "  <tbody>\n",
              "    <tr>\n",
              "      <th>Siang</th>\n",
              "      <td>1758</td>\n",
              "    </tr>\n",
              "    <tr>\n",
              "      <th>Pagi</th>\n",
              "      <td>1758</td>\n",
              "    </tr>\n",
              "    <tr>\n",
              "      <th>Malam</th>\n",
              "      <td>1758</td>\n",
              "    </tr>\n",
              "    <tr>\n",
              "      <th>Dini Hari</th>\n",
              "      <td>1758</td>\n",
              "    </tr>\n",
              "    <tr>\n",
              "      <th>siang</th>\n",
              "      <td>342</td>\n",
              "    </tr>\n",
              "    <tr>\n",
              "      <th>pagi</th>\n",
              "      <td>342</td>\n",
              "    </tr>\n",
              "    <tr>\n",
              "      <th>malam</th>\n",
              "      <td>342</td>\n",
              "    </tr>\n",
              "    <tr>\n",
              "      <th>dini hari</th>\n",
              "      <td>342</td>\n",
              "    </tr>\n",
              "  </tbody>\n",
              "</table>\n",
              "</div>\n",
              "      <button class=\"colab-df-convert\" onclick=\"convertToInteractive('df-e0578e2d-2c27-4e6b-b7ef-9999efcfc8b2')\"\n",
              "              title=\"Convert this dataframe to an interactive table.\"\n",
              "              style=\"display:none;\">\n",
              "        \n",
              "  <svg xmlns=\"http://www.w3.org/2000/svg\" height=\"24px\"viewBox=\"0 0 24 24\"\n",
              "       width=\"24px\">\n",
              "    <path d=\"M0 0h24v24H0V0z\" fill=\"none\"/>\n",
              "    <path d=\"M18.56 5.44l.94 2.06.94-2.06 2.06-.94-2.06-.94-.94-2.06-.94 2.06-2.06.94zm-11 1L8.5 8.5l.94-2.06 2.06-.94-2.06-.94L8.5 2.5l-.94 2.06-2.06.94zm10 10l.94 2.06.94-2.06 2.06-.94-2.06-.94-.94-2.06-.94 2.06-2.06.94z\"/><path d=\"M17.41 7.96l-1.37-1.37c-.4-.4-.92-.59-1.43-.59-.52 0-1.04.2-1.43.59L10.3 9.45l-7.72 7.72c-.78.78-.78 2.05 0 2.83L4 21.41c.39.39.9.59 1.41.59.51 0 1.02-.2 1.41-.59l7.78-7.78 2.81-2.81c.8-.78.8-2.07 0-2.86zM5.41 20L4 18.59l7.72-7.72 1.47 1.35L5.41 20z\"/>\n",
              "  </svg>\n",
              "      </button>\n",
              "      \n",
              "  <style>\n",
              "    .colab-df-container {\n",
              "      display:flex;\n",
              "      flex-wrap:wrap;\n",
              "      gap: 12px;\n",
              "    }\n",
              "\n",
              "    .colab-df-convert {\n",
              "      background-color: #E8F0FE;\n",
              "      border: none;\n",
              "      border-radius: 50%;\n",
              "      cursor: pointer;\n",
              "      display: none;\n",
              "      fill: #1967D2;\n",
              "      height: 32px;\n",
              "      padding: 0 0 0 0;\n",
              "      width: 32px;\n",
              "    }\n",
              "\n",
              "    .colab-df-convert:hover {\n",
              "      background-color: #E2EBFA;\n",
              "      box-shadow: 0px 1px 2px rgba(60, 64, 67, 0.3), 0px 1px 3px 1px rgba(60, 64, 67, 0.15);\n",
              "      fill: #174EA6;\n",
              "    }\n",
              "\n",
              "    [theme=dark] .colab-df-convert {\n",
              "      background-color: #3B4455;\n",
              "      fill: #D2E3FC;\n",
              "    }\n",
              "\n",
              "    [theme=dark] .colab-df-convert:hover {\n",
              "      background-color: #434B5C;\n",
              "      box-shadow: 0px 1px 3px 1px rgba(0, 0, 0, 0.15);\n",
              "      filter: drop-shadow(0px 1px 2px rgba(0, 0, 0, 0.3));\n",
              "      fill: #FFFFFF;\n",
              "    }\n",
              "  </style>\n",
              "\n",
              "      <script>\n",
              "        const buttonEl =\n",
              "          document.querySelector('#df-e0578e2d-2c27-4e6b-b7ef-9999efcfc8b2 button.colab-df-convert');\n",
              "        buttonEl.style.display =\n",
              "          google.colab.kernel.accessAllowed ? 'block' : 'none';\n",
              "\n",
              "        async function convertToInteractive(key) {\n",
              "          const element = document.querySelector('#df-e0578e2d-2c27-4e6b-b7ef-9999efcfc8b2');\n",
              "          const dataTable =\n",
              "            await google.colab.kernel.invokeFunction('convertToInteractive',\n",
              "                                                     [key], {});\n",
              "          if (!dataTable) return;\n",
              "\n",
              "          const docLinkHtml = 'Like what you see? Visit the ' +\n",
              "            '<a target=\"_blank\" href=https://colab.research.google.com/notebooks/data_table.ipynb>data table notebook</a>'\n",
              "            + ' to learn more about interactive tables.';\n",
              "          element.innerHTML = '';\n",
              "          dataTable['output_type'] = 'display_data';\n",
              "          await google.colab.output.renderOutput(dataTable, element);\n",
              "          const docLink = document.createElement('div');\n",
              "          docLink.innerHTML = docLinkHtml;\n",
              "          element.appendChild(docLink);\n",
              "        }\n",
              "      </script>\n",
              "    </div>\n",
              "  </div>\n",
              "  "
            ]
          },
          "metadata": {},
          "execution_count": 688
        }
      ],
      "source": [
        "kategori_waktu = pd.DataFrame()\n",
        "kategori_waktu['waktu'] = df['waktu'].value_counts()\n",
        "kategori_waktu[['waktu']]"
      ]
    },
    {
      "cell_type": "markdown",
      "metadata": {
        "id": "Nf4NstlLVy1O"
      },
      "source": [
        "Terdapat 8 jenis waktu pengambilan data cuaca sehingga akan dikelompokkan menjadi 4 waktu saja yaitu Siang, Pagi, Malam, dan Dini Hari"
      ]
    },
    {
      "cell_type": "code",
      "execution_count": null,
      "metadata": {
        "colab": {
          "base_uri": "https://localhost:8080/"
        },
        "id": "IUYB7aOTVy1O",
        "outputId": "74d948d7-b7ab-42c3-f8ba-61c5a12be655"
      },
      "outputs": [
        {
          "output_type": "execute_result",
          "data": {
            "text/plain": [
              "Siang        2100\n",
              "Pagi         2100\n",
              "Malam        2100\n",
              "Dini Hari    2100\n",
              "Name: waktu, dtype: int64"
            ]
          },
          "metadata": {},
          "execution_count": 689
        }
      ],
      "source": [
        "import re\n",
        "\n",
        "def cuaca(x):\n",
        "  if (re.findall(\"dini hari\", x)):\n",
        "    return 'Dini Hari'\n",
        "  elif (re.findall(\"siang\", x)):\n",
        "    return 'Siang'\n",
        "  elif (re.findall(\"pagi\", x)):\n",
        "    return 'Pagi'\n",
        "  elif (re.findall(\"malam\", x)):\n",
        "    return 'Malam'\n",
        "  else:\n",
        "    return x\n",
        "\n",
        "df[\"waktu\"] = df['waktu'].apply(cuaca)\n",
        "df[\"waktu\"].value_counts()"
      ]
    },
    {
      "cell_type": "markdown",
      "metadata": {
        "id": "mjw7GaJ1Vy1P"
      },
      "source": [
        "Waktu Siang terdapat 2100 data<br>\n",
        "Waktu Pagi terdapat 2100 data<br>\n",
        "Waktu Malam terdapat 2100 data<br>\n",
        "Waktu Dini Hari terdapat 2100 data<br>"
      ]
    },
    {
      "cell_type": "code",
      "source": [
        "ax, fig = plt.subplots(figsize=(10, 5))\n",
        "sns.countplot(x='waktu', data=df)"
      ],
      "metadata": {
        "colab": {
          "base_uri": "https://localhost:8080/",
          "height": 482
        },
        "id": "ROljS3B3J-XZ",
        "outputId": "55e36a1b-ee53-415a-9895-004a1efe701d"
      },
      "execution_count": null,
      "outputs": [
        {
          "output_type": "execute_result",
          "data": {
            "text/plain": [
              "<Axes: xlabel='waktu', ylabel='count'>"
            ]
          },
          "metadata": {},
          "execution_count": 690
        },
        {
          "output_type": "display_data",
          "data": {
            "text/plain": [
              "<Figure size 1000x500 with 1 Axes>"
            ],
            "image/png": "[encoded data removed]"
          },
          "metadata": {}
        }
      ]
    },
    {
      "cell_type": "markdown",
      "source": [
        "## Feature Engineering"
      ],
      "metadata": {
        "id": "9NGHkrKSyy59"
      }
    },
    {
      "cell_type": "markdown",
      "source": [
        "### kolom kelembaban_persen"
      ],
      "metadata": {
        "id": "lPo01W5ey_sl"
      }
    },
    {
      "cell_type": "markdown",
      "metadata": {
        "id": "0fHR4mnLVy1P"
      },
      "source": [
        "#### Split Data Kelembaban menjadi Kelembaban Minimal dan Maximal"
      ]
    },
    {
      "cell_type": "code",
      "execution_count": null,
      "metadata": {
        "colab": {
          "base_uri": "https://localhost:8080/",
          "height": 206
        },
        "id": "qG_vaem4Vy1P",
        "outputId": "cd7f925e-541b-4098-b778-9fcce26ec83a"
      },
      "outputs": [
        {
          "output_type": "execute_result",
          "data": {
            "text/plain": [
              "      tanggal           wilayah      waktu         cuaca kelembaban_persen  \\\n",
              "0  2018-12-31  Kepulauan Seribu      Siang   Hujan Lokal           70 - 90   \n",
              "1  2018-12-31  Kepulauan Seribu       Pagi   Hujan Lokal           70 - 90   \n",
              "2  2018-12-31  Kepulauan Seribu      Malam   Hujan Lokal           70 - 90   \n",
              "3  2018-12-31  Kepulauan Seribu  Dini Hari  Hujan Ringan           70 - 90   \n",
              "4  2018-12-31     Jakarta Utara      Siang   Hujan Lokal           70 - 90   \n",
              "\n",
              "  suhu_derajat_celcius kelembaban_min kelembaban_max  \n",
              "0              24 - 32             70             90  \n",
              "1              24 - 32             70             90  \n",
              "2              24 - 32             70             90  \n",
              "3              24 - 32             70             90  \n",
              "4              24 - 32             70             90  "
            ],
            "text/html": [
              "\n",
              "  <div id=\"df-45522cd3-24ef-4512-bb19-232aa8b1e1c9\">\n",
              "    <div class=\"colab-df-container\">\n",
              "      <div>\n",
              "<style scoped>\n",
              "    .dataframe tbody tr th:only-of-type {\n",
              "        vertical-align: middle;\n",
              "    }\n",
              "\n",
              "    .dataframe tbody tr th {\n",
              "        vertical-align: top;\n",
              "    }\n",
              "\n",
              "    .dataframe thead th {\n",
              "        text-align: right;\n",
              "    }\n",
              "</style>\n",
              "<table border=\"1\" class=\"dataframe\">\n",
              "  <thead>\n",
              "    <tr style=\"text-align: right;\">\n",
              "      <th></th>\n",
              "      <th>tanggal</th>\n",
              "      <th>wilayah</th>\n",
              "      <th>waktu</th>\n",
              "      <th>cuaca</th>\n",
              "      <th>kelembaban_persen</th>\n",
              "      <th>suhu_derajat_celcius</th>\n",
              "      <th>kelembaban_min</th>\n",
              "      <th>kelembaban_max</th>\n",
              "    </tr>\n",
              "  </thead>\n",
              "  <tbody>\n",
              "    <tr>\n",
              "      <th>0</th>\n",
              "      <td>2018-12-31</td>\n",
              "      <td>Kepulauan Seribu</td>\n",
              "      <td>Siang</td>\n",
              "      <td>Hujan Lokal</td>\n",
              "      <td>70 - 90</td>\n",
              "      <td>24 - 32</td>\n",
              "      <td>70</td>\n",
              "      <td>90</td>\n",
              "    </tr>\n",
              "    <tr>\n",
              "      <th>1</th>\n",
              "      <td>2018-12-31</td>\n",
              "      <td>Kepulauan Seribu</td>\n",
              "      <td>Pagi</td>\n",
              "      <td>Hujan Lokal</td>\n",
              "      <td>70 - 90</td>\n",
              "      <td>24 - 32</td>\n",
              "      <td>70</td>\n",
              "      <td>90</td>\n",
              "    </tr>\n",
              "    <tr>\n",
              "      <th>2</th>\n",
              "      <td>2018-12-31</td>\n",
              "      <td>Kepulauan Seribu</td>\n",
              "      <td>Malam</td>\n",
              "      <td>Hujan Lokal</td>\n",
              "      <td>70 - 90</td>\n",
              "      <td>24 - 32</td>\n",
              "      <td>70</td>\n",
              "      <td>90</td>\n",
              "    </tr>\n",
              "    <tr>\n",
              "      <th>3</th>\n",
              "      <td>2018-12-31</td>\n",
              "      <td>Kepulauan Seribu</td>\n",
              "      <td>Dini Hari</td>\n",
              "      <td>Hujan Ringan</td>\n",
              "      <td>70 - 90</td>\n",
              "      <td>24 - 32</td>\n",
              "      <td>70</td>\n",
              "      <td>90</td>\n",
              "    </tr>\n",
              "    <tr>\n",
              "      <th>4</th>\n",
              "      <td>2018-12-31</td>\n",
              "      <td>Jakarta Utara</td>\n",
              "      <td>Siang</td>\n",
              "      <td>Hujan Lokal</td>\n",
              "      <td>70 - 90</td>\n",
              "      <td>24 - 32</td>\n",
              "      <td>70</td>\n",
              "      <td>90</td>\n",
              "    </tr>\n",
              "  </tbody>\n",
              "</table>\n",
              "</div>\n",
              "      <button class=\"colab-df-convert\" onclick=\"convertToInteractive('df-45522cd3-24ef-4512-bb19-232aa8b1e1c9')\"\n",
              "              title=\"Convert this dataframe to an interactive table.\"\n",
              "              style=\"display:none;\">\n",
              "        \n",
              "  <svg xmlns=\"http://www.w3.org/2000/svg\" height=\"24px\"viewBox=\"0 0 24 24\"\n",
              "       width=\"24px\">\n",
              "    <path d=\"M0 0h24v24H0V0z\" fill=\"none\"/>\n",
              "    <path d=\"M18.56 5.44l.94 2.06.94-2.06 2.06-.94-2.06-.94-.94-2.06-.94 2.06-2.06.94zm-11 1L8.5 8.5l.94-2.06 2.06-.94-2.06-.94L8.5 2.5l-.94 2.06-2.06.94zm10 10l.94 2.06.94-2.06 2.06-.94-2.06-.94-.94-2.06-.94 2.06-2.06.94z\"/><path d=\"M17.41 7.96l-1.37-1.37c-.4-.4-.92-.59-1.43-.59-.52 0-1.04.2-1.43.59L10.3 9.45l-7.72 7.72c-.78.78-.78 2.05 0 2.83L4 21.41c.39.39.9.59 1.41.59.51 0 1.02-.2 1.41-.59l7.78-7.78 2.81-2.81c.8-.78.8-2.07 0-2.86zM5.41 20L4 18.59l7.72-7.72 1.47 1.35L5.41 20z\"/>\n",
              "  </svg>\n",
              "      </button>\n",
              "      \n",
              "  <style>\n",
              "    .colab-df-container {\n",
              "      display:flex;\n",
              "      flex-wrap:wrap;\n",
              "      gap: 12px;\n",
              "    }\n",
              "\n",
              "    .colab-df-convert {\n",
              "      background-color: #E8F0FE;\n",
              "      border: none;\n",
              "      border-radius: 50%;\n",
              "      cursor: pointer;\n",
              "      display: none;\n",
              "      fill: #1967D2;\n",
              "      height: 32px;\n",
              "      padding: 0 0 0 0;\n",
              "      width: 32px;\n",
              "    }\n",
              "\n",
              "    .colab-df-convert:hover {\n",
              "      background-color: #E2EBFA;\n",
              "      box-shadow: 0px 1px 2px rgba(60, 64, 67, 0.3), 0px 1px 3px 1px rgba(60, 64, 67, 0.15);\n",
              "      fill: #174EA6;\n",
              "    }\n",
              "\n",
              "    [theme=dark] .colab-df-convert {\n",
              "      background-color: #3B4455;\n",
              "      fill: #D2E3FC;\n",
              "    }\n",
              "\n",
              "    [theme=dark] .colab-df-convert:hover {\n",
              "      background-color: #434B5C;\n",
              "      box-shadow: 0px 1px 3px 1px rgba(0, 0, 0, 0.15);\n",
              "      filter: drop-shadow(0px 1px 2px rgba(0, 0, 0, 0.3));\n",
              "      fill: #FFFFFF;\n",
              "    }\n",
              "  </style>\n",
              "\n",
              "      <script>\n",
              "        const buttonEl =\n",
              "          document.querySelector('#df-45522cd3-24ef-4512-bb19-232aa8b1e1c9 button.colab-df-convert');\n",
              "        buttonEl.style.display =\n",
              "          google.colab.kernel.accessAllowed ? 'block' : 'none';\n",
              "\n",
              "        async function convertToInteractive(key) {\n",
              "          const element = document.querySelector('#df-45522cd3-24ef-4512-bb19-232aa8b1e1c9');\n",
              "          const dataTable =\n",
              "            await google.colab.kernel.invokeFunction('convertToInteractive',\n",
              "                                                     [key], {});\n",
              "          if (!dataTable) return;\n",
              "\n",
              "          const docLinkHtml = 'Like what you see? Visit the ' +\n",
              "            '<a target=\"_blank\" href=https://colab.research.google.com/notebooks/data_table.ipynb>data table notebook</a>'\n",
              "            + ' to learn more about interactive tables.';\n",
              "          element.innerHTML = '';\n",
              "          dataTable['output_type'] = 'display_data';\n",
              "          await google.colab.output.renderOutput(dataTable, element);\n",
              "          const docLink = document.createElement('div');\n",
              "          docLink.innerHTML = docLinkHtml;\n",
              "          element.appendChild(docLink);\n",
              "        }\n",
              "      </script>\n",
              "    </div>\n",
              "  </div>\n",
              "  "
            ]
          },
          "metadata": {},
          "execution_count": 691
        }
      ],
      "source": [
        "df[\"kelembaban_min\"] = df['kelembaban_persen'].apply(lambda x: x.split(\"-\")[0])\n",
        "df[\"kelembaban_min\"] = [x.strip(' ') for x in df[\"kelembaban_min\"]]\n",
        "\n",
        "df[\"kelembaban_max\"] = df['kelembaban_persen'].apply(lambda x: x.split(\"-\")[1])\n",
        "df[\"kelembaban_max\"] = [x.strip(' ') for x in df[\"kelembaban_max\"]]\n",
        "\n",
        "df.head()"
      ]
    },
    {
      "cell_type": "markdown",
      "metadata": {
        "id": "1d7znL8DVy1P"
      },
      "source": [
        "Membuat kolom kelembaban_min dengan mengambil nilai terkecil dari kolom kelembaban_persen<br>\n",
        "Membuat kolom kelembaban_max dengan mengambil nilai terbesar dari kolom kelembaban_persen<br>\n",
        "<br>\n",
        "Dengan split data pada kolom kelembaban_persen agar terbagi menjadi 2 bagian untuk bagian kiri untuk nilai minimal dan bagian kanan untuk nilai maksimal"
      ]
    },
    {
      "cell_type": "markdown",
      "source": [
        "#### Membuat kolom kelembaban_mean"
      ],
      "metadata": {
        "id": "ibzGy0dIy3aO"
      }
    },
    {
      "cell_type": "code",
      "source": [
        "df['kelembaban_mean'] = (df['kelembaban_min'].astype(int) + df['kelembaban_max'].astype(int)) / 2\n",
        "\n",
        "df.drop(columns=['kelembaban_persen'], inplace=True)"
      ],
      "metadata": {
        "id": "QMLW3n3WOQvg"
      },
      "execution_count": null,
      "outputs": []
    },
    {
      "cell_type": "markdown",
      "source": [
        "Membuat kolom kelembaban_mean untuk menampung nilai rata-rata pada interval minimal dan maksimal,<br>\n",
        "Lalu membuang kolom kelembaban_persen<br>\n",
        "Karena informasi pada kolom tersebut sudah diwakili oleh kolom baru yang dibuat"
      ],
      "metadata": {
        "id": "XUeWU2ZkOSJI"
      }
    },
    {
      "cell_type": "markdown",
      "metadata": {
        "id": "EoIEGy2vVy1Q"
      },
      "source": [
        "#### Melihat Masing Masing Data dari Kelembaban Minimal, Maksimal dan Rata-Rata"
      ]
    },
    {
      "cell_type": "code",
      "execution_count": null,
      "metadata": {
        "colab": {
          "base_uri": "https://localhost:8080/"
        },
        "id": "m9MHjgiGVy1Q",
        "outputId": "0c7c24ad-b143-47e3-fb03-c26cb33b1b5d"
      },
      "outputs": [
        {
          "output_type": "stream",
          "name": "stdout",
          "text": [
            "Kelembaban Min\n",
            "70    1728\n",
            "55    1296\n",
            "65    1272\n",
            "60    1224\n",
            "75     840\n",
            "45     624\n",
            "50     600\n",
            "80     480\n",
            "40     192\n",
            "35      96\n",
            "85      48\n",
            "Name: kelembaban_min, dtype: int64 \n",
            "\n",
            "Kelembaban Max\n",
            "95     3264\n",
            "90     2376\n",
            "85     1128\n",
            "100    1032\n",
            "80      504\n",
            "75       96\n",
            "Name: kelembaban_max, dtype: int64 \n",
            "\n",
            "Kelembaban Mean\n",
            "80.0    1296\n",
            "82.5    1296\n",
            "85.0     864\n",
            "72.5     792\n",
            "70.0     744\n",
            "75.0     720\n",
            "77.5     696\n",
            "67.5     528\n",
            "87.5     360\n",
            "62.5     336\n",
            "90.0     312\n",
            "65.0     264\n",
            "57.5      72\n",
            "55.0      48\n",
            "60.0      48\n",
            "92.5      24\n",
            "Name: kelembaban_mean, dtype: int64\n"
          ]
        }
      ],
      "source": [
        "print('Kelembaban Min')\n",
        "print(df['kelembaban_min'].value_counts(), '\\n')\n",
        "\n",
        "print('Kelembaban Max')\n",
        "print(df['kelembaban_max'].value_counts(), '\\n')\n",
        "\n",
        "print('Kelembaban Mean')\n",
        "print(df['kelembaban_mean'].value_counts())"
      ]
    },
    {
      "cell_type": "markdown",
      "source": [
        "### kolom suhu_derajat_celcius"
      ],
      "metadata": {
        "id": "rPdWzaEmzJac"
      }
    },
    {
      "cell_type": "markdown",
      "metadata": {
        "id": "_eRUWP_XVy1Q"
      },
      "source": [
        "#### Split Data Suhu menjadi Suhu Minimal dan Maximal"
      ]
    },
    {
      "cell_type": "code",
      "execution_count": null,
      "metadata": {
        "colab": {
          "base_uri": "https://localhost:8080/",
          "height": 206
        },
        "id": "KnBz33cEVy1Q",
        "outputId": "fc014be7-171c-4abe-860b-86cf70a47544"
      },
      "outputs": [
        {
          "output_type": "execute_result",
          "data": {
            "text/plain": [
              "      tanggal           wilayah      waktu         cuaca suhu_derajat_celcius  \\\n",
              "0  2018-12-31  Kepulauan Seribu      Siang   Hujan Lokal              24 - 32   \n",
              "1  2018-12-31  Kepulauan Seribu       Pagi   Hujan Lokal              24 - 32   \n",
              "2  2018-12-31  Kepulauan Seribu      Malam   Hujan Lokal              24 - 32   \n",
              "3  2018-12-31  Kepulauan Seribu  Dini Hari  Hujan Ringan              24 - 32   \n",
              "4  2018-12-31     Jakarta Utara      Siang   Hujan Lokal              24 - 32   \n",
              "\n",
              "  kelembaban_min kelembaban_max  kelembaban_mean suhu_min suhu_max  \n",
              "0             70             90             80.0       24       32  \n",
              "1             70             90             80.0       24       32  \n",
              "2             70             90             80.0       24       32  \n",
              "3             70             90             80.0       24       32  \n",
              "4             70             90             80.0       24       32  "
            ],
            "text/html": [
              "\n",
              "  <div id=\"df-ef16b6de-4f9d-4ab6-a143-8374b153ab98\">\n",
              "    <div class=\"colab-df-container\">\n",
              "      <div>\n",
              "<style scoped>\n",
              "    .dataframe tbody tr th:only-of-type {\n",
              "        vertical-align: middle;\n",
              "    }\n",
              "\n",
              "    .dataframe tbody tr th {\n",
              "        vertical-align: top;\n",
              "    }\n",
              "\n",
              "    .dataframe thead th {\n",
              "        text-align: right;\n",
              "    }\n",
              "</style>\n",
              "<table border=\"1\" class=\"dataframe\">\n",
              "  <thead>\n",
              "    <tr style=\"text-align: right;\">\n",
              "      <th></th>\n",
              "      <th>tanggal</th>\n",
              "      <th>wilayah</th>\n",
              "      <th>waktu</th>\n",
              "      <th>cuaca</th>\n",
              "      <th>suhu_derajat_celcius</th>\n",
              "      <th>kelembaban_min</th>\n",
              "      <th>kelembaban_max</th>\n",
              "      <th>kelembaban_mean</th>\n",
              "      <th>suhu_min</th>\n",
              "      <th>suhu_max</th>\n",
              "    </tr>\n",
              "  </thead>\n",
              "  <tbody>\n",
              "    <tr>\n",
              "      <th>0</th>\n",
              "      <td>2018-12-31</td>\n",
              "      <td>Kepulauan Seribu</td>\n",
              "      <td>Siang</td>\n",
              "      <td>Hujan Lokal</td>\n",
              "      <td>24 - 32</td>\n",
              "      <td>70</td>\n",
              "      <td>90</td>\n",
              "      <td>80.0</td>\n",
              "      <td>24</td>\n",
              "      <td>32</td>\n",
              "    </tr>\n",
              "    <tr>\n",
              "      <th>1</th>\n",
              "      <td>2018-12-31</td>\n",
              "      <td>Kepulauan Seribu</td>\n",
              "      <td>Pagi</td>\n",
              "      <td>Hujan Lokal</td>\n",
              "      <td>24 - 32</td>\n",
              "      <td>70</td>\n",
              "      <td>90</td>\n",
              "      <td>80.0</td>\n",
              "      <td>24</td>\n",
              "      <td>32</td>\n",
              "    </tr>\n",
              "    <tr>\n",
              "      <th>2</th>\n",
              "      <td>2018-12-31</td>\n",
              "      <td>Kepulauan Seribu</td>\n",
              "      <td>Malam</td>\n",
              "      <td>Hujan Lokal</td>\n",
              "      <td>24 - 32</td>\n",
              "      <td>70</td>\n",
              "      <td>90</td>\n",
              "      <td>80.0</td>\n",
              "      <td>24</td>\n",
              "      <td>32</td>\n",
              "    </tr>\n",
              "    <tr>\n",
              "      <th>3</th>\n",
              "      <td>2018-12-31</td>\n",
              "      <td>Kepulauan Seribu</td>\n",
              "      <td>Dini Hari</td>\n",
              "      <td>Hujan Ringan</td>\n",
              "      <td>24 - 32</td>\n",
              "      <td>70</td>\n",
              "      <td>90</td>\n",
              "      <td>80.0</td>\n",
              "      <td>24</td>\n",
              "      <td>32</td>\n",
              "    </tr>\n",
              "    <tr>\n",
              "      <th>4</th>\n",
              "      <td>2018-12-31</td>\n",
              "      <td>Jakarta Utara</td>\n",
              "      <td>Siang</td>\n",
              "      <td>Hujan Lokal</td>\n",
              "      <td>24 - 32</td>\n",
              "      <td>70</td>\n",
              "      <td>90</td>\n",
              "      <td>80.0</td>\n",
              "      <td>24</td>\n",
              "      <td>32</td>\n",
              "    </tr>\n",
              "  </tbody>\n",
              "</table>\n",
              "</div>\n",
              "      <button class=\"colab-df-convert\" onclick=\"convertToInteractive('df-ef16b6de-4f9d-4ab6-a143-8374b153ab98')\"\n",
              "              title=\"Convert this dataframe to an interactive table.\"\n",
              "              style=\"display:none;\">\n",
              "        \n",
              "  <svg xmlns=\"http://www.w3.org/2000/svg\" height=\"24px\"viewBox=\"0 0 24 24\"\n",
              "       width=\"24px\">\n",
              "    <path d=\"M0 0h24v24H0V0z\" fill=\"none\"/>\n",
              "    <path d=\"M18.56 5.44l.94 2.06.94-2.06 2.06-.94-2.06-.94-.94-2.06-.94 2.06-2.06.94zm-11 1L8.5 8.5l.94-2.06 2.06-.94-2.06-.94L8.5 2.5l-.94 2.06-2.06.94zm10 10l.94 2.06.94-2.06 2.06-.94-2.06-.94-.94-2.06-.94 2.06-2.06.94z\"/><path d=\"M17.41 7.96l-1.37-1.37c-.4-.4-.92-.59-1.43-.59-.52 0-1.04.2-1.43.59L10.3 9.45l-7.72 7.72c-.78.78-.78 2.05 0 2.83L4 21.41c.39.39.9.59 1.41.59.51 0 1.02-.2 1.41-.59l7.78-7.78 2.81-2.81c.8-.78.8-2.07 0-2.86zM5.41 20L4 18.59l7.72-7.72 1.47 1.35L5.41 20z\"/>\n",
              "  </svg>\n",
              "      </button>\n",
              "      \n",
              "  <style>\n",
              "    .colab-df-container {\n",
              "      display:flex;\n",
              "      flex-wrap:wrap;\n",
              "      gap: 12px;\n",
              "    }\n",
              "\n",
              "    .colab-df-convert {\n",
              "      background-color: #E8F0FE;\n",
              "      border: none;\n",
              "      border-radius: 50%;\n",
              "      cursor: pointer;\n",
              "      display: none;\n",
              "      fill: #1967D2;\n",
              "      height: 32px;\n",
              "      padding: 0 0 0 0;\n",
              "      width: 32px;\n",
              "    }\n",
              "\n",
              "    .colab-df-convert:hover {\n",
              "      background-color: #E2EBFA;\n",
              "      box-shadow: 0px 1px 2px rgba(60, 64, 67, 0.3), 0px 1px 3px 1px rgba(60, 64, 67, 0.15);\n",
              "      fill: #174EA6;\n",
              "    }\n",
              "\n",
              "    [theme=dark] .colab-df-convert {\n",
              "      background-color: #3B4455;\n",
              "      fill: #D2E3FC;\n",
              "    }\n",
              "\n",
              "    [theme=dark] .colab-df-convert:hover {\n",
              "      background-color: #434B5C;\n",
              "      box-shadow: 0px 1px 3px 1px rgba(0, 0, 0, 0.15);\n",
              "      filter: drop-shadow(0px 1px 2px rgba(0, 0, 0, 0.3));\n",
              "      fill: #FFFFFF;\n",
              "    }\n",
              "  </style>\n",
              "\n",
              "      <script>\n",
              "        const buttonEl =\n",
              "          document.querySelector('#df-ef16b6de-4f9d-4ab6-a143-8374b153ab98 button.colab-df-convert');\n",
              "        buttonEl.style.display =\n",
              "          google.colab.kernel.accessAllowed ? 'block' : 'none';\n",
              "\n",
              "        async function convertToInteractive(key) {\n",
              "          const element = document.querySelector('#df-ef16b6de-4f9d-4ab6-a143-8374b153ab98');\n",
              "          const dataTable =\n",
              "            await google.colab.kernel.invokeFunction('convertToInteractive',\n",
              "                                                     [key], {});\n",
              "          if (!dataTable) return;\n",
              "\n",
              "          const docLinkHtml = 'Like what you see? Visit the ' +\n",
              "            '<a target=\"_blank\" href=https://colab.research.google.com/notebooks/data_table.ipynb>data table notebook</a>'\n",
              "            + ' to learn more about interactive tables.';\n",
              "          element.innerHTML = '';\n",
              "          dataTable['output_type'] = 'display_data';\n",
              "          await google.colab.output.renderOutput(dataTable, element);\n",
              "          const docLink = document.createElement('div');\n",
              "          docLink.innerHTML = docLinkHtml;\n",
              "          element.appendChild(docLink);\n",
              "        }\n",
              "      </script>\n",
              "    </div>\n",
              "  </div>\n",
              "  "
            ]
          },
          "metadata": {},
          "execution_count": 694
        }
      ],
      "source": [
        "df[\"suhu_min\"] = df.suhu_derajat_celcius.apply(lambda x: x.split(\"-\")[0])\n",
        "df[\"suhu_min\"] = [x.strip(' ') for x in df[\"suhu_min\"]]\n",
        "\n",
        "df[\"suhu_max\"] = df.suhu_derajat_celcius.apply(lambda x: x.split(\"-\")[1])\n",
        "df[\"suhu_max\"] = [x.strip(' ') for x in df[\"suhu_max\"]]\n",
        "\n",
        "df.head()"
      ]
    },
    {
      "cell_type": "markdown",
      "metadata": {
        "id": "HWu2FieJVy1R"
      },
      "source": [
        "Membuat kolom suhu_min dengan mengambil nilai terkecil dari kolom suhu_derajat_celcius<br>\n",
        "Membuat kolom suhu_max dengan mengambil nilai terbesar dari kolom suhu_derajat_celcius<br>\n",
        "<br>\n",
        "Dengan split data pada kolom suhu_derajat_celcius agar terbagi menjadi 2 bagian untuk bagian kiri untuk nilai minimal dan bagian kanan untuk nilai maksimal"
      ]
    },
    {
      "cell_type": "markdown",
      "source": [
        "#### Membuat kolom suhu_mean"
      ],
      "metadata": {
        "id": "fKyqlrFZzPXe"
      }
    },
    {
      "cell_type": "code",
      "source": [
        "df['suhu_mean'] = (df['suhu_min'].astype(int) + df['suhu_max'].astype(int)) / 2\n",
        "\n",
        "df.drop(columns=['suhu_derajat_celcius'], inplace=True)"
      ],
      "metadata": {
        "id": "ztclZR2fOJi4"
      },
      "execution_count": null,
      "outputs": []
    },
    {
      "cell_type": "markdown",
      "source": [
        "Membuat kolom suhu_mean untuk menampung nilai rata-rata pada interval minimal dan maksimal,<br>\n",
        "Lalu membuang kolom suhu_derajat_celcius<br>\n",
        "Karena informasi pada kolom tersebut sudah diwakili oleh kolom baru yang dibuat"
      ],
      "metadata": {
        "id": "dQKeBW7WO8_z"
      }
    },
    {
      "cell_type": "markdown",
      "metadata": {
        "id": "genKRJ-5Vy1R"
      },
      "source": [
        "#### Melihat Masing Masing Data dari Suhu Minimal, Maksimal dan Rata-Rata"
      ]
    },
    {
      "cell_type": "code",
      "execution_count": null,
      "metadata": {
        "colab": {
          "base_uri": "https://localhost:8080/"
        },
        "id": "VnI4WjwFVy1R",
        "outputId": "cb77aac6-bf64-497b-feff-8d18a67acbbc"
      },
      "outputs": [
        {
          "output_type": "stream",
          "name": "stdout",
          "text": [
            "Suhu Min\n",
            "24    4104\n",
            "23    3072\n",
            "25     576\n",
            "22     552\n",
            "21      48\n",
            "20      24\n",
            "26      24\n",
            "Name: suhu_min, dtype: int64 \n",
            "\n",
            "Suhu Max\n",
            "33    3432\n",
            "32    1992\n",
            "34    1440\n",
            "31     696\n",
            "30     360\n",
            "35     288\n",
            "29     120\n",
            "28      72\n",
            "Name: suhu_max, dtype: int64 \n",
            "\n",
            "Suhu Mean\n",
            "28.0    2064\n",
            "28.5    1992\n",
            "27.5    1656\n",
            "29.0    1392\n",
            "27.0     720\n",
            "26.5     216\n",
            "29.5     144\n",
            "30.0      96\n",
            "26.0      72\n",
            "25.5      48\n",
            "Name: suhu_mean, dtype: int64\n"
          ]
        }
      ],
      "source": [
        "print('Suhu Min')\n",
        "print(df['suhu_min'].value_counts(), '\\n')\n",
        "\n",
        "print('Suhu Max')\n",
        "print(df['suhu_max'].value_counts(), '\\n')\n",
        "\n",
        "print('Suhu Mean')\n",
        "print(df['suhu_mean'].value_counts())"
      ]
    },
    {
      "cell_type": "code",
      "source": [
        "df.head()"
      ],
      "metadata": {
        "colab": {
          "base_uri": "https://localhost:8080/",
          "height": 206
        },
        "id": "6fcwTOV8POlR",
        "outputId": "5fb38724-13c9-42df-e43a-f18095d1311c"
      },
      "execution_count": null,
      "outputs": [
        {
          "output_type": "execute_result",
          "data": {
            "text/plain": [
              "      tanggal           wilayah      waktu         cuaca kelembaban_min  \\\n",
              "0  2018-12-31  Kepulauan Seribu      Siang   Hujan Lokal             70   \n",
              "1  2018-12-31  Kepulauan Seribu       Pagi   Hujan Lokal             70   \n",
              "2  2018-12-31  Kepulauan Seribu      Malam   Hujan Lokal             70   \n",
              "3  2018-12-31  Kepulauan Seribu  Dini Hari  Hujan Ringan             70   \n",
              "4  2018-12-31     Jakarta Utara      Siang   Hujan Lokal             70   \n",
              "\n",
              "  kelembaban_max  kelembaban_mean suhu_min suhu_max  suhu_mean  \n",
              "0             90             80.0       24       32       28.0  \n",
              "1             90             80.0       24       32       28.0  \n",
              "2             90             80.0       24       32       28.0  \n",
              "3             90             80.0       24       32       28.0  \n",
              "4             90             80.0       24       32       28.0  "
            ],
            "text/html": [
              "\n",
              "  <div id=\"df-13071ba3-b808-4918-98e0-a31a36f8d75b\">\n",
              "    <div class=\"colab-df-container\">\n",
              "      <div>\n",
              "<style scoped>\n",
              "    .dataframe tbody tr th:only-of-type {\n",
              "        vertical-align: middle;\n",
              "    }\n",
              "\n",
              "    .dataframe tbody tr th {\n",
              "        vertical-align: top;\n",
              "    }\n",
              "\n",
              "    .dataframe thead th {\n",
              "        text-align: right;\n",
              "    }\n",
              "</style>\n",
              "<table border=\"1\" class=\"dataframe\">\n",
              "  <thead>\n",
              "    <tr style=\"text-align: right;\">\n",
              "      <th></th>\n",
              "      <th>tanggal</th>\n",
              "      <th>wilayah</th>\n",
              "      <th>waktu</th>\n",
              "      <th>cuaca</th>\n",
              "      <th>kelembaban_min</th>\n",
              "      <th>kelembaban_max</th>\n",
              "      <th>kelembaban_mean</th>\n",
              "      <th>suhu_min</th>\n",
              "      <th>suhu_max</th>\n",
              "      <th>suhu_mean</th>\n",
              "    </tr>\n",
              "  </thead>\n",
              "  <tbody>\n",
              "    <tr>\n",
              "      <th>0</th>\n",
              "      <td>2018-12-31</td>\n",
              "      <td>Kepulauan Seribu</td>\n",
              "      <td>Siang</td>\n",
              "      <td>Hujan Lokal</td>\n",
              "      <td>70</td>\n",
              "      <td>90</td>\n",
              "      <td>80.0</td>\n",
              "      <td>24</td>\n",
              "      <td>32</td>\n",
              "      <td>28.0</td>\n",
              "    </tr>\n",
              "    <tr>\n",
              "      <th>1</th>\n",
              "      <td>2018-12-31</td>\n",
              "      <td>Kepulauan Seribu</td>\n",
              "      <td>Pagi</td>\n",
              "      <td>Hujan Lokal</td>\n",
              "      <td>70</td>\n",
              "      <td>90</td>\n",
              "      <td>80.0</td>\n",
              "      <td>24</td>\n",
              "      <td>32</td>\n",
              "      <td>28.0</td>\n",
              "    </tr>\n",
              "    <tr>\n",
              "      <th>2</th>\n",
              "      <td>2018-12-31</td>\n",
              "      <td>Kepulauan Seribu</td>\n",
              "      <td>Malam</td>\n",
              "      <td>Hujan Lokal</td>\n",
              "      <td>70</td>\n",
              "      <td>90</td>\n",
              "      <td>80.0</td>\n",
              "      <td>24</td>\n",
              "      <td>32</td>\n",
              "      <td>28.0</td>\n",
              "    </tr>\n",
              "    <tr>\n",
              "      <th>3</th>\n",
              "      <td>2018-12-31</td>\n",
              "      <td>Kepulauan Seribu</td>\n",
              "      <td>Dini Hari</td>\n",
              "      <td>Hujan Ringan</td>\n",
              "      <td>70</td>\n",
              "      <td>90</td>\n",
              "      <td>80.0</td>\n",
              "      <td>24</td>\n",
              "      <td>32</td>\n",
              "      <td>28.0</td>\n",
              "    </tr>\n",
              "    <tr>\n",
              "      <th>4</th>\n",
              "      <td>2018-12-31</td>\n",
              "      <td>Jakarta Utara</td>\n",
              "      <td>Siang</td>\n",
              "      <td>Hujan Lokal</td>\n",
              "      <td>70</td>\n",
              "      <td>90</td>\n",
              "      <td>80.0</td>\n",
              "      <td>24</td>\n",
              "      <td>32</td>\n",
              "      <td>28.0</td>\n",
              "    </tr>\n",
              "  </tbody>\n",
              "</table>\n",
              "</div>\n",
              "      <button class=\"colab-df-convert\" onclick=\"convertToInteractive('df-13071ba3-b808-4918-98e0-a31a36f8d75b')\"\n",
              "              title=\"Convert this dataframe to an interactive table.\"\n",
              "              style=\"display:none;\">\n",
              "        \n",
              "  <svg xmlns=\"http://www.w3.org/2000/svg\" height=\"24px\"viewBox=\"0 0 24 24\"\n",
              "       width=\"24px\">\n",
              "    <path d=\"M0 0h24v24H0V0z\" fill=\"none\"/>\n",
              "    <path d=\"M18.56 5.44l.94 2.06.94-2.06 2.06-.94-2.06-.94-.94-2.06-.94 2.06-2.06.94zm-11 1L8.5 8.5l.94-2.06 2.06-.94-2.06-.94L8.5 2.5l-.94 2.06-2.06.94zm10 10l.94 2.06.94-2.06 2.06-.94-2.06-.94-.94-2.06-.94 2.06-2.06.94z\"/><path d=\"M17.41 7.96l-1.37-1.37c-.4-.4-.92-.59-1.43-.59-.52 0-1.04.2-1.43.59L10.3 9.45l-7.72 7.72c-.78.78-.78 2.05 0 2.83L4 21.41c.39.39.9.59 1.41.59.51 0 1.02-.2 1.41-.59l7.78-7.78 2.81-2.81c.8-.78.8-2.07 0-2.86zM5.41 20L4 18.59l7.72-7.72 1.47 1.35L5.41 20z\"/>\n",
              "  </svg>\n",
              "      </button>\n",
              "      \n",
              "  <style>\n",
              "    .colab-df-container {\n",
              "      display:flex;\n",
              "      flex-wrap:wrap;\n",
              "      gap: 12px;\n",
              "    }\n",
              "\n",
              "    .colab-df-convert {\n",
              "      background-color: #E8F0FE;\n",
              "      border: none;\n",
              "      border-radius: 50%;\n",
              "      cursor: pointer;\n",
              "      display: none;\n",
              "      fill: #1967D2;\n",
              "      height: 32px;\n",
              "      padding: 0 0 0 0;\n",
              "      width: 32px;\n",
              "    }\n",
              "\n",
              "    .colab-df-convert:hover {\n",
              "      background-color: #E2EBFA;\n",
              "      box-shadow: 0px 1px 2px rgba(60, 64, 67, 0.3), 0px 1px 3px 1px rgba(60, 64, 67, 0.15);\n",
              "      fill: #174EA6;\n",
              "    }\n",
              "\n",
              "    [theme=dark] .colab-df-convert {\n",
              "      background-color: #3B4455;\n",
              "      fill: #D2E3FC;\n",
              "    }\n",
              "\n",
              "    [theme=dark] .colab-df-convert:hover {\n",
              "      background-color: #434B5C;\n",
              "      box-shadow: 0px 1px 3px 1px rgba(0, 0, 0, 0.15);\n",
              "      filter: drop-shadow(0px 1px 2px rgba(0, 0, 0, 0.3));\n",
              "      fill: #FFFFFF;\n",
              "    }\n",
              "  </style>\n",
              "\n",
              "      <script>\n",
              "        const buttonEl =\n",
              "          document.querySelector('#df-13071ba3-b808-4918-98e0-a31a36f8d75b button.colab-df-convert');\n",
              "        buttonEl.style.display =\n",
              "          google.colab.kernel.accessAllowed ? 'block' : 'none';\n",
              "\n",
              "        async function convertToInteractive(key) {\n",
              "          const element = document.querySelector('#df-13071ba3-b808-4918-98e0-a31a36f8d75b');\n",
              "          const dataTable =\n",
              "            await google.colab.kernel.invokeFunction('convertToInteractive',\n",
              "                                                     [key], {});\n",
              "          if (!dataTable) return;\n",
              "\n",
              "          const docLinkHtml = 'Like what you see? Visit the ' +\n",
              "            '<a target=\"_blank\" href=https://colab.research.google.com/notebooks/data_table.ipynb>data table notebook</a>'\n",
              "            + ' to learn more about interactive tables.';\n",
              "          element.innerHTML = '';\n",
              "          dataTable['output_type'] = 'display_data';\n",
              "          await google.colab.output.renderOutput(dataTable, element);\n",
              "          const docLink = document.createElement('div');\n",
              "          docLink.innerHTML = docLinkHtml;\n",
              "          element.appendChild(docLink);\n",
              "        }\n",
              "      </script>\n",
              "    </div>\n",
              "  </div>\n",
              "  "
            ]
          },
          "metadata": {},
          "execution_count": 697
        }
      ]
    },
    {
      "cell_type": "markdown",
      "metadata": {
        "id": "KPiGPb7QVy1R"
      },
      "source": [
        "## Mengubah Tipe Data yang tidak sesuai"
      ]
    },
    {
      "cell_type": "markdown",
      "metadata": {
        "id": "P0IikxLAVy1R"
      },
      "source": [
        "#### Melihat Tipe Data setiap Kolom"
      ]
    },
    {
      "cell_type": "code",
      "execution_count": null,
      "metadata": {
        "colab": {
          "base_uri": "https://localhost:8080/"
        },
        "id": "PDOc3QoNVy1S",
        "outputId": "0e5e4a58-aceb-4ed4-9093-a5c959358b69"
      },
      "outputs": [
        {
          "output_type": "execute_result",
          "data": {
            "text/plain": [
              "tanggal             object\n",
              "wilayah             object\n",
              "waktu               object\n",
              "cuaca               object\n",
              "kelembaban_min      object\n",
              "kelembaban_max      object\n",
              "kelembaban_mean    float64\n",
              "suhu_min            object\n",
              "suhu_max            object\n",
              "suhu_mean          float64\n",
              "dtype: object"
            ]
          },
          "metadata": {},
          "execution_count": 698
        }
      ],
      "source": [
        "df.dtypes"
      ]
    },
    {
      "cell_type": "markdown",
      "metadata": {
        "id": "q-UzGW_AVy1S"
      },
      "source": [
        "Memperbaiki jenis tipe data sesuai dengan isi dari data pada kolom tersebut"
      ]
    },
    {
      "cell_type": "markdown",
      "metadata": {
        "id": "IgP419OcVy1S"
      },
      "source": [
        "#### Mengubah Tipe data yang tidak sesuai"
      ]
    },
    {
      "cell_type": "code",
      "source": [
        "updated = (df['tanggal'] == '2018-11-31')\n",
        "updated"
      ],
      "metadata": {
        "colab": {
          "base_uri": "https://localhost:8080/"
        },
        "id": "peXd46TO37gf",
        "outputId": "6f4f2aa0-0d56-49b5-f630-602a4c196a4e"
      },
      "execution_count": null,
      "outputs": [
        {
          "output_type": "execute_result",
          "data": {
            "text/plain": [
              "0       False\n",
              "1       False\n",
              "2       False\n",
              "3       False\n",
              "4       False\n",
              "        ...  \n",
              "8395    False\n",
              "8396    False\n",
              "8397    False\n",
              "8398    False\n",
              "8399    False\n",
              "Name: tanggal, Length: 8400, dtype: bool"
            ]
          },
          "metadata": {},
          "execution_count": 699
        }
      ]
    },
    {
      "cell_type": "code",
      "source": [
        "df.loc[updated, ['tanggal']] = '2018-12-01'\n",
        "df[df['tanggal'] == '2018-12-01']"
      ],
      "metadata": {
        "colab": {
          "base_uri": "https://localhost:8080/",
          "height": 802
        },
        "id": "mLvp93yp48SS",
        "outputId": "383e46ee-08cd-445a-e04e-4ed145e9a994"
      },
      "execution_count": null,
      "outputs": [
        {
          "output_type": "execute_result",
          "data": {
            "text/plain": [
              "        tanggal           wilayah      waktu          cuaca kelembaban_min  \\\n",
              "720  2018-12-01  Kepulauan Seribu      Siang   Hujan Ringan             75   \n",
              "721  2018-12-01  Kepulauan Seribu       Pagi   Hujan Ringan             75   \n",
              "722  2018-12-01  Kepulauan Seribu      Malam   Hujan Ringan             75   \n",
              "723  2018-12-01  Kepulauan Seribu  Dini Hari        Berawan             75   \n",
              "724  2018-12-01     Jakarta Utara      Siang   Hujan Ringan             75   \n",
              "725  2018-12-01     Jakarta Utara       Pagi   Hujan Ringan             75   \n",
              "726  2018-12-01     Jakarta Utara      Malam   Hujan Ringan             75   \n",
              "727  2018-12-01     Jakarta Utara  Dini Hari        Berawan             75   \n",
              "728  2018-12-01     Jakarta Timur      Siang   Hujan Ringan             75   \n",
              "729  2018-12-01     Jakarta Timur       Pagi  Cerah Berawan             75   \n",
              "730  2018-12-01     Jakarta Timur      Malam   Hujan Ringan             75   \n",
              "731  2018-12-01     Jakarta Timur  Dini Hari        Berawan             75   \n",
              "732  2018-12-01   Jakarta Selatan      Siang    Hujan Lokal             75   \n",
              "733  2018-12-01   Jakarta Selatan       Pagi  Cerah Berawan             75   \n",
              "734  2018-12-01   Jakarta Selatan      Malam   Hujan Ringan             75   \n",
              "735  2018-12-01   Jakarta Selatan  Dini Hari        Berawan             75   \n",
              "736  2018-12-01     Jakarta Pusat      Siang   Hujan Ringan             75   \n",
              "737  2018-12-01     Jakarta Pusat       Pagi   Hujan Ringan             75   \n",
              "738  2018-12-01     Jakarta Pusat      Malam   Hujan Ringan             75   \n",
              "739  2018-12-01     Jakarta Pusat  Dini Hari        Berawan             75   \n",
              "740  2018-12-01     Jakarta Barat      Siang        Berawan             75   \n",
              "741  2018-12-01     Jakarta Barat       Pagi  Cerah Berawan             75   \n",
              "742  2018-12-01     Jakarta Barat      Malam   Hujan Ringan             75   \n",
              "743  2018-12-01     Jakarta Barat  Dini Hari        Berawan             75   \n",
              "\n",
              "    kelembaban_max  kelembaban_mean suhu_min suhu_max  suhu_mean  \n",
              "720             95             85.0       23       33       28.0  \n",
              "721             95             85.0       23       33       28.0  \n",
              "722             95             85.0       23       33       28.0  \n",
              "723             95             85.0       23       33       28.0  \n",
              "724             95             85.0       23       33       28.0  \n",
              "725             95             85.0       23       33       28.0  \n",
              "726             95             85.0       23       33       28.0  \n",
              "727             95             85.0       23       33       28.0  \n",
              "728             95             85.0       23       33       28.0  \n",
              "729             95             85.0       23       33       28.0  \n",
              "730             95             85.0       23       33       28.0  \n",
              "731             95             85.0       23       33       28.0  \n",
              "732             95             85.0       23       33       28.0  \n",
              "733             95             85.0       23       33       28.0  \n",
              "734             95             85.0       23       33       28.0  \n",
              "735             95             85.0       23       33       28.0  \n",
              "736             95             85.0       23       33       28.0  \n",
              "737             95             85.0       23       33       28.0  \n",
              "738             95             85.0       23       33       28.0  \n",
              "739             95             85.0       23       33       28.0  \n",
              "740             95             85.0       23       33       28.0  \n",
              "741             95             85.0       23       33       28.0  \n",
              "742             95             85.0       23       33       28.0  \n",
              "743             95             85.0       23       33       28.0  "
            ],
            "text/html": [
              "\n",
              "  <div id=\"df-139d0c54-8713-4dba-a92f-df7ba9908fa9\">\n",
              "    <div class=\"colab-df-container\">\n",
              "      <div>\n",
              "<style scoped>\n",
              "    .dataframe tbody tr th:only-of-type {\n",
              "        vertical-align: middle;\n",
              "    }\n",
              "\n",
              "    .dataframe tbody tr th {\n",
              "        vertical-align: top;\n",
              "    }\n",
              "\n",
              "    .dataframe thead th {\n",
              "        text-align: right;\n",
              "    }\n",
              "</style>\n",
              "<table border=\"1\" class=\"dataframe\">\n",
              "  <thead>\n",
              "    <tr style=\"text-align: right;\">\n",
              "      <th></th>\n",
              "      <th>tanggal</th>\n",
              "      <th>wilayah</th>\n",
              "      <th>waktu</th>\n",
              "      <th>cuaca</th>\n",
              "      <th>kelembaban_min</th>\n",
              "      <th>kelembaban_max</th>\n",
              "      <th>kelembaban_mean</th>\n",
              "      <th>suhu_min</th>\n",
              "      <th>suhu_max</th>\n",
              "      <th>suhu_mean</th>\n",
              "    </tr>\n",
              "  </thead>\n",
              "  <tbody>\n",
              "    <tr>\n",
              "      <th>720</th>\n",
              "      <td>2018-12-01</td>\n",
              "      <td>Kepulauan Seribu</td>\n",
              "      <td>Siang</td>\n",
              "      <td>Hujan Ringan</td>\n",
              "      <td>75</td>\n",
              "      <td>95</td>\n",
              "      <td>85.0</td>\n",
              "      <td>23</td>\n",
              "      <td>33</td>\n",
              "      <td>28.0</td>\n",
              "    </tr>\n",
              "    <tr>\n",
              "      <th>721</th>\n",
              "      <td>2018-12-01</td>\n",
              "      <td>Kepulauan Seribu</td>\n",
              "      <td>Pagi</td>\n",
              "      <td>Hujan Ringan</td>\n",
              "      <td>75</td>\n",
              "      <td>95</td>\n",
              "      <td>85.0</td>\n",
              "      <td>23</td>\n",
              "      <td>33</td>\n",
              "      <td>28.0</td>\n",
              "    </tr>\n",
              "    <tr>\n",
              "      <th>722</th>\n",
              "      <td>2018-12-01</td>\n",
              "      <td>Kepulauan Seribu</td>\n",
              "      <td>Malam</td>\n",
              "      <td>Hujan Ringan</td>\n",
              "      <td>75</td>\n",
              "      <td>95</td>\n",
              "      <td>85.0</td>\n",
              "      <td>23</td>\n",
              "      <td>33</td>\n",
              "      <td>28.0</td>\n",
              "    </tr>\n",
              "    <tr>\n",
              "      <th>723</th>\n",
              "      <td>2018-12-01</td>\n",
              "      <td>Kepulauan Seribu</td>\n",
              "      <td>Dini Hari</td>\n",
              "      <td>Berawan</td>\n",
              "      <td>75</td>\n",
              "      <td>95</td>\n",
              "      <td>85.0</td>\n",
              "      <td>23</td>\n",
              "      <td>33</td>\n",
              "      <td>28.0</td>\n",
              "    </tr>\n",
              "    <tr>\n",
              "      <th>724</th>\n",
              "      <td>2018-12-01</td>\n",
              "      <td>Jakarta Utara</td>\n",
              "      <td>Siang</td>\n",
              "      <td>Hujan Ringan</td>\n",
              "      <td>75</td>\n",
              "      <td>95</td>\n",
              "      <td>85.0</td>\n",
              "      <td>23</td>\n",
              "      <td>33</td>\n",
              "      <td>28.0</td>\n",
              "    </tr>\n",
              "    <tr>\n",
              "      <th>725</th>\n",
              "      <td>2018-12-01</td>\n",
              "      <td>Jakarta Utara</td>\n",
              "      <td>Pagi</td>\n",
              "      <td>Hujan Ringan</td>\n",
              "      <td>75</td>\n",
              "      <td>95</td>\n",
              "      <td>85.0</td>\n",
              "      <td>23</td>\n",
              "      <td>33</td>\n",
              "      <td>28.0</td>\n",
              "    </tr>\n",
              "    <tr>\n",
              "      <th>726</th>\n",
              "      <td>2018-12-01</td>\n",
              "      <td>Jakarta Utara</td>\n",
              "      <td>Malam</td>\n",
              "      <td>Hujan Ringan</td>\n",
              "      <td>75</td>\n",
              "      <td>95</td>\n",
              "      <td>85.0</td>\n",
              "      <td>23</td>\n",
              "      <td>33</td>\n",
              "      <td>28.0</td>\n",
              "    </tr>\n",
              "    <tr>\n",
              "      <th>727</th>\n",
              "      <td>2018-12-01</td>\n",
              "      <td>Jakarta Utara</td>\n",
              "      <td>Dini Hari</td>\n",
              "      <td>Berawan</td>\n",
              "      <td>75</td>\n",
              "      <td>95</td>\n",
              "      <td>85.0</td>\n",
              "      <td>23</td>\n",
              "      <td>33</td>\n",
              "      <td>28.0</td>\n",
              "    </tr>\n",
              "    <tr>\n",
              "      <th>728</th>\n",
              "      <td>2018-12-01</td>\n",
              "      <td>Jakarta Timur</td>\n",
              "      <td>Siang</td>\n",
              "      <td>Hujan Ringan</td>\n",
              "      <td>75</td>\n",
              "      <td>95</td>\n",
              "      <td>85.0</td>\n",
              "      <td>23</td>\n",
              "      <td>33</td>\n",
              "      <td>28.0</td>\n",
              "    </tr>\n",
              "    <tr>\n",
              "      <th>729</th>\n",
              "      <td>2018-12-01</td>\n",
              "      <td>Jakarta Timur</td>\n",
              "      <td>Pagi</td>\n",
              "      <td>Cerah Berawan</td>\n",
              "      <td>75</td>\n",
              "      <td>95</td>\n",
              "      <td>85.0</td>\n",
              "      <td>23</td>\n",
              "      <td>33</td>\n",
              "      <td>28.0</td>\n",
              "    </tr>\n",
              "    <tr>\n",
              "      <th>730</th>\n",
              "      <td>2018-12-01</td>\n",
              "      <td>Jakarta Timur</td>\n",
              "      <td>Malam</td>\n",
              "      <td>Hujan Ringan</td>\n",
              "      <td>75</td>\n",
              "      <td>95</td>\n",
              "      <td>85.0</td>\n",
              "      <td>23</td>\n",
              "      <td>33</td>\n",
              "      <td>28.0</td>\n",
              "    </tr>\n",
              "    <tr>\n",
              "      <th>731</th>\n",
              "      <td>2018-12-01</td>\n",
              "      <td>Jakarta Timur</td>\n",
              "      <td>Dini Hari</td>\n",
              "      <td>Berawan</td>\n",
              "      <td>75</td>\n",
              "      <td>95</td>\n",
              "      <td>85.0</td>\n",
              "      <td>23</td>\n",
              "      <td>33</td>\n",
              "      <td>28.0</td>\n",
              "    </tr>\n",
              "    <tr>\n",
              "      <th>732</th>\n",
              "      <td>2018-12-01</td>\n",
              "      <td>Jakarta Selatan</td>\n",
              "      <td>Siang</td>\n",
              "      <td>Hujan Lokal</td>\n",
              "      <td>75</td>\n",
              "      <td>95</td>\n",
              "      <td>85.0</td>\n",
              "      <td>23</td>\n",
              "      <td>33</td>\n",
              "      <td>28.0</td>\n",
              "    </tr>\n",
              "    <tr>\n",
              "      <th>733</th>\n",
              "      <td>2018-12-01</td>\n",
              "      <td>Jakarta Selatan</td>\n",
              "      <td>Pagi</td>\n",
              "      <td>Cerah Berawan</td>\n",
              "      <td>75</td>\n",
              "      <td>95</td>\n",
              "      <td>85.0</td>\n",
              "      <td>23</td>\n",
              "      <td>33</td>\n",
              "      <td>28.0</td>\n",
              "    </tr>\n",
              "    <tr>\n",
              "      <th>734</th>\n",
              "      <td>2018-12-01</td>\n",
              "      <td>Jakarta Selatan</td>\n",
              "      <td>Malam</td>\n",
              "      <td>Hujan Ringan</td>\n",
              "      <td>75</td>\n",
              "      <td>95</td>\n",
              "      <td>85.0</td>\n",
              "      <td>23</td>\n",
              "      <td>33</td>\n",
              "      <td>28.0</td>\n",
              "    </tr>\n",
              "    <tr>\n",
              "      <th>735</th>\n",
              "      <td>2018-12-01</td>\n",
              "      <td>Jakarta Selatan</td>\n",
              "      <td>Dini Hari</td>\n",
              "      <td>Berawan</td>\n",
              "      <td>75</td>\n",
              "      <td>95</td>\n",
              "      <td>85.0</td>\n",
              "      <td>23</td>\n",
              "      <td>33</td>\n",
              "      <td>28.0</td>\n",
              "    </tr>\n",
              "    <tr>\n",
              "      <th>736</th>\n",
              "      <td>2018-12-01</td>\n",
              "      <td>Jakarta Pusat</td>\n",
              "      <td>Siang</td>\n",
              "      <td>Hujan Ringan</td>\n",
              "      <td>75</td>\n",
              "      <td>95</td>\n",
              "      <td>85.0</td>\n",
              "      <td>23</td>\n",
              "      <td>33</td>\n",
              "      <td>28.0</td>\n",
              "    </tr>\n",
              "    <tr>\n",
              "      <th>737</th>\n",
              "      <td>2018-12-01</td>\n",
              "      <td>Jakarta Pusat</td>\n",
              "      <td>Pagi</td>\n",
              "      <td>Hujan Ringan</td>\n",
              "      <td>75</td>\n",
              "      <td>95</td>\n",
              "      <td>85.0</td>\n",
              "      <td>23</td>\n",
              "      <td>33</td>\n",
              "      <td>28.0</td>\n",
              "    </tr>\n",
              "    <tr>\n",
              "      <th>738</th>\n",
              "      <td>2018-12-01</td>\n",
              "      <td>Jakarta Pusat</td>\n",
              "      <td>Malam</td>\n",
              "      <td>Hujan Ringan</td>\n",
              "      <td>75</td>\n",
              "      <td>95</td>\n",
              "      <td>85.0</td>\n",
              "      <td>23</td>\n",
              "      <td>33</td>\n",
              "      <td>28.0</td>\n",
              "    </tr>\n",
              "    <tr>\n",
              "      <th>739</th>\n",
              "      <td>2018-12-01</td>\n",
              "      <td>Jakarta Pusat</td>\n",
              "      <td>Dini Hari</td>\n",
              "      <td>Berawan</td>\n",
              "      <td>75</td>\n",
              "      <td>95</td>\n",
              "      <td>85.0</td>\n",
              "      <td>23</td>\n",
              "      <td>33</td>\n",
              "      <td>28.0</td>\n",
              "    </tr>\n",
              "    <tr>\n",
              "      <th>740</th>\n",
              "      <td>2018-12-01</td>\n",
              "      <td>Jakarta Barat</td>\n",
              "      <td>Siang</td>\n",
              "      <td>Berawan</td>\n",
              "      <td>75</td>\n",
              "      <td>95</td>\n",
              "      <td>85.0</td>\n",
              "      <td>23</td>\n",
              "      <td>33</td>\n",
              "      <td>28.0</td>\n",
              "    </tr>\n",
              "    <tr>\n",
              "      <th>741</th>\n",
              "      <td>2018-12-01</td>\n",
              "      <td>Jakarta Barat</td>\n",
              "      <td>Pagi</td>\n",
              "      <td>Cerah Berawan</td>\n",
              "      <td>75</td>\n",
              "      <td>95</td>\n",
              "      <td>85.0</td>\n",
              "      <td>23</td>\n",
              "      <td>33</td>\n",
              "      <td>28.0</td>\n",
              "    </tr>\n",
              "    <tr>\n",
              "      <th>742</th>\n",
              "      <td>2018-12-01</td>\n",
              "      <td>Jakarta Barat</td>\n",
              "      <td>Malam</td>\n",
              "      <td>Hujan Ringan</td>\n",
              "      <td>75</td>\n",
              "      <td>95</td>\n",
              "      <td>85.0</td>\n",
              "      <td>23</td>\n",
              "      <td>33</td>\n",
              "      <td>28.0</td>\n",
              "    </tr>\n",
              "    <tr>\n",
              "      <th>743</th>\n",
              "      <td>2018-12-01</td>\n",
              "      <td>Jakarta Barat</td>\n",
              "      <td>Dini Hari</td>\n",
              "      <td>Berawan</td>\n",
              "      <td>75</td>\n",
              "      <td>95</td>\n",
              "      <td>85.0</td>\n",
              "      <td>23</td>\n",
              "      <td>33</td>\n",
              "      <td>28.0</td>\n",
              "    </tr>\n",
              "  </tbody>\n",
              "</table>\n",
              "</div>\n",
              "      <button class=\"colab-df-convert\" onclick=\"convertToInteractive('df-139d0c54-8713-4dba-a92f-df7ba9908fa9')\"\n",
              "              title=\"Convert this dataframe to an interactive table.\"\n",
              "              style=\"display:none;\">\n",
              "        \n",
              "  <svg xmlns=\"http://www.w3.org/2000/svg\" height=\"24px\"viewBox=\"0 0 24 24\"\n",
              "       width=\"24px\">\n",
              "    <path d=\"M0 0h24v24H0V0z\" fill=\"none\"/>\n",
              "    <path d=\"M18.56 5.44l.94 2.06.94-2.06 2.06-.94-2.06-.94-.94-2.06-.94 2.06-2.06.94zm-11 1L8.5 8.5l.94-2.06 2.06-.94-2.06-.94L8.5 2.5l-.94 2.06-2.06.94zm10 10l.94 2.06.94-2.06 2.06-.94-2.06-.94-.94-2.06-.94 2.06-2.06.94z\"/><path d=\"M17.41 7.96l-1.37-1.37c-.4-.4-.92-.59-1.43-.59-.52 0-1.04.2-1.43.59L10.3 9.45l-7.72 7.72c-.78.78-.78 2.05 0 2.83L4 21.41c.39.39.9.59 1.41.59.51 0 1.02-.2 1.41-.59l7.78-7.78 2.81-2.81c.8-.78.8-2.07 0-2.86zM5.41 20L4 18.59l7.72-7.72 1.47 1.35L5.41 20z\"/>\n",
              "  </svg>\n",
              "      </button>\n",
              "      \n",
              "  <style>\n",
              "    .colab-df-container {\n",
              "      display:flex;\n",
              "      flex-wrap:wrap;\n",
              "      gap: 12px;\n",
              "    }\n",
              "\n",
              "    .colab-df-convert {\n",
              "      background-color: #E8F0FE;\n",
              "      border: none;\n",
              "      border-radius: 50%;\n",
              "      cursor: pointer;\n",
              "      display: none;\n",
              "      fill: #1967D2;\n",
              "      height: 32px;\n",
              "      padding: 0 0 0 0;\n",
              "      width: 32px;\n",
              "    }\n",
              "\n",
              "    .colab-df-convert:hover {\n",
              "      background-color: #E2EBFA;\n",
              "      box-shadow: 0px 1px 2px rgba(60, 64, 67, 0.3), 0px 1px 3px 1px rgba(60, 64, 67, 0.15);\n",
              "      fill: #174EA6;\n",
              "    }\n",
              "\n",
              "    [theme=dark] .colab-df-convert {\n",
              "      background-color: #3B4455;\n",
              "      fill: #D2E3FC;\n",
              "    }\n",
              "\n",
              "    [theme=dark] .colab-df-convert:hover {\n",
              "      background-color: #434B5C;\n",
              "      box-shadow: 0px 1px 3px 1px rgba(0, 0, 0, 0.15);\n",
              "      filter: drop-shadow(0px 1px 2px rgba(0, 0, 0, 0.3));\n",
              "      fill: #FFFFFF;\n",
              "    }\n",
              "  </style>\n",
              "\n",
              "      <script>\n",
              "        const buttonEl =\n",
              "          document.querySelector('#df-139d0c54-8713-4dba-a92f-df7ba9908fa9 button.colab-df-convert');\n",
              "        buttonEl.style.display =\n",
              "          google.colab.kernel.accessAllowed ? 'block' : 'none';\n",
              "\n",
              "        async function convertToInteractive(key) {\n",
              "          const element = document.querySelector('#df-139d0c54-8713-4dba-a92f-df7ba9908fa9');\n",
              "          const dataTable =\n",
              "            await google.colab.kernel.invokeFunction('convertToInteractive',\n",
              "                                                     [key], {});\n",
              "          if (!dataTable) return;\n",
              "\n",
              "          const docLinkHtml = 'Like what you see? Visit the ' +\n",
              "            '<a target=\"_blank\" href=https://colab.research.google.com/notebooks/data_table.ipynb>data table notebook</a>'\n",
              "            + ' to learn more about interactive tables.';\n",
              "          element.innerHTML = '';\n",
              "          dataTable['output_type'] = 'display_data';\n",
              "          await google.colab.output.renderOutput(dataTable, element);\n",
              "          const docLink = document.createElement('div');\n",
              "          docLink.innerHTML = docLinkHtml;\n",
              "          element.appendChild(docLink);\n",
              "        }\n",
              "      </script>\n",
              "    </div>\n",
              "  </div>\n",
              "  "
            ]
          },
          "metadata": {},
          "execution_count": 700
        }
      ]
    },
    {
      "cell_type": "markdown",
      "source": [
        "Mengubah data tanggal yang tidak sesuai"
      ],
      "metadata": {
        "id": "6bZzkiG1P05p"
      }
    },
    {
      "cell_type": "code",
      "execution_count": null,
      "metadata": {
        "colab": {
          "base_uri": "https://localhost:8080/"
        },
        "id": "BeqsT6OQVy1S",
        "outputId": "de7f3915-913b-4dd7-e069-c920d29031ec"
      },
      "outputs": [
        {
          "output_type": "execute_result",
          "data": {
            "text/plain": [
              "tanggal            datetime64[ns]\n",
              "wilayah                    object\n",
              "waktu                      object\n",
              "cuaca                      object\n",
              "kelembaban_min              int64\n",
              "kelembaban_max              int64\n",
              "kelembaban_mean           float64\n",
              "suhu_min                    int64\n",
              "suhu_max                    int64\n",
              "suhu_mean                 float64\n",
              "dtype: object"
            ]
          },
          "metadata": {},
          "execution_count": 701
        }
      ],
      "source": [
        "df[\"kelembaban_min\"] = df.kelembaban_min.astype(int)\n",
        "df[\"kelembaban_max\"] = df.kelembaban_max.astype(int)\n",
        "df[\"suhu_min\"] = df.suhu_min.astype(int)\n",
        "df[\"suhu_max\"] = df.suhu_max.astype(int)\n",
        "df[\"tanggal\"] = pd.to_datetime(df['tanggal'])\n",
        "df.dtypes"
      ]
    },
    {
      "cell_type": "markdown",
      "metadata": {
        "id": "5N8Vetr7Vy1S"
      },
      "source": [
        "Mengubah kolom kelembaban_min, kelembaban_max, suhu_min, dan suhu_max menjadi integer<br>\n",
        "Karena data pada kolom tersebut bersifat numerikal<br>\n",
        "Mengubah kolom tanggal menjadi datetime karena berisi tanggal pengambilan data"
      ]
    },
    {
      "cell_type": "markdown",
      "metadata": {
        "id": "fJZaQNqVVy1T"
      },
      "source": [
        "### Informasi Data"
      ]
    },
    {
      "cell_type": "markdown",
      "metadata": {
        "id": "zNS8Y9xrVy1T"
      },
      "source": [
        "#### Melihat informasi mengenai kolom"
      ]
    },
    {
      "cell_type": "code",
      "execution_count": null,
      "metadata": {
        "colab": {
          "base_uri": "https://localhost:8080/"
        },
        "id": "-nXwCQgtVy1T",
        "outputId": "e3b9b65c-0d8c-4f8f-8b94-226c45a2d020"
      },
      "outputs": [
        {
          "output_type": "stream",
          "name": "stdout",
          "text": [
            "<class 'pandas.core.frame.DataFrame'>\n",
            "Int64Index: 8400 entries, 0 to 8399\n",
            "Data columns (total 10 columns):\n",
            " #   Column           Non-Null Count  Dtype         \n",
            "---  ------           --------------  -----         \n",
            " 0   tanggal          8400 non-null   datetime64[ns]\n",
            " 1   wilayah          8400 non-null   object        \n",
            " 2   waktu            8400 non-null   object        \n",
            " 3   cuaca            8400 non-null   object        \n",
            " 4   kelembaban_min   8400 non-null   int64         \n",
            " 5   kelembaban_max   8400 non-null   int64         \n",
            " 6   kelembaban_mean  8400 non-null   float64       \n",
            " 7   suhu_min         8400 non-null   int64         \n",
            " 8   suhu_max         8400 non-null   int64         \n",
            " 9   suhu_mean        8400 non-null   float64       \n",
            "dtypes: datetime64[ns](1), float64(2), int64(4), object(3)\n",
            "memory usage: 721.9+ KB\n"
          ]
        }
      ],
      "source": [
        "df.info()"
      ]
    },
    {
      "cell_type": "code",
      "execution_count": null,
      "metadata": {
        "colab": {
          "base_uri": "https://localhost:8080/",
          "height": 206
        },
        "id": "Np7VTXDhVy1T",
        "outputId": "18e2faa3-9a2a-4eed-bfe9-0ecd095fe0ce"
      },
      "outputs": [
        {
          "output_type": "execute_result",
          "data": {
            "text/plain": [
              "        tanggal           wilayah      waktu          cuaca  kelembaban_min  \\\n",
              "8374 2018-01-02     Jakarta Timur  Dini Hari        Berawan              70   \n",
              "1127 2018-11-15     Jakarta Barat  Dini Hari  Cerah Berawan              65   \n",
              "5238 2018-05-20     Jakarta Utara      Malam  Cerah Berawan              65   \n",
              "6528 2018-03-23  Kepulauan Seribu      Siang  Cerah Berawan              65   \n",
              "2977 2018-08-26  Kepulauan Seribu       Pagi  Cerah Berawan              45   \n",
              "\n",
              "      kelembaban_max  kelembaban_mean  suhu_min  suhu_max  suhu_mean  \n",
              "8374              95             82.5        24        33       28.5  \n",
              "1127              90             77.5        24        32       28.0  \n",
              "5238             100             82.5        24        32       28.0  \n",
              "6528              90             77.5        23        32       27.5  \n",
              "2977              90             67.5        24        34       29.0  "
            ],
            "text/html": [
              "\n",
              "  <div id=\"df-f714a8b9-1d7b-4afc-934a-c2d36889bd26\">\n",
              "    <div class=\"colab-df-container\">\n",
              "      <div>\n",
              "<style scoped>\n",
              "    .dataframe tbody tr th:only-of-type {\n",
              "        vertical-align: middle;\n",
              "    }\n",
              "\n",
              "    .dataframe tbody tr th {\n",
              "        vertical-align: top;\n",
              "    }\n",
              "\n",
              "    .dataframe thead th {\n",
              "        text-align: right;\n",
              "    }\n",
              "</style>\n",
              "<table border=\"1\" class=\"dataframe\">\n",
              "  <thead>\n",
              "    <tr style=\"text-align: right;\">\n",
              "      <th></th>\n",
              "      <th>tanggal</th>\n",
              "      <th>wilayah</th>\n",
              "      <th>waktu</th>\n",
              "      <th>cuaca</th>\n",
              "      <th>kelembaban_min</th>\n",
              "      <th>kelembaban_max</th>\n",
              "      <th>kelembaban_mean</th>\n",
              "      <th>suhu_min</th>\n",
              "      <th>suhu_max</th>\n",
              "      <th>suhu_mean</th>\n",
              "    </tr>\n",
              "  </thead>\n",
              "  <tbody>\n",
              "    <tr>\n",
              "      <th>8374</th>\n",
              "      <td>2018-01-02</td>\n",
              "      <td>Jakarta Timur</td>\n",
              "      <td>Dini Hari</td>\n",
              "      <td>Berawan</td>\n",
              "      <td>70</td>\n",
              "      <td>95</td>\n",
              "      <td>82.5</td>\n",
              "      <td>24</td>\n",
              "      <td>33</td>\n",
              "      <td>28.5</td>\n",
              "    </tr>\n",
              "    <tr>\n",
              "      <th>1127</th>\n",
              "      <td>2018-11-15</td>\n",
              "      <td>Jakarta Barat</td>\n",
              "      <td>Dini Hari</td>\n",
              "      <td>Cerah Berawan</td>\n",
              "      <td>65</td>\n",
              "      <td>90</td>\n",
              "      <td>77.5</td>\n",
              "      <td>24</td>\n",
              "      <td>32</td>\n",
              "      <td>28.0</td>\n",
              "    </tr>\n",
              "    <tr>\n",
              "      <th>5238</th>\n",
              "      <td>2018-05-20</td>\n",
              "      <td>Jakarta Utara</td>\n",
              "      <td>Malam</td>\n",
              "      <td>Cerah Berawan</td>\n",
              "      <td>65</td>\n",
              "      <td>100</td>\n",
              "      <td>82.5</td>\n",
              "      <td>24</td>\n",
              "      <td>32</td>\n",
              "      <td>28.0</td>\n",
              "    </tr>\n",
              "    <tr>\n",
              "      <th>6528</th>\n",
              "      <td>2018-03-23</td>\n",
              "      <td>Kepulauan Seribu</td>\n",
              "      <td>Siang</td>\n",
              "      <td>Cerah Berawan</td>\n",
              "      <td>65</td>\n",
              "      <td>90</td>\n",
              "      <td>77.5</td>\n",
              "      <td>23</td>\n",
              "      <td>32</td>\n",
              "      <td>27.5</td>\n",
              "    </tr>\n",
              "    <tr>\n",
              "      <th>2977</th>\n",
              "      <td>2018-08-26</td>\n",
              "      <td>Kepulauan Seribu</td>\n",
              "      <td>Pagi</td>\n",
              "      <td>Cerah Berawan</td>\n",
              "      <td>45</td>\n",
              "      <td>90</td>\n",
              "      <td>67.5</td>\n",
              "      <td>24</td>\n",
              "      <td>34</td>\n",
              "      <td>29.0</td>\n",
              "    </tr>\n",
              "  </tbody>\n",
              "</table>\n",
              "</div>\n",
              "      <button class=\"colab-df-convert\" onclick=\"convertToInteractive('df-f714a8b9-1d7b-4afc-934a-c2d36889bd26')\"\n",
              "              title=\"Convert this dataframe to an interactive table.\"\n",
              "              style=\"display:none;\">\n",
              "        \n",
              "  <svg xmlns=\"http://www.w3.org/2000/svg\" height=\"24px\"viewBox=\"0 0 24 24\"\n",
              "       width=\"24px\">\n",
              "    <path d=\"M0 0h24v24H0V0z\" fill=\"none\"/>\n",
              "    <path d=\"M18.56 5.44l.94 2.06.94-2.06 2.06-.94-2.06-.94-.94-2.06-.94 2.06-2.06.94zm-11 1L8.5 8.5l.94-2.06 2.06-.94-2.06-.94L8.5 2.5l-.94 2.06-2.06.94zm10 10l.94 2.06.94-2.06 2.06-.94-2.06-.94-.94-2.06-.94 2.06-2.06.94z\"/><path d=\"M17.41 7.96l-1.37-1.37c-.4-.4-.92-.59-1.43-.59-.52 0-1.04.2-1.43.59L10.3 9.45l-7.72 7.72c-.78.78-.78 2.05 0 2.83L4 21.41c.39.39.9.59 1.41.59.51 0 1.02-.2 1.41-.59l7.78-7.78 2.81-2.81c.8-.78.8-2.07 0-2.86zM5.41 20L4 18.59l7.72-7.72 1.47 1.35L5.41 20z\"/>\n",
              "  </svg>\n",
              "      </button>\n",
              "      \n",
              "  <style>\n",
              "    .colab-df-container {\n",
              "      display:flex;\n",
              "      flex-wrap:wrap;\n",
              "      gap: 12px;\n",
              "    }\n",
              "\n",
              "    .colab-df-convert {\n",
              "      background-color: #E8F0FE;\n",
              "      border: none;\n",
              "      border-radius: 50%;\n",
              "      cursor: pointer;\n",
              "      display: none;\n",
              "      fill: #1967D2;\n",
              "      height: 32px;\n",
              "      padding: 0 0 0 0;\n",
              "      width: 32px;\n",
              "    }\n",
              "\n",
              "    .colab-df-convert:hover {\n",
              "      background-color: #E2EBFA;\n",
              "      box-shadow: 0px 1px 2px rgba(60, 64, 67, 0.3), 0px 1px 3px 1px rgba(60, 64, 67, 0.15);\n",
              "      fill: #174EA6;\n",
              "    }\n",
              "\n",
              "    [theme=dark] .colab-df-convert {\n",
              "      background-color: #3B4455;\n",
              "      fill: #D2E3FC;\n",
              "    }\n",
              "\n",
              "    [theme=dark] .colab-df-convert:hover {\n",
              "      background-color: #434B5C;\n",
              "      box-shadow: 0px 1px 3px 1px rgba(0, 0, 0, 0.15);\n",
              "      filter: drop-shadow(0px 1px 2px rgba(0, 0, 0, 0.3));\n",
              "      fill: #FFFFFF;\n",
              "    }\n",
              "  </style>\n",
              "\n",
              "      <script>\n",
              "        const buttonEl =\n",
              "          document.querySelector('#df-f714a8b9-1d7b-4afc-934a-c2d36889bd26 button.colab-df-convert');\n",
              "        buttonEl.style.display =\n",
              "          google.colab.kernel.accessAllowed ? 'block' : 'none';\n",
              "\n",
              "        async function convertToInteractive(key) {\n",
              "          const element = document.querySelector('#df-f714a8b9-1d7b-4afc-934a-c2d36889bd26');\n",
              "          const dataTable =\n",
              "            await google.colab.kernel.invokeFunction('convertToInteractive',\n",
              "                                                     [key], {});\n",
              "          if (!dataTable) return;\n",
              "\n",
              "          const docLinkHtml = 'Like what you see? Visit the ' +\n",
              "            '<a target=\"_blank\" href=https://colab.research.google.com/notebooks/data_table.ipynb>data table notebook</a>'\n",
              "            + ' to learn more about interactive tables.';\n",
              "          element.innerHTML = '';\n",
              "          dataTable['output_type'] = 'display_data';\n",
              "          await google.colab.output.renderOutput(dataTable, element);\n",
              "          const docLink = document.createElement('div');\n",
              "          docLink.innerHTML = docLinkHtml;\n",
              "          element.appendChild(docLink);\n",
              "        }\n",
              "      </script>\n",
              "    </div>\n",
              "  </div>\n",
              "  "
            ]
          },
          "metadata": {},
          "execution_count": 703
        }
      ],
      "source": [
        "df.sample(5)"
      ]
    },
    {
      "cell_type": "code",
      "execution_count": null,
      "metadata": {
        "colab": {
          "base_uri": "https://localhost:8080/"
        },
        "id": "FHURmSkYVy1T",
        "outputId": "33fc782a-1ff0-42b4-9f61-d5773632d1e5"
      },
      "outputs": [
        {
          "output_type": "execute_result",
          "data": {
            "text/plain": [
              "Cerah Berawan    3345\n",
              "Berawan          2782\n",
              "Hujan Lokal      1022\n",
              "Cerah             452\n",
              "Hujan Ringan      434\n",
              "Hujan Petir       138\n",
              "Berawan Tebal     115\n",
              "Hujan Sedang      112\n",
              "Name: cuaca, dtype: int64"
            ]
          },
          "metadata": {},
          "execution_count": 704
        }
      ],
      "source": [
        "df['cuaca'].value_counts()"
      ]
    },
    {
      "cell_type": "markdown",
      "metadata": {
        "id": "U7CLzZ1tVy1T"
      },
      "source": [
        "Data termasuk tidak balanced<br>\n",
        "Sehingga kedepannya akan dilakukan proses oversampling menggunakan SMOTE"
      ]
    },
    {
      "cell_type": "code",
      "source": [
        "tanggal_awal = df['tanggal'].dt.date.min()\n",
        "tanggal_akhir = df['tanggal'].dt.date.max()\n",
        "\n",
        "print('Tanggal Awal', tanggal_awal, '\\nTanggal Akhir', tanggal_akhir)"
      ],
      "metadata": {
        "colab": {
          "base_uri": "https://localhost:8080/"
        },
        "id": "VPoH0AyIz5-9",
        "outputId": "fe2fb424-b9de-401e-829d-ccc378a138f2"
      },
      "execution_count": null,
      "outputs": [
        {
          "output_type": "stream",
          "name": "stdout",
          "text": [
            "Tanggal Awal 2018-01-02 \n",
            "Tanggal Akhir 2018-12-31\n"
          ]
        }
      ]
    },
    {
      "cell_type": "markdown",
      "source": [
        "Melihat tanggal awal pengambilan data hingga akhir pengambilan data"
      ],
      "metadata": {
        "id": "kwuCruLn0Gok"
      }
    },
    {
      "cell_type": "code",
      "source": [
        "import calendar\n",
        "\n",
        "df_tanggal = pd.DataFrame()\n",
        "df_tanggal['bulan'] = df['tanggal'].dt.month\n",
        "df_tanggal['bulan'] = df_tanggal['bulan'].apply(lambda x: calendar.month_name[x])\n",
        "\n",
        "df_tanggal['tanggal'] = df['tanggal'].dt.day\n",
        "grouped = df_tanggal.groupby('bulan')['tanggal'].nunique()\n",
        "grouped"
      ],
      "metadata": {
        "colab": {
          "base_uri": "https://localhost:8080/"
        },
        "id": "wzSmR3GM6MEO",
        "outputId": "1bbff4fe-63f9-4644-ecf3-db99d1a10ce5"
      },
      "execution_count": null,
      "outputs": [
        {
          "output_type": "execute_result",
          "data": {
            "text/plain": [
              "bulan\n",
              "April        29\n",
              "August       30\n",
              "December     31\n",
              "February     25\n",
              "January      30\n",
              "July         30\n",
              "June         29\n",
              "March        28\n",
              "May          29\n",
              "November     28\n",
              "October      30\n",
              "September    29\n",
              "Name: tanggal, dtype: int64"
            ]
          },
          "metadata": {},
          "execution_count": 706
        }
      ]
    },
    {
      "cell_type": "code",
      "source": [
        "df_tanggal[df_tanggal['bulan'] == 'February']['tanggal'].unique()"
      ],
      "metadata": {
        "colab": {
          "base_uri": "https://localhost:8080/"
        },
        "id": "9bOLl88wV6ms",
        "outputId": "4d56132f-c125-48fc-8881-3755836d777b"
      },
      "execution_count": null,
      "outputs": [
        {
          "output_type": "execute_result",
          "data": {
            "text/plain": [
              "array([26, 25, 24, 23, 22, 21, 20, 19, 18, 17, 16, 15, 14, 13, 12, 11, 10,\n",
              "        9,  8,  7,  6,  5,  4,  3,  1])"
            ]
          },
          "metadata": {},
          "execution_count": 707
        }
      ]
    },
    {
      "cell_type": "markdown",
      "source": [
        "Melihat apakah data setiap hari sudah lengkap atau belum<br>\n",
        "Berdasarkan analisis didapatkan bahwa data tidak terupdate setiap hari pada setiap bulannya"
      ],
      "metadata": {
        "id": "Mo9Po2sQVjy5"
      }
    },
    {
      "cell_type": "markdown",
      "metadata": {
        "id": "A8tRz-5vVy1T"
      },
      "source": [
        "#### Membagi data antara kolom numerikal dengan kategorikal"
      ]
    },
    {
      "cell_type": "code",
      "execution_count": null,
      "metadata": {
        "id": "LqTgJLaKVy1U"
      },
      "outputs": [],
      "source": [
        "numeric = ['kelembaban_min', 'kelembaban_max', 'suhu_min', 'suhu_max', 'kelembaban_mean', 'suhu_mean']\n",
        "categoric = ['cuaca', 'waktu', 'wilayah']"
      ]
    },
    {
      "cell_type": "markdown",
      "metadata": {
        "id": "BvewrTSCVy1U"
      },
      "source": [
        "#### Statistik kolom numerik"
      ]
    },
    {
      "cell_type": "code",
      "execution_count": null,
      "metadata": {
        "colab": {
          "base_uri": "https://localhost:8080/",
          "height": 300
        },
        "id": "XNCCBpLRVy1U",
        "outputId": "68c434d9-499b-4823-9742-fe11d31c700d"
      },
      "outputs": [
        {
          "output_type": "execute_result",
          "data": {
            "text/plain": [
              "       kelembaban_min  kelembaban_max     suhu_min     suhu_max  \\\n",
              "count     8400.000000     8400.000000  8400.000000  8400.000000   \n",
              "mean        62.257143       91.728571    23.548571    32.608571   \n",
              "std         10.592657        5.562760     0.775885     1.246067   \n",
              "min         35.000000       75.000000    20.000000    28.000000   \n",
              "25%         55.000000       90.000000    23.000000    32.000000   \n",
              "50%         65.000000       95.000000    24.000000    33.000000   \n",
              "75%         70.000000       95.000000    24.000000    33.000000   \n",
              "max         85.000000      100.000000    26.000000    35.000000   \n",
              "\n",
              "       kelembaban_mean    suhu_mean  \n",
              "count      8400.000000  8400.000000  \n",
              "mean         76.992857    28.078571  \n",
              "std           7.565168     0.752354  \n",
              "min          55.000000    25.500000  \n",
              "25%          72.500000    27.500000  \n",
              "50%          77.500000    28.000000  \n",
              "75%          82.500000    28.500000  \n",
              "max          92.500000    30.000000  "
            ],
            "text/html": [
              "\n",
              "  <div id=\"df-8ac941bd-2048-4dd2-922b-0bbb34616b65\">\n",
              "    <div class=\"colab-df-container\">\n",
              "      <div>\n",
              "<style scoped>\n",
              "    .dataframe tbody tr th:only-of-type {\n",
              "        vertical-align: middle;\n",
              "    }\n",
              "\n",
              "    .dataframe tbody tr th {\n",
              "        vertical-align: top;\n",
              "    }\n",
              "\n",
              "    .dataframe thead th {\n",
              "        text-align: right;\n",
              "    }\n",
              "</style>\n",
              "<table border=\"1\" class=\"dataframe\">\n",
              "  <thead>\n",
              "    <tr style=\"text-align: right;\">\n",
              "      <th></th>\n",
              "      <th>kelembaban_min</th>\n",
              "      <th>kelembaban_max</th>\n",
              "      <th>suhu_min</th>\n",
              "      <th>suhu_max</th>\n",
              "      <th>kelembaban_mean</th>\n",
              "      <th>suhu_mean</th>\n",
              "    </tr>\n",
              "  </thead>\n",
              "  <tbody>\n",
              "    <tr>\n",
              "      <th>count</th>\n",
              "      <td>8400.000000</td>\n",
              "      <td>8400.000000</td>\n",
              "      <td>8400.000000</td>\n",
              "      <td>8400.000000</td>\n",
              "      <td>8400.000000</td>\n",
              "      <td>8400.000000</td>\n",
              "    </tr>\n",
              "    <tr>\n",
              "      <th>mean</th>\n",
              "      <td>62.257143</td>\n",
              "      <td>91.728571</td>\n",
              "      <td>23.548571</td>\n",
              "      <td>32.608571</td>\n",
              "      <td>76.992857</td>\n",
              "      <td>28.078571</td>\n",
              "    </tr>\n",
              "    <tr>\n",
              "      <th>std</th>\n",
              "      <td>10.592657</td>\n",
              "      <td>5.562760</td>\n",
              "      <td>0.775885</td>\n",
              "      <td>1.246067</td>\n",
              "      <td>7.565168</td>\n",
              "      <td>0.752354</td>\n",
              "    </tr>\n",
              "    <tr>\n",
              "      <th>min</th>\n",
              "      <td>35.000000</td>\n",
              "      <td>75.000000</td>\n",
              "      <td>20.000000</td>\n",
              "      <td>28.000000</td>\n",
              "      <td>55.000000</td>\n",
              "      <td>25.500000</td>\n",
              "    </tr>\n",
              "    <tr>\n",
              "      <th>25%</th>\n",
              "      <td>55.000000</td>\n",
              "      <td>90.000000</td>\n",
              "      <td>23.000000</td>\n",
              "      <td>32.000000</td>\n",
              "      <td>72.500000</td>\n",
              "      <td>27.500000</td>\n",
              "    </tr>\n",
              "    <tr>\n",
              "      <th>50%</th>\n",
              "      <td>65.000000</td>\n",
              "      <td>95.000000</td>\n",
              "      <td>24.000000</td>\n",
              "      <td>33.000000</td>\n",
              "      <td>77.500000</td>\n",
              "      <td>28.000000</td>\n",
              "    </tr>\n",
              "    <tr>\n",
              "      <th>75%</th>\n",
              "      <td>70.000000</td>\n",
              "      <td>95.000000</td>\n",
              "      <td>24.000000</td>\n",
              "      <td>33.000000</td>\n",
              "      <td>82.500000</td>\n",
              "      <td>28.500000</td>\n",
              "    </tr>\n",
              "    <tr>\n",
              "      <th>max</th>\n",
              "      <td>85.000000</td>\n",
              "      <td>100.000000</td>\n",
              "      <td>26.000000</td>\n",
              "      <td>35.000000</td>\n",
              "      <td>92.500000</td>\n",
              "      <td>30.000000</td>\n",
              "    </tr>\n",
              "  </tbody>\n",
              "</table>\n",
              "</div>\n",
              "      <button class=\"colab-df-convert\" onclick=\"convertToInteractive('df-8ac941bd-2048-4dd2-922b-0bbb34616b65')\"\n",
              "              title=\"Convert this dataframe to an interactive table.\"\n",
              "              style=\"display:none;\">\n",
              "        \n",
              "  <svg xmlns=\"http://www.w3.org/2000/svg\" height=\"24px\"viewBox=\"0 0 24 24\"\n",
              "       width=\"24px\">\n",
              "    <path d=\"M0 0h24v24H0V0z\" fill=\"none\"/>\n",
              "    <path d=\"M18.56 5.44l.94 2.06.94-2.06 2.06-.94-2.06-.94-.94-2.06-.94 2.06-2.06.94zm-11 1L8.5 8.5l.94-2.06 2.06-.94-2.06-.94L8.5 2.5l-.94 2.06-2.06.94zm10 10l.94 2.06.94-2.06 2.06-.94-2.06-.94-.94-2.06-.94 2.06-2.06.94z\"/><path d=\"M17.41 7.96l-1.37-1.37c-.4-.4-.92-.59-1.43-.59-.52 0-1.04.2-1.43.59L10.3 9.45l-7.72 7.72c-.78.78-.78 2.05 0 2.83L4 21.41c.39.39.9.59 1.41.59.51 0 1.02-.2 1.41-.59l7.78-7.78 2.81-2.81c.8-.78.8-2.07 0-2.86zM5.41 20L4 18.59l7.72-7.72 1.47 1.35L5.41 20z\"/>\n",
              "  </svg>\n",
              "      </button>\n",
              "      \n",
              "  <style>\n",
              "    .colab-df-container {\n",
              "      display:flex;\n",
              "      flex-wrap:wrap;\n",
              "      gap: 12px;\n",
              "    }\n",
              "\n",
              "    .colab-df-convert {\n",
              "      background-color: #E8F0FE;\n",
              "      border: none;\n",
              "      border-radius: 50%;\n",
              "      cursor: pointer;\n",
              "      display: none;\n",
              "      fill: #1967D2;\n",
              "      height: 32px;\n",
              "      padding: 0 0 0 0;\n",
              "      width: 32px;\n",
              "    }\n",
              "\n",
              "    .colab-df-convert:hover {\n",
              "      background-color: #E2EBFA;\n",
              "      box-shadow: 0px 1px 2px rgba(60, 64, 67, 0.3), 0px 1px 3px 1px rgba(60, 64, 67, 0.15);\n",
              "      fill: #174EA6;\n",
              "    }\n",
              "\n",
              "    [theme=dark] .colab-df-convert {\n",
              "      background-color: #3B4455;\n",
              "      fill: #D2E3FC;\n",
              "    }\n",
              "\n",
              "    [theme=dark] .colab-df-convert:hover {\n",
              "      background-color: #434B5C;\n",
              "      box-shadow: 0px 1px 3px 1px rgba(0, 0, 0, 0.15);\n",
              "      filter: drop-shadow(0px 1px 2px rgba(0, 0, 0, 0.3));\n",
              "      fill: #FFFFFF;\n",
              "    }\n",
              "  </style>\n",
              "\n",
              "      <script>\n",
              "        const buttonEl =\n",
              "          document.querySelector('#df-8ac941bd-2048-4dd2-922b-0bbb34616b65 button.colab-df-convert');\n",
              "        buttonEl.style.display =\n",
              "          google.colab.kernel.accessAllowed ? 'block' : 'none';\n",
              "\n",
              "        async function convertToInteractive(key) {\n",
              "          const element = document.querySelector('#df-8ac941bd-2048-4dd2-922b-0bbb34616b65');\n",
              "          const dataTable =\n",
              "            await google.colab.kernel.invokeFunction('convertToInteractive',\n",
              "                                                     [key], {});\n",
              "          if (!dataTable) return;\n",
              "\n",
              "          const docLinkHtml = 'Like what you see? Visit the ' +\n",
              "            '<a target=\"_blank\" href=https://colab.research.google.com/notebooks/data_table.ipynb>data table notebook</a>'\n",
              "            + ' to learn more about interactive tables.';\n",
              "          element.innerHTML = '';\n",
              "          dataTable['output_type'] = 'display_data';\n",
              "          await google.colab.output.renderOutput(dataTable, element);\n",
              "          const docLink = document.createElement('div');\n",
              "          docLink.innerHTML = docLinkHtml;\n",
              "          element.appendChild(docLink);\n",
              "        }\n",
              "      </script>\n",
              "    </div>\n",
              "  </div>\n",
              "  "
            ]
          },
          "metadata": {},
          "execution_count": 709
        }
      ],
      "source": [
        "df[numeric].describe()"
      ]
    },
    {
      "cell_type": "markdown",
      "metadata": {
        "id": "DTpoYqvrVy1U"
      },
      "source": [
        "Persebaran nilai pada data kelembaban_min, kelembaban_max, suhu_min, suhu_max, kelembaban_mean dan suhu_mean sudah bagus<br>\n",
        "Persebaran data yang simetrik distribusinya dilihat dari nilai mean dan median yang tidak berbeda jauh<br>\n",
        "sehingga tidak perlu dilakukan normalisasi"
      ]
    },
    {
      "cell_type": "markdown",
      "metadata": {
        "id": "GiI_fYkOVy1U"
      },
      "source": [
        "#### Statistik kolom kategorik"
      ]
    },
    {
      "cell_type": "code",
      "execution_count": null,
      "metadata": {
        "colab": {
          "base_uri": "https://localhost:8080/",
          "height": 175
        },
        "id": "BWqDxa1rVy1V",
        "outputId": "c2d45ff6-e319-4fc6-9cee-6f8cb0bf04db"
      },
      "outputs": [
        {
          "output_type": "execute_result",
          "data": {
            "text/plain": [
              "                cuaca  waktu           wilayah\n",
              "count            8400   8400              8400\n",
              "unique              8      4                 6\n",
              "top     Cerah Berawan  Siang  Kepulauan Seribu\n",
              "freq             3345   2100              1400"
            ],
            "text/html": [
              "\n",
              "  <div id=\"df-1aa7d6a6-d68e-401c-abb3-e7f4aadc1d75\">\n",
              "    <div class=\"colab-df-container\">\n",
              "      <div>\n",
              "<style scoped>\n",
              "    .dataframe tbody tr th:only-of-type {\n",
              "        vertical-align: middle;\n",
              "    }\n",
              "\n",
              "    .dataframe tbody tr th {\n",
              "        vertical-align: top;\n",
              "    }\n",
              "\n",
              "    .dataframe thead th {\n",
              "        text-align: right;\n",
              "    }\n",
              "</style>\n",
              "<table border=\"1\" class=\"dataframe\">\n",
              "  <thead>\n",
              "    <tr style=\"text-align: right;\">\n",
              "      <th></th>\n",
              "      <th>cuaca</th>\n",
              "      <th>waktu</th>\n",
              "      <th>wilayah</th>\n",
              "    </tr>\n",
              "  </thead>\n",
              "  <tbody>\n",
              "    <tr>\n",
              "      <th>count</th>\n",
              "      <td>8400</td>\n",
              "      <td>8400</td>\n",
              "      <td>8400</td>\n",
              "    </tr>\n",
              "    <tr>\n",
              "      <th>unique</th>\n",
              "      <td>8</td>\n",
              "      <td>4</td>\n",
              "      <td>6</td>\n",
              "    </tr>\n",
              "    <tr>\n",
              "      <th>top</th>\n",
              "      <td>Cerah Berawan</td>\n",
              "      <td>Siang</td>\n",
              "      <td>Kepulauan Seribu</td>\n",
              "    </tr>\n",
              "    <tr>\n",
              "      <th>freq</th>\n",
              "      <td>3345</td>\n",
              "      <td>2100</td>\n",
              "      <td>1400</td>\n",
              "    </tr>\n",
              "  </tbody>\n",
              "</table>\n",
              "</div>\n",
              "      <button class=\"colab-df-convert\" onclick=\"convertToInteractive('df-1aa7d6a6-d68e-401c-abb3-e7f4aadc1d75')\"\n",
              "              title=\"Convert this dataframe to an interactive table.\"\n",
              "              style=\"display:none;\">\n",
              "        \n",
              "  <svg xmlns=\"http://www.w3.org/2000/svg\" height=\"24px\"viewBox=\"0 0 24 24\"\n",
              "       width=\"24px\">\n",
              "    <path d=\"M0 0h24v24H0V0z\" fill=\"none\"/>\n",
              "    <path d=\"M18.56 5.44l.94 2.06.94-2.06 2.06-.94-2.06-.94-.94-2.06-.94 2.06-2.06.94zm-11 1L8.5 8.5l.94-2.06 2.06-.94-2.06-.94L8.5 2.5l-.94 2.06-2.06.94zm10 10l.94 2.06.94-2.06 2.06-.94-2.06-.94-.94-2.06-.94 2.06-2.06.94z\"/><path d=\"M17.41 7.96l-1.37-1.37c-.4-.4-.92-.59-1.43-.59-.52 0-1.04.2-1.43.59L10.3 9.45l-7.72 7.72c-.78.78-.78 2.05 0 2.83L4 21.41c.39.39.9.59 1.41.59.51 0 1.02-.2 1.41-.59l7.78-7.78 2.81-2.81c.8-.78.8-2.07 0-2.86zM5.41 20L4 18.59l7.72-7.72 1.47 1.35L5.41 20z\"/>\n",
              "  </svg>\n",
              "      </button>\n",
              "      \n",
              "  <style>\n",
              "    .colab-df-container {\n",
              "      display:flex;\n",
              "      flex-wrap:wrap;\n",
              "      gap: 12px;\n",
              "    }\n",
              "\n",
              "    .colab-df-convert {\n",
              "      background-color: #E8F0FE;\n",
              "      border: none;\n",
              "      border-radius: 50%;\n",
              "      cursor: pointer;\n",
              "      display: none;\n",
              "      fill: #1967D2;\n",
              "      height: 32px;\n",
              "      padding: 0 0 0 0;\n",
              "      width: 32px;\n",
              "    }\n",
              "\n",
              "    .colab-df-convert:hover {\n",
              "      background-color: #E2EBFA;\n",
              "      box-shadow: 0px 1px 2px rgba(60, 64, 67, 0.3), 0px 1px 3px 1px rgba(60, 64, 67, 0.15);\n",
              "      fill: #174EA6;\n",
              "    }\n",
              "\n",
              "    [theme=dark] .colab-df-convert {\n",
              "      background-color: #3B4455;\n",
              "      fill: #D2E3FC;\n",
              "    }\n",
              "\n",
              "    [theme=dark] .colab-df-convert:hover {\n",
              "      background-color: #434B5C;\n",
              "      box-shadow: 0px 1px 3px 1px rgba(0, 0, 0, 0.15);\n",
              "      filter: drop-shadow(0px 1px 2px rgba(0, 0, 0, 0.3));\n",
              "      fill: #FFFFFF;\n",
              "    }\n",
              "  </style>\n",
              "\n",
              "      <script>\n",
              "        const buttonEl =\n",
              "          document.querySelector('#df-1aa7d6a6-d68e-401c-abb3-e7f4aadc1d75 button.colab-df-convert');\n",
              "        buttonEl.style.display =\n",
              "          google.colab.kernel.accessAllowed ? 'block' : 'none';\n",
              "\n",
              "        async function convertToInteractive(key) {\n",
              "          const element = document.querySelector('#df-1aa7d6a6-d68e-401c-abb3-e7f4aadc1d75');\n",
              "          const dataTable =\n",
              "            await google.colab.kernel.invokeFunction('convertToInteractive',\n",
              "                                                     [key], {});\n",
              "          if (!dataTable) return;\n",
              "\n",
              "          const docLinkHtml = 'Like what you see? Visit the ' +\n",
              "            '<a target=\"_blank\" href=https://colab.research.google.com/notebooks/data_table.ipynb>data table notebook</a>'\n",
              "            + ' to learn more about interactive tables.';\n",
              "          element.innerHTML = '';\n",
              "          dataTable['output_type'] = 'display_data';\n",
              "          await google.colab.output.renderOutput(dataTable, element);\n",
              "          const docLink = document.createElement('div');\n",
              "          docLink.innerHTML = docLinkHtml;\n",
              "          element.appendChild(docLink);\n",
              "        }\n",
              "      </script>\n",
              "    </div>\n",
              "  </div>\n",
              "  "
            ]
          },
          "metadata": {},
          "execution_count": 710
        }
      ],
      "source": [
        "df[categoric].describe()"
      ]
    },
    {
      "cell_type": "markdown",
      "metadata": {
        "id": "fzNT_CYCVy1V"
      },
      "source": [
        "Kolom cuaca, waktu, dan wilayah masih bersifat object / string maka selanjutnya akan dilakukan encode pada data kolom tersebut"
      ]
    },
    {
      "cell_type": "markdown",
      "metadata": {
        "id": "Jx3hQDsRVy1V"
      },
      "source": [
        "#### Melihat duplikasi data"
      ]
    },
    {
      "cell_type": "code",
      "execution_count": null,
      "metadata": {
        "colab": {
          "base_uri": "https://localhost:8080/"
        },
        "id": "7i8P5V-GVy1V",
        "outputId": "1d2ac040-5c15-4b6a-ea38-f84d4e183f6d"
      },
      "outputs": [
        {
          "output_type": "execute_result",
          "data": {
            "text/plain": [
              "0"
            ]
          },
          "metadata": {},
          "execution_count": 711
        }
      ],
      "source": [
        "df.duplicated().sum()"
      ]
    },
    {
      "cell_type": "markdown",
      "metadata": {
        "id": "0QEPnYbxVy1V"
      },
      "source": [
        "Tidak terdapat data yg duplikat"
      ]
    },
    {
      "cell_type": "markdown",
      "metadata": {
        "id": "HjVUyZhnVy1W"
      },
      "source": [
        "## Encoding"
      ]
    },
    {
      "cell_type": "markdown",
      "metadata": {
        "id": "edmdekA6Vy1W"
      },
      "source": [
        "#### Mengubah kolom kategorik menggunakan one-hot encoding"
      ]
    },
    {
      "cell_type": "code",
      "source": [
        "df.dtypes"
      ],
      "metadata": {
        "colab": {
          "base_uri": "https://localhost:8080/"
        },
        "id": "zj0-Nh9IsMDi",
        "outputId": "75521827-e18c-4460-c092-a41ee854e992"
      },
      "execution_count": null,
      "outputs": [
        {
          "output_type": "execute_result",
          "data": {
            "text/plain": [
              "tanggal            datetime64[ns]\n",
              "wilayah                    object\n",
              "waktu                      object\n",
              "cuaca                      object\n",
              "kelembaban_min              int64\n",
              "kelembaban_max              int64\n",
              "kelembaban_mean           float64\n",
              "suhu_min                    int64\n",
              "suhu_max                    int64\n",
              "suhu_mean                 float64\n",
              "dtype: object"
            ]
          },
          "metadata": {},
          "execution_count": 712
        }
      ]
    },
    {
      "cell_type": "code",
      "source": [
        "df.head()"
      ],
      "metadata": {
        "colab": {
          "base_uri": "https://localhost:8080/",
          "height": 206
        },
        "id": "VzpbtdVR1gZH",
        "outputId": "862ee883-dc1d-4bdb-f452-0dd8f244eaf3"
      },
      "execution_count": null,
      "outputs": [
        {
          "output_type": "execute_result",
          "data": {
            "text/plain": [
              "     tanggal           wilayah      waktu         cuaca  kelembaban_min  \\\n",
              "0 2018-12-31  Kepulauan Seribu      Siang   Hujan Lokal              70   \n",
              "1 2018-12-31  Kepulauan Seribu       Pagi   Hujan Lokal              70   \n",
              "2 2018-12-31  Kepulauan Seribu      Malam   Hujan Lokal              70   \n",
              "3 2018-12-31  Kepulauan Seribu  Dini Hari  Hujan Ringan              70   \n",
              "4 2018-12-31     Jakarta Utara      Siang   Hujan Lokal              70   \n",
              "\n",
              "   kelembaban_max  kelembaban_mean  suhu_min  suhu_max  suhu_mean  \n",
              "0              90             80.0        24        32       28.0  \n",
              "1              90             80.0        24        32       28.0  \n",
              "2              90             80.0        24        32       28.0  \n",
              "3              90             80.0        24        32       28.0  \n",
              "4              90             80.0        24        32       28.0  "
            ],
            "text/html": [
              "\n",
              "  <div id=\"df-b6a7e3eb-30dd-46a1-a52e-42b0e96f593a\">\n",
              "    <div class=\"colab-df-container\">\n",
              "      <div>\n",
              "<style scoped>\n",
              "    .dataframe tbody tr th:only-of-type {\n",
              "        vertical-align: middle;\n",
              "    }\n",
              "\n",
              "    .dataframe tbody tr th {\n",
              "        vertical-align: top;\n",
              "    }\n",
              "\n",
              "    .dataframe thead th {\n",
              "        text-align: right;\n",
              "    }\n",
              "</style>\n",
              "<table border=\"1\" class=\"dataframe\">\n",
              "  <thead>\n",
              "    <tr style=\"text-align: right;\">\n",
              "      <th></th>\n",
              "      <th>tanggal</th>\n",
              "      <th>wilayah</th>\n",
              "      <th>waktu</th>\n",
              "      <th>cuaca</th>\n",
              "      <th>kelembaban_min</th>\n",
              "      <th>kelembaban_max</th>\n",
              "      <th>kelembaban_mean</th>\n",
              "      <th>suhu_min</th>\n",
              "      <th>suhu_max</th>\n",
              "      <th>suhu_mean</th>\n",
              "    </tr>\n",
              "  </thead>\n",
              "  <tbody>\n",
              "    <tr>\n",
              "      <th>0</th>\n",
              "      <td>2018-12-31</td>\n",
              "      <td>Kepulauan Seribu</td>\n",
              "      <td>Siang</td>\n",
              "      <td>Hujan Lokal</td>\n",
              "      <td>70</td>\n",
              "      <td>90</td>\n",
              "      <td>80.0</td>\n",
              "      <td>24</td>\n",
              "      <td>32</td>\n",
              "      <td>28.0</td>\n",
              "    </tr>\n",
              "    <tr>\n",
              "      <th>1</th>\n",
              "      <td>2018-12-31</td>\n",
              "      <td>Kepulauan Seribu</td>\n",
              "      <td>Pagi</td>\n",
              "      <td>Hujan Lokal</td>\n",
              "      <td>70</td>\n",
              "      <td>90</td>\n",
              "      <td>80.0</td>\n",
              "      <td>24</td>\n",
              "      <td>32</td>\n",
              "      <td>28.0</td>\n",
              "    </tr>\n",
              "    <tr>\n",
              "      <th>2</th>\n",
              "      <td>2018-12-31</td>\n",
              "      <td>Kepulauan Seribu</td>\n",
              "      <td>Malam</td>\n",
              "      <td>Hujan Lokal</td>\n",
              "      <td>70</td>\n",
              "      <td>90</td>\n",
              "      <td>80.0</td>\n",
              "      <td>24</td>\n",
              "      <td>32</td>\n",
              "      <td>28.0</td>\n",
              "    </tr>\n",
              "    <tr>\n",
              "      <th>3</th>\n",
              "      <td>2018-12-31</td>\n",
              "      <td>Kepulauan Seribu</td>\n",
              "      <td>Dini Hari</td>\n",
              "      <td>Hujan Ringan</td>\n",
              "      <td>70</td>\n",
              "      <td>90</td>\n",
              "      <td>80.0</td>\n",
              "      <td>24</td>\n",
              "      <td>32</td>\n",
              "      <td>28.0</td>\n",
              "    </tr>\n",
              "    <tr>\n",
              "      <th>4</th>\n",
              "      <td>2018-12-31</td>\n",
              "      <td>Jakarta Utara</td>\n",
              "      <td>Siang</td>\n",
              "      <td>Hujan Lokal</td>\n",
              "      <td>70</td>\n",
              "      <td>90</td>\n",
              "      <td>80.0</td>\n",
              "      <td>24</td>\n",
              "      <td>32</td>\n",
              "      <td>28.0</td>\n",
              "    </tr>\n",
              "  </tbody>\n",
              "</table>\n",
              "</div>\n",
              "      <button class=\"colab-df-convert\" onclick=\"convertToInteractive('df-b6a7e3eb-30dd-46a1-a52e-42b0e96f593a')\"\n",
              "              title=\"Convert this dataframe to an interactive table.\"\n",
              "              style=\"display:none;\">\n",
              "        \n",
              "  <svg xmlns=\"http://www.w3.org/2000/svg\" height=\"24px\"viewBox=\"0 0 24 24\"\n",
              "       width=\"24px\">\n",
              "    <path d=\"M0 0h24v24H0V0z\" fill=\"none\"/>\n",
              "    <path d=\"M18.56 5.44l.94 2.06.94-2.06 2.06-.94-2.06-.94-.94-2.06-.94 2.06-2.06.94zm-11 1L8.5 8.5l.94-2.06 2.06-.94-2.06-.94L8.5 2.5l-.94 2.06-2.06.94zm10 10l.94 2.06.94-2.06 2.06-.94-2.06-.94-.94-2.06-.94 2.06-2.06.94z\"/><path d=\"M17.41 7.96l-1.37-1.37c-.4-.4-.92-.59-1.43-.59-.52 0-1.04.2-1.43.59L10.3 9.45l-7.72 7.72c-.78.78-.78 2.05 0 2.83L4 21.41c.39.39.9.59 1.41.59.51 0 1.02-.2 1.41-.59l7.78-7.78 2.81-2.81c.8-.78.8-2.07 0-2.86zM5.41 20L4 18.59l7.72-7.72 1.47 1.35L5.41 20z\"/>\n",
              "  </svg>\n",
              "      </button>\n",
              "      \n",
              "  <style>\n",
              "    .colab-df-container {\n",
              "      display:flex;\n",
              "      flex-wrap:wrap;\n",
              "      gap: 12px;\n",
              "    }\n",
              "\n",
              "    .colab-df-convert {\n",
              "      background-color: #E8F0FE;\n",
              "      border: none;\n",
              "      border-radius: 50%;\n",
              "      cursor: pointer;\n",
              "      display: none;\n",
              "      fill: #1967D2;\n",
              "      height: 32px;\n",
              "      padding: 0 0 0 0;\n",
              "      width: 32px;\n",
              "    }\n",
              "\n",
              "    .colab-df-convert:hover {\n",
              "      background-color: #E2EBFA;\n",
              "      box-shadow: 0px 1px 2px rgba(60, 64, 67, 0.3), 0px 1px 3px 1px rgba(60, 64, 67, 0.15);\n",
              "      fill: #174EA6;\n",
              "    }\n",
              "\n",
              "    [theme=dark] .colab-df-convert {\n",
              "      background-color: #3B4455;\n",
              "      fill: #D2E3FC;\n",
              "    }\n",
              "\n",
              "    [theme=dark] .colab-df-convert:hover {\n",
              "      background-color: #434B5C;\n",
              "      box-shadow: 0px 1px 3px 1px rgba(0, 0, 0, 0.15);\n",
              "      filter: drop-shadow(0px 1px 2px rgba(0, 0, 0, 0.3));\n",
              "      fill: #FFFFFF;\n",
              "    }\n",
              "  </style>\n",
              "\n",
              "      <script>\n",
              "        const buttonEl =\n",
              "          document.querySelector('#df-b6a7e3eb-30dd-46a1-a52e-42b0e96f593a button.colab-df-convert');\n",
              "        buttonEl.style.display =\n",
              "          google.colab.kernel.accessAllowed ? 'block' : 'none';\n",
              "\n",
              "        async function convertToInteractive(key) {\n",
              "          const element = document.querySelector('#df-b6a7e3eb-30dd-46a1-a52e-42b0e96f593a');\n",
              "          const dataTable =\n",
              "            await google.colab.kernel.invokeFunction('convertToInteractive',\n",
              "                                                     [key], {});\n",
              "          if (!dataTable) return;\n",
              "\n",
              "          const docLinkHtml = 'Like what you see? Visit the ' +\n",
              "            '<a target=\"_blank\" href=https://colab.research.google.com/notebooks/data_table.ipynb>data table notebook</a>'\n",
              "            + ' to learn more about interactive tables.';\n",
              "          element.innerHTML = '';\n",
              "          dataTable['output_type'] = 'display_data';\n",
              "          await google.colab.output.renderOutput(dataTable, element);\n",
              "          const docLink = document.createElement('div');\n",
              "          docLink.innerHTML = docLinkHtml;\n",
              "          element.appendChild(docLink);\n",
              "        }\n",
              "      </script>\n",
              "    </div>\n",
              "  </div>\n",
              "  "
            ]
          },
          "metadata": {},
          "execution_count": 713
        }
      ]
    },
    {
      "cell_type": "code",
      "execution_count": null,
      "metadata": {
        "colab": {
          "base_uri": "https://localhost:8080/",
          "height": 374
        },
        "id": "4tA_ZiWkVy1W",
        "outputId": "23c3e2f9-5ed1-4012-f1d1-0039ff39890c"
      },
      "outputs": [
        {
          "output_type": "execute_result",
          "data": {
            "text/plain": [
              "  wilayah_Jakarta Barat wilayah_Jakarta Pusat wilayah_Jakarta Selatan  \\\n",
              "0                     0                     0                       0   \n",
              "1                     0                     0                       0   \n",
              "2                     0                     0                       0   \n",
              "3                     0                     0                       0   \n",
              "4                     0                     0                       0   \n",
              "\n",
              "  wilayah_Jakarta Timur wilayah_Jakarta Utara wilayah_Kepulauan Seribu  \\\n",
              "0                     0                     0                        1   \n",
              "1                     0                     0                        1   \n",
              "2                     0                     0                        1   \n",
              "3                     0                     0                        1   \n",
              "4                     0                     1                        0   \n",
              "\n",
              "  waktu_Dini Hari waktu_Malam waktu_Pagi waktu_Siang         cuaca    tanggal  \\\n",
              "0               0           0          0           1   Hujan Lokal 2018-12-31   \n",
              "1               0           0          1           0   Hujan Lokal 2018-12-31   \n",
              "2               0           1          0           0   Hujan Lokal 2018-12-31   \n",
              "3               1           0          0           0  Hujan Ringan 2018-12-31   \n",
              "4               0           0          0           1   Hujan Lokal 2018-12-31   \n",
              "\n",
              "  kelembaban_min kelembaban_max kelembaban_mean suhu_min suhu_max suhu_mean  \n",
              "0             70             90            80.0       24       32      28.0  \n",
              "1             70             90            80.0       24       32      28.0  \n",
              "2             70             90            80.0       24       32      28.0  \n",
              "3             70             90            80.0       24       32      28.0  \n",
              "4             70             90            80.0       24       32      28.0  "
            ],
            "text/html": [
              "\n",
              "  <div id=\"df-650d5a91-fb64-4184-a981-0b48a04b4342\">\n",
              "    <div class=\"colab-df-container\">\n",
              "      <div>\n",
              "<style scoped>\n",
              "    .dataframe tbody tr th:only-of-type {\n",
              "        vertical-align: middle;\n",
              "    }\n",
              "\n",
              "    .dataframe tbody tr th {\n",
              "        vertical-align: top;\n",
              "    }\n",
              "\n",
              "    .dataframe thead th {\n",
              "        text-align: right;\n",
              "    }\n",
              "</style>\n",
              "<table border=\"1\" class=\"dataframe\">\n",
              "  <thead>\n",
              "    <tr style=\"text-align: right;\">\n",
              "      <th></th>\n",
              "      <th>wilayah_Jakarta Barat</th>\n",
              "      <th>wilayah_Jakarta Pusat</th>\n",
              "      <th>wilayah_Jakarta Selatan</th>\n",
              "      <th>wilayah_Jakarta Timur</th>\n",
              "      <th>wilayah_Jakarta Utara</th>\n",
              "      <th>wilayah_Kepulauan Seribu</th>\n",
              "      <th>waktu_Dini Hari</th>\n",
              "      <th>waktu_Malam</th>\n",
              "      <th>waktu_Pagi</th>\n",
              "      <th>waktu_Siang</th>\n",
              "      <th>cuaca</th>\n",
              "      <th>tanggal</th>\n",
              "      <th>kelembaban_min</th>\n",
              "      <th>kelembaban_max</th>\n",
              "      <th>kelembaban_mean</th>\n",
              "      <th>suhu_min</th>\n",
              "      <th>suhu_max</th>\n",
              "      <th>suhu_mean</th>\n",
              "    </tr>\n",
              "  </thead>\n",
              "  <tbody>\n",
              "    <tr>\n",
              "      <th>0</th>\n",
              "      <td>0</td>\n",
              "      <td>0</td>\n",
              "      <td>0</td>\n",
              "      <td>0</td>\n",
              "      <td>0</td>\n",
              "      <td>1</td>\n",
              "      <td>0</td>\n",
              "      <td>0</td>\n",
              "      <td>0</td>\n",
              "      <td>1</td>\n",
              "      <td>Hujan Lokal</td>\n",
              "      <td>2018-12-31</td>\n",
              "      <td>70</td>\n",
              "      <td>90</td>\n",
              "      <td>80.0</td>\n",
              "      <td>24</td>\n",
              "      <td>32</td>\n",
              "      <td>28.0</td>\n",
              "    </tr>\n",
              "    <tr>\n",
              "      <th>1</th>\n",
              "      <td>0</td>\n",
              "      <td>0</td>\n",
              "      <td>0</td>\n",
              "      <td>0</td>\n",
              "      <td>0</td>\n",
              "      <td>1</td>\n",
              "      <td>0</td>\n",
              "      <td>0</td>\n",
              "      <td>1</td>\n",
              "      <td>0</td>\n",
              "      <td>Hujan Lokal</td>\n",
              "      <td>2018-12-31</td>\n",
              "      <td>70</td>\n",
              "      <td>90</td>\n",
              "      <td>80.0</td>\n",
              "      <td>24</td>\n",
              "      <td>32</td>\n",
              "      <td>28.0</td>\n",
              "    </tr>\n",
              "    <tr>\n",
              "      <th>2</th>\n",
              "      <td>0</td>\n",
              "      <td>0</td>\n",
              "      <td>0</td>\n",
              "      <td>0</td>\n",
              "      <td>0</td>\n",
              "      <td>1</td>\n",
              "      <td>0</td>\n",
              "      <td>1</td>\n",
              "      <td>0</td>\n",
              "      <td>0</td>\n",
              "      <td>Hujan Lokal</td>\n",
              "      <td>2018-12-31</td>\n",
              "      <td>70</td>\n",
              "      <td>90</td>\n",
              "      <td>80.0</td>\n",
              "      <td>24</td>\n",
              "      <td>32</td>\n",
              "      <td>28.0</td>\n",
              "    </tr>\n",
              "    <tr>\n",
              "      <th>3</th>\n",
              "      <td>0</td>\n",
              "      <td>0</td>\n",
              "      <td>0</td>\n",
              "      <td>0</td>\n",
              "      <td>0</td>\n",
              "      <td>1</td>\n",
              "      <td>1</td>\n",
              "      <td>0</td>\n",
              "      <td>0</td>\n",
              "      <td>0</td>\n",
              "      <td>Hujan Ringan</td>\n",
              "      <td>2018-12-31</td>\n",
              "      <td>70</td>\n",
              "      <td>90</td>\n",
              "      <td>80.0</td>\n",
              "      <td>24</td>\n",
              "      <td>32</td>\n",
              "      <td>28.0</td>\n",
              "    </tr>\n",
              "    <tr>\n",
              "      <th>4</th>\n",
              "      <td>0</td>\n",
              "      <td>0</td>\n",
              "      <td>0</td>\n",
              "      <td>0</td>\n",
              "      <td>1</td>\n",
              "      <td>0</td>\n",
              "      <td>0</td>\n",
              "      <td>0</td>\n",
              "      <td>0</td>\n",
              "      <td>1</td>\n",
              "      <td>Hujan Lokal</td>\n",
              "      <td>2018-12-31</td>\n",
              "      <td>70</td>\n",
              "      <td>90</td>\n",
              "      <td>80.0</td>\n",
              "      <td>24</td>\n",
              "      <td>32</td>\n",
              "      <td>28.0</td>\n",
              "    </tr>\n",
              "  </tbody>\n",
              "</table>\n",
              "</div>\n",
              "      <button class=\"colab-df-convert\" onclick=\"convertToInteractive('df-650d5a91-fb64-4184-a981-0b48a04b4342')\"\n",
              "              title=\"Convert this dataframe to an interactive table.\"\n",
              "              style=\"display:none;\">\n",
              "        \n",
              "  <svg xmlns=\"http://www.w3.org/2000/svg\" height=\"24px\"viewBox=\"0 0 24 24\"\n",
              "       width=\"24px\">\n",
              "    <path d=\"M0 0h24v24H0V0z\" fill=\"none\"/>\n",
              "    <path d=\"M18.56 5.44l.94 2.06.94-2.06 2.06-.94-2.06-.94-.94-2.06-.94 2.06-2.06.94zm-11 1L8.5 8.5l.94-2.06 2.06-.94-2.06-.94L8.5 2.5l-.94 2.06-2.06.94zm10 10l.94 2.06.94-2.06 2.06-.94-2.06-.94-.94-2.06-.94 2.06-2.06.94z\"/><path d=\"M17.41 7.96l-1.37-1.37c-.4-.4-.92-.59-1.43-.59-.52 0-1.04.2-1.43.59L10.3 9.45l-7.72 7.72c-.78.78-.78 2.05 0 2.83L4 21.41c.39.39.9.59 1.41.59.51 0 1.02-.2 1.41-.59l7.78-7.78 2.81-2.81c.8-.78.8-2.07 0-2.86zM5.41 20L4 18.59l7.72-7.72 1.47 1.35L5.41 20z\"/>\n",
              "  </svg>\n",
              "      </button>\n",
              "      \n",
              "  <style>\n",
              "    .colab-df-container {\n",
              "      display:flex;\n",
              "      flex-wrap:wrap;\n",
              "      gap: 12px;\n",
              "    }\n",
              "\n",
              "    .colab-df-convert {\n",
              "      background-color: #E8F0FE;\n",
              "      border: none;\n",
              "      border-radius: 50%;\n",
              "      cursor: pointer;\n",
              "      display: none;\n",
              "      fill: #1967D2;\n",
              "      height: 32px;\n",
              "      padding: 0 0 0 0;\n",
              "      width: 32px;\n",
              "    }\n",
              "\n",
              "    .colab-df-convert:hover {\n",
              "      background-color: #E2EBFA;\n",
              "      box-shadow: 0px 1px 2px rgba(60, 64, 67, 0.3), 0px 1px 3px 1px rgba(60, 64, 67, 0.15);\n",
              "      fill: #174EA6;\n",
              "    }\n",
              "\n",
              "    [theme=dark] .colab-df-convert {\n",
              "      background-color: #3B4455;\n",
              "      fill: #D2E3FC;\n",
              "    }\n",
              "\n",
              "    [theme=dark] .colab-df-convert:hover {\n",
              "      background-color: #434B5C;\n",
              "      box-shadow: 0px 1px 3px 1px rgba(0, 0, 0, 0.15);\n",
              "      filter: drop-shadow(0px 1px 2px rgba(0, 0, 0, 0.3));\n",
              "      fill: #FFFFFF;\n",
              "    }\n",
              "  </style>\n",
              "\n",
              "      <script>\n",
              "        const buttonEl =\n",
              "          document.querySelector('#df-650d5a91-fb64-4184-a981-0b48a04b4342 button.colab-df-convert');\n",
              "        buttonEl.style.display =\n",
              "          google.colab.kernel.accessAllowed ? 'block' : 'none';\n",
              "\n",
              "        async function convertToInteractive(key) {\n",
              "          const element = document.querySelector('#df-650d5a91-fb64-4184-a981-0b48a04b4342');\n",
              "          const dataTable =\n",
              "            await google.colab.kernel.invokeFunction('convertToInteractive',\n",
              "                                                     [key], {});\n",
              "          if (!dataTable) return;\n",
              "\n",
              "          const docLinkHtml = 'Like what you see? Visit the ' +\n",
              "            '<a target=\"_blank\" href=https://colab.research.google.com/notebooks/data_table.ipynb>data table notebook</a>'\n",
              "            + ' to learn more about interactive tables.';\n",
              "          element.innerHTML = '';\n",
              "          dataTable['output_type'] = 'display_data';\n",
              "          await google.colab.output.renderOutput(dataTable, element);\n",
              "          const docLink = document.createElement('div');\n",
              "          docLink.innerHTML = docLinkHtml;\n",
              "          element.appendChild(docLink);\n",
              "        }\n",
              "      </script>\n",
              "    </div>\n",
              "  </div>\n",
              "  "
            ]
          },
          "metadata": {},
          "execution_count": 714
        }
      ],
      "source": [
        "from sklearn.preprocessing import OneHotEncoder\n",
        "from sklearn.compose import ColumnTransformer\n",
        "\n",
        "df_encode = df.copy()\n",
        "\n",
        "kategorik = df.select_dtypes(include=['object']).drop('cuaca', axis=1).columns\n",
        "numerik = df.select_dtypes(exclude=['object']).columns\n",
        "\n",
        "transformer = ColumnTransformer([\n",
        "    ('categoric', OneHotEncoder(dtype=int, sparse_output=False), kategorik),\n",
        "    ('label', 'passthrough', ['cuaca']),\n",
        "    ('numeric', 'passthrough', numerik),\n",
        "])\n",
        "\n",
        "encode_data = transformer.fit_transform(df_encode)\n",
        "encode_kategorik = transformer.named_transformers_['categoric'].get_feature_names_out(kategorik)\n",
        "encode_kolom = list(encode_kategorik) + ['cuaca'] + list(numerik)\n",
        "\n",
        "df_encode = pd.DataFrame(encode_data, columns=encode_kolom)\n",
        "df_encode.head()"
      ]
    },
    {
      "cell_type": "markdown",
      "source": [
        "<b>Ilustrasi hasil dari tahapan Encoding menggunakan One-Hot Encoding dengan Columns Transformer"
      ],
      "metadata": {
        "id": "b2ZvPB-UMX6f"
      }
    },
    {
      "cell_type": "markdown",
      "metadata": {
        "id": "cynNgQBBVy1W"
      },
      "source": [
        "Mengubah kolom kategorik menjadi bentuk numerik,<br>\n",
        "Kolom label atau cuaca tidak diubah karena merupakan target klasifikasi<br>\n",
        "Kolom numerik di 'passthrough' karena tidak dilakukan scaling/normalisasi<br>\n",
        "Penggunaan 'passthrough' dilakukan agar menjaga kolom-kolom yang tidak memerlukan transformasi tetap ada dalam output"
      ]
    },
    {
      "cell_type": "code",
      "source": [
        "kolom1 = df_encode.columns[df_encode.columns.str.contains('waktu|wilayah', case=False)]\n",
        "df_encode[kolom1] = df_encode[kolom1].astype(int)\n",
        "\n",
        "kolom2 = df_encode.columns[df_encode.columns.str.contains('mean', case=False)]\n",
        "df_encode[kolom2] = df_encode[kolom2].astype(float)\n",
        "\n",
        "kolom3 = df_encode.columns[df_encode.columns.str.contains('min|max', case=False)]\n",
        "df_encode[kolom3] = df_encode[kolom3].astype(int)\n",
        "\n",
        "df_encode.dtypes"
      ],
      "metadata": {
        "colab": {
          "base_uri": "https://localhost:8080/"
        },
        "id": "9COq4-_Kv6Js",
        "outputId": "2f4d5f7f-5838-4f60-9a5b-37bab769e5f4"
      },
      "execution_count": null,
      "outputs": [
        {
          "output_type": "execute_result",
          "data": {
            "text/plain": [
              "wilayah_Jakarta Barat                int64\n",
              "wilayah_Jakarta Pusat                int64\n",
              "wilayah_Jakarta Selatan              int64\n",
              "wilayah_Jakarta Timur                int64\n",
              "wilayah_Jakarta Utara                int64\n",
              "wilayah_Kepulauan Seribu             int64\n",
              "waktu_Dini Hari                      int64\n",
              "waktu_Malam                          int64\n",
              "waktu_Pagi                           int64\n",
              "waktu_Siang                          int64\n",
              "cuaca                               object\n",
              "tanggal                     datetime64[ns]\n",
              "kelembaban_min                       int64\n",
              "kelembaban_max                       int64\n",
              "kelembaban_mean                    float64\n",
              "suhu_min                             int64\n",
              "suhu_max                             int64\n",
              "suhu_mean                          float64\n",
              "dtype: object"
            ]
          },
          "metadata": {},
          "execution_count": 715
        }
      ]
    },
    {
      "cell_type": "markdown",
      "metadata": {
        "id": "YgyORGicVy1X"
      },
      "source": [
        "# Visualisasi Data"
      ]
    },
    {
      "cell_type": "code",
      "execution_count": null,
      "metadata": {
        "id": "fJ64dl1mVy1X"
      },
      "outputs": [],
      "source": [
        "# sns.pairplot(df, hue=\"cuaca\", corner=True)"
      ]
    },
    {
      "cell_type": "markdown",
      "metadata": {
        "id": "4Jvj02gGVy1X"
      },
      "source": [
        "persebaran data cuaca Provinsi DKI Jakarta pada Tahun 2018"
      ]
    },
    {
      "cell_type": "markdown",
      "source": [
        "## Feature Selection"
      ],
      "metadata": {
        "id": "twq3MuqUY2Ed"
      }
    },
    {
      "cell_type": "markdown",
      "source": [
        "Pada tahapan ini feature selection menggunakan algoritma Random Forest<br>\n",
        "Menggunakan rasio 80% data latih dan 20% data uji<br>\n",
        "<br>\n",
        "Tahapan pengujian hanya dilakukan untuk kolom waktu dan wilayah<br>\n",
        "Karena menurut beberapa jurnal, cuaca dipengaruhi oleh kelembaban dan suhu<br>\n",
        "Sehingga kolom kelembaban dan suhu tetap digunakan\n",
        "<br><br>\n",
        "Tahapan ini memiliki 4 kondisi, yaitu:\n",
        "  - menguji kolom waktu dan wilayah\n",
        "  - menguji kolom waktu\n",
        "  - menguji kolom wilayah\n",
        "  - menguji tanpa kolom waktu dan wilayah\n"
      ],
      "metadata": {
        "id": "njpkTzX_XKlA"
      }
    },
    {
      "cell_type": "markdown",
      "metadata": {
        "id": "2eOnmHQZVy1V"
      },
      "source": [
        "### Membuang Kolom yang tidak memengaruhi hasil akurasi\n",
        "#### <b>Menggunakan metode Wrapper dengan Backward Elimination</b>\n",
        "Menggunakan algoritma Random Forest sebagai contoh model yang digunakan<br>\n",
        "Serta menggunakan data df_encode yang sudah dilakukan tahapan Encoding secara manual"
      ]
    },
    {
      "cell_type": "code",
      "execution_count": null,
      "metadata": {
        "id": "0vAfQZSHVy1W"
      },
      "outputs": [],
      "source": [
        "df.drop(columns=[\"tanggal\"], inplace=True)\n",
        "df_encode.drop(columns=[\"tanggal\"], inplace=True)"
      ]
    },
    {
      "cell_type": "markdown",
      "metadata": {
        "id": "-juceFP2Vy1W"
      },
      "source": [
        "Membuang kolom tanggal karena tidak diperlukan dalam proses<br>\n",
        "Menganalisis dan memproses data cuaca Provinsi DKI Jakarta tahun 2018"
      ]
    },
    {
      "cell_type": "code",
      "source": [
        "hasil_model = pd.DataFrame(columns=['model', 'akurasi'])"
      ],
      "metadata": {
        "id": "2GOs4VP-Yiwr"
      },
      "execution_count": null,
      "outputs": []
    },
    {
      "cell_type": "markdown",
      "source": [
        "#### Model 1 [Waktu, Wilayah]"
      ],
      "metadata": {
        "id": "5BOIJIcLxi4E"
      }
    },
    {
      "cell_type": "code",
      "source": [
        "df_selection = df_encode.copy()\n",
        "\n",
        "X = df_selection.drop(columns=['cuaca'])\n",
        "y = df_selection[['cuaca']]\n",
        "\n",
        "X_train, X_test, y_train, y_test = train_test_split(X, y, test_size=0.2, stratify=y, random_state=42, shuffle=True)\n",
        "\n",
        "model = RandomForestClassifier(n_jobs=-1, random_state=42)\n",
        "model.fit(X_train, y_train)\n",
        "score = model.score(X_test, y_test)\n",
        "      \n",
        "hasil_model = hasil_model.append({'model': 'model[Waktu, Wilayah]',\n",
        "                                  'akurasi': score}, ignore_index=True)\n",
        "hasil_model.head()"
      ],
      "metadata": {
        "id": "4LW9AxVHx4W9",
        "colab": {
          "base_uri": "https://localhost:8080/",
          "height": 170
        },
        "outputId": "00bff793-d2e8-4b3b-8513-0a0999ff3ad7"
      },
      "execution_count": null,
      "outputs": [
        {
          "output_type": "stream",
          "name": "stderr",
          "text": [
            "<ipython-input-719-643df5d6c774>:9: DataConversionWarning: A column-vector y was passed when a 1d array was expected. Please change the shape of y to (n_samples,), for example using ravel().\n",
            "  model.fit(X_train, y_train)\n",
            "<ipython-input-719-643df5d6c774>:12: FutureWarning: The frame.append method is deprecated and will be removed from pandas in a future version. Use pandas.concat instead.\n",
            "  hasil_model = hasil_model.append({'model': 'model[Waktu, Wilayah]',\n"
          ]
        },
        {
          "output_type": "execute_result",
          "data": {
            "text/plain": [
              "                   model   akurasi\n",
              "0  model[Waktu, Wilayah]  0.532143"
            ],
            "text/html": [
              "\n",
              "  <div id=\"df-7466f218-3c22-410b-8e78-81fa30bc0b27\">\n",
              "    <div class=\"colab-df-container\">\n",
              "      <div>\n",
              "<style scoped>\n",
              "    .dataframe tbody tr th:only-of-type {\n",
              "        vertical-align: middle;\n",
              "    }\n",
              "\n",
              "    .dataframe tbody tr th {\n",
              "        vertical-align: top;\n",
              "    }\n",
              "\n",
              "    .dataframe thead th {\n",
              "        text-align: right;\n",
              "    }\n",
              "</style>\n",
              "<table border=\"1\" class=\"dataframe\">\n",
              "  <thead>\n",
              "    <tr style=\"text-align: right;\">\n",
              "      <th></th>\n",
              "      <th>model</th>\n",
              "      <th>akurasi</th>\n",
              "    </tr>\n",
              "  </thead>\n",
              "  <tbody>\n",
              "    <tr>\n",
              "      <th>0</th>\n",
              "      <td>model[Waktu, Wilayah]</td>\n",
              "      <td>0.532143</td>\n",
              "    </tr>\n",
              "  </tbody>\n",
              "</table>\n",
              "</div>\n",
              "      <button class=\"colab-df-convert\" onclick=\"convertToInteractive('df-7466f218-3c22-410b-8e78-81fa30bc0b27')\"\n",
              "              title=\"Convert this dataframe to an interactive table.\"\n",
              "              style=\"display:none;\">\n",
              "        \n",
              "  <svg xmlns=\"http://www.w3.org/2000/svg\" height=\"24px\"viewBox=\"0 0 24 24\"\n",
              "       width=\"24px\">\n",
              "    <path d=\"M0 0h24v24H0V0z\" fill=\"none\"/>\n",
              "    <path d=\"M18.56 5.44l.94 2.06.94-2.06 2.06-.94-2.06-.94-.94-2.06-.94 2.06-2.06.94zm-11 1L8.5 8.5l.94-2.06 2.06-.94-2.06-.94L8.5 2.5l-.94 2.06-2.06.94zm10 10l.94 2.06.94-2.06 2.06-.94-2.06-.94-.94-2.06-.94 2.06-2.06.94z\"/><path d=\"M17.41 7.96l-1.37-1.37c-.4-.4-.92-.59-1.43-.59-.52 0-1.04.2-1.43.59L10.3 9.45l-7.72 7.72c-.78.78-.78 2.05 0 2.83L4 21.41c.39.39.9.59 1.41.59.51 0 1.02-.2 1.41-.59l7.78-7.78 2.81-2.81c.8-.78.8-2.07 0-2.86zM5.41 20L4 18.59l7.72-7.72 1.47 1.35L5.41 20z\"/>\n",
              "  </svg>\n",
              "      </button>\n",
              "      \n",
              "  <style>\n",
              "    .colab-df-container {\n",
              "      display:flex;\n",
              "      flex-wrap:wrap;\n",
              "      gap: 12px;\n",
              "    }\n",
              "\n",
              "    .colab-df-convert {\n",
              "      background-color: #E8F0FE;\n",
              "      border: none;\n",
              "      border-radius: 50%;\n",
              "      cursor: pointer;\n",
              "      display: none;\n",
              "      fill: #1967D2;\n",
              "      height: 32px;\n",
              "      padding: 0 0 0 0;\n",
              "      width: 32px;\n",
              "    }\n",
              "\n",
              "    .colab-df-convert:hover {\n",
              "      background-color: #E2EBFA;\n",
              "      box-shadow: 0px 1px 2px rgba(60, 64, 67, 0.3), 0px 1px 3px 1px rgba(60, 64, 67, 0.15);\n",
              "      fill: #174EA6;\n",
              "    }\n",
              "\n",
              "    [theme=dark] .colab-df-convert {\n",
              "      background-color: #3B4455;\n",
              "      fill: #D2E3FC;\n",
              "    }\n",
              "\n",
              "    [theme=dark] .colab-df-convert:hover {\n",
              "      background-color: #434B5C;\n",
              "      box-shadow: 0px 1px 3px 1px rgba(0, 0, 0, 0.15);\n",
              "      filter: drop-shadow(0px 1px 2px rgba(0, 0, 0, 0.3));\n",
              "      fill: #FFFFFF;\n",
              "    }\n",
              "  </style>\n",
              "\n",
              "      <script>\n",
              "        const buttonEl =\n",
              "          document.querySelector('#df-7466f218-3c22-410b-8e78-81fa30bc0b27 button.colab-df-convert');\n",
              "        buttonEl.style.display =\n",
              "          google.colab.kernel.accessAllowed ? 'block' : 'none';\n",
              "\n",
              "        async function convertToInteractive(key) {\n",
              "          const element = document.querySelector('#df-7466f218-3c22-410b-8e78-81fa30bc0b27');\n",
              "          const dataTable =\n",
              "            await google.colab.kernel.invokeFunction('convertToInteractive',\n",
              "                                                     [key], {});\n",
              "          if (!dataTable) return;\n",
              "\n",
              "          const docLinkHtml = 'Like what you see? Visit the ' +\n",
              "            '<a target=\"_blank\" href=https://colab.research.google.com/notebooks/data_table.ipynb>data table notebook</a>'\n",
              "            + ' to learn more about interactive tables.';\n",
              "          element.innerHTML = '';\n",
              "          dataTable['output_type'] = 'display_data';\n",
              "          await google.colab.output.renderOutput(dataTable, element);\n",
              "          const docLink = document.createElement('div');\n",
              "          docLink.innerHTML = docLinkHtml;\n",
              "          element.appendChild(docLink);\n",
              "        }\n",
              "      </script>\n",
              "    </div>\n",
              "  </div>\n",
              "  "
            ]
          },
          "metadata": {},
          "execution_count": 719
        }
      ]
    },
    {
      "cell_type": "markdown",
      "source": [
        "#### Model 2 [Waktu]"
      ],
      "metadata": {
        "id": "_VLtBbSoxrc-"
      }
    },
    {
      "cell_type": "code",
      "source": [
        "kolom = df_encode.columns[df_encode.columns.str.contains('wilayah', case=False)]\n",
        "kolom.tolist() + ['cuaca']"
      ],
      "metadata": {
        "colab": {
          "base_uri": "https://localhost:8080/"
        },
        "id": "kUrs9ZPUUvd-",
        "outputId": "13797ac7-595c-4202-9683-3fe3b0ee56d9"
      },
      "execution_count": null,
      "outputs": [
        {
          "output_type": "execute_result",
          "data": {
            "text/plain": [
              "['wilayah_Jakarta Barat',\n",
              " 'wilayah_Jakarta Pusat',\n",
              " 'wilayah_Jakarta Selatan',\n",
              " 'wilayah_Jakarta Timur',\n",
              " 'wilayah_Jakarta Utara',\n",
              " 'wilayah_Kepulauan Seribu',\n",
              " 'cuaca']"
            ]
          },
          "metadata": {},
          "execution_count": 720
        }
      ]
    },
    {
      "cell_type": "code",
      "source": [
        "df_selection = df_encode.copy()\n",
        "\n",
        "X = df_selection.drop(columns=kolom.tolist() + ['cuaca'])\n",
        "y = df_selection[['cuaca']]\n",
        "\n",
        "X_train, X_test, y_train, y_test = train_test_split(X, y, test_size=0.2, stratify=y, random_state=42, shuffle=True)\n",
        "\n",
        "model = RandomForestClassifier(n_jobs=-1, random_state=42)\n",
        "model.fit(X_train, y_train)\n",
        "score = model.score(X_test, y_test)\n",
        "      \n",
        "hasil_model = hasil_model.append({'model': 'model[Waktu]',\n",
        "                                  'akurasi': score}, ignore_index=True)\n",
        "hasil_model.head()"
      ],
      "metadata": {
        "colab": {
          "base_uri": "https://localhost:8080/",
          "height": 201
        },
        "id": "M_dhsmCtUUHf",
        "outputId": "d08ee748-cc9d-4372-f279-64f8a2e0ce6c"
      },
      "execution_count": null,
      "outputs": [
        {
          "output_type": "stream",
          "name": "stderr",
          "text": [
            "<ipython-input-721-5d56007f515e>:9: DataConversionWarning: A column-vector y was passed when a 1d array was expected. Please change the shape of y to (n_samples,), for example using ravel().\n",
            "  model.fit(X_train, y_train)\n",
            "<ipython-input-721-5d56007f515e>:12: FutureWarning: The frame.append method is deprecated and will be removed from pandas in a future version. Use pandas.concat instead.\n",
            "  hasil_model = hasil_model.append({'model': 'model[Waktu]',\n"
          ]
        },
        {
          "output_type": "execute_result",
          "data": {
            "text/plain": [
              "                   model   akurasi\n",
              "0  model[Waktu, Wilayah]  0.532143\n",
              "1           model[Waktu]  0.572619"
            ],
            "text/html": [
              "\n",
              "  <div id=\"df-aec57090-8bc8-49e5-ac5f-74b9199298b6\">\n",
              "    <div class=\"colab-df-container\">\n",
              "      <div>\n",
              "<style scoped>\n",
              "    .dataframe tbody tr th:only-of-type {\n",
              "        vertical-align: middle;\n",
              "    }\n",
              "\n",
              "    .dataframe tbody tr th {\n",
              "        vertical-align: top;\n",
              "    }\n",
              "\n",
              "    .dataframe thead th {\n",
              "        text-align: right;\n",
              "    }\n",
              "</style>\n",
              "<table border=\"1\" class=\"dataframe\">\n",
              "  <thead>\n",
              "    <tr style=\"text-align: right;\">\n",
              "      <th></th>\n",
              "      <th>model</th>\n",
              "      <th>akurasi</th>\n",
              "    </tr>\n",
              "  </thead>\n",
              "  <tbody>\n",
              "    <tr>\n",
              "      <th>0</th>\n",
              "      <td>model[Waktu, Wilayah]</td>\n",
              "      <td>0.532143</td>\n",
              "    </tr>\n",
              "    <tr>\n",
              "      <th>1</th>\n",
              "      <td>model[Waktu]</td>\n",
              "      <td>0.572619</td>\n",
              "    </tr>\n",
              "  </tbody>\n",
              "</table>\n",
              "</div>\n",
              "      <button class=\"colab-df-convert\" onclick=\"convertToInteractive('df-aec57090-8bc8-49e5-ac5f-74b9199298b6')\"\n",
              "              title=\"Convert this dataframe to an interactive table.\"\n",
              "              style=\"display:none;\">\n",
              "        \n",
              "  <svg xmlns=\"http://www.w3.org/2000/svg\" height=\"24px\"viewBox=\"0 0 24 24\"\n",
              "       width=\"24px\">\n",
              "    <path d=\"M0 0h24v24H0V0z\" fill=\"none\"/>\n",
              "    <path d=\"M18.56 5.44l.94 2.06.94-2.06 2.06-.94-2.06-.94-.94-2.06-.94 2.06-2.06.94zm-11 1L8.5 8.5l.94-2.06 2.06-.94-2.06-.94L8.5 2.5l-.94 2.06-2.06.94zm10 10l.94 2.06.94-2.06 2.06-.94-2.06-.94-.94-2.06-.94 2.06-2.06.94z\"/><path d=\"M17.41 7.96l-1.37-1.37c-.4-.4-.92-.59-1.43-.59-.52 0-1.04.2-1.43.59L10.3 9.45l-7.72 7.72c-.78.78-.78 2.05 0 2.83L4 21.41c.39.39.9.59 1.41.59.51 0 1.02-.2 1.41-.59l7.78-7.78 2.81-2.81c.8-.78.8-2.07 0-2.86zM5.41 20L4 18.59l7.72-7.72 1.47 1.35L5.41 20z\"/>\n",
              "  </svg>\n",
              "      </button>\n",
              "      \n",
              "  <style>\n",
              "    .colab-df-container {\n",
              "      display:flex;\n",
              "      flex-wrap:wrap;\n",
              "      gap: 12px;\n",
              "    }\n",
              "\n",
              "    .colab-df-convert {\n",
              "      background-color: #E8F0FE;\n",
              "      border: none;\n",
              "      border-radius: 50%;\n",
              "      cursor: pointer;\n",
              "      display: none;\n",
              "      fill: #1967D2;\n",
              "      height: 32px;\n",
              "      padding: 0 0 0 0;\n",
              "      width: 32px;\n",
              "    }\n",
              "\n",
              "    .colab-df-convert:hover {\n",
              "      background-color: #E2EBFA;\n",
              "      box-shadow: 0px 1px 2px rgba(60, 64, 67, 0.3), 0px 1px 3px 1px rgba(60, 64, 67, 0.15);\n",
              "      fill: #174EA6;\n",
              "    }\n",
              "\n",
              "    [theme=dark] .colab-df-convert {\n",
              "      background-color: #3B4455;\n",
              "      fill: #D2E3FC;\n",
              "    }\n",
              "\n",
              "    [theme=dark] .colab-df-convert:hover {\n",
              "      background-color: #434B5C;\n",
              "      box-shadow: 0px 1px 3px 1px rgba(0, 0, 0, 0.15);\n",
              "      filter: drop-shadow(0px 1px 2px rgba(0, 0, 0, 0.3));\n",
              "      fill: #FFFFFF;\n",
              "    }\n",
              "  </style>\n",
              "\n",
              "      <script>\n",
              "        const buttonEl =\n",
              "          document.querySelector('#df-aec57090-8bc8-49e5-ac5f-74b9199298b6 button.colab-df-convert');\n",
              "        buttonEl.style.display =\n",
              "          google.colab.kernel.accessAllowed ? 'block' : 'none';\n",
              "\n",
              "        async function convertToInteractive(key) {\n",
              "          const element = document.querySelector('#df-aec57090-8bc8-49e5-ac5f-74b9199298b6');\n",
              "          const dataTable =\n",
              "            await google.colab.kernel.invokeFunction('convertToInteractive',\n",
              "                                                     [key], {});\n",
              "          if (!dataTable) return;\n",
              "\n",
              "          const docLinkHtml = 'Like what you see? Visit the ' +\n",
              "            '<a target=\"_blank\" href=https://colab.research.google.com/notebooks/data_table.ipynb>data table notebook</a>'\n",
              "            + ' to learn more about interactive tables.';\n",
              "          element.innerHTML = '';\n",
              "          dataTable['output_type'] = 'display_data';\n",
              "          await google.colab.output.renderOutput(dataTable, element);\n",
              "          const docLink = document.createElement('div');\n",
              "          docLink.innerHTML = docLinkHtml;\n",
              "          element.appendChild(docLink);\n",
              "        }\n",
              "      </script>\n",
              "    </div>\n",
              "  </div>\n",
              "  "
            ]
          },
          "metadata": {},
          "execution_count": 721
        }
      ]
    },
    {
      "cell_type": "markdown",
      "source": [
        "#### Model 3 [Wilayah]"
      ],
      "metadata": {
        "id": "Y1wK0NqnxucW"
      }
    },
    {
      "cell_type": "code",
      "source": [
        "kolom = df_encode.columns[df_encode.columns.str.contains('waktu', case=False)]\n",
        "kolom.tolist() + ['cuaca']"
      ],
      "metadata": {
        "colab": {
          "base_uri": "https://localhost:8080/"
        },
        "id": "c2AfqFRPWMhn",
        "outputId": "f3b2dc90-eb3b-40ec-c220-bc99d8bc01b2"
      },
      "execution_count": null,
      "outputs": [
        {
          "output_type": "execute_result",
          "data": {
            "text/plain": [
              "['waktu_Dini Hari', 'waktu_Malam', 'waktu_Pagi', 'waktu_Siang', 'cuaca']"
            ]
          },
          "metadata": {},
          "execution_count": 722
        }
      ]
    },
    {
      "cell_type": "code",
      "source": [
        "df_selection = df_encode.copy()\n",
        "\n",
        "X = df_selection.drop(columns=kolom.tolist() + ['cuaca'])\n",
        "y = df_selection[['cuaca']]\n",
        "\n",
        "X_train, X_test, y_train, y_test = train_test_split(X, y, test_size=0.2, stratify=y, random_state=42, shuffle=True)\n",
        "\n",
        "model = RandomForestClassifier(n_jobs=-1, random_state=42)\n",
        "model.fit(X_train, y_train)\n",
        "score = model.score(X_test, y_test)\n",
        "      \n",
        "hasil_model = hasil_model.append({'model': 'model[Wilayah]',\n",
        "                                  'akurasi': score}, ignore_index=True)\n",
        "hasil_model.head()"
      ],
      "metadata": {
        "colab": {
          "base_uri": "https://localhost:8080/",
          "height": 233
        },
        "id": "eJotEu3JWLZf",
        "outputId": "4ef68ef4-990d-4de3-bf33-68a093754696"
      },
      "execution_count": null,
      "outputs": [
        {
          "output_type": "stream",
          "name": "stderr",
          "text": [
            "<ipython-input-723-859239705e13>:9: DataConversionWarning: A column-vector y was passed when a 1d array was expected. Please change the shape of y to (n_samples,), for example using ravel().\n",
            "  model.fit(X_train, y_train)\n",
            "<ipython-input-723-859239705e13>:12: FutureWarning: The frame.append method is deprecated and will be removed from pandas in a future version. Use pandas.concat instead.\n",
            "  hasil_model = hasil_model.append({'model': 'model[Wilayah]',\n"
          ]
        },
        {
          "output_type": "execute_result",
          "data": {
            "text/plain": [
              "                   model   akurasi\n",
              "0  model[Waktu, Wilayah]  0.532143\n",
              "1           model[Waktu]  0.572619\n",
              "2         model[Wilayah]  0.461310"
            ],
            "text/html": [
              "\n",
              "  <div id=\"df-5dad9810-157a-4fb3-a89c-4f833e94d630\">\n",
              "    <div class=\"colab-df-container\">\n",
              "      <div>\n",
              "<style scoped>\n",
              "    .dataframe tbody tr th:only-of-type {\n",
              "        vertical-align: middle;\n",
              "    }\n",
              "\n",
              "    .dataframe tbody tr th {\n",
              "        vertical-align: top;\n",
              "    }\n",
              "\n",
              "    .dataframe thead th {\n",
              "        text-align: right;\n",
              "    }\n",
              "</style>\n",
              "<table border=\"1\" class=\"dataframe\">\n",
              "  <thead>\n",
              "    <tr style=\"text-align: right;\">\n",
              "      <th></th>\n",
              "      <th>model</th>\n",
              "      <th>akurasi</th>\n",
              "    </tr>\n",
              "  </thead>\n",
              "  <tbody>\n",
              "    <tr>\n",
              "      <th>0</th>\n",
              "      <td>model[Waktu, Wilayah]</td>\n",
              "      <td>0.532143</td>\n",
              "    </tr>\n",
              "    <tr>\n",
              "      <th>1</th>\n",
              "      <td>model[Waktu]</td>\n",
              "      <td>0.572619</td>\n",
              "    </tr>\n",
              "    <tr>\n",
              "      <th>2</th>\n",
              "      <td>model[Wilayah]</td>\n",
              "      <td>0.461310</td>\n",
              "    </tr>\n",
              "  </tbody>\n",
              "</table>\n",
              "</div>\n",
              "      <button class=\"colab-df-convert\" onclick=\"convertToInteractive('df-5dad9810-157a-4fb3-a89c-4f833e94d630')\"\n",
              "              title=\"Convert this dataframe to an interactive table.\"\n",
              "              style=\"display:none;\">\n",
              "        \n",
              "  <svg xmlns=\"http://www.w3.org/2000/svg\" height=\"24px\"viewBox=\"0 0 24 24\"\n",
              "       width=\"24px\">\n",
              "    <path d=\"M0 0h24v24H0V0z\" fill=\"none\"/>\n",
              "    <path d=\"M18.56 5.44l.94 2.06.94-2.06 2.06-.94-2.06-.94-.94-2.06-.94 2.06-2.06.94zm-11 1L8.5 8.5l.94-2.06 2.06-.94-2.06-.94L8.5 2.5l-.94 2.06-2.06.94zm10 10l.94 2.06.94-2.06 2.06-.94-2.06-.94-.94-2.06-.94 2.06-2.06.94z\"/><path d=\"M17.41 7.96l-1.37-1.37c-.4-.4-.92-.59-1.43-.59-.52 0-1.04.2-1.43.59L10.3 9.45l-7.72 7.72c-.78.78-.78 2.05 0 2.83L4 21.41c.39.39.9.59 1.41.59.51 0 1.02-.2 1.41-.59l7.78-7.78 2.81-2.81c.8-.78.8-2.07 0-2.86zM5.41 20L4 18.59l7.72-7.72 1.47 1.35L5.41 20z\"/>\n",
              "  </svg>\n",
              "      </button>\n",
              "      \n",
              "  <style>\n",
              "    .colab-df-container {\n",
              "      display:flex;\n",
              "      flex-wrap:wrap;\n",
              "      gap: 12px;\n",
              "    }\n",
              "\n",
              "    .colab-df-convert {\n",
              "      background-color: #E8F0FE;\n",
              "      border: none;\n",
              "      border-radius: 50%;\n",
              "      cursor: pointer;\n",
              "      display: none;\n",
              "      fill: #1967D2;\n",
              "      height: 32px;\n",
              "      padding: 0 0 0 0;\n",
              "      width: 32px;\n",
              "    }\n",
              "\n",
              "    .colab-df-convert:hover {\n",
              "      background-color: #E2EBFA;\n",
              "      box-shadow: 0px 1px 2px rgba(60, 64, 67, 0.3), 0px 1px 3px 1px rgba(60, 64, 67, 0.15);\n",
              "      fill: #174EA6;\n",
              "    }\n",
              "\n",
              "    [theme=dark] .colab-df-convert {\n",
              "      background-color: #3B4455;\n",
              "      fill: #D2E3FC;\n",
              "    }\n",
              "\n",
              "    [theme=dark] .colab-df-convert:hover {\n",
              "      background-color: #434B5C;\n",
              "      box-shadow: 0px 1px 3px 1px rgba(0, 0, 0, 0.15);\n",
              "      filter: drop-shadow(0px 1px 2px rgba(0, 0, 0, 0.3));\n",
              "      fill: #FFFFFF;\n",
              "    }\n",
              "  </style>\n",
              "\n",
              "      <script>\n",
              "        const buttonEl =\n",
              "          document.querySelector('#df-5dad9810-157a-4fb3-a89c-4f833e94d630 button.colab-df-convert');\n",
              "        buttonEl.style.display =\n",
              "          google.colab.kernel.accessAllowed ? 'block' : 'none';\n",
              "\n",
              "        async function convertToInteractive(key) {\n",
              "          const element = document.querySelector('#df-5dad9810-157a-4fb3-a89c-4f833e94d630');\n",
              "          const dataTable =\n",
              "            await google.colab.kernel.invokeFunction('convertToInteractive',\n",
              "                                                     [key], {});\n",
              "          if (!dataTable) return;\n",
              "\n",
              "          const docLinkHtml = 'Like what you see? Visit the ' +\n",
              "            '<a target=\"_blank\" href=https://colab.research.google.com/notebooks/data_table.ipynb>data table notebook</a>'\n",
              "            + ' to learn more about interactive tables.';\n",
              "          element.innerHTML = '';\n",
              "          dataTable['output_type'] = 'display_data';\n",
              "          await google.colab.output.renderOutput(dataTable, element);\n",
              "          const docLink = document.createElement('div');\n",
              "          docLink.innerHTML = docLinkHtml;\n",
              "          element.appendChild(docLink);\n",
              "        }\n",
              "      </script>\n",
              "    </div>\n",
              "  </div>\n",
              "  "
            ]
          },
          "metadata": {},
          "execution_count": 723
        }
      ]
    },
    {
      "cell_type": "markdown",
      "source": [
        "#### Model 4 Tanpa [Waktu, Wilayah]"
      ],
      "metadata": {
        "id": "PhBN1t0xxwuf"
      }
    },
    {
      "cell_type": "code",
      "source": [
        "kolom = df_encode.columns[df_encode.columns.str.contains('waktu|wilayah', case=False)]\n",
        "kolom.tolist() + ['cuaca']"
      ],
      "metadata": {
        "colab": {
          "base_uri": "https://localhost:8080/"
        },
        "id": "5DZecp3yWWqO",
        "outputId": "6bb28a6d-f977-4b13-f1f9-3f992887e7b3"
      },
      "execution_count": null,
      "outputs": [
        {
          "output_type": "execute_result",
          "data": {
            "text/plain": [
              "['wilayah_Jakarta Barat',\n",
              " 'wilayah_Jakarta Pusat',\n",
              " 'wilayah_Jakarta Selatan',\n",
              " 'wilayah_Jakarta Timur',\n",
              " 'wilayah_Jakarta Utara',\n",
              " 'wilayah_Kepulauan Seribu',\n",
              " 'waktu_Dini Hari',\n",
              " 'waktu_Malam',\n",
              " 'waktu_Pagi',\n",
              " 'waktu_Siang',\n",
              " 'cuaca']"
            ]
          },
          "metadata": {},
          "execution_count": 724
        }
      ]
    },
    {
      "cell_type": "code",
      "source": [
        "df_selection = df_encode.copy()\n",
        "\n",
        "X = df_selection.drop(columns=kolom.tolist() + ['cuaca'])\n",
        "y = df_selection[['cuaca']]\n",
        "\n",
        "X_train, X_test, y_train, y_test = train_test_split(X, y, test_size=0.2, stratify=y, random_state=42, shuffle=True)\n",
        "\n",
        "model = RandomForestClassifier(n_jobs=-1, random_state=42)\n",
        "model.fit(X_train, y_train)\n",
        "score = model.score(X_test, y_test)\n",
        "      \n",
        "hasil_model = hasil_model.append({'model': 'model tanpa[Waktu, Wilayah]',\n",
        "                                  'akurasi': score}, ignore_index=True)\n",
        "hasil_model.head()"
      ],
      "metadata": {
        "colab": {
          "base_uri": "https://localhost:8080/",
          "height": 264
        },
        "id": "iQCRWAoLWSoF",
        "outputId": "397b4cf7-7953-439d-83ca-52327a0eb6d8"
      },
      "execution_count": null,
      "outputs": [
        {
          "output_type": "stream",
          "name": "stderr",
          "text": [
            "<ipython-input-725-2d1fb9ce1423>:9: DataConversionWarning: A column-vector y was passed when a 1d array was expected. Please change the shape of y to (n_samples,), for example using ravel().\n",
            "  model.fit(X_train, y_train)\n",
            "<ipython-input-725-2d1fb9ce1423>:12: FutureWarning: The frame.append method is deprecated and will be removed from pandas in a future version. Use pandas.concat instead.\n",
            "  hasil_model = hasil_model.append({'model': 'model tanpa[Waktu, Wilayah]',\n"
          ]
        },
        {
          "output_type": "execute_result",
          "data": {
            "text/plain": [
              "                         model   akurasi\n",
              "0        model[Waktu, Wilayah]  0.532143\n",
              "1                 model[Waktu]  0.572619\n",
              "2               model[Wilayah]  0.461310\n",
              "3  model tanpa[Waktu, Wilayah]  0.501190"
            ],
            "text/html": [
              "\n",
              "  <div id=\"df-5c763b25-5f98-461e-85cc-4eaf9e1e11a4\">\n",
              "    <div class=\"colab-df-container\">\n",
              "      <div>\n",
              "<style scoped>\n",
              "    .dataframe tbody tr th:only-of-type {\n",
              "        vertical-align: middle;\n",
              "    }\n",
              "\n",
              "    .dataframe tbody tr th {\n",
              "        vertical-align: top;\n",
              "    }\n",
              "\n",
              "    .dataframe thead th {\n",
              "        text-align: right;\n",
              "    }\n",
              "</style>\n",
              "<table border=\"1\" class=\"dataframe\">\n",
              "  <thead>\n",
              "    <tr style=\"text-align: right;\">\n",
              "      <th></th>\n",
              "      <th>model</th>\n",
              "      <th>akurasi</th>\n",
              "    </tr>\n",
              "  </thead>\n",
              "  <tbody>\n",
              "    <tr>\n",
              "      <th>0</th>\n",
              "      <td>model[Waktu, Wilayah]</td>\n",
              "      <td>0.532143</td>\n",
              "    </tr>\n",
              "    <tr>\n",
              "      <th>1</th>\n",
              "      <td>model[Waktu]</td>\n",
              "      <td>0.572619</td>\n",
              "    </tr>\n",
              "    <tr>\n",
              "      <th>2</th>\n",
              "      <td>model[Wilayah]</td>\n",
              "      <td>0.461310</td>\n",
              "    </tr>\n",
              "    <tr>\n",
              "      <th>3</th>\n",
              "      <td>model tanpa[Waktu, Wilayah]</td>\n",
              "      <td>0.501190</td>\n",
              "    </tr>\n",
              "  </tbody>\n",
              "</table>\n",
              "</div>\n",
              "      <button class=\"colab-df-convert\" onclick=\"convertToInteractive('df-5c763b25-5f98-461e-85cc-4eaf9e1e11a4')\"\n",
              "              title=\"Convert this dataframe to an interactive table.\"\n",
              "              style=\"display:none;\">\n",
              "        \n",
              "  <svg xmlns=\"http://www.w3.org/2000/svg\" height=\"24px\"viewBox=\"0 0 24 24\"\n",
              "       width=\"24px\">\n",
              "    <path d=\"M0 0h24v24H0V0z\" fill=\"none\"/>\n",
              "    <path d=\"M18.56 5.44l.94 2.06.94-2.06 2.06-.94-2.06-.94-.94-2.06-.94 2.06-2.06.94zm-11 1L8.5 8.5l.94-2.06 2.06-.94-2.06-.94L8.5 2.5l-.94 2.06-2.06.94zm10 10l.94 2.06.94-2.06 2.06-.94-2.06-.94-.94-2.06-.94 2.06-2.06.94z\"/><path d=\"M17.41 7.96l-1.37-1.37c-.4-.4-.92-.59-1.43-.59-.52 0-1.04.2-1.43.59L10.3 9.45l-7.72 7.72c-.78.78-.78 2.05 0 2.83L4 21.41c.39.39.9.59 1.41.59.51 0 1.02-.2 1.41-.59l7.78-7.78 2.81-2.81c.8-.78.8-2.07 0-2.86zM5.41 20L4 18.59l7.72-7.72 1.47 1.35L5.41 20z\"/>\n",
              "  </svg>\n",
              "      </button>\n",
              "      \n",
              "  <style>\n",
              "    .colab-df-container {\n",
              "      display:flex;\n",
              "      flex-wrap:wrap;\n",
              "      gap: 12px;\n",
              "    }\n",
              "\n",
              "    .colab-df-convert {\n",
              "      background-color: #E8F0FE;\n",
              "      border: none;\n",
              "      border-radius: 50%;\n",
              "      cursor: pointer;\n",
              "      display: none;\n",
              "      fill: #1967D2;\n",
              "      height: 32px;\n",
              "      padding: 0 0 0 0;\n",
              "      width: 32px;\n",
              "    }\n",
              "\n",
              "    .colab-df-convert:hover {\n",
              "      background-color: #E2EBFA;\n",
              "      box-shadow: 0px 1px 2px rgba(60, 64, 67, 0.3), 0px 1px 3px 1px rgba(60, 64, 67, 0.15);\n",
              "      fill: #174EA6;\n",
              "    }\n",
              "\n",
              "    [theme=dark] .colab-df-convert {\n",
              "      background-color: #3B4455;\n",
              "      fill: #D2E3FC;\n",
              "    }\n",
              "\n",
              "    [theme=dark] .colab-df-convert:hover {\n",
              "      background-color: #434B5C;\n",
              "      box-shadow: 0px 1px 3px 1px rgba(0, 0, 0, 0.15);\n",
              "      filter: drop-shadow(0px 1px 2px rgba(0, 0, 0, 0.3));\n",
              "      fill: #FFFFFF;\n",
              "    }\n",
              "  </style>\n",
              "\n",
              "      <script>\n",
              "        const buttonEl =\n",
              "          document.querySelector('#df-5c763b25-5f98-461e-85cc-4eaf9e1e11a4 button.colab-df-convert');\n",
              "        buttonEl.style.display =\n",
              "          google.colab.kernel.accessAllowed ? 'block' : 'none';\n",
              "\n",
              "        async function convertToInteractive(key) {\n",
              "          const element = document.querySelector('#df-5c763b25-5f98-461e-85cc-4eaf9e1e11a4');\n",
              "          const dataTable =\n",
              "            await google.colab.kernel.invokeFunction('convertToInteractive',\n",
              "                                                     [key], {});\n",
              "          if (!dataTable) return;\n",
              "\n",
              "          const docLinkHtml = 'Like what you see? Visit the ' +\n",
              "            '<a target=\"_blank\" href=https://colab.research.google.com/notebooks/data_table.ipynb>data table notebook</a>'\n",
              "            + ' to learn more about interactive tables.';\n",
              "          element.innerHTML = '';\n",
              "          dataTable['output_type'] = 'display_data';\n",
              "          await google.colab.output.renderOutput(dataTable, element);\n",
              "          const docLink = document.createElement('div');\n",
              "          docLink.innerHTML = docLinkHtml;\n",
              "          element.appendChild(docLink);\n",
              "        }\n",
              "      </script>\n",
              "    </div>\n",
              "  </div>\n",
              "  "
            ]
          },
          "metadata": {},
          "execution_count": 725
        }
      ]
    },
    {
      "cell_type": "markdown",
      "source": [
        "Berdasarkan hasil pemodelan tersebut, diputuskan untuk membuang kolom wilayah<br>\n",
        "Karena tidak memengaruhi hasil akurasi menjadi lebih baik"
      ],
      "metadata": {
        "id": "xdFt6D8wdQpU"
      }
    },
    {
      "cell_type": "code",
      "source": [
        "df.drop(columns=['wilayah'], inplace=True)\n",
        "df.columns"
      ],
      "metadata": {
        "colab": {
          "base_uri": "https://localhost:8080/"
        },
        "id": "LK92zDNVdZ4K",
        "outputId": "7d756f36-3247-4d3a-89fe-07d1aaa9437f"
      },
      "execution_count": null,
      "outputs": [
        {
          "output_type": "execute_result",
          "data": {
            "text/plain": [
              "Index(['waktu', 'cuaca', 'kelembaban_min', 'kelembaban_max', 'kelembaban_mean',\n",
              "       'suhu_min', 'suhu_max', 'suhu_mean'],\n",
              "      dtype='object')"
            ]
          },
          "metadata": {},
          "execution_count": 726
        }
      ]
    },
    {
      "cell_type": "markdown",
      "source": [
        "## Simpan Data\n",
        "Karena tahapan praproses data sudah selesai, data diduplikasi pada DataFrame yang baru dan<br>\n",
        "Data juga disimpan pada file CSV yang baru agar data dapat digunakan kembali tanpa harus mengulang tahapan praproses data"
      ],
      "metadata": {
        "id": "bVjfAHzye6OK"
      }
    },
    {
      "cell_type": "code",
      "source": [
        "df.to_csv(path_or_buf='clean_data.csv', index=False)"
      ],
      "metadata": {
        "id": "6wPiX75nfaVQ"
      },
      "execution_count": null,
      "outputs": []
    },
    {
      "cell_type": "markdown",
      "source": [
        "Menyimpan data dengan format CSV<br>\n",
        "Dengan nama **clean_data.csv**"
      ],
      "metadata": {
        "id": "dtMIEXpn5o2D"
      }
    },
    {
      "cell_type": "markdown",
      "metadata": {
        "id": "vmhIfQ5YVy1X"
      },
      "source": [
        "# Pemodelan"
      ]
    },
    {
      "cell_type": "markdown",
      "source": [
        "### Columns Transformer"
      ],
      "metadata": {
        "id": "qUHcvwFjXJSQ"
      }
    },
    {
      "cell_type": "code",
      "source": [
        "kategorik = df.select_dtypes(include=['object']).drop('cuaca', axis=1).columns\n",
        "\n",
        "columntransform = ColumnTransformer([\n",
        "    ('categoric', OneHotEncoder(dtype=int, handle_unknown='ignore'), kategorik),\n",
        "], remainder='passthrough')"
      ],
      "metadata": {
        "id": "05GxNb4hXIhg"
      },
      "execution_count": null,
      "outputs": []
    },
    {
      "cell_type": "markdown",
      "metadata": {
        "id": "YO9hHxwtVy1Y"
      },
      "source": [
        "### Feature Scaling Data\n",
        "Tidak menggunakan Scaling pada kolom numerikal"
      ]
    },
    {
      "cell_type": "code",
      "execution_count": null,
      "metadata": {
        "id": "AUFAohWnVy1Y"
      },
      "outputs": [],
      "source": [
        "# from sklearn.preprocessing import PolynomialFeatures\n",
        "# numeric = [\"kelembaban_min\", \"kelembaban_max\", \"suhu_min\", \"suhu_max\"]\n",
        "\n",
        "# poly = PolynomialFeatures(degree=2, interaction_only=True)\n",
        "\n",
        "# X_train[poly.get_feature_names(numeric)] = poly.fit_transform(X_train[numeric])\n",
        "# X_test[poly.get_feature_names(numeric)] = poly.fit_transform(X_test[numeric])\n"
      ]
    },
    {
      "cell_type": "markdown",
      "source": [
        "### Pembagian Data"
      ],
      "metadata": {
        "id": "5YFdzGmToEYW"
      }
    },
    {
      "cell_type": "code",
      "source": [
        "df_model = df.copy()"
      ],
      "metadata": {
        "id": "fmeflnqgaKzR"
      },
      "execution_count": null,
      "outputs": []
    },
    {
      "cell_type": "code",
      "execution_count": null,
      "metadata": {
        "colab": {
          "base_uri": "https://localhost:8080/"
        },
        "id": "hgbl8Gd7Vy1X",
        "outputId": "c5343959-5c06-4099-f1a6-449f386a65b1"
      },
      "outputs": [
        {
          "output_type": "execute_result",
          "data": {
            "text/plain": [
              "((6720, 7), (1680, 7), (6720,), (1680,))"
            ]
          },
          "metadata": {},
          "execution_count": 731
        }
      ],
      "source": [
        "X = df_model.drop(columns=[\"cuaca\"])\n",
        "y = df_model[\"cuaca\"]\n",
        "\n",
        "X_train, X_test, y_train, y_test = train_test_split(X, y, test_size=0.2, stratify=y, random_state=42, shuffle=True)\n",
        "X_train.shape, X_test.shape, y_train.shape, y_test.shape"
      ]
    },
    {
      "cell_type": "markdown",
      "metadata": {
        "id": "Z8feMg4LVy1X"
      },
      "source": [
        "Membagi data berdasarkan data latih dan data uji<br>Dengan perbandingan data uji sebesar 20% dan data latih sebesar 80% dari total data dengan pembagian secara stratify terhadap kolom cuaca<br>\n",
        "<br>\n",
        "Membagi data menjadi fitur dan target, dimana variable y merupakan target yaitu kolom cuaca<br>\n",
        "Sedangkan variable x merupakan sisa kolom selain kolom cuaca<br>\n",
        "<br>\n",
        "Total data latih 6720 data<br>\n",
        "Total data uji 1680 data"
      ]
    },
    {
      "cell_type": "markdown",
      "metadata": {
        "id": "e-ktmfTqVy1Z"
      },
      "source": [
        "# Fit Data"
      ]
    },
    {
      "cell_type": "code",
      "source": [
        "hasil_model = pd.DataFrame(columns=['model', 'akurasi testing', 'akurasi training'])"
      ],
      "metadata": {
        "id": "aHhR-8FTb_hZ"
      },
      "execution_count": null,
      "outputs": []
    },
    {
      "cell_type": "markdown",
      "metadata": {
        "id": "a8hZSTV8Vy1Z"
      },
      "source": [
        "## Random Forest"
      ]
    },
    {
      "cell_type": "markdown",
      "source": [
        "#### Tanpa Resampling Data"
      ],
      "metadata": {
        "id": "Uq8WJ_m5c2LZ"
      }
    },
    {
      "cell_type": "code",
      "source": [
        "from sklearn.ensemble import RandomForestClassifier\n",
        "from sklearn.pipeline import Pipeline\n",
        "from imblearn.pipeline import Pipeline\n",
        "from imblearn.over_sampling import SMOTE\n",
        "from imblearn.under_sampling import AllKNN"
      ],
      "metadata": {
        "id": "Q6GfaSdqbkdy"
      },
      "execution_count": null,
      "outputs": []
    },
    {
      "cell_type": "code",
      "source": [
        "model = Pipeline(steps=[\n",
        "    ('preprocessor', columntransform),\n",
        "    ('classifier', RandomForestClassifier(n_jobs=-1, random_state=42, n_estimators=150))\n",
        "])\n",
        "\n",
        "model.fit(X_train, y_train)\n",
        "score_test = model.score(X_test, y_test)\n",
        "score_train = model.score(X_train, y_train)\n",
        "\n",
        "hasil_model = hasil_model.append({'model': 'Model RF', 'akurasi testing': score_test, 'akurasi training': score_train}, ignore_index=True)\n",
        "hasil_model"
      ],
      "metadata": {
        "colab": {
          "base_uri": "https://localhost:8080/",
          "height": 115
        },
        "id": "-6U3AGSHbfxj",
        "outputId": "b01ad3d3-6bd4-467f-d473-dddaa0b5f859"
      },
      "execution_count": null,
      "outputs": [
        {
          "output_type": "stream",
          "name": "stderr",
          "text": [
            "<ipython-input-734-e954a299d9c1>:10: FutureWarning: The frame.append method is deprecated and will be removed from pandas in a future version. Use pandas.concat instead.\n",
            "  hasil_model = hasil_model.append({'model': 'Model RF', 'akurasi testing': score_test, 'akurasi training': score_train}, ignore_index=True)\n"
          ]
        },
        {
          "output_type": "execute_result",
          "data": {
            "text/plain": [
              "      model  akurasi testing  akurasi training\n",
              "0  Model RF         0.579167          0.655506"
            ],
            "text/html": [
              "\n",
              "  <div id=\"df-154fa137-16ea-4324-804e-bb2c689ed0eb\">\n",
              "    <div class=\"colab-df-container\">\n",
              "      <div>\n",
              "<style scoped>\n",
              "    .dataframe tbody tr th:only-of-type {\n",
              "        vertical-align: middle;\n",
              "    }\n",
              "\n",
              "    .dataframe tbody tr th {\n",
              "        vertical-align: top;\n",
              "    }\n",
              "\n",
              "    .dataframe thead th {\n",
              "        text-align: right;\n",
              "    }\n",
              "</style>\n",
              "<table border=\"1\" class=\"dataframe\">\n",
              "  <thead>\n",
              "    <tr style=\"text-align: right;\">\n",
              "      <th></th>\n",
              "      <th>model</th>\n",
              "      <th>akurasi testing</th>\n",
              "      <th>akurasi training</th>\n",
              "    </tr>\n",
              "  </thead>\n",
              "  <tbody>\n",
              "    <tr>\n",
              "      <th>0</th>\n",
              "      <td>Model RF</td>\n",
              "      <td>0.579167</td>\n",
              "      <td>0.655506</td>\n",
              "    </tr>\n",
              "  </tbody>\n",
              "</table>\n",
              "</div>\n",
              "      <button class=\"colab-df-convert\" onclick=\"convertToInteractive('df-154fa137-16ea-4324-804e-bb2c689ed0eb')\"\n",
              "              title=\"Convert this dataframe to an interactive table.\"\n",
              "              style=\"display:none;\">\n",
              "        \n",
              "  <svg xmlns=\"http://www.w3.org/2000/svg\" height=\"24px\"viewBox=\"0 0 24 24\"\n",
              "       width=\"24px\">\n",
              "    <path d=\"M0 0h24v24H0V0z\" fill=\"none\"/>\n",
              "    <path d=\"M18.56 5.44l.94 2.06.94-2.06 2.06-.94-2.06-.94-.94-2.06-.94 2.06-2.06.94zm-11 1L8.5 8.5l.94-2.06 2.06-.94-2.06-.94L8.5 2.5l-.94 2.06-2.06.94zm10 10l.94 2.06.94-2.06 2.06-.94-2.06-.94-.94-2.06-.94 2.06-2.06.94z\"/><path d=\"M17.41 7.96l-1.37-1.37c-.4-.4-.92-.59-1.43-.59-.52 0-1.04.2-1.43.59L10.3 9.45l-7.72 7.72c-.78.78-.78 2.05 0 2.83L4 21.41c.39.39.9.59 1.41.59.51 0 1.02-.2 1.41-.59l7.78-7.78 2.81-2.81c.8-.78.8-2.07 0-2.86zM5.41 20L4 18.59l7.72-7.72 1.47 1.35L5.41 20z\"/>\n",
              "  </svg>\n",
              "      </button>\n",
              "      \n",
              "  <style>\n",
              "    .colab-df-container {\n",
              "      display:flex;\n",
              "      flex-wrap:wrap;\n",
              "      gap: 12px;\n",
              "    }\n",
              "\n",
              "    .colab-df-convert {\n",
              "      background-color: #E8F0FE;\n",
              "      border: none;\n",
              "      border-radius: 50%;\n",
              "      cursor: pointer;\n",
              "      display: none;\n",
              "      fill: #1967D2;\n",
              "      height: 32px;\n",
              "      padding: 0 0 0 0;\n",
              "      width: 32px;\n",
              "    }\n",
              "\n",
              "    .colab-df-convert:hover {\n",
              "      background-color: #E2EBFA;\n",
              "      box-shadow: 0px 1px 2px rgba(60, 64, 67, 0.3), 0px 1px 3px 1px rgba(60, 64, 67, 0.15);\n",
              "      fill: #174EA6;\n",
              "    }\n",
              "\n",
              "    [theme=dark] .colab-df-convert {\n",
              "      background-color: #3B4455;\n",
              "      fill: #D2E3FC;\n",
              "    }\n",
              "\n",
              "    [theme=dark] .colab-df-convert:hover {\n",
              "      background-color: #434B5C;\n",
              "      box-shadow: 0px 1px 3px 1px rgba(0, 0, 0, 0.15);\n",
              "      filter: drop-shadow(0px 1px 2px rgba(0, 0, 0, 0.3));\n",
              "      fill: #FFFFFF;\n",
              "    }\n",
              "  </style>\n",
              "\n",
              "      <script>\n",
              "        const buttonEl =\n",
              "          document.querySelector('#df-154fa137-16ea-4324-804e-bb2c689ed0eb button.colab-df-convert');\n",
              "        buttonEl.style.display =\n",
              "          google.colab.kernel.accessAllowed ? 'block' : 'none';\n",
              "\n",
              "        async function convertToInteractive(key) {\n",
              "          const element = document.querySelector('#df-154fa137-16ea-4324-804e-bb2c689ed0eb');\n",
              "          const dataTable =\n",
              "            await google.colab.kernel.invokeFunction('convertToInteractive',\n",
              "                                                     [key], {});\n",
              "          if (!dataTable) return;\n",
              "\n",
              "          const docLinkHtml = 'Like what you see? Visit the ' +\n",
              "            '<a target=\"_blank\" href=https://colab.research.google.com/notebooks/data_table.ipynb>data table notebook</a>'\n",
              "            + ' to learn more about interactive tables.';\n",
              "          element.innerHTML = '';\n",
              "          dataTable['output_type'] = 'display_data';\n",
              "          await google.colab.output.renderOutput(dataTable, element);\n",
              "          const docLink = document.createElement('div');\n",
              "          docLink.innerHTML = docLinkHtml;\n",
              "          element.appendChild(docLink);\n",
              "        }\n",
              "      </script>\n",
              "    </div>\n",
              "  </div>\n",
              "  "
            ]
          },
          "metadata": {},
          "execution_count": 734
        }
      ]
    },
    {
      "cell_type": "markdown",
      "source": [
        "#### Menggunakan Oversampling SMOTE"
      ],
      "metadata": {
        "id": "L_44HFuxc37U"
      }
    },
    {
      "cell_type": "code",
      "source": [
        "model = Pipeline(steps=[\n",
        "    ('preprocessor', columntransform),\n",
        "    ('resampling', SMOTE(random_state=42, n_jobs=-1, k_neighbors=9)), \n",
        "    ('classifier', RandomForestClassifier(n_jobs=-1, random_state=42, n_estimators=150))\n",
        "])\n",
        "\n",
        "model.fit(X_train, y_train)\n",
        "score_test = model.score(X_test, y_test)\n",
        "score_train = model.score(X_train, y_train)\n",
        "\n",
        "hasil_model = hasil_model.append({'model': 'Model RF, Oversampling', 'akurasi testing': score_test, 'akurasi training': score_train}, ignore_index=True)\n",
        "hasil_model"
      ],
      "metadata": {
        "colab": {
          "base_uri": "https://localhost:8080/",
          "height": 201
        },
        "id": "QrOeyo4EdAIE",
        "outputId": "7656f2d9-bef0-4b1a-a22b-8d2240e9927d"
      },
      "execution_count": null,
      "outputs": [
        {
          "output_type": "stream",
          "name": "stderr",
          "text": [
            "/usr/local/lib/python3.10/dist-packages/imblearn/over_sampling/_smote/base.py:336: FutureWarning: The parameter `n_jobs` has been deprecated in 0.10 and will be removed in 0.12. You can pass an nearest neighbors estimator where `n_jobs` is already set instead.\n",
            "  warnings.warn(\n",
            "<ipython-input-735-c55ce319fb6d>:11: FutureWarning: The frame.append method is deprecated and will be removed from pandas in a future version. Use pandas.concat instead.\n",
            "  hasil_model = hasil_model.append({'model': 'Model RF, Oversampling', 'akurasi testing': score_test, 'akurasi training': score_train}, ignore_index=True)\n"
          ]
        },
        {
          "output_type": "execute_result",
          "data": {
            "text/plain": [
              "                    model  akurasi testing  akurasi training\n",
              "0                Model RF         0.579167          0.655506\n",
              "1  Model RF, Oversampling         0.540476          0.617560"
            ],
            "text/html": [
              "\n",
              "  <div id=\"df-99c078cb-74fb-4930-accf-423f3234e6a4\">\n",
              "    <div class=\"colab-df-container\">\n",
              "      <div>\n",
              "<style scoped>\n",
              "    .dataframe tbody tr th:only-of-type {\n",
              "        vertical-align: middle;\n",
              "    }\n",
              "\n",
              "    .dataframe tbody tr th {\n",
              "        vertical-align: top;\n",
              "    }\n",
              "\n",
              "    .dataframe thead th {\n",
              "        text-align: right;\n",
              "    }\n",
              "</style>\n",
              "<table border=\"1\" class=\"dataframe\">\n",
              "  <thead>\n",
              "    <tr style=\"text-align: right;\">\n",
              "      <th></th>\n",
              "      <th>model</th>\n",
              "      <th>akurasi testing</th>\n",
              "      <th>akurasi training</th>\n",
              "    </tr>\n",
              "  </thead>\n",
              "  <tbody>\n",
              "    <tr>\n",
              "      <th>0</th>\n",
              "      <td>Model RF</td>\n",
              "      <td>0.579167</td>\n",
              "      <td>0.655506</td>\n",
              "    </tr>\n",
              "    <tr>\n",
              "      <th>1</th>\n",
              "      <td>Model RF, Oversampling</td>\n",
              "      <td>0.540476</td>\n",
              "      <td>0.617560</td>\n",
              "    </tr>\n",
              "  </tbody>\n",
              "</table>\n",
              "</div>\n",
              "      <button class=\"colab-df-convert\" onclick=\"convertToInteractive('df-99c078cb-74fb-4930-accf-423f3234e6a4')\"\n",
              "              title=\"Convert this dataframe to an interactive table.\"\n",
              "              style=\"display:none;\">\n",
              "        \n",
              "  <svg xmlns=\"http://www.w3.org/2000/svg\" height=\"24px\"viewBox=\"0 0 24 24\"\n",
              "       width=\"24px\">\n",
              "    <path d=\"M0 0h24v24H0V0z\" fill=\"none\"/>\n",
              "    <path d=\"M18.56 5.44l.94 2.06.94-2.06 2.06-.94-2.06-.94-.94-2.06-.94 2.06-2.06.94zm-11 1L8.5 8.5l.94-2.06 2.06-.94-2.06-.94L8.5 2.5l-.94 2.06-2.06.94zm10 10l.94 2.06.94-2.06 2.06-.94-2.06-.94-.94-2.06-.94 2.06-2.06.94z\"/><path d=\"M17.41 7.96l-1.37-1.37c-.4-.4-.92-.59-1.43-.59-.52 0-1.04.2-1.43.59L10.3 9.45l-7.72 7.72c-.78.78-.78 2.05 0 2.83L4 21.41c.39.39.9.59 1.41.59.51 0 1.02-.2 1.41-.59l7.78-7.78 2.81-2.81c.8-.78.8-2.07 0-2.86zM5.41 20L4 18.59l7.72-7.72 1.47 1.35L5.41 20z\"/>\n",
              "  </svg>\n",
              "      </button>\n",
              "      \n",
              "  <style>\n",
              "    .colab-df-container {\n",
              "      display:flex;\n",
              "      flex-wrap:wrap;\n",
              "      gap: 12px;\n",
              "    }\n",
              "\n",
              "    .colab-df-convert {\n",
              "      background-color: #E8F0FE;\n",
              "      border: none;\n",
              "      border-radius: 50%;\n",
              "      cursor: pointer;\n",
              "      display: none;\n",
              "      fill: #1967D2;\n",
              "      height: 32px;\n",
              "      padding: 0 0 0 0;\n",
              "      width: 32px;\n",
              "    }\n",
              "\n",
              "    .colab-df-convert:hover {\n",
              "      background-color: #E2EBFA;\n",
              "      box-shadow: 0px 1px 2px rgba(60, 64, 67, 0.3), 0px 1px 3px 1px rgba(60, 64, 67, 0.15);\n",
              "      fill: #174EA6;\n",
              "    }\n",
              "\n",
              "    [theme=dark] .colab-df-convert {\n",
              "      background-color: #3B4455;\n",
              "      fill: #D2E3FC;\n",
              "    }\n",
              "\n",
              "    [theme=dark] .colab-df-convert:hover {\n",
              "      background-color: #434B5C;\n",
              "      box-shadow: 0px 1px 3px 1px rgba(0, 0, 0, 0.15);\n",
              "      filter: drop-shadow(0px 1px 2px rgba(0, 0, 0, 0.3));\n",
              "      fill: #FFFFFF;\n",
              "    }\n",
              "  </style>\n",
              "\n",
              "      <script>\n",
              "        const buttonEl =\n",
              "          document.querySelector('#df-99c078cb-74fb-4930-accf-423f3234e6a4 button.colab-df-convert');\n",
              "        buttonEl.style.display =\n",
              "          google.colab.kernel.accessAllowed ? 'block' : 'none';\n",
              "\n",
              "        async function convertToInteractive(key) {\n",
              "          const element = document.querySelector('#df-99c078cb-74fb-4930-accf-423f3234e6a4');\n",
              "          const dataTable =\n",
              "            await google.colab.kernel.invokeFunction('convertToInteractive',\n",
              "                                                     [key], {});\n",
              "          if (!dataTable) return;\n",
              "\n",
              "          const docLinkHtml = 'Like what you see? Visit the ' +\n",
              "            '<a target=\"_blank\" href=https://colab.research.google.com/notebooks/data_table.ipynb>data table notebook</a>'\n",
              "            + ' to learn more about interactive tables.';\n",
              "          element.innerHTML = '';\n",
              "          dataTable['output_type'] = 'display_data';\n",
              "          await google.colab.output.renderOutput(dataTable, element);\n",
              "          const docLink = document.createElement('div');\n",
              "          docLink.innerHTML = docLinkHtml;\n",
              "          element.appendChild(docLink);\n",
              "        }\n",
              "      </script>\n",
              "    </div>\n",
              "  </div>\n",
              "  "
            ]
          },
          "metadata": {},
          "execution_count": 735
        }
      ]
    },
    {
      "cell_type": "markdown",
      "source": [
        "#### Menggunakan Undersampling AllKNN"
      ],
      "metadata": {
        "id": "UwqIpaJBBuV1"
      }
    },
    {
      "cell_type": "code",
      "source": [
        "model = Pipeline(steps=[\n",
        "    ('preprocessor', columntransform),\n",
        "    ('resampling', AllKNN(n_jobs=-1, n_neighbors=9)), \n",
        "    ('classifier', RandomForestClassifier(n_jobs=-1, random_state=42, n_estimators=150))\n",
        "])\n",
        "\n",
        "model.fit(X_train, y_train)\n",
        "score_test = model.score(X_test, y_test)\n",
        "score_train = model.score(X_train, y_train)\n",
        "\n",
        "hasil_model = hasil_model.append({'model': 'Model RF, Undersampling', 'akurasi testing': score_test, 'akurasi training': score_train}, ignore_index=True)\n",
        "hasil_model"
      ],
      "metadata": {
        "colab": {
          "base_uri": "https://localhost:8080/",
          "height": 178
        },
        "id": "8zQXNUR1ByYm",
        "outputId": "ab8a07e5-235a-417d-c807-d9b67dc28725"
      },
      "execution_count": null,
      "outputs": [
        {
          "output_type": "stream",
          "name": "stderr",
          "text": [
            "<ipython-input-736-e9460a4e3eb3>:11: FutureWarning: The frame.append method is deprecated and will be removed from pandas in a future version. Use pandas.concat instead.\n",
            "  hasil_model = hasil_model.append({'model': 'Model RF, Undersampling', 'akurasi testing': score_test, 'akurasi training': score_train}, ignore_index=True)\n"
          ]
        },
        {
          "output_type": "execute_result",
          "data": {
            "text/plain": [
              "                     model  akurasi testing  akurasi training\n",
              "0                 Model RF         0.579167          0.655506\n",
              "1   Model RF, Oversampling         0.540476          0.617560\n",
              "2  Model RF, Undersampling         0.509524          0.570685"
            ],
            "text/html": [
              "\n",
              "  <div id=\"df-c0d336ba-57f0-447b-9fe9-0cd17014dfe4\">\n",
              "    <div class=\"colab-df-container\">\n",
              "      <div>\n",
              "<style scoped>\n",
              "    .dataframe tbody tr th:only-of-type {\n",
              "        vertical-align: middle;\n",
              "    }\n",
              "\n",
              "    .dataframe tbody tr th {\n",
              "        vertical-align: top;\n",
              "    }\n",
              "\n",
              "    .dataframe thead th {\n",
              "        text-align: right;\n",
              "    }\n",
              "</style>\n",
              "<table border=\"1\" class=\"dataframe\">\n",
              "  <thead>\n",
              "    <tr style=\"text-align: right;\">\n",
              "      <th></th>\n",
              "      <th>model</th>\n",
              "      <th>akurasi testing</th>\n",
              "      <th>akurasi training</th>\n",
              "    </tr>\n",
              "  </thead>\n",
              "  <tbody>\n",
              "    <tr>\n",
              "      <th>0</th>\n",
              "      <td>Model RF</td>\n",
              "      <td>0.579167</td>\n",
              "      <td>0.655506</td>\n",
              "    </tr>\n",
              "    <tr>\n",
              "      <th>1</th>\n",
              "      <td>Model RF, Oversampling</td>\n",
              "      <td>0.540476</td>\n",
              "      <td>0.617560</td>\n",
              "    </tr>\n",
              "    <tr>\n",
              "      <th>2</th>\n",
              "      <td>Model RF, Undersampling</td>\n",
              "      <td>0.509524</td>\n",
              "      <td>0.570685</td>\n",
              "    </tr>\n",
              "  </tbody>\n",
              "</table>\n",
              "</div>\n",
              "      <button class=\"colab-df-convert\" onclick=\"convertToInteractive('df-c0d336ba-57f0-447b-9fe9-0cd17014dfe4')\"\n",
              "              title=\"Convert this dataframe to an interactive table.\"\n",
              "              style=\"display:none;\">\n",
              "        \n",
              "  <svg xmlns=\"http://www.w3.org/2000/svg\" height=\"24px\"viewBox=\"0 0 24 24\"\n",
              "       width=\"24px\">\n",
              "    <path d=\"M0 0h24v24H0V0z\" fill=\"none\"/>\n",
              "    <path d=\"M18.56 5.44l.94 2.06.94-2.06 2.06-.94-2.06-.94-.94-2.06-.94 2.06-2.06.94zm-11 1L8.5 8.5l.94-2.06 2.06-.94-2.06-.94L8.5 2.5l-.94 2.06-2.06.94zm10 10l.94 2.06.94-2.06 2.06-.94-2.06-.94-.94-2.06-.94 2.06-2.06.94z\"/><path d=\"M17.41 7.96l-1.37-1.37c-.4-.4-.92-.59-1.43-.59-.52 0-1.04.2-1.43.59L10.3 9.45l-7.72 7.72c-.78.78-.78 2.05 0 2.83L4 21.41c.39.39.9.59 1.41.59.51 0 1.02-.2 1.41-.59l7.78-7.78 2.81-2.81c.8-.78.8-2.07 0-2.86zM5.41 20L4 18.59l7.72-7.72 1.47 1.35L5.41 20z\"/>\n",
              "  </svg>\n",
              "      </button>\n",
              "      \n",
              "  <style>\n",
              "    .colab-df-container {\n",
              "      display:flex;\n",
              "      flex-wrap:wrap;\n",
              "      gap: 12px;\n",
              "    }\n",
              "\n",
              "    .colab-df-convert {\n",
              "      background-color: #E8F0FE;\n",
              "      border: none;\n",
              "      border-radius: 50%;\n",
              "      cursor: pointer;\n",
              "      display: none;\n",
              "      fill: #1967D2;\n",
              "      height: 32px;\n",
              "      padding: 0 0 0 0;\n",
              "      width: 32px;\n",
              "    }\n",
              "\n",
              "    .colab-df-convert:hover {\n",
              "      background-color: #E2EBFA;\n",
              "      box-shadow: 0px 1px 2px rgba(60, 64, 67, 0.3), 0px 1px 3px 1px rgba(60, 64, 67, 0.15);\n",
              "      fill: #174EA6;\n",
              "    }\n",
              "\n",
              "    [theme=dark] .colab-df-convert {\n",
              "      background-color: #3B4455;\n",
              "      fill: #D2E3FC;\n",
              "    }\n",
              "\n",
              "    [theme=dark] .colab-df-convert:hover {\n",
              "      background-color: #434B5C;\n",
              "      box-shadow: 0px 1px 3px 1px rgba(0, 0, 0, 0.15);\n",
              "      filter: drop-shadow(0px 1px 2px rgba(0, 0, 0, 0.3));\n",
              "      fill: #FFFFFF;\n",
              "    }\n",
              "  </style>\n",
              "\n",
              "      <script>\n",
              "        const buttonEl =\n",
              "          document.querySelector('#df-c0d336ba-57f0-447b-9fe9-0cd17014dfe4 button.colab-df-convert');\n",
              "        buttonEl.style.display =\n",
              "          google.colab.kernel.accessAllowed ? 'block' : 'none';\n",
              "\n",
              "        async function convertToInteractive(key) {\n",
              "          const element = document.querySelector('#df-c0d336ba-57f0-447b-9fe9-0cd17014dfe4');\n",
              "          const dataTable =\n",
              "            await google.colab.kernel.invokeFunction('convertToInteractive',\n",
              "                                                     [key], {});\n",
              "          if (!dataTable) return;\n",
              "\n",
              "          const docLinkHtml = 'Like what you see? Visit the ' +\n",
              "            '<a target=\"_blank\" href=https://colab.research.google.com/notebooks/data_table.ipynb>data table notebook</a>'\n",
              "            + ' to learn more about interactive tables.';\n",
              "          element.innerHTML = '';\n",
              "          dataTable['output_type'] = 'display_data';\n",
              "          await google.colab.output.renderOutput(dataTable, element);\n",
              "          const docLink = document.createElement('div');\n",
              "          docLink.innerHTML = docLinkHtml;\n",
              "          element.appendChild(docLink);\n",
              "        }\n",
              "      </script>\n",
              "    </div>\n",
              "  </div>\n",
              "  "
            ]
          },
          "metadata": {},
          "execution_count": 736
        }
      ]
    },
    {
      "cell_type": "markdown",
      "source": [
        "## Extreme Gradient Boosting (XGBoost)"
      ],
      "metadata": {
        "id": "8x_RpAXVeyvR"
      }
    },
    {
      "cell_type": "code",
      "source": [
        "from xgboost import XGBClassifier\n",
        "from sklearn.preprocessing import LabelEncoder"
      ],
      "metadata": {
        "id": "zZHJTrbje3Np"
      },
      "execution_count": null,
      "outputs": []
    },
    {
      "cell_type": "code",
      "source": [
        "df_xgb = df.copy()\n",
        "label_encoder = LabelEncoder()\n",
        "df_xgb['cuaca'] = label_encoder.fit_transform(df_xgb[\"cuaca\"])\n",
        "\n",
        "X_xgb = df_model.drop(columns=[\"cuaca\"])\n",
        "y_xgb = df_xgb['cuaca']\n",
        "\n",
        "X_train_xgb, X_test_xgb, y_train_xgb, y_test_xgb = train_test_split(X_xgb, y_xgb, test_size=0.2, stratify=y, random_state=42, shuffle=True)"
      ],
      "metadata": {
        "id": "9J3bE18Fi0Eq"
      },
      "execution_count": null,
      "outputs": []
    },
    {
      "cell_type": "markdown",
      "source": [
        "#### Tanpa Resampling Data"
      ],
      "metadata": {
        "id": "eG6fA2Iqf5aB"
      }
    },
    {
      "cell_type": "code",
      "source": [
        "model = Pipeline(steps=[\n",
        "    ('preprocessor', columntransform),\n",
        "    ('classifier', XGBClassifier(n_jobs=-1, random_state=42, n_estimators=150, objective='multi:softmax', num_class=len(label_encoder.classes_)))\n",
        "])\n",
        "\n",
        "model.fit(X_train_xgb, y_train_xgb)\n",
        "score_test = model.score(X_test_xgb, y_test_xgb)\n",
        "score_train = model.score(X_train_xgb, y_train_xgb)\n",
        "\n",
        "hasil_model = hasil_model.append({'model': 'Model XGBoost', 'akurasi testing': score_test, 'akurasi training': score_train}, ignore_index=True)\n",
        "hasil_model"
      ],
      "metadata": {
        "colab": {
          "base_uri": "https://localhost:8080/",
          "height": 209
        },
        "id": "BZLHjOfafr7M",
        "outputId": "5dde105e-e2d1-490c-eb39-a88cd842f70d"
      },
      "execution_count": null,
      "outputs": [
        {
          "output_type": "stream",
          "name": "stderr",
          "text": [
            "<ipython-input-739-ab0268b1dbee>:10: FutureWarning: The frame.append method is deprecated and will be removed from pandas in a future version. Use pandas.concat instead.\n",
            "  hasil_model = hasil_model.append({'model': 'Model XGBoost', 'akurasi testing': score_test, 'akurasi training': score_train}, ignore_index=True)\n"
          ]
        },
        {
          "output_type": "execute_result",
          "data": {
            "text/plain": [
              "                     model  akurasi testing  akurasi training\n",
              "0                 Model RF         0.579167          0.655506\n",
              "1   Model RF, Oversampling         0.540476          0.617560\n",
              "2  Model RF, Undersampling         0.509524          0.570685\n",
              "3            Model XGBoost         0.577976          0.651488"
            ],
            "text/html": [
              "\n",
              "  <div id=\"df-4739dc7e-eacd-4d80-8a82-95ae11dae375\">\n",
              "    <div class=\"colab-df-container\">\n",
              "      <div>\n",
              "<style scoped>\n",
              "    .dataframe tbody tr th:only-of-type {\n",
              "        vertical-align: middle;\n",
              "    }\n",
              "\n",
              "    .dataframe tbody tr th {\n",
              "        vertical-align: top;\n",
              "    }\n",
              "\n",
              "    .dataframe thead th {\n",
              "        text-align: right;\n",
              "    }\n",
              "</style>\n",
              "<table border=\"1\" class=\"dataframe\">\n",
              "  <thead>\n",
              "    <tr style=\"text-align: right;\">\n",
              "      <th></th>\n",
              "      <th>model</th>\n",
              "      <th>akurasi testing</th>\n",
              "      <th>akurasi training</th>\n",
              "    </tr>\n",
              "  </thead>\n",
              "  <tbody>\n",
              "    <tr>\n",
              "      <th>0</th>\n",
              "      <td>Model RF</td>\n",
              "      <td>0.579167</td>\n",
              "      <td>0.655506</td>\n",
              "    </tr>\n",
              "    <tr>\n",
              "      <th>1</th>\n",
              "      <td>Model RF, Oversampling</td>\n",
              "      <td>0.540476</td>\n",
              "      <td>0.617560</td>\n",
              "    </tr>\n",
              "    <tr>\n",
              "      <th>2</th>\n",
              "      <td>Model RF, Undersampling</td>\n",
              "      <td>0.509524</td>\n",
              "      <td>0.570685</td>\n",
              "    </tr>\n",
              "    <tr>\n",
              "      <th>3</th>\n",
              "      <td>Model XGBoost</td>\n",
              "      <td>0.577976</td>\n",
              "      <td>0.651488</td>\n",
              "    </tr>\n",
              "  </tbody>\n",
              "</table>\n",
              "</div>\n",
              "      <button class=\"colab-df-convert\" onclick=\"convertToInteractive('df-4739dc7e-eacd-4d80-8a82-95ae11dae375')\"\n",
              "              title=\"Convert this dataframe to an interactive table.\"\n",
              "              style=\"display:none;\">\n",
              "        \n",
              "  <svg xmlns=\"http://www.w3.org/2000/svg\" height=\"24px\"viewBox=\"0 0 24 24\"\n",
              "       width=\"24px\">\n",
              "    <path d=\"M0 0h24v24H0V0z\" fill=\"none\"/>\n",
              "    <path d=\"M18.56 5.44l.94 2.06.94-2.06 2.06-.94-2.06-.94-.94-2.06-.94 2.06-2.06.94zm-11 1L8.5 8.5l.94-2.06 2.06-.94-2.06-.94L8.5 2.5l-.94 2.06-2.06.94zm10 10l.94 2.06.94-2.06 2.06-.94-2.06-.94-.94-2.06-.94 2.06-2.06.94z\"/><path d=\"M17.41 7.96l-1.37-1.37c-.4-.4-.92-.59-1.43-.59-.52 0-1.04.2-1.43.59L10.3 9.45l-7.72 7.72c-.78.78-.78 2.05 0 2.83L4 21.41c.39.39.9.59 1.41.59.51 0 1.02-.2 1.41-.59l7.78-7.78 2.81-2.81c.8-.78.8-2.07 0-2.86zM5.41 20L4 18.59l7.72-7.72 1.47 1.35L5.41 20z\"/>\n",
              "  </svg>\n",
              "      </button>\n",
              "      \n",
              "  <style>\n",
              "    .colab-df-container {\n",
              "      display:flex;\n",
              "      flex-wrap:wrap;\n",
              "      gap: 12px;\n",
              "    }\n",
              "\n",
              "    .colab-df-convert {\n",
              "      background-color: #E8F0FE;\n",
              "      border: none;\n",
              "      border-radius: 50%;\n",
              "      cursor: pointer;\n",
              "      display: none;\n",
              "      fill: #1967D2;\n",
              "      height: 32px;\n",
              "      padding: 0 0 0 0;\n",
              "      width: 32px;\n",
              "    }\n",
              "\n",
              "    .colab-df-convert:hover {\n",
              "      background-color: #E2EBFA;\n",
              "      box-shadow: 0px 1px 2px rgba(60, 64, 67, 0.3), 0px 1px 3px 1px rgba(60, 64, 67, 0.15);\n",
              "      fill: #174EA6;\n",
              "    }\n",
              "\n",
              "    [theme=dark] .colab-df-convert {\n",
              "      background-color: #3B4455;\n",
              "      fill: #D2E3FC;\n",
              "    }\n",
              "\n",
              "    [theme=dark] .colab-df-convert:hover {\n",
              "      background-color: #434B5C;\n",
              "      box-shadow: 0px 1px 3px 1px rgba(0, 0, 0, 0.15);\n",
              "      filter: drop-shadow(0px 1px 2px rgba(0, 0, 0, 0.3));\n",
              "      fill: #FFFFFF;\n",
              "    }\n",
              "  </style>\n",
              "\n",
              "      <script>\n",
              "        const buttonEl =\n",
              "          document.querySelector('#df-4739dc7e-eacd-4d80-8a82-95ae11dae375 button.colab-df-convert');\n",
              "        buttonEl.style.display =\n",
              "          google.colab.kernel.accessAllowed ? 'block' : 'none';\n",
              "\n",
              "        async function convertToInteractive(key) {\n",
              "          const element = document.querySelector('#df-4739dc7e-eacd-4d80-8a82-95ae11dae375');\n",
              "          const dataTable =\n",
              "            await google.colab.kernel.invokeFunction('convertToInteractive',\n",
              "                                                     [key], {});\n",
              "          if (!dataTable) return;\n",
              "\n",
              "          const docLinkHtml = 'Like what you see? Visit the ' +\n",
              "            '<a target=\"_blank\" href=https://colab.research.google.com/notebooks/data_table.ipynb>data table notebook</a>'\n",
              "            + ' to learn more about interactive tables.';\n",
              "          element.innerHTML = '';\n",
              "          dataTable['output_type'] = 'display_data';\n",
              "          await google.colab.output.renderOutput(dataTable, element);\n",
              "          const docLink = document.createElement('div');\n",
              "          docLink.innerHTML = docLinkHtml;\n",
              "          element.appendChild(docLink);\n",
              "        }\n",
              "      </script>\n",
              "    </div>\n",
              "  </div>\n",
              "  "
            ]
          },
          "metadata": {},
          "execution_count": 739
        }
      ]
    },
    {
      "cell_type": "markdown",
      "source": [
        "#### Menggunakan Oversampling SMOTE"
      ],
      "metadata": {
        "id": "h3YUDLZNf9A6"
      }
    },
    {
      "cell_type": "code",
      "source": [
        "model = Pipeline(steps=[\n",
        "    ('preprocessor', columntransform),\n",
        "    ('resampling', SMOTE(random_state=42, n_jobs=-1, k_neighbors=9)), \n",
        "    ('classifier', XGBClassifier(n_jobs=-1, random_state=42, n_estimators=150, objective='multi:softmax', num_class=len(label_encoder.classes_)))\n",
        "])\n",
        "\n",
        "model.fit(X_train_xgb, y_train_xgb)\n",
        "score_test = model.score(X_test_xgb, y_test_xgb)\n",
        "score_train = model.score(X_train_xgb, y_train_xgb)\n",
        "\n",
        "hasil_model = hasil_model.append({'model': 'Model XGBoost, Oversampling', 'akurasi testing': score_test, 'akurasi training': score_train}, ignore_index=True)\n",
        "hasil_model"
      ],
      "metadata": {
        "colab": {
          "base_uri": "https://localhost:8080/",
          "height": 295
        },
        "id": "u3KPQXNvf-yK",
        "outputId": "bb3153a7-b7dd-40fa-9ad7-8f0119d823e9"
      },
      "execution_count": null,
      "outputs": [
        {
          "output_type": "stream",
          "name": "stderr",
          "text": [
            "/usr/local/lib/python3.10/dist-packages/imblearn/over_sampling/_smote/base.py:336: FutureWarning: The parameter `n_jobs` has been deprecated in 0.10 and will be removed in 0.12. You can pass an nearest neighbors estimator where `n_jobs` is already set instead.\n",
            "  warnings.warn(\n",
            "<ipython-input-740-7d0206b7793d>:11: FutureWarning: The frame.append method is deprecated and will be removed from pandas in a future version. Use pandas.concat instead.\n",
            "  hasil_model = hasil_model.append({'model': 'Model XGBoost, Oversampling', 'akurasi testing': score_test, 'akurasi training': score_train}, ignore_index=True)\n"
          ]
        },
        {
          "output_type": "execute_result",
          "data": {
            "text/plain": [
              "                         model  akurasi testing  akurasi training\n",
              "0                     Model RF         0.579167          0.655506\n",
              "1       Model RF, Oversampling         0.540476          0.617560\n",
              "2      Model RF, Undersampling         0.509524          0.570685\n",
              "3                Model XGBoost         0.577976          0.651488\n",
              "4  Model XGBoost, Oversampling         0.539881          0.611607"
            ],
            "text/html": [
              "\n",
              "  <div id=\"df-e3cffcc8-668e-487c-a546-74f4d89b7528\">\n",
              "    <div class=\"colab-df-container\">\n",
              "      <div>\n",
              "<style scoped>\n",
              "    .dataframe tbody tr th:only-of-type {\n",
              "        vertical-align: middle;\n",
              "    }\n",
              "\n",
              "    .dataframe tbody tr th {\n",
              "        vertical-align: top;\n",
              "    }\n",
              "\n",
              "    .dataframe thead th {\n",
              "        text-align: right;\n",
              "    }\n",
              "</style>\n",
              "<table border=\"1\" class=\"dataframe\">\n",
              "  <thead>\n",
              "    <tr style=\"text-align: right;\">\n",
              "      <th></th>\n",
              "      <th>model</th>\n",
              "      <th>akurasi testing</th>\n",
              "      <th>akurasi training</th>\n",
              "    </tr>\n",
              "  </thead>\n",
              "  <tbody>\n",
              "    <tr>\n",
              "      <th>0</th>\n",
              "      <td>Model RF</td>\n",
              "      <td>0.579167</td>\n",
              "      <td>0.655506</td>\n",
              "    </tr>\n",
              "    <tr>\n",
              "      <th>1</th>\n",
              "      <td>Model RF, Oversampling</td>\n",
              "      <td>0.540476</td>\n",
              "      <td>0.617560</td>\n",
              "    </tr>\n",
              "    <tr>\n",
              "      <th>2</th>\n",
              "      <td>Model RF, Undersampling</td>\n",
              "      <td>0.509524</td>\n",
              "      <td>0.570685</td>\n",
              "    </tr>\n",
              "    <tr>\n",
              "      <th>3</th>\n",
              "      <td>Model XGBoost</td>\n",
              "      <td>0.577976</td>\n",
              "      <td>0.651488</td>\n",
              "    </tr>\n",
              "    <tr>\n",
              "      <th>4</th>\n",
              "      <td>Model XGBoost, Oversampling</td>\n",
              "      <td>0.539881</td>\n",
              "      <td>0.611607</td>\n",
              "    </tr>\n",
              "  </tbody>\n",
              "</table>\n",
              "</div>\n",
              "      <button class=\"colab-df-convert\" onclick=\"convertToInteractive('df-e3cffcc8-668e-487c-a546-74f4d89b7528')\"\n",
              "              title=\"Convert this dataframe to an interactive table.\"\n",
              "              style=\"display:none;\">\n",
              "        \n",
              "  <svg xmlns=\"http://www.w3.org/2000/svg\" height=\"24px\"viewBox=\"0 0 24 24\"\n",
              "       width=\"24px\">\n",
              "    <path d=\"M0 0h24v24H0V0z\" fill=\"none\"/>\n",
              "    <path d=\"M18.56 5.44l.94 2.06.94-2.06 2.06-.94-2.06-.94-.94-2.06-.94 2.06-2.06.94zm-11 1L8.5 8.5l.94-2.06 2.06-.94-2.06-.94L8.5 2.5l-.94 2.06-2.06.94zm10 10l.94 2.06.94-2.06 2.06-.94-2.06-.94-.94-2.06-.94 2.06-2.06.94z\"/><path d=\"M17.41 7.96l-1.37-1.37c-.4-.4-.92-.59-1.43-.59-.52 0-1.04.2-1.43.59L10.3 9.45l-7.72 7.72c-.78.78-.78 2.05 0 2.83L4 21.41c.39.39.9.59 1.41.59.51 0 1.02-.2 1.41-.59l7.78-7.78 2.81-2.81c.8-.78.8-2.07 0-2.86zM5.41 20L4 18.59l7.72-7.72 1.47 1.35L5.41 20z\"/>\n",
              "  </svg>\n",
              "      </button>\n",
              "      \n",
              "  <style>\n",
              "    .colab-df-container {\n",
              "      display:flex;\n",
              "      flex-wrap:wrap;\n",
              "      gap: 12px;\n",
              "    }\n",
              "\n",
              "    .colab-df-convert {\n",
              "      background-color: #E8F0FE;\n",
              "      border: none;\n",
              "      border-radius: 50%;\n",
              "      cursor: pointer;\n",
              "      display: none;\n",
              "      fill: #1967D2;\n",
              "      height: 32px;\n",
              "      padding: 0 0 0 0;\n",
              "      width: 32px;\n",
              "    }\n",
              "\n",
              "    .colab-df-convert:hover {\n",
              "      background-color: #E2EBFA;\n",
              "      box-shadow: 0px 1px 2px rgba(60, 64, 67, 0.3), 0px 1px 3px 1px rgba(60, 64, 67, 0.15);\n",
              "      fill: #174EA6;\n",
              "    }\n",
              "\n",
              "    [theme=dark] .colab-df-convert {\n",
              "      background-color: #3B4455;\n",
              "      fill: #D2E3FC;\n",
              "    }\n",
              "\n",
              "    [theme=dark] .colab-df-convert:hover {\n",
              "      background-color: #434B5C;\n",
              "      box-shadow: 0px 1px 3px 1px rgba(0, 0, 0, 0.15);\n",
              "      filter: drop-shadow(0px 1px 2px rgba(0, 0, 0, 0.3));\n",
              "      fill: #FFFFFF;\n",
              "    }\n",
              "  </style>\n",
              "\n",
              "      <script>\n",
              "        const buttonEl =\n",
              "          document.querySelector('#df-e3cffcc8-668e-487c-a546-74f4d89b7528 button.colab-df-convert');\n",
              "        buttonEl.style.display =\n",
              "          google.colab.kernel.accessAllowed ? 'block' : 'none';\n",
              "\n",
              "        async function convertToInteractive(key) {\n",
              "          const element = document.querySelector('#df-e3cffcc8-668e-487c-a546-74f4d89b7528');\n",
              "          const dataTable =\n",
              "            await google.colab.kernel.invokeFunction('convertToInteractive',\n",
              "                                                     [key], {});\n",
              "          if (!dataTable) return;\n",
              "\n",
              "          const docLinkHtml = 'Like what you see? Visit the ' +\n",
              "            '<a target=\"_blank\" href=https://colab.research.google.com/notebooks/data_table.ipynb>data table notebook</a>'\n",
              "            + ' to learn more about interactive tables.';\n",
              "          element.innerHTML = '';\n",
              "          dataTable['output_type'] = 'display_data';\n",
              "          await google.colab.output.renderOutput(dataTable, element);\n",
              "          const docLink = document.createElement('div');\n",
              "          docLink.innerHTML = docLinkHtml;\n",
              "          element.appendChild(docLink);\n",
              "        }\n",
              "      </script>\n",
              "    </div>\n",
              "  </div>\n",
              "  "
            ]
          },
          "metadata": {},
          "execution_count": 740
        }
      ]
    },
    {
      "cell_type": "markdown",
      "source": [
        "#### Menggunakan Undersampling AllKNN"
      ],
      "metadata": {
        "id": "5mO3yYi0CXaK"
      }
    },
    {
      "cell_type": "code",
      "source": [
        "model = Pipeline(steps=[\n",
        "    ('preprocessor', columntransform),\n",
        "    ('resampling', AllKNN(n_jobs=-1, n_neighbors=9)), \n",
        "    ('classifier', XGBClassifier(n_jobs=-1, random_state=42, n_estimators=150, objective='multi:softmax', num_class=len(label_encoder.classes_)))\n",
        "])\n",
        "\n",
        "model.fit(X_train_xgb, y_train_xgb)\n",
        "score_test = model.score(X_test_xgb, y_test_xgb)\n",
        "score_train = model.score(X_train_xgb, y_train_xgb)\n",
        "\n",
        "hasil_model = hasil_model.append({'model': 'Model XGBoost, Undersampling', 'akurasi testing': score_test, 'akurasi training': score_train}, ignore_index=True)\n",
        "hasil_model"
      ],
      "metadata": {
        "colab": {
          "base_uri": "https://localhost:8080/",
          "height": 272
        },
        "id": "3S2AL-JgCXaK",
        "outputId": "0a6352f9-5e4f-464c-fdd6-c2381855eae3"
      },
      "execution_count": null,
      "outputs": [
        {
          "output_type": "stream",
          "name": "stderr",
          "text": [
            "<ipython-input-741-d041c6977729>:11: FutureWarning: The frame.append method is deprecated and will be removed from pandas in a future version. Use pandas.concat instead.\n",
            "  hasil_model = hasil_model.append({'model': 'Model XGBoost, Undersampling', 'akurasi testing': score_test, 'akurasi training': score_train}, ignore_index=True)\n"
          ]
        },
        {
          "output_type": "execute_result",
          "data": {
            "text/plain": [
              "                          model  akurasi testing  akurasi training\n",
              "0                      Model RF         0.579167          0.655506\n",
              "1        Model RF, Oversampling         0.540476          0.617560\n",
              "2       Model RF, Undersampling         0.509524          0.570685\n",
              "3                 Model XGBoost         0.577976          0.651488\n",
              "4   Model XGBoost, Oversampling         0.539881          0.611607\n",
              "5  Model XGBoost, Undersampling         0.510714          0.573065"
            ],
            "text/html": [
              "\n",
              "  <div id=\"df-8db42a30-e537-42eb-ae92-b1b844e9959c\">\n",
              "    <div class=\"colab-df-container\">\n",
              "      <div>\n",
              "<style scoped>\n",
              "    .dataframe tbody tr th:only-of-type {\n",
              "        vertical-align: middle;\n",
              "    }\n",
              "\n",
              "    .dataframe tbody tr th {\n",
              "        vertical-align: top;\n",
              "    }\n",
              "\n",
              "    .dataframe thead th {\n",
              "        text-align: right;\n",
              "    }\n",
              "</style>\n",
              "<table border=\"1\" class=\"dataframe\">\n",
              "  <thead>\n",
              "    <tr style=\"text-align: right;\">\n",
              "      <th></th>\n",
              "      <th>model</th>\n",
              "      <th>akurasi testing</th>\n",
              "      <th>akurasi training</th>\n",
              "    </tr>\n",
              "  </thead>\n",
              "  <tbody>\n",
              "    <tr>\n",
              "      <th>0</th>\n",
              "      <td>Model RF</td>\n",
              "      <td>0.579167</td>\n",
              "      <td>0.655506</td>\n",
              "    </tr>\n",
              "    <tr>\n",
              "      <th>1</th>\n",
              "      <td>Model RF, Oversampling</td>\n",
              "      <td>0.540476</td>\n",
              "      <td>0.617560</td>\n",
              "    </tr>\n",
              "    <tr>\n",
              "      <th>2</th>\n",
              "      <td>Model RF, Undersampling</td>\n",
              "      <td>0.509524</td>\n",
              "      <td>0.570685</td>\n",
              "    </tr>\n",
              "    <tr>\n",
              "      <th>3</th>\n",
              "      <td>Model XGBoost</td>\n",
              "      <td>0.577976</td>\n",
              "      <td>0.651488</td>\n",
              "    </tr>\n",
              "    <tr>\n",
              "      <th>4</th>\n",
              "      <td>Model XGBoost, Oversampling</td>\n",
              "      <td>0.539881</td>\n",
              "      <td>0.611607</td>\n",
              "    </tr>\n",
              "    <tr>\n",
              "      <th>5</th>\n",
              "      <td>Model XGBoost, Undersampling</td>\n",
              "      <td>0.510714</td>\n",
              "      <td>0.573065</td>\n",
              "    </tr>\n",
              "  </tbody>\n",
              "</table>\n",
              "</div>\n",
              "      <button class=\"colab-df-convert\" onclick=\"convertToInteractive('df-8db42a30-e537-42eb-ae92-b1b844e9959c')\"\n",
              "              title=\"Convert this dataframe to an interactive table.\"\n",
              "              style=\"display:none;\">\n",
              "        \n",
              "  <svg xmlns=\"http://www.w3.org/2000/svg\" height=\"24px\"viewBox=\"0 0 24 24\"\n",
              "       width=\"24px\">\n",
              "    <path d=\"M0 0h24v24H0V0z\" fill=\"none\"/>\n",
              "    <path d=\"M18.56 5.44l.94 2.06.94-2.06 2.06-.94-2.06-.94-.94-2.06-.94 2.06-2.06.94zm-11 1L8.5 8.5l.94-2.06 2.06-.94-2.06-.94L8.5 2.5l-.94 2.06-2.06.94zm10 10l.94 2.06.94-2.06 2.06-.94-2.06-.94-.94-2.06-.94 2.06-2.06.94z\"/><path d=\"M17.41 7.96l-1.37-1.37c-.4-.4-.92-.59-1.43-.59-.52 0-1.04.2-1.43.59L10.3 9.45l-7.72 7.72c-.78.78-.78 2.05 0 2.83L4 21.41c.39.39.9.59 1.41.59.51 0 1.02-.2 1.41-.59l7.78-7.78 2.81-2.81c.8-.78.8-2.07 0-2.86zM5.41 20L4 18.59l7.72-7.72 1.47 1.35L5.41 20z\"/>\n",
              "  </svg>\n",
              "      </button>\n",
              "      \n",
              "  <style>\n",
              "    .colab-df-container {\n",
              "      display:flex;\n",
              "      flex-wrap:wrap;\n",
              "      gap: 12px;\n",
              "    }\n",
              "\n",
              "    .colab-df-convert {\n",
              "      background-color: #E8F0FE;\n",
              "      border: none;\n",
              "      border-radius: 50%;\n",
              "      cursor: pointer;\n",
              "      display: none;\n",
              "      fill: #1967D2;\n",
              "      height: 32px;\n",
              "      padding: 0 0 0 0;\n",
              "      width: 32px;\n",
              "    }\n",
              "\n",
              "    .colab-df-convert:hover {\n",
              "      background-color: #E2EBFA;\n",
              "      box-shadow: 0px 1px 2px rgba(60, 64, 67, 0.3), 0px 1px 3px 1px rgba(60, 64, 67, 0.15);\n",
              "      fill: #174EA6;\n",
              "    }\n",
              "\n",
              "    [theme=dark] .colab-df-convert {\n",
              "      background-color: #3B4455;\n",
              "      fill: #D2E3FC;\n",
              "    }\n",
              "\n",
              "    [theme=dark] .colab-df-convert:hover {\n",
              "      background-color: #434B5C;\n",
              "      box-shadow: 0px 1px 3px 1px rgba(0, 0, 0, 0.15);\n",
              "      filter: drop-shadow(0px 1px 2px rgba(0, 0, 0, 0.3));\n",
              "      fill: #FFFFFF;\n",
              "    }\n",
              "  </style>\n",
              "\n",
              "      <script>\n",
              "        const buttonEl =\n",
              "          document.querySelector('#df-8db42a30-e537-42eb-ae92-b1b844e9959c button.colab-df-convert');\n",
              "        buttonEl.style.display =\n",
              "          google.colab.kernel.accessAllowed ? 'block' : 'none';\n",
              "\n",
              "        async function convertToInteractive(key) {\n",
              "          const element = document.querySelector('#df-8db42a30-e537-42eb-ae92-b1b844e9959c');\n",
              "          const dataTable =\n",
              "            await google.colab.kernel.invokeFunction('convertToInteractive',\n",
              "                                                     [key], {});\n",
              "          if (!dataTable) return;\n",
              "\n",
              "          const docLinkHtml = 'Like what you see? Visit the ' +\n",
              "            '<a target=\"_blank\" href=https://colab.research.google.com/notebooks/data_table.ipynb>data table notebook</a>'\n",
              "            + ' to learn more about interactive tables.';\n",
              "          element.innerHTML = '';\n",
              "          dataTable['output_type'] = 'display_data';\n",
              "          await google.colab.output.renderOutput(dataTable, element);\n",
              "          const docLink = document.createElement('div');\n",
              "          docLink.innerHTML = docLinkHtml;\n",
              "          element.appendChild(docLink);\n",
              "        }\n",
              "      </script>\n",
              "    </div>\n",
              "  </div>\n",
              "  "
            ]
          },
          "metadata": {},
          "execution_count": 741
        }
      ]
    },
    {
      "cell_type": "markdown",
      "source": [
        "## Extra Trees"
      ],
      "metadata": {
        "id": "wFO8WddM5IrN"
      }
    },
    {
      "cell_type": "code",
      "source": [
        "from sklearn.ensemble import ExtraTreesClassifier"
      ],
      "metadata": {
        "id": "J2j5RPNR54Ao"
      },
      "execution_count": null,
      "outputs": []
    },
    {
      "cell_type": "markdown",
      "source": [
        "#### Tanpa Resampling Data"
      ],
      "metadata": {
        "id": "n2tk_eu69i7d"
      }
    },
    {
      "cell_type": "code",
      "source": [
        "model = Pipeline(steps=[\n",
        "    ('preprocessor', columntransform),\n",
        "    ('classifier', ExtraTreesClassifier(n_jobs=-1, random_state=42, n_estimators=150))\n",
        "])\n",
        "\n",
        "model.fit(X_train, y_train)\n",
        "score_test = model.score(X_test, y_test)\n",
        "score_train = model.score(X_train, y_train)\n",
        "\n",
        "hasil_model = hasil_model.append({'model': 'Model XTrees', 'akurasi testing': score_test, 'akurasi training': score_train}, ignore_index=True)\n",
        "hasil_model"
      ],
      "metadata": {
        "colab": {
          "base_uri": "https://localhost:8080/",
          "height": 303
        },
        "id": "-CI6cU3I6xJ1",
        "outputId": "caea0637-31ba-4f7c-f2f6-05639c514f8a"
      },
      "execution_count": null,
      "outputs": [
        {
          "output_type": "stream",
          "name": "stderr",
          "text": [
            "<ipython-input-743-b3a16f17cba9>:10: FutureWarning: The frame.append method is deprecated and will be removed from pandas in a future version. Use pandas.concat instead.\n",
            "  hasil_model = hasil_model.append({'model': 'Model XTrees', 'akurasi testing': score_test, 'akurasi training': score_train}, ignore_index=True)\n"
          ]
        },
        {
          "output_type": "execute_result",
          "data": {
            "text/plain": [
              "                          model  akurasi testing  akurasi training\n",
              "0                      Model RF         0.579167          0.655506\n",
              "1        Model RF, Oversampling         0.540476          0.617560\n",
              "2       Model RF, Undersampling         0.509524          0.570685\n",
              "3                 Model XGBoost         0.577976          0.651488\n",
              "4   Model XGBoost, Oversampling         0.539881          0.611607\n",
              "5  Model XGBoost, Undersampling         0.510714          0.573065\n",
              "6                  Model XTrees         0.575000          0.655506"
            ],
            "text/html": [
              "\n",
              "  <div id=\"df-00a8441f-765f-445b-896c-5c078f74205f\">\n",
              "    <div class=\"colab-df-container\">\n",
              "      <div>\n",
              "<style scoped>\n",
              "    .dataframe tbody tr th:only-of-type {\n",
              "        vertical-align: middle;\n",
              "    }\n",
              "\n",
              "    .dataframe tbody tr th {\n",
              "        vertical-align: top;\n",
              "    }\n",
              "\n",
              "    .dataframe thead th {\n",
              "        text-align: right;\n",
              "    }\n",
              "</style>\n",
              "<table border=\"1\" class=\"dataframe\">\n",
              "  <thead>\n",
              "    <tr style=\"text-align: right;\">\n",
              "      <th></th>\n",
              "      <th>model</th>\n",
              "      <th>akurasi testing</th>\n",
              "      <th>akurasi training</th>\n",
              "    </tr>\n",
              "  </thead>\n",
              "  <tbody>\n",
              "    <tr>\n",
              "      <th>0</th>\n",
              "      <td>Model RF</td>\n",
              "      <td>0.579167</td>\n",
              "      <td>0.655506</td>\n",
              "    </tr>\n",
              "    <tr>\n",
              "      <th>1</th>\n",
              "      <td>Model RF, Oversampling</td>\n",
              "      <td>0.540476</td>\n",
              "      <td>0.617560</td>\n",
              "    </tr>\n",
              "    <tr>\n",
              "      <th>2</th>\n",
              "      <td>Model RF, Undersampling</td>\n",
              "      <td>0.509524</td>\n",
              "      <td>0.570685</td>\n",
              "    </tr>\n",
              "    <tr>\n",
              "      <th>3</th>\n",
              "      <td>Model XGBoost</td>\n",
              "      <td>0.577976</td>\n",
              "      <td>0.651488</td>\n",
              "    </tr>\n",
              "    <tr>\n",
              "      <th>4</th>\n",
              "      <td>Model XGBoost, Oversampling</td>\n",
              "      <td>0.539881</td>\n",
              "      <td>0.611607</td>\n",
              "    </tr>\n",
              "    <tr>\n",
              "      <th>5</th>\n",
              "      <td>Model XGBoost, Undersampling</td>\n",
              "      <td>0.510714</td>\n",
              "      <td>0.573065</td>\n",
              "    </tr>\n",
              "    <tr>\n",
              "      <th>6</th>\n",
              "      <td>Model XTrees</td>\n",
              "      <td>0.575000</td>\n",
              "      <td>0.655506</td>\n",
              "    </tr>\n",
              "  </tbody>\n",
              "</table>\n",
              "</div>\n",
              "      <button class=\"colab-df-convert\" onclick=\"convertToInteractive('df-00a8441f-765f-445b-896c-5c078f74205f')\"\n",
              "              title=\"Convert this dataframe to an interactive table.\"\n",
              "              style=\"display:none;\">\n",
              "        \n",
              "  <svg xmlns=\"http://www.w3.org/2000/svg\" height=\"24px\"viewBox=\"0 0 24 24\"\n",
              "       width=\"24px\">\n",
              "    <path d=\"M0 0h24v24H0V0z\" fill=\"none\"/>\n",
              "    <path d=\"M18.56 5.44l.94 2.06.94-2.06 2.06-.94-2.06-.94-.94-2.06-.94 2.06-2.06.94zm-11 1L8.5 8.5l.94-2.06 2.06-.94-2.06-.94L8.5 2.5l-.94 2.06-2.06.94zm10 10l.94 2.06.94-2.06 2.06-.94-2.06-.94-.94-2.06-.94 2.06-2.06.94z\"/><path d=\"M17.41 7.96l-1.37-1.37c-.4-.4-.92-.59-1.43-.59-.52 0-1.04.2-1.43.59L10.3 9.45l-7.72 7.72c-.78.78-.78 2.05 0 2.83L4 21.41c.39.39.9.59 1.41.59.51 0 1.02-.2 1.41-.59l7.78-7.78 2.81-2.81c.8-.78.8-2.07 0-2.86zM5.41 20L4 18.59l7.72-7.72 1.47 1.35L5.41 20z\"/>\n",
              "  </svg>\n",
              "      </button>\n",
              "      \n",
              "  <style>\n",
              "    .colab-df-container {\n",
              "      display:flex;\n",
              "      flex-wrap:wrap;\n",
              "      gap: 12px;\n",
              "    }\n",
              "\n",
              "    .colab-df-convert {\n",
              "      background-color: #E8F0FE;\n",
              "      border: none;\n",
              "      border-radius: 50%;\n",
              "      cursor: pointer;\n",
              "      display: none;\n",
              "      fill: #1967D2;\n",
              "      height: 32px;\n",
              "      padding: 0 0 0 0;\n",
              "      width: 32px;\n",
              "    }\n",
              "\n",
              "    .colab-df-convert:hover {\n",
              "      background-color: #E2EBFA;\n",
              "      box-shadow: 0px 1px 2px rgba(60, 64, 67, 0.3), 0px 1px 3px 1px rgba(60, 64, 67, 0.15);\n",
              "      fill: #174EA6;\n",
              "    }\n",
              "\n",
              "    [theme=dark] .colab-df-convert {\n",
              "      background-color: #3B4455;\n",
              "      fill: #D2E3FC;\n",
              "    }\n",
              "\n",
              "    [theme=dark] .colab-df-convert:hover {\n",
              "      background-color: #434B5C;\n",
              "      box-shadow: 0px 1px 3px 1px rgba(0, 0, 0, 0.15);\n",
              "      filter: drop-shadow(0px 1px 2px rgba(0, 0, 0, 0.3));\n",
              "      fill: #FFFFFF;\n",
              "    }\n",
              "  </style>\n",
              "\n",
              "      <script>\n",
              "        const buttonEl =\n",
              "          document.querySelector('#df-00a8441f-765f-445b-896c-5c078f74205f button.colab-df-convert');\n",
              "        buttonEl.style.display =\n",
              "          google.colab.kernel.accessAllowed ? 'block' : 'none';\n",
              "\n",
              "        async function convertToInteractive(key) {\n",
              "          const element = document.querySelector('#df-00a8441f-765f-445b-896c-5c078f74205f');\n",
              "          const dataTable =\n",
              "            await google.colab.kernel.invokeFunction('convertToInteractive',\n",
              "                                                     [key], {});\n",
              "          if (!dataTable) return;\n",
              "\n",
              "          const docLinkHtml = 'Like what you see? Visit the ' +\n",
              "            '<a target=\"_blank\" href=https://colab.research.google.com/notebooks/data_table.ipynb>data table notebook</a>'\n",
              "            + ' to learn more about interactive tables.';\n",
              "          element.innerHTML = '';\n",
              "          dataTable['output_type'] = 'display_data';\n",
              "          await google.colab.output.renderOutput(dataTable, element);\n",
              "          const docLink = document.createElement('div');\n",
              "          docLink.innerHTML = docLinkHtml;\n",
              "          element.appendChild(docLink);\n",
              "        }\n",
              "      </script>\n",
              "    </div>\n",
              "  </div>\n",
              "  "
            ]
          },
          "metadata": {},
          "execution_count": 743
        }
      ]
    },
    {
      "cell_type": "markdown",
      "source": [
        "#### Menggunakan Oversampling SMOTE"
      ],
      "metadata": {
        "id": "2AxpnaC3CsUO"
      }
    },
    {
      "cell_type": "code",
      "source": [
        "model = Pipeline(steps=[\n",
        "    ('preprocessor', columntransform),\n",
        "    ('resampling', SMOTE(random_state=42, n_jobs=-1, k_neighbors=9)), \n",
        "    ('classifier', ExtraTreesClassifier(n_jobs=-1, random_state=42, n_estimators=150))\n",
        "])\n",
        "\n",
        "model.fit(X_train, y_train)\n",
        "score_test = model.score(X_test, y_test)\n",
        "score_train = model.score(X_train, y_train)\n",
        "\n",
        "hasil_model = hasil_model.append({'model': 'Model XTrees, SMOTE', 'akurasi testing': score_test, 'akurasi training': score_train}, ignore_index=True)\n",
        "hasil_model"
      ],
      "metadata": {
        "colab": {
          "base_uri": "https://localhost:8080/",
          "height": 389
        },
        "id": "SwxU-Te78yOA",
        "outputId": "870564ed-6b56-407a-8d56-553c5d46fa8a"
      },
      "execution_count": null,
      "outputs": [
        {
          "output_type": "stream",
          "name": "stderr",
          "text": [
            "/usr/local/lib/python3.10/dist-packages/imblearn/over_sampling/_smote/base.py:336: FutureWarning: The parameter `n_jobs` has been deprecated in 0.10 and will be removed in 0.12. You can pass an nearest neighbors estimator where `n_jobs` is already set instead.\n",
            "  warnings.warn(\n",
            "<ipython-input-744-9f3f5a08d5dd>:11: FutureWarning: The frame.append method is deprecated and will be removed from pandas in a future version. Use pandas.concat instead.\n",
            "  hasil_model = hasil_model.append({'model': 'Model XTrees, SMOTE', 'akurasi testing': score_test, 'akurasi training': score_train}, ignore_index=True)\n"
          ]
        },
        {
          "output_type": "execute_result",
          "data": {
            "text/plain": [
              "                          model  akurasi testing  akurasi training\n",
              "0                      Model RF         0.579167          0.655506\n",
              "1        Model RF, Oversampling         0.540476          0.617560\n",
              "2       Model RF, Undersampling         0.509524          0.570685\n",
              "3                 Model XGBoost         0.577976          0.651488\n",
              "4   Model XGBoost, Oversampling         0.539881          0.611607\n",
              "5  Model XGBoost, Undersampling         0.510714          0.573065\n",
              "6                  Model XTrees         0.575000          0.655506\n",
              "7           Model XTrees, SMOTE         0.540476          0.619345"
            ],
            "text/html": [
              "\n",
              "  <div id=\"df-c3ed0062-f142-45da-b1cb-ffd3c08a01b3\">\n",
              "    <div class=\"colab-df-container\">\n",
              "      <div>\n",
              "<style scoped>\n",
              "    .dataframe tbody tr th:only-of-type {\n",
              "        vertical-align: middle;\n",
              "    }\n",
              "\n",
              "    .dataframe tbody tr th {\n",
              "        vertical-align: top;\n",
              "    }\n",
              "\n",
              "    .dataframe thead th {\n",
              "        text-align: right;\n",
              "    }\n",
              "</style>\n",
              "<table border=\"1\" class=\"dataframe\">\n",
              "  <thead>\n",
              "    <tr style=\"text-align: right;\">\n",
              "      <th></th>\n",
              "      <th>model</th>\n",
              "      <th>akurasi testing</th>\n",
              "      <th>akurasi training</th>\n",
              "    </tr>\n",
              "  </thead>\n",
              "  <tbody>\n",
              "    <tr>\n",
              "      <th>0</th>\n",
              "      <td>Model RF</td>\n",
              "      <td>0.579167</td>\n",
              "      <td>0.655506</td>\n",
              "    </tr>\n",
              "    <tr>\n",
              "      <th>1</th>\n",
              "      <td>Model RF, Oversampling</td>\n",
              "      <td>0.540476</td>\n",
              "      <td>0.617560</td>\n",
              "    </tr>\n",
              "    <tr>\n",
              "      <th>2</th>\n",
              "      <td>Model RF, Undersampling</td>\n",
              "      <td>0.509524</td>\n",
              "      <td>0.570685</td>\n",
              "    </tr>\n",
              "    <tr>\n",
              "      <th>3</th>\n",
              "      <td>Model XGBoost</td>\n",
              "      <td>0.577976</td>\n",
              "      <td>0.651488</td>\n",
              "    </tr>\n",
              "    <tr>\n",
              "      <th>4</th>\n",
              "      <td>Model XGBoost, Oversampling</td>\n",
              "      <td>0.539881</td>\n",
              "      <td>0.611607</td>\n",
              "    </tr>\n",
              "    <tr>\n",
              "      <th>5</th>\n",
              "      <td>Model XGBoost, Undersampling</td>\n",
              "      <td>0.510714</td>\n",
              "      <td>0.573065</td>\n",
              "    </tr>\n",
              "    <tr>\n",
              "      <th>6</th>\n",
              "      <td>Model XTrees</td>\n",
              "      <td>0.575000</td>\n",
              "      <td>0.655506</td>\n",
              "    </tr>\n",
              "    <tr>\n",
              "      <th>7</th>\n",
              "      <td>Model XTrees, SMOTE</td>\n",
              "      <td>0.540476</td>\n",
              "      <td>0.619345</td>\n",
              "    </tr>\n",
              "  </tbody>\n",
              "</table>\n",
              "</div>\n",
              "      <button class=\"colab-df-convert\" onclick=\"convertToInteractive('df-c3ed0062-f142-45da-b1cb-ffd3c08a01b3')\"\n",
              "              title=\"Convert this dataframe to an interactive table.\"\n",
              "              style=\"display:none;\">\n",
              "        \n",
              "  <svg xmlns=\"http://www.w3.org/2000/svg\" height=\"24px\"viewBox=\"0 0 24 24\"\n",
              "       width=\"24px\">\n",
              "    <path d=\"M0 0h24v24H0V0z\" fill=\"none\"/>\n",
              "    <path d=\"M18.56 5.44l.94 2.06.94-2.06 2.06-.94-2.06-.94-.94-2.06-.94 2.06-2.06.94zm-11 1L8.5 8.5l.94-2.06 2.06-.94-2.06-.94L8.5 2.5l-.94 2.06-2.06.94zm10 10l.94 2.06.94-2.06 2.06-.94-2.06-.94-.94-2.06-.94 2.06-2.06.94z\"/><path d=\"M17.41 7.96l-1.37-1.37c-.4-.4-.92-.59-1.43-.59-.52 0-1.04.2-1.43.59L10.3 9.45l-7.72 7.72c-.78.78-.78 2.05 0 2.83L4 21.41c.39.39.9.59 1.41.59.51 0 1.02-.2 1.41-.59l7.78-7.78 2.81-2.81c.8-.78.8-2.07 0-2.86zM5.41 20L4 18.59l7.72-7.72 1.47 1.35L5.41 20z\"/>\n",
              "  </svg>\n",
              "      </button>\n",
              "      \n",
              "  <style>\n",
              "    .colab-df-container {\n",
              "      display:flex;\n",
              "      flex-wrap:wrap;\n",
              "      gap: 12px;\n",
              "    }\n",
              "\n",
              "    .colab-df-convert {\n",
              "      background-color: #E8F0FE;\n",
              "      border: none;\n",
              "      border-radius: 50%;\n",
              "      cursor: pointer;\n",
              "      display: none;\n",
              "      fill: #1967D2;\n",
              "      height: 32px;\n",
              "      padding: 0 0 0 0;\n",
              "      width: 32px;\n",
              "    }\n",
              "\n",
              "    .colab-df-convert:hover {\n",
              "      background-color: #E2EBFA;\n",
              "      box-shadow: 0px 1px 2px rgba(60, 64, 67, 0.3), 0px 1px 3px 1px rgba(60, 64, 67, 0.15);\n",
              "      fill: #174EA6;\n",
              "    }\n",
              "\n",
              "    [theme=dark] .colab-df-convert {\n",
              "      background-color: #3B4455;\n",
              "      fill: #D2E3FC;\n",
              "    }\n",
              "\n",
              "    [theme=dark] .colab-df-convert:hover {\n",
              "      background-color: #434B5C;\n",
              "      box-shadow: 0px 1px 3px 1px rgba(0, 0, 0, 0.15);\n",
              "      filter: drop-shadow(0px 1px 2px rgba(0, 0, 0, 0.3));\n",
              "      fill: #FFFFFF;\n",
              "    }\n",
              "  </style>\n",
              "\n",
              "      <script>\n",
              "        const buttonEl =\n",
              "          document.querySelector('#df-c3ed0062-f142-45da-b1cb-ffd3c08a01b3 button.colab-df-convert');\n",
              "        buttonEl.style.display =\n",
              "          google.colab.kernel.accessAllowed ? 'block' : 'none';\n",
              "\n",
              "        async function convertToInteractive(key) {\n",
              "          const element = document.querySelector('#df-c3ed0062-f142-45da-b1cb-ffd3c08a01b3');\n",
              "          const dataTable =\n",
              "            await google.colab.kernel.invokeFunction('convertToInteractive',\n",
              "                                                     [key], {});\n",
              "          if (!dataTable) return;\n",
              "\n",
              "          const docLinkHtml = 'Like what you see? Visit the ' +\n",
              "            '<a target=\"_blank\" href=https://colab.research.google.com/notebooks/data_table.ipynb>data table notebook</a>'\n",
              "            + ' to learn more about interactive tables.';\n",
              "          element.innerHTML = '';\n",
              "          dataTable['output_type'] = 'display_data';\n",
              "          await google.colab.output.renderOutput(dataTable, element);\n",
              "          const docLink = document.createElement('div');\n",
              "          docLink.innerHTML = docLinkHtml;\n",
              "          element.appendChild(docLink);\n",
              "        }\n",
              "      </script>\n",
              "    </div>\n",
              "  </div>\n",
              "  "
            ]
          },
          "metadata": {},
          "execution_count": 744
        }
      ]
    },
    {
      "cell_type": "markdown",
      "source": [
        "#### Menggunakan Undersampling AllKNN"
      ],
      "metadata": {
        "id": "87MlRpZJCrVu"
      }
    },
    {
      "cell_type": "code",
      "source": [
        "model = Pipeline(steps=[\n",
        "    ('preprocessor', columntransform),\n",
        "    ('resampling', AllKNN(n_jobs=-1, n_neighbors=9)), \n",
        "    ('classifier', ExtraTreesClassifier(n_jobs=-1, random_state=42, n_estimators=150))\n",
        "])\n",
        "\n",
        "model.fit(X_train, y_train)\n",
        "score_test = model.score(X_test, y_test)\n",
        "score_train = model.score(X_train, y_train)\n",
        "\n",
        "hasil_model = hasil_model.append({'model': 'Model RF, Undersampling', 'akurasi testing': score_test, 'akurasi training': score_train}, ignore_index=True)\n",
        "hasil_model"
      ],
      "metadata": {
        "colab": {
          "base_uri": "https://localhost:8080/",
          "height": 366
        },
        "id": "sjMZwGzbCrV2",
        "outputId": "f1e450ec-0a4d-46dd-bbca-550680edb1c5"
      },
      "execution_count": null,
      "outputs": [
        {
          "output_type": "stream",
          "name": "stderr",
          "text": [
            "<ipython-input-745-5d472da57535>:11: FutureWarning: The frame.append method is deprecated and will be removed from pandas in a future version. Use pandas.concat instead.\n",
            "  hasil_model = hasil_model.append({'model': 'Model RF, Undersampling', 'akurasi testing': score_test, 'akurasi training': score_train}, ignore_index=True)\n"
          ]
        },
        {
          "output_type": "execute_result",
          "data": {
            "text/plain": [
              "                          model  akurasi testing  akurasi training\n",
              "0                      Model RF         0.579167          0.655506\n",
              "1        Model RF, Oversampling         0.540476          0.617560\n",
              "2       Model RF, Undersampling         0.509524          0.570685\n",
              "3                 Model XGBoost         0.577976          0.651488\n",
              "4   Model XGBoost, Oversampling         0.539881          0.611607\n",
              "5  Model XGBoost, Undersampling         0.510714          0.573065\n",
              "6                  Model XTrees         0.575000          0.655506\n",
              "7           Model XTrees, SMOTE         0.540476          0.619345\n",
              "8       Model RF, Undersampling         0.509524          0.570685"
            ],
            "text/html": [
              "\n",
              "  <div id=\"df-c8b01716-b9e7-4361-aadf-6c1874c57ff6\">\n",
              "    <div class=\"colab-df-container\">\n",
              "      <div>\n",
              "<style scoped>\n",
              "    .dataframe tbody tr th:only-of-type {\n",
              "        vertical-align: middle;\n",
              "    }\n",
              "\n",
              "    .dataframe tbody tr th {\n",
              "        vertical-align: top;\n",
              "    }\n",
              "\n",
              "    .dataframe thead th {\n",
              "        text-align: right;\n",
              "    }\n",
              "</style>\n",
              "<table border=\"1\" class=\"dataframe\">\n",
              "  <thead>\n",
              "    <tr style=\"text-align: right;\">\n",
              "      <th></th>\n",
              "      <th>model</th>\n",
              "      <th>akurasi testing</th>\n",
              "      <th>akurasi training</th>\n",
              "    </tr>\n",
              "  </thead>\n",
              "  <tbody>\n",
              "    <tr>\n",
              "      <th>0</th>\n",
              "      <td>Model RF</td>\n",
              "      <td>0.579167</td>\n",
              "      <td>0.655506</td>\n",
              "    </tr>\n",
              "    <tr>\n",
              "      <th>1</th>\n",
              "      <td>Model RF, Oversampling</td>\n",
              "      <td>0.540476</td>\n",
              "      <td>0.617560</td>\n",
              "    </tr>\n",
              "    <tr>\n",
              "      <th>2</th>\n",
              "      <td>Model RF, Undersampling</td>\n",
              "      <td>0.509524</td>\n",
              "      <td>0.570685</td>\n",
              "    </tr>\n",
              "    <tr>\n",
              "      <th>3</th>\n",
              "      <td>Model XGBoost</td>\n",
              "      <td>0.577976</td>\n",
              "      <td>0.651488</td>\n",
              "    </tr>\n",
              "    <tr>\n",
              "      <th>4</th>\n",
              "      <td>Model XGBoost, Oversampling</td>\n",
              "      <td>0.539881</td>\n",
              "      <td>0.611607</td>\n",
              "    </tr>\n",
              "    <tr>\n",
              "      <th>5</th>\n",
              "      <td>Model XGBoost, Undersampling</td>\n",
              "      <td>0.510714</td>\n",
              "      <td>0.573065</td>\n",
              "    </tr>\n",
              "    <tr>\n",
              "      <th>6</th>\n",
              "      <td>Model XTrees</td>\n",
              "      <td>0.575000</td>\n",
              "      <td>0.655506</td>\n",
              "    </tr>\n",
              "    <tr>\n",
              "      <th>7</th>\n",
              "      <td>Model XTrees, SMOTE</td>\n",
              "      <td>0.540476</td>\n",
              "      <td>0.619345</td>\n",
              "    </tr>\n",
              "    <tr>\n",
              "      <th>8</th>\n",
              "      <td>Model RF, Undersampling</td>\n",
              "      <td>0.509524</td>\n",
              "      <td>0.570685</td>\n",
              "    </tr>\n",
              "  </tbody>\n",
              "</table>\n",
              "</div>\n",
              "      <button class=\"colab-df-convert\" onclick=\"convertToInteractive('df-c8b01716-b9e7-4361-aadf-6c1874c57ff6')\"\n",
              "              title=\"Convert this dataframe to an interactive table.\"\n",
              "              style=\"display:none;\">\n",
              "        \n",
              "  <svg xmlns=\"http://www.w3.org/2000/svg\" height=\"24px\"viewBox=\"0 0 24 24\"\n",
              "       width=\"24px\">\n",
              "    <path d=\"M0 0h24v24H0V0z\" fill=\"none\"/>\n",
              "    <path d=\"M18.56 5.44l.94 2.06.94-2.06 2.06-.94-2.06-.94-.94-2.06-.94 2.06-2.06.94zm-11 1L8.5 8.5l.94-2.06 2.06-.94-2.06-.94L8.5 2.5l-.94 2.06-2.06.94zm10 10l.94 2.06.94-2.06 2.06-.94-2.06-.94-.94-2.06-.94 2.06-2.06.94z\"/><path d=\"M17.41 7.96l-1.37-1.37c-.4-.4-.92-.59-1.43-.59-.52 0-1.04.2-1.43.59L10.3 9.45l-7.72 7.72c-.78.78-.78 2.05 0 2.83L4 21.41c.39.39.9.59 1.41.59.51 0 1.02-.2 1.41-.59l7.78-7.78 2.81-2.81c.8-.78.8-2.07 0-2.86zM5.41 20L4 18.59l7.72-7.72 1.47 1.35L5.41 20z\"/>\n",
              "  </svg>\n",
              "      </button>\n",
              "      \n",
              "  <style>\n",
              "    .colab-df-container {\n",
              "      display:flex;\n",
              "      flex-wrap:wrap;\n",
              "      gap: 12px;\n",
              "    }\n",
              "\n",
              "    .colab-df-convert {\n",
              "      background-color: #E8F0FE;\n",
              "      border: none;\n",
              "      border-radius: 50%;\n",
              "      cursor: pointer;\n",
              "      display: none;\n",
              "      fill: #1967D2;\n",
              "      height: 32px;\n",
              "      padding: 0 0 0 0;\n",
              "      width: 32px;\n",
              "    }\n",
              "\n",
              "    .colab-df-convert:hover {\n",
              "      background-color: #E2EBFA;\n",
              "      box-shadow: 0px 1px 2px rgba(60, 64, 67, 0.3), 0px 1px 3px 1px rgba(60, 64, 67, 0.15);\n",
              "      fill: #174EA6;\n",
              "    }\n",
              "\n",
              "    [theme=dark] .colab-df-convert {\n",
              "      background-color: #3B4455;\n",
              "      fill: #D2E3FC;\n",
              "    }\n",
              "\n",
              "    [theme=dark] .colab-df-convert:hover {\n",
              "      background-color: #434B5C;\n",
              "      box-shadow: 0px 1px 3px 1px rgba(0, 0, 0, 0.15);\n",
              "      filter: drop-shadow(0px 1px 2px rgba(0, 0, 0, 0.3));\n",
              "      fill: #FFFFFF;\n",
              "    }\n",
              "  </style>\n",
              "\n",
              "      <script>\n",
              "        const buttonEl =\n",
              "          document.querySelector('#df-c8b01716-b9e7-4361-aadf-6c1874c57ff6 button.colab-df-convert');\n",
              "        buttonEl.style.display =\n",
              "          google.colab.kernel.accessAllowed ? 'block' : 'none';\n",
              "\n",
              "        async function convertToInteractive(key) {\n",
              "          const element = document.querySelector('#df-c8b01716-b9e7-4361-aadf-6c1874c57ff6');\n",
              "          const dataTable =\n",
              "            await google.colab.kernel.invokeFunction('convertToInteractive',\n",
              "                                                     [key], {});\n",
              "          if (!dataTable) return;\n",
              "\n",
              "          const docLinkHtml = 'Like what you see? Visit the ' +\n",
              "            '<a target=\"_blank\" href=https://colab.research.google.com/notebooks/data_table.ipynb>data table notebook</a>'\n",
              "            + ' to learn more about interactive tables.';\n",
              "          element.innerHTML = '';\n",
              "          dataTable['output_type'] = 'display_data';\n",
              "          await google.colab.output.renderOutput(dataTable, element);\n",
              "          const docLink = document.createElement('div');\n",
              "          docLink.innerHTML = docLinkHtml;\n",
              "          element.appendChild(docLink);\n",
              "        }\n",
              "      </script>\n",
              "    </div>\n",
              "  </div>\n",
              "  "
            ]
          },
          "metadata": {},
          "execution_count": 745
        }
      ]
    },
    {
      "cell_type": "markdown",
      "source": [
        "## Categorical Boosting"
      ],
      "metadata": {
        "id": "rBGm7eS6OtoA"
      }
    },
    {
      "cell_type": "code",
      "source": [
        "from catboost import CatBoostClassifier"
      ],
      "metadata": {
        "id": "jnQ-538JOtoB"
      },
      "execution_count": null,
      "outputs": []
    },
    {
      "cell_type": "markdown",
      "source": [
        "#### Tanpa Resampling Data"
      ],
      "metadata": {
        "id": "GwsiaILVOtoB"
      }
    },
    {
      "cell_type": "code",
      "source": [
        "model_final = Pipeline(steps=[\n",
        "    ('preprocessor', columntransform),\n",
        "    ('classifier', CatBoostClassifier(random_state=42, verbose=False))\n",
        "])\n",
        "\n",
        "model_final.fit(X_train, y_train)\n",
        "score_test = model_final.score(X_test, y_test)\n",
        "score_train = model_final.score(X_train, y_train)\n",
        "\n",
        "hasil_model = hasil_model.append({'model': 'Model Catboost', 'akurasi testing': score_test, 'akurasi training': score_train}, ignore_index=True)\n",
        "hasil_model"
      ],
      "metadata": {
        "colab": {
          "base_uri": "https://localhost:8080/",
          "height": 397
        },
        "outputId": "f61a79f2-d35e-4863-9861-709678788440",
        "id": "nzbo1KpSOtoB"
      },
      "execution_count": null,
      "outputs": [
        {
          "output_type": "stream",
          "name": "stderr",
          "text": [
            "<ipython-input-747-8cde756f312e>:10: FutureWarning: The frame.append method is deprecated and will be removed from pandas in a future version. Use pandas.concat instead.\n",
            "  hasil_model = hasil_model.append({'model': 'Model Catboost', 'akurasi testing': score_test, 'akurasi training': score_train}, ignore_index=True)\n"
          ]
        },
        {
          "output_type": "execute_result",
          "data": {
            "text/plain": [
              "                          model  akurasi testing  akurasi training\n",
              "0                      Model RF         0.579167          0.655506\n",
              "1        Model RF, Oversampling         0.540476          0.617560\n",
              "2       Model RF, Undersampling         0.509524          0.570685\n",
              "3                 Model XGBoost         0.577976          0.651488\n",
              "4   Model XGBoost, Oversampling         0.539881          0.611607\n",
              "5  Model XGBoost, Undersampling         0.510714          0.573065\n",
              "6                  Model XTrees         0.575000          0.655506\n",
              "7           Model XTrees, SMOTE         0.540476          0.619345\n",
              "8       Model RF, Undersampling         0.509524          0.570685\n",
              "9                Model Catboost         0.584524          0.650595"
            ],
            "text/html": [
              "\n",
              "  <div id=\"df-a80e1b1e-f928-4c44-8856-c5598669ae67\">\n",
              "    <div class=\"colab-df-container\">\n",
              "      <div>\n",
              "<style scoped>\n",
              "    .dataframe tbody tr th:only-of-type {\n",
              "        vertical-align: middle;\n",
              "    }\n",
              "\n",
              "    .dataframe tbody tr th {\n",
              "        vertical-align: top;\n",
              "    }\n",
              "\n",
              "    .dataframe thead th {\n",
              "        text-align: right;\n",
              "    }\n",
              "</style>\n",
              "<table border=\"1\" class=\"dataframe\">\n",
              "  <thead>\n",
              "    <tr style=\"text-align: right;\">\n",
              "      <th></th>\n",
              "      <th>model</th>\n",
              "      <th>akurasi testing</th>\n",
              "      <th>akurasi training</th>\n",
              "    </tr>\n",
              "  </thead>\n",
              "  <tbody>\n",
              "    <tr>\n",
              "      <th>0</th>\n",
              "      <td>Model RF</td>\n",
              "      <td>0.579167</td>\n",
              "      <td>0.655506</td>\n",
              "    </tr>\n",
              "    <tr>\n",
              "      <th>1</th>\n",
              "      <td>Model RF, Oversampling</td>\n",
              "      <td>0.540476</td>\n",
              "      <td>0.617560</td>\n",
              "    </tr>\n",
              "    <tr>\n",
              "      <th>2</th>\n",
              "      <td>Model RF, Undersampling</td>\n",
              "      <td>0.509524</td>\n",
              "      <td>0.570685</td>\n",
              "    </tr>\n",
              "    <tr>\n",
              "      <th>3</th>\n",
              "      <td>Model XGBoost</td>\n",
              "      <td>0.577976</td>\n",
              "      <td>0.651488</td>\n",
              "    </tr>\n",
              "    <tr>\n",
              "      <th>4</th>\n",
              "      <td>Model XGBoost, Oversampling</td>\n",
              "      <td>0.539881</td>\n",
              "      <td>0.611607</td>\n",
              "    </tr>\n",
              "    <tr>\n",
              "      <th>5</th>\n",
              "      <td>Model XGBoost, Undersampling</td>\n",
              "      <td>0.510714</td>\n",
              "      <td>0.573065</td>\n",
              "    </tr>\n",
              "    <tr>\n",
              "      <th>6</th>\n",
              "      <td>Model XTrees</td>\n",
              "      <td>0.575000</td>\n",
              "      <td>0.655506</td>\n",
              "    </tr>\n",
              "    <tr>\n",
              "      <th>7</th>\n",
              "      <td>Model XTrees, SMOTE</td>\n",
              "      <td>0.540476</td>\n",
              "      <td>0.619345</td>\n",
              "    </tr>\n",
              "    <tr>\n",
              "      <th>8</th>\n",
              "      <td>Model RF, Undersampling</td>\n",
              "      <td>0.509524</td>\n",
              "      <td>0.570685</td>\n",
              "    </tr>\n",
              "    <tr>\n",
              "      <th>9</th>\n",
              "      <td>Model Catboost</td>\n",
              "      <td>0.584524</td>\n",
              "      <td>0.650595</td>\n",
              "    </tr>\n",
              "  </tbody>\n",
              "</table>\n",
              "</div>\n",
              "      <button class=\"colab-df-convert\" onclick=\"convertToInteractive('df-a80e1b1e-f928-4c44-8856-c5598669ae67')\"\n",
              "              title=\"Convert this dataframe to an interactive table.\"\n",
              "              style=\"display:none;\">\n",
              "        \n",
              "  <svg xmlns=\"http://www.w3.org/2000/svg\" height=\"24px\"viewBox=\"0 0 24 24\"\n",
              "       width=\"24px\">\n",
              "    <path d=\"M0 0h24v24H0V0z\" fill=\"none\"/>\n",
              "    <path d=\"M18.56 5.44l.94 2.06.94-2.06 2.06-.94-2.06-.94-.94-2.06-.94 2.06-2.06.94zm-11 1L8.5 8.5l.94-2.06 2.06-.94-2.06-.94L8.5 2.5l-.94 2.06-2.06.94zm10 10l.94 2.06.94-2.06 2.06-.94-2.06-.94-.94-2.06-.94 2.06-2.06.94z\"/><path d=\"M17.41 7.96l-1.37-1.37c-.4-.4-.92-.59-1.43-.59-.52 0-1.04.2-1.43.59L10.3 9.45l-7.72 7.72c-.78.78-.78 2.05 0 2.83L4 21.41c.39.39.9.59 1.41.59.51 0 1.02-.2 1.41-.59l7.78-7.78 2.81-2.81c.8-.78.8-2.07 0-2.86zM5.41 20L4 18.59l7.72-7.72 1.47 1.35L5.41 20z\"/>\n",
              "  </svg>\n",
              "      </button>\n",
              "      \n",
              "  <style>\n",
              "    .colab-df-container {\n",
              "      display:flex;\n",
              "      flex-wrap:wrap;\n",
              "      gap: 12px;\n",
              "    }\n",
              "\n",
              "    .colab-df-convert {\n",
              "      background-color: #E8F0FE;\n",
              "      border: none;\n",
              "      border-radius: 50%;\n",
              "      cursor: pointer;\n",
              "      display: none;\n",
              "      fill: #1967D2;\n",
              "      height: 32px;\n",
              "      padding: 0 0 0 0;\n",
              "      width: 32px;\n",
              "    }\n",
              "\n",
              "    .colab-df-convert:hover {\n",
              "      background-color: #E2EBFA;\n",
              "      box-shadow: 0px 1px 2px rgba(60, 64, 67, 0.3), 0px 1px 3px 1px rgba(60, 64, 67, 0.15);\n",
              "      fill: #174EA6;\n",
              "    }\n",
              "\n",
              "    [theme=dark] .colab-df-convert {\n",
              "      background-color: #3B4455;\n",
              "      fill: #D2E3FC;\n",
              "    }\n",
              "\n",
              "    [theme=dark] .colab-df-convert:hover {\n",
              "      background-color: #434B5C;\n",
              "      box-shadow: 0px 1px 3px 1px rgba(0, 0, 0, 0.15);\n",
              "      filter: drop-shadow(0px 1px 2px rgba(0, 0, 0, 0.3));\n",
              "      fill: #FFFFFF;\n",
              "    }\n",
              "  </style>\n",
              "\n",
              "      <script>\n",
              "        const buttonEl =\n",
              "          document.querySelector('#df-a80e1b1e-f928-4c44-8856-c5598669ae67 button.colab-df-convert');\n",
              "        buttonEl.style.display =\n",
              "          google.colab.kernel.accessAllowed ? 'block' : 'none';\n",
              "\n",
              "        async function convertToInteractive(key) {\n",
              "          const element = document.querySelector('#df-a80e1b1e-f928-4c44-8856-c5598669ae67');\n",
              "          const dataTable =\n",
              "            await google.colab.kernel.invokeFunction('convertToInteractive',\n",
              "                                                     [key], {});\n",
              "          if (!dataTable) return;\n",
              "\n",
              "          const docLinkHtml = 'Like what you see? Visit the ' +\n",
              "            '<a target=\"_blank\" href=https://colab.research.google.com/notebooks/data_table.ipynb>data table notebook</a>'\n",
              "            + ' to learn more about interactive tables.';\n",
              "          element.innerHTML = '';\n",
              "          dataTable['output_type'] = 'display_data';\n",
              "          await google.colab.output.renderOutput(dataTable, element);\n",
              "          const docLink = document.createElement('div');\n",
              "          docLink.innerHTML = docLinkHtml;\n",
              "          element.appendChild(docLink);\n",
              "        }\n",
              "      </script>\n",
              "    </div>\n",
              "  </div>\n",
              "  "
            ]
          },
          "metadata": {},
          "execution_count": 747
        }
      ]
    },
    {
      "cell_type": "markdown",
      "source": [
        "#### Menggunakan Oversampling SMOTE"
      ],
      "metadata": {
        "id": "d280h_AfT2xw"
      }
    },
    {
      "cell_type": "code",
      "source": [
        "model_smote = Pipeline(steps=[\n",
        "    ('preprocessor', columntransform),\n",
        "    ('resampling', SMOTE(random_state=42, n_jobs=-1, k_neighbors=9)), \n",
        "    ('classifier', CatBoostClassifier(random_state=42, verbose=False))\n",
        "])\n",
        "\n",
        "model_smote.fit(X_train, y_train)\n",
        "score_test = model_smote.score(X_test, y_test)\n",
        "score_train = model_smote.score(X_train, y_train)\n",
        "\n",
        "hasil_model = hasil_model.append({'model': 'Model Catboost, SMOTE', 'akurasi testing': score_test, 'akurasi training': score_train}, ignore_index=True)\n",
        "hasil_model"
      ],
      "metadata": {
        "colab": {
          "base_uri": "https://localhost:8080/",
          "height": 483
        },
        "outputId": "4e1a1618-450c-416e-ac51-4093be3baddf",
        "id": "93bIAtXVT2x3"
      },
      "execution_count": null,
      "outputs": [
        {
          "output_type": "stream",
          "name": "stderr",
          "text": [
            "/usr/local/lib/python3.10/dist-packages/imblearn/over_sampling/_smote/base.py:336: FutureWarning: The parameter `n_jobs` has been deprecated in 0.10 and will be removed in 0.12. You can pass an nearest neighbors estimator where `n_jobs` is already set instead.\n",
            "  warnings.warn(\n",
            "<ipython-input-748-4cd38b468e64>:11: FutureWarning: The frame.append method is deprecated and will be removed from pandas in a future version. Use pandas.concat instead.\n",
            "  hasil_model = hasil_model.append({'model': 'Model Catboost, SMOTE', 'akurasi testing': score_test, 'akurasi training': score_train}, ignore_index=True)\n"
          ]
        },
        {
          "output_type": "execute_result",
          "data": {
            "text/plain": [
              "                           model  akurasi testing  akurasi training\n",
              "0                       Model RF         0.579167          0.655506\n",
              "1         Model RF, Oversampling         0.540476          0.617560\n",
              "2        Model RF, Undersampling         0.509524          0.570685\n",
              "3                  Model XGBoost         0.577976          0.651488\n",
              "4    Model XGBoost, Oversampling         0.539881          0.611607\n",
              "5   Model XGBoost, Undersampling         0.510714          0.573065\n",
              "6                   Model XTrees         0.575000          0.655506\n",
              "7            Model XTrees, SMOTE         0.540476          0.619345\n",
              "8        Model RF, Undersampling         0.509524          0.570685\n",
              "9                 Model Catboost         0.584524          0.650595\n",
              "10         Model Catboost, SMOTE         0.537500          0.609970"
            ],
            "text/html": [
              "\n",
              "  <div id=\"df-436c7989-fceb-448a-9289-e533f7a2143e\">\n",
              "    <div class=\"colab-df-container\">\n",
              "      <div>\n",
              "<style scoped>\n",
              "    .dataframe tbody tr th:only-of-type {\n",
              "        vertical-align: middle;\n",
              "    }\n",
              "\n",
              "    .dataframe tbody tr th {\n",
              "        vertical-align: top;\n",
              "    }\n",
              "\n",
              "    .dataframe thead th {\n",
              "        text-align: right;\n",
              "    }\n",
              "</style>\n",
              "<table border=\"1\" class=\"dataframe\">\n",
              "  <thead>\n",
              "    <tr style=\"text-align: right;\">\n",
              "      <th></th>\n",
              "      <th>model</th>\n",
              "      <th>akurasi testing</th>\n",
              "      <th>akurasi training</th>\n",
              "    </tr>\n",
              "  </thead>\n",
              "  <tbody>\n",
              "    <tr>\n",
              "      <th>0</th>\n",
              "      <td>Model RF</td>\n",
              "      <td>0.579167</td>\n",
              "      <td>0.655506</td>\n",
              "    </tr>\n",
              "    <tr>\n",
              "      <th>1</th>\n",
              "      <td>Model RF, Oversampling</td>\n",
              "      <td>0.540476</td>\n",
              "      <td>0.617560</td>\n",
              "    </tr>\n",
              "    <tr>\n",
              "      <th>2</th>\n",
              "      <td>Model RF, Undersampling</td>\n",
              "      <td>0.509524</td>\n",
              "      <td>0.570685</td>\n",
              "    </tr>\n",
              "    <tr>\n",
              "      <th>3</th>\n",
              "      <td>Model XGBoost</td>\n",
              "      <td>0.577976</td>\n",
              "      <td>0.651488</td>\n",
              "    </tr>\n",
              "    <tr>\n",
              "      <th>4</th>\n",
              "      <td>Model XGBoost, Oversampling</td>\n",
              "      <td>0.539881</td>\n",
              "      <td>0.611607</td>\n",
              "    </tr>\n",
              "    <tr>\n",
              "      <th>5</th>\n",
              "      <td>Model XGBoost, Undersampling</td>\n",
              "      <td>0.510714</td>\n",
              "      <td>0.573065</td>\n",
              "    </tr>\n",
              "    <tr>\n",
              "      <th>6</th>\n",
              "      <td>Model XTrees</td>\n",
              "      <td>0.575000</td>\n",
              "      <td>0.655506</td>\n",
              "    </tr>\n",
              "    <tr>\n",
              "      <th>7</th>\n",
              "      <td>Model XTrees, SMOTE</td>\n",
              "      <td>0.540476</td>\n",
              "      <td>0.619345</td>\n",
              "    </tr>\n",
              "    <tr>\n",
              "      <th>8</th>\n",
              "      <td>Model RF, Undersampling</td>\n",
              "      <td>0.509524</td>\n",
              "      <td>0.570685</td>\n",
              "    </tr>\n",
              "    <tr>\n",
              "      <th>9</th>\n",
              "      <td>Model Catboost</td>\n",
              "      <td>0.584524</td>\n",
              "      <td>0.650595</td>\n",
              "    </tr>\n",
              "    <tr>\n",
              "      <th>10</th>\n",
              "      <td>Model Catboost, SMOTE</td>\n",
              "      <td>0.537500</td>\n",
              "      <td>0.609970</td>\n",
              "    </tr>\n",
              "  </tbody>\n",
              "</table>\n",
              "</div>\n",
              "      <button class=\"colab-df-convert\" onclick=\"convertToInteractive('df-436c7989-fceb-448a-9289-e533f7a2143e')\"\n",
              "              title=\"Convert this dataframe to an interactive table.\"\n",
              "              style=\"display:none;\">\n",
              "        \n",
              "  <svg xmlns=\"http://www.w3.org/2000/svg\" height=\"24px\"viewBox=\"0 0 24 24\"\n",
              "       width=\"24px\">\n",
              "    <path d=\"M0 0h24v24H0V0z\" fill=\"none\"/>\n",
              "    <path d=\"M18.56 5.44l.94 2.06.94-2.06 2.06-.94-2.06-.94-.94-2.06-.94 2.06-2.06.94zm-11 1L8.5 8.5l.94-2.06 2.06-.94-2.06-.94L8.5 2.5l-.94 2.06-2.06.94zm10 10l.94 2.06.94-2.06 2.06-.94-2.06-.94-.94-2.06-.94 2.06-2.06.94z\"/><path d=\"M17.41 7.96l-1.37-1.37c-.4-.4-.92-.59-1.43-.59-.52 0-1.04.2-1.43.59L10.3 9.45l-7.72 7.72c-.78.78-.78 2.05 0 2.83L4 21.41c.39.39.9.59 1.41.59.51 0 1.02-.2 1.41-.59l7.78-7.78 2.81-2.81c.8-.78.8-2.07 0-2.86zM5.41 20L4 18.59l7.72-7.72 1.47 1.35L5.41 20z\"/>\n",
              "  </svg>\n",
              "      </button>\n",
              "      \n",
              "  <style>\n",
              "    .colab-df-container {\n",
              "      display:flex;\n",
              "      flex-wrap:wrap;\n",
              "      gap: 12px;\n",
              "    }\n",
              "\n",
              "    .colab-df-convert {\n",
              "      background-color: #E8F0FE;\n",
              "      border: none;\n",
              "      border-radius: 50%;\n",
              "      cursor: pointer;\n",
              "      display: none;\n",
              "      fill: #1967D2;\n",
              "      height: 32px;\n",
              "      padding: 0 0 0 0;\n",
              "      width: 32px;\n",
              "    }\n",
              "\n",
              "    .colab-df-convert:hover {\n",
              "      background-color: #E2EBFA;\n",
              "      box-shadow: 0px 1px 2px rgba(60, 64, 67, 0.3), 0px 1px 3px 1px rgba(60, 64, 67, 0.15);\n",
              "      fill: #174EA6;\n",
              "    }\n",
              "\n",
              "    [theme=dark] .colab-df-convert {\n",
              "      background-color: #3B4455;\n",
              "      fill: #D2E3FC;\n",
              "    }\n",
              "\n",
              "    [theme=dark] .colab-df-convert:hover {\n",
              "      background-color: #434B5C;\n",
              "      box-shadow: 0px 1px 3px 1px rgba(0, 0, 0, 0.15);\n",
              "      filter: drop-shadow(0px 1px 2px rgba(0, 0, 0, 0.3));\n",
              "      fill: #FFFFFF;\n",
              "    }\n",
              "  </style>\n",
              "\n",
              "      <script>\n",
              "        const buttonEl =\n",
              "          document.querySelector('#df-436c7989-fceb-448a-9289-e533f7a2143e button.colab-df-convert');\n",
              "        buttonEl.style.display =\n",
              "          google.colab.kernel.accessAllowed ? 'block' : 'none';\n",
              "\n",
              "        async function convertToInteractive(key) {\n",
              "          const element = document.querySelector('#df-436c7989-fceb-448a-9289-e533f7a2143e');\n",
              "          const dataTable =\n",
              "            await google.colab.kernel.invokeFunction('convertToInteractive',\n",
              "                                                     [key], {});\n",
              "          if (!dataTable) return;\n",
              "\n",
              "          const docLinkHtml = 'Like what you see? Visit the ' +\n",
              "            '<a target=\"_blank\" href=https://colab.research.google.com/notebooks/data_table.ipynb>data table notebook</a>'\n",
              "            + ' to learn more about interactive tables.';\n",
              "          element.innerHTML = '';\n",
              "          dataTable['output_type'] = 'display_data';\n",
              "          await google.colab.output.renderOutput(dataTable, element);\n",
              "          const docLink = document.createElement('div');\n",
              "          docLink.innerHTML = docLinkHtml;\n",
              "          element.appendChild(docLink);\n",
              "        }\n",
              "      </script>\n",
              "    </div>\n",
              "  </div>\n",
              "  "
            ]
          },
          "metadata": {},
          "execution_count": 748
        }
      ]
    },
    {
      "cell_type": "markdown",
      "source": [
        "#### Menggunakan Undersampling AllKNN"
      ],
      "metadata": {
        "id": "UmbHbPNfT2x4"
      }
    },
    {
      "cell_type": "code",
      "source": [
        "model_allknn = Pipeline(steps=[\n",
        "    ('preprocessor', columntransform),\n",
        "    ('resampling', AllKNN(n_jobs=-1, n_neighbors=9)), \n",
        "    ('classifier', CatBoostClassifier(random_state=42, verbose=False))\n",
        "])\n",
        "\n",
        "model_allknn.fit(X_train, y_train)\n",
        "score_test = model_allknn.score(X_test, y_test)\n",
        "score_train = model_allknn.score(X_train, y_train)\n",
        "\n",
        "hasil_model = hasil_model.append({'model': 'Model Catboost, Undersampling', 'akurasi testing': score_test, 'akurasi training': score_train}, ignore_index=True)\n",
        "hasil_model"
      ],
      "metadata": {
        "colab": {
          "base_uri": "https://localhost:8080/",
          "height": 460
        },
        "outputId": "1cf2f9b3-3740-4382-8e86-9862494a4632",
        "id": "ZtV5DMfQT2x4"
      },
      "execution_count": null,
      "outputs": [
        {
          "output_type": "stream",
          "name": "stderr",
          "text": [
            "<ipython-input-749-054fceb07339>:11: FutureWarning: The frame.append method is deprecated and will be removed from pandas in a future version. Use pandas.concat instead.\n",
            "  hasil_model = hasil_model.append({'model': 'Model Catboost, Undersampling', 'akurasi testing': score_test, 'akurasi training': score_train}, ignore_index=True)\n"
          ]
        },
        {
          "output_type": "execute_result",
          "data": {
            "text/plain": [
              "                            model  akurasi testing  akurasi training\n",
              "0                        Model RF         0.579167          0.655506\n",
              "1          Model RF, Oversampling         0.540476          0.617560\n",
              "2         Model RF, Undersampling         0.509524          0.570685\n",
              "3                   Model XGBoost         0.577976          0.651488\n",
              "4     Model XGBoost, Oversampling         0.539881          0.611607\n",
              "5    Model XGBoost, Undersampling         0.510714          0.573065\n",
              "6                    Model XTrees         0.575000          0.655506\n",
              "7             Model XTrees, SMOTE         0.540476          0.619345\n",
              "8         Model RF, Undersampling         0.509524          0.570685\n",
              "9                  Model Catboost         0.584524          0.650595\n",
              "10          Model Catboost, SMOTE         0.537500          0.609970\n",
              "11  Model Catboost, Undersampling         0.511310          0.575595"
            ],
            "text/html": [
              "\n",
              "  <div id=\"df-dd2567da-0491-46d7-be0f-ae147c263ef0\">\n",
              "    <div class=\"colab-df-container\">\n",
              "      <div>\n",
              "<style scoped>\n",
              "    .dataframe tbody tr th:only-of-type {\n",
              "        vertical-align: middle;\n",
              "    }\n",
              "\n",
              "    .dataframe tbody tr th {\n",
              "        vertical-align: top;\n",
              "    }\n",
              "\n",
              "    .dataframe thead th {\n",
              "        text-align: right;\n",
              "    }\n",
              "</style>\n",
              "<table border=\"1\" class=\"dataframe\">\n",
              "  <thead>\n",
              "    <tr style=\"text-align: right;\">\n",
              "      <th></th>\n",
              "      <th>model</th>\n",
              "      <th>akurasi testing</th>\n",
              "      <th>akurasi training</th>\n",
              "    </tr>\n",
              "  </thead>\n",
              "  <tbody>\n",
              "    <tr>\n",
              "      <th>0</th>\n",
              "      <td>Model RF</td>\n",
              "      <td>0.579167</td>\n",
              "      <td>0.655506</td>\n",
              "    </tr>\n",
              "    <tr>\n",
              "      <th>1</th>\n",
              "      <td>Model RF, Oversampling</td>\n",
              "      <td>0.540476</td>\n",
              "      <td>0.617560</td>\n",
              "    </tr>\n",
              "    <tr>\n",
              "      <th>2</th>\n",
              "      <td>Model RF, Undersampling</td>\n",
              "      <td>0.509524</td>\n",
              "      <td>0.570685</td>\n",
              "    </tr>\n",
              "    <tr>\n",
              "      <th>3</th>\n",
              "      <td>Model XGBoost</td>\n",
              "      <td>0.577976</td>\n",
              "      <td>0.651488</td>\n",
              "    </tr>\n",
              "    <tr>\n",
              "      <th>4</th>\n",
              "      <td>Model XGBoost, Oversampling</td>\n",
              "      <td>0.539881</td>\n",
              "      <td>0.611607</td>\n",
              "    </tr>\n",
              "    <tr>\n",
              "      <th>5</th>\n",
              "      <td>Model XGBoost, Undersampling</td>\n",
              "      <td>0.510714</td>\n",
              "      <td>0.573065</td>\n",
              "    </tr>\n",
              "    <tr>\n",
              "      <th>6</th>\n",
              "      <td>Model XTrees</td>\n",
              "      <td>0.575000</td>\n",
              "      <td>0.655506</td>\n",
              "    </tr>\n",
              "    <tr>\n",
              "      <th>7</th>\n",
              "      <td>Model XTrees, SMOTE</td>\n",
              "      <td>0.540476</td>\n",
              "      <td>0.619345</td>\n",
              "    </tr>\n",
              "    <tr>\n",
              "      <th>8</th>\n",
              "      <td>Model RF, Undersampling</td>\n",
              "      <td>0.509524</td>\n",
              "      <td>0.570685</td>\n",
              "    </tr>\n",
              "    <tr>\n",
              "      <th>9</th>\n",
              "      <td>Model Catboost</td>\n",
              "      <td>0.584524</td>\n",
              "      <td>0.650595</td>\n",
              "    </tr>\n",
              "    <tr>\n",
              "      <th>10</th>\n",
              "      <td>Model Catboost, SMOTE</td>\n",
              "      <td>0.537500</td>\n",
              "      <td>0.609970</td>\n",
              "    </tr>\n",
              "    <tr>\n",
              "      <th>11</th>\n",
              "      <td>Model Catboost, Undersampling</td>\n",
              "      <td>0.511310</td>\n",
              "      <td>0.575595</td>\n",
              "    </tr>\n",
              "  </tbody>\n",
              "</table>\n",
              "</div>\n",
              "      <button class=\"colab-df-convert\" onclick=\"convertToInteractive('df-dd2567da-0491-46d7-be0f-ae147c263ef0')\"\n",
              "              title=\"Convert this dataframe to an interactive table.\"\n",
              "              style=\"display:none;\">\n",
              "        \n",
              "  <svg xmlns=\"http://www.w3.org/2000/svg\" height=\"24px\"viewBox=\"0 0 24 24\"\n",
              "       width=\"24px\">\n",
              "    <path d=\"M0 0h24v24H0V0z\" fill=\"none\"/>\n",
              "    <path d=\"M18.56 5.44l.94 2.06.94-2.06 2.06-.94-2.06-.94-.94-2.06-.94 2.06-2.06.94zm-11 1L8.5 8.5l.94-2.06 2.06-.94-2.06-.94L8.5 2.5l-.94 2.06-2.06.94zm10 10l.94 2.06.94-2.06 2.06-.94-2.06-.94-.94-2.06-.94 2.06-2.06.94z\"/><path d=\"M17.41 7.96l-1.37-1.37c-.4-.4-.92-.59-1.43-.59-.52 0-1.04.2-1.43.59L10.3 9.45l-7.72 7.72c-.78.78-.78 2.05 0 2.83L4 21.41c.39.39.9.59 1.41.59.51 0 1.02-.2 1.41-.59l7.78-7.78 2.81-2.81c.8-.78.8-2.07 0-2.86zM5.41 20L4 18.59l7.72-7.72 1.47 1.35L5.41 20z\"/>\n",
              "  </svg>\n",
              "      </button>\n",
              "      \n",
              "  <style>\n",
              "    .colab-df-container {\n",
              "      display:flex;\n",
              "      flex-wrap:wrap;\n",
              "      gap: 12px;\n",
              "    }\n",
              "\n",
              "    .colab-df-convert {\n",
              "      background-color: #E8F0FE;\n",
              "      border: none;\n",
              "      border-radius: 50%;\n",
              "      cursor: pointer;\n",
              "      display: none;\n",
              "      fill: #1967D2;\n",
              "      height: 32px;\n",
              "      padding: 0 0 0 0;\n",
              "      width: 32px;\n",
              "    }\n",
              "\n",
              "    .colab-df-convert:hover {\n",
              "      background-color: #E2EBFA;\n",
              "      box-shadow: 0px 1px 2px rgba(60, 64, 67, 0.3), 0px 1px 3px 1px rgba(60, 64, 67, 0.15);\n",
              "      fill: #174EA6;\n",
              "    }\n",
              "\n",
              "    [theme=dark] .colab-df-convert {\n",
              "      background-color: #3B4455;\n",
              "      fill: #D2E3FC;\n",
              "    }\n",
              "\n",
              "    [theme=dark] .colab-df-convert:hover {\n",
              "      background-color: #434B5C;\n",
              "      box-shadow: 0px 1px 3px 1px rgba(0, 0, 0, 0.15);\n",
              "      filter: drop-shadow(0px 1px 2px rgba(0, 0, 0, 0.3));\n",
              "      fill: #FFFFFF;\n",
              "    }\n",
              "  </style>\n",
              "\n",
              "      <script>\n",
              "        const buttonEl =\n",
              "          document.querySelector('#df-dd2567da-0491-46d7-be0f-ae147c263ef0 button.colab-df-convert');\n",
              "        buttonEl.style.display =\n",
              "          google.colab.kernel.accessAllowed ? 'block' : 'none';\n",
              "\n",
              "        async function convertToInteractive(key) {\n",
              "          const element = document.querySelector('#df-dd2567da-0491-46d7-be0f-ae147c263ef0');\n",
              "          const dataTable =\n",
              "            await google.colab.kernel.invokeFunction('convertToInteractive',\n",
              "                                                     [key], {});\n",
              "          if (!dataTable) return;\n",
              "\n",
              "          const docLinkHtml = 'Like what you see? Visit the ' +\n",
              "            '<a target=\"_blank\" href=https://colab.research.google.com/notebooks/data_table.ipynb>data table notebook</a>'\n",
              "            + ' to learn more about interactive tables.';\n",
              "          element.innerHTML = '';\n",
              "          dataTable['output_type'] = 'display_data';\n",
              "          await google.colab.output.renderOutput(dataTable, element);\n",
              "          const docLink = document.createElement('div');\n",
              "          docLink.innerHTML = docLinkHtml;\n",
              "          element.appendChild(docLink);\n",
              "        }\n",
              "      </script>\n",
              "    </div>\n",
              "  </div>\n",
              "  "
            ]
          },
          "metadata": {},
          "execution_count": 749
        }
      ]
    },
    {
      "cell_type": "markdown",
      "metadata": {
        "id": "mjvzZC6bVy1f"
      },
      "source": [
        "# Kesimpulan"
      ]
    },
    {
      "cell_type": "markdown",
      "metadata": {
        "id": "q7xd8QVTVy1f"
      },
      "source": [
        "Berdasarkan hasil akurasi pada algoritma Random Forest, XGBoost, Extra Trees dan Catboost didapatkan bahwa: <br>\n",
        "- Akurasi tertinggi didapatkan oleh algoritma Catboost tanpa Resampling Data yaitu 58,45% untuk akurasi testing dan 65,06% untuk akurasi training\n",
        "\n",
        "- Berdasarkan ke-4 algoritma yang digunakan, algoritma Catboost menghasilkan hasil akurasi tertinggi dari ke-3 algoritma lainnya\n",
        "\n",
        "- Hasil akurasi Model tanpa Resampling Data menghasilkan nilai akurasi yang lebih tinggi dari pada menggunakan oversampling dengan SMOTE atau menggunakan undersampling dengan AllKNN\n",
        "\n",
        "- Metode oversampling dan undersampling membuat data menjadi lebih seimbang dan tidak overfitting, Namun tidak meningkatkan hasil akurasi menjadi lebih baik"
      ]
    },
    {
      "cell_type": "markdown",
      "source": [
        "# Manual Prediksi"
      ],
      "metadata": {
        "id": "AwYXBSvcDtnS"
      }
    },
    {
      "cell_type": "code",
      "source": [
        "X_train.columns"
      ],
      "metadata": {
        "colab": {
          "base_uri": "https://localhost:8080/"
        },
        "id": "iM3swBdUEAmp",
        "outputId": "18cd8d59-b2a7-4479-9703-1a4d1c160d67"
      },
      "execution_count": null,
      "outputs": [
        {
          "output_type": "execute_result",
          "data": {
            "text/plain": [
              "Index(['waktu', 'kelembaban_min', 'kelembaban_max', 'kelembaban_mean',\n",
              "       'suhu_min', 'suhu_max', 'suhu_mean'],\n",
              "      dtype='object')"
            ]
          },
          "metadata": {},
          "execution_count": 750
        }
      ]
    },
    {
      "cell_type": "code",
      "source": [
        "df.head()"
      ],
      "metadata": {
        "colab": {
          "base_uri": "https://localhost:8080/",
          "height": 206
        },
        "id": "-uA_D6WpcDlt",
        "outputId": "cf449d6a-d248-4da7-ba29-ee748742e369"
      },
      "execution_count": null,
      "outputs": [
        {
          "output_type": "execute_result",
          "data": {
            "text/plain": [
              "       waktu         cuaca  kelembaban_min  kelembaban_max  kelembaban_mean  \\\n",
              "0      Siang   Hujan Lokal              70              90             80.0   \n",
              "1       Pagi   Hujan Lokal              70              90             80.0   \n",
              "2      Malam   Hujan Lokal              70              90             80.0   \n",
              "3  Dini Hari  Hujan Ringan              70              90             80.0   \n",
              "4      Siang   Hujan Lokal              70              90             80.0   \n",
              "\n",
              "   suhu_min  suhu_max  suhu_mean  \n",
              "0        24        32       28.0  \n",
              "1        24        32       28.0  \n",
              "2        24        32       28.0  \n",
              "3        24        32       28.0  \n",
              "4        24        32       28.0  "
            ],
            "text/html": [
              "\n",
              "  <div id=\"df-aa71e2b3-7944-4754-8907-b729cb8b925a\">\n",
              "    <div class=\"colab-df-container\">\n",
              "      <div>\n",
              "<style scoped>\n",
              "    .dataframe tbody tr th:only-of-type {\n",
              "        vertical-align: middle;\n",
              "    }\n",
              "\n",
              "    .dataframe tbody tr th {\n",
              "        vertical-align: top;\n",
              "    }\n",
              "\n",
              "    .dataframe thead th {\n",
              "        text-align: right;\n",
              "    }\n",
              "</style>\n",
              "<table border=\"1\" class=\"dataframe\">\n",
              "  <thead>\n",
              "    <tr style=\"text-align: right;\">\n",
              "      <th></th>\n",
              "      <th>waktu</th>\n",
              "      <th>cuaca</th>\n",
              "      <th>kelembaban_min</th>\n",
              "      <th>kelembaban_max</th>\n",
              "      <th>kelembaban_mean</th>\n",
              "      <th>suhu_min</th>\n",
              "      <th>suhu_max</th>\n",
              "      <th>suhu_mean</th>\n",
              "    </tr>\n",
              "  </thead>\n",
              "  <tbody>\n",
              "    <tr>\n",
              "      <th>0</th>\n",
              "      <td>Siang</td>\n",
              "      <td>Hujan Lokal</td>\n",
              "      <td>70</td>\n",
              "      <td>90</td>\n",
              "      <td>80.0</td>\n",
              "      <td>24</td>\n",
              "      <td>32</td>\n",
              "      <td>28.0</td>\n",
              "    </tr>\n",
              "    <tr>\n",
              "      <th>1</th>\n",
              "      <td>Pagi</td>\n",
              "      <td>Hujan Lokal</td>\n",
              "      <td>70</td>\n",
              "      <td>90</td>\n",
              "      <td>80.0</td>\n",
              "      <td>24</td>\n",
              "      <td>32</td>\n",
              "      <td>28.0</td>\n",
              "    </tr>\n",
              "    <tr>\n",
              "      <th>2</th>\n",
              "      <td>Malam</td>\n",
              "      <td>Hujan Lokal</td>\n",
              "      <td>70</td>\n",
              "      <td>90</td>\n",
              "      <td>80.0</td>\n",
              "      <td>24</td>\n",
              "      <td>32</td>\n",
              "      <td>28.0</td>\n",
              "    </tr>\n",
              "    <tr>\n",
              "      <th>3</th>\n",
              "      <td>Dini Hari</td>\n",
              "      <td>Hujan Ringan</td>\n",
              "      <td>70</td>\n",
              "      <td>90</td>\n",
              "      <td>80.0</td>\n",
              "      <td>24</td>\n",
              "      <td>32</td>\n",
              "      <td>28.0</td>\n",
              "    </tr>\n",
              "    <tr>\n",
              "      <th>4</th>\n",
              "      <td>Siang</td>\n",
              "      <td>Hujan Lokal</td>\n",
              "      <td>70</td>\n",
              "      <td>90</td>\n",
              "      <td>80.0</td>\n",
              "      <td>24</td>\n",
              "      <td>32</td>\n",
              "      <td>28.0</td>\n",
              "    </tr>\n",
              "  </tbody>\n",
              "</table>\n",
              "</div>\n",
              "      <button class=\"colab-df-convert\" onclick=\"convertToInteractive('df-aa71e2b3-7944-4754-8907-b729cb8b925a')\"\n",
              "              title=\"Convert this dataframe to an interactive table.\"\n",
              "              style=\"display:none;\">\n",
              "        \n",
              "  <svg xmlns=\"http://www.w3.org/2000/svg\" height=\"24px\"viewBox=\"0 0 24 24\"\n",
              "       width=\"24px\">\n",
              "    <path d=\"M0 0h24v24H0V0z\" fill=\"none\"/>\n",
              "    <path d=\"M18.56 5.44l.94 2.06.94-2.06 2.06-.94-2.06-.94-.94-2.06-.94 2.06-2.06.94zm-11 1L8.5 8.5l.94-2.06 2.06-.94-2.06-.94L8.5 2.5l-.94 2.06-2.06.94zm10 10l.94 2.06.94-2.06 2.06-.94-2.06-.94-.94-2.06-.94 2.06-2.06.94z\"/><path d=\"M17.41 7.96l-1.37-1.37c-.4-.4-.92-.59-1.43-.59-.52 0-1.04.2-1.43.59L10.3 9.45l-7.72 7.72c-.78.78-.78 2.05 0 2.83L4 21.41c.39.39.9.59 1.41.59.51 0 1.02-.2 1.41-.59l7.78-7.78 2.81-2.81c.8-.78.8-2.07 0-2.86zM5.41 20L4 18.59l7.72-7.72 1.47 1.35L5.41 20z\"/>\n",
              "  </svg>\n",
              "      </button>\n",
              "      \n",
              "  <style>\n",
              "    .colab-df-container {\n",
              "      display:flex;\n",
              "      flex-wrap:wrap;\n",
              "      gap: 12px;\n",
              "    }\n",
              "\n",
              "    .colab-df-convert {\n",
              "      background-color: #E8F0FE;\n",
              "      border: none;\n",
              "      border-radius: 50%;\n",
              "      cursor: pointer;\n",
              "      display: none;\n",
              "      fill: #1967D2;\n",
              "      height: 32px;\n",
              "      padding: 0 0 0 0;\n",
              "      width: 32px;\n",
              "    }\n",
              "\n",
              "    .colab-df-convert:hover {\n",
              "      background-color: #E2EBFA;\n",
              "      box-shadow: 0px 1px 2px rgba(60, 64, 67, 0.3), 0px 1px 3px 1px rgba(60, 64, 67, 0.15);\n",
              "      fill: #174EA6;\n",
              "    }\n",
              "\n",
              "    [theme=dark] .colab-df-convert {\n",
              "      background-color: #3B4455;\n",
              "      fill: #D2E3FC;\n",
              "    }\n",
              "\n",
              "    [theme=dark] .colab-df-convert:hover {\n",
              "      background-color: #434B5C;\n",
              "      box-shadow: 0px 1px 3px 1px rgba(0, 0, 0, 0.15);\n",
              "      filter: drop-shadow(0px 1px 2px rgba(0, 0, 0, 0.3));\n",
              "      fill: #FFFFFF;\n",
              "    }\n",
              "  </style>\n",
              "\n",
              "      <script>\n",
              "        const buttonEl =\n",
              "          document.querySelector('#df-aa71e2b3-7944-4754-8907-b729cb8b925a button.colab-df-convert');\n",
              "        buttonEl.style.display =\n",
              "          google.colab.kernel.accessAllowed ? 'block' : 'none';\n",
              "\n",
              "        async function convertToInteractive(key) {\n",
              "          const element = document.querySelector('#df-aa71e2b3-7944-4754-8907-b729cb8b925a');\n",
              "          const dataTable =\n",
              "            await google.colab.kernel.invokeFunction('convertToInteractive',\n",
              "                                                     [key], {});\n",
              "          if (!dataTable) return;\n",
              "\n",
              "          const docLinkHtml = 'Like what you see? Visit the ' +\n",
              "            '<a target=\"_blank\" href=https://colab.research.google.com/notebooks/data_table.ipynb>data table notebook</a>'\n",
              "            + ' to learn more about interactive tables.';\n",
              "          element.innerHTML = '';\n",
              "          dataTable['output_type'] = 'display_data';\n",
              "          await google.colab.output.renderOutput(dataTable, element);\n",
              "          const docLink = document.createElement('div');\n",
              "          docLink.innerHTML = docLinkHtml;\n",
              "          element.appendChild(docLink);\n",
              "        }\n",
              "      </script>\n",
              "    </div>\n",
              "  </div>\n",
              "  "
            ]
          },
          "metadata": {},
          "execution_count": 751
        }
      ]
    },
    {
      "cell_type": "code",
      "source": [
        "prediksi = {\n",
        "    'wilayah': ['Kepulauan Seribu'],\n",
        "    'waktu': ['Siang'],\n",
        "    'kelembaban_min': [70],\n",
        "    'kelembaban_max': [90],\n",
        "    'kelembaban_mean': [80.0],\n",
        "    'suhu_min': [24],\n",
        "    'suhu_max': [32],\n",
        "    'suhu_mean': [28.0],\n",
        "    'waktu': ['Siang']\n",
        "}"
      ],
      "metadata": {
        "id": "3qkIjJKdDwpZ"
      },
      "execution_count": null,
      "outputs": []
    },
    {
      "cell_type": "code",
      "source": [
        "def manual_testing(cuaca):\n",
        "    df_pred = pd.DataFrame(cuaca)\n",
        "\n",
        "    pred_1 = model_final.predict(df_pred)\n",
        "    pred_2 = model_smote.predict(df_pred)\n",
        "    pred_3 = model_allknn.predict(df_pred)\n",
        "\n",
        "    return print(\"\\nCategorical Boosting Prediction: {} \\nCategorical Boosting Oversampling Prediction: {} \\nCategorical Boosting UnderSampling Prediction: {} \\n\".format((pred_1[0]), format(pred_2[0]), format(pred_3[0])))                                                        "
      ],
      "metadata": {
        "id": "BLYoZTlBFA2c"
      },
      "execution_count": null,
      "outputs": []
    },
    {
      "cell_type": "code",
      "source": [
        "manual_testing(prediksi)"
      ],
      "metadata": {
        "id": "iI9Wy3CeGlEA",
        "colab": {
          "base_uri": "https://localhost:8080/"
        },
        "outputId": "5e261d74-4c6b-4913-9dec-68edc942e2ad"
      },
      "execution_count": null,
      "outputs": [
        {
          "output_type": "stream",
          "name": "stdout",
          "text": [
            "\n",
            "Categorical Boosting Prediction: ['Hujan Lokal'] \n",
            "Categorical Boosting Oversampling Prediction: ['Hujan Lokal'] \n",
            "Categorical Boosting UnderSampling Prediction: ['Hujan Lokal'] \n",
            "\n"
          ]
        }
      ]
    }
  ],
  "metadata": {
    "interpreter": {
      "hash": "2469a70536e4d2335a2ea8907942d0699c37342a371ac185bdb5b0aa6f073890"
    },
    "kernelspec": {
      "display_name": "Python 3.10.1 64-bit",
      "language": "python",
      "name": "python3"
    },
    "language_info": {
      "codemirror_mode": {
        "name": "ipython",
        "version": 3
      },
      "file_extension": ".py",
      "mimetype": "text/x-python",
      "name": "python",
      "nbconvert_exporter": "python",
      "pygments_lexer": "ipython3",
      "version": "3.10.1"
    },
    "orig_nbformat": 4,
    "colab": {
      "provenance": [],
      "include_colab_link": true
    }
  },
  "nbformat": 4,
  "nbformat_minor": 0
}
