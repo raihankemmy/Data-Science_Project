{
  "cells": [
    {
      "cell_type": "markdown",
      "metadata": {
        "id": "view-in-github",
        "colab_type": "text"
      },
      "source": [
        "<a href=\"https://colab.research.google.com/github/raihankemmy/Data-Science_Project/blob/main/code_preprocessing.ipynb\" target=\"_parent\"><img src=\"https://colab.research.google.com/assets/colab-badge.svg\" alt=\"Open In Colab\"/></a>"
      ]
    },
    {
      "cell_type": "code",
      "execution_count": 1,
      "metadata": {
        "id": "igZrHwfECdz4",
        "colab": {
          "base_uri": "https://localhost:8080/"
        },
        "outputId": "e7b2c9d6-af70-4a6f-80a8-3be1ec5da6dc"
      },
      "outputs": [
        {
          "output_type": "stream",
          "name": "stdout",
          "text": [
            "Looking in indexes: https://pypi.org/simple, https://us-python.pkg.dev/colab-wheels/public/simple/\n",
            "Collecting kmodes\n",
            "  Downloading kmodes-0.12.2-py2.py3-none-any.whl (20 kB)\n",
            "Requirement already satisfied: numpy>=1.10.4 in /usr/local/lib/python3.10/dist-packages (from kmodes) (1.22.4)\n",
            "Requirement already satisfied: scikit-learn>=0.22.0 in /usr/local/lib/python3.10/dist-packages (from kmodes) (1.2.2)\n",
            "Requirement already satisfied: scipy>=0.13.3 in /usr/local/lib/python3.10/dist-packages (from kmodes) (1.10.1)\n",
            "Requirement already satisfied: joblib>=0.11 in /usr/local/lib/python3.10/dist-packages (from kmodes) (1.2.0)\n",
            "Requirement already satisfied: threadpoolctl>=2.0.0 in /usr/local/lib/python3.10/dist-packages (from scikit-learn>=0.22.0->kmodes) (3.1.0)\n",
            "Installing collected packages: kmodes\n",
            "Successfully installed kmodes-0.12.2\n"
          ]
        }
      ],
      "source": [
        "!pip install kmodes"
      ]
    },
    {
      "cell_type": "code",
      "execution_count": 2,
      "metadata": {
        "id": "hiO5RY1JpMyD",
        "colab": {
          "base_uri": "https://localhost:8080/"
        },
        "outputId": "3829ad84-35c8-481d-bb85-74bce3e5a4c8"
      },
      "outputs": [
        {
          "output_type": "stream",
          "name": "stdout",
          "text": [
            "Mounted at /content/drive\n"
          ]
        }
      ],
      "source": [
        "from google.colab import drive\n",
        "drive.mount('/content/drive')"
      ]
    },
    {
      "cell_type": "markdown",
      "metadata": {
        "id": "sq6eEk2RqRvX"
      },
      "source": [
        "# Import Package"
      ]
    },
    {
      "cell_type": "code",
      "execution_count": 3,
      "metadata": {
        "id": "D8dfPkInqHnn"
      },
      "outputs": [],
      "source": [
        "import pandas as pd\n",
        "import matplotlib.pyplot as plt\n",
        "import seaborn as sns\n",
        "import numpy as np\n",
        "import re\n",
        "\n",
        "from sklearn.preprocessing import StandardScaler\n",
        "from sklearn.cluster import KMeans, AgglomerativeClustering\n",
        "from kmodes.kprototypes import KPrototypes\n",
        "from sklearn.compose import ColumnTransformer\n",
        "from sklearn.pipeline import Pipeline\n",
        "from sklearn.preprocessing import LabelEncoder, OneHotEncoder\n",
        "from sklearn.metrics import silhouette_score, calinski_harabasz_score"
      ]
    },
    {
      "cell_type": "markdown",
      "metadata": {
        "id": "Nt-xTe0FpRt4"
      },
      "source": [
        "# Import Data"
      ]
    },
    {
      "cell_type": "code",
      "execution_count": 4,
      "metadata": {
        "id": "kqcAudCppRVH",
        "colab": {
          "base_uri": "https://localhost:8080/",
          "height": 363
        },
        "outputId": "615cf67f-c3db-48cc-c492-fc6bf2fad318"
      },
      "outputs": [
        {
          "output_type": "execute_result",
          "data": {
            "text/plain": [
              "   Unnamed: 0  Age     Sex  Job Housing Saving accounts Checking account  \\\n",
              "0           0   67    male    2     own             NaN           little   \n",
              "1           1   22  female    2     own          little         moderate   \n",
              "2           2   49    male    1     own          little              NaN   \n",
              "3           3   45    male    2    free          little           little   \n",
              "4           4   53    male    2    free          little           little   \n",
              "5           5   35    male    1    free             NaN              NaN   \n",
              "6           6   53    male    2     own      quite rich              NaN   \n",
              "7           7   35    male    3    rent          little         moderate   \n",
              "8           8   61    male    1     own            rich              NaN   \n",
              "9           9   28    male    3     own          little         moderate   \n",
              "\n",
              "   Credit amount  Duration              Purpose  \n",
              "0           1169         6             radio/TV  \n",
              "1           5951        48             radio/TV  \n",
              "2           2096        12            education  \n",
              "3           7882        42  furniture/equipment  \n",
              "4           4870        24                  car  \n",
              "5           9055        36            education  \n",
              "6           2835        24  furniture/equipment  \n",
              "7           6948        36                  car  \n",
              "8           3059        12             radio/TV  \n",
              "9           5234        30                  car  "
            ],
            "text/html": [
              "\n",
              "  <div id=\"df-11e1ca23-0d88-4c6b-af3f-e27c4f408a46\">\n",
              "    <div class=\"colab-df-container\">\n",
              "      <div>\n",
              "<style scoped>\n",
              "    .dataframe tbody tr th:only-of-type {\n",
              "        vertical-align: middle;\n",
              "    }\n",
              "\n",
              "    .dataframe tbody tr th {\n",
              "        vertical-align: top;\n",
              "    }\n",
              "\n",
              "    .dataframe thead th {\n",
              "        text-align: right;\n",
              "    }\n",
              "</style>\n",
              "<table border=\"1\" class=\"dataframe\">\n",
              "  <thead>\n",
              "    <tr style=\"text-align: right;\">\n",
              "      <th></th>\n",
              "      <th>Unnamed: 0</th>\n",
              "      <th>Age</th>\n",
              "      <th>Sex</th>\n",
              "      <th>Job</th>\n",
              "      <th>Housing</th>\n",
              "      <th>Saving accounts</th>\n",
              "      <th>Checking account</th>\n",
              "      <th>Credit amount</th>\n",
              "      <th>Duration</th>\n",
              "      <th>Purpose</th>\n",
              "    </tr>\n",
              "  </thead>\n",
              "  <tbody>\n",
              "    <tr>\n",
              "      <th>0</th>\n",
              "      <td>0</td>\n",
              "      <td>67</td>\n",
              "      <td>male</td>\n",
              "      <td>2</td>\n",
              "      <td>own</td>\n",
              "      <td>NaN</td>\n",
              "      <td>little</td>\n",
              "      <td>1169</td>\n",
              "      <td>6</td>\n",
              "      <td>radio/TV</td>\n",
              "    </tr>\n",
              "    <tr>\n",
              "      <th>1</th>\n",
              "      <td>1</td>\n",
              "      <td>22</td>\n",
              "      <td>female</td>\n",
              "      <td>2</td>\n",
              "      <td>own</td>\n",
              "      <td>little</td>\n",
              "      <td>moderate</td>\n",
              "      <td>5951</td>\n",
              "      <td>48</td>\n",
              "      <td>radio/TV</td>\n",
              "    </tr>\n",
              "    <tr>\n",
              "      <th>2</th>\n",
              "      <td>2</td>\n",
              "      <td>49</td>\n",
              "      <td>male</td>\n",
              "      <td>1</td>\n",
              "      <td>own</td>\n",
              "      <td>little</td>\n",
              "      <td>NaN</td>\n",
              "      <td>2096</td>\n",
              "      <td>12</td>\n",
              "      <td>education</td>\n",
              "    </tr>\n",
              "    <tr>\n",
              "      <th>3</th>\n",
              "      <td>3</td>\n",
              "      <td>45</td>\n",
              "      <td>male</td>\n",
              "      <td>2</td>\n",
              "      <td>free</td>\n",
              "      <td>little</td>\n",
              "      <td>little</td>\n",
              "      <td>7882</td>\n",
              "      <td>42</td>\n",
              "      <td>furniture/equipment</td>\n",
              "    </tr>\n",
              "    <tr>\n",
              "      <th>4</th>\n",
              "      <td>4</td>\n",
              "      <td>53</td>\n",
              "      <td>male</td>\n",
              "      <td>2</td>\n",
              "      <td>free</td>\n",
              "      <td>little</td>\n",
              "      <td>little</td>\n",
              "      <td>4870</td>\n",
              "      <td>24</td>\n",
              "      <td>car</td>\n",
              "    </tr>\n",
              "    <tr>\n",
              "      <th>5</th>\n",
              "      <td>5</td>\n",
              "      <td>35</td>\n",
              "      <td>male</td>\n",
              "      <td>1</td>\n",
              "      <td>free</td>\n",
              "      <td>NaN</td>\n",
              "      <td>NaN</td>\n",
              "      <td>9055</td>\n",
              "      <td>36</td>\n",
              "      <td>education</td>\n",
              "    </tr>\n",
              "    <tr>\n",
              "      <th>6</th>\n",
              "      <td>6</td>\n",
              "      <td>53</td>\n",
              "      <td>male</td>\n",
              "      <td>2</td>\n",
              "      <td>own</td>\n",
              "      <td>quite rich</td>\n",
              "      <td>NaN</td>\n",
              "      <td>2835</td>\n",
              "      <td>24</td>\n",
              "      <td>furniture/equipment</td>\n",
              "    </tr>\n",
              "    <tr>\n",
              "      <th>7</th>\n",
              "      <td>7</td>\n",
              "      <td>35</td>\n",
              "      <td>male</td>\n",
              "      <td>3</td>\n",
              "      <td>rent</td>\n",
              "      <td>little</td>\n",
              "      <td>moderate</td>\n",
              "      <td>6948</td>\n",
              "      <td>36</td>\n",
              "      <td>car</td>\n",
              "    </tr>\n",
              "    <tr>\n",
              "      <th>8</th>\n",
              "      <td>8</td>\n",
              "      <td>61</td>\n",
              "      <td>male</td>\n",
              "      <td>1</td>\n",
              "      <td>own</td>\n",
              "      <td>rich</td>\n",
              "      <td>NaN</td>\n",
              "      <td>3059</td>\n",
              "      <td>12</td>\n",
              "      <td>radio/TV</td>\n",
              "    </tr>\n",
              "    <tr>\n",
              "      <th>9</th>\n",
              "      <td>9</td>\n",
              "      <td>28</td>\n",
              "      <td>male</td>\n",
              "      <td>3</td>\n",
              "      <td>own</td>\n",
              "      <td>little</td>\n",
              "      <td>moderate</td>\n",
              "      <td>5234</td>\n",
              "      <td>30</td>\n",
              "      <td>car</td>\n",
              "    </tr>\n",
              "  </tbody>\n",
              "</table>\n",
              "</div>\n",
              "      <button class=\"colab-df-convert\" onclick=\"convertToInteractive('df-11e1ca23-0d88-4c6b-af3f-e27c4f408a46')\"\n",
              "              title=\"Convert this dataframe to an interactive table.\"\n",
              "              style=\"display:none;\">\n",
              "        \n",
              "  <svg xmlns=\"http://www.w3.org/2000/svg\" height=\"24px\"viewBox=\"0 0 24 24\"\n",
              "       width=\"24px\">\n",
              "    <path d=\"M0 0h24v24H0V0z\" fill=\"none\"/>\n",
              "    <path d=\"M18.56 5.44l.94 2.06.94-2.06 2.06-.94-2.06-.94-.94-2.06-.94 2.06-2.06.94zm-11 1L8.5 8.5l.94-2.06 2.06-.94-2.06-.94L8.5 2.5l-.94 2.06-2.06.94zm10 10l.94 2.06.94-2.06 2.06-.94-2.06-.94-.94-2.06-.94 2.06-2.06.94z\"/><path d=\"M17.41 7.96l-1.37-1.37c-.4-.4-.92-.59-1.43-.59-.52 0-1.04.2-1.43.59L10.3 9.45l-7.72 7.72c-.78.78-.78 2.05 0 2.83L4 21.41c.39.39.9.59 1.41.59.51 0 1.02-.2 1.41-.59l7.78-7.78 2.81-2.81c.8-.78.8-2.07 0-2.86zM5.41 20L4 18.59l7.72-7.72 1.47 1.35L5.41 20z\"/>\n",
              "  </svg>\n",
              "      </button>\n",
              "      \n",
              "  <style>\n",
              "    .colab-df-container {\n",
              "      display:flex;\n",
              "      flex-wrap:wrap;\n",
              "      gap: 12px;\n",
              "    }\n",
              "\n",
              "    .colab-df-convert {\n",
              "      background-color: #E8F0FE;\n",
              "      border: none;\n",
              "      border-radius: 50%;\n",
              "      cursor: pointer;\n",
              "      display: none;\n",
              "      fill: #1967D2;\n",
              "      height: 32px;\n",
              "      padding: 0 0 0 0;\n",
              "      width: 32px;\n",
              "    }\n",
              "\n",
              "    .colab-df-convert:hover {\n",
              "      background-color: #E2EBFA;\n",
              "      box-shadow: 0px 1px 2px rgba(60, 64, 67, 0.3), 0px 1px 3px 1px rgba(60, 64, 67, 0.15);\n",
              "      fill: #174EA6;\n",
              "    }\n",
              "\n",
              "    [theme=dark] .colab-df-convert {\n",
              "      background-color: #3B4455;\n",
              "      fill: #D2E3FC;\n",
              "    }\n",
              "\n",
              "    [theme=dark] .colab-df-convert:hover {\n",
              "      background-color: #434B5C;\n",
              "      box-shadow: 0px 1px 3px 1px rgba(0, 0, 0, 0.15);\n",
              "      filter: drop-shadow(0px 1px 2px rgba(0, 0, 0, 0.3));\n",
              "      fill: #FFFFFF;\n",
              "    }\n",
              "  </style>\n",
              "\n",
              "      <script>\n",
              "        const buttonEl =\n",
              "          document.querySelector('#df-11e1ca23-0d88-4c6b-af3f-e27c4f408a46 button.colab-df-convert');\n",
              "        buttonEl.style.display =\n",
              "          google.colab.kernel.accessAllowed ? 'block' : 'none';\n",
              "\n",
              "        async function convertToInteractive(key) {\n",
              "          const element = document.querySelector('#df-11e1ca23-0d88-4c6b-af3f-e27c4f408a46');\n",
              "          const dataTable =\n",
              "            await google.colab.kernel.invokeFunction('convertToInteractive',\n",
              "                                                     [key], {});\n",
              "          if (!dataTable) return;\n",
              "\n",
              "          const docLinkHtml = 'Like what you see? Visit the ' +\n",
              "            '<a target=\"_blank\" href=https://colab.research.google.com/notebooks/data_table.ipynb>data table notebook</a>'\n",
              "            + ' to learn more about interactive tables.';\n",
              "          element.innerHTML = '';\n",
              "          dataTable['output_type'] = 'display_data';\n",
              "          await google.colab.output.renderOutput(dataTable, element);\n",
              "          const docLink = document.createElement('div');\n",
              "          docLink.innerHTML = docLinkHtml;\n",
              "          element.appendChild(docLink);\n",
              "        }\n",
              "      </script>\n",
              "    </div>\n",
              "  </div>\n",
              "  "
            ]
          },
          "metadata": {},
          "execution_count": 4
        }
      ],
      "source": [
        "df = pd.read_csv('/content/drive/MyDrive/Colab Notebooks/Machine Learning/Clustering/Bank Customer Segmentation/data.csv')\n",
        "df.head(10)"
      ]
    },
    {
      "cell_type": "markdown",
      "metadata": {
        "id": "i68Xn-sHrF8K"
      },
      "source": [
        "Kolom pertama karena merupakan index, dapat langsung di buang"
      ]
    },
    {
      "cell_type": "code",
      "execution_count": 5,
      "metadata": {
        "id": "uYK5saa_rKy2",
        "colab": {
          "base_uri": "https://localhost:8080/",
          "height": 206
        },
        "outputId": "89adf3a3-f722-4699-860c-e424c40a3a1b"
      },
      "outputs": [
        {
          "output_type": "execute_result",
          "data": {
            "text/plain": [
              "   Age     Sex  Job Housing Saving accounts Checking account  Credit amount  \\\n",
              "0   67    male    2     own             NaN           little           1169   \n",
              "1   22  female    2     own          little         moderate           5951   \n",
              "2   49    male    1     own          little              NaN           2096   \n",
              "3   45    male    2    free          little           little           7882   \n",
              "4   53    male    2    free          little           little           4870   \n",
              "\n",
              "   Duration              Purpose  \n",
              "0         6             radio/TV  \n",
              "1        48             radio/TV  \n",
              "2        12            education  \n",
              "3        42  furniture/equipment  \n",
              "4        24                  car  "
            ],
            "text/html": [
              "\n",
              "  <div id=\"df-fd08f396-1313-4eab-ac00-1d70dbef6267\">\n",
              "    <div class=\"colab-df-container\">\n",
              "      <div>\n",
              "<style scoped>\n",
              "    .dataframe tbody tr th:only-of-type {\n",
              "        vertical-align: middle;\n",
              "    }\n",
              "\n",
              "    .dataframe tbody tr th {\n",
              "        vertical-align: top;\n",
              "    }\n",
              "\n",
              "    .dataframe thead th {\n",
              "        text-align: right;\n",
              "    }\n",
              "</style>\n",
              "<table border=\"1\" class=\"dataframe\">\n",
              "  <thead>\n",
              "    <tr style=\"text-align: right;\">\n",
              "      <th></th>\n",
              "      <th>Age</th>\n",
              "      <th>Sex</th>\n",
              "      <th>Job</th>\n",
              "      <th>Housing</th>\n",
              "      <th>Saving accounts</th>\n",
              "      <th>Checking account</th>\n",
              "      <th>Credit amount</th>\n",
              "      <th>Duration</th>\n",
              "      <th>Purpose</th>\n",
              "    </tr>\n",
              "  </thead>\n",
              "  <tbody>\n",
              "    <tr>\n",
              "      <th>0</th>\n",
              "      <td>67</td>\n",
              "      <td>male</td>\n",
              "      <td>2</td>\n",
              "      <td>own</td>\n",
              "      <td>NaN</td>\n",
              "      <td>little</td>\n",
              "      <td>1169</td>\n",
              "      <td>6</td>\n",
              "      <td>radio/TV</td>\n",
              "    </tr>\n",
              "    <tr>\n",
              "      <th>1</th>\n",
              "      <td>22</td>\n",
              "      <td>female</td>\n",
              "      <td>2</td>\n",
              "      <td>own</td>\n",
              "      <td>little</td>\n",
              "      <td>moderate</td>\n",
              "      <td>5951</td>\n",
              "      <td>48</td>\n",
              "      <td>radio/TV</td>\n",
              "    </tr>\n",
              "    <tr>\n",
              "      <th>2</th>\n",
              "      <td>49</td>\n",
              "      <td>male</td>\n",
              "      <td>1</td>\n",
              "      <td>own</td>\n",
              "      <td>little</td>\n",
              "      <td>NaN</td>\n",
              "      <td>2096</td>\n",
              "      <td>12</td>\n",
              "      <td>education</td>\n",
              "    </tr>\n",
              "    <tr>\n",
              "      <th>3</th>\n",
              "      <td>45</td>\n",
              "      <td>male</td>\n",
              "      <td>2</td>\n",
              "      <td>free</td>\n",
              "      <td>little</td>\n",
              "      <td>little</td>\n",
              "      <td>7882</td>\n",
              "      <td>42</td>\n",
              "      <td>furniture/equipment</td>\n",
              "    </tr>\n",
              "    <tr>\n",
              "      <th>4</th>\n",
              "      <td>53</td>\n",
              "      <td>male</td>\n",
              "      <td>2</td>\n",
              "      <td>free</td>\n",
              "      <td>little</td>\n",
              "      <td>little</td>\n",
              "      <td>4870</td>\n",
              "      <td>24</td>\n",
              "      <td>car</td>\n",
              "    </tr>\n",
              "  </tbody>\n",
              "</table>\n",
              "</div>\n",
              "      <button class=\"colab-df-convert\" onclick=\"convertToInteractive('df-fd08f396-1313-4eab-ac00-1d70dbef6267')\"\n",
              "              title=\"Convert this dataframe to an interactive table.\"\n",
              "              style=\"display:none;\">\n",
              "        \n",
              "  <svg xmlns=\"http://www.w3.org/2000/svg\" height=\"24px\"viewBox=\"0 0 24 24\"\n",
              "       width=\"24px\">\n",
              "    <path d=\"M0 0h24v24H0V0z\" fill=\"none\"/>\n",
              "    <path d=\"M18.56 5.44l.94 2.06.94-2.06 2.06-.94-2.06-.94-.94-2.06-.94 2.06-2.06.94zm-11 1L8.5 8.5l.94-2.06 2.06-.94-2.06-.94L8.5 2.5l-.94 2.06-2.06.94zm10 10l.94 2.06.94-2.06 2.06-.94-2.06-.94-.94-2.06-.94 2.06-2.06.94z\"/><path d=\"M17.41 7.96l-1.37-1.37c-.4-.4-.92-.59-1.43-.59-.52 0-1.04.2-1.43.59L10.3 9.45l-7.72 7.72c-.78.78-.78 2.05 0 2.83L4 21.41c.39.39.9.59 1.41.59.51 0 1.02-.2 1.41-.59l7.78-7.78 2.81-2.81c.8-.78.8-2.07 0-2.86zM5.41 20L4 18.59l7.72-7.72 1.47 1.35L5.41 20z\"/>\n",
              "  </svg>\n",
              "      </button>\n",
              "      \n",
              "  <style>\n",
              "    .colab-df-container {\n",
              "      display:flex;\n",
              "      flex-wrap:wrap;\n",
              "      gap: 12px;\n",
              "    }\n",
              "\n",
              "    .colab-df-convert {\n",
              "      background-color: #E8F0FE;\n",
              "      border: none;\n",
              "      border-radius: 50%;\n",
              "      cursor: pointer;\n",
              "      display: none;\n",
              "      fill: #1967D2;\n",
              "      height: 32px;\n",
              "      padding: 0 0 0 0;\n",
              "      width: 32px;\n",
              "    }\n",
              "\n",
              "    .colab-df-convert:hover {\n",
              "      background-color: #E2EBFA;\n",
              "      box-shadow: 0px 1px 2px rgba(60, 64, 67, 0.3), 0px 1px 3px 1px rgba(60, 64, 67, 0.15);\n",
              "      fill: #174EA6;\n",
              "    }\n",
              "\n",
              "    [theme=dark] .colab-df-convert {\n",
              "      background-color: #3B4455;\n",
              "      fill: #D2E3FC;\n",
              "    }\n",
              "\n",
              "    [theme=dark] .colab-df-convert:hover {\n",
              "      background-color: #434B5C;\n",
              "      box-shadow: 0px 1px 3px 1px rgba(0, 0, 0, 0.15);\n",
              "      filter: drop-shadow(0px 1px 2px rgba(0, 0, 0, 0.3));\n",
              "      fill: #FFFFFF;\n",
              "    }\n",
              "  </style>\n",
              "\n",
              "      <script>\n",
              "        const buttonEl =\n",
              "          document.querySelector('#df-fd08f396-1313-4eab-ac00-1d70dbef6267 button.colab-df-convert');\n",
              "        buttonEl.style.display =\n",
              "          google.colab.kernel.accessAllowed ? 'block' : 'none';\n",
              "\n",
              "        async function convertToInteractive(key) {\n",
              "          const element = document.querySelector('#df-fd08f396-1313-4eab-ac00-1d70dbef6267');\n",
              "          const dataTable =\n",
              "            await google.colab.kernel.invokeFunction('convertToInteractive',\n",
              "                                                     [key], {});\n",
              "          if (!dataTable) return;\n",
              "\n",
              "          const docLinkHtml = 'Like what you see? Visit the ' +\n",
              "            '<a target=\"_blank\" href=https://colab.research.google.com/notebooks/data_table.ipynb>data table notebook</a>'\n",
              "            + ' to learn more about interactive tables.';\n",
              "          element.innerHTML = '';\n",
              "          dataTable['output_type'] = 'display_data';\n",
              "          await google.colab.output.renderOutput(dataTable, element);\n",
              "          const docLink = document.createElement('div');\n",
              "          docLink.innerHTML = docLinkHtml;\n",
              "          element.appendChild(docLink);\n",
              "        }\n",
              "      </script>\n",
              "    </div>\n",
              "  </div>\n",
              "  "
            ]
          },
          "metadata": {},
          "execution_count": 5
        }
      ],
      "source": [
        "df.drop(df.columns[0], inplace=True, axis=1)\n",
        "df.head()"
      ]
    },
    {
      "cell_type": "markdown",
      "metadata": {
        "id": "kog3ZsYMlLZX"
      },
      "source": [
        "<b>Informasi Mengenai Kolom</b><br>\n",
        "- Age => Umur nasabah Bank\n",
        "- Sex => Jenis kelamin nasabah Bank\n",
        "- Job => Pekerjaan nasabah Bank\n",
        "- Housing => Tipe rumah customer\n",
        "- Saving accounts => Kategori untuk jumlah tabungan / Jenis tabungan yang menunjukan kecederungan peminjam untuk menabung\n",
        "- Checking account => Kategori Jumlah saldo di rekening \n",
        "- Credit amount => Batas kredit yang digunakan oleh pemegang rekening\n",
        "- Duration => Durasi pinjaman dalam bulan\n",
        "- Purpose => Tujuan penggunaan pengajuan kredit"
      ]
    },
    {
      "cell_type": "markdown",
      "metadata": {
        "id": "hdQ2Kx7IqjDR"
      },
      "source": [
        "# Informasi Mengenai Data"
      ]
    },
    {
      "cell_type": "code",
      "execution_count": 6,
      "metadata": {
        "id": "Fw6YVbeVqgvC",
        "colab": {
          "base_uri": "https://localhost:8080/"
        },
        "outputId": "d0013f6c-d755-4d04-ad7f-21ae2d024b2b"
      },
      "outputs": [
        {
          "output_type": "stream",
          "name": "stdout",
          "text": [
            "<class 'pandas.core.frame.DataFrame'>\n",
            "RangeIndex: 1000 entries, 0 to 999\n",
            "Data columns (total 9 columns):\n",
            " #   Column            Non-Null Count  Dtype \n",
            "---  ------            --------------  ----- \n",
            " 0   Age               1000 non-null   int64 \n",
            " 1   Sex               1000 non-null   object\n",
            " 2   Job               1000 non-null   int64 \n",
            " 3   Housing           1000 non-null   object\n",
            " 4   Saving accounts   817 non-null    object\n",
            " 5   Checking account  606 non-null    object\n",
            " 6   Credit amount     1000 non-null   int64 \n",
            " 7   Duration          1000 non-null   int64 \n",
            " 8   Purpose           1000 non-null   object\n",
            "dtypes: int64(4), object(5)\n",
            "memory usage: 70.4+ KB\n"
          ]
        }
      ],
      "source": [
        "df.info()"
      ]
    },
    {
      "cell_type": "code",
      "execution_count": 7,
      "metadata": {
        "id": "TFderr32qmb3",
        "colab": {
          "base_uri": "https://localhost:8080/"
        },
        "outputId": "653e9fac-0165-4607-81d2-f7f7b01cbe48"
      },
      "outputs": [
        {
          "output_type": "execute_result",
          "data": {
            "text/plain": [
              "Age                   0\n",
              "Sex                   0\n",
              "Job                   0\n",
              "Housing               0\n",
              "Saving accounts     183\n",
              "Checking account    394\n",
              "Credit amount         0\n",
              "Duration              0\n",
              "Purpose               0\n",
              "dtype: int64"
            ]
          },
          "metadata": {},
          "execution_count": 7
        }
      ],
      "source": [
        "df.isnull().sum()"
      ]
    },
    {
      "cell_type": "markdown",
      "metadata": {
        "id": "wLbWdFLcqzaP"
      },
      "source": [
        "Terdapat beberapa data yang kosong pada kolom <b>Saving accounts</b> dan <b>Checking account</b>"
      ]
    },
    {
      "cell_type": "code",
      "execution_count": 8,
      "metadata": {
        "id": "NW__pIqGqxzo",
        "colab": {
          "base_uri": "https://localhost:8080/"
        },
        "outputId": "0ffd35c8-8bb8-439d-8a13-47ab20a4bfb2"
      },
      "outputs": [
        {
          "output_type": "stream",
          "name": "stdout",
          "text": [
            "Data mempunyai 1000 customers dan 9 columns (attributes).\n"
          ]
        }
      ],
      "source": [
        "print(\"Data mempunyai {} customers dan {} columns (attributes).\".format(df.shape[0],df.shape[1]))"
      ]
    },
    {
      "cell_type": "code",
      "execution_count": 9,
      "metadata": {
        "id": "EmiPb28zrfxg",
        "colab": {
          "base_uri": "https://localhost:8080/"
        },
        "outputId": "3bcd29ec-622f-4b65-dc00-8558abeabdee"
      },
      "outputs": [
        {
          "output_type": "execute_result",
          "data": {
            "text/plain": [
              "Age                  int64\n",
              "Sex                 object\n",
              "Job                  int64\n",
              "Housing             object\n",
              "Saving accounts     object\n",
              "Checking account    object\n",
              "Credit amount        int64\n",
              "Duration             int64\n",
              "Purpose             object\n",
              "dtype: object"
            ]
          },
          "metadata": {},
          "execution_count": 9
        }
      ],
      "source": [
        "df.dtypes"
      ]
    },
    {
      "cell_type": "markdown",
      "metadata": {
        "id": "0HLvDWAWroL9"
      },
      "source": [
        "Data memiliki **4 kolom** numerik dan **5 kolom** kategorik"
      ]
    },
    {
      "cell_type": "code",
      "execution_count": 10,
      "metadata": {
        "id": "Zcamo7_SuJAI",
        "colab": {
          "base_uri": "https://localhost:8080/"
        },
        "outputId": "a1c8f3be-8ee6-4a77-c663-ba81deedd6c9"
      },
      "outputs": [
        {
          "output_type": "stream",
          "name": "stdout",
          "text": [
            "Number of unique values:\n",
            "\n",
            "Age                  53\n",
            "Sex                   2\n",
            "Job                   4\n",
            "Housing               3\n",
            "Saving accounts       4\n",
            "Checking account      3\n",
            "Credit amount       921\n",
            "Duration             33\n",
            "Purpose               8\n",
            "dtype: int64\n"
          ]
        }
      ],
      "source": [
        "n_unique = df.nunique()\n",
        "print(\"Number of unique values:\\n\\n{}\".format(n_unique))"
      ]
    },
    {
      "cell_type": "markdown",
      "metadata": {
        "id": "MiEnwp7USg4Y"
      },
      "source": [
        "Jumlah data unik pada setiap kolom"
      ]
    },
    {
      "cell_type": "markdown",
      "metadata": {
        "id": "6hOTTnSl80yk"
      },
      "source": [
        "### **Memperbaiki Tipe Data**"
      ]
    },
    {
      "cell_type": "markdown",
      "metadata": {
        "id": "2-fWOO4N85_N"
      },
      "source": [
        "Memperbaiki tipe data pada kolom **Job** karena pada kolom tersebut hanya memiliki 4 data unik saja sehingga lebih cocok apabila menggunakan tipe data kategorik (object)"
      ]
    },
    {
      "cell_type": "code",
      "execution_count": 11,
      "metadata": {
        "id": "-K3a6G6k9NLM",
        "colab": {
          "base_uri": "https://localhost:8080/"
        },
        "outputId": "7f3c62d8-fee6-471e-a5f9-6d2e647403a5"
      },
      "outputs": [
        {
          "output_type": "execute_result",
          "data": {
            "text/plain": [
              "2    630\n",
              "1    200\n",
              "3    148\n",
              "0     22\n",
              "Name: Job, dtype: int64"
            ]
          },
          "metadata": {},
          "execution_count": 11
        }
      ],
      "source": [
        "df['Job'].value_counts()"
      ]
    },
    {
      "cell_type": "code",
      "execution_count": 12,
      "metadata": {
        "id": "-ufQHD8w9UyW",
        "colab": {
          "base_uri": "https://localhost:8080/"
        },
        "outputId": "2c28a7ed-4ae8-4105-98d9-4dac207064ba"
      },
      "outputs": [
        {
          "output_type": "execute_result",
          "data": {
            "text/plain": [
              "Age                    int64\n",
              "Sex                   object\n",
              "Job                 category\n",
              "Housing               object\n",
              "Saving accounts       object\n",
              "Checking account      object\n",
              "Credit amount          int64\n",
              "Duration               int64\n",
              "Purpose               object\n",
              "dtype: object"
            ]
          },
          "metadata": {},
          "execution_count": 12
        }
      ],
      "source": [
        "df['Job'] = df['Job'].astype('category')\n",
        "df.dtypes"
      ]
    },
    {
      "cell_type": "markdown",
      "metadata": {
        "id": "1KUDUmDR9glV"
      },
      "source": [
        "Mengubah tipe data **kolom Job** dari numerik (int) menjadi kategorik (category)"
      ]
    },
    {
      "cell_type": "code",
      "execution_count": 13,
      "metadata": {
        "id": "Yf86zsairi-o",
        "colab": {
          "base_uri": "https://localhost:8080/"
        },
        "outputId": "bea8c937-5252-430b-9610-84cc30588950"
      },
      "outputs": [
        {
          "output_type": "stream",
          "name": "stdout",
          "text": [
            "Kolom Kategorik \n",
            " Index(['Sex', 'Job', 'Housing', 'Saving accounts', 'Checking account',\n",
            "       'Purpose'],\n",
            "      dtype='object') \n",
            "\n",
            "Kolom Numerik \n",
            " Index(['Age', 'Credit amount', 'Duration'], dtype='object')\n"
          ]
        }
      ],
      "source": [
        "kategorik = df.select_dtypes(include=['object', 'category']).columns\n",
        "numerik = df.select_dtypes(exclude=['object', 'category']).columns\n",
        "\n",
        "print('Kolom Kategorik', '\\n', kategorik, '\\n')\n",
        "print('Kolom Numerik', '\\n', numerik)"
      ]
    },
    {
      "cell_type": "markdown",
      "metadata": {
        "id": "P3TD3V_8R4Cp"
      },
      "source": [
        "Membagi kolom **numerik** dan **kategorik**,<br>\n",
        "Kolom numerik disimpan pada variable numerik<br>\n",
        "Kolom kategorik disimpan pada variable kategorik"
      ]
    },
    {
      "cell_type": "markdown",
      "metadata": {
        "id": "JeiG6xcIOCiS"
      },
      "source": [
        "### **Deskripsi Dataset**"
      ]
    },
    {
      "cell_type": "code",
      "execution_count": 14,
      "metadata": {
        "id": "snC9Dmj0OJc-",
        "colab": {
          "base_uri": "https://localhost:8080/",
          "height": 300
        },
        "outputId": "8c7a56f1-fd38-4440-8fad-dcea561e164e"
      },
      "outputs": [
        {
          "output_type": "execute_result",
          "data": {
            "text/plain": [
              "               Age  Credit amount     Duration\n",
              "count  1000.000000    1000.000000  1000.000000\n",
              "mean     35.546000    3271.258000    20.903000\n",
              "std      11.375469    2822.736876    12.058814\n",
              "min      19.000000     250.000000     4.000000\n",
              "25%      27.000000    1365.500000    12.000000\n",
              "50%      33.000000    2319.500000    18.000000\n",
              "75%      42.000000    3972.250000    24.000000\n",
              "max      75.000000   18424.000000    72.000000"
            ],
            "text/html": [
              "\n",
              "  <div id=\"df-f121fce6-9fda-4149-88d2-f085d4ac97b6\">\n",
              "    <div class=\"colab-df-container\">\n",
              "      <div>\n",
              "<style scoped>\n",
              "    .dataframe tbody tr th:only-of-type {\n",
              "        vertical-align: middle;\n",
              "    }\n",
              "\n",
              "    .dataframe tbody tr th {\n",
              "        vertical-align: top;\n",
              "    }\n",
              "\n",
              "    .dataframe thead th {\n",
              "        text-align: right;\n",
              "    }\n",
              "</style>\n",
              "<table border=\"1\" class=\"dataframe\">\n",
              "  <thead>\n",
              "    <tr style=\"text-align: right;\">\n",
              "      <th></th>\n",
              "      <th>Age</th>\n",
              "      <th>Credit amount</th>\n",
              "      <th>Duration</th>\n",
              "    </tr>\n",
              "  </thead>\n",
              "  <tbody>\n",
              "    <tr>\n",
              "      <th>count</th>\n",
              "      <td>1000.000000</td>\n",
              "      <td>1000.000000</td>\n",
              "      <td>1000.000000</td>\n",
              "    </tr>\n",
              "    <tr>\n",
              "      <th>mean</th>\n",
              "      <td>35.546000</td>\n",
              "      <td>3271.258000</td>\n",
              "      <td>20.903000</td>\n",
              "    </tr>\n",
              "    <tr>\n",
              "      <th>std</th>\n",
              "      <td>11.375469</td>\n",
              "      <td>2822.736876</td>\n",
              "      <td>12.058814</td>\n",
              "    </tr>\n",
              "    <tr>\n",
              "      <th>min</th>\n",
              "      <td>19.000000</td>\n",
              "      <td>250.000000</td>\n",
              "      <td>4.000000</td>\n",
              "    </tr>\n",
              "    <tr>\n",
              "      <th>25%</th>\n",
              "      <td>27.000000</td>\n",
              "      <td>1365.500000</td>\n",
              "      <td>12.000000</td>\n",
              "    </tr>\n",
              "    <tr>\n",
              "      <th>50%</th>\n",
              "      <td>33.000000</td>\n",
              "      <td>2319.500000</td>\n",
              "      <td>18.000000</td>\n",
              "    </tr>\n",
              "    <tr>\n",
              "      <th>75%</th>\n",
              "      <td>42.000000</td>\n",
              "      <td>3972.250000</td>\n",
              "      <td>24.000000</td>\n",
              "    </tr>\n",
              "    <tr>\n",
              "      <th>max</th>\n",
              "      <td>75.000000</td>\n",
              "      <td>18424.000000</td>\n",
              "      <td>72.000000</td>\n",
              "    </tr>\n",
              "  </tbody>\n",
              "</table>\n",
              "</div>\n",
              "      <button class=\"colab-df-convert\" onclick=\"convertToInteractive('df-f121fce6-9fda-4149-88d2-f085d4ac97b6')\"\n",
              "              title=\"Convert this dataframe to an interactive table.\"\n",
              "              style=\"display:none;\">\n",
              "        \n",
              "  <svg xmlns=\"http://www.w3.org/2000/svg\" height=\"24px\"viewBox=\"0 0 24 24\"\n",
              "       width=\"24px\">\n",
              "    <path d=\"M0 0h24v24H0V0z\" fill=\"none\"/>\n",
              "    <path d=\"M18.56 5.44l.94 2.06.94-2.06 2.06-.94-2.06-.94-.94-2.06-.94 2.06-2.06.94zm-11 1L8.5 8.5l.94-2.06 2.06-.94-2.06-.94L8.5 2.5l-.94 2.06-2.06.94zm10 10l.94 2.06.94-2.06 2.06-.94-2.06-.94-.94-2.06-.94 2.06-2.06.94z\"/><path d=\"M17.41 7.96l-1.37-1.37c-.4-.4-.92-.59-1.43-.59-.52 0-1.04.2-1.43.59L10.3 9.45l-7.72 7.72c-.78.78-.78 2.05 0 2.83L4 21.41c.39.39.9.59 1.41.59.51 0 1.02-.2 1.41-.59l7.78-7.78 2.81-2.81c.8-.78.8-2.07 0-2.86zM5.41 20L4 18.59l7.72-7.72 1.47 1.35L5.41 20z\"/>\n",
              "  </svg>\n",
              "      </button>\n",
              "      \n",
              "  <style>\n",
              "    .colab-df-container {\n",
              "      display:flex;\n",
              "      flex-wrap:wrap;\n",
              "      gap: 12px;\n",
              "    }\n",
              "\n",
              "    .colab-df-convert {\n",
              "      background-color: #E8F0FE;\n",
              "      border: none;\n",
              "      border-radius: 50%;\n",
              "      cursor: pointer;\n",
              "      display: none;\n",
              "      fill: #1967D2;\n",
              "      height: 32px;\n",
              "      padding: 0 0 0 0;\n",
              "      width: 32px;\n",
              "    }\n",
              "\n",
              "    .colab-df-convert:hover {\n",
              "      background-color: #E2EBFA;\n",
              "      box-shadow: 0px 1px 2px rgba(60, 64, 67, 0.3), 0px 1px 3px 1px rgba(60, 64, 67, 0.15);\n",
              "      fill: #174EA6;\n",
              "    }\n",
              "\n",
              "    [theme=dark] .colab-df-convert {\n",
              "      background-color: #3B4455;\n",
              "      fill: #D2E3FC;\n",
              "    }\n",
              "\n",
              "    [theme=dark] .colab-df-convert:hover {\n",
              "      background-color: #434B5C;\n",
              "      box-shadow: 0px 1px 3px 1px rgba(0, 0, 0, 0.15);\n",
              "      filter: drop-shadow(0px 1px 2px rgba(0, 0, 0, 0.3));\n",
              "      fill: #FFFFFF;\n",
              "    }\n",
              "  </style>\n",
              "\n",
              "      <script>\n",
              "        const buttonEl =\n",
              "          document.querySelector('#df-f121fce6-9fda-4149-88d2-f085d4ac97b6 button.colab-df-convert');\n",
              "        buttonEl.style.display =\n",
              "          google.colab.kernel.accessAllowed ? 'block' : 'none';\n",
              "\n",
              "        async function convertToInteractive(key) {\n",
              "          const element = document.querySelector('#df-f121fce6-9fda-4149-88d2-f085d4ac97b6');\n",
              "          const dataTable =\n",
              "            await google.colab.kernel.invokeFunction('convertToInteractive',\n",
              "                                                     [key], {});\n",
              "          if (!dataTable) return;\n",
              "\n",
              "          const docLinkHtml = 'Like what you see? Visit the ' +\n",
              "            '<a target=\"_blank\" href=https://colab.research.google.com/notebooks/data_table.ipynb>data table notebook</a>'\n",
              "            + ' to learn more about interactive tables.';\n",
              "          element.innerHTML = '';\n",
              "          dataTable['output_type'] = 'display_data';\n",
              "          await google.colab.output.renderOutput(dataTable, element);\n",
              "          const docLink = document.createElement('div');\n",
              "          docLink.innerHTML = docLinkHtml;\n",
              "          element.appendChild(docLink);\n",
              "        }\n",
              "      </script>\n",
              "    </div>\n",
              "  </div>\n",
              "  "
            ]
          },
          "metadata": {},
          "execution_count": 14
        }
      ],
      "source": [
        "df[numerik].describe()"
      ]
    },
    {
      "cell_type": "markdown",
      "metadata": {
        "id": "3xN5RTAlObiP"
      },
      "source": [
        "<b>Deskripsi Kolom Numerik</b>\n",
        "- count (Jumlah data) yaitu Setiap kolom berjumlah 1000 data\n",
        "- mean yaitu Nilai rata-rata data\n",
        "- std yaitu Nilai Standar Deviasi\n",
        "- min yaitu Nilai data terendah\n",
        "- 25% atau Kuartil-1 atau kuartil bawah\n",
        "- 50% atau Kuartil-2 atau nilai tengah pada data\n",
        "- 75% atau Kuartil-3 atau kuartil atas\n",
        "- max yaitu Nilai data tertinggi"
      ]
    },
    {
      "cell_type": "code",
      "execution_count": 15,
      "metadata": {
        "id": "xFOh9NctOilX",
        "colab": {
          "base_uri": "https://localhost:8080/",
          "height": 175
        },
        "outputId": "797abac9-c690-4317-f473-16fe5d0caf98"
      },
      "outputs": [
        {
          "output_type": "execute_result",
          "data": {
            "text/plain": [
              "         Sex   Job Housing Saving accounts Checking account Purpose\n",
              "count   1000  1000    1000             817              606    1000\n",
              "unique     2     4       3               4                3       8\n",
              "top     male     2     own          little           little     car\n",
              "freq     690   630     713             603              274     337"
            ],
            "text/html": [
              "\n",
              "  <div id=\"df-cb44df31-c20d-4897-a8d1-c6919f820b24\">\n",
              "    <div class=\"colab-df-container\">\n",
              "      <div>\n",
              "<style scoped>\n",
              "    .dataframe tbody tr th:only-of-type {\n",
              "        vertical-align: middle;\n",
              "    }\n",
              "\n",
              "    .dataframe tbody tr th {\n",
              "        vertical-align: top;\n",
              "    }\n",
              "\n",
              "    .dataframe thead th {\n",
              "        text-align: right;\n",
              "    }\n",
              "</style>\n",
              "<table border=\"1\" class=\"dataframe\">\n",
              "  <thead>\n",
              "    <tr style=\"text-align: right;\">\n",
              "      <th></th>\n",
              "      <th>Sex</th>\n",
              "      <th>Job</th>\n",
              "      <th>Housing</th>\n",
              "      <th>Saving accounts</th>\n",
              "      <th>Checking account</th>\n",
              "      <th>Purpose</th>\n",
              "    </tr>\n",
              "  </thead>\n",
              "  <tbody>\n",
              "    <tr>\n",
              "      <th>count</th>\n",
              "      <td>1000</td>\n",
              "      <td>1000</td>\n",
              "      <td>1000</td>\n",
              "      <td>817</td>\n",
              "      <td>606</td>\n",
              "      <td>1000</td>\n",
              "    </tr>\n",
              "    <tr>\n",
              "      <th>unique</th>\n",
              "      <td>2</td>\n",
              "      <td>4</td>\n",
              "      <td>3</td>\n",
              "      <td>4</td>\n",
              "      <td>3</td>\n",
              "      <td>8</td>\n",
              "    </tr>\n",
              "    <tr>\n",
              "      <th>top</th>\n",
              "      <td>male</td>\n",
              "      <td>2</td>\n",
              "      <td>own</td>\n",
              "      <td>little</td>\n",
              "      <td>little</td>\n",
              "      <td>car</td>\n",
              "    </tr>\n",
              "    <tr>\n",
              "      <th>freq</th>\n",
              "      <td>690</td>\n",
              "      <td>630</td>\n",
              "      <td>713</td>\n",
              "      <td>603</td>\n",
              "      <td>274</td>\n",
              "      <td>337</td>\n",
              "    </tr>\n",
              "  </tbody>\n",
              "</table>\n",
              "</div>\n",
              "      <button class=\"colab-df-convert\" onclick=\"convertToInteractive('df-cb44df31-c20d-4897-a8d1-c6919f820b24')\"\n",
              "              title=\"Convert this dataframe to an interactive table.\"\n",
              "              style=\"display:none;\">\n",
              "        \n",
              "  <svg xmlns=\"http://www.w3.org/2000/svg\" height=\"24px\"viewBox=\"0 0 24 24\"\n",
              "       width=\"24px\">\n",
              "    <path d=\"M0 0h24v24H0V0z\" fill=\"none\"/>\n",
              "    <path d=\"M18.56 5.44l.94 2.06.94-2.06 2.06-.94-2.06-.94-.94-2.06-.94 2.06-2.06.94zm-11 1L8.5 8.5l.94-2.06 2.06-.94-2.06-.94L8.5 2.5l-.94 2.06-2.06.94zm10 10l.94 2.06.94-2.06 2.06-.94-2.06-.94-.94-2.06-.94 2.06-2.06.94z\"/><path d=\"M17.41 7.96l-1.37-1.37c-.4-.4-.92-.59-1.43-.59-.52 0-1.04.2-1.43.59L10.3 9.45l-7.72 7.72c-.78.78-.78 2.05 0 2.83L4 21.41c.39.39.9.59 1.41.59.51 0 1.02-.2 1.41-.59l7.78-7.78 2.81-2.81c.8-.78.8-2.07 0-2.86zM5.41 20L4 18.59l7.72-7.72 1.47 1.35L5.41 20z\"/>\n",
              "  </svg>\n",
              "      </button>\n",
              "      \n",
              "  <style>\n",
              "    .colab-df-container {\n",
              "      display:flex;\n",
              "      flex-wrap:wrap;\n",
              "      gap: 12px;\n",
              "    }\n",
              "\n",
              "    .colab-df-convert {\n",
              "      background-color: #E8F0FE;\n",
              "      border: none;\n",
              "      border-radius: 50%;\n",
              "      cursor: pointer;\n",
              "      display: none;\n",
              "      fill: #1967D2;\n",
              "      height: 32px;\n",
              "      padding: 0 0 0 0;\n",
              "      width: 32px;\n",
              "    }\n",
              "\n",
              "    .colab-df-convert:hover {\n",
              "      background-color: #E2EBFA;\n",
              "      box-shadow: 0px 1px 2px rgba(60, 64, 67, 0.3), 0px 1px 3px 1px rgba(60, 64, 67, 0.15);\n",
              "      fill: #174EA6;\n",
              "    }\n",
              "\n",
              "    [theme=dark] .colab-df-convert {\n",
              "      background-color: #3B4455;\n",
              "      fill: #D2E3FC;\n",
              "    }\n",
              "\n",
              "    [theme=dark] .colab-df-convert:hover {\n",
              "      background-color: #434B5C;\n",
              "      box-shadow: 0px 1px 3px 1px rgba(0, 0, 0, 0.15);\n",
              "      filter: drop-shadow(0px 1px 2px rgba(0, 0, 0, 0.3));\n",
              "      fill: #FFFFFF;\n",
              "    }\n",
              "  </style>\n",
              "\n",
              "      <script>\n",
              "        const buttonEl =\n",
              "          document.querySelector('#df-cb44df31-c20d-4897-a8d1-c6919f820b24 button.colab-df-convert');\n",
              "        buttonEl.style.display =\n",
              "          google.colab.kernel.accessAllowed ? 'block' : 'none';\n",
              "\n",
              "        async function convertToInteractive(key) {\n",
              "          const element = document.querySelector('#df-cb44df31-c20d-4897-a8d1-c6919f820b24');\n",
              "          const dataTable =\n",
              "            await google.colab.kernel.invokeFunction('convertToInteractive',\n",
              "                                                     [key], {});\n",
              "          if (!dataTable) return;\n",
              "\n",
              "          const docLinkHtml = 'Like what you see? Visit the ' +\n",
              "            '<a target=\"_blank\" href=https://colab.research.google.com/notebooks/data_table.ipynb>data table notebook</a>'\n",
              "            + ' to learn more about interactive tables.';\n",
              "          element.innerHTML = '';\n",
              "          dataTable['output_type'] = 'display_data';\n",
              "          await google.colab.output.renderOutput(dataTable, element);\n",
              "          const docLink = document.createElement('div');\n",
              "          docLink.innerHTML = docLinkHtml;\n",
              "          element.appendChild(docLink);\n",
              "        }\n",
              "      </script>\n",
              "    </div>\n",
              "  </div>\n",
              "  "
            ]
          },
          "metadata": {},
          "execution_count": 15
        }
      ],
      "source": [
        "df[kategorik].describe()"
      ]
    },
    {
      "cell_type": "markdown",
      "metadata": {
        "id": "13MWCs5zONl3"
      },
      "source": [
        "**Deskripsi kolom kategorik**\n",
        "<br>\n",
        "- count (Jumlah data) yaitu Setiap kolom berjumlah 1000 data\n",
        "- unique yaitu Jumlah data unik pada setiap kolom\n",
        "- top yaitu Data yang paling sering muncul\n",
        "- freq atau Frekuensi data top yang muncul atau banyaknya data top"
      ]
    },
    {
      "cell_type": "code",
      "execution_count": 16,
      "metadata": {
        "id": "zEeP_u-zONId",
        "colab": {
          "base_uri": "https://localhost:8080/"
        },
        "outputId": "732f0c79-506f-45fd-a151-5172149cfca8"
      },
      "outputs": [
        {
          "output_type": "stream",
          "name": "stdout",
          "text": [
            "Jenis kategori pada kolom kategorik:\n",
            "Sex : ['male' 'female']\n",
            "Job : [2, 1, 3, 0]\n",
            "Categories (4, int64): [0, 1, 2, 3]\n",
            "Housing : ['own' 'free' 'rent']\n",
            "Saving accounts : [nan 'little' 'quite rich' 'rich' 'moderate']\n",
            "Checking account : ['little' 'moderate' nan 'rich']\n",
            "Purpose : ['radio/TV' 'education' 'furniture/equipment' 'car' 'business'\n",
            " 'domestic appliances' 'repairs' 'vacation/others']\n"
          ]
        }
      ],
      "source": [
        "print(\"Jenis kategori pada kolom kategorik:\")\n",
        "for col in df.select_dtypes(include=['object', 'category']):\n",
        "    print(col,\":\", df[col].unique())"
      ]
    },
    {
      "cell_type": "markdown",
      "metadata": {
        "id": "Hg-sZmsHN5ce"
      },
      "source": [
        "# Exploratory Data Analysis"
      ]
    },
    {
      "cell_type": "code",
      "execution_count": 17,
      "metadata": {
        "id": "4n4cgUwRuk7w",
        "colab": {
          "base_uri": "https://localhost:8080/"
        },
        "outputId": "343ab02a-25d4-4f0a-d21e-ca64e60cd7dc"
      },
      "outputs": [
        {
          "output_type": "execute_result",
          "data": {
            "text/plain": [
              "Age                   0\n",
              "Sex                   0\n",
              "Job                   0\n",
              "Housing               0\n",
              "Saving accounts     183\n",
              "Checking account    394\n",
              "Credit amount         0\n",
              "Duration              0\n",
              "Purpose               0\n",
              "dtype: int64"
            ]
          },
          "metadata": {},
          "execution_count": 17
        }
      ],
      "source": [
        "df.isnull().sum()"
      ]
    },
    {
      "cell_type": "markdown",
      "metadata": {
        "id": "57wA9I6dTEKI"
      },
      "source": [
        "Melihat kembali Missing Value pada setiap kolom"
      ]
    },
    {
      "cell_type": "code",
      "execution_count": 18,
      "metadata": {
        "id": "ShrDN9Q4TA7f",
        "colab": {
          "base_uri": "https://localhost:8080/"
        },
        "outputId": "45e69d27-0844-47c1-f307-671b91232d83"
      },
      "outputs": [
        {
          "output_type": "stream",
          "name": "stdout",
          "text": [
            "Data Unik Saving accounts: [nan 'little' 'quite rich' 'rich' 'moderate']\n",
            "Data Unik Checking account: ['little' 'moderate' nan 'rich']\n"
          ]
        }
      ],
      "source": [
        "print('Data Unik Saving accounts:', df['Saving accounts'].unique())\n",
        "print('Data Unik Checking account:', df['Checking account'].unique())"
      ]
    },
    {
      "cell_type": "markdown",
      "metadata": {
        "id": "bJhODxqRTKHG"
      },
      "source": [
        "Melihat Data yang Unik pada kolom yang terdapat Missing Value\n",
        "- Kolom Saving accounts\n",
        "- Kolom Checking account"
      ]
    },
    {
      "cell_type": "code",
      "execution_count": 19,
      "metadata": {
        "id": "v5L6BVxHTIjW",
        "colab": {
          "base_uri": "https://localhost:8080/",
          "height": 423
        },
        "outputId": "952d6bfd-64d5-41a1-f8a0-e9ec6df5a6e8"
      },
      "outputs": [
        {
          "output_type": "execute_result",
          "data": {
            "text/plain": [
              "     Age     Sex Job Housing Saving accounts Checking account  Credit amount  \\\n",
              "0     67    male   2     own             NaN           little           1169   \n",
              "2     49    male   1     own          little              NaN           2096   \n",
              "5     35    male   1    free             NaN              NaN           9055   \n",
              "6     53    male   2     own      quite rich              NaN           2835   \n",
              "8     61    male   1     own            rich              NaN           3059   \n",
              "..   ...     ...  ..     ...             ...              ...            ...   \n",
              "991   34    male   1     own        moderate              NaN           1569   \n",
              "992   23    male   1    rent             NaN           little           1936   \n",
              "994   50    male   2     own             NaN              NaN           2390   \n",
              "995   31  female   1     own          little              NaN           1736   \n",
              "997   38    male   2     own          little              NaN            804   \n",
              "\n",
              "     Duration              Purpose  \n",
              "0           6             radio/TV  \n",
              "2          12            education  \n",
              "5          36            education  \n",
              "6          24  furniture/equipment  \n",
              "8          12             radio/TV  \n",
              "..        ...                  ...  \n",
              "991        15             radio/TV  \n",
              "992        18             radio/TV  \n",
              "994        12                  car  \n",
              "995        12  furniture/equipment  \n",
              "997        12             radio/TV  \n",
              "\n",
              "[478 rows x 9 columns]"
            ],
            "text/html": [
              "\n",
              "  <div id=\"df-09328778-7543-497b-9112-9b9d7fa62aa8\">\n",
              "    <div class=\"colab-df-container\">\n",
              "      <div>\n",
              "<style scoped>\n",
              "    .dataframe tbody tr th:only-of-type {\n",
              "        vertical-align: middle;\n",
              "    }\n",
              "\n",
              "    .dataframe tbody tr th {\n",
              "        vertical-align: top;\n",
              "    }\n",
              "\n",
              "    .dataframe thead th {\n",
              "        text-align: right;\n",
              "    }\n",
              "</style>\n",
              "<table border=\"1\" class=\"dataframe\">\n",
              "  <thead>\n",
              "    <tr style=\"text-align: right;\">\n",
              "      <th></th>\n",
              "      <th>Age</th>\n",
              "      <th>Sex</th>\n",
              "      <th>Job</th>\n",
              "      <th>Housing</th>\n",
              "      <th>Saving accounts</th>\n",
              "      <th>Checking account</th>\n",
              "      <th>Credit amount</th>\n",
              "      <th>Duration</th>\n",
              "      <th>Purpose</th>\n",
              "    </tr>\n",
              "  </thead>\n",
              "  <tbody>\n",
              "    <tr>\n",
              "      <th>0</th>\n",
              "      <td>67</td>\n",
              "      <td>male</td>\n",
              "      <td>2</td>\n",
              "      <td>own</td>\n",
              "      <td>NaN</td>\n",
              "      <td>little</td>\n",
              "      <td>1169</td>\n",
              "      <td>6</td>\n",
              "      <td>radio/TV</td>\n",
              "    </tr>\n",
              "    <tr>\n",
              "      <th>2</th>\n",
              "      <td>49</td>\n",
              "      <td>male</td>\n",
              "      <td>1</td>\n",
              "      <td>own</td>\n",
              "      <td>little</td>\n",
              "      <td>NaN</td>\n",
              "      <td>2096</td>\n",
              "      <td>12</td>\n",
              "      <td>education</td>\n",
              "    </tr>\n",
              "    <tr>\n",
              "      <th>5</th>\n",
              "      <td>35</td>\n",
              "      <td>male</td>\n",
              "      <td>1</td>\n",
              "      <td>free</td>\n",
              "      <td>NaN</td>\n",
              "      <td>NaN</td>\n",
              "      <td>9055</td>\n",
              "      <td>36</td>\n",
              "      <td>education</td>\n",
              "    </tr>\n",
              "    <tr>\n",
              "      <th>6</th>\n",
              "      <td>53</td>\n",
              "      <td>male</td>\n",
              "      <td>2</td>\n",
              "      <td>own</td>\n",
              "      <td>quite rich</td>\n",
              "      <td>NaN</td>\n",
              "      <td>2835</td>\n",
              "      <td>24</td>\n",
              "      <td>furniture/equipment</td>\n",
              "    </tr>\n",
              "    <tr>\n",
              "      <th>8</th>\n",
              "      <td>61</td>\n",
              "      <td>male</td>\n",
              "      <td>1</td>\n",
              "      <td>own</td>\n",
              "      <td>rich</td>\n",
              "      <td>NaN</td>\n",
              "      <td>3059</td>\n",
              "      <td>12</td>\n",
              "      <td>radio/TV</td>\n",
              "    </tr>\n",
              "    <tr>\n",
              "      <th>...</th>\n",
              "      <td>...</td>\n",
              "      <td>...</td>\n",
              "      <td>...</td>\n",
              "      <td>...</td>\n",
              "      <td>...</td>\n",
              "      <td>...</td>\n",
              "      <td>...</td>\n",
              "      <td>...</td>\n",
              "      <td>...</td>\n",
              "    </tr>\n",
              "    <tr>\n",
              "      <th>991</th>\n",
              "      <td>34</td>\n",
              "      <td>male</td>\n",
              "      <td>1</td>\n",
              "      <td>own</td>\n",
              "      <td>moderate</td>\n",
              "      <td>NaN</td>\n",
              "      <td>1569</td>\n",
              "      <td>15</td>\n",
              "      <td>radio/TV</td>\n",
              "    </tr>\n",
              "    <tr>\n",
              "      <th>992</th>\n",
              "      <td>23</td>\n",
              "      <td>male</td>\n",
              "      <td>1</td>\n",
              "      <td>rent</td>\n",
              "      <td>NaN</td>\n",
              "      <td>little</td>\n",
              "      <td>1936</td>\n",
              "      <td>18</td>\n",
              "      <td>radio/TV</td>\n",
              "    </tr>\n",
              "    <tr>\n",
              "      <th>994</th>\n",
              "      <td>50</td>\n",
              "      <td>male</td>\n",
              "      <td>2</td>\n",
              "      <td>own</td>\n",
              "      <td>NaN</td>\n",
              "      <td>NaN</td>\n",
              "      <td>2390</td>\n",
              "      <td>12</td>\n",
              "      <td>car</td>\n",
              "    </tr>\n",
              "    <tr>\n",
              "      <th>995</th>\n",
              "      <td>31</td>\n",
              "      <td>female</td>\n",
              "      <td>1</td>\n",
              "      <td>own</td>\n",
              "      <td>little</td>\n",
              "      <td>NaN</td>\n",
              "      <td>1736</td>\n",
              "      <td>12</td>\n",
              "      <td>furniture/equipment</td>\n",
              "    </tr>\n",
              "    <tr>\n",
              "      <th>997</th>\n",
              "      <td>38</td>\n",
              "      <td>male</td>\n",
              "      <td>2</td>\n",
              "      <td>own</td>\n",
              "      <td>little</td>\n",
              "      <td>NaN</td>\n",
              "      <td>804</td>\n",
              "      <td>12</td>\n",
              "      <td>radio/TV</td>\n",
              "    </tr>\n",
              "  </tbody>\n",
              "</table>\n",
              "<p>478 rows × 9 columns</p>\n",
              "</div>\n",
              "      <button class=\"colab-df-convert\" onclick=\"convertToInteractive('df-09328778-7543-497b-9112-9b9d7fa62aa8')\"\n",
              "              title=\"Convert this dataframe to an interactive table.\"\n",
              "              style=\"display:none;\">\n",
              "        \n",
              "  <svg xmlns=\"http://www.w3.org/2000/svg\" height=\"24px\"viewBox=\"0 0 24 24\"\n",
              "       width=\"24px\">\n",
              "    <path d=\"M0 0h24v24H0V0z\" fill=\"none\"/>\n",
              "    <path d=\"M18.56 5.44l.94 2.06.94-2.06 2.06-.94-2.06-.94-.94-2.06-.94 2.06-2.06.94zm-11 1L8.5 8.5l.94-2.06 2.06-.94-2.06-.94L8.5 2.5l-.94 2.06-2.06.94zm10 10l.94 2.06.94-2.06 2.06-.94-2.06-.94-.94-2.06-.94 2.06-2.06.94z\"/><path d=\"M17.41 7.96l-1.37-1.37c-.4-.4-.92-.59-1.43-.59-.52 0-1.04.2-1.43.59L10.3 9.45l-7.72 7.72c-.78.78-.78 2.05 0 2.83L4 21.41c.39.39.9.59 1.41.59.51 0 1.02-.2 1.41-.59l7.78-7.78 2.81-2.81c.8-.78.8-2.07 0-2.86zM5.41 20L4 18.59l7.72-7.72 1.47 1.35L5.41 20z\"/>\n",
              "  </svg>\n",
              "      </button>\n",
              "      \n",
              "  <style>\n",
              "    .colab-df-container {\n",
              "      display:flex;\n",
              "      flex-wrap:wrap;\n",
              "      gap: 12px;\n",
              "    }\n",
              "\n",
              "    .colab-df-convert {\n",
              "      background-color: #E8F0FE;\n",
              "      border: none;\n",
              "      border-radius: 50%;\n",
              "      cursor: pointer;\n",
              "      display: none;\n",
              "      fill: #1967D2;\n",
              "      height: 32px;\n",
              "      padding: 0 0 0 0;\n",
              "      width: 32px;\n",
              "    }\n",
              "\n",
              "    .colab-df-convert:hover {\n",
              "      background-color: #E2EBFA;\n",
              "      box-shadow: 0px 1px 2px rgba(60, 64, 67, 0.3), 0px 1px 3px 1px rgba(60, 64, 67, 0.15);\n",
              "      fill: #174EA6;\n",
              "    }\n",
              "\n",
              "    [theme=dark] .colab-df-convert {\n",
              "      background-color: #3B4455;\n",
              "      fill: #D2E3FC;\n",
              "    }\n",
              "\n",
              "    [theme=dark] .colab-df-convert:hover {\n",
              "      background-color: #434B5C;\n",
              "      box-shadow: 0px 1px 3px 1px rgba(0, 0, 0, 0.15);\n",
              "      filter: drop-shadow(0px 1px 2px rgba(0, 0, 0, 0.3));\n",
              "      fill: #FFFFFF;\n",
              "    }\n",
              "  </style>\n",
              "\n",
              "      <script>\n",
              "        const buttonEl =\n",
              "          document.querySelector('#df-09328778-7543-497b-9112-9b9d7fa62aa8 button.colab-df-convert');\n",
              "        buttonEl.style.display =\n",
              "          google.colab.kernel.accessAllowed ? 'block' : 'none';\n",
              "\n",
              "        async function convertToInteractive(key) {\n",
              "          const element = document.querySelector('#df-09328778-7543-497b-9112-9b9d7fa62aa8');\n",
              "          const dataTable =\n",
              "            await google.colab.kernel.invokeFunction('convertToInteractive',\n",
              "                                                     [key], {});\n",
              "          if (!dataTable) return;\n",
              "\n",
              "          const docLinkHtml = 'Like what you see? Visit the ' +\n",
              "            '<a target=\"_blank\" href=https://colab.research.google.com/notebooks/data_table.ipynb>data table notebook</a>'\n",
              "            + ' to learn more about interactive tables.';\n",
              "          element.innerHTML = '';\n",
              "          dataTable['output_type'] = 'display_data';\n",
              "          await google.colab.output.renderOutput(dataTable, element);\n",
              "          const docLink = document.createElement('div');\n",
              "          docLink.innerHTML = docLinkHtml;\n",
              "          element.appendChild(docLink);\n",
              "        }\n",
              "      </script>\n",
              "    </div>\n",
              "  </div>\n",
              "  "
            ]
          },
          "metadata": {},
          "execution_count": 19
        }
      ],
      "source": [
        "missing_value = df[df.isna().any(axis=1)]\n",
        "missing_value"
      ]
    },
    {
      "cell_type": "markdown",
      "metadata": {
        "id": "Ga4uvhIBT7QO"
      },
      "source": [
        "Melihat data yang memiliki nilai Missing Value"
      ]
    },
    {
      "cell_type": "code",
      "execution_count": 20,
      "metadata": {
        "id": "5tbXnskiTilG",
        "colab": {
          "base_uri": "https://localhost:8080/"
        },
        "outputId": "157b4618-8a0a-4b5f-dc24-a2f6e1423275"
      },
      "outputs": [
        {
          "output_type": "execute_result",
          "data": {
            "text/plain": [
              "Age                 0\n",
              "Sex                 0\n",
              "Job                 0\n",
              "Housing             0\n",
              "Saving accounts     0\n",
              "Checking account    0\n",
              "Credit amount       0\n",
              "Duration            0\n",
              "Purpose             0\n",
              "dtype: int64"
            ]
          },
          "metadata": {},
          "execution_count": 20
        }
      ],
      "source": [
        "df['Saving accounts'] = df['Saving accounts'].fillna('unknown')\n",
        "df['Checking account'] = df['Checking account'].fillna('unknown')\n",
        "\n",
        "df.isnull().sum()"
      ]
    },
    {
      "cell_type": "markdown",
      "metadata": {
        "id": "jsIgUj3YURfo"
      },
      "source": [
        "Mengisi data yang hilang pada kolom **Saving accounts** dan **Checking account** dengan 'unknown' karena tidak dapat diketahui Jenis tabungan nasabah tersebut dan Jumlah saldo pada tabungan nasabah"
      ]
    },
    {
      "cell_type": "markdown",
      "metadata": {
        "id": "jCMYsURoVRII"
      },
      "source": [
        "### **Visualisasi Data**"
      ]
    },
    {
      "cell_type": "code",
      "execution_count": 21,
      "metadata": {
        "id": "Jwe_h4hYVzhx",
        "colab": {
          "base_uri": "https://localhost:8080/"
        },
        "outputId": "8d7f6a32-1dee-4335-fa21-b1f6dad6c6fe"
      },
      "outputs": [
        {
          "output_type": "execute_result",
          "data": {
            "text/plain": [
              "Index(['Age', 'Credit amount', 'Duration'], dtype='object')"
            ]
          },
          "metadata": {},
          "execution_count": 21
        }
      ],
      "source": [
        "numerik"
      ]
    },
    {
      "cell_type": "markdown",
      "metadata": {
        "id": "doRjFhUTXGq3"
      },
      "source": [
        "Kolom numerik"
      ]
    },
    {
      "cell_type": "code",
      "execution_count": 22,
      "metadata": {
        "id": "Pd270IRZUP5u",
        "colab": {
          "base_uri": "https://localhost:8080/",
          "height": 1000
        },
        "outputId": "14064a68-cff4-467d-c83d-554beebf0ae5"
      },
      "outputs": [
        {
          "output_type": "execute_result",
          "data": {
            "text/plain": [
              "array([[<Axes: title={'center': 'Age'}>,\n",
              "        <Axes: title={'center': 'Credit amount'}>],\n",
              "       [<Axes: title={'center': 'Duration'}>, <Axes: >]], dtype=object)"
            ]
          },
          "metadata": {},
          "execution_count": 22
        },
        {
          "output_type": "display_data",
          "data": {
            "text/plain": [
              "<Figure size 2000x1500 with 4 Axes>"
            ],
            "image/png": "[encoded data removed]"
          },
          "metadata": {}
        }
      ],
      "source": [
        "df[numerik].hist(figsize= (20, 15))"
      ]
    },
    {
      "cell_type": "markdown",
      "metadata": {
        "id": "5L5fbiu1XLaH"
      },
      "source": [
        "Visualisasi ini menampilkan hasil visualisasi grafik pada kolom numerik yaitu kolom **Age**, **Credit amount** dan **Duration**\n",
        "\n",
        "- Pada kolom **Age** terjadi pelonjakan kenaikan dari umur 20 ke 25<br>\n",
        "Umur 25 sampai 30 merupakan umur dengan jumlah nasabah terbanyak<br>\n",
        "Rata-rata umur nasabah pengajuan kredit berada di rentang 20-40 tahun<br>\n",
        "Berdasarkan grafik didapatkan bahwa, semakin tua umurnya semakin menurun grafik<br>\n",
        "<b>Semakin tua umur, semakin sedikit nasabah yang mengajukan kredit atau pinjaman</b>\n",
        "\n",
        "- Pada kolom **Credit amount** paling banyak yaitu pada jumlah credit amount 250\tsampai 3000<br>\n",
        "<b>Semakin besar credit amount semakin sedikit jumlah nasabahnya</b>\n",
        "\n",
        "- Pada kolom **Duration** didapatkan durasi yang paling banyak diambil oleh nasabah yaitu dengan durasi 4 sampai 25 bulan<br>\n",
        "Bulan 25 sampai 30 terdapat penurunan yang cukup signifikan<br>\n",
        "Bulan lainnya terdapat perbedaan grafik yang cukup berbeda signifikan lebih sedikit"
      ]
    },
    {
      "cell_type": "code",
      "execution_count": 23,
      "metadata": {
        "id": "Lxix2ha5pvsr",
        "colab": {
          "base_uri": "https://localhost:8080/"
        },
        "outputId": "4ee8f2d3-bb22-42ba-df66-72e9c62d61fc"
      },
      "outputs": [
        {
          "output_type": "execute_result",
          "data": {
            "text/plain": [
              "Index(['Sex', 'Job', 'Housing', 'Saving accounts', 'Checking account',\n",
              "       'Purpose'],\n",
              "      dtype='object')"
            ]
          },
          "metadata": {},
          "execution_count": 23
        }
      ],
      "source": [
        "kategorik"
      ]
    },
    {
      "cell_type": "code",
      "execution_count": 24,
      "metadata": {
        "id": "V0vy3WPtV2q3",
        "colab": {
          "base_uri": "https://localhost:8080/",
          "height": 514
        },
        "outputId": "9cb2bf73-7555-423e-b9c1-d78585b6bb69"
      },
      "outputs": [
        {
          "output_type": "display_data",
          "data": {
            "text/plain": [
              "<Figure size 2000x800 with 6 Axes>"
            ],
            "image/png": "[encoded data removed]"
          },
          "metadata": {}
        }
      ],
      "source": [
        "fig, axes = plt.subplots(nrows=2, ncols=3, figsize=(20, 8))\n",
        "\n",
        "kolom = df[kategorik].columns\n",
        "c = 0\n",
        "\n",
        "for a in range(0, 2):\n",
        "    for b in range(0, 3):\n",
        "        if c < len(kolom):\n",
        "            sns.countplot(y=kolom[c], data=df, ax=axes[a, b])\n",
        "            c+=1\n",
        "        else:\n",
        "            # Menghapus subplot yang tidak digunakan\n",
        "            fig.delaxes(axes[a, b])\n",
        "\n",
        "# Menambahkan jarak antara subplot    \n",
        "plt.subplots_adjust(wspace=0.6, hspace=0.4)\n",
        "plt.show()"
      ]
    },
    {
      "cell_type": "markdown",
      "metadata": {
        "id": "iAT_R0dHoDGg"
      },
      "source": [
        "Visualisasi ini menampilkan hasil visualisasi grafik pada kolom kategorik yaitu kolom **Sex**, **Housing**, **Saving accounts**, **Checking account**, **Job** dan **Purpose**<br>\n",
        "\n",
        "- Pada kolom **Sex** atau jenis kelamin Nasabah kredit bank lebih banyak dari gender laki-laki perbandingannya mencapai 7:3\n",
        "\n",
        "- Pada kolom **Housing** atau Rumah Nasabah kredit bank paling banyak sudah memiliki rumah sendiri dan perbandingannya yaitu 7:1:2<br>\n",
        "(milik(own) **:** bebas(free) **:** sewa(rent))\n",
        "\n",
        "- Pada kolom **Saving accounts** atau Jumlah tabungan Nasabah kredit bank didominasi yang memiliki jumlah tabungan dengan jumlah sedikit dan nasabah dengan tabungan terbanyak berjumlah paling sedikit\n",
        "\n",
        "- Pada kolom **Checking accounts** atau Jumlah tabungan Giro Nasabah kredit bank didominasi dengan nasabah yang tidak diketahui statusnya\n",
        "\n",
        "- Pada kolom **Job** label 2 mendominasi dengan jumlah lebih dari 600 nasabah dan label 0 merupakan jumlah paling sedikit\n",
        "\n",
        "- Pada kolom **Purpose** Nasabah kredit bank didominasi yang memiliki tujuan kredit yaitu untuk membeli mobil (car) dan 3 tujuan tertinggi nasabah dibawahnya yaitu:\n",
        "  - radio/TV\n",
        "  - furnitur/perlengkapan\n",
        "  - bisnis."
      ]
    },
    {
      "cell_type": "markdown",
      "metadata": {
        "id": "uG82MrK60S7D"
      },
      "source": [
        "Berikut visualisasi scatter plot pada 3 kolom numerik yang dikelompokkan berdasarkan jenis kelamin\n",
        "- Age\n",
        "- Credit amount\n",
        "- Duration"
      ]
    },
    {
      "cell_type": "code",
      "execution_count": 25,
      "metadata": {
        "id": "cWAQuINSyNQy",
        "colab": {
          "base_uri": "https://localhost:8080/",
          "height": 696
        },
        "outputId": "d62c0bc0-ef2e-44cc-9fe2-d309e2eeec2b"
      },
      "outputs": [
        {
          "output_type": "display_data",
          "data": {
            "text/plain": [
              "<Figure size 1000x800 with 3 Axes>"
            ],
            "image/png": "[encoded data removed]"
          },
          "metadata": {}
        }
      ],
      "source": [
        "fig, (ax1, ax2, ax3) = plt.subplots(3, 1, figsize=(10, 8))\n",
        "sns.scatterplot(x=\"Credit amount\", y=\"Duration\", hue='Sex', palette=None, data=df, ax=ax1)\n",
        "sns.scatterplot(x=\"Credit amount\", y=\"Age\", hue='Sex', palette=None, data=df, ax=ax2)\n",
        "sns.scatterplot(x=\"Age\", y=\"Duration\", hue='Sex', palette=None, data=df, ax=ax3)\n",
        "\n",
        "plt.subplots_adjust(hspace=0.6)"
      ]
    },
    {
      "cell_type": "markdown",
      "metadata": {
        "id": "flvBI1Us5qp7"
      },
      "source": [
        "#### **Grafik Outliers**"
      ]
    },
    {
      "cell_type": "markdown",
      "metadata": {
        "id": "yba9vewt2vdN"
      },
      "source": [
        "Berikut merupakan visualisasi boxplots untuk analisis rincian setiap **kolom  kategorik** dengan setiap **kolom numerik** untuk melihat data outliers"
      ]
    },
    {
      "cell_type": "markdown",
      "metadata": {
        "id": "JocuV6-64x17"
      },
      "source": [
        "<b>Kolom purpose</b> dengan <b>Kolom Credit amount</b>"
      ]
    },
    {
      "cell_type": "code",
      "execution_count": 26,
      "metadata": {
        "id": "u-7cZ_lz1cWJ",
        "colab": {
          "base_uri": "https://localhost:8080/",
          "height": 607
        },
        "outputId": "4a056e74-1fab-41ec-c60d-24f1cc2f9034"
      },
      "outputs": [
        {
          "output_type": "display_data",
          "data": {
            "text/plain": [
              "<Figure size 800x600 with 1 Axes>"
            ],
            "image/png": "[encoded data removed]"
          },
          "metadata": {}
        }
      ],
      "source": [
        "plt.figure(figsize=(8, 6))\n",
        "box = sns.boxplot(x='Purpose', y='Credit amount', hue='Sex', data=df)\n",
        "box.set_xticklabels(box.get_xticklabels(), rotation=45)\n",
        "fig.subplots_adjust(bottom=0.2)\n",
        "plt.tight_layout()"
      ]
    },
    {
      "cell_type": "markdown",
      "metadata": {
        "id": "KdlZehwf46Wc"
      },
      "source": [
        "<b>Kolom purpose</b> dengan <b>Kolom Duration</b>"
      ]
    },
    {
      "cell_type": "code",
      "execution_count": 27,
      "metadata": {
        "id": "9IZr9Yaz29pV",
        "colab": {
          "base_uri": "https://localhost:8080/",
          "height": 607
        },
        "outputId": "75d28310-ce4a-497a-e9d2-9e03787c9ccd"
      },
      "outputs": [
        {
          "output_type": "display_data",
          "data": {
            "text/plain": [
              "<Figure size 800x600 with 1 Axes>"
            ],
            "image/png": "[encoded data removed]"
          },
          "metadata": {}
        }
      ],
      "source": [
        "plt.figure(figsize=(8, 6))\n",
        "box = sns.boxplot(x='Purpose', y='Duration', hue='Sex', data=df)\n",
        "box.set_xticklabels(box.get_xticklabels(), rotation=45)\n",
        "fig.subplots_adjust(bottom=0.2)\n",
        "plt.tight_layout()"
      ]
    },
    {
      "cell_type": "markdown",
      "metadata": {
        "id": "F6NwnmUZ49F0"
      },
      "source": [
        "<b>Kolom Housing</b> dengan <b>Kolom Credit amount</b>"
      ]
    },
    {
      "cell_type": "code",
      "execution_count": 28,
      "metadata": {
        "id": "6xiD4E_i29jC",
        "colab": {
          "base_uri": "https://localhost:8080/",
          "height": 607
        },
        "outputId": "7c4f3cc0-958b-4311-935e-b614c402bcc3"
      },
      "outputs": [
        {
          "output_type": "display_data",
          "data": {
            "text/plain": [
              "<Figure size 800x600 with 1 Axes>"
            ],
            "image/png": "[encoded data removed]"
          },
          "metadata": {}
        }
      ],
      "source": [
        "plt.figure(figsize=(8, 6))\n",
        "box = sns.boxplot(x='Housing', y='Credit amount', hue='Sex', data=df)\n",
        "box.set_xticklabels(box.get_xticklabels(), rotation=0)\n",
        "fig.subplots_adjust(bottom=0.2)\n",
        "plt.tight_layout()"
      ]
    },
    {
      "cell_type": "markdown",
      "metadata": {
        "id": "XCYRfJq45Uh8"
      },
      "source": [
        "<b>Kolom Housing</b> dengan <b>Kolom Duration</b>"
      ]
    },
    {
      "cell_type": "code",
      "execution_count": 29,
      "metadata": {
        "id": "7AyfBjWs5Pfk",
        "colab": {
          "base_uri": "https://localhost:8080/",
          "height": 607
        },
        "outputId": "43fffeae-c486-44ee-c1b9-b6f035b4f031"
      },
      "outputs": [
        {
          "output_type": "display_data",
          "data": {
            "text/plain": [
              "<Figure size 800x600 with 1 Axes>"
            ],
            "image/png": "[encoded data removed]"
          },
          "metadata": {}
        }
      ],
      "source": [
        "plt.figure(figsize=(8, 6))\n",
        "box = sns.boxplot(x='Housing', y='Duration', hue='Sex', data=df)\n",
        "box.set_xticklabels(box.get_xticklabels(), rotation=0)\n",
        "fig.subplots_adjust(bottom=0.2)\n",
        "plt.tight_layout()"
      ]
    },
    {
      "cell_type": "markdown",
      "metadata": {
        "id": "WgUBFMec5K8_"
      },
      "source": [
        "<b>Kolom Job</b> dengan <b>Kolom Credit amount</b>"
      ]
    },
    {
      "cell_type": "code",
      "execution_count": 30,
      "metadata": {
        "id": "3_vkHdKN37ND",
        "colab": {
          "base_uri": "https://localhost:8080/",
          "height": 607
        },
        "outputId": "7e1cb303-c5fd-4a22-8d26-d6fdaef6c905"
      },
      "outputs": [
        {
          "output_type": "display_data",
          "data": {
            "text/plain": [
              "<Figure size 800x600 with 1 Axes>"
            ],
            "image/png": "[encoded data removed]"
          },
          "metadata": {}
        }
      ],
      "source": [
        "plt.figure(figsize=(8, 6))\n",
        "box = sns.boxplot(x='Job', y='Credit amount', hue='Sex', data=df)\n",
        "box.set_xticklabels(box.get_xticklabels(), rotation=0)\n",
        "fig.subplots_adjust(bottom=0.2)\n",
        "plt.tight_layout()"
      ]
    },
    {
      "cell_type": "markdown",
      "metadata": {
        "id": "4puGc8iD5YDr"
      },
      "source": [
        "<b>Kolom Housing</b> dengan <b>Kolom Duration</b>"
      ]
    },
    {
      "cell_type": "code",
      "execution_count": 31,
      "metadata": {
        "id": "R7B7TzSa5ZHL",
        "colab": {
          "base_uri": "https://localhost:8080/",
          "height": 607
        },
        "outputId": "5272a7bd-4698-4263-cbaa-577fa3c51840"
      },
      "outputs": [
        {
          "output_type": "display_data",
          "data": {
            "text/plain": [
              "<Figure size 800x600 with 1 Axes>"
            ],
            "image/png": "[encoded data removed]"
          },
          "metadata": {}
        }
      ],
      "source": [
        "plt.figure(figsize=(8, 6))\n",
        "box = sns.boxplot(x='Job', y='Duration', hue='Sex', data=df)\n",
        "box.set_xticklabels(box.get_xticklabels(), rotation=0)\n",
        "fig.subplots_adjust(bottom=0.2)\n",
        "plt.tight_layout()"
      ]
    },
    {
      "cell_type": "markdown",
      "metadata": {
        "id": "f_zOgdPRtkgV"
      },
      "source": [
        "#### **Correlation Matrix**"
      ]
    },
    {
      "cell_type": "markdown",
      "metadata": {
        "id": "QX1koYvg6dMc"
      },
      "source": [
        "Pada proses ini saya menggunakan tabel grafik korelasi matriks unutk mengetahui korelasi antara setiap kolom<br>\n",
        "Terdapat kontras warna juga untuk mengetahui korelasi jika semakin berkorelasi warna nya akan semakin terang"
      ]
    },
    {
      "cell_type": "code",
      "execution_count": 32,
      "metadata": {
        "id": "EEtFSBHP5s9r",
        "colab": {
          "base_uri": "https://localhost:8080/",
          "height": 737
        },
        "outputId": "829be98e-e6b7-453c-8594-62f68e05c8fa"
      },
      "outputs": [
        {
          "output_type": "stream",
          "name": "stderr",
          "text": [
            "<ipython-input-32-ee86416b3623>:1: FutureWarning: The default value of numeric_only in DataFrame.corr is deprecated. In a future version, it will default to False. Select only valid columns or specify the value of numeric_only to silence this warning.\n",
            "  corr = df.corr()\n"
          ]
        },
        {
          "output_type": "display_data",
          "data": {
            "text/plain": [
              "<Figure size 1000x800 with 2 Axes>"
            ],
            "image/png": "[encoded data removed]"
          },
          "metadata": {}
        }
      ],
      "source": [
        "corr = df.corr()\n",
        "plt.figure(figsize=(10,8));\n",
        "sns.heatmap(corr, annot=True, fmt='.2f');"
      ]
    },
    {
      "cell_type": "markdown",
      "metadata": {
        "id": "aPXC0D1i7rQd"
      },
      "source": [
        "# Data Prepocessing"
      ]
    },
    {
      "cell_type": "code",
      "execution_count": 33,
      "metadata": {
        "id": "SR7gqWWF-hkG"
      },
      "outputs": [],
      "source": [
        "data_clean = df.copy()"
      ]
    },
    {
      "cell_type": "markdown",
      "metadata": {
        "id": "CriyHRrp-i8v"
      },
      "source": [
        "Duplikasi Dataframe yang Awal"
      ]
    },
    {
      "cell_type": "markdown",
      "metadata": {
        "id": "VVwWlF6i7tj9"
      },
      "source": [
        "### **Normalisasi dengan Scaling Data**"
      ]
    },
    {
      "cell_type": "code",
      "execution_count": 34,
      "metadata": {
        "id": "SAH4IePX-8bU",
        "colab": {
          "base_uri": "https://localhost:8080/",
          "height": 300
        },
        "outputId": "d8c4a4a1-0e3a-4977-9792-659725ae175b"
      },
      "outputs": [
        {
          "output_type": "execute_result",
          "data": {
            "text/plain": [
              "               Age  Credit amount     Duration\n",
              "count  1000.000000    1000.000000  1000.000000\n",
              "mean     35.546000    3271.258000    20.903000\n",
              "std      11.375469    2822.736876    12.058814\n",
              "min      19.000000     250.000000     4.000000\n",
              "25%      27.000000    1365.500000    12.000000\n",
              "50%      33.000000    2319.500000    18.000000\n",
              "75%      42.000000    3972.250000    24.000000\n",
              "max      75.000000   18424.000000    72.000000"
            ],
            "text/html": [
              "\n",
              "  <div id=\"df-c6d61fe8-36ee-4368-a48d-39c692640325\">\n",
              "    <div class=\"colab-df-container\">\n",
              "      <div>\n",
              "<style scoped>\n",
              "    .dataframe tbody tr th:only-of-type {\n",
              "        vertical-align: middle;\n",
              "    }\n",
              "\n",
              "    .dataframe tbody tr th {\n",
              "        vertical-align: top;\n",
              "    }\n",
              "\n",
              "    .dataframe thead th {\n",
              "        text-align: right;\n",
              "    }\n",
              "</style>\n",
              "<table border=\"1\" class=\"dataframe\">\n",
              "  <thead>\n",
              "    <tr style=\"text-align: right;\">\n",
              "      <th></th>\n",
              "      <th>Age</th>\n",
              "      <th>Credit amount</th>\n",
              "      <th>Duration</th>\n",
              "    </tr>\n",
              "  </thead>\n",
              "  <tbody>\n",
              "    <tr>\n",
              "      <th>count</th>\n",
              "      <td>1000.000000</td>\n",
              "      <td>1000.000000</td>\n",
              "      <td>1000.000000</td>\n",
              "    </tr>\n",
              "    <tr>\n",
              "      <th>mean</th>\n",
              "      <td>35.546000</td>\n",
              "      <td>3271.258000</td>\n",
              "      <td>20.903000</td>\n",
              "    </tr>\n",
              "    <tr>\n",
              "      <th>std</th>\n",
              "      <td>11.375469</td>\n",
              "      <td>2822.736876</td>\n",
              "      <td>12.058814</td>\n",
              "    </tr>\n",
              "    <tr>\n",
              "      <th>min</th>\n",
              "      <td>19.000000</td>\n",
              "      <td>250.000000</td>\n",
              "      <td>4.000000</td>\n",
              "    </tr>\n",
              "    <tr>\n",
              "      <th>25%</th>\n",
              "      <td>27.000000</td>\n",
              "      <td>1365.500000</td>\n",
              "      <td>12.000000</td>\n",
              "    </tr>\n",
              "    <tr>\n",
              "      <th>50%</th>\n",
              "      <td>33.000000</td>\n",
              "      <td>2319.500000</td>\n",
              "      <td>18.000000</td>\n",
              "    </tr>\n",
              "    <tr>\n",
              "      <th>75%</th>\n",
              "      <td>42.000000</td>\n",
              "      <td>3972.250000</td>\n",
              "      <td>24.000000</td>\n",
              "    </tr>\n",
              "    <tr>\n",
              "      <th>max</th>\n",
              "      <td>75.000000</td>\n",
              "      <td>18424.000000</td>\n",
              "      <td>72.000000</td>\n",
              "    </tr>\n",
              "  </tbody>\n",
              "</table>\n",
              "</div>\n",
              "      <button class=\"colab-df-convert\" onclick=\"convertToInteractive('df-c6d61fe8-36ee-4368-a48d-39c692640325')\"\n",
              "              title=\"Convert this dataframe to an interactive table.\"\n",
              "              style=\"display:none;\">\n",
              "        \n",
              "  <svg xmlns=\"http://www.w3.org/2000/svg\" height=\"24px\"viewBox=\"0 0 24 24\"\n",
              "       width=\"24px\">\n",
              "    <path d=\"M0 0h24v24H0V0z\" fill=\"none\"/>\n",
              "    <path d=\"M18.56 5.44l.94 2.06.94-2.06 2.06-.94-2.06-.94-.94-2.06-.94 2.06-2.06.94zm-11 1L8.5 8.5l.94-2.06 2.06-.94-2.06-.94L8.5 2.5l-.94 2.06-2.06.94zm10 10l.94 2.06.94-2.06 2.06-.94-2.06-.94-.94-2.06-.94 2.06-2.06.94z\"/><path d=\"M17.41 7.96l-1.37-1.37c-.4-.4-.92-.59-1.43-.59-.52 0-1.04.2-1.43.59L10.3 9.45l-7.72 7.72c-.78.78-.78 2.05 0 2.83L4 21.41c.39.39.9.59 1.41.59.51 0 1.02-.2 1.41-.59l7.78-7.78 2.81-2.81c.8-.78.8-2.07 0-2.86zM5.41 20L4 18.59l7.72-7.72 1.47 1.35L5.41 20z\"/>\n",
              "  </svg>\n",
              "      </button>\n",
              "      \n",
              "  <style>\n",
              "    .colab-df-container {\n",
              "      display:flex;\n",
              "      flex-wrap:wrap;\n",
              "      gap: 12px;\n",
              "    }\n",
              "\n",
              "    .colab-df-convert {\n",
              "      background-color: #E8F0FE;\n",
              "      border: none;\n",
              "      border-radius: 50%;\n",
              "      cursor: pointer;\n",
              "      display: none;\n",
              "      fill: #1967D2;\n",
              "      height: 32px;\n",
              "      padding: 0 0 0 0;\n",
              "      width: 32px;\n",
              "    }\n",
              "\n",
              "    .colab-df-convert:hover {\n",
              "      background-color: #E2EBFA;\n",
              "      box-shadow: 0px 1px 2px rgba(60, 64, 67, 0.3), 0px 1px 3px 1px rgba(60, 64, 67, 0.15);\n",
              "      fill: #174EA6;\n",
              "    }\n",
              "\n",
              "    [theme=dark] .colab-df-convert {\n",
              "      background-color: #3B4455;\n",
              "      fill: #D2E3FC;\n",
              "    }\n",
              "\n",
              "    [theme=dark] .colab-df-convert:hover {\n",
              "      background-color: #434B5C;\n",
              "      box-shadow: 0px 1px 3px 1px rgba(0, 0, 0, 0.15);\n",
              "      filter: drop-shadow(0px 1px 2px rgba(0, 0, 0, 0.3));\n",
              "      fill: #FFFFFF;\n",
              "    }\n",
              "  </style>\n",
              "\n",
              "      <script>\n",
              "        const buttonEl =\n",
              "          document.querySelector('#df-c6d61fe8-36ee-4368-a48d-39c692640325 button.colab-df-convert');\n",
              "        buttonEl.style.display =\n",
              "          google.colab.kernel.accessAllowed ? 'block' : 'none';\n",
              "\n",
              "        async function convertToInteractive(key) {\n",
              "          const element = document.querySelector('#df-c6d61fe8-36ee-4368-a48d-39c692640325');\n",
              "          const dataTable =\n",
              "            await google.colab.kernel.invokeFunction('convertToInteractive',\n",
              "                                                     [key], {});\n",
              "          if (!dataTable) return;\n",
              "\n",
              "          const docLinkHtml = 'Like what you see? Visit the ' +\n",
              "            '<a target=\"_blank\" href=https://colab.research.google.com/notebooks/data_table.ipynb>data table notebook</a>'\n",
              "            + ' to learn more about interactive tables.';\n",
              "          element.innerHTML = '';\n",
              "          dataTable['output_type'] = 'display_data';\n",
              "          await google.colab.output.renderOutput(dataTable, element);\n",
              "          const docLink = document.createElement('div');\n",
              "          docLink.innerHTML = docLinkHtml;\n",
              "          element.appendChild(docLink);\n",
              "        }\n",
              "      </script>\n",
              "    </div>\n",
              "  </div>\n",
              "  "
            ]
          },
          "metadata": {},
          "execution_count": 34
        }
      ],
      "source": [
        "df[numerik].describe()"
      ]
    },
    {
      "cell_type": "code",
      "execution_count": 35,
      "metadata": {
        "id": "IQ3WmoHo7M5k",
        "colab": {
          "base_uri": "https://localhost:8080/",
          "height": 206
        },
        "outputId": "f5699c82-1238-4cd4-856a-8256163979af"
      },
      "outputs": [
        {
          "output_type": "execute_result",
          "data": {
            "text/plain": [
              "   Age     Sex Job Housing Saving accounts Checking account  Credit amount  \\\n",
              "0   67    male   2     own         unknown           little      -0.745131   \n",
              "1   22  female   2     own          little         moderate       0.949817   \n",
              "2   49    male   1     own          little          unknown      -0.416562   \n",
              "3   45    male   2    free          little           little       1.634247   \n",
              "4   53    male   2    free          little           little       0.566664   \n",
              "\n",
              "   Duration              Purpose  \n",
              "0         6             radio/TV  \n",
              "1        48             radio/TV  \n",
              "2        12            education  \n",
              "3        42  furniture/equipment  \n",
              "4        24                  car  "
            ],
            "text/html": [
              "\n",
              "  <div id=\"df-5ae1ef49-1ebb-48f0-a2b0-e823c0d36923\">\n",
              "    <div class=\"colab-df-container\">\n",
              "      <div>\n",
              "<style scoped>\n",
              "    .dataframe tbody tr th:only-of-type {\n",
              "        vertical-align: middle;\n",
              "    }\n",
              "\n",
              "    .dataframe tbody tr th {\n",
              "        vertical-align: top;\n",
              "    }\n",
              "\n",
              "    .dataframe thead th {\n",
              "        text-align: right;\n",
              "    }\n",
              "</style>\n",
              "<table border=\"1\" class=\"dataframe\">\n",
              "  <thead>\n",
              "    <tr style=\"text-align: right;\">\n",
              "      <th></th>\n",
              "      <th>Age</th>\n",
              "      <th>Sex</th>\n",
              "      <th>Job</th>\n",
              "      <th>Housing</th>\n",
              "      <th>Saving accounts</th>\n",
              "      <th>Checking account</th>\n",
              "      <th>Credit amount</th>\n",
              "      <th>Duration</th>\n",
              "      <th>Purpose</th>\n",
              "    </tr>\n",
              "  </thead>\n",
              "  <tbody>\n",
              "    <tr>\n",
              "      <th>0</th>\n",
              "      <td>67</td>\n",
              "      <td>male</td>\n",
              "      <td>2</td>\n",
              "      <td>own</td>\n",
              "      <td>unknown</td>\n",
              "      <td>little</td>\n",
              "      <td>-0.745131</td>\n",
              "      <td>6</td>\n",
              "      <td>radio/TV</td>\n",
              "    </tr>\n",
              "    <tr>\n",
              "      <th>1</th>\n",
              "      <td>22</td>\n",
              "      <td>female</td>\n",
              "      <td>2</td>\n",
              "      <td>own</td>\n",
              "      <td>little</td>\n",
              "      <td>moderate</td>\n",
              "      <td>0.949817</td>\n",
              "      <td>48</td>\n",
              "      <td>radio/TV</td>\n",
              "    </tr>\n",
              "    <tr>\n",
              "      <th>2</th>\n",
              "      <td>49</td>\n",
              "      <td>male</td>\n",
              "      <td>1</td>\n",
              "      <td>own</td>\n",
              "      <td>little</td>\n",
              "      <td>unknown</td>\n",
              "      <td>-0.416562</td>\n",
              "      <td>12</td>\n",
              "      <td>education</td>\n",
              "    </tr>\n",
              "    <tr>\n",
              "      <th>3</th>\n",
              "      <td>45</td>\n",
              "      <td>male</td>\n",
              "      <td>2</td>\n",
              "      <td>free</td>\n",
              "      <td>little</td>\n",
              "      <td>little</td>\n",
              "      <td>1.634247</td>\n",
              "      <td>42</td>\n",
              "      <td>furniture/equipment</td>\n",
              "    </tr>\n",
              "    <tr>\n",
              "      <th>4</th>\n",
              "      <td>53</td>\n",
              "      <td>male</td>\n",
              "      <td>2</td>\n",
              "      <td>free</td>\n",
              "      <td>little</td>\n",
              "      <td>little</td>\n",
              "      <td>0.566664</td>\n",
              "      <td>24</td>\n",
              "      <td>car</td>\n",
              "    </tr>\n",
              "  </tbody>\n",
              "</table>\n",
              "</div>\n",
              "      <button class=\"colab-df-convert\" onclick=\"convertToInteractive('df-5ae1ef49-1ebb-48f0-a2b0-e823c0d36923')\"\n",
              "              title=\"Convert this dataframe to an interactive table.\"\n",
              "              style=\"display:none;\">\n",
              "        \n",
              "  <svg xmlns=\"http://www.w3.org/2000/svg\" height=\"24px\"viewBox=\"0 0 24 24\"\n",
              "       width=\"24px\">\n",
              "    <path d=\"M0 0h24v24H0V0z\" fill=\"none\"/>\n",
              "    <path d=\"M18.56 5.44l.94 2.06.94-2.06 2.06-.94-2.06-.94-.94-2.06-.94 2.06-2.06.94zm-11 1L8.5 8.5l.94-2.06 2.06-.94-2.06-.94L8.5 2.5l-.94 2.06-2.06.94zm10 10l.94 2.06.94-2.06 2.06-.94-2.06-.94-.94-2.06-.94 2.06-2.06.94z\"/><path d=\"M17.41 7.96l-1.37-1.37c-.4-.4-.92-.59-1.43-.59-.52 0-1.04.2-1.43.59L10.3 9.45l-7.72 7.72c-.78.78-.78 2.05 0 2.83L4 21.41c.39.39.9.59 1.41.59.51 0 1.02-.2 1.41-.59l7.78-7.78 2.81-2.81c.8-.78.8-2.07 0-2.86zM5.41 20L4 18.59l7.72-7.72 1.47 1.35L5.41 20z\"/>\n",
              "  </svg>\n",
              "      </button>\n",
              "      \n",
              "  <style>\n",
              "    .colab-df-container {\n",
              "      display:flex;\n",
              "      flex-wrap:wrap;\n",
              "      gap: 12px;\n",
              "    }\n",
              "\n",
              "    .colab-df-convert {\n",
              "      background-color: #E8F0FE;\n",
              "      border: none;\n",
              "      border-radius: 50%;\n",
              "      cursor: pointer;\n",
              "      display: none;\n",
              "      fill: #1967D2;\n",
              "      height: 32px;\n",
              "      padding: 0 0 0 0;\n",
              "      width: 32px;\n",
              "    }\n",
              "\n",
              "    .colab-df-convert:hover {\n",
              "      background-color: #E2EBFA;\n",
              "      box-shadow: 0px 1px 2px rgba(60, 64, 67, 0.3), 0px 1px 3px 1px rgba(60, 64, 67, 0.15);\n",
              "      fill: #174EA6;\n",
              "    }\n",
              "\n",
              "    [theme=dark] .colab-df-convert {\n",
              "      background-color: #3B4455;\n",
              "      fill: #D2E3FC;\n",
              "    }\n",
              "\n",
              "    [theme=dark] .colab-df-convert:hover {\n",
              "      background-color: #434B5C;\n",
              "      box-shadow: 0px 1px 3px 1px rgba(0, 0, 0, 0.15);\n",
              "      filter: drop-shadow(0px 1px 2px rgba(0, 0, 0, 0.3));\n",
              "      fill: #FFFFFF;\n",
              "    }\n",
              "  </style>\n",
              "\n",
              "      <script>\n",
              "        const buttonEl =\n",
              "          document.querySelector('#df-5ae1ef49-1ebb-48f0-a2b0-e823c0d36923 button.colab-df-convert');\n",
              "        buttonEl.style.display =\n",
              "          google.colab.kernel.accessAllowed ? 'block' : 'none';\n",
              "\n",
              "        async function convertToInteractive(key) {\n",
              "          const element = document.querySelector('#df-5ae1ef49-1ebb-48f0-a2b0-e823c0d36923');\n",
              "          const dataTable =\n",
              "            await google.colab.kernel.invokeFunction('convertToInteractive',\n",
              "                                                     [key], {});\n",
              "          if (!dataTable) return;\n",
              "\n",
              "          const docLinkHtml = 'Like what you see? Visit the ' +\n",
              "            '<a target=\"_blank\" href=https://colab.research.google.com/notebooks/data_table.ipynb>data table notebook</a>'\n",
              "            + ' to learn more about interactive tables.';\n",
              "          element.innerHTML = '';\n",
              "          dataTable['output_type'] = 'display_data';\n",
              "          await google.colab.output.renderOutput(dataTable, element);\n",
              "          const docLink = document.createElement('div');\n",
              "          docLink.innerHTML = docLinkHtml;\n",
              "          element.appendChild(docLink);\n",
              "        }\n",
              "      </script>\n",
              "    </div>\n",
              "  </div>\n",
              "  "
            ]
          },
          "metadata": {},
          "execution_count": 35
        }
      ],
      "source": [
        "scaler = StandardScaler()\n",
        "data_clean['Credit amount'] = scaler.fit_transform(data_clean[['Credit amount']])\n",
        "data_clean.head()"
      ]
    },
    {
      "cell_type": "markdown",
      "metadata": {
        "id": "CCE0PQfq-7F0"
      },
      "source": [
        "Melakukan Scaling pada **kolom Credit amount** karena memiliki nilai yang lumayan jauh antara **mean** dengan **median**<br>\n",
        "Kolom tersebut memiliki skala yang berbeda-beda atau rentang yang signifikan"
      ]
    },
    {
      "cell_type": "code",
      "execution_count": 36,
      "metadata": {
        "id": "R44jaGhqkoTk"
      },
      "outputs": [],
      "source": [
        "df_kprototypes = data_clean.copy()"
      ]
    },
    {
      "cell_type": "markdown",
      "metadata": {
        "id": "edFSv9DkkpBD"
      },
      "source": [
        "Duplikasi Dataframe untuk digunakan pada Algoritma KPrototypes nantinya"
      ]
    },
    {
      "cell_type": "markdown",
      "metadata": {
        "id": "6su4kDv7Ibof"
      },
      "source": [
        "### **Encoding dengan One-Hot Encoder dan Label Encoder**"
      ]
    },
    {
      "cell_type": "code",
      "execution_count": 37,
      "metadata": {
        "id": "P1NzDvPiI0RW",
        "colab": {
          "base_uri": "https://localhost:8080/"
        },
        "outputId": "8b2687bd-3a50-49de-f0e2-ca447df8845e"
      },
      "outputs": [
        {
          "output_type": "execute_result",
          "data": {
            "text/plain": [
              "Sex                 2\n",
              "Job                 4\n",
              "Housing             3\n",
              "Saving accounts     5\n",
              "Checking account    4\n",
              "Purpose             8\n",
              "dtype: int64"
            ]
          },
          "metadata": {},
          "execution_count": 37
        }
      ],
      "source": [
        "data_clean[kategorik].nunique()"
      ]
    },
    {
      "cell_type": "markdown",
      "metadata": {
        "id": "M5SsmijbMSk3"
      },
      "source": [
        "Melihat jumlah data unik pada kolom kategorik"
      ]
    },
    {
      "cell_type": "code",
      "execution_count": 38,
      "metadata": {
        "id": "xYZjrjnfXJR7",
        "colab": {
          "base_uri": "https://localhost:8080/"
        },
        "outputId": "a3c19589-c793-472e-e7d1-33375e5f5a83"
      },
      "outputs": [
        {
          "output_type": "stream",
          "name": "stdout",
          "text": [
            "Kolom pada Variabel kolom1: \n",
            " Index(['Sex', 'Job', 'Housing', 'Checking account'], dtype='object') \n",
            "\n",
            "Kolom pada Variabel kolom2: \n",
            " Index(['Saving accounts', 'Purpose'], dtype='object')\n"
          ]
        }
      ],
      "source": [
        "kolom1 = data_clean[kategorik].columns[data_clean[kategorik].nunique() <= 4]\n",
        "kolom2 = data_clean[kategorik].columns[data_clean[kategorik].nunique() > 4]\n",
        "\n",
        "print('Kolom pada Variabel kolom1:', '\\n', kolom1, '\\n')\n",
        "print('Kolom pada Variabel kolom2:', '\\n', kolom2)"
      ]
    },
    {
      "cell_type": "markdown",
      "metadata": {
        "id": "SzGgg0ztXJSC"
      },
      "source": [
        "Memisahkan kolom menjadi 2 bagian\n",
        "- Variabel **kolom1** untuk menyimpan nama kolom dengan jumlah data unik <= 4\n",
        "- Variabel **kolom2** untuk menyimpan nama kolom dengan jumlah data unik > 4"
      ]
    },
    {
      "cell_type": "markdown",
      "metadata": {
        "id": "ZYKAR9ziMorm"
      },
      "source": [
        "Melakukan **Label Encoding** pada kolom dengan jumlah data unik > 3"
      ]
    },
    {
      "cell_type": "code",
      "execution_count": 39,
      "metadata": {
        "id": "TiMA7T1qIrsN",
        "colab": {
          "base_uri": "https://localhost:8080/",
          "height": 434
        },
        "outputId": "14956226-c771-4cdc-b96d-6ed3ba3da2e1"
      },
      "outputs": [
        {
          "output_type": "stream",
          "name": "stderr",
          "text": [
            "/usr/local/lib/python3.10/dist-packages/sklearn/preprocessing/_label.py:116: DataConversionWarning: A column-vector y was passed when a 1d array was expected. Please change the shape of y to (n_samples, ), for example using ravel().\n",
            "  y = column_or_1d(y, warn=True)\n",
            "/usr/local/lib/python3.10/dist-packages/sklearn/preprocessing/_label.py:116: DataConversionWarning: A column-vector y was passed when a 1d array was expected. Please change the shape of y to (n_samples, ), for example using ravel().\n",
            "  y = column_or_1d(y, warn=True)\n",
            "/usr/local/lib/python3.10/dist-packages/sklearn/preprocessing/_label.py:116: DataConversionWarning: A column-vector y was passed when a 1d array was expected. Please change the shape of y to (n_samples, ), for example using ravel().\n",
            "  y = column_or_1d(y, warn=True)\n",
            "/usr/local/lib/python3.10/dist-packages/sklearn/preprocessing/_label.py:116: DataConversionWarning: A column-vector y was passed when a 1d array was expected. Please change the shape of y to (n_samples, ), for example using ravel().\n",
            "  y = column_or_1d(y, warn=True)\n",
            "/usr/local/lib/python3.10/dist-packages/sklearn/preprocessing/_label.py:116: DataConversionWarning: A column-vector y was passed when a 1d array was expected. Please change the shape of y to (n_samples, ), for example using ravel().\n",
            "  y = column_or_1d(y, warn=True)\n",
            "/usr/local/lib/python3.10/dist-packages/sklearn/preprocessing/_label.py:116: DataConversionWarning: A column-vector y was passed when a 1d array was expected. Please change the shape of y to (n_samples, ), for example using ravel().\n",
            "  y = column_or_1d(y, warn=True)\n"
          ]
        },
        {
          "output_type": "execute_result",
          "data": {
            "text/plain": [
              "   Age  Sex  Job  Housing  Saving accounts  Checking account  Credit amount  \\\n",
              "0   67    1    2        1                4                 0      -0.745131   \n",
              "1   22    0    2        1                0                 1       0.949817   \n",
              "2   49    1    1        1                0                 3      -0.416562   \n",
              "3   45    1    2        0                0                 0       1.634247   \n",
              "4   53    1    2        0                0                 0       0.566664   \n",
              "\n",
              "   Duration  Purpose  \n",
              "0         6        5  \n",
              "1        48        5  \n",
              "2        12        3  \n",
              "3        42        4  \n",
              "4        24        1  "
            ],
            "text/html": [
              "\n",
              "  <div id=\"df-bd20dc89-c5d6-4da5-b645-9e518c15cb6f\">\n",
              "    <div class=\"colab-df-container\">\n",
              "      <div>\n",
              "<style scoped>\n",
              "    .dataframe tbody tr th:only-of-type {\n",
              "        vertical-align: middle;\n",
              "    }\n",
              "\n",
              "    .dataframe tbody tr th {\n",
              "        vertical-align: top;\n",
              "    }\n",
              "\n",
              "    .dataframe thead th {\n",
              "        text-align: right;\n",
              "    }\n",
              "</style>\n",
              "<table border=\"1\" class=\"dataframe\">\n",
              "  <thead>\n",
              "    <tr style=\"text-align: right;\">\n",
              "      <th></th>\n",
              "      <th>Age</th>\n",
              "      <th>Sex</th>\n",
              "      <th>Job</th>\n",
              "      <th>Housing</th>\n",
              "      <th>Saving accounts</th>\n",
              "      <th>Checking account</th>\n",
              "      <th>Credit amount</th>\n",
              "      <th>Duration</th>\n",
              "      <th>Purpose</th>\n",
              "    </tr>\n",
              "  </thead>\n",
              "  <tbody>\n",
              "    <tr>\n",
              "      <th>0</th>\n",
              "      <td>67</td>\n",
              "      <td>1</td>\n",
              "      <td>2</td>\n",
              "      <td>1</td>\n",
              "      <td>4</td>\n",
              "      <td>0</td>\n",
              "      <td>-0.745131</td>\n",
              "      <td>6</td>\n",
              "      <td>5</td>\n",
              "    </tr>\n",
              "    <tr>\n",
              "      <th>1</th>\n",
              "      <td>22</td>\n",
              "      <td>0</td>\n",
              "      <td>2</td>\n",
              "      <td>1</td>\n",
              "      <td>0</td>\n",
              "      <td>1</td>\n",
              "      <td>0.949817</td>\n",
              "      <td>48</td>\n",
              "      <td>5</td>\n",
              "    </tr>\n",
              "    <tr>\n",
              "      <th>2</th>\n",
              "      <td>49</td>\n",
              "      <td>1</td>\n",
              "      <td>1</td>\n",
              "      <td>1</td>\n",
              "      <td>0</td>\n",
              "      <td>3</td>\n",
              "      <td>-0.416562</td>\n",
              "      <td>12</td>\n",
              "      <td>3</td>\n",
              "    </tr>\n",
              "    <tr>\n",
              "      <th>3</th>\n",
              "      <td>45</td>\n",
              "      <td>1</td>\n",
              "      <td>2</td>\n",
              "      <td>0</td>\n",
              "      <td>0</td>\n",
              "      <td>0</td>\n",
              "      <td>1.634247</td>\n",
              "      <td>42</td>\n",
              "      <td>4</td>\n",
              "    </tr>\n",
              "    <tr>\n",
              "      <th>4</th>\n",
              "      <td>53</td>\n",
              "      <td>1</td>\n",
              "      <td>2</td>\n",
              "      <td>0</td>\n",
              "      <td>0</td>\n",
              "      <td>0</td>\n",
              "      <td>0.566664</td>\n",
              "      <td>24</td>\n",
              "      <td>1</td>\n",
              "    </tr>\n",
              "  </tbody>\n",
              "</table>\n",
              "</div>\n",
              "      <button class=\"colab-df-convert\" onclick=\"convertToInteractive('df-bd20dc89-c5d6-4da5-b645-9e518c15cb6f')\"\n",
              "              title=\"Convert this dataframe to an interactive table.\"\n",
              "              style=\"display:none;\">\n",
              "        \n",
              "  <svg xmlns=\"http://www.w3.org/2000/svg\" height=\"24px\"viewBox=\"0 0 24 24\"\n",
              "       width=\"24px\">\n",
              "    <path d=\"M0 0h24v24H0V0z\" fill=\"none\"/>\n",
              "    <path d=\"M18.56 5.44l.94 2.06.94-2.06 2.06-.94-2.06-.94-.94-2.06-.94 2.06-2.06.94zm-11 1L8.5 8.5l.94-2.06 2.06-.94-2.06-.94L8.5 2.5l-.94 2.06-2.06.94zm10 10l.94 2.06.94-2.06 2.06-.94-2.06-.94-.94-2.06-.94 2.06-2.06.94z\"/><path d=\"M17.41 7.96l-1.37-1.37c-.4-.4-.92-.59-1.43-.59-.52 0-1.04.2-1.43.59L10.3 9.45l-7.72 7.72c-.78.78-.78 2.05 0 2.83L4 21.41c.39.39.9.59 1.41.59.51 0 1.02-.2 1.41-.59l7.78-7.78 2.81-2.81c.8-.78.8-2.07 0-2.86zM5.41 20L4 18.59l7.72-7.72 1.47 1.35L5.41 20z\"/>\n",
              "  </svg>\n",
              "      </button>\n",
              "      \n",
              "  <style>\n",
              "    .colab-df-container {\n",
              "      display:flex;\n",
              "      flex-wrap:wrap;\n",
              "      gap: 12px;\n",
              "    }\n",
              "\n",
              "    .colab-df-convert {\n",
              "      background-color: #E8F0FE;\n",
              "      border: none;\n",
              "      border-radius: 50%;\n",
              "      cursor: pointer;\n",
              "      display: none;\n",
              "      fill: #1967D2;\n",
              "      height: 32px;\n",
              "      padding: 0 0 0 0;\n",
              "      width: 32px;\n",
              "    }\n",
              "\n",
              "    .colab-df-convert:hover {\n",
              "      background-color: #E2EBFA;\n",
              "      box-shadow: 0px 1px 2px rgba(60, 64, 67, 0.3), 0px 1px 3px 1px rgba(60, 64, 67, 0.15);\n",
              "      fill: #174EA6;\n",
              "    }\n",
              "\n",
              "    [theme=dark] .colab-df-convert {\n",
              "      background-color: #3B4455;\n",
              "      fill: #D2E3FC;\n",
              "    }\n",
              "\n",
              "    [theme=dark] .colab-df-convert:hover {\n",
              "      background-color: #434B5C;\n",
              "      box-shadow: 0px 1px 3px 1px rgba(0, 0, 0, 0.15);\n",
              "      filter: drop-shadow(0px 1px 2px rgba(0, 0, 0, 0.3));\n",
              "      fill: #FFFFFF;\n",
              "    }\n",
              "  </style>\n",
              "\n",
              "      <script>\n",
              "        const buttonEl =\n",
              "          document.querySelector('#df-bd20dc89-c5d6-4da5-b645-9e518c15cb6f button.colab-df-convert');\n",
              "        buttonEl.style.display =\n",
              "          google.colab.kernel.accessAllowed ? 'block' : 'none';\n",
              "\n",
              "        async function convertToInteractive(key) {\n",
              "          const element = document.querySelector('#df-bd20dc89-c5d6-4da5-b645-9e518c15cb6f');\n",
              "          const dataTable =\n",
              "            await google.colab.kernel.invokeFunction('convertToInteractive',\n",
              "                                                     [key], {});\n",
              "          if (!dataTable) return;\n",
              "\n",
              "          const docLinkHtml = 'Like what you see? Visit the ' +\n",
              "            '<a target=\"_blank\" href=https://colab.research.google.com/notebooks/data_table.ipynb>data table notebook</a>'\n",
              "            + ' to learn more about interactive tables.';\n",
              "          element.innerHTML = '';\n",
              "          dataTable['output_type'] = 'display_data';\n",
              "          await google.colab.output.renderOutput(dataTable, element);\n",
              "          const docLink = document.createElement('div');\n",
              "          docLink.innerHTML = docLinkHtml;\n",
              "          element.appendChild(docLink);\n",
              "        }\n",
              "      </script>\n",
              "    </div>\n",
              "  </div>\n",
              "  "
            ]
          },
          "metadata": {},
          "execution_count": 39
        }
      ],
      "source": [
        "label_encoder = LabelEncoder()\n",
        "\n",
        "for kolom in kategorik:\n",
        "    data_clean[kolom] = label_encoder.fit_transform(data_clean[[kolom]])\n",
        "\n",
        "data_clean.head()"
      ]
    },
    {
      "cell_type": "markdown",
      "metadata": {
        "id": "j1iLTNllMv9y"
      },
      "source": [
        "Melakukan **Get Dummies** atau **One-Hot Encoding** pada kolom dengan jumlah data unik <= 4 yaitu\n",
        "- Kolom **Sex**\n",
        "- Kolom **Job**\n",
        "- Kolom **Housing**\n",
        "- Kolom **Checking account**"
      ]
    },
    {
      "cell_type": "code",
      "execution_count": 40,
      "metadata": {
        "id": "Ecpg4aE3LawK",
        "colab": {
          "base_uri": "https://localhost:8080/",
          "height": 287
        },
        "outputId": "74681c86-3ccf-4c17-c2aa-6100ab67cbd3"
      },
      "outputs": [
        {
          "output_type": "execute_result",
          "data": {
            "text/plain": [
              "   Age  Saving accounts  Credit amount  Duration  Purpose  Sex_0  Sex_1  \\\n",
              "0   67                4      -0.745131         6        5      0      1   \n",
              "1   22                0       0.949817        48        5      1      0   \n",
              "2   49                0      -0.416562        12        3      0      1   \n",
              "3   45                0       1.634247        42        4      0      1   \n",
              "4   53                0       0.566664        24        1      0      1   \n",
              "\n",
              "   Job_0  Job_1  Job_2  Job_3  Housing_0  Housing_1  Housing_2  \\\n",
              "0      0      0      1      0          0          1          0   \n",
              "1      0      0      1      0          0          1          0   \n",
              "2      0      1      0      0          0          1          0   \n",
              "3      0      0      1      0          1          0          0   \n",
              "4      0      0      1      0          1          0          0   \n",
              "\n",
              "   Checking account_0  Checking account_1  Checking account_2  \\\n",
              "0                   1                   0                   0   \n",
              "1                   0                   1                   0   \n",
              "2                   0                   0                   0   \n",
              "3                   1                   0                   0   \n",
              "4                   1                   0                   0   \n",
              "\n",
              "   Checking account_3  \n",
              "0                   0  \n",
              "1                   0  \n",
              "2                   1  \n",
              "3                   0  \n",
              "4                   0  "
            ],
            "text/html": [
              "\n",
              "  <div id=\"df-698234e2-085f-4397-8b0a-b344b79a55dd\">\n",
              "    <div class=\"colab-df-container\">\n",
              "      <div>\n",
              "<style scoped>\n",
              "    .dataframe tbody tr th:only-of-type {\n",
              "        vertical-align: middle;\n",
              "    }\n",
              "\n",
              "    .dataframe tbody tr th {\n",
              "        vertical-align: top;\n",
              "    }\n",
              "\n",
              "    .dataframe thead th {\n",
              "        text-align: right;\n",
              "    }\n",
              "</style>\n",
              "<table border=\"1\" class=\"dataframe\">\n",
              "  <thead>\n",
              "    <tr style=\"text-align: right;\">\n",
              "      <th></th>\n",
              "      <th>Age</th>\n",
              "      <th>Saving accounts</th>\n",
              "      <th>Credit amount</th>\n",
              "      <th>Duration</th>\n",
              "      <th>Purpose</th>\n",
              "      <th>Sex_0</th>\n",
              "      <th>Sex_1</th>\n",
              "      <th>Job_0</th>\n",
              "      <th>Job_1</th>\n",
              "      <th>Job_2</th>\n",
              "      <th>Job_3</th>\n",
              "      <th>Housing_0</th>\n",
              "      <th>Housing_1</th>\n",
              "      <th>Housing_2</th>\n",
              "      <th>Checking account_0</th>\n",
              "      <th>Checking account_1</th>\n",
              "      <th>Checking account_2</th>\n",
              "      <th>Checking account_3</th>\n",
              "    </tr>\n",
              "  </thead>\n",
              "  <tbody>\n",
              "    <tr>\n",
              "      <th>0</th>\n",
              "      <td>67</td>\n",
              "      <td>4</td>\n",
              "      <td>-0.745131</td>\n",
              "      <td>6</td>\n",
              "      <td>5</td>\n",
              "      <td>0</td>\n",
              "      <td>1</td>\n",
              "      <td>0</td>\n",
              "      <td>0</td>\n",
              "      <td>1</td>\n",
              "      <td>0</td>\n",
              "      <td>0</td>\n",
              "      <td>1</td>\n",
              "      <td>0</td>\n",
              "      <td>1</td>\n",
              "      <td>0</td>\n",
              "      <td>0</td>\n",
              "      <td>0</td>\n",
              "    </tr>\n",
              "    <tr>\n",
              "      <th>1</th>\n",
              "      <td>22</td>\n",
              "      <td>0</td>\n",
              "      <td>0.949817</td>\n",
              "      <td>48</td>\n",
              "      <td>5</td>\n",
              "      <td>1</td>\n",
              "      <td>0</td>\n",
              "      <td>0</td>\n",
              "      <td>0</td>\n",
              "      <td>1</td>\n",
              "      <td>0</td>\n",
              "      <td>0</td>\n",
              "      <td>1</td>\n",
              "      <td>0</td>\n",
              "      <td>0</td>\n",
              "      <td>1</td>\n",
              "      <td>0</td>\n",
              "      <td>0</td>\n",
              "    </tr>\n",
              "    <tr>\n",
              "      <th>2</th>\n",
              "      <td>49</td>\n",
              "      <td>0</td>\n",
              "      <td>-0.416562</td>\n",
              "      <td>12</td>\n",
              "      <td>3</td>\n",
              "      <td>0</td>\n",
              "      <td>1</td>\n",
              "      <td>0</td>\n",
              "      <td>1</td>\n",
              "      <td>0</td>\n",
              "      <td>0</td>\n",
              "      <td>0</td>\n",
              "      <td>1</td>\n",
              "      <td>0</td>\n",
              "      <td>0</td>\n",
              "      <td>0</td>\n",
              "      <td>0</td>\n",
              "      <td>1</td>\n",
              "    </tr>\n",
              "    <tr>\n",
              "      <th>3</th>\n",
              "      <td>45</td>\n",
              "      <td>0</td>\n",
              "      <td>1.634247</td>\n",
              "      <td>42</td>\n",
              "      <td>4</td>\n",
              "      <td>0</td>\n",
              "      <td>1</td>\n",
              "      <td>0</td>\n",
              "      <td>0</td>\n",
              "      <td>1</td>\n",
              "      <td>0</td>\n",
              "      <td>1</td>\n",
              "      <td>0</td>\n",
              "      <td>0</td>\n",
              "      <td>1</td>\n",
              "      <td>0</td>\n",
              "      <td>0</td>\n",
              "      <td>0</td>\n",
              "    </tr>\n",
              "    <tr>\n",
              "      <th>4</th>\n",
              "      <td>53</td>\n",
              "      <td>0</td>\n",
              "      <td>0.566664</td>\n",
              "      <td>24</td>\n",
              "      <td>1</td>\n",
              "      <td>0</td>\n",
              "      <td>1</td>\n",
              "      <td>0</td>\n",
              "      <td>0</td>\n",
              "      <td>1</td>\n",
              "      <td>0</td>\n",
              "      <td>1</td>\n",
              "      <td>0</td>\n",
              "      <td>0</td>\n",
              "      <td>1</td>\n",
              "      <td>0</td>\n",
              "      <td>0</td>\n",
              "      <td>0</td>\n",
              "    </tr>\n",
              "  </tbody>\n",
              "</table>\n",
              "</div>\n",
              "      <button class=\"colab-df-convert\" onclick=\"convertToInteractive('df-698234e2-085f-4397-8b0a-b344b79a55dd')\"\n",
              "              title=\"Convert this dataframe to an interactive table.\"\n",
              "              style=\"display:none;\">\n",
              "        \n",
              "  <svg xmlns=\"http://www.w3.org/2000/svg\" height=\"24px\"viewBox=\"0 0 24 24\"\n",
              "       width=\"24px\">\n",
              "    <path d=\"M0 0h24v24H0V0z\" fill=\"none\"/>\n",
              "    <path d=\"M18.56 5.44l.94 2.06.94-2.06 2.06-.94-2.06-.94-.94-2.06-.94 2.06-2.06.94zm-11 1L8.5 8.5l.94-2.06 2.06-.94-2.06-.94L8.5 2.5l-.94 2.06-2.06.94zm10 10l.94 2.06.94-2.06 2.06-.94-2.06-.94-.94-2.06-.94 2.06-2.06.94z\"/><path d=\"M17.41 7.96l-1.37-1.37c-.4-.4-.92-.59-1.43-.59-.52 0-1.04.2-1.43.59L10.3 9.45l-7.72 7.72c-.78.78-.78 2.05 0 2.83L4 21.41c.39.39.9.59 1.41.59.51 0 1.02-.2 1.41-.59l7.78-7.78 2.81-2.81c.8-.78.8-2.07 0-2.86zM5.41 20L4 18.59l7.72-7.72 1.47 1.35L5.41 20z\"/>\n",
              "  </svg>\n",
              "      </button>\n",
              "      \n",
              "  <style>\n",
              "    .colab-df-container {\n",
              "      display:flex;\n",
              "      flex-wrap:wrap;\n",
              "      gap: 12px;\n",
              "    }\n",
              "\n",
              "    .colab-df-convert {\n",
              "      background-color: #E8F0FE;\n",
              "      border: none;\n",
              "      border-radius: 50%;\n",
              "      cursor: pointer;\n",
              "      display: none;\n",
              "      fill: #1967D2;\n",
              "      height: 32px;\n",
              "      padding: 0 0 0 0;\n",
              "      width: 32px;\n",
              "    }\n",
              "\n",
              "    .colab-df-convert:hover {\n",
              "      background-color: #E2EBFA;\n",
              "      box-shadow: 0px 1px 2px rgba(60, 64, 67, 0.3), 0px 1px 3px 1px rgba(60, 64, 67, 0.15);\n",
              "      fill: #174EA6;\n",
              "    }\n",
              "\n",
              "    [theme=dark] .colab-df-convert {\n",
              "      background-color: #3B4455;\n",
              "      fill: #D2E3FC;\n",
              "    }\n",
              "\n",
              "    [theme=dark] .colab-df-convert:hover {\n",
              "      background-color: #434B5C;\n",
              "      box-shadow: 0px 1px 3px 1px rgba(0, 0, 0, 0.15);\n",
              "      filter: drop-shadow(0px 1px 2px rgba(0, 0, 0, 0.3));\n",
              "      fill: #FFFFFF;\n",
              "    }\n",
              "  </style>\n",
              "\n",
              "      <script>\n",
              "        const buttonEl =\n",
              "          document.querySelector('#df-698234e2-085f-4397-8b0a-b344b79a55dd button.colab-df-convert');\n",
              "        buttonEl.style.display =\n",
              "          google.colab.kernel.accessAllowed ? 'block' : 'none';\n",
              "\n",
              "        async function convertToInteractive(key) {\n",
              "          const element = document.querySelector('#df-698234e2-085f-4397-8b0a-b344b79a55dd');\n",
              "          const dataTable =\n",
              "            await google.colab.kernel.invokeFunction('convertToInteractive',\n",
              "                                                     [key], {});\n",
              "          if (!dataTable) return;\n",
              "\n",
              "          const docLinkHtml = 'Like what you see? Visit the ' +\n",
              "            '<a target=\"_blank\" href=https://colab.research.google.com/notebooks/data_table.ipynb>data table notebook</a>'\n",
              "            + ' to learn more about interactive tables.';\n",
              "          element.innerHTML = '';\n",
              "          dataTable['output_type'] = 'display_data';\n",
              "          await google.colab.output.renderOutput(dataTable, element);\n",
              "          const docLink = document.createElement('div');\n",
              "          docLink.innerHTML = docLinkHtml;\n",
              "          element.appendChild(docLink);\n",
              "        }\n",
              "      </script>\n",
              "    </div>\n",
              "  </div>\n",
              "  "
            ]
          },
          "metadata": {},
          "execution_count": 40
        }
      ],
      "source": [
        "data_clean = pd.get_dummies(data_clean, columns=kolom1, dtype=int)\n",
        "data_clean.head()"
      ]
    },
    {
      "cell_type": "markdown",
      "metadata": {
        "id": "UL0G_CEDM06n"
      },
      "source": [
        "Menggunakan Label Encoding pada Kolom **Saving accounts** dan **Purpose**<br>\n",
        "Karena jumlah data unik pada kolom tersebut cukup banyak atau lebih dari 4<br>\n",
        "Apabila menggunakan One-Hot Encoding akan menyebabkan banyak kolom baru yang terbentuk yang membuat dataset menjadi tidak efisien"
      ]
    },
    {
      "cell_type": "code",
      "execution_count": 41,
      "metadata": {
        "id": "H0R5Tps3W8t5",
        "colab": {
          "base_uri": "https://localhost:8080/"
        },
        "outputId": "aa55e75d-8d38-41b8-e409-665470341c40"
      },
      "outputs": [
        {
          "output_type": "execute_result",
          "data": {
            "text/plain": [
              "Age                     int64\n",
              "Saving accounts         int64\n",
              "Credit amount         float64\n",
              "Duration                int64\n",
              "Purpose                 int64\n",
              "Sex_0                   int64\n",
              "Sex_1                   int64\n",
              "Job_0                   int64\n",
              "Job_1                   int64\n",
              "Job_2                   int64\n",
              "Job_3                   int64\n",
              "Housing_0               int64\n",
              "Housing_1               int64\n",
              "Housing_2               int64\n",
              "Checking account_0      int64\n",
              "Checking account_1      int64\n",
              "Checking account_2      int64\n",
              "Checking account_3      int64\n",
              "dtype: object"
            ]
          },
          "metadata": {},
          "execution_count": 41
        }
      ],
      "source": [
        "data_clean.dtypes"
      ]
    },
    {
      "cell_type": "markdown",
      "metadata": {
        "id": "jlaitFHdBaYs"
      },
      "source": [
        "# Model Preparation"
      ]
    },
    {
      "cell_type": "markdown",
      "metadata": {
        "id": "aYb046GN46gC"
      },
      "source": [
        "#### **Menyimpan Dataset yang sudah bersih**"
      ]
    },
    {
      "cell_type": "code",
      "execution_count": 42,
      "metadata": {
        "id": "a-K9VEBc5QKy"
      },
      "outputs": [],
      "source": [
        "data_clean.to_csv(path_or_buf='/content/drive/MyDrive/Colab Notebooks/Machine Learning/Clustering/Bank Customer Segmentation/clean_data_preprocessing.csv', index=False)\n",
        "df.to_csv(path_or_buf='/content/drive/MyDrive/Colab Notebooks/Machine Learning/Clustering/Bank Customer Segmentation/clean_data.csv', index=False)"
      ]
    },
    {
      "cell_type": "markdown",
      "metadata": {
        "id": "Smx3aqDN5h8a"
      },
      "source": [
        "Menyimpan data dengan format CSV<br>\n",
        "- Dengan nama **clean_data.csv** untuk menyimpan data dari **variable df**<br>\n",
        "- Dengan nama **clean_data_preprocessing.csv** untuk menyimpan data dari **variable data_clean**"
      ]
    },
    {
      "cell_type": "markdown",
      "metadata": {
        "id": "seWF58V05ChL"
      },
      "source": [
        "### **Data Preparation**"
      ]
    },
    {
      "cell_type": "code",
      "execution_count": 43,
      "metadata": {
        "id": "5DBlp1hsFVQ1",
        "colab": {
          "base_uri": "https://localhost:8080/"
        },
        "outputId": "c4de3672-e0b8-4f27-f051-ad1b08180d75"
      },
      "outputs": [
        {
          "output_type": "stream",
          "name": "stdout",
          "text": [
            "Kolom pada Dataset \n",
            " Index(['Age', 'Saving accounts', 'Credit amount', 'Duration', 'Purpose',\n",
            "       'Sex_0', 'Sex_1', 'Job_0', 'Job_1', 'Job_2', 'Job_3', 'Housing_0',\n",
            "       'Housing_1', 'Housing_2', 'Checking account_0', 'Checking account_1',\n",
            "       'Checking account_2', 'Checking account_3'],\n",
            "      dtype='object') \n",
            "\n",
            "Kolom Kategorik \n",
            " Index(['Sex', 'Job', 'Housing', 'Saving accounts', 'Checking account',\n",
            "       'Purpose'],\n",
            "      dtype='object') \n",
            "\n",
            "Kolom Kategorik \n",
            " Index(['Age', 'Credit amount', 'Duration'], dtype='object')\n"
          ]
        }
      ],
      "source": [
        "print('Kolom pada Dataset', '\\n', data_clean.columns, '\\n')\n",
        "print('Kolom Kategorik', '\\n', kategorik, '\\n')\n",
        "print('Kolom Kategorik', '\\n', numerik)"
      ]
    },
    {
      "cell_type": "code",
      "execution_count": 44,
      "metadata": {
        "id": "JcwBPtDkFeDL",
        "colab": {
          "base_uri": "https://localhost:8080/",
          "height": 36
        },
        "outputId": "787761c3-d1e0-4f94-ead3-3639fc7ca7bb"
      },
      "outputs": [
        {
          "output_type": "execute_result",
          "data": {
            "text/plain": [
              "'Sex|Job|Housing|Saving accounts|Checking account|Purpose'"
            ],
            "application/vnd.google.colaboratory.intrinsic+json": {
              "type": "string"
            }
          },
          "metadata": {},
          "execution_count": 44
        }
      ],
      "source": [
        "split_kategorik = '|'.join(kategorik)\n",
        "kolom_kategorik = split_kategorik\n",
        "kolom1 = data_clean.columns\n",
        "kolom2 = df.columns\n",
        "kolom_kategorik"
      ]
    },
    {
      "cell_type": "code",
      "execution_count": 45,
      "metadata": {
        "id": "5LT3RlqAHsck",
        "colab": {
          "base_uri": "https://localhost:8080/"
        },
        "outputId": "04c83189-405c-402a-8222-50f8c938bb70"
      },
      "outputs": [
        {
          "output_type": "execute_result",
          "data": {
            "text/plain": [
              "[1, 4, 5, 6, 7, 8, 9, 10, 11, 12, 13, 14, 15, 16, 17]"
            ]
          },
          "metadata": {},
          "execution_count": 45
        }
      ],
      "source": [
        "indeks_kategorik = [i for i, nama_kolom in enumerate(kolom1) if re.search(kolom_kategorik, nama_kolom)]\n",
        "indeks_kategorik"
      ]
    },
    {
      "cell_type": "markdown",
      "metadata": {
        "id": "MECXl1rxyniK"
      },
      "source": [
        "Mencari Index Kolom Kategorik menggunakan Regular Expression<br>\n",
        "Kolom kategorik berada pada index **[1, 4, 5, 6, 7, 8, 9, 10, 11, 12, 13, 14, 15, 16, 17]**"
      ]
    },
    {
      "cell_type": "code",
      "execution_count": 46,
      "metadata": {
        "id": "sxpqsjm1d7QF",
        "colab": {
          "base_uri": "https://localhost:8080/"
        },
        "outputId": "6dc2be92-798b-4023-f79f-4e9a133a9bcb"
      },
      "outputs": [
        {
          "output_type": "execute_result",
          "data": {
            "text/plain": [
              "[1, 2, 3, 4, 5, 8]"
            ]
          },
          "metadata": {},
          "execution_count": 46
        }
      ],
      "source": [
        "indeks_kategorik2 = [i for i, nama_kolom in enumerate(kolom2) if re.search(kolom_kategorik, nama_kolom)]\n",
        "indeks_kategorik2"
      ]
    },
    {
      "cell_type": "markdown",
      "metadata": {
        "id": "oimJ5Ct_fIY3"
      },
      "source": [
        "**Membuat Dataframe Baru** untuk menampung Hasil Evaluasi terbaik"
      ]
    },
    {
      "cell_type": "code",
      "execution_count": 47,
      "metadata": {
        "id": "mpn3iRaa5hns"
      },
      "outputs": [],
      "source": [
        "hasil = pd.DataFrame(columns=['Algoritma', 'Jumlah Klaster', 'Jenis Evaluasi', 'Hasil Score'])"
      ]
    },
    {
      "cell_type": "markdown",
      "metadata": {
        "id": "4-n-L_khDnzc"
      },
      "source": [
        "### **Mencari Jumlah Cluster**\n",
        "Menggunakan Sillhoutte Score dan Metode Ellbow "
      ]
    },
    {
      "cell_type": "markdown",
      "metadata": {
        "id": "aW0PfzsqBe7U"
      },
      "source": [
        "Pemodelan menggunakan algoritma \n",
        "- **K-Prototypes**\n",
        "- **Agglomerative Clustering**\n",
        "- **K-Means**"
      ]
    },
    {
      "cell_type": "markdown",
      "metadata": {
        "id": "MYYnyhfdN3pB"
      },
      "source": [
        "#### Menggunakan **Metode Elbow**"
      ]
    },
    {
      "cell_type": "markdown",
      "metadata": {
        "id": "WZd6qF0_1tCP"
      },
      "source": [
        "Metode ini melibatkan plot nilai inersia sebagai fungsi dari jumlah klaster yang akan digunakan<br>\n",
        "Inersia mengukur sejauh mana titik-titik dalam satu klaster berdekatan satu sama lain<br><br>\n",
        "**Pada plot, kita akan mencari \"siku\" atau \"elbow\" di kurva inersia**, yang menunjukkan penurunan yang signifikan dalam peningkatan inersia<br>\n",
        "Jumlah klaster di titik tersebut dapat dipilih sebagai jumlah klaster yang optimal"
      ]
    },
    {
      "cell_type": "markdown",
      "metadata": {
        "id": "m9GriZk8Zcw8"
      },
      "source": [
        "Algoritma **K-Means** Clustering"
      ]
    },
    {
      "cell_type": "code",
      "execution_count": 48,
      "metadata": {
        "id": "YCUPAbOrN_WW",
        "colab": {
          "base_uri": "https://localhost:8080/",
          "height": 466
        },
        "outputId": "07a89591-7392-4bfe-a3df-3136ab7674ed"
      },
      "outputs": [
        {
          "output_type": "execute_result",
          "data": {
            "text/plain": [
              "Text(0.5, 0, 'Jumlah Klaster')"
            ]
          },
          "metadata": {},
          "execution_count": 48
        },
        {
          "output_type": "display_data",
          "data": {
            "text/plain": [
              "<Figure size 640x480 with 1 Axes>"
            ],
            "image/png": "[encoded data removed]"
          },
          "metadata": {}
        }
      ],
      "source": [
        "klaster = range(1, 11)\n",
        "scores = []\n",
        "\n",
        "for k in klaster:\n",
        "    kmeans = KMeans(n_clusters=k, random_state=42, n_init=50)\n",
        "    member = kmeans.fit_predict(data_clean, y=None) \n",
        "    scores.append(kmeans.inertia_)\n",
        "\n",
        "plt.figure()\n",
        "plt.plot(klaster, scores, marker='o')\n",
        "plt.ylabel('Inertia')\n",
        "plt.xlabel('Jumlah Klaster')"
      ]
    },
    {
      "cell_type": "markdown",
      "metadata": {
        "id": "-USQCyADVvC5"
      },
      "source": [
        "**Jumlah klaster yang terbentuk adalah 3**"
      ]
    },
    {
      "cell_type": "markdown",
      "metadata": {
        "id": "WtFkZFycFEIt"
      },
      "source": [
        "#### Menggunakan **Sillhoutte Score**"
      ]
    },
    {
      "cell_type": "markdown",
      "metadata": {
        "id": "bqrFyU2j1cgB"
      },
      "source": [
        "Metrik ini mengukur sejauh mana setiap sampel dalam suatu klaster berada dalam klaster yang sesuai dibandingkan dengan klaster lainnya<br>\n",
        "Rentang nilai Silhouette Score adalah -1 hingga 1, di mana **nilai yang lebih tinggi** menunjukkan **klaster yang lebih baik** terpisah dan lebih kompak"
      ]
    },
    {
      "cell_type": "markdown",
      "metadata": {
        "id": "NHx_Cp3XZYl8"
      },
      "source": [
        "Algoritma **K-Means** Clustering"
      ]
    },
    {
      "cell_type": "code",
      "execution_count": 49,
      "metadata": {
        "colab": {
          "base_uri": "https://localhost:8080/"
        },
        "id": "ARpsoBekDReC",
        "outputId": "0a834864-775f-41a4-9cfd-b46ec2be8ee8"
      },
      "outputs": [
        {
          "output_type": "stream",
          "name": "stdout",
          "text": [
            "Jumlah Klaster = 2, Silhouette Score = 0.4030772458971211\n",
            "Jumlah Klaster = 3, Silhouette Score = 0.4198685783488957\n",
            "Jumlah Klaster = 4, Silhouette Score = 0.3250987201512564\n",
            "Jumlah Klaster = 5, Silhouette Score = 0.3204883686283588\n",
            "Jumlah Klaster = 6, Silhouette Score = 0.3244241288549582\n",
            "Jumlah Klaster = 7, Silhouette Score = 0.3269142003182245\n",
            "Jumlah Klaster = 8, Silhouette Score = 0.33224603462350516\n",
            "Jumlah Klaster = 9, Silhouette Score = 0.326257120830957\n",
            "Jumlah Klaster = 10, Silhouette Score = 0.3182125904496827\n"
          ]
        }
      ],
      "source": [
        "klaster = range(2, 11)\n",
        "scores = []\n",
        "\n",
        "for k in klaster:\n",
        "    # Terapkan algoritma k-prototypes\n",
        "    kmeans = KMeans(n_clusters=k, random_state=42, n_init=50)\n",
        "    member = kmeans.fit_predict(data_clean, y=None) \n",
        "\n",
        "    # Hitung Silhouette Score\n",
        "    silhouette_avg = silhouette_score(data_clean, member)\n",
        "    \n",
        "    # Simpan nilai Silhouette Score\n",
        "    scores.append(silhouette_avg)\n",
        "\n",
        "# Menampilkan hasil\n",
        "for k, score in zip(klaster, scores):\n",
        "    print(f\"Jumlah Klaster = {k}, Silhouette Score = {score}\")"
      ]
    },
    {
      "cell_type": "markdown",
      "metadata": {
        "id": "5VUA8Nip1SSJ"
      },
      "source": [
        "**Jumlah klaster yang terbaik adalah 3**<br>\n",
        "Karena menghasilkan nilai Silhoutte Score yang tertinggi yaitu : 0,4199"
      ]
    },
    {
      "cell_type": "code",
      "execution_count": 50,
      "metadata": {
        "colab": {
          "base_uri": "https://localhost:8080/"
        },
        "id": "1xHepXDVgGI8",
        "outputId": "89985678-40b9-485d-ca2f-7a8ea74a0519"
      },
      "outputs": [
        {
          "output_type": "stream",
          "name": "stderr",
          "text": [
            "<ipython-input-50-74fe05369027>:1: FutureWarning: The frame.append method is deprecated and will be removed from pandas in a future version. Use pandas.concat instead.\n",
            "  hasil = hasil.append({'Algoritma': 'KMeans', 'Jumlah Klaster': 3, 'Jenis Evaluasi': 'Silhoutte Score', 'Hasil Score': max(scores)}, ignore_index=True)\n"
          ]
        }
      ],
      "source": [
        "hasil = hasil.append({'Algoritma': 'KMeans', 'Jumlah Klaster': 3, 'Jenis Evaluasi': 'Silhoutte Score', 'Hasil Score': max(scores)}, ignore_index=True)"
      ]
    },
    {
      "cell_type": "markdown",
      "metadata": {
        "id": "E5CcoMO6Zej8"
      },
      "source": [
        "Algoritma **K-Prototypes** Clustering dengan Data Numerik"
      ]
    },
    {
      "cell_type": "code",
      "execution_count": 51,
      "metadata": {
        "id": "jiqW0sMJemYq",
        "colab": {
          "base_uri": "https://localhost:8080/"
        },
        "outputId": "492e48e1-a74a-4bbb-8d2e-738b0b9f673a"
      },
      "outputs": [
        {
          "output_type": "stream",
          "name": "stdout",
          "text": [
            "Jumlah Klaster = 2, Silhouette Score = 0.4030772458971211\n",
            "Jumlah Klaster = 3, Silhouette Score = 0.41973956820871716\n",
            "Jumlah Klaster = 4, Silhouette Score = 0.3250987201512564\n",
            "Jumlah Klaster = 5, Silhouette Score = 0.3241013230142231\n",
            "Jumlah Klaster = 6, Silhouette Score = 0.32462216722409387\n",
            "Jumlah Klaster = 7, Silhouette Score = 0.3268754427508916\n",
            "Jumlah Klaster = 8, Silhouette Score = 0.3285808531385658\n",
            "Jumlah Klaster = 9, Silhouette Score = 0.32377684301458215\n",
            "Jumlah Klaster = 10, Silhouette Score = 0.31765120282376\n"
          ]
        }
      ],
      "source": [
        "klaster = range(2, 11)\n",
        "scores = []\n",
        "\n",
        "for k in klaster:\n",
        "    # Terapkan algoritma k-prototypes\n",
        "    kprototypes = KPrototypes(n_clusters=k, n_init=50)\n",
        "    member = kprototypes.fit_predict(data_clean, y=None, categorical=indeks_kategorik)  # Menggunakan indeks kolom kategorikal\n",
        "    \n",
        "    # Hitung Silhouette Score\n",
        "    silhouette_avg = silhouette_score(data_clean, member)\n",
        "    \n",
        "    # Simpan nilai Silhouette Score\n",
        "    scores.append(silhouette_avg)\n",
        "\n",
        "# Menampilkan hasil\n",
        "for k, score in zip(klaster, scores):\n",
        "    print(f\"Jumlah Klaster = {k}, Silhouette Score = {score}\")"
      ]
    },
    {
      "cell_type": "markdown",
      "metadata": {
        "id": "WYWmXK9WXx_l"
      },
      "source": [
        "**Jumlah klaster yang terbaik adalah 3**<br>\n",
        "Karena menghasilkan nilai Silhoutte Score yang tertinggi yaitu : 0,4197"
      ]
    },
    {
      "cell_type": "code",
      "execution_count": 52,
      "metadata": {
        "id": "PKf3Xv7bm26f",
        "colab": {
          "base_uri": "https://localhost:8080/"
        },
        "outputId": "6ffcef3c-d125-4c85-f14a-1169289a7752"
      },
      "outputs": [
        {
          "output_type": "stream",
          "name": "stderr",
          "text": [
            "<ipython-input-52-c454ba294acd>:1: FutureWarning: The frame.append method is deprecated and will be removed from pandas in a future version. Use pandas.concat instead.\n",
            "  hasil = hasil.append({'Algoritma': 'KPrototypes Numerik', 'Jumlah Klaster': 3, 'Jenis Evaluasi': 'Silhoutte Score', 'Hasil Score': max(scores)}, ignore_index=True)\n"
          ]
        }
      ],
      "source": [
        "hasil = hasil.append({'Algoritma': 'KPrototypes Numerik', 'Jumlah Klaster': 3, 'Jenis Evaluasi': 'Silhoutte Score', 'Hasil Score': max(scores)}, ignore_index=True)"
      ]
    },
    {
      "cell_type": "markdown",
      "metadata": {
        "id": "1NpIU9kkm-4Q"
      },
      "source": [
        "Algoritma **K-Prototypes** Clustering dengan Data Kategorik"
      ]
    },
    {
      "cell_type": "code",
      "execution_count": 53,
      "metadata": {
        "id": "9eShz1oUmmTk",
        "colab": {
          "base_uri": "https://localhost:8080/"
        },
        "outputId": "399e0965-dd7e-49d2-90b2-9546726a820e"
      },
      "outputs": [
        {
          "output_type": "stream",
          "name": "stdout",
          "text": [
            "Jumlah Klaster = 2, Silhouette Score = 0.4030772458971211\n",
            "Jumlah Klaster = 3, Silhouette Score = 0.41973956820871716\n",
            "Jumlah Klaster = 4, Silhouette Score = 0.3250987201512564\n",
            "Jumlah Klaster = 5, Silhouette Score = 0.3202942057999589\n",
            "Jumlah Klaster = 6, Silhouette Score = 0.32462216722409387\n",
            "Jumlah Klaster = 7, Silhouette Score = 0.3269142003182245\n",
            "Jumlah Klaster = 8, Silhouette Score = 0.32879291835292646\n",
            "Jumlah Klaster = 9, Silhouette Score = 0.3228446577152811\n",
            "Jumlah Klaster = 10, Silhouette Score = 0.3179217615851237\n"
          ]
        }
      ],
      "source": [
        "klaster = range(2, 11)\n",
        "scores = []\n",
        "\n",
        "for k in klaster:\n",
        "    # Terapkan algoritma k-prototypes\n",
        "    kprototypes = KPrototypes(n_clusters=k, n_init=50)\n",
        "    member = kprototypes.fit_predict(df_kprototypes, y=None, categorical=indeks_kategorik2)  # Menggunakan indeks kolom kategorikal\n",
        "    \n",
        "    # Hitung Silhouette Score\n",
        "    silhouette_avg = silhouette_score(data_clean, member)\n",
        "    \n",
        "    # Simpan nilai Silhouette Score\n",
        "    scores.append(silhouette_avg)\n",
        "\n",
        "# Menampilkan hasil\n",
        "for k, score in zip(klaster, scores):\n",
        "    print(f\"Jumlah Klaster = {k}, Silhouette Score = {score}\")"
      ]
    },
    {
      "cell_type": "markdown",
      "metadata": {
        "id": "4ViSsH4TmmTr"
      },
      "source": [
        "**Jumlah klaster yang terbaik adalah 3**<br>\n",
        "Karena menghasilkan nilai Silhoutte Score yang tertinggi yaitu : 0,4197"
      ]
    },
    {
      "cell_type": "code",
      "execution_count": 54,
      "metadata": {
        "id": "ZMSk8orPnEDI",
        "colab": {
          "base_uri": "https://localhost:8080/"
        },
        "outputId": "7e7f4936-51a4-4654-ef9e-55661b55874f"
      },
      "outputs": [
        {
          "output_type": "stream",
          "name": "stderr",
          "text": [
            "<ipython-input-54-ae8c0d45e9c0>:1: FutureWarning: The frame.append method is deprecated and will be removed from pandas in a future version. Use pandas.concat instead.\n",
            "  hasil = hasil.append({'Algoritma': 'KPrototypes Kategorik', 'Jumlah Klaster': 3, 'Jenis Evaluasi': 'Silhoutte Score', 'Hasil Score': max(scores)}, ignore_index=True)\n"
          ]
        }
      ],
      "source": [
        "hasil = hasil.append({'Algoritma': 'KPrototypes Kategorik', 'Jumlah Klaster': 3, 'Jenis Evaluasi': 'Silhoutte Score', 'Hasil Score': max(scores)}, ignore_index=True)"
      ]
    },
    {
      "cell_type": "markdown",
      "metadata": {
        "id": "E7P0qpqJZg0u"
      },
      "source": [
        "Algoritma **Agglomerative Clustering**"
      ]
    },
    {
      "cell_type": "code",
      "execution_count": 55,
      "metadata": {
        "id": "NudJFIon6hdq",
        "colab": {
          "base_uri": "https://localhost:8080/"
        },
        "outputId": "adb00f89-acd3-4bbb-bcc9-d25bc8dcb3a5"
      },
      "outputs": [
        {
          "output_type": "stream",
          "name": "stdout",
          "text": [
            "Jumlah Klaster = 2, Silhouette Score = 0.4063198351034115\n",
            "Jumlah Klaster = 3, Silhouette Score = 0.41170968380774225\n",
            "Jumlah Klaster = 4, Silhouette Score = 0.28571777517973374\n",
            "Jumlah Klaster = 5, Silhouette Score = 0.2644132508788837\n",
            "Jumlah Klaster = 6, Silhouette Score = 0.26830864817582767\n",
            "Jumlah Klaster = 7, Silhouette Score = 0.2682529317782905\n",
            "Jumlah Klaster = 8, Silhouette Score = 0.2745914702787744\n",
            "Jumlah Klaster = 9, Silhouette Score = 0.29113411738167894\n",
            "Jumlah Klaster = 10, Silhouette Score = 0.28369242375844855\n"
          ]
        }
      ],
      "source": [
        "klaster = range(2, 11)\n",
        "scores = []\n",
        "\n",
        "for k in klaster:\n",
        "    # Terapkan algoritma k-prototypes\n",
        "    agglomerative = AgglomerativeClustering(n_clusters=k, linkage='ward')\n",
        "    member = agglomerative.fit_predict(data_clean, y=None) \n",
        "\n",
        "    # Hitung Silhouette Score\n",
        "    silhouette_avg = silhouette_score(data_clean, member)\n",
        "    \n",
        "    # Simpan nilai Silhouette Score\n",
        "    scores.append(silhouette_avg)\n",
        "\n",
        "# Menampilkan hasil\n",
        "for k, score in zip(klaster, scores):\n",
        "    print(f\"Jumlah Klaster = {k}, Silhouette Score = {score}\")"
      ]
    },
    {
      "cell_type": "markdown",
      "metadata": {
        "id": "YAk_HFfiX2nu"
      },
      "source": [
        "**Jumlah klaster yang terbaik adalah 3**<br>\n",
        "Karena menghasilkan nilai Silhoutte Score yang tertinggi yaitu : 0,4117"
      ]
    },
    {
      "cell_type": "code",
      "execution_count": 56,
      "metadata": {
        "id": "qneG69MVnJg3",
        "colab": {
          "base_uri": "https://localhost:8080/"
        },
        "outputId": "fafac06f-b2c7-4fab-8c2b-b8b229add339"
      },
      "outputs": [
        {
          "output_type": "stream",
          "name": "stderr",
          "text": [
            "<ipython-input-56-b564e9d837ca>:1: FutureWarning: The frame.append method is deprecated and will be removed from pandas in a future version. Use pandas.concat instead.\n",
            "  hasil = hasil.append({'Algoritma': 'AgglomerativeClustering', 'Jumlah Klaster': 3, 'Jenis Evaluasi': 'Silhoutte Score', 'Hasil Score': max(scores)}, ignore_index=True)\n"
          ]
        }
      ],
      "source": [
        "hasil = hasil.append({'Algoritma': 'AgglomerativeClustering', 'Jumlah Klaster': 3, 'Jenis Evaluasi': 'Silhoutte Score', 'Hasil Score': max(scores)}, ignore_index=True)"
      ]
    },
    {
      "cell_type": "markdown",
      "metadata": {
        "id": "a92I8R9oT8zK"
      },
      "source": [
        "#### Menggunakan **CH Index Score**"
      ]
    },
    {
      "cell_type": "markdown",
      "metadata": {
        "id": "X84hC7En3kPJ"
      },
      "source": [
        "**Semakin tinggi** nilai CH Index, **Semakin baik** hasil klasteringnya"
      ]
    },
    {
      "cell_type": "markdown",
      "metadata": {
        "id": "ZGs-A_RSZn1J"
      },
      "source": [
        "Algoritma **K-Means** Clustering"
      ]
    },
    {
      "cell_type": "code",
      "execution_count": 57,
      "metadata": {
        "id": "-kCkfLjGELQF",
        "colab": {
          "base_uri": "https://localhost:8080/"
        },
        "outputId": "69175f7c-8078-4241-d754-5d2504b1b0c7"
      },
      "outputs": [
        {
          "output_type": "stream",
          "name": "stdout",
          "text": [
            "Jumlah Klaster = 2, CH Index Score = 534.9249992950307\n",
            "Jumlah Klaster = 3, CH Index Score = 804.6475299308156\n",
            "Jumlah Klaster = 4, CH Index Score = 734.6064274908887\n",
            "Jumlah Klaster = 5, CH Index Score = 707.2670099499118\n",
            "Jumlah Klaster = 6, CH Index Score = 702.5874557986047\n",
            "Jumlah Klaster = 7, CH Index Score = 697.7359249665636\n",
            "Jumlah Klaster = 8, CH Index Score = 695.0130452270536\n",
            "Jumlah Klaster = 9, CH Index Score = 699.2236648311094\n",
            "Jumlah Klaster = 10, CH Index Score = 697.5229050592723\n"
          ]
        }
      ],
      "source": [
        "klaster = range(2, 11)\n",
        "scores = []\n",
        "\n",
        "for k in klaster:\n",
        "    # Terapkan algoritma k-prototypes\n",
        "    kmeans = KMeans(n_clusters=k, random_state=42, n_init=50)\n",
        "    member = kmeans.fit_predict(data_clean, y=None) \n",
        "\n",
        "    # Hitung CH Index\n",
        "    ch_score = calinski_harabasz_score(data_clean, member)\n",
        "\n",
        "    # Simpan nilai CH Index\n",
        "    scores.append(ch_score)\n",
        "\n",
        "# Menampilkan hasil\n",
        "for k, score in zip(klaster, scores):\n",
        "    print(f\"Jumlah Klaster = {k}, CH Index Score = {score}\")"
      ]
    },
    {
      "cell_type": "markdown",
      "metadata": {
        "id": "y0pnCqeNYBGO"
      },
      "source": [
        "**Jumlah klaster yang terbaik adalah 3**<br>\n",
        "Karena menghasilkan nilai CH Index yang tertinggi yaitu : 804,6475"
      ]
    },
    {
      "cell_type": "code",
      "execution_count": 58,
      "metadata": {
        "id": "NnrU_vpynPSn",
        "colab": {
          "base_uri": "https://localhost:8080/"
        },
        "outputId": "6fdd0d14-3df0-47d8-ce8f-387551d5c1de"
      },
      "outputs": [
        {
          "output_type": "stream",
          "name": "stderr",
          "text": [
            "<ipython-input-58-afb325c0628b>:1: FutureWarning: The frame.append method is deprecated and will be removed from pandas in a future version. Use pandas.concat instead.\n",
            "  hasil = hasil.append({'Algoritma': 'KMeans', 'Jumlah Klaster': 3, 'Jenis Evaluasi': 'CH Index Score', 'Hasil Score': max(scores)}, ignore_index=True)\n"
          ]
        }
      ],
      "source": [
        "hasil = hasil.append({'Algoritma': 'KMeans', 'Jumlah Klaster': 3, 'Jenis Evaluasi': 'CH Index Score', 'Hasil Score': max(scores)}, ignore_index=True)"
      ]
    },
    {
      "cell_type": "markdown",
      "metadata": {
        "id": "YL8HP2obZq5O"
      },
      "source": [
        "Algoritma **K-Prototypes** Clustering dengan Data Numerik"
      ]
    },
    {
      "cell_type": "code",
      "execution_count": 59,
      "metadata": {
        "id": "WSYUM5C-x7FZ",
        "colab": {
          "base_uri": "https://localhost:8080/"
        },
        "outputId": "8a6d3a34-a68b-49d6-f879-68b5e4b2cf42"
      },
      "outputs": [
        {
          "output_type": "stream",
          "name": "stdout",
          "text": [
            "Jumlah Klaster = 2, CH Index Score = 534.9249992950307\n",
            "Jumlah Klaster = 3, CH Index Score = 804.6402095388436\n",
            "Jumlah Klaster = 4, CH Index Score = 734.6064274908888\n",
            "Jumlah Klaster = 5, CH Index Score = 706.7213898756281\n",
            "Jumlah Klaster = 6, CH Index Score = 702.5288964067429\n",
            "Jumlah Klaster = 7, CH Index Score = 697.7359249665637\n",
            "Jumlah Klaster = 8, CH Index Score = 696.5974080315739\n",
            "Jumlah Klaster = 9, CH Index Score = 698.8151039924587\n",
            "Jumlah Klaster = 10, CH Index Score = 696.5994813552429\n"
          ]
        }
      ],
      "source": [
        "klaster = range(2, 11)\n",
        "scores = []\n",
        "\n",
        "for k in klaster:\n",
        "    # Terapkan algoritma k-prototypes\n",
        "    kprototypes = KPrototypes(n_clusters=k, n_init=50)\n",
        "    member = kprototypes.fit_predict(data_clean, y=None, categorical=indeks_kategorik)  # Menggunakan indeks kolom kategorikal\n",
        "\n",
        "    # Hitung CH Index\n",
        "    ch_score = calinski_harabasz_score(data_clean, member)\n",
        "\n",
        "    # Simpan nilai CH Index\n",
        "    scores.append(ch_score)\n",
        "\n",
        "# Menampilkan hasil\n",
        "for k, score in zip(klaster, scores):\n",
        "    print(f\"Jumlah Klaster = {k}, CH Index Score = {score}\")"
      ]
    },
    {
      "cell_type": "markdown",
      "metadata": {
        "id": "gaGqDsNjYIPl"
      },
      "source": [
        "**Jumlah klaster yang terbaik adalah 3**<br>\n",
        "Karena menghasilkan nilai CH Index yang tertinggi yaitu : 804,6402"
      ]
    },
    {
      "cell_type": "code",
      "execution_count": 60,
      "metadata": {
        "id": "9M68ND9qnaJ_",
        "colab": {
          "base_uri": "https://localhost:8080/"
        },
        "outputId": "c6a980d8-9be3-43b1-f792-339584b5e37e"
      },
      "outputs": [
        {
          "metadata": {
            "tags": null
          },
          "name": "stderr",
          "output_type": "stream",
          "text": [
            "<ipython-input-60-fbba00fd4802>:1: FutureWarning: The frame.append method is deprecated and will be removed from pandas in a future version. Use pandas.concat instead.\n",
            "  hasil = hasil.append({'Algoritma': 'KPrototypes Numerik', 'Jumlah Klaster': 3, 'Jenis Evaluasi': 'CH Index Score', 'Hasil Score': max(scores)}, ignore_index=True)\n"
          ]
        }
      ],
      "source": [
        "hasil = hasil.append({'Algoritma': 'KPrototypes Numerik', 'Jumlah Klaster': 3, 'Jenis Evaluasi': 'CH Index Score', 'Hasil Score': max(scores)}, ignore_index=True)"
      ]
    },
    {
      "cell_type": "markdown",
      "metadata": {
        "id": "aYfgrRbfnfK7"
      },
      "source": [
        "Algoritma **K-Prototypes** Clustering dengan Data Kategorik"
      ]
    },
    {
      "cell_type": "code",
      "execution_count": 61,
      "metadata": {
        "id": "CciY0rAKnhwj",
        "colab": {
          "base_uri": "https://localhost:8080/"
        },
        "outputId": "ec6fda3d-25bc-47e1-9231-05c381f4895b"
      },
      "outputs": [
        {
          "output_type": "stream",
          "name": "stdout",
          "text": [
            "Jumlah Klaster = 2, CH Index Score = 534.9249992950307\n",
            "Jumlah Klaster = 3, CH Index Score = 804.6402095388437\n",
            "Jumlah Klaster = 4, CH Index Score = 734.6064274908888\n",
            "Jumlah Klaster = 5, CH Index Score = 707.1472113555229\n",
            "Jumlah Klaster = 6, CH Index Score = 702.5288964067429\n",
            "Jumlah Klaster = 7, CH Index Score = 697.7359249665639\n",
            "Jumlah Klaster = 8, CH Index Score = 696.6095664178434\n",
            "Jumlah Klaster = 9, CH Index Score = 698.0389741843509\n",
            "Jumlah Klaster = 10, CH Index Score = 695.9223931597662\n"
          ]
        }
      ],
      "source": [
        "klaster = range(2, 11)\n",
        "scores = []\n",
        "\n",
        "for k in klaster:\n",
        "    # Terapkan algoritma k-prototypes\n",
        "    kprototypes = KPrototypes(n_clusters=k, n_init=50)\n",
        "    member = kprototypes.fit_predict(df_kprototypes, y=None, categorical=indeks_kategorik2)  # Menggunakan indeks kolom kategorikal\n",
        "\n",
        "    # Hitung CH Index\n",
        "    ch_score = calinski_harabasz_score(data_clean, member)\n",
        "\n",
        "    # Simpan nilai CH Index\n",
        "    scores.append(ch_score)\n",
        "\n",
        "# Menampilkan hasil\n",
        "for k, score in zip(klaster, scores):\n",
        "    print(f\"Jumlah Klaster = {k}, CH Index Score = {score}\")"
      ]
    },
    {
      "cell_type": "markdown",
      "metadata": {
        "id": "eCTkZFa8nhwq"
      },
      "source": [
        "**Jumlah klaster yang terbaik adalah 3**<br>\n",
        "Karena menghasilkan nilai CH Index yang tertinggi yaitu : 804.6402"
      ]
    },
    {
      "cell_type": "code",
      "execution_count": null,
      "metadata": {
        "id": "TNpzG12jnlQz"
      },
      "outputs": [],
      "source": [
        "hasil = hasil.append({'Algoritma': 'KPrototypes Kategorik', 'Jumlah Klaster': 3, 'Jenis Evaluasi': 'CH Index Score', 'Hasil Score': max(scores)}, ignore_index=True)"
      ]
    },
    {
      "cell_type": "markdown",
      "metadata": {
        "id": "jo8ucfshZmtI"
      },
      "source": [
        "Algoritma **Agglomerative Clustering**"
      ]
    },
    {
      "cell_type": "code",
      "execution_count": 69,
      "metadata": {
        "id": "mbyuRUTv9pPZ",
        "colab": {
          "base_uri": "https://localhost:8080/"
        },
        "outputId": "ca644455-effc-4605-ec3e-4572de6e4078"
      },
      "outputs": [
        {
          "output_type": "stream",
          "name": "stdout",
          "text": [
            "Jumlah Klaster = 2, CH Index Score = 515.2406000015084\n",
            "Jumlah Klaster = 3, CH Index Score = 763.9532553943064\n",
            "Jumlah Klaster = 4, CH Index Score = 672.5999390789182\n",
            "Jumlah Klaster = 5, CH Index Score = 605.1759708088218\n",
            "Jumlah Klaster = 6, CH Index Score = 584.0275403482173\n",
            "Jumlah Klaster = 7, CH Index Score = 570.1539031648558\n",
            "Jumlah Klaster = 8, CH Index Score = 580.1088311313315\n",
            "Jumlah Klaster = 9, CH Index Score = 591.0836343589148\n",
            "Jumlah Klaster = 10, CH Index Score = 601.8040980122038\n"
          ]
        }
      ],
      "source": [
        "klaster = range(2, 11)\n",
        "scores = []\n",
        "\n",
        "for k in klaster:\n",
        "    # Terapkan algoritma k-prototypes\n",
        "    agglomerative = AgglomerativeClustering(n_clusters=k, linkage='ward')\n",
        "    member = agglomerative.fit_predict(data_clean, y=None) \n",
        "\n",
        "    # Hitung CH Index\n",
        "    ch_score = calinski_harabasz_score(data_clean, member)\n",
        "\n",
        "    # Simpan nilai CH Index\n",
        "    scores.append(ch_score)\n",
        "\n",
        "# Menampilkan hasil\n",
        "for k, score in zip(klaster, scores):\n",
        "    print(f\"Jumlah Klaster = {k}, CH Index Score = {score}\")"
      ]
    },
    {
      "cell_type": "markdown",
      "metadata": {
        "id": "zNSk3tiHYNAV"
      },
      "source": [
        "**Jumlah klaster yang terbaik adalah 3**<br>\n",
        "Karena menghasilkan nilai CH Index yang tertinggi yaitu : 763,9533"
      ]
    },
    {
      "cell_type": "code",
      "execution_count": 64,
      "metadata": {
        "id": "rzSxUg05nv4Y",
        "colab": {
          "base_uri": "https://localhost:8080/"
        },
        "outputId": "7b30bc9d-a431-4d3c-e98f-9ae6843792cd"
      },
      "outputs": [
        {
          "output_type": "stream",
          "name": "stderr",
          "text": [
            "<ipython-input-64-7d5c27f00378>:1: FutureWarning: The frame.append method is deprecated and will be removed from pandas in a future version. Use pandas.concat instead.\n",
            "  hasil = hasil.append({'Algoritma': 'AgglomerativeClustering', 'Jumlah Klaster': 3, 'Jenis Evaluasi': 'CH Index Score', 'Hasil Score': max(scores)}, ignore_index=True)\n"
          ]
        }
      ],
      "source": [
        "hasil = hasil.append({'Algoritma': 'AgglomerativeClustering', 'Jumlah Klaster': 3, 'Jenis Evaluasi': 'CH Index Score', 'Hasil Score': max(scores)}, ignore_index=True)"
      ]
    },
    {
      "cell_type": "markdown",
      "metadata": {
        "id": "PXkLCIxLn1de"
      },
      "source": [
        "### Mencari Linkage pada **Algoritma AgglomerativeClustering**"
      ]
    },
    {
      "cell_type": "markdown",
      "source": [
        "Menggunakan nilai cluster sebesar 3"
      ],
      "metadata": {
        "id": "fbBfFN4JtJBk"
      }
    },
    {
      "cell_type": "markdown",
      "source": [
        "#### Menggunakan **CH Index Score**"
      ],
      "metadata": {
        "id": "rtJelFros6Ph"
      }
    },
    {
      "cell_type": "code",
      "execution_count": 65,
      "metadata": {
        "id": "ttdbDKuC91Or",
        "colab": {
          "base_uri": "https://localhost:8080/"
        },
        "outputId": "cebc1e3f-c859-4393-9ca0-8f64d25b311d"
      },
      "outputs": [
        {
          "output_type": "stream",
          "name": "stdout",
          "text": [
            "Linkage = ward, CH Index Score = 763.9532553943064\n",
            "Linkage = single, CH Index Score = 7.268772316350729\n",
            "Linkage = complete, CH Index Score = 240.62209417017695\n"
          ]
        }
      ],
      "source": [
        "linkage = ['ward', 'single', 'complete']\n",
        "scores = []\n",
        "\n",
        "for i in linkage:\n",
        "    # Terapkan algoritma k-prototypes\n",
        "    agglomerative = AgglomerativeClustering(n_clusters=3, linkage=i)\n",
        "    member = agglomerative.fit_predict(data_clean, y=None) \n",
        "\n",
        "    # Hitung CH Index\n",
        "    ch_score = calinski_harabasz_score(data_clean, member)\n",
        "\n",
        "    # Simpan nilai CH Index\n",
        "    scores.append(ch_score)\n",
        "\n",
        "# Menampilkan hasil\n",
        "for i, score in zip(linkage, scores):\n",
        "    print(f\"Linkage = {i}, CH Index Score = {score}\")\n"
      ]
    },
    {
      "cell_type": "markdown",
      "source": [
        "Linkage yang terbaik adalah **ward**, karena menghasilkan nilai CH Index Score sebesar 763,9532"
      ],
      "metadata": {
        "id": "5-kbCRCassUC"
      }
    },
    {
      "cell_type": "markdown",
      "source": [
        "#### Menggunakan **Silhoutte Score**"
      ],
      "metadata": {
        "id": "9dTUYimhs_ZS"
      }
    },
    {
      "cell_type": "code",
      "execution_count": 66,
      "metadata": {
        "id": "mCAy9-Nbn9f_",
        "colab": {
          "base_uri": "https://localhost:8080/"
        },
        "outputId": "d2c5187e-ee4e-4ca1-ea66-47ef102ce2cd"
      },
      "outputs": [
        {
          "output_type": "stream",
          "name": "stdout",
          "text": [
            "Linkage = ward, Silhoutte Score = 0.41170968380774225\n",
            "Linkage = single, Silhoutte Score = 0.40346395610044467\n",
            "Linkage = complete, Silhoutte Score = 0.3619517429468341\n"
          ]
        }
      ],
      "source": [
        "linkage = ['ward', 'single', 'complete']\n",
        "scores = []\n",
        "\n",
        "for i in linkage:\n",
        "    # Terapkan algoritma k-prototypes\n",
        "    agglomerative = AgglomerativeClustering(n_clusters=3, linkage=i)\n",
        "    member = agglomerative.fit_predict(data_clean, y=None) \n",
        "\n",
        "   # Hitung Silhouette Score\n",
        "    silhouette_avg = silhouette_score(data_clean, member)\n",
        "    \n",
        "    # Simpan nilai Silhouette Score\n",
        "    scores.append(silhouette_avg)\n",
        "\n",
        "# Menampilkan hasil\n",
        "for i, score in zip(linkage, scores):\n",
        "    print(f\"Linkage = {i}, Silhoutte Score = {score}\")\n"
      ]
    },
    {
      "cell_type": "markdown",
      "source": [
        "Linkage yang terbaik adalah **ward**, karena menghasilkan nilai Sillhoutte Score sebesar 0,4117"
      ],
      "metadata": {
        "id": "DqE3hpS7sje6"
      }
    },
    {
      "cell_type": "markdown",
      "source": [
        "# Kesimpulan"
      ],
      "metadata": {
        "id": "1VCBO6TItgO-"
      }
    },
    {
      "cell_type": "markdown",
      "source": [
        "Berikut merupakan Hasil Evaluasi serta jumlah klaster terbaik yang digunakan pada setiap Algoritma"
      ],
      "metadata": {
        "id": "nKHx0KpJthxY"
      }
    },
    {
      "cell_type": "code",
      "source": [
        "hasil"
      ],
      "metadata": {
        "colab": {
          "base_uri": "https://localhost:8080/",
          "height": 300
        },
        "id": "fkwx7HlpsrTc",
        "outputId": "e7d7315e-7d32-41f0-dc4a-f893faad6bf8"
      },
      "execution_count": 68,
      "outputs": [
        {
          "output_type": "execute_result",
          "data": {
            "text/plain": [
              "                 Algoritma Jumlah Klaster   Jenis Evaluasi  Hasil Score\n",
              "0                   KMeans              3  Silhoutte Score     0.419869\n",
              "1      KPrototypes Numerik              3  Silhoutte Score     0.419740\n",
              "2    KPrototypes Kategorik              3  Silhoutte Score     0.419740\n",
              "3  AgglomerativeClustering              3  Silhoutte Score     0.411710\n",
              "4                   KMeans              3   CH Index Score   804.647530\n",
              "5      KPrototypes Numerik              3   CH Index Score   804.640210\n",
              "6    KPrototypes Kategorik              3   CH Index Score   804.640210\n",
              "7  AgglomerativeClustering              3   CH Index Score   763.953255"
            ],
            "text/html": [
              "\n",
              "  <div id=\"df-eeb4c3d9-1fcf-4601-b90d-187f107967da\">\n",
              "    <div class=\"colab-df-container\">\n",
              "      <div>\n",
              "<style scoped>\n",
              "    .dataframe tbody tr th:only-of-type {\n",
              "        vertical-align: middle;\n",
              "    }\n",
              "\n",
              "    .dataframe tbody tr th {\n",
              "        vertical-align: top;\n",
              "    }\n",
              "\n",
              "    .dataframe thead th {\n",
              "        text-align: right;\n",
              "    }\n",
              "</style>\n",
              "<table border=\"1\" class=\"dataframe\">\n",
              "  <thead>\n",
              "    <tr style=\"text-align: right;\">\n",
              "      <th></th>\n",
              "      <th>Algoritma</th>\n",
              "      <th>Jumlah Klaster</th>\n",
              "      <th>Jenis Evaluasi</th>\n",
              "      <th>Hasil Score</th>\n",
              "    </tr>\n",
              "  </thead>\n",
              "  <tbody>\n",
              "    <tr>\n",
              "      <th>0</th>\n",
              "      <td>KMeans</td>\n",
              "      <td>3</td>\n",
              "      <td>Silhoutte Score</td>\n",
              "      <td>0.419869</td>\n",
              "    </tr>\n",
              "    <tr>\n",
              "      <th>1</th>\n",
              "      <td>KPrototypes Numerik</td>\n",
              "      <td>3</td>\n",
              "      <td>Silhoutte Score</td>\n",
              "      <td>0.419740</td>\n",
              "    </tr>\n",
              "    <tr>\n",
              "      <th>2</th>\n",
              "      <td>KPrototypes Kategorik</td>\n",
              "      <td>3</td>\n",
              "      <td>Silhoutte Score</td>\n",
              "      <td>0.419740</td>\n",
              "    </tr>\n",
              "    <tr>\n",
              "      <th>3</th>\n",
              "      <td>AgglomerativeClustering</td>\n",
              "      <td>3</td>\n",
              "      <td>Silhoutte Score</td>\n",
              "      <td>0.411710</td>\n",
              "    </tr>\n",
              "    <tr>\n",
              "      <th>4</th>\n",
              "      <td>KMeans</td>\n",
              "      <td>3</td>\n",
              "      <td>CH Index Score</td>\n",
              "      <td>804.647530</td>\n",
              "    </tr>\n",
              "    <tr>\n",
              "      <th>5</th>\n",
              "      <td>KPrototypes Numerik</td>\n",
              "      <td>3</td>\n",
              "      <td>CH Index Score</td>\n",
              "      <td>804.640210</td>\n",
              "    </tr>\n",
              "    <tr>\n",
              "      <th>6</th>\n",
              "      <td>KPrototypes Kategorik</td>\n",
              "      <td>3</td>\n",
              "      <td>CH Index Score</td>\n",
              "      <td>804.640210</td>\n",
              "    </tr>\n",
              "    <tr>\n",
              "      <th>7</th>\n",
              "      <td>AgglomerativeClustering</td>\n",
              "      <td>3</td>\n",
              "      <td>CH Index Score</td>\n",
              "      <td>763.953255</td>\n",
              "    </tr>\n",
              "  </tbody>\n",
              "</table>\n",
              "</div>\n",
              "      <button class=\"colab-df-convert\" onclick=\"convertToInteractive('df-eeb4c3d9-1fcf-4601-b90d-187f107967da')\"\n",
              "              title=\"Convert this dataframe to an interactive table.\"\n",
              "              style=\"display:none;\">\n",
              "        \n",
              "  <svg xmlns=\"http://www.w3.org/2000/svg\" height=\"24px\"viewBox=\"0 0 24 24\"\n",
              "       width=\"24px\">\n",
              "    <path d=\"M0 0h24v24H0V0z\" fill=\"none\"/>\n",
              "    <path d=\"M18.56 5.44l.94 2.06.94-2.06 2.06-.94-2.06-.94-.94-2.06-.94 2.06-2.06.94zm-11 1L8.5 8.5l.94-2.06 2.06-.94-2.06-.94L8.5 2.5l-.94 2.06-2.06.94zm10 10l.94 2.06.94-2.06 2.06-.94-2.06-.94-.94-2.06-.94 2.06-2.06.94z\"/><path d=\"M17.41 7.96l-1.37-1.37c-.4-.4-.92-.59-1.43-.59-.52 0-1.04.2-1.43.59L10.3 9.45l-7.72 7.72c-.78.78-.78 2.05 0 2.83L4 21.41c.39.39.9.59 1.41.59.51 0 1.02-.2 1.41-.59l7.78-7.78 2.81-2.81c.8-.78.8-2.07 0-2.86zM5.41 20L4 18.59l7.72-7.72 1.47 1.35L5.41 20z\"/>\n",
              "  </svg>\n",
              "      </button>\n",
              "      \n",
              "  <style>\n",
              "    .colab-df-container {\n",
              "      display:flex;\n",
              "      flex-wrap:wrap;\n",
              "      gap: 12px;\n",
              "    }\n",
              "\n",
              "    .colab-df-convert {\n",
              "      background-color: #E8F0FE;\n",
              "      border: none;\n",
              "      border-radius: 50%;\n",
              "      cursor: pointer;\n",
              "      display: none;\n",
              "      fill: #1967D2;\n",
              "      height: 32px;\n",
              "      padding: 0 0 0 0;\n",
              "      width: 32px;\n",
              "    }\n",
              "\n",
              "    .colab-df-convert:hover {\n",
              "      background-color: #E2EBFA;\n",
              "      box-shadow: 0px 1px 2px rgba(60, 64, 67, 0.3), 0px 1px 3px 1px rgba(60, 64, 67, 0.15);\n",
              "      fill: #174EA6;\n",
              "    }\n",
              "\n",
              "    [theme=dark] .colab-df-convert {\n",
              "      background-color: #3B4455;\n",
              "      fill: #D2E3FC;\n",
              "    }\n",
              "\n",
              "    [theme=dark] .colab-df-convert:hover {\n",
              "      background-color: #434B5C;\n",
              "      box-shadow: 0px 1px 3px 1px rgba(0, 0, 0, 0.15);\n",
              "      filter: drop-shadow(0px 1px 2px rgba(0, 0, 0, 0.3));\n",
              "      fill: #FFFFFF;\n",
              "    }\n",
              "  </style>\n",
              "\n",
              "      <script>\n",
              "        const buttonEl =\n",
              "          document.querySelector('#df-eeb4c3d9-1fcf-4601-b90d-187f107967da button.colab-df-convert');\n",
              "        buttonEl.style.display =\n",
              "          google.colab.kernel.accessAllowed ? 'block' : 'none';\n",
              "\n",
              "        async function convertToInteractive(key) {\n",
              "          const element = document.querySelector('#df-eeb4c3d9-1fcf-4601-b90d-187f107967da');\n",
              "          const dataTable =\n",
              "            await google.colab.kernel.invokeFunction('convertToInteractive',\n",
              "                                                     [key], {});\n",
              "          if (!dataTable) return;\n",
              "\n",
              "          const docLinkHtml = 'Like what you see? Visit the ' +\n",
              "            '<a target=\"_blank\" href=https://colab.research.google.com/notebooks/data_table.ipynb>data table notebook</a>'\n",
              "            + ' to learn more about interactive tables.';\n",
              "          element.innerHTML = '';\n",
              "          dataTable['output_type'] = 'display_data';\n",
              "          await google.colab.output.renderOutput(dataTable, element);\n",
              "          const docLink = document.createElement('div');\n",
              "          docLink.innerHTML = docLinkHtml;\n",
              "          element.appendChild(docLink);\n",
              "        }\n",
              "      </script>\n",
              "    </div>\n",
              "  </div>\n",
              "  "
            ]
          },
          "metadata": {},
          "execution_count": 68
        }
      ]
    },
    {
      "cell_type": "markdown",
      "source": [
        "Jumlah Cluster yang digunakan yaitu **3 Cluster** berdasarkan hasil dari Evaluasi Silhoutte Score dan CH Index Score<br>\n",
        "Jenis Linkage yang digunakan pada Algoritma AgglomerativeClustering yaitu **ward**"
      ],
      "metadata": {
        "id": "lvMoOcQfbKlQ"
      }
    }
  ],
  "metadata": {
    "colab": {
      "provenance": [],
      "gpuType": "T4",
      "authorship_tag": "ABX9TyPbnq9HAXEdUdn87dA1pZck",
      "include_colab_link": true
    },
    "kernelspec": {
      "display_name": "Python 3",
      "name": "python3"
    },
    "language_info": {
      "name": "python"
    },
    "gpuClass": "standard"
  },
  "nbformat": 4,
  "nbformat_minor": 0
}
